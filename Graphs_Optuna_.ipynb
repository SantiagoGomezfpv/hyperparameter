{
  "nbformat": 4,
  "nbformat_minor": 0,
  "metadata": {
    "colab": {
      "provenance": [],
      "gpuType": "T4",
      "authorship_tag": "ABX9TyO8zUJvsGOiRVNaCLlqAgHt",
      "include_colab_link": true
    },
    "kernelspec": {
      "name": "python3",
      "display_name": "Python 3"
    },
    "language_info": {
      "name": "python"
    },
    "accelerator": "GPU"
  },
  "cells": [
    {
      "cell_type": "markdown",
      "metadata": {
        "id": "view-in-github",
        "colab_type": "text"
      },
      "source": [
        "<a href=\"https://colab.research.google.com/github/SantiagoGomezfpv/hyperparameter/blob/main/Graphs_Optuna_.ipynb\" target=\"_parent\"><img src=\"https://colab.research.google.com/assets/colab-badge.svg\" alt=\"Open In Colab\"/></a>"
      ]
    },
    {
      "cell_type": "markdown",
      "source": [
        "# Optuna Graphs\n",
        "Este notebook de Colab está diseñado para entrenar y optimizar un modelo de red neuronal de grafos (GCN) utilizando el conjunto de datos Cora. Usaremos la biblioteca Optuna para encontrar la mejor configuración de hiperparámetros para nuestro modelo. A continuación se explica cada parte del código.\n",
        "\n"
      ],
      "metadata": {
        "id": "vdHJ6L8mvo4H"
      }
    },
    {
      "cell_type": "markdown",
      "source": [
        "## Instalación de Librerías\n",
        "Para empezar, debemos instalar algunas librerías adicionales necesarias para trabajar con PyTorch Geometric y Optuna.\n",
        "\n",
        "La instalación se realiza siguiendo las instrucciones y codigo proporcionadas en este [enlace](https://gist.github.com/ameya98/b193856171d11d37ada46458f60e73e7?permalink_comment_id=3674777).\n",
        "\n"
      ],
      "metadata": {
        "id": "IXlATCPSv-74"
      }
    },
    {
      "cell_type": "code",
      "execution_count": 3,
      "metadata": {
        "colab": {
          "base_uri": "https://localhost:8080/"
        },
        "id": "Mcuq72KZvmYf",
        "outputId": "e25ba579-c798-4ac3-ac56-319e8fe7b050"
      },
      "outputs": [
        {
          "output_type": "stream",
          "name": "stdout",
          "text": [
            "Requirement already satisfied: optuna in /usr/local/lib/python3.10/dist-packages (3.6.1)\n",
            "Requirement already satisfied: alembic>=1.5.0 in /usr/local/lib/python3.10/dist-packages (from optuna) (1.13.2)\n",
            "Requirement already satisfied: colorlog in /usr/local/lib/python3.10/dist-packages (from optuna) (6.8.2)\n",
            "Requirement already satisfied: numpy in /usr/local/lib/python3.10/dist-packages (from optuna) (1.25.2)\n",
            "Requirement already satisfied: packaging>=20.0 in /usr/local/lib/python3.10/dist-packages (from optuna) (24.1)\n",
            "Requirement already satisfied: sqlalchemy>=1.3.0 in /usr/local/lib/python3.10/dist-packages (from optuna) (2.0.31)\n",
            "Requirement already satisfied: tqdm in /usr/local/lib/python3.10/dist-packages (from optuna) (4.66.4)\n",
            "Requirement already satisfied: PyYAML in /usr/local/lib/python3.10/dist-packages (from optuna) (6.0.1)\n",
            "Requirement already satisfied: Mako in /usr/local/lib/python3.10/dist-packages (from alembic>=1.5.0->optuna) (1.3.5)\n",
            "Requirement already satisfied: typing-extensions>=4 in /usr/local/lib/python3.10/dist-packages (from alembic>=1.5.0->optuna) (4.12.2)\n",
            "Requirement already satisfied: greenlet!=0.4.17 in /usr/local/lib/python3.10/dist-packages (from sqlalchemy>=1.3.0->optuna) (3.0.3)\n",
            "Requirement already satisfied: MarkupSafe>=0.9.2 in /usr/local/lib/python3.10/dist-packages (from Mako->alembic>=1.5.0->optuna) (2.1.5)\n",
            "Looking in links: https://pytorch-geometric.com/whl/torch-2.3.0+cu121.html\n",
            "Collecting torch-scatter\n",
            "  Downloading https://data.pyg.org/whl/torch-2.3.0%2Bcu121/torch_scatter-2.1.2%2Bpt23cu121-cp310-cp310-linux_x86_64.whl (10.9 MB)\n",
            "\u001b[2K     \u001b[90m━━━━━━━━━━━━━━━━━━━━━━━━━━━━━━━━━━━━━━━━\u001b[0m \u001b[32m10.9/10.9 MB\u001b[0m \u001b[31m94.5 MB/s\u001b[0m eta \u001b[36m0:00:00\u001b[0m\n",
            "\u001b[?25hInstalling collected packages: torch-scatter\n",
            "Successfully installed torch-scatter-2.1.2+pt23cu121\n",
            "Looking in links: https://pytorch-geometric.com/whl/torch-2.3.0+cu121.html\n",
            "Collecting torch-sparse\n",
            "  Downloading https://data.pyg.org/whl/torch-2.3.0%2Bcu121/torch_sparse-0.6.18%2Bpt23cu121-cp310-cp310-linux_x86_64.whl (5.1 MB)\n",
            "\u001b[2K     \u001b[90m━━━━━━━━━━━━━━━━━━━━━━━━━━━━━━━━━━━━━━━━\u001b[0m \u001b[32m5.1/5.1 MB\u001b[0m \u001b[31m46.6 MB/s\u001b[0m eta \u001b[36m0:00:00\u001b[0m\n",
            "\u001b[?25hRequirement already satisfied: scipy in /usr/local/lib/python3.10/dist-packages (from torch-sparse) (1.11.4)\n",
            "Requirement already satisfied: numpy<1.28.0,>=1.21.6 in /usr/local/lib/python3.10/dist-packages (from scipy->torch-sparse) (1.25.2)\n",
            "Installing collected packages: torch-sparse\n",
            "Successfully installed torch-sparse-0.6.18+pt23cu121\n",
            "Looking in links: https://pytorch-geometric.com/whl/torch-2.3.0+cu121.html\n",
            "Collecting torch-cluster\n",
            "  Downloading https://data.pyg.org/whl/torch-2.3.0%2Bcu121/torch_cluster-1.6.3%2Bpt23cu121-cp310-cp310-linux_x86_64.whl (3.4 MB)\n",
            "\u001b[2K     \u001b[90m━━━━━━━━━━━━━━━━━━━━━━━━━━━━━━━━━━━━━━━━\u001b[0m \u001b[32m3.4/3.4 MB\u001b[0m \u001b[31m42.6 MB/s\u001b[0m eta \u001b[36m0:00:00\u001b[0m\n",
            "\u001b[?25hRequirement already satisfied: scipy in /usr/local/lib/python3.10/dist-packages (from torch-cluster) (1.11.4)\n",
            "Requirement already satisfied: numpy<1.28.0,>=1.21.6 in /usr/local/lib/python3.10/dist-packages (from scipy->torch-cluster) (1.25.2)\n",
            "Installing collected packages: torch-cluster\n",
            "Successfully installed torch-cluster-1.6.3+pt23cu121\n",
            "Looking in links: https://pytorch-geometric.com/whl/torch-2.3.0+cu121.html\n",
            "Collecting torch-spline-conv\n",
            "  Downloading https://data.pyg.org/whl/torch-2.3.0%2Bcu121/torch_spline_conv-1.2.2%2Bpt23cu121-cp310-cp310-linux_x86_64.whl (947 kB)\n",
            "\u001b[2K     \u001b[90m━━━━━━━━━━━━━━━━━━━━━━━━━━━━━━━━━━━━━━━━\u001b[0m \u001b[32m947.1/947.1 kB\u001b[0m \u001b[31m16.0 MB/s\u001b[0m eta \u001b[36m0:00:00\u001b[0m\n",
            "\u001b[?25hInstalling collected packages: torch-spline-conv\n",
            "Successfully installed torch-spline-conv-1.2.2+pt23cu121\n",
            "Collecting torch-geometric\n",
            "  Downloading torch_geometric-2.5.3-py3-none-any.whl (1.1 MB)\n",
            "\u001b[2K     \u001b[90m━━━━━━━━━━━━━━━━━━━━━━━━━━━━━━━━━━━━━━━━\u001b[0m \u001b[32m1.1/1.1 MB\u001b[0m \u001b[31m9.0 MB/s\u001b[0m eta \u001b[36m0:00:00\u001b[0m\n",
            "\u001b[?25hRequirement already satisfied: tqdm in /usr/local/lib/python3.10/dist-packages (from torch-geometric) (4.66.4)\n",
            "Requirement already satisfied: numpy in /usr/local/lib/python3.10/dist-packages (from torch-geometric) (1.25.2)\n",
            "Requirement already satisfied: scipy in /usr/local/lib/python3.10/dist-packages (from torch-geometric) (1.11.4)\n",
            "Requirement already satisfied: fsspec in /usr/local/lib/python3.10/dist-packages (from torch-geometric) (2023.6.0)\n",
            "Requirement already satisfied: jinja2 in /usr/local/lib/python3.10/dist-packages (from torch-geometric) (3.1.4)\n",
            "Requirement already satisfied: aiohttp in /usr/local/lib/python3.10/dist-packages (from torch-geometric) (3.9.5)\n",
            "Requirement already satisfied: requests in /usr/local/lib/python3.10/dist-packages (from torch-geometric) (2.31.0)\n",
            "Requirement already satisfied: pyparsing in /usr/local/lib/python3.10/dist-packages (from torch-geometric) (3.1.2)\n",
            "Requirement already satisfied: scikit-learn in /usr/local/lib/python3.10/dist-packages (from torch-geometric) (1.2.2)\n",
            "Requirement already satisfied: psutil>=5.8.0 in /usr/local/lib/python3.10/dist-packages (from torch-geometric) (5.9.5)\n",
            "Requirement already satisfied: aiosignal>=1.1.2 in /usr/local/lib/python3.10/dist-packages (from aiohttp->torch-geometric) (1.3.1)\n",
            "Requirement already satisfied: attrs>=17.3.0 in /usr/local/lib/python3.10/dist-packages (from aiohttp->torch-geometric) (23.2.0)\n",
            "Requirement already satisfied: frozenlist>=1.1.1 in /usr/local/lib/python3.10/dist-packages (from aiohttp->torch-geometric) (1.4.1)\n",
            "Requirement already satisfied: multidict<7.0,>=4.5 in /usr/local/lib/python3.10/dist-packages (from aiohttp->torch-geometric) (6.0.5)\n",
            "Requirement already satisfied: yarl<2.0,>=1.0 in /usr/local/lib/python3.10/dist-packages (from aiohttp->torch-geometric) (1.9.4)\n",
            "Requirement already satisfied: async-timeout<5.0,>=4.0 in /usr/local/lib/python3.10/dist-packages (from aiohttp->torch-geometric) (4.0.3)\n",
            "Requirement already satisfied: MarkupSafe>=2.0 in /usr/local/lib/python3.10/dist-packages (from jinja2->torch-geometric) (2.1.5)\n",
            "Requirement already satisfied: charset-normalizer<4,>=2 in /usr/local/lib/python3.10/dist-packages (from requests->torch-geometric) (3.3.2)\n",
            "Requirement already satisfied: idna<4,>=2.5 in /usr/local/lib/python3.10/dist-packages (from requests->torch-geometric) (3.7)\n",
            "Requirement already satisfied: urllib3<3,>=1.21.1 in /usr/local/lib/python3.10/dist-packages (from requests->torch-geometric) (2.0.7)\n",
            "Requirement already satisfied: certifi>=2017.4.17 in /usr/local/lib/python3.10/dist-packages (from requests->torch-geometric) (2024.6.2)\n",
            "Requirement already satisfied: joblib>=1.1.1 in /usr/local/lib/python3.10/dist-packages (from scikit-learn->torch-geometric) (1.4.2)\n",
            "Requirement already satisfied: threadpoolctl>=2.0.0 in /usr/local/lib/python3.10/dist-packages (from scikit-learn->torch-geometric) (3.5.0)\n",
            "Installing collected packages: torch-geometric\n",
            "Successfully installed torch-geometric-2.5.3\n"
          ]
        }
      ],
      "source": [
        "# Primero, instalamos Optuna para la optimización de hiperparámetros\n",
        "!pip install optuna\n",
        "\n",
        "# Formateamos las versiones de PyTorch y CUDA para instalar los paquetes de PyTorch Geometric correctamente\n",
        "import torch\n",
        "\n",
        "def format_pytorch_version(version):\n",
        "    return version.split('+')[0]\n",
        "\n",
        "TORCH_version = torch.__version__\n",
        "TORCH = format_pytorch_version(TORCH_version)\n",
        "\n",
        "def format_cuda_version(version):\n",
        "    return 'cu' + version.replace('.', '')\n",
        "\n",
        "CUDA_version = torch.version.cuda\n",
        "CUDA = format_cuda_version(CUDA_version)\n",
        "\n",
        "# Instalamos las dependencias de PyTorch Geometric\n",
        "!pip install torch-scatter     -f https://pytorch-geometric.com/whl/torch-{TORCH}+{CUDA}.html\n",
        "!pip install torch-sparse      -f https://pytorch-geometric.com/whl/torch-{TORCH}+{CUDA}.html\n",
        "!pip install torch-cluster     -f https://pytorch-geometric.com/whl/torch-{TORCH}+{CUDA}.html\n",
        "!pip install torch-spline-conv -f https://pytorch-geometric.com/whl/torch-{TORCH}+{CUDA}.html\n",
        "!pip install torch-geometric"
      ]
    },
    {
      "cell_type": "markdown",
      "source": [
        "## Importación de Bibliotecas\n",
        "Luego, importamos las bibliotecas necesarias:\n",
        "\n",
        "* `optuna` se utiliza para la optimización de hiperparámetros.\n",
        "* `torch` es la biblioteca de PyTorch para construir y entrenar modelos de aprendizaje profundo.\n",
        "* `torch.nn.functional` contiene funciones para construir redes neuronales.\n",
        "* `GCNConv` es la capa convolucional para grafos de PyTorch Geometric.\n",
        "* `Planetoid` es el conjunto de datos de PyTorch Geometric que contiene el dataset Cora."
      ],
      "metadata": {
        "id": "Fm7tywxlwHGE"
      }
    },
    {
      "cell_type": "code",
      "source": [
        "import optuna\n",
        "import torch\n",
        "import torch.nn.functional as F\n",
        "from torch_geometric.nn import GCNConv\n",
        "from torch_geometric.datasets import Planetoid"
      ],
      "metadata": {
        "id": "5QXABkIrwEXS"
      },
      "execution_count": 4,
      "outputs": []
    },
    {
      "cell_type": "markdown",
      "source": [
        "## Cargar el Dataset Cora\n",
        "Cargamos el conjunto de datos Cora utilizando la biblioteca PyTorch Geometric.\n",
        "\n",
        "`Planetoid` descarga y prepara el dataset Cora, que contiene información sobre publicaciones científicas y sus relaciones."
      ],
      "metadata": {
        "id": "5LtNDgLlzI-Q"
      }
    },
    {
      "cell_type": "code",
      "source": [
        "dataset = Planetoid(root='/tmp/Cora', name='Cora')"
      ],
      "metadata": {
        "colab": {
          "base_uri": "https://localhost:8080/"
        },
        "id": "I8hHVLnBw-YX",
        "outputId": "11ad8102-13b9-4348-bd0e-3f19038a6a0c"
      },
      "execution_count": 5,
      "outputs": [
        {
          "output_type": "stream",
          "name": "stderr",
          "text": [
            "Downloading https://github.com/kimiyoung/planetoid/raw/master/data/ind.cora.x\n",
            "Downloading https://github.com/kimiyoung/planetoid/raw/master/data/ind.cora.tx\n",
            "Downloading https://github.com/kimiyoung/planetoid/raw/master/data/ind.cora.allx\n",
            "Downloading https://github.com/kimiyoung/planetoid/raw/master/data/ind.cora.y\n",
            "Downloading https://github.com/kimiyoung/planetoid/raw/master/data/ind.cora.ty\n",
            "Downloading https://github.com/kimiyoung/planetoid/raw/master/data/ind.cora.ally\n",
            "Downloading https://github.com/kimiyoung/planetoid/raw/master/data/ind.cora.graph\n",
            "Downloading https://github.com/kimiyoung/planetoid/raw/master/data/ind.cora.test.index\n",
            "Processing...\n",
            "Done!\n"
          ]
        }
      ]
    },
    {
      "cell_type": "markdown",
      "source": [
        "## Definición de la Red Neuronal de Grafos (GCN)\n",
        "Definimos la arquitectura de nuestra red neuronal de grafos (GCN) basada en los hiperparámetros sugeridos por Optuna.\n",
        "\n",
        "* `GCNConv` crea una capa convolucional para grafos.\n",
        "* `ModuleList` agrupa las capas en una lista que puede ser iterada.\n",
        "* `F.relu` aplica la función de activación ReLU.\n",
        "* `F.dropout` aplica la técnica de dropout para evitar el sobreajuste.\n",
        "* `F.log_softmax` aplica la función de activación softmax en el resultado final.\n"
      ],
      "metadata": {
        "id": "8bWTEOMtzY-a"
      }
    },
    {
      "cell_type": "code",
      "source": [
        "class GCN(torch.nn.Module):\n",
        "    def __init__(self, input_dim, hidden_units_list, output_dim):\n",
        "        super(GCN, self).__init__()\n",
        "        self.layers = torch.nn.ModuleList()\n",
        "        in_channels = input_dim\n",
        "\n",
        "        for hidden_units in hidden_units_list:\n",
        "            self.layers.append(GCNConv(in_channels, hidden_units))\n",
        "            in_channels = hidden_units\n",
        "\n",
        "        self.layers.append(GCNConv(in_channels, output_dim))\n",
        "\n",
        "    def forward(self, data):\n",
        "        x, edge_index = data.x, data.edge_index\n",
        "\n",
        "        for conv in self.layers[:-1]:\n",
        "            x = conv(x, edge_index)\n",
        "            x = F.relu(x)\n",
        "            x = F.dropout(x, training=self.training)\n",
        "\n",
        "        x = self.layers[-1](x, edge_index)\n",
        "        return F.log_softmax(x, dim=1)"
      ],
      "metadata": {
        "id": "QDgBRe8qzQVH"
      },
      "execution_count": 6,
      "outputs": []
    },
    {
      "cell_type": "markdown",
      "source": [
        "## Función Objetivo para Optuna\n",
        "Definimos una función objetivo para Optuna que optimizará los hiperparámetros del modelo.\n",
        "\n",
        "* `suggest_int` sugiere un número entero para el número de capas ocultas y unidades ocultas.\n",
        "* `Adam` es el optimizador utilizado para actualizar los pesos del modelo.\n",
        "* `nll_loss` calcula la pérdida de entropía cruzada negativa.\n",
        "* `train_mask` y `test_mask` se utilizan para separar los datos de entrenamiento y prueba.\n",
        "\n",
        "Optuna está optimizando los siguientes hiperparámetros de la red neuronal:\n",
        "\n",
        "* `hidden_layers:` Define cuántas capas ocultas tendrá la red neuronal. Optuna prueba diferentes cantidades de capas ocultas dentro del rango especificado (1 a 5).\n",
        "\n",
        "* `hidden_units_list:` Para cada capa oculta, define cuántas unidades (neurona) tendrá esa capa. Optuna prueba diferentes cantidades de unidades en cada capa dentro del rango especificado (16 a 256).\n"
      ],
      "metadata": {
        "id": "eLgPshRcz2EF"
      }
    },
    {
      "cell_type": "code",
      "source": [
        "def objective(trial):\n",
        "    hidden_layers = trial.suggest_int('hidden_layers', 1, 5)\n",
        "    hidden_units_list = [trial.suggest_int(f'hidden_units_{i}', 16, 256) for i in range(hidden_layers)]\n",
        "\n",
        "    model = GCN(dataset.num_node_features, hidden_units_list, dataset.num_classes).to(device)\n",
        "    data = dataset[0].to(device)\n",
        "    optimizer = torch.optim.Adam(model.parameters(), lr=0.01, weight_decay=5e-4)\n",
        "\n",
        "    model.train()\n",
        "    for epoch in range(200):\n",
        "        optimizer.zero_grad()\n",
        "        out = model(data)\n",
        "        loss = F.nll_loss(out[data.train_mask], data.y[data.train_mask])\n",
        "        loss.backward()\n",
        "        optimizer.step()\n",
        "\n",
        "    model.eval()\n",
        "    pred = model(data).argmax(dim=1)\n",
        "    correct = (pred[data.test_mask] == data.y[data.test_mask]).sum()\n",
        "    acc = int(correct) / int(data.test_mask.sum())\n",
        "    return acc"
      ],
      "metadata": {
        "id": "wqhoMeR7zyPt"
      },
      "execution_count": 7,
      "outputs": []
    },
    {
      "cell_type": "markdown",
      "source": [
        "## Ejecución de la Optimización\n",
        "Finalmente, ejecutamos la optimización de hiperparámetros con Optuna.\n",
        "\n",
        "* `optuna.create_study` crea un estudio de optimización.\n",
        "* `study.optimize` ejecuta la optimización de la función objetivo durante un número definido de pruebas.\n",
        "* Se imprimen los mejores hiperparámetros encontrados.\n"
      ],
      "metadata": {
        "id": "nAhwn3zO0QlH"
      }
    },
    {
      "cell_type": "code",
      "source": [
        "if __name__ == \"__main__\":\n",
        "    device = torch.device('cuda' if torch.cuda.is_available() else 'cpu')\n",
        "\n",
        "    study = optuna.create_study(direction='maximize')\n",
        "    study.optimize(objective, n_trials=300)\n",
        "\n",
        "    print(\"Number of finished trials: \", len(study.trials))\n",
        "    print(\"Best trial:\")\n",
        "    trial = study.best_trial\n",
        "\n",
        "    print(\"  Value: \", trial.value)\n",
        "\n",
        "    print(\"  Params: \")\n",
        "    for key, value in trial.params.items():\n",
        "        print(\"    {}: {}\".format(key, value))"
      ],
      "metadata": {
        "colab": {
          "base_uri": "https://localhost:8080/"
        },
        "id": "kjBtaeGW0K0X",
        "outputId": "49282df8-744a-44c9-802c-8c5321eb8599"
      },
      "execution_count": 8,
      "outputs": [
        {
          "output_type": "stream",
          "name": "stderr",
          "text": [
            "[I 2024-07-11 03:23:05,317] A new study created in memory with name: no-name-d7b342c7-85de-40a1-b815-47e92762d182\n",
            "[I 2024-07-11 03:23:09,026] Trial 0 finished with value: 0.786 and parameters: {'hidden_layers': 3, 'hidden_units_0': 84, 'hidden_units_1': 155, 'hidden_units_2': 147}. Best is trial 0 with value: 0.786.\n",
            "[I 2024-07-11 03:23:09,906] Trial 1 finished with value: 0.782 and parameters: {'hidden_layers': 2, 'hidden_units_0': 53, 'hidden_units_1': 118}. Best is trial 0 with value: 0.786.\n",
            "[I 2024-07-11 03:23:11,395] Trial 2 finished with value: 0.779 and parameters: {'hidden_layers': 5, 'hidden_units_0': 30, 'hidden_units_1': 188, 'hidden_units_2': 39, 'hidden_units_3': 79, 'hidden_units_4': 87}. Best is trial 0 with value: 0.786.\n",
            "[I 2024-07-11 03:23:12,309] Trial 3 finished with value: 0.791 and parameters: {'hidden_layers': 2, 'hidden_units_0': 161, 'hidden_units_1': 208}. Best is trial 3 with value: 0.791.\n",
            "[I 2024-07-11 03:23:13,657] Trial 4 finished with value: 0.75 and parameters: {'hidden_layers': 4, 'hidden_units_0': 97, 'hidden_units_1': 61, 'hidden_units_2': 41, 'hidden_units_3': 126}. Best is trial 3 with value: 0.791.\n",
            "[I 2024-07-11 03:23:15,063] Trial 5 finished with value: 0.738 and parameters: {'hidden_layers': 4, 'hidden_units_0': 156, 'hidden_units_1': 29, 'hidden_units_2': 129, 'hidden_units_3': 85}. Best is trial 3 with value: 0.791.\n",
            "[I 2024-07-11 03:23:16,412] Trial 6 finished with value: 0.783 and parameters: {'hidden_layers': 3, 'hidden_units_0': 93, 'hidden_units_1': 143, 'hidden_units_2': 81}. Best is trial 3 with value: 0.791.\n",
            "[I 2024-07-11 03:23:18,357] Trial 7 finished with value: 0.771 and parameters: {'hidden_layers': 5, 'hidden_units_0': 206, 'hidden_units_1': 51, 'hidden_units_2': 124, 'hidden_units_3': 32, 'hidden_units_4': 108}. Best is trial 3 with value: 0.791.\n",
            "[I 2024-07-11 03:23:19,502] Trial 8 finished with value: 0.799 and parameters: {'hidden_layers': 2, 'hidden_units_0': 38, 'hidden_units_1': 229}. Best is trial 8 with value: 0.799.\n",
            "[I 2024-07-11 03:23:20,554] Trial 9 finished with value: 0.808 and parameters: {'hidden_layers': 2, 'hidden_units_0': 221, 'hidden_units_1': 216}. Best is trial 9 with value: 0.808.\n",
            "[I 2024-07-11 03:23:21,296] Trial 10 finished with value: 0.805 and parameters: {'hidden_layers': 1, 'hidden_units_0': 242}. Best is trial 9 with value: 0.808.\n",
            "[I 2024-07-11 03:23:22,028] Trial 11 finished with value: 0.808 and parameters: {'hidden_layers': 1, 'hidden_units_0': 255}. Best is trial 9 with value: 0.808.\n",
            "[I 2024-07-11 03:23:22,777] Trial 12 finished with value: 0.799 and parameters: {'hidden_layers': 1, 'hidden_units_0': 256}. Best is trial 9 with value: 0.808.\n",
            "[I 2024-07-11 03:23:23,500] Trial 13 finished with value: 0.801 and parameters: {'hidden_layers': 1, 'hidden_units_0': 209}. Best is trial 9 with value: 0.808.\n",
            "[I 2024-07-11 03:23:24,473] Trial 14 finished with value: 0.811 and parameters: {'hidden_layers': 2, 'hidden_units_0': 209, 'hidden_units_1': 255}. Best is trial 14 with value: 0.811.\n",
            "[I 2024-07-11 03:23:25,436] Trial 15 finished with value: 0.803 and parameters: {'hidden_layers': 2, 'hidden_units_0': 194, 'hidden_units_1': 249}. Best is trial 14 with value: 0.811.\n",
            "[I 2024-07-11 03:23:26,614] Trial 16 finished with value: 0.77 and parameters: {'hidden_layers': 3, 'hidden_units_0': 184, 'hidden_units_1': 189, 'hidden_units_2': 247}. Best is trial 14 with value: 0.811.\n",
            "[I 2024-07-11 03:23:27,527] Trial 17 finished with value: 0.789 and parameters: {'hidden_layers': 2, 'hidden_units_0': 129, 'hidden_units_1': 249}. Best is trial 14 with value: 0.811.\n",
            "[I 2024-07-11 03:23:29,025] Trial 18 finished with value: 0.767 and parameters: {'hidden_layers': 4, 'hidden_units_0': 225, 'hidden_units_1': 104, 'hidden_units_2': 252, 'hidden_units_3': 255}. Best is trial 14 with value: 0.811.\n",
            "[I 2024-07-11 03:23:29,978] Trial 19 finished with value: 0.802 and parameters: {'hidden_layers': 2, 'hidden_units_0': 169, 'hidden_units_1': 215}. Best is trial 14 with value: 0.811.\n",
            "[I 2024-07-11 03:23:31,451] Trial 20 finished with value: 0.788 and parameters: {'hidden_layers': 3, 'hidden_units_0': 130, 'hidden_units_1': 181, 'hidden_units_2': 190}. Best is trial 14 with value: 0.811.\n",
            "[I 2024-07-11 03:23:32,294] Trial 21 finished with value: 0.803 and parameters: {'hidden_layers': 1, 'hidden_units_0': 228}. Best is trial 14 with value: 0.811.\n",
            "[I 2024-07-11 03:23:33,044] Trial 22 finished with value: 0.803 and parameters: {'hidden_layers': 1, 'hidden_units_0': 256}. Best is trial 14 with value: 0.811.\n",
            "[I 2024-07-11 03:23:34,046] Trial 23 finished with value: 0.807 and parameters: {'hidden_layers': 2, 'hidden_units_0': 225, 'hidden_units_1': 255}. Best is trial 14 with value: 0.811.\n",
            "[I 2024-07-11 03:23:34,779] Trial 24 finished with value: 0.8 and parameters: {'hidden_layers': 1, 'hidden_units_0': 236}. Best is trial 14 with value: 0.811.\n",
            "[I 2024-07-11 03:23:35,711] Trial 25 finished with value: 0.803 and parameters: {'hidden_layers': 2, 'hidden_units_0': 207, 'hidden_units_1': 163}. Best is trial 14 with value: 0.811.\n",
            "[I 2024-07-11 03:23:36,409] Trial 26 finished with value: 0.8 and parameters: {'hidden_layers': 1, 'hidden_units_0': 188}. Best is trial 14 with value: 0.811.\n",
            "[I 2024-07-11 03:23:37,387] Trial 27 finished with value: 0.802 and parameters: {'hidden_layers': 2, 'hidden_units_0': 244, 'hidden_units_1': 217}. Best is trial 14 with value: 0.811.\n",
            "[I 2024-07-11 03:23:38,111] Trial 28 finished with value: 0.812 and parameters: {'hidden_layers': 1, 'hidden_units_0': 218}. Best is trial 28 with value: 0.812.\n",
            "[I 2024-07-11 03:23:39,223] Trial 29 finished with value: 0.793 and parameters: {'hidden_layers': 3, 'hidden_units_0': 147, 'hidden_units_1': 97, 'hidden_units_2': 190}. Best is trial 28 with value: 0.812.\n",
            "[I 2024-07-11 03:23:40,333] Trial 30 finished with value: 0.765 and parameters: {'hidden_layers': 3, 'hidden_units_0': 114, 'hidden_units_1': 230, 'hidden_units_2': 83}. Best is trial 28 with value: 0.812.\n",
            "[I 2024-07-11 03:23:41,058] Trial 31 finished with value: 0.805 and parameters: {'hidden_layers': 1, 'hidden_units_0': 216}. Best is trial 28 with value: 0.812.\n",
            "[I 2024-07-11 03:23:41,757] Trial 32 finished with value: 0.809 and parameters: {'hidden_layers': 1, 'hidden_units_0': 181}. Best is trial 28 with value: 0.812.\n",
            "[I 2024-07-11 03:23:42,868] Trial 33 finished with value: 0.816 and parameters: {'hidden_layers': 2, 'hidden_units_0': 176, 'hidden_units_1': 198}. Best is trial 33 with value: 0.816.\n",
            "[I 2024-07-11 03:23:43,805] Trial 34 finished with value: 0.812 and parameters: {'hidden_layers': 1, 'hidden_units_0': 185}. Best is trial 33 with value: 0.816.\n",
            "[I 2024-07-11 03:23:44,839] Trial 35 finished with value: 0.791 and parameters: {'hidden_layers': 2, 'hidden_units_0': 170, 'hidden_units_1': 168}. Best is trial 33 with value: 0.816.\n",
            "[I 2024-07-11 03:23:45,543] Trial 36 finished with value: 0.81 and parameters: {'hidden_layers': 1, 'hidden_units_0': 199}. Best is trial 33 with value: 0.816.\n",
            "[I 2024-07-11 03:23:46,458] Trial 37 finished with value: 0.797 and parameters: {'hidden_layers': 2, 'hidden_units_0': 153, 'hidden_units_1': 130}. Best is trial 33 with value: 0.816.\n",
            "[I 2024-07-11 03:23:47,639] Trial 38 finished with value: 0.784 and parameters: {'hidden_layers': 3, 'hidden_units_0': 173, 'hidden_units_1': 239, 'hidden_units_2': 203}. Best is trial 33 with value: 0.816.\n",
            "[I 2024-07-11 03:23:48,346] Trial 39 finished with value: 0.798 and parameters: {'hidden_layers': 1, 'hidden_units_0': 194}. Best is trial 33 with value: 0.816.\n",
            "[I 2024-07-11 03:23:49,678] Trial 40 finished with value: 0.782 and parameters: {'hidden_layers': 4, 'hidden_units_0': 163, 'hidden_units_1': 192, 'hidden_units_2': 85, 'hidden_units_3': 228}. Best is trial 33 with value: 0.816.\n",
            "[I 2024-07-11 03:23:50,404] Trial 41 finished with value: 0.805 and parameters: {'hidden_layers': 1, 'hidden_units_0': 200}. Best is trial 33 with value: 0.816.\n",
            "[I 2024-07-11 03:23:51,085] Trial 42 finished with value: 0.799 and parameters: {'hidden_layers': 1, 'hidden_units_0': 60}. Best is trial 33 with value: 0.816.\n",
            "[I 2024-07-11 03:23:52,047] Trial 43 finished with value: 0.816 and parameters: {'hidden_layers': 2, 'hidden_units_0': 214, 'hidden_units_1': 201}. Best is trial 33 with value: 0.816.\n",
            "[I 2024-07-11 03:23:53,023] Trial 44 finished with value: 0.803 and parameters: {'hidden_layers': 2, 'hidden_units_0': 215, 'hidden_units_1': 209}. Best is trial 33 with value: 0.816.\n",
            "[I 2024-07-11 03:23:53,959] Trial 45 finished with value: 0.79 and parameters: {'hidden_layers': 2, 'hidden_units_0': 180, 'hidden_units_1': 146}. Best is trial 33 with value: 0.816.\n",
            "[I 2024-07-11 03:23:56,005] Trial 46 finished with value: 0.774 and parameters: {'hidden_layers': 5, 'hidden_units_0': 144, 'hidden_units_1': 172, 'hidden_units_2': 17, 'hidden_units_3': 180, 'hidden_units_4': 247}. Best is trial 33 with value: 0.816.\n",
            "[I 2024-07-11 03:23:57,089] Trial 47 finished with value: 0.796 and parameters: {'hidden_layers': 2, 'hidden_units_0': 236, 'hidden_units_1': 198}. Best is trial 33 with value: 0.816.\n",
            "[I 2024-07-11 03:23:58,297] Trial 48 finished with value: 0.777 and parameters: {'hidden_layers': 3, 'hidden_units_0': 208, 'hidden_units_1': 234, 'hidden_units_2': 168}. Best is trial 33 with value: 0.816.\n",
            "[I 2024-07-11 03:23:59,230] Trial 49 finished with value: 0.785 and parameters: {'hidden_layers': 2, 'hidden_units_0': 190, 'hidden_units_1': 127}. Best is trial 33 with value: 0.816.\n",
            "[I 2024-07-11 03:24:00,203] Trial 50 finished with value: 0.788 and parameters: {'hidden_layers': 2, 'hidden_units_0': 216, 'hidden_units_1': 204}. Best is trial 33 with value: 0.816.\n",
            "[I 2024-07-11 03:24:00,914] Trial 51 finished with value: 0.807 and parameters: {'hidden_layers': 1, 'hidden_units_0': 199}. Best is trial 33 with value: 0.816.\n",
            "[I 2024-07-11 03:24:01,629] Trial 52 finished with value: 0.806 and parameters: {'hidden_layers': 1, 'hidden_units_0': 203}. Best is trial 33 with value: 0.816.\n",
            "[I 2024-07-11 03:24:02,341] Trial 53 finished with value: 0.804 and parameters: {'hidden_layers': 1, 'hidden_units_0': 178}. Best is trial 33 with value: 0.816.\n",
            "[I 2024-07-11 03:24:03,076] Trial 54 finished with value: 0.804 and parameters: {'hidden_layers': 1, 'hidden_units_0': 233}. Best is trial 33 with value: 0.816.\n",
            "[I 2024-07-11 03:24:04,051] Trial 55 finished with value: 0.786 and parameters: {'hidden_layers': 2, 'hidden_units_0': 246, 'hidden_units_1': 177}. Best is trial 33 with value: 0.816.\n",
            "[I 2024-07-11 03:24:04,807] Trial 56 finished with value: 0.802 and parameters: {'hidden_layers': 1, 'hidden_units_0': 220}. Best is trial 33 with value: 0.816.\n",
            "[I 2024-07-11 03:24:05,520] Trial 57 finished with value: 0.805 and parameters: {'hidden_layers': 1, 'hidden_units_0': 163}. Best is trial 33 with value: 0.816.\n",
            "[I 2024-07-11 03:24:06,493] Trial 58 finished with value: 0.748 and parameters: {'hidden_layers': 2, 'hidden_units_0': 193, 'hidden_units_1': 155}. Best is trial 33 with value: 0.816.\n",
            "[I 2024-07-11 03:24:07,702] Trial 59 finished with value: 0.791 and parameters: {'hidden_layers': 2, 'hidden_units_0': 210, 'hidden_units_1': 110}. Best is trial 33 with value: 0.816.\n",
            "[I 2024-07-11 03:24:08,645] Trial 60 finished with value: 0.813 and parameters: {'hidden_layers': 1, 'hidden_units_0': 226}. Best is trial 33 with value: 0.816.\n",
            "[I 2024-07-11 03:24:09,476] Trial 61 finished with value: 0.802 and parameters: {'hidden_layers': 1, 'hidden_units_0': 228}. Best is trial 33 with value: 0.816.\n",
            "[I 2024-07-11 03:24:10,245] Trial 62 finished with value: 0.81 and parameters: {'hidden_layers': 1, 'hidden_units_0': 201}. Best is trial 33 with value: 0.816.\n",
            "[I 2024-07-11 03:24:11,001] Trial 63 finished with value: 0.804 and parameters: {'hidden_layers': 1, 'hidden_units_0': 247}. Best is trial 33 with value: 0.816.\n",
            "[I 2024-07-11 03:24:11,725] Trial 64 finished with value: 0.807 and parameters: {'hidden_layers': 1, 'hidden_units_0': 188}. Best is trial 33 with value: 0.816.\n",
            "[I 2024-07-11 03:24:12,592] Trial 65 finished with value: 0.813 and parameters: {'hidden_layers': 1, 'hidden_units_0': 223}. Best is trial 33 with value: 0.816.\n",
            "[I 2024-07-11 03:24:14,052] Trial 66 finished with value: 0.763 and parameters: {'hidden_layers': 4, 'hidden_units_0': 222, 'hidden_units_1': 87, 'hidden_units_2': 222, 'hidden_units_3': 178}. Best is trial 33 with value: 0.816.\n",
            "[I 2024-07-11 03:24:15,066] Trial 67 finished with value: 0.824 and parameters: {'hidden_layers': 2, 'hidden_units_0': 238, 'hidden_units_1': 221}. Best is trial 67 with value: 0.824.\n",
            "[I 2024-07-11 03:24:16,207] Trial 68 finished with value: 0.813 and parameters: {'hidden_layers': 2, 'hidden_units_0': 237, 'hidden_units_1': 225}. Best is trial 67 with value: 0.824.\n",
            "[I 2024-07-11 03:24:17,129] Trial 69 finished with value: 0.789 and parameters: {'hidden_layers': 2, 'hidden_units_0': 16, 'hidden_units_1': 225}. Best is trial 67 with value: 0.824.\n",
            "[I 2024-07-11 03:24:18,125] Trial 70 finished with value: 0.798 and parameters: {'hidden_layers': 2, 'hidden_units_0': 237, 'hidden_units_1': 199}. Best is trial 67 with value: 0.824.\n",
            "[I 2024-07-11 03:24:19,411] Trial 71 finished with value: 0.794 and parameters: {'hidden_layers': 2, 'hidden_units_0': 230, 'hidden_units_1': 241}. Best is trial 67 with value: 0.824.\n",
            "[I 2024-07-11 03:24:20,343] Trial 72 finished with value: 0.805 and parameters: {'hidden_layers': 1, 'hidden_units_0': 247}. Best is trial 67 with value: 0.824.\n",
            "[I 2024-07-11 03:24:21,699] Trial 73 finished with value: 0.797 and parameters: {'hidden_layers': 3, 'hidden_units_0': 241, 'hidden_units_1': 222, 'hidden_units_2': 106}. Best is trial 67 with value: 0.824.\n",
            "[I 2024-07-11 03:24:22,901] Trial 74 finished with value: 0.808 and parameters: {'hidden_layers': 2, 'hidden_units_0': 251, 'hidden_units_1': 184}. Best is trial 67 with value: 0.824.\n",
            "[I 2024-07-11 03:24:24,106] Trial 75 finished with value: 0.791 and parameters: {'hidden_layers': 3, 'hidden_units_0': 213, 'hidden_units_1': 208, 'hidden_units_2': 168}. Best is trial 67 with value: 0.824.\n",
            "[I 2024-07-11 03:24:24,936] Trial 76 finished with value: 0.807 and parameters: {'hidden_layers': 1, 'hidden_units_0': 222}. Best is trial 67 with value: 0.824.\n",
            "[I 2024-07-11 03:24:25,663] Trial 77 finished with value: 0.802 and parameters: {'hidden_layers': 1, 'hidden_units_0': 238}. Best is trial 67 with value: 0.824.\n",
            "[I 2024-07-11 03:24:26,570] Trial 78 finished with value: 0.785 and parameters: {'hidden_layers': 2, 'hidden_units_0': 119, 'hidden_units_1': 242}. Best is trial 67 with value: 0.824.\n",
            "[I 2024-07-11 03:24:27,307] Trial 79 finished with value: 0.802 and parameters: {'hidden_layers': 1, 'hidden_units_0': 229}. Best is trial 67 with value: 0.824.\n",
            "[I 2024-07-11 03:24:28,274] Trial 80 finished with value: 0.801 and parameters: {'hidden_layers': 2, 'hidden_units_0': 253, 'hidden_units_1': 36}. Best is trial 67 with value: 0.824.\n",
            "[I 2024-07-11 03:24:29,596] Trial 81 finished with value: 0.811 and parameters: {'hidden_layers': 2, 'hidden_units_0': 220, 'hidden_units_1': 256}. Best is trial 67 with value: 0.824.\n",
            "[I 2024-07-11 03:24:30,586] Trial 82 finished with value: 0.799 and parameters: {'hidden_layers': 2, 'hidden_units_0': 215, 'hidden_units_1': 226}. Best is trial 67 with value: 0.824.\n",
            "[I 2024-07-11 03:24:31,954] Trial 83 finished with value: 0.757 and parameters: {'hidden_layers': 3, 'hidden_units_0': 233, 'hidden_units_1': 195, 'hidden_units_2': 55}. Best is trial 67 with value: 0.824.\n",
            "[I 2024-07-11 03:24:33,197] Trial 84 finished with value: 0.792 and parameters: {'hidden_layers': 2, 'hidden_units_0': 206, 'hidden_units_1': 216}. Best is trial 67 with value: 0.824.\n",
            "[I 2024-07-11 03:24:33,922] Trial 85 finished with value: 0.8 and parameters: {'hidden_layers': 1, 'hidden_units_0': 227}. Best is trial 67 with value: 0.824.\n",
            "[I 2024-07-11 03:24:34,915] Trial 86 finished with value: 0.792 and parameters: {'hidden_layers': 2, 'hidden_units_0': 211, 'hidden_units_1': 247}. Best is trial 67 with value: 0.824.\n",
            "[I 2024-07-11 03:24:35,592] Trial 87 finished with value: 0.8 and parameters: {'hidden_layers': 1, 'hidden_units_0': 78}. Best is trial 67 with value: 0.824.\n",
            "[I 2024-07-11 03:24:36,587] Trial 88 finished with value: 0.812 and parameters: {'hidden_layers': 2, 'hidden_units_0': 240, 'hidden_units_1': 235}. Best is trial 67 with value: 0.824.\n",
            "[I 2024-07-11 03:24:37,593] Trial 89 finished with value: 0.811 and parameters: {'hidden_layers': 2, 'hidden_units_0': 241, 'hidden_units_1': 232}. Best is trial 67 with value: 0.824.\n",
            "[I 2024-07-11 03:24:38,358] Trial 90 finished with value: 0.803 and parameters: {'hidden_layers': 1, 'hidden_units_0': 256}. Best is trial 67 with value: 0.824.\n",
            "[I 2024-07-11 03:24:39,368] Trial 91 finished with value: 0.775 and parameters: {'hidden_layers': 2, 'hidden_units_0': 219, 'hidden_units_1': 249}. Best is trial 67 with value: 0.824.\n",
            "[I 2024-07-11 03:24:40,366] Trial 92 finished with value: 0.816 and parameters: {'hidden_layers': 2, 'hidden_units_0': 231, 'hidden_units_1': 211}. Best is trial 67 with value: 0.824.\n",
            "[I 2024-07-11 03:24:41,571] Trial 93 finished with value: 0.796 and parameters: {'hidden_layers': 2, 'hidden_units_0': 234, 'hidden_units_1': 209}. Best is trial 67 with value: 0.824.\n",
            "[I 2024-07-11 03:24:42,571] Trial 94 finished with value: 0.814 and parameters: {'hidden_layers': 2, 'hidden_units_0': 243, 'hidden_units_1': 189}. Best is trial 67 with value: 0.824.\n",
            "[I 2024-07-11 03:24:44,089] Trial 95 finished with value: 0.778 and parameters: {'hidden_layers': 3, 'hidden_units_0': 249, 'hidden_units_1': 185, 'hidden_units_2': 222}. Best is trial 67 with value: 0.824.\n",
            "[I 2024-07-11 03:24:45,348] Trial 96 finished with value: 0.804 and parameters: {'hidden_layers': 2, 'hidden_units_0': 224, 'hidden_units_1': 218}. Best is trial 67 with value: 0.824.\n",
            "[I 2024-07-11 03:24:46,132] Trial 97 finished with value: 0.805 and parameters: {'hidden_layers': 1, 'hidden_units_0': 244}. Best is trial 67 with value: 0.824.\n",
            "[I 2024-07-11 03:24:47,104] Trial 98 finished with value: 0.765 and parameters: {'hidden_layers': 2, 'hidden_units_0': 231, 'hidden_units_1': 156}. Best is trial 67 with value: 0.824.\n",
            "[I 2024-07-11 03:24:48,765] Trial 99 finished with value: 0.75 and parameters: {'hidden_layers': 5, 'hidden_units_0': 225, 'hidden_units_1': 203, 'hidden_units_2': 157, 'hidden_units_3': 22, 'hidden_units_4': 243}. Best is trial 67 with value: 0.824.\n",
            "[I 2024-07-11 03:24:49,468] Trial 100 finished with value: 0.813 and parameters: {'hidden_layers': 1, 'hidden_units_0': 176}. Best is trial 67 with value: 0.824.\n",
            "[I 2024-07-11 03:24:50,163] Trial 101 finished with value: 0.808 and parameters: {'hidden_layers': 1, 'hidden_units_0': 154}. Best is trial 67 with value: 0.824.\n",
            "[I 2024-07-11 03:24:50,859] Trial 102 finished with value: 0.801 and parameters: {'hidden_layers': 1, 'hidden_units_0': 168}. Best is trial 67 with value: 0.824.\n",
            "[I 2024-07-11 03:24:51,662] Trial 103 finished with value: 0.812 and parameters: {'hidden_layers': 1, 'hidden_units_0': 184}. Best is trial 67 with value: 0.824.\n",
            "[I 2024-07-11 03:24:52,371] Trial 104 finished with value: 0.806 and parameters: {'hidden_layers': 1, 'hidden_units_0': 177}. Best is trial 67 with value: 0.824.\n",
            "[I 2024-07-11 03:24:53,294] Trial 105 finished with value: 0.796 and parameters: {'hidden_layers': 2, 'hidden_units_0': 141, 'hidden_units_1': 192}. Best is trial 67 with value: 0.824.\n",
            "[I 2024-07-11 03:24:53,999] Trial 106 finished with value: 0.804 and parameters: {'hidden_layers': 1, 'hidden_units_0': 198}. Best is trial 67 with value: 0.824.\n",
            "[I 2024-07-11 03:24:54,913] Trial 107 finished with value: 0.778 and parameters: {'hidden_layers': 2, 'hidden_units_0': 159, 'hidden_units_1': 174}. Best is trial 67 with value: 0.824.\n",
            "[I 2024-07-11 03:24:55,787] Trial 108 finished with value: 0.807 and parameters: {'hidden_layers': 1, 'hidden_units_0': 204}. Best is trial 67 with value: 0.824.\n",
            "[I 2024-07-11 03:24:56,639] Trial 109 finished with value: 0.809 and parameters: {'hidden_layers': 1, 'hidden_units_0': 174}. Best is trial 67 with value: 0.824.\n",
            "[I 2024-07-11 03:24:57,907] Trial 110 finished with value: 0.798 and parameters: {'hidden_layers': 2, 'hidden_units_0': 236, 'hidden_units_1': 212}. Best is trial 67 with value: 0.824.\n",
            "[I 2024-07-11 03:24:59,013] Trial 111 finished with value: 0.816 and parameters: {'hidden_layers': 2, 'hidden_units_0': 241, 'hidden_units_1': 235}. Best is trial 67 with value: 0.824.\n",
            "[I 2024-07-11 03:25:00,025] Trial 112 finished with value: 0.798 and parameters: {'hidden_layers': 2, 'hidden_units_0': 243, 'hidden_units_1': 221}. Best is trial 67 with value: 0.824.\n",
            "[I 2024-07-11 03:25:01,211] Trial 113 finished with value: 0.808 and parameters: {'hidden_layers': 2, 'hidden_units_0': 217, 'hidden_units_1': 202}. Best is trial 67 with value: 0.824.\n",
            "[I 2024-07-11 03:25:02,224] Trial 114 finished with value: 0.8 and parameters: {'hidden_layers': 2, 'hidden_units_0': 231, 'hidden_units_1': 226}. Best is trial 67 with value: 0.824.\n",
            "[I 2024-07-11 03:25:03,315] Trial 115 finished with value: 0.81 and parameters: {'hidden_layers': 2, 'hidden_units_0': 247, 'hidden_units_1': 180}. Best is trial 67 with value: 0.824.\n",
            "[I 2024-07-11 03:25:04,046] Trial 116 finished with value: 0.802 and parameters: {'hidden_layers': 1, 'hidden_units_0': 225}. Best is trial 67 with value: 0.824.\n",
            "[I 2024-07-11 03:25:04,768] Trial 117 finished with value: 0.8 and parameters: {'hidden_layers': 1, 'hidden_units_0': 185}. Best is trial 67 with value: 0.824.\n",
            "[I 2024-07-11 03:25:05,825] Trial 118 finished with value: 0.808 and parameters: {'hidden_layers': 2, 'hidden_units_0': 252, 'hidden_units_1': 164}. Best is trial 67 with value: 0.824.\n",
            "[I 2024-07-11 03:25:06,816] Trial 119 finished with value: 0.81 and parameters: {'hidden_layers': 2, 'hidden_units_0': 211, 'hidden_units_1': 188}. Best is trial 67 with value: 0.824.\n",
            "[I 2024-07-11 03:25:07,973] Trial 120 finished with value: 0.806 and parameters: {'hidden_layers': 2, 'hidden_units_0': 239, 'hidden_units_1': 237}. Best is trial 67 with value: 0.824.\n",
            "[I 2024-07-11 03:25:09,190] Trial 121 finished with value: 0.797 and parameters: {'hidden_layers': 2, 'hidden_units_0': 241, 'hidden_units_1': 231}. Best is trial 67 with value: 0.824.\n",
            "[I 2024-07-11 03:25:10,381] Trial 122 finished with value: 0.807 and parameters: {'hidden_layers': 2, 'hidden_units_0': 233, 'hidden_units_1': 214}. Best is trial 67 with value: 0.824.\n",
            "[I 2024-07-11 03:25:11,345] Trial 123 finished with value: 0.803 and parameters: {'hidden_layers': 2, 'hidden_units_0': 194, 'hidden_units_1': 243}. Best is trial 67 with value: 0.824.\n",
            "[I 2024-07-11 03:25:12,349] Trial 124 finished with value: 0.805 and parameters: {'hidden_layers': 2, 'hidden_units_0': 236, 'hidden_units_1': 235}. Best is trial 67 with value: 0.824.\n",
            "[I 2024-07-11 03:25:13,349] Trial 125 finished with value: 0.777 and parameters: {'hidden_layers': 2, 'hidden_units_0': 229, 'hidden_units_1': 205}. Best is trial 67 with value: 0.824.\n",
            "[I 2024-07-11 03:25:14,095] Trial 126 finished with value: 0.802 and parameters: {'hidden_layers': 1, 'hidden_units_0': 220}. Best is trial 67 with value: 0.824.\n",
            "[I 2024-07-11 03:25:15,065] Trial 127 finished with value: 0.785 and parameters: {'hidden_layers': 2, 'hidden_units_0': 167, 'hidden_units_1': 220}. Best is trial 67 with value: 0.824.\n",
            "[I 2024-07-11 03:25:15,811] Trial 128 finished with value: 0.801 and parameters: {'hidden_layers': 1, 'hidden_units_0': 249}. Best is trial 67 with value: 0.824.\n",
            "[I 2024-07-11 03:25:17,010] Trial 129 finished with value: 0.793 and parameters: {'hidden_layers': 3, 'hidden_units_0': 239, 'hidden_units_1': 82, 'hidden_units_2': 99}. Best is trial 67 with value: 0.824.\n",
            "[I 2024-07-11 03:25:18,414] Trial 130 finished with value: 0.787 and parameters: {'hidden_layers': 4, 'hidden_units_0': 243, 'hidden_units_1': 197, 'hidden_units_2': 19, 'hidden_units_3': 174}. Best is trial 67 with value: 0.824.\n",
            "[I 2024-07-11 03:25:19,129] Trial 131 finished with value: 0.804 and parameters: {'hidden_layers': 1, 'hidden_units_0': 181}. Best is trial 67 with value: 0.824.\n",
            "[I 2024-07-11 03:25:19,847] Trial 132 finished with value: 0.8 and parameters: {'hidden_layers': 1, 'hidden_units_0': 186}. Best is trial 67 with value: 0.824.\n",
            "[I 2024-07-11 03:25:20,708] Trial 133 finished with value: 0.803 and parameters: {'hidden_layers': 1, 'hidden_units_0': 194}. Best is trial 67 with value: 0.824.\n",
            "[I 2024-07-11 03:25:21,602] Trial 134 finished with value: 0.803 and parameters: {'hidden_layers': 1, 'hidden_units_0': 226}. Best is trial 67 with value: 0.824.\n",
            "[I 2024-07-11 03:25:22,470] Trial 135 finished with value: 0.8 and parameters: {'hidden_layers': 1, 'hidden_units_0': 174}. Best is trial 67 with value: 0.824.\n",
            "[I 2024-07-11 03:25:23,841] Trial 136 finished with value: 0.796 and parameters: {'hidden_layers': 2, 'hidden_units_0': 215, 'hidden_units_1': 211}. Best is trial 67 with value: 0.824.\n",
            "[I 2024-07-11 03:25:24,780] Trial 137 finished with value: 0.8 and parameters: {'hidden_layers': 1, 'hidden_units_0': 223}. Best is trial 67 with value: 0.824.\n",
            "[I 2024-07-11 03:25:25,805] Trial 138 finished with value: 0.792 and parameters: {'hidden_layers': 2, 'hidden_units_0': 256, 'hidden_units_1': 228}. Best is trial 67 with value: 0.824.\n",
            "[I 2024-07-11 03:25:26,481] Trial 139 finished with value: 0.807 and parameters: {'hidden_layers': 1, 'hidden_units_0': 150}. Best is trial 67 with value: 0.824.\n",
            "[I 2024-07-11 03:25:27,475] Trial 140 finished with value: 0.819 and parameters: {'hidden_layers': 2, 'hidden_units_0': 207, 'hidden_units_1': 248}. Best is trial 67 with value: 0.824.\n",
            "[I 2024-07-11 03:25:28,489] Trial 141 finished with value: 0.804 and parameters: {'hidden_layers': 2, 'hidden_units_0': 209, 'hidden_units_1': 246}. Best is trial 67 with value: 0.824.\n",
            "[I 2024-07-11 03:25:29,522] Trial 142 finished with value: 0.806 and parameters: {'hidden_layers': 2, 'hidden_units_0': 231, 'hidden_units_1': 251}. Best is trial 67 with value: 0.824.\n",
            "[I 2024-07-11 03:25:30,561] Trial 143 finished with value: 0.816 and parameters: {'hidden_layers': 2, 'hidden_units_0': 205, 'hidden_units_1': 238}. Best is trial 67 with value: 0.824.\n",
            "[I 2024-07-11 03:25:31,754] Trial 144 finished with value: 0.812 and parameters: {'hidden_layers': 2, 'hidden_units_0': 201, 'hidden_units_1': 236}. Best is trial 67 with value: 0.824.\n",
            "[I 2024-07-11 03:25:32,896] Trial 145 finished with value: 0.799 and parameters: {'hidden_layers': 2, 'hidden_units_0': 218, 'hidden_units_1': 241}. Best is trial 67 with value: 0.824.\n",
            "[I 2024-07-11 03:25:34,181] Trial 146 finished with value: 0.8 and parameters: {'hidden_layers': 2, 'hidden_units_0': 207, 'hidden_units_1': 223}. Best is trial 67 with value: 0.824.\n",
            "[I 2024-07-11 03:25:35,206] Trial 147 finished with value: 0.816 and parameters: {'hidden_layers': 2, 'hidden_units_0': 214, 'hidden_units_1': 252}. Best is trial 67 with value: 0.824.\n",
            "[I 2024-07-11 03:25:36,218] Trial 148 finished with value: 0.802 and parameters: {'hidden_layers': 2, 'hidden_units_0': 213, 'hidden_units_1': 251}. Best is trial 67 with value: 0.824.\n",
            "[I 2024-07-11 03:25:37,199] Trial 149 finished with value: 0.799 and parameters: {'hidden_layers': 2, 'hidden_units_0': 204, 'hidden_units_1': 230}. Best is trial 67 with value: 0.824.\n",
            "[I 2024-07-11 03:25:38,496] Trial 150 finished with value: 0.818 and parameters: {'hidden_layers': 2, 'hidden_units_0': 222, 'hidden_units_1': 255}. Best is trial 67 with value: 0.824.\n",
            "[I 2024-07-11 03:25:39,586] Trial 151 finished with value: 0.813 and parameters: {'hidden_layers': 2, 'hidden_units_0': 223, 'hidden_units_1': 256}. Best is trial 67 with value: 0.824.\n",
            "[I 2024-07-11 03:25:40,603] Trial 152 finished with value: 0.805 and parameters: {'hidden_layers': 2, 'hidden_units_0': 222, 'hidden_units_1': 256}. Best is trial 67 with value: 0.824.\n",
            "[I 2024-07-11 03:25:41,612] Trial 153 finished with value: 0.797 and parameters: {'hidden_layers': 2, 'hidden_units_0': 132, 'hidden_units_1': 244}. Best is trial 67 with value: 0.824.\n",
            "[I 2024-07-11 03:25:42,611] Trial 154 finished with value: 0.799 and parameters: {'hidden_layers': 2, 'hidden_units_0': 212, 'hidden_units_1': 251}. Best is trial 67 with value: 0.824.\n",
            "[I 2024-07-11 03:25:43,617] Trial 155 finished with value: 0.787 and parameters: {'hidden_layers': 2, 'hidden_units_0': 218, 'hidden_units_1': 240}. Best is trial 67 with value: 0.824.\n",
            "[I 2024-07-11 03:25:44,751] Trial 156 finished with value: 0.757 and parameters: {'hidden_layers': 2, 'hidden_units_0': 226, 'hidden_units_1': 256}. Best is trial 67 with value: 0.824.\n",
            "[I 2024-07-11 03:25:46,014] Trial 157 finished with value: 0.815 and parameters: {'hidden_layers': 2, 'hidden_units_0': 229, 'hidden_units_1': 247}. Best is trial 67 with value: 0.824.\n",
            "[I 2024-07-11 03:25:47,164] Trial 158 finished with value: 0.803 and parameters: {'hidden_layers': 2, 'hidden_units_0': 233, 'hidden_units_1': 249}. Best is trial 67 with value: 0.824.\n",
            "[I 2024-07-11 03:25:48,186] Trial 159 finished with value: 0.818 and parameters: {'hidden_layers': 2, 'hidden_units_0': 227, 'hidden_units_1': 246}. Best is trial 67 with value: 0.824.\n",
            "[I 2024-07-11 03:25:49,473] Trial 160 finished with value: 0.771 and parameters: {'hidden_layers': 2, 'hidden_units_0': 229, 'hidden_units_1': 245}. Best is trial 67 with value: 0.824.\n",
            "[I 2024-07-11 03:25:50,614] Trial 161 finished with value: 0.803 and parameters: {'hidden_layers': 2, 'hidden_units_0': 223, 'hidden_units_1': 251}. Best is trial 67 with value: 0.824.\n",
            "[I 2024-07-11 03:25:51,636] Trial 162 finished with value: 0.813 and parameters: {'hidden_layers': 2, 'hidden_units_0': 238, 'hidden_units_1': 238}. Best is trial 67 with value: 0.824.\n",
            "[I 2024-07-11 03:25:52,659] Trial 163 finished with value: 0.809 and parameters: {'hidden_layers': 2, 'hidden_units_0': 235, 'hidden_units_1': 232}. Best is trial 67 with value: 0.824.\n",
            "[I 2024-07-11 03:25:53,679] Trial 164 finished with value: 0.795 and parameters: {'hidden_layers': 2, 'hidden_units_0': 228, 'hidden_units_1': 246}. Best is trial 67 with value: 0.824.\n",
            "[I 2024-07-11 03:25:54,701] Trial 165 finished with value: 0.775 and parameters: {'hidden_layers': 2, 'hidden_units_0': 219, 'hidden_units_1': 252}. Best is trial 67 with value: 0.824.\n",
            "[I 2024-07-11 03:25:55,626] Trial 166 finished with value: 0.79 and parameters: {'hidden_layers': 2, 'hidden_units_0': 98, 'hidden_units_1': 242}. Best is trial 67 with value: 0.824.\n",
            "[I 2024-07-11 03:25:56,692] Trial 167 finished with value: 0.806 and parameters: {'hidden_layers': 2, 'hidden_units_0': 245, 'hidden_units_1': 226}. Best is trial 67 with value: 0.824.\n",
            "[I 2024-07-11 03:25:57,884] Trial 168 finished with value: 0.8 and parameters: {'hidden_layers': 2, 'hidden_units_0': 208, 'hidden_units_1': 216}. Best is trial 67 with value: 0.824.\n",
            "[I 2024-07-11 03:25:59,083] Trial 169 finished with value: 0.806 and parameters: {'hidden_layers': 2, 'hidden_units_0': 215, 'hidden_units_1': 234}. Best is trial 67 with value: 0.824.\n",
            "[I 2024-07-11 03:26:00,095] Trial 170 finished with value: 0.807 and parameters: {'hidden_layers': 2, 'hidden_units_0': 232, 'hidden_units_1': 239}. Best is trial 67 with value: 0.824.\n",
            "[I 2024-07-11 03:26:01,123] Trial 171 finished with value: 0.814 and parameters: {'hidden_layers': 2, 'hidden_units_0': 239, 'hidden_units_1': 238}. Best is trial 67 with value: 0.824.\n",
            "[I 2024-07-11 03:26:02,131] Trial 172 finished with value: 0.807 and parameters: {'hidden_layers': 2, 'hidden_units_0': 224, 'hidden_units_1': 256}. Best is trial 67 with value: 0.824.\n",
            "[I 2024-07-11 03:26:03,150] Trial 173 finished with value: 0.801 and parameters: {'hidden_layers': 2, 'hidden_units_0': 241, 'hidden_units_1': 221}. Best is trial 67 with value: 0.824.\n",
            "[I 2024-07-11 03:26:04,182] Trial 174 finished with value: 0.803 and parameters: {'hidden_layers': 2, 'hidden_units_0': 235, 'hidden_units_1': 247}. Best is trial 67 with value: 0.824.\n",
            "[I 2024-07-11 03:26:05,217] Trial 175 finished with value: 0.804 and parameters: {'hidden_layers': 2, 'hidden_units_0': 249, 'hidden_units_1': 227}. Best is trial 67 with value: 0.824.\n",
            "[I 2024-07-11 03:26:06,208] Trial 176 finished with value: 0.798 and parameters: {'hidden_layers': 2, 'hidden_units_0': 227, 'hidden_units_1': 205}. Best is trial 67 with value: 0.824.\n",
            "[I 2024-07-11 03:26:07,216] Trial 177 finished with value: 0.808 and parameters: {'hidden_layers': 2, 'hidden_units_0': 221, 'hidden_units_1': 244}. Best is trial 67 with value: 0.824.\n",
            "[I 2024-07-11 03:26:08,242] Trial 178 finished with value: 0.811 and parameters: {'hidden_layers': 2, 'hidden_units_0': 238, 'hidden_units_1': 237}. Best is trial 67 with value: 0.824.\n",
            "[I 2024-07-11 03:26:09,343] Trial 179 finished with value: 0.817 and parameters: {'hidden_layers': 2, 'hidden_units_0': 214, 'hidden_units_1': 193}. Best is trial 67 with value: 0.824.\n",
            "[I 2024-07-11 03:26:10,579] Trial 180 finished with value: 0.807 and parameters: {'hidden_layers': 2, 'hidden_units_0': 212, 'hidden_units_1': 192}. Best is trial 67 with value: 0.824.\n",
            "[I 2024-07-11 03:26:11,688] Trial 181 finished with value: 0.803 and parameters: {'hidden_layers': 2, 'hidden_units_0': 229, 'hidden_units_1': 198}. Best is trial 67 with value: 0.824.\n",
            "[I 2024-07-11 03:26:12,676] Trial 182 finished with value: 0.777 and parameters: {'hidden_layers': 2, 'hidden_units_0': 219, 'hidden_units_1': 201}. Best is trial 67 with value: 0.824.\n",
            "[I 2024-07-11 03:26:13,672] Trial 183 finished with value: 0.809 and parameters: {'hidden_layers': 2, 'hidden_units_0': 213, 'hidden_units_1': 209}. Best is trial 67 with value: 0.824.\n",
            "[I 2024-07-11 03:26:15,038] Trial 184 finished with value: 0.808 and parameters: {'hidden_layers': 2, 'hidden_units_0': 204, 'hidden_units_1': 231}. Best is trial 67 with value: 0.824.\n",
            "[I 2024-07-11 03:26:16,018] Trial 185 finished with value: 0.799 and parameters: {'hidden_layers': 2, 'hidden_units_0': 198, 'hidden_units_1': 189}. Best is trial 67 with value: 0.824.\n",
            "[I 2024-07-11 03:26:17,063] Trial 186 finished with value: 0.799 and parameters: {'hidden_layers': 2, 'hidden_units_0': 244, 'hidden_units_1': 253}. Best is trial 67 with value: 0.824.\n",
            "[I 2024-07-11 03:26:18,090] Trial 187 finished with value: 0.801 and parameters: {'hidden_layers': 2, 'hidden_units_0': 234, 'hidden_units_1': 246}. Best is trial 67 with value: 0.824.\n",
            "[I 2024-07-11 03:26:18,988] Trial 188 finished with value: 0.809 and parameters: {'hidden_layers': 2, 'hidden_units_0': 121, 'hidden_units_1': 182}. Best is trial 67 with value: 0.824.\n",
            "[I 2024-07-11 03:26:19,985] Trial 189 finished with value: 0.806 and parameters: {'hidden_layers': 2, 'hidden_units_0': 226, 'hidden_units_1': 214}. Best is trial 67 with value: 0.824.\n",
            "[I 2024-07-11 03:26:20,939] Trial 190 finished with value: 0.763 and parameters: {'hidden_layers': 2, 'hidden_units_0': 217, 'hidden_units_1': 137}. Best is trial 67 with value: 0.824.\n",
            "[I 2024-07-11 03:26:22,105] Trial 191 finished with value: 0.802 and parameters: {'hidden_layers': 2, 'hidden_units_0': 237, 'hidden_units_1': 240}. Best is trial 67 with value: 0.824.\n",
            "[I 2024-07-11 03:26:23,375] Trial 192 finished with value: 0.804 and parameters: {'hidden_layers': 2, 'hidden_units_0': 240, 'hidden_units_1': 236}. Best is trial 67 with value: 0.824.\n",
            "[I 2024-07-11 03:26:24,401] Trial 193 finished with value: 0.763 and parameters: {'hidden_layers': 2, 'hidden_units_0': 232, 'hidden_units_1': 249}. Best is trial 67 with value: 0.824.\n",
            "[I 2024-07-11 03:26:25,438] Trial 194 finished with value: 0.806 and parameters: {'hidden_layers': 2, 'hidden_units_0': 245, 'hidden_units_1': 241}. Best is trial 67 with value: 0.824.\n",
            "[I 2024-07-11 03:26:26,438] Trial 195 finished with value: 0.81 and parameters: {'hidden_layers': 2, 'hidden_units_0': 224, 'hidden_units_1': 231}. Best is trial 67 with value: 0.824.\n",
            "[I 2024-07-11 03:26:27,408] Trial 196 finished with value: 0.789 and parameters: {'hidden_layers': 2, 'hidden_units_0': 208, 'hidden_units_1': 218}. Best is trial 67 with value: 0.824.\n",
            "[I 2024-07-11 03:26:28,428] Trial 197 finished with value: 0.801 and parameters: {'hidden_layers': 2, 'hidden_units_0': 251, 'hidden_units_1': 225}. Best is trial 67 with value: 0.824.\n",
            "[I 2024-07-11 03:26:29,479] Trial 198 finished with value: 0.776 and parameters: {'hidden_layers': 2, 'hidden_units_0': 237, 'hidden_units_1': 256}. Best is trial 67 with value: 0.824.\n",
            "[I 2024-07-11 03:26:30,468] Trial 199 finished with value: 0.801 and parameters: {'hidden_layers': 2, 'hidden_units_0': 230, 'hidden_units_1': 195}. Best is trial 67 with value: 0.824.\n",
            "[I 2024-07-11 03:26:31,475] Trial 200 finished with value: 0.771 and parameters: {'hidden_layers': 2, 'hidden_units_0': 221, 'hidden_units_1': 236}. Best is trial 67 with value: 0.824.\n",
            "[I 2024-07-11 03:26:32,480] Trial 201 finished with value: 0.799 and parameters: {'hidden_layers': 2, 'hidden_units_0': 217, 'hidden_units_1': 247}. Best is trial 67 with value: 0.824.\n",
            "[I 2024-07-11 03:26:33,544] Trial 202 finished with value: 0.797 and parameters: {'hidden_layers': 2, 'hidden_units_0': 227, 'hidden_units_1': 206}. Best is trial 67 with value: 0.824.\n",
            "[I 2024-07-11 03:26:34,781] Trial 203 finished with value: 0.802 and parameters: {'hidden_layers': 2, 'hidden_units_0': 211, 'hidden_units_1': 242}. Best is trial 67 with value: 0.824.\n",
            "[I 2024-07-11 03:26:35,937] Trial 204 finished with value: 0.712 and parameters: {'hidden_layers': 2, 'hidden_units_0': 222, 'hidden_units_1': 250}. Best is trial 67 with value: 0.824.\n",
            "[I 2024-07-11 03:26:36,923] Trial 205 finished with value: 0.803 and parameters: {'hidden_layers': 2, 'hidden_units_0': 216, 'hidden_units_1': 229}. Best is trial 67 with value: 0.824.\n",
            "[I 2024-07-11 03:26:37,940] Trial 206 finished with value: 0.795 and parameters: {'hidden_layers': 2, 'hidden_units_0': 241, 'hidden_units_1': 222}. Best is trial 67 with value: 0.824.\n",
            "[I 2024-07-11 03:26:39,381] Trial 207 finished with value: 0.771 and parameters: {'hidden_layers': 4, 'hidden_units_0': 233, 'hidden_units_1': 238, 'hidden_units_2': 66, 'hidden_units_3': 109}. Best is trial 67 with value: 0.824.\n",
            "[I 2024-07-11 03:26:40,590] Trial 208 finished with value: 0.79 and parameters: {'hidden_layers': 3, 'hidden_units_0': 204, 'hidden_units_1': 211, 'hidden_units_2': 114}. Best is trial 67 with value: 0.824.\n",
            "[I 2024-07-11 03:26:41,610] Trial 209 finished with value: 0.799 and parameters: {'hidden_layers': 2, 'hidden_units_0': 228, 'hidden_units_1': 252}. Best is trial 67 with value: 0.824.\n",
            "[I 2024-07-11 03:26:42,575] Trial 210 finished with value: 0.791 and parameters: {'hidden_layers': 2, 'hidden_units_0': 235, 'hidden_units_1': 58}. Best is trial 67 with value: 0.824.\n",
            "[I 2024-07-11 03:26:43,278] Trial 211 finished with value: 0.797 and parameters: {'hidden_layers': 1, 'hidden_units_0': 164}. Best is trial 67 with value: 0.824.\n",
            "[I 2024-07-11 03:26:43,990] Trial 212 finished with value: 0.81 and parameters: {'hidden_layers': 1, 'hidden_units_0': 175}. Best is trial 67 with value: 0.824.\n",
            "[I 2024-07-11 03:26:44,721] Trial 213 finished with value: 0.807 and parameters: {'hidden_layers': 1, 'hidden_units_0': 192}. Best is trial 67 with value: 0.824.\n",
            "[I 2024-07-11 03:26:45,445] Trial 214 finished with value: 0.815 and parameters: {'hidden_layers': 1, 'hidden_units_0': 45}. Best is trial 67 with value: 0.824.\n",
            "[I 2024-07-11 03:26:46,333] Trial 215 finished with value: 0.811 and parameters: {'hidden_layers': 1, 'hidden_units_0': 222}. Best is trial 67 with value: 0.824.\n",
            "[I 2024-07-11 03:26:47,564] Trial 216 finished with value: 0.8 and parameters: {'hidden_layers': 2, 'hidden_units_0': 48, 'hidden_units_1': 244}. Best is trial 67 with value: 0.824.\n",
            "[I 2024-07-11 03:26:48,299] Trial 217 finished with value: 0.801 and parameters: {'hidden_layers': 1, 'hidden_units_0': 215}. Best is trial 67 with value: 0.824.\n",
            "[I 2024-07-11 03:26:49,327] Trial 218 finished with value: 0.802 and parameters: {'hidden_layers': 2, 'hidden_units_0': 246, 'hidden_units_1': 233}. Best is trial 67 with value: 0.824.\n",
            "[I 2024-07-11 03:26:50,254] Trial 219 finished with value: 0.791 and parameters: {'hidden_layers': 2, 'hidden_units_0': 29, 'hidden_units_1': 120}. Best is trial 67 with value: 0.824.\n",
            "[I 2024-07-11 03:26:51,160] Trial 220 finished with value: 0.787 and parameters: {'hidden_layers': 2, 'hidden_units_0': 106, 'hidden_units_1': 186}. Best is trial 67 with value: 0.824.\n",
            "[I 2024-07-11 03:26:51,903] Trial 221 finished with value: 0.795 and parameters: {'hidden_layers': 1, 'hidden_units_0': 240}. Best is trial 67 with value: 0.824.\n",
            "[I 2024-07-11 03:26:52,619] Trial 222 finished with value: 0.804 and parameters: {'hidden_layers': 1, 'hidden_units_0': 198}. Best is trial 67 with value: 0.824.\n",
            "[I 2024-07-11 03:26:53,341] Trial 223 finished with value: 0.808 and parameters: {'hidden_layers': 1, 'hidden_units_0': 182}. Best is trial 67 with value: 0.824.\n",
            "[I 2024-07-11 03:26:54,071] Trial 224 finished with value: 0.812 and parameters: {'hidden_layers': 1, 'hidden_units_0': 210}. Best is trial 67 with value: 0.824.\n",
            "[I 2024-07-11 03:26:54,751] Trial 225 finished with value: 0.803 and parameters: {'hidden_layers': 1, 'hidden_units_0': 69}. Best is trial 67 with value: 0.824.\n",
            "[I 2024-07-11 03:26:55,740] Trial 226 finished with value: 0.797 and parameters: {'hidden_layers': 2, 'hidden_units_0': 231, 'hidden_units_1': 200}. Best is trial 67 with value: 0.824.\n",
            "[I 2024-07-11 03:26:56,474] Trial 227 finished with value: 0.811 and parameters: {'hidden_layers': 1, 'hidden_units_0': 227}. Best is trial 67 with value: 0.824.\n",
            "[I 2024-07-11 03:26:57,469] Trial 228 finished with value: 0.805 and parameters: {'hidden_layers': 2, 'hidden_units_0': 219, 'hidden_units_1': 219}. Best is trial 67 with value: 0.824.\n",
            "[I 2024-07-11 03:26:58,662] Trial 229 finished with value: 0.817 and parameters: {'hidden_layers': 2, 'hidden_units_0': 224, 'hidden_units_1': 247}. Best is trial 67 with value: 0.824.\n",
            "[I 2024-07-11 03:26:59,932] Trial 230 finished with value: 0.775 and parameters: {'hidden_layers': 2, 'hidden_units_0': 224, 'hidden_units_1': 256}. Best is trial 67 with value: 0.824.\n",
            "[I 2024-07-11 03:27:00,922] Trial 231 finished with value: 0.802 and parameters: {'hidden_layers': 2, 'hidden_units_0': 169, 'hidden_units_1': 246}. Best is trial 67 with value: 0.824.\n",
            "[I 2024-07-11 03:27:01,929] Trial 232 finished with value: 0.804 and parameters: {'hidden_layers': 2, 'hidden_units_0': 214, 'hidden_units_1': 240}. Best is trial 67 with value: 0.824.\n",
            "[I 2024-07-11 03:27:02,968] Trial 233 finished with value: 0.782 and parameters: {'hidden_layers': 2, 'hidden_units_0': 237, 'hidden_units_1': 238}. Best is trial 67 with value: 0.824.\n",
            "[I 2024-07-11 03:27:04,001] Trial 234 finished with value: 0.793 and parameters: {'hidden_layers': 2, 'hidden_units_0': 231, 'hidden_units_1': 243}. Best is trial 67 with value: 0.824.\n",
            "[I 2024-07-11 03:27:04,929] Trial 235 finished with value: 0.788 and parameters: {'hidden_layers': 2, 'hidden_units_0': 90, 'hidden_units_1': 248}. Best is trial 67 with value: 0.824.\n",
            "[I 2024-07-11 03:27:05,953] Trial 236 finished with value: 0.807 and parameters: {'hidden_layers': 2, 'hidden_units_0': 220, 'hidden_units_1': 250}. Best is trial 67 with value: 0.824.\n",
            "[I 2024-07-11 03:27:06,679] Trial 237 finished with value: 0.811 and parameters: {'hidden_layers': 1, 'hidden_units_0': 207}. Best is trial 67 with value: 0.824.\n",
            "[I 2024-07-11 03:27:07,675] Trial 238 finished with value: 0.76 and parameters: {'hidden_layers': 2, 'hidden_units_0': 225, 'hidden_units_1': 226}. Best is trial 67 with value: 0.824.\n",
            "[I 2024-07-11 03:27:08,636] Trial 239 finished with value: 0.817 and parameters: {'hidden_layers': 2, 'hidden_units_0': 188, 'hidden_units_1': 194}. Best is trial 67 with value: 0.824.\n",
            "[I 2024-07-11 03:27:09,595] Trial 240 finished with value: 0.811 and parameters: {'hidden_layers': 2, 'hidden_units_0': 188, 'hidden_units_1': 208}. Best is trial 67 with value: 0.824.\n",
            "[I 2024-07-11 03:27:10,726] Trial 241 finished with value: 0.789 and parameters: {'hidden_layers': 2, 'hidden_units_0': 177, 'hidden_units_1': 16}. Best is trial 67 with value: 0.824.\n",
            "[I 2024-07-11 03:27:11,993] Trial 242 finished with value: 0.789 and parameters: {'hidden_layers': 2, 'hidden_units_0': 188, 'hidden_units_1': 191}. Best is trial 67 with value: 0.824.\n",
            "[I 2024-07-11 03:27:12,944] Trial 243 finished with value: 0.797 and parameters: {'hidden_layers': 2, 'hidden_units_0': 181, 'hidden_units_1': 194}. Best is trial 67 with value: 0.824.\n",
            "[I 2024-07-11 03:27:13,896] Trial 244 finished with value: 0.809 and parameters: {'hidden_layers': 2, 'hidden_units_0': 198, 'hidden_units_1': 203}. Best is trial 67 with value: 0.824.\n",
            "[I 2024-07-11 03:27:14,923] Trial 245 finished with value: 0.81 and parameters: {'hidden_layers': 2, 'hidden_units_0': 216, 'hidden_units_1': 253}. Best is trial 67 with value: 0.824.\n",
            "[I 2024-07-11 03:27:15,918] Trial 246 finished with value: 0.798 and parameters: {'hidden_layers': 2, 'hidden_units_0': 236, 'hidden_units_1': 196}. Best is trial 67 with value: 0.824.\n",
            "[I 2024-07-11 03:27:16,663] Trial 247 finished with value: 0.807 and parameters: {'hidden_layers': 1, 'hidden_units_0': 243}. Best is trial 67 with value: 0.824.\n",
            "[I 2024-07-11 03:27:17,671] Trial 248 finished with value: 0.791 and parameters: {'hidden_layers': 2, 'hidden_units_0': 229, 'hidden_units_1': 234}. Best is trial 67 with value: 0.824.\n",
            "[I 2024-07-11 03:27:18,651] Trial 249 finished with value: 0.818 and parameters: {'hidden_layers': 2, 'hidden_units_0': 223, 'hidden_units_1': 176}. Best is trial 67 with value: 0.824.\n",
            "[I 2024-07-11 03:27:19,579] Trial 250 finished with value: 0.801 and parameters: {'hidden_layers': 2, 'hidden_units_0': 157, 'hidden_units_1': 167}. Best is trial 67 with value: 0.824.\n",
            "[I 2024-07-11 03:27:20,561] Trial 251 finished with value: 0.818 and parameters: {'hidden_layers': 2, 'hidden_units_0': 224, 'hidden_units_1': 181}. Best is trial 67 with value: 0.824.\n",
            "[I 2024-07-11 03:27:21,543] Trial 252 finished with value: 0.806 and parameters: {'hidden_layers': 2, 'hidden_units_0': 223, 'hidden_units_1': 183}. Best is trial 67 with value: 0.824.\n",
            "[I 2024-07-11 03:27:22,680] Trial 253 finished with value: 0.785 and parameters: {'hidden_layers': 2, 'hidden_units_0': 232, 'hidden_units_1': 174}. Best is trial 67 with value: 0.824.\n",
            "[I 2024-07-11 03:27:23,948] Trial 254 finished with value: 0.781 and parameters: {'hidden_layers': 2, 'hidden_units_0': 225, 'hidden_units_1': 182}. Best is trial 67 with value: 0.824.\n",
            "[I 2024-07-11 03:27:25,004] Trial 255 finished with value: 0.782 and parameters: {'hidden_layers': 2, 'hidden_units_0': 221, 'hidden_units_1': 176}. Best is trial 67 with value: 0.824.\n",
            "[I 2024-07-11 03:27:26,000] Trial 256 finished with value: 0.783 and parameters: {'hidden_layers': 2, 'hidden_units_0': 238, 'hidden_units_1': 190}. Best is trial 67 with value: 0.824.\n",
            "[I 2024-07-11 03:27:26,990] Trial 257 finished with value: 0.803 and parameters: {'hidden_layers': 2, 'hidden_units_0': 215, 'hidden_units_1': 186}. Best is trial 67 with value: 0.824.\n",
            "[I 2024-07-11 03:27:27,984] Trial 258 finished with value: 0.801 and parameters: {'hidden_layers': 2, 'hidden_units_0': 228, 'hidden_units_1': 170}. Best is trial 67 with value: 0.824.\n",
            "[I 2024-07-11 03:27:28,988] Trial 259 finished with value: 0.795 and parameters: {'hidden_layers': 2, 'hidden_units_0': 234, 'hidden_units_1': 199}. Best is trial 67 with value: 0.824.\n",
            "[I 2024-07-11 03:27:29,971] Trial 260 finished with value: 0.766 and parameters: {'hidden_layers': 2, 'hidden_units_0': 220, 'hidden_units_1': 193}. Best is trial 67 with value: 0.824.\n",
            "[I 2024-07-11 03:27:30,942] Trial 261 finished with value: 0.801 and parameters: {'hidden_layers': 2, 'hidden_units_0': 210, 'hidden_units_1': 156}. Best is trial 67 with value: 0.824.\n",
            "[I 2024-07-11 03:27:31,991] Trial 262 finished with value: 0.8 and parameters: {'hidden_layers': 2, 'hidden_units_0': 248, 'hidden_units_1': 245}. Best is trial 67 with value: 0.824.\n",
            "[I 2024-07-11 03:27:32,973] Trial 263 finished with value: 0.796 and parameters: {'hidden_layers': 2, 'hidden_units_0': 226, 'hidden_units_1': 178}. Best is trial 67 with value: 0.824.\n",
            "[I 2024-07-11 03:27:33,925] Trial 264 finished with value: 0.808 and parameters: {'hidden_layers': 2, 'hidden_units_0': 142, 'hidden_units_1': 214}. Best is trial 67 with value: 0.824.\n",
            "[I 2024-07-11 03:27:35,098] Trial 265 finished with value: 0.788 and parameters: {'hidden_layers': 2, 'hidden_units_0': 241, 'hidden_units_1': 253}. Best is trial 67 with value: 0.824.\n",
            "[I 2024-07-11 03:27:36,379] Trial 266 finished with value: 0.801 and parameters: {'hidden_layers': 2, 'hidden_units_0': 202, 'hidden_units_1': 188}. Best is trial 67 with value: 0.824.\n",
            "[I 2024-07-11 03:27:37,299] Trial 267 finished with value: 0.797 and parameters: {'hidden_layers': 2, 'hidden_units_0': 19, 'hidden_units_1': 239}. Best is trial 67 with value: 0.824.\n",
            "[I 2024-07-11 03:27:38,320] Trial 268 finished with value: 0.804 and parameters: {'hidden_layers': 2, 'hidden_units_0': 232, 'hidden_units_1': 249}. Best is trial 67 with value: 0.824.\n",
            "[I 2024-07-11 03:27:39,598] Trial 269 finished with value: 0.791 and parameters: {'hidden_layers': 3, 'hidden_units_0': 213, 'hidden_units_1': 230, 'hidden_units_2': 236}. Best is trial 67 with value: 0.824.\n",
            "[I 2024-07-11 03:27:40,588] Trial 270 finished with value: 0.807 and parameters: {'hidden_layers': 2, 'hidden_units_0': 219, 'hidden_units_1': 201}. Best is trial 67 with value: 0.824.\n",
            "[I 2024-07-11 03:27:41,623] Trial 271 finished with value: 0.811 and parameters: {'hidden_layers': 2, 'hidden_units_0': 229, 'hidden_units_1': 243}. Best is trial 67 with value: 0.824.\n",
            "[I 2024-07-11 03:27:42,664] Trial 272 finished with value: 0.809 and parameters: {'hidden_layers': 2, 'hidden_units_0': 237, 'hidden_units_1': 256}. Best is trial 67 with value: 0.824.\n",
            "[I 2024-07-11 03:27:43,650] Trial 273 finished with value: 0.752 and parameters: {'hidden_layers': 2, 'hidden_units_0': 207, 'hidden_units_1': 222}. Best is trial 67 with value: 0.824.\n",
            "[I 2024-07-11 03:27:44,638] Trial 274 finished with value: 0.814 and parameters: {'hidden_layers': 2, 'hidden_units_0': 223, 'hidden_units_1': 207}. Best is trial 67 with value: 0.824.\n",
            "[I 2024-07-11 03:27:45,648] Trial 275 finished with value: 0.802 and parameters: {'hidden_layers': 2, 'hidden_units_0': 224, 'hidden_units_1': 204}. Best is trial 67 with value: 0.824.\n",
            "[I 2024-07-11 03:27:47,017] Trial 276 finished with value: 0.766 and parameters: {'hidden_layers': 3, 'hidden_units_0': 218, 'hidden_units_1': 209, 'hidden_units_2': 143}. Best is trial 67 with value: 0.824.\n",
            "[I 2024-07-11 03:27:48,258] Trial 277 finished with value: 0.741 and parameters: {'hidden_layers': 2, 'hidden_units_0': 223, 'hidden_units_1': 197}. Best is trial 67 with value: 0.824.\n",
            "[I 2024-07-11 03:27:49,332] Trial 278 finished with value: 0.814 and parameters: {'hidden_layers': 2, 'hidden_units_0': 212, 'hidden_units_1': 192}. Best is trial 67 with value: 0.824.\n",
            "[I 2024-07-11 03:27:50,312] Trial 279 finished with value: 0.801 and parameters: {'hidden_layers': 2, 'hidden_units_0': 210, 'hidden_units_1': 191}. Best is trial 67 with value: 0.824.\n",
            "[I 2024-07-11 03:27:51,296] Trial 280 finished with value: 0.731 and parameters: {'hidden_layers': 2, 'hidden_units_0': 205, 'hidden_units_1': 186}. Best is trial 67 with value: 0.824.\n",
            "[I 2024-07-11 03:27:52,306] Trial 281 finished with value: 0.806 and parameters: {'hidden_layers': 2, 'hidden_units_0': 213, 'hidden_units_1': 205}. Best is trial 67 with value: 0.824.\n",
            "[I 2024-07-11 03:27:53,310] Trial 282 finished with value: 0.806 and parameters: {'hidden_layers': 2, 'hidden_units_0': 214, 'hidden_units_1': 213}. Best is trial 67 with value: 0.824.\n",
            "[I 2024-07-11 03:27:54,291] Trial 283 finished with value: 0.81 and parameters: {'hidden_layers': 2, 'hidden_units_0': 217, 'hidden_units_1': 200}. Best is trial 67 with value: 0.824.\n",
            "[I 2024-07-11 03:27:55,274] Trial 284 finished with value: 0.81 and parameters: {'hidden_layers': 2, 'hidden_units_0': 229, 'hidden_units_1': 181}. Best is trial 67 with value: 0.824.\n",
            "[I 2024-07-11 03:27:56,182] Trial 285 finished with value: 0.78 and parameters: {'hidden_layers': 2, 'hidden_units_0': 59, 'hidden_units_1': 194}. Best is trial 67 with value: 0.824.\n",
            "[I 2024-07-11 03:27:57,138] Trial 286 finished with value: 0.795 and parameters: {'hidden_layers': 2, 'hidden_units_0': 196, 'hidden_units_1': 217}. Best is trial 67 with value: 0.824.\n",
            "[I 2024-07-11 03:27:58,093] Trial 287 finished with value: 0.791 and parameters: {'hidden_layers': 2, 'hidden_units_0': 203, 'hidden_units_1': 151}. Best is trial 67 with value: 0.824.\n",
            "[I 2024-07-11 03:27:59,094] Trial 288 finished with value: 0.81 and parameters: {'hidden_layers': 2, 'hidden_units_0': 77, 'hidden_units_1': 197}. Best is trial 67 with value: 0.824.\n",
            "[I 2024-07-11 03:28:00,310] Trial 289 finished with value: 0.819 and parameters: {'hidden_layers': 2, 'hidden_units_0': 209, 'hidden_units_1': 81}. Best is trial 67 with value: 0.824.\n",
            "[I 2024-07-11 03:28:01,414] Trial 290 finished with value: 0.798 and parameters: {'hidden_layers': 2, 'hidden_units_0': 211, 'hidden_units_1': 114}. Best is trial 67 with value: 0.824.\n",
            "[I 2024-07-11 03:28:03,033] Trial 291 finished with value: 0.755 and parameters: {'hidden_layers': 5, 'hidden_units_0': 207, 'hidden_units_1': 85, 'hidden_units_2': 197, 'hidden_units_3': 60, 'hidden_units_4': 16}. Best is trial 67 with value: 0.824.\n",
            "[I 2024-07-11 03:28:03,997] Trial 292 finished with value: 0.797 and parameters: {'hidden_layers': 2, 'hidden_units_0': 218, 'hidden_units_1': 138}. Best is trial 67 with value: 0.824.\n",
            "[I 2024-07-11 03:28:04,967] Trial 293 finished with value: 0.768 and parameters: {'hidden_layers': 2, 'hidden_units_0': 221, 'hidden_units_1': 36}. Best is trial 67 with value: 0.824.\n",
            "[I 2024-07-11 03:28:05,934] Trial 294 finished with value: 0.79 and parameters: {'hidden_layers': 2, 'hidden_units_0': 227, 'hidden_units_1': 63}. Best is trial 67 with value: 0.824.\n",
            "[I 2024-07-11 03:28:06,901] Trial 295 finished with value: 0.813 and parameters: {'hidden_layers': 2, 'hidden_units_0': 211, 'hidden_units_1': 128}. Best is trial 67 with value: 0.824.\n",
            "[I 2024-07-11 03:28:07,865] Trial 296 finished with value: 0.775 and parameters: {'hidden_layers': 2, 'hidden_units_0': 201, 'hidden_units_1': 189}. Best is trial 67 with value: 0.824.\n",
            "[I 2024-07-11 03:28:08,874] Trial 297 finished with value: 0.807 and parameters: {'hidden_layers': 2, 'hidden_units_0': 231, 'hidden_units_1': 207}. Best is trial 67 with value: 0.824.\n",
            "[I 2024-07-11 03:28:09,802] Trial 298 finished with value: 0.799 and parameters: {'hidden_layers': 2, 'hidden_units_0': 126, 'hidden_units_1': 235}. Best is trial 67 with value: 0.824.\n",
            "[I 2024-07-11 03:28:10,833] Trial 299 finished with value: 0.792 and parameters: {'hidden_layers': 2, 'hidden_units_0': 234, 'hidden_units_1': 225}. Best is trial 67 with value: 0.824.\n"
          ]
        },
        {
          "output_type": "stream",
          "name": "stdout",
          "text": [
            "Number of finished trials:  300\n",
            "Best trial:\n",
            "  Value:  0.824\n",
            "  Params: \n",
            "    hidden_layers: 2\n",
            "    hidden_units_0: 238\n",
            "    hidden_units_1: 221\n"
          ]
        }
      ]
    },
    {
      "cell_type": "markdown",
      "source": [
        "## Visualización de los Resultados\n",
        "Optuna proporciona herramientas de visualización para entender mejor los resultados de la optimización.\n",
        "\n",
        "* `plot_optimization_history`: Muestra cómo ha cambiado el valor objetivo a lo largo de los ensayos.\n",
        "* `plot_parallel_coordinate`: Muestra las relaciones entre los parámetros y el valor objetivo.\n",
        "* `plot_param_importances`: Muestra la importancia relativa de cada parámetro.\n"
      ],
      "metadata": {
        "id": "zpTzxj5s0leJ"
      }
    },
    {
      "cell_type": "code",
      "source": [
        "import matplotlib.pyplot as plt\n",
        "best_params = study.best_params\n",
        "\n",
        "optuna.visualization.plot_optimization_history(study)"
      ],
      "metadata": {
        "colab": {
          "base_uri": "https://localhost:8080/",
          "height": 542
        },
        "id": "vDCmQDys0ONv",
        "outputId": "f7cf14d1-6dcd-4936-f222-866bbf58b4ff"
      },
      "execution_count": 9,
      "outputs": [
        {
          "output_type": "display_data",
          "data": {
            "text/html": [
              "<html>\n",
              "<head><meta charset=\"utf-8\" /></head>\n",
              "<body>\n",
              "    <div>            <script src=\"https://cdnjs.cloudflare.com/ajax/libs/mathjax/2.7.5/MathJax.js?config=TeX-AMS-MML_SVG\"></script><script type=\"text/javascript\">if (window.MathJax && window.MathJax.Hub && window.MathJax.Hub.Config) {window.MathJax.Hub.Config({SVG: {font: \"STIX-Web\"}});}</script>                <script type=\"text/javascript\">window.PlotlyConfig = {MathJaxConfig: 'local'};</script>\n",
              "        <script charset=\"utf-8\" src=\"https://cdn.plot.ly/plotly-2.24.1.min.js\"></script>                <div id=\"bb4c17bd-c454-4517-9292-9c9c1847a5be\" class=\"plotly-graph-div\" style=\"height:525px; width:100%;\"></div>            <script type=\"text/javascript\">                                    window.PLOTLYENV=window.PLOTLYENV || {};                                    if (document.getElementById(\"bb4c17bd-c454-4517-9292-9c9c1847a5be\")) {                    Plotly.newPlot(                        \"bb4c17bd-c454-4517-9292-9c9c1847a5be\",                        [{\"mode\":\"markers\",\"name\":\"Objective Value\",\"x\":[0,1,2,3,4,5,6,7,8,9,10,11,12,13,14,15,16,17,18,19,20,21,22,23,24,25,26,27,28,29,30,31,32,33,34,35,36,37,38,39,40,41,42,43,44,45,46,47,48,49,50,51,52,53,54,55,56,57,58,59,60,61,62,63,64,65,66,67,68,69,70,71,72,73,74,75,76,77,78,79,80,81,82,83,84,85,86,87,88,89,90,91,92,93,94,95,96,97,98,99,100,101,102,103,104,105,106,107,108,109,110,111,112,113,114,115,116,117,118,119,120,121,122,123,124,125,126,127,128,129,130,131,132,133,134,135,136,137,138,139,140,141,142,143,144,145,146,147,148,149,150,151,152,153,154,155,156,157,158,159,160,161,162,163,164,165,166,167,168,169,170,171,172,173,174,175,176,177,178,179,180,181,182,183,184,185,186,187,188,189,190,191,192,193,194,195,196,197,198,199,200,201,202,203,204,205,206,207,208,209,210,211,212,213,214,215,216,217,218,219,220,221,222,223,224,225,226,227,228,229,230,231,232,233,234,235,236,237,238,239,240,241,242,243,244,245,246,247,248,249,250,251,252,253,254,255,256,257,258,259,260,261,262,263,264,265,266,267,268,269,270,271,272,273,274,275,276,277,278,279,280,281,282,283,284,285,286,287,288,289,290,291,292,293,294,295,296,297,298,299],\"y\":[0.786,0.782,0.779,0.791,0.75,0.738,0.783,0.771,0.799,0.808,0.805,0.808,0.799,0.801,0.811,0.803,0.77,0.789,0.767,0.802,0.788,0.803,0.803,0.807,0.8,0.803,0.8,0.802,0.812,0.793,0.765,0.805,0.809,0.816,0.812,0.791,0.81,0.797,0.784,0.798,0.782,0.805,0.799,0.816,0.803,0.79,0.774,0.796,0.777,0.785,0.788,0.807,0.806,0.804,0.804,0.786,0.802,0.805,0.748,0.791,0.813,0.802,0.81,0.804,0.807,0.813,0.763,0.824,0.813,0.789,0.798,0.794,0.805,0.797,0.808,0.791,0.807,0.802,0.785,0.802,0.801,0.811,0.799,0.757,0.792,0.8,0.792,0.8,0.812,0.811,0.803,0.775,0.816,0.796,0.814,0.778,0.804,0.805,0.765,0.75,0.813,0.808,0.801,0.812,0.806,0.796,0.804,0.778,0.807,0.809,0.798,0.816,0.798,0.808,0.8,0.81,0.802,0.8,0.808,0.81,0.806,0.797,0.807,0.803,0.805,0.777,0.802,0.785,0.801,0.793,0.787,0.804,0.8,0.803,0.803,0.8,0.796,0.8,0.792,0.807,0.819,0.804,0.806,0.816,0.812,0.799,0.8,0.816,0.802,0.799,0.818,0.813,0.805,0.797,0.799,0.787,0.757,0.815,0.803,0.818,0.771,0.803,0.813,0.809,0.795,0.775,0.79,0.806,0.8,0.806,0.807,0.814,0.807,0.801,0.803,0.804,0.798,0.808,0.811,0.817,0.807,0.803,0.777,0.809,0.808,0.799,0.799,0.801,0.809,0.806,0.763,0.802,0.804,0.763,0.806,0.81,0.789,0.801,0.776,0.801,0.771,0.799,0.797,0.802,0.712,0.803,0.795,0.771,0.79,0.799,0.791,0.797,0.81,0.807,0.815,0.811,0.8,0.801,0.802,0.791,0.787,0.795,0.804,0.808,0.812,0.803,0.797,0.811,0.805,0.817,0.775,0.802,0.804,0.782,0.793,0.788,0.807,0.811,0.76,0.817,0.811,0.789,0.789,0.797,0.809,0.81,0.798,0.807,0.791,0.818,0.801,0.818,0.806,0.785,0.781,0.782,0.783,0.803,0.801,0.795,0.766,0.801,0.8,0.796,0.808,0.788,0.801,0.797,0.804,0.791,0.807,0.811,0.809,0.752,0.814,0.802,0.766,0.741,0.814,0.801,0.731,0.806,0.806,0.81,0.81,0.78,0.795,0.791,0.81,0.819,0.798,0.755,0.797,0.768,0.79,0.813,0.775,0.807,0.799,0.792],\"type\":\"scatter\"},{\"mode\":\"lines\",\"name\":\"Best Value\",\"x\":[0,1,2,3,4,5,6,7,8,9,10,11,12,13,14,15,16,17,18,19,20,21,22,23,24,25,26,27,28,29,30,31,32,33,34,35,36,37,38,39,40,41,42,43,44,45,46,47,48,49,50,51,52,53,54,55,56,57,58,59,60,61,62,63,64,65,66,67,68,69,70,71,72,73,74,75,76,77,78,79,80,81,82,83,84,85,86,87,88,89,90,91,92,93,94,95,96,97,98,99,100,101,102,103,104,105,106,107,108,109,110,111,112,113,114,115,116,117,118,119,120,121,122,123,124,125,126,127,128,129,130,131,132,133,134,135,136,137,138,139,140,141,142,143,144,145,146,147,148,149,150,151,152,153,154,155,156,157,158,159,160,161,162,163,164,165,166,167,168,169,170,171,172,173,174,175,176,177,178,179,180,181,182,183,184,185,186,187,188,189,190,191,192,193,194,195,196,197,198,199,200,201,202,203,204,205,206,207,208,209,210,211,212,213,214,215,216,217,218,219,220,221,222,223,224,225,226,227,228,229,230,231,232,233,234,235,236,237,238,239,240,241,242,243,244,245,246,247,248,249,250,251,252,253,254,255,256,257,258,259,260,261,262,263,264,265,266,267,268,269,270,271,272,273,274,275,276,277,278,279,280,281,282,283,284,285,286,287,288,289,290,291,292,293,294,295,296,297,298,299],\"y\":[0.786,0.786,0.786,0.791,0.791,0.791,0.791,0.791,0.799,0.808,0.808,0.808,0.808,0.808,0.811,0.811,0.811,0.811,0.811,0.811,0.811,0.811,0.811,0.811,0.811,0.811,0.811,0.811,0.812,0.812,0.812,0.812,0.812,0.816,0.816,0.816,0.816,0.816,0.816,0.816,0.816,0.816,0.816,0.816,0.816,0.816,0.816,0.816,0.816,0.816,0.816,0.816,0.816,0.816,0.816,0.816,0.816,0.816,0.816,0.816,0.816,0.816,0.816,0.816,0.816,0.816,0.816,0.824,0.824,0.824,0.824,0.824,0.824,0.824,0.824,0.824,0.824,0.824,0.824,0.824,0.824,0.824,0.824,0.824,0.824,0.824,0.824,0.824,0.824,0.824,0.824,0.824,0.824,0.824,0.824,0.824,0.824,0.824,0.824,0.824,0.824,0.824,0.824,0.824,0.824,0.824,0.824,0.824,0.824,0.824,0.824,0.824,0.824,0.824,0.824,0.824,0.824,0.824,0.824,0.824,0.824,0.824,0.824,0.824,0.824,0.824,0.824,0.824,0.824,0.824,0.824,0.824,0.824,0.824,0.824,0.824,0.824,0.824,0.824,0.824,0.824,0.824,0.824,0.824,0.824,0.824,0.824,0.824,0.824,0.824,0.824,0.824,0.824,0.824,0.824,0.824,0.824,0.824,0.824,0.824,0.824,0.824,0.824,0.824,0.824,0.824,0.824,0.824,0.824,0.824,0.824,0.824,0.824,0.824,0.824,0.824,0.824,0.824,0.824,0.824,0.824,0.824,0.824,0.824,0.824,0.824,0.824,0.824,0.824,0.824,0.824,0.824,0.824,0.824,0.824,0.824,0.824,0.824,0.824,0.824,0.824,0.824,0.824,0.824,0.824,0.824,0.824,0.824,0.824,0.824,0.824,0.824,0.824,0.824,0.824,0.824,0.824,0.824,0.824,0.824,0.824,0.824,0.824,0.824,0.824,0.824,0.824,0.824,0.824,0.824,0.824,0.824,0.824,0.824,0.824,0.824,0.824,0.824,0.824,0.824,0.824,0.824,0.824,0.824,0.824,0.824,0.824,0.824,0.824,0.824,0.824,0.824,0.824,0.824,0.824,0.824,0.824,0.824,0.824,0.824,0.824,0.824,0.824,0.824,0.824,0.824,0.824,0.824,0.824,0.824,0.824,0.824,0.824,0.824,0.824,0.824,0.824,0.824,0.824,0.824,0.824,0.824,0.824,0.824,0.824,0.824,0.824,0.824,0.824,0.824,0.824,0.824,0.824,0.824,0.824,0.824,0.824,0.824,0.824,0.824],\"type\":\"scatter\"},{\"marker\":{\"color\":\"#cccccc\"},\"mode\":\"markers\",\"name\":\"Infeasible Trial\",\"showlegend\":false,\"x\":[],\"y\":[],\"type\":\"scatter\"}],                        {\"title\":{\"text\":\"Optimization History Plot\"},\"xaxis\":{\"title\":{\"text\":\"Trial\"}},\"yaxis\":{\"title\":{\"text\":\"Objective Value\"}},\"template\":{\"data\":{\"histogram2dcontour\":[{\"type\":\"histogram2dcontour\",\"colorbar\":{\"outlinewidth\":0,\"ticks\":\"\"},\"colorscale\":[[0.0,\"#0d0887\"],[0.1111111111111111,\"#46039f\"],[0.2222222222222222,\"#7201a8\"],[0.3333333333333333,\"#9c179e\"],[0.4444444444444444,\"#bd3786\"],[0.5555555555555556,\"#d8576b\"],[0.6666666666666666,\"#ed7953\"],[0.7777777777777778,\"#fb9f3a\"],[0.8888888888888888,\"#fdca26\"],[1.0,\"#f0f921\"]]}],\"choropleth\":[{\"type\":\"choropleth\",\"colorbar\":{\"outlinewidth\":0,\"ticks\":\"\"}}],\"histogram2d\":[{\"type\":\"histogram2d\",\"colorbar\":{\"outlinewidth\":0,\"ticks\":\"\"},\"colorscale\":[[0.0,\"#0d0887\"],[0.1111111111111111,\"#46039f\"],[0.2222222222222222,\"#7201a8\"],[0.3333333333333333,\"#9c179e\"],[0.4444444444444444,\"#bd3786\"],[0.5555555555555556,\"#d8576b\"],[0.6666666666666666,\"#ed7953\"],[0.7777777777777778,\"#fb9f3a\"],[0.8888888888888888,\"#fdca26\"],[1.0,\"#f0f921\"]]}],\"heatmap\":[{\"type\":\"heatmap\",\"colorbar\":{\"outlinewidth\":0,\"ticks\":\"\"},\"colorscale\":[[0.0,\"#0d0887\"],[0.1111111111111111,\"#46039f\"],[0.2222222222222222,\"#7201a8\"],[0.3333333333333333,\"#9c179e\"],[0.4444444444444444,\"#bd3786\"],[0.5555555555555556,\"#d8576b\"],[0.6666666666666666,\"#ed7953\"],[0.7777777777777778,\"#fb9f3a\"],[0.8888888888888888,\"#fdca26\"],[1.0,\"#f0f921\"]]}],\"heatmapgl\":[{\"type\":\"heatmapgl\",\"colorbar\":{\"outlinewidth\":0,\"ticks\":\"\"},\"colorscale\":[[0.0,\"#0d0887\"],[0.1111111111111111,\"#46039f\"],[0.2222222222222222,\"#7201a8\"],[0.3333333333333333,\"#9c179e\"],[0.4444444444444444,\"#bd3786\"],[0.5555555555555556,\"#d8576b\"],[0.6666666666666666,\"#ed7953\"],[0.7777777777777778,\"#fb9f3a\"],[0.8888888888888888,\"#fdca26\"],[1.0,\"#f0f921\"]]}],\"contourcarpet\":[{\"type\":\"contourcarpet\",\"colorbar\":{\"outlinewidth\":0,\"ticks\":\"\"}}],\"contour\":[{\"type\":\"contour\",\"colorbar\":{\"outlinewidth\":0,\"ticks\":\"\"},\"colorscale\":[[0.0,\"#0d0887\"],[0.1111111111111111,\"#46039f\"],[0.2222222222222222,\"#7201a8\"],[0.3333333333333333,\"#9c179e\"],[0.4444444444444444,\"#bd3786\"],[0.5555555555555556,\"#d8576b\"],[0.6666666666666666,\"#ed7953\"],[0.7777777777777778,\"#fb9f3a\"],[0.8888888888888888,\"#fdca26\"],[1.0,\"#f0f921\"]]}],\"surface\":[{\"type\":\"surface\",\"colorbar\":{\"outlinewidth\":0,\"ticks\":\"\"},\"colorscale\":[[0.0,\"#0d0887\"],[0.1111111111111111,\"#46039f\"],[0.2222222222222222,\"#7201a8\"],[0.3333333333333333,\"#9c179e\"],[0.4444444444444444,\"#bd3786\"],[0.5555555555555556,\"#d8576b\"],[0.6666666666666666,\"#ed7953\"],[0.7777777777777778,\"#fb9f3a\"],[0.8888888888888888,\"#fdca26\"],[1.0,\"#f0f921\"]]}],\"mesh3d\":[{\"type\":\"mesh3d\",\"colorbar\":{\"outlinewidth\":0,\"ticks\":\"\"}}],\"scatter\":[{\"fillpattern\":{\"fillmode\":\"overlay\",\"size\":10,\"solidity\":0.2},\"type\":\"scatter\"}],\"parcoords\":[{\"type\":\"parcoords\",\"line\":{\"colorbar\":{\"outlinewidth\":0,\"ticks\":\"\"}}}],\"scatterpolargl\":[{\"type\":\"scatterpolargl\",\"marker\":{\"colorbar\":{\"outlinewidth\":0,\"ticks\":\"\"}}}],\"bar\":[{\"error_x\":{\"color\":\"#2a3f5f\"},\"error_y\":{\"color\":\"#2a3f5f\"},\"marker\":{\"line\":{\"color\":\"#E5ECF6\",\"width\":0.5},\"pattern\":{\"fillmode\":\"overlay\",\"size\":10,\"solidity\":0.2}},\"type\":\"bar\"}],\"scattergeo\":[{\"type\":\"scattergeo\",\"marker\":{\"colorbar\":{\"outlinewidth\":0,\"ticks\":\"\"}}}],\"scatterpolar\":[{\"type\":\"scatterpolar\",\"marker\":{\"colorbar\":{\"outlinewidth\":0,\"ticks\":\"\"}}}],\"histogram\":[{\"marker\":{\"pattern\":{\"fillmode\":\"overlay\",\"size\":10,\"solidity\":0.2}},\"type\":\"histogram\"}],\"scattergl\":[{\"type\":\"scattergl\",\"marker\":{\"colorbar\":{\"outlinewidth\":0,\"ticks\":\"\"}}}],\"scatter3d\":[{\"type\":\"scatter3d\",\"line\":{\"colorbar\":{\"outlinewidth\":0,\"ticks\":\"\"}},\"marker\":{\"colorbar\":{\"outlinewidth\":0,\"ticks\":\"\"}}}],\"scattermapbox\":[{\"type\":\"scattermapbox\",\"marker\":{\"colorbar\":{\"outlinewidth\":0,\"ticks\":\"\"}}}],\"scatterternary\":[{\"type\":\"scatterternary\",\"marker\":{\"colorbar\":{\"outlinewidth\":0,\"ticks\":\"\"}}}],\"scattercarpet\":[{\"type\":\"scattercarpet\",\"marker\":{\"colorbar\":{\"outlinewidth\":0,\"ticks\":\"\"}}}],\"carpet\":[{\"aaxis\":{\"endlinecolor\":\"#2a3f5f\",\"gridcolor\":\"white\",\"linecolor\":\"white\",\"minorgridcolor\":\"white\",\"startlinecolor\":\"#2a3f5f\"},\"baxis\":{\"endlinecolor\":\"#2a3f5f\",\"gridcolor\":\"white\",\"linecolor\":\"white\",\"minorgridcolor\":\"white\",\"startlinecolor\":\"#2a3f5f\"},\"type\":\"carpet\"}],\"table\":[{\"cells\":{\"fill\":{\"color\":\"#EBF0F8\"},\"line\":{\"color\":\"white\"}},\"header\":{\"fill\":{\"color\":\"#C8D4E3\"},\"line\":{\"color\":\"white\"}},\"type\":\"table\"}],\"barpolar\":[{\"marker\":{\"line\":{\"color\":\"#E5ECF6\",\"width\":0.5},\"pattern\":{\"fillmode\":\"overlay\",\"size\":10,\"solidity\":0.2}},\"type\":\"barpolar\"}],\"pie\":[{\"automargin\":true,\"type\":\"pie\"}]},\"layout\":{\"autotypenumbers\":\"strict\",\"colorway\":[\"#636efa\",\"#EF553B\",\"#00cc96\",\"#ab63fa\",\"#FFA15A\",\"#19d3f3\",\"#FF6692\",\"#B6E880\",\"#FF97FF\",\"#FECB52\"],\"font\":{\"color\":\"#2a3f5f\"},\"hovermode\":\"closest\",\"hoverlabel\":{\"align\":\"left\"},\"paper_bgcolor\":\"white\",\"plot_bgcolor\":\"#E5ECF6\",\"polar\":{\"bgcolor\":\"#E5ECF6\",\"angularaxis\":{\"gridcolor\":\"white\",\"linecolor\":\"white\",\"ticks\":\"\"},\"radialaxis\":{\"gridcolor\":\"white\",\"linecolor\":\"white\",\"ticks\":\"\"}},\"ternary\":{\"bgcolor\":\"#E5ECF6\",\"aaxis\":{\"gridcolor\":\"white\",\"linecolor\":\"white\",\"ticks\":\"\"},\"baxis\":{\"gridcolor\":\"white\",\"linecolor\":\"white\",\"ticks\":\"\"},\"caxis\":{\"gridcolor\":\"white\",\"linecolor\":\"white\",\"ticks\":\"\"}},\"coloraxis\":{\"colorbar\":{\"outlinewidth\":0,\"ticks\":\"\"}},\"colorscale\":{\"sequential\":[[0.0,\"#0d0887\"],[0.1111111111111111,\"#46039f\"],[0.2222222222222222,\"#7201a8\"],[0.3333333333333333,\"#9c179e\"],[0.4444444444444444,\"#bd3786\"],[0.5555555555555556,\"#d8576b\"],[0.6666666666666666,\"#ed7953\"],[0.7777777777777778,\"#fb9f3a\"],[0.8888888888888888,\"#fdca26\"],[1.0,\"#f0f921\"]],\"sequentialminus\":[[0.0,\"#0d0887\"],[0.1111111111111111,\"#46039f\"],[0.2222222222222222,\"#7201a8\"],[0.3333333333333333,\"#9c179e\"],[0.4444444444444444,\"#bd3786\"],[0.5555555555555556,\"#d8576b\"],[0.6666666666666666,\"#ed7953\"],[0.7777777777777778,\"#fb9f3a\"],[0.8888888888888888,\"#fdca26\"],[1.0,\"#f0f921\"]],\"diverging\":[[0,\"#8e0152\"],[0.1,\"#c51b7d\"],[0.2,\"#de77ae\"],[0.3,\"#f1b6da\"],[0.4,\"#fde0ef\"],[0.5,\"#f7f7f7\"],[0.6,\"#e6f5d0\"],[0.7,\"#b8e186\"],[0.8,\"#7fbc41\"],[0.9,\"#4d9221\"],[1,\"#276419\"]]},\"xaxis\":{\"gridcolor\":\"white\",\"linecolor\":\"white\",\"ticks\":\"\",\"title\":{\"standoff\":15},\"zerolinecolor\":\"white\",\"automargin\":true,\"zerolinewidth\":2},\"yaxis\":{\"gridcolor\":\"white\",\"linecolor\":\"white\",\"ticks\":\"\",\"title\":{\"standoff\":15},\"zerolinecolor\":\"white\",\"automargin\":true,\"zerolinewidth\":2},\"scene\":{\"xaxis\":{\"backgroundcolor\":\"#E5ECF6\",\"gridcolor\":\"white\",\"linecolor\":\"white\",\"showbackground\":true,\"ticks\":\"\",\"zerolinecolor\":\"white\",\"gridwidth\":2},\"yaxis\":{\"backgroundcolor\":\"#E5ECF6\",\"gridcolor\":\"white\",\"linecolor\":\"white\",\"showbackground\":true,\"ticks\":\"\",\"zerolinecolor\":\"white\",\"gridwidth\":2},\"zaxis\":{\"backgroundcolor\":\"#E5ECF6\",\"gridcolor\":\"white\",\"linecolor\":\"white\",\"showbackground\":true,\"ticks\":\"\",\"zerolinecolor\":\"white\",\"gridwidth\":2}},\"shapedefaults\":{\"line\":{\"color\":\"#2a3f5f\"}},\"annotationdefaults\":{\"arrowcolor\":\"#2a3f5f\",\"arrowhead\":0,\"arrowwidth\":1},\"geo\":{\"bgcolor\":\"white\",\"landcolor\":\"#E5ECF6\",\"subunitcolor\":\"white\",\"showland\":true,\"showlakes\":true,\"lakecolor\":\"white\"},\"title\":{\"x\":0.05},\"mapbox\":{\"style\":\"light\"}}}},                        {\"responsive\": true}                    ).then(function(){\n",
              "                            \n",
              "var gd = document.getElementById('bb4c17bd-c454-4517-9292-9c9c1847a5be');\n",
              "var x = new MutationObserver(function (mutations, observer) {{\n",
              "        var display = window.getComputedStyle(gd).display;\n",
              "        if (!display || display === 'none') {{\n",
              "            console.log([gd, 'removed!']);\n",
              "            Plotly.purge(gd);\n",
              "            observer.disconnect();\n",
              "        }}\n",
              "}});\n",
              "\n",
              "// Listen for the removal of the full notebook cells\n",
              "var notebookContainer = gd.closest('#notebook-container');\n",
              "if (notebookContainer) {{\n",
              "    x.observe(notebookContainer, {childList: true});\n",
              "}}\n",
              "\n",
              "// Listen for the clearing of the current output cell\n",
              "var outputEl = gd.closest('.output');\n",
              "if (outputEl) {{\n",
              "    x.observe(outputEl, {childList: true});\n",
              "}}\n",
              "\n",
              "                        })                };                            </script>        </div>\n",
              "</body>\n",
              "</html>"
            ]
          },
          "metadata": {}
        }
      ]
    },
    {
      "cell_type": "code",
      "source": [
        "optuna.visualization.plot_parallel_coordinate(study)"
      ],
      "metadata": {
        "colab": {
          "base_uri": "https://localhost:8080/",
          "height": 542
        },
        "id": "pNnbIxsY0wEX",
        "outputId": "807261ce-86c7-47e9-eec3-e6fda1558072"
      },
      "execution_count": 10,
      "outputs": [
        {
          "output_type": "display_data",
          "data": {
            "text/html": [
              "<html>\n",
              "<head><meta charset=\"utf-8\" /></head>\n",
              "<body>\n",
              "    <div>            <script src=\"https://cdnjs.cloudflare.com/ajax/libs/mathjax/2.7.5/MathJax.js?config=TeX-AMS-MML_SVG\"></script><script type=\"text/javascript\">if (window.MathJax && window.MathJax.Hub && window.MathJax.Hub.Config) {window.MathJax.Hub.Config({SVG: {font: \"STIX-Web\"}});}</script>                <script type=\"text/javascript\">window.PlotlyConfig = {MathJaxConfig: 'local'};</script>\n",
              "        <script charset=\"utf-8\" src=\"https://cdn.plot.ly/plotly-2.24.1.min.js\"></script>                <div id=\"ae7e30c6-7670-404a-a8b9-3ca70ab30ceb\" class=\"plotly-graph-div\" style=\"height:525px; width:100%;\"></div>            <script type=\"text/javascript\">                                    window.PLOTLYENV=window.PLOTLYENV || {};                                    if (document.getElementById(\"ae7e30c6-7670-404a-a8b9-3ca70ab30ceb\")) {                    Plotly.newPlot(                        \"ae7e30c6-7670-404a-a8b9-3ca70ab30ceb\",                        [{\"dimensions\":[{\"label\":\"Objective Value\",\"range\":[0.75,0.779],\"values\":[0.779,0.771,0.774,0.75,0.755]},{\"label\":\"hidden_layers\",\"range\":[5,5],\"values\":[5,5,5,5,5]},{\"label\":\"hidden_units_0\",\"range\":[30,225],\"values\":[30,206,144,225,207]},{\"label\":\"hidden_units_1\",\"range\":[51,203],\"values\":[188,51,172,203,85]},{\"label\":\"hidden_units_2\",\"range\":[17,197],\"values\":[39,124,17,157,197]},{\"label\":\"hidden_units_3\",\"range\":[22,180],\"values\":[79,32,180,22,60]},{\"label\":\"hidden_units_4\",\"range\":[16,247],\"values\":[87,108,247,243,16]}],\"labelangle\":30,\"labelside\":\"bottom\",\"line\":{\"color\":[0.779,0.771,0.774,0.75,0.755],\"colorbar\":{\"title\":{\"text\":\"Objective Value\"}},\"colorscale\":[[0.0,\"rgb(247,251,255)\"],[0.125,\"rgb(222,235,247)\"],[0.25,\"rgb(198,219,239)\"],[0.375,\"rgb(158,202,225)\"],[0.5,\"rgb(107,174,214)\"],[0.625,\"rgb(66,146,198)\"],[0.75,\"rgb(33,113,181)\"],[0.875,\"rgb(8,81,156)\"],[1.0,\"rgb(8,48,107)\"]],\"reversescale\":false,\"showscale\":true},\"type\":\"parcoords\"}],                        {\"title\":{\"text\":\"Parallel Coordinate Plot\"},\"template\":{\"data\":{\"histogram2dcontour\":[{\"type\":\"histogram2dcontour\",\"colorbar\":{\"outlinewidth\":0,\"ticks\":\"\"},\"colorscale\":[[0.0,\"#0d0887\"],[0.1111111111111111,\"#46039f\"],[0.2222222222222222,\"#7201a8\"],[0.3333333333333333,\"#9c179e\"],[0.4444444444444444,\"#bd3786\"],[0.5555555555555556,\"#d8576b\"],[0.6666666666666666,\"#ed7953\"],[0.7777777777777778,\"#fb9f3a\"],[0.8888888888888888,\"#fdca26\"],[1.0,\"#f0f921\"]]}],\"choropleth\":[{\"type\":\"choropleth\",\"colorbar\":{\"outlinewidth\":0,\"ticks\":\"\"}}],\"histogram2d\":[{\"type\":\"histogram2d\",\"colorbar\":{\"outlinewidth\":0,\"ticks\":\"\"},\"colorscale\":[[0.0,\"#0d0887\"],[0.1111111111111111,\"#46039f\"],[0.2222222222222222,\"#7201a8\"],[0.3333333333333333,\"#9c179e\"],[0.4444444444444444,\"#bd3786\"],[0.5555555555555556,\"#d8576b\"],[0.6666666666666666,\"#ed7953\"],[0.7777777777777778,\"#fb9f3a\"],[0.8888888888888888,\"#fdca26\"],[1.0,\"#f0f921\"]]}],\"heatmap\":[{\"type\":\"heatmap\",\"colorbar\":{\"outlinewidth\":0,\"ticks\":\"\"},\"colorscale\":[[0.0,\"#0d0887\"],[0.1111111111111111,\"#46039f\"],[0.2222222222222222,\"#7201a8\"],[0.3333333333333333,\"#9c179e\"],[0.4444444444444444,\"#bd3786\"],[0.5555555555555556,\"#d8576b\"],[0.6666666666666666,\"#ed7953\"],[0.7777777777777778,\"#fb9f3a\"],[0.8888888888888888,\"#fdca26\"],[1.0,\"#f0f921\"]]}],\"heatmapgl\":[{\"type\":\"heatmapgl\",\"colorbar\":{\"outlinewidth\":0,\"ticks\":\"\"},\"colorscale\":[[0.0,\"#0d0887\"],[0.1111111111111111,\"#46039f\"],[0.2222222222222222,\"#7201a8\"],[0.3333333333333333,\"#9c179e\"],[0.4444444444444444,\"#bd3786\"],[0.5555555555555556,\"#d8576b\"],[0.6666666666666666,\"#ed7953\"],[0.7777777777777778,\"#fb9f3a\"],[0.8888888888888888,\"#fdca26\"],[1.0,\"#f0f921\"]]}],\"contourcarpet\":[{\"type\":\"contourcarpet\",\"colorbar\":{\"outlinewidth\":0,\"ticks\":\"\"}}],\"contour\":[{\"type\":\"contour\",\"colorbar\":{\"outlinewidth\":0,\"ticks\":\"\"},\"colorscale\":[[0.0,\"#0d0887\"],[0.1111111111111111,\"#46039f\"],[0.2222222222222222,\"#7201a8\"],[0.3333333333333333,\"#9c179e\"],[0.4444444444444444,\"#bd3786\"],[0.5555555555555556,\"#d8576b\"],[0.6666666666666666,\"#ed7953\"],[0.7777777777777778,\"#fb9f3a\"],[0.8888888888888888,\"#fdca26\"],[1.0,\"#f0f921\"]]}],\"surface\":[{\"type\":\"surface\",\"colorbar\":{\"outlinewidth\":0,\"ticks\":\"\"},\"colorscale\":[[0.0,\"#0d0887\"],[0.1111111111111111,\"#46039f\"],[0.2222222222222222,\"#7201a8\"],[0.3333333333333333,\"#9c179e\"],[0.4444444444444444,\"#bd3786\"],[0.5555555555555556,\"#d8576b\"],[0.6666666666666666,\"#ed7953\"],[0.7777777777777778,\"#fb9f3a\"],[0.8888888888888888,\"#fdca26\"],[1.0,\"#f0f921\"]]}],\"mesh3d\":[{\"type\":\"mesh3d\",\"colorbar\":{\"outlinewidth\":0,\"ticks\":\"\"}}],\"scatter\":[{\"fillpattern\":{\"fillmode\":\"overlay\",\"size\":10,\"solidity\":0.2},\"type\":\"scatter\"}],\"parcoords\":[{\"type\":\"parcoords\",\"line\":{\"colorbar\":{\"outlinewidth\":0,\"ticks\":\"\"}}}],\"scatterpolargl\":[{\"type\":\"scatterpolargl\",\"marker\":{\"colorbar\":{\"outlinewidth\":0,\"ticks\":\"\"}}}],\"bar\":[{\"error_x\":{\"color\":\"#2a3f5f\"},\"error_y\":{\"color\":\"#2a3f5f\"},\"marker\":{\"line\":{\"color\":\"#E5ECF6\",\"width\":0.5},\"pattern\":{\"fillmode\":\"overlay\",\"size\":10,\"solidity\":0.2}},\"type\":\"bar\"}],\"scattergeo\":[{\"type\":\"scattergeo\",\"marker\":{\"colorbar\":{\"outlinewidth\":0,\"ticks\":\"\"}}}],\"scatterpolar\":[{\"type\":\"scatterpolar\",\"marker\":{\"colorbar\":{\"outlinewidth\":0,\"ticks\":\"\"}}}],\"histogram\":[{\"marker\":{\"pattern\":{\"fillmode\":\"overlay\",\"size\":10,\"solidity\":0.2}},\"type\":\"histogram\"}],\"scattergl\":[{\"type\":\"scattergl\",\"marker\":{\"colorbar\":{\"outlinewidth\":0,\"ticks\":\"\"}}}],\"scatter3d\":[{\"type\":\"scatter3d\",\"line\":{\"colorbar\":{\"outlinewidth\":0,\"ticks\":\"\"}},\"marker\":{\"colorbar\":{\"outlinewidth\":0,\"ticks\":\"\"}}}],\"scattermapbox\":[{\"type\":\"scattermapbox\",\"marker\":{\"colorbar\":{\"outlinewidth\":0,\"ticks\":\"\"}}}],\"scatterternary\":[{\"type\":\"scatterternary\",\"marker\":{\"colorbar\":{\"outlinewidth\":0,\"ticks\":\"\"}}}],\"scattercarpet\":[{\"type\":\"scattercarpet\",\"marker\":{\"colorbar\":{\"outlinewidth\":0,\"ticks\":\"\"}}}],\"carpet\":[{\"aaxis\":{\"endlinecolor\":\"#2a3f5f\",\"gridcolor\":\"white\",\"linecolor\":\"white\",\"minorgridcolor\":\"white\",\"startlinecolor\":\"#2a3f5f\"},\"baxis\":{\"endlinecolor\":\"#2a3f5f\",\"gridcolor\":\"white\",\"linecolor\":\"white\",\"minorgridcolor\":\"white\",\"startlinecolor\":\"#2a3f5f\"},\"type\":\"carpet\"}],\"table\":[{\"cells\":{\"fill\":{\"color\":\"#EBF0F8\"},\"line\":{\"color\":\"white\"}},\"header\":{\"fill\":{\"color\":\"#C8D4E3\"},\"line\":{\"color\":\"white\"}},\"type\":\"table\"}],\"barpolar\":[{\"marker\":{\"line\":{\"color\":\"#E5ECF6\",\"width\":0.5},\"pattern\":{\"fillmode\":\"overlay\",\"size\":10,\"solidity\":0.2}},\"type\":\"barpolar\"}],\"pie\":[{\"automargin\":true,\"type\":\"pie\"}]},\"layout\":{\"autotypenumbers\":\"strict\",\"colorway\":[\"#636efa\",\"#EF553B\",\"#00cc96\",\"#ab63fa\",\"#FFA15A\",\"#19d3f3\",\"#FF6692\",\"#B6E880\",\"#FF97FF\",\"#FECB52\"],\"font\":{\"color\":\"#2a3f5f\"},\"hovermode\":\"closest\",\"hoverlabel\":{\"align\":\"left\"},\"paper_bgcolor\":\"white\",\"plot_bgcolor\":\"#E5ECF6\",\"polar\":{\"bgcolor\":\"#E5ECF6\",\"angularaxis\":{\"gridcolor\":\"white\",\"linecolor\":\"white\",\"ticks\":\"\"},\"radialaxis\":{\"gridcolor\":\"white\",\"linecolor\":\"white\",\"ticks\":\"\"}},\"ternary\":{\"bgcolor\":\"#E5ECF6\",\"aaxis\":{\"gridcolor\":\"white\",\"linecolor\":\"white\",\"ticks\":\"\"},\"baxis\":{\"gridcolor\":\"white\",\"linecolor\":\"white\",\"ticks\":\"\"},\"caxis\":{\"gridcolor\":\"white\",\"linecolor\":\"white\",\"ticks\":\"\"}},\"coloraxis\":{\"colorbar\":{\"outlinewidth\":0,\"ticks\":\"\"}},\"colorscale\":{\"sequential\":[[0.0,\"#0d0887\"],[0.1111111111111111,\"#46039f\"],[0.2222222222222222,\"#7201a8\"],[0.3333333333333333,\"#9c179e\"],[0.4444444444444444,\"#bd3786\"],[0.5555555555555556,\"#d8576b\"],[0.6666666666666666,\"#ed7953\"],[0.7777777777777778,\"#fb9f3a\"],[0.8888888888888888,\"#fdca26\"],[1.0,\"#f0f921\"]],\"sequentialminus\":[[0.0,\"#0d0887\"],[0.1111111111111111,\"#46039f\"],[0.2222222222222222,\"#7201a8\"],[0.3333333333333333,\"#9c179e\"],[0.4444444444444444,\"#bd3786\"],[0.5555555555555556,\"#d8576b\"],[0.6666666666666666,\"#ed7953\"],[0.7777777777777778,\"#fb9f3a\"],[0.8888888888888888,\"#fdca26\"],[1.0,\"#f0f921\"]],\"diverging\":[[0,\"#8e0152\"],[0.1,\"#c51b7d\"],[0.2,\"#de77ae\"],[0.3,\"#f1b6da\"],[0.4,\"#fde0ef\"],[0.5,\"#f7f7f7\"],[0.6,\"#e6f5d0\"],[0.7,\"#b8e186\"],[0.8,\"#7fbc41\"],[0.9,\"#4d9221\"],[1,\"#276419\"]]},\"xaxis\":{\"gridcolor\":\"white\",\"linecolor\":\"white\",\"ticks\":\"\",\"title\":{\"standoff\":15},\"zerolinecolor\":\"white\",\"automargin\":true,\"zerolinewidth\":2},\"yaxis\":{\"gridcolor\":\"white\",\"linecolor\":\"white\",\"ticks\":\"\",\"title\":{\"standoff\":15},\"zerolinecolor\":\"white\",\"automargin\":true,\"zerolinewidth\":2},\"scene\":{\"xaxis\":{\"backgroundcolor\":\"#E5ECF6\",\"gridcolor\":\"white\",\"linecolor\":\"white\",\"showbackground\":true,\"ticks\":\"\",\"zerolinecolor\":\"white\",\"gridwidth\":2},\"yaxis\":{\"backgroundcolor\":\"#E5ECF6\",\"gridcolor\":\"white\",\"linecolor\":\"white\",\"showbackground\":true,\"ticks\":\"\",\"zerolinecolor\":\"white\",\"gridwidth\":2},\"zaxis\":{\"backgroundcolor\":\"#E5ECF6\",\"gridcolor\":\"white\",\"linecolor\":\"white\",\"showbackground\":true,\"ticks\":\"\",\"zerolinecolor\":\"white\",\"gridwidth\":2}},\"shapedefaults\":{\"line\":{\"color\":\"#2a3f5f\"}},\"annotationdefaults\":{\"arrowcolor\":\"#2a3f5f\",\"arrowhead\":0,\"arrowwidth\":1},\"geo\":{\"bgcolor\":\"white\",\"landcolor\":\"#E5ECF6\",\"subunitcolor\":\"white\",\"showland\":true,\"showlakes\":true,\"lakecolor\":\"white\"},\"title\":{\"x\":0.05},\"mapbox\":{\"style\":\"light\"}}}},                        {\"responsive\": true}                    ).then(function(){\n",
              "                            \n",
              "var gd = document.getElementById('ae7e30c6-7670-404a-a8b9-3ca70ab30ceb');\n",
              "var x = new MutationObserver(function (mutations, observer) {{\n",
              "        var display = window.getComputedStyle(gd).display;\n",
              "        if (!display || display === 'none') {{\n",
              "            console.log([gd, 'removed!']);\n",
              "            Plotly.purge(gd);\n",
              "            observer.disconnect();\n",
              "        }}\n",
              "}});\n",
              "\n",
              "// Listen for the removal of the full notebook cells\n",
              "var notebookContainer = gd.closest('#notebook-container');\n",
              "if (notebookContainer) {{\n",
              "    x.observe(notebookContainer, {childList: true});\n",
              "}}\n",
              "\n",
              "// Listen for the clearing of the current output cell\n",
              "var outputEl = gd.closest('.output');\n",
              "if (outputEl) {{\n",
              "    x.observe(outputEl, {childList: true});\n",
              "}}\n",
              "\n",
              "                        })                };                            </script>        </div>\n",
              "</body>\n",
              "</html>"
            ]
          },
          "metadata": {}
        }
      ]
    },
    {
      "cell_type": "code",
      "source": [
        "optuna.visualization.plot_param_importances(study)"
      ],
      "metadata": {
        "colab": {
          "base_uri": "https://localhost:8080/",
          "height": 542
        },
        "id": "GQrP_ZmE0x3t",
        "outputId": "630dccb6-e8d7-4a98-d011-79720f3c03bf"
      },
      "execution_count": 11,
      "outputs": [
        {
          "output_type": "display_data",
          "data": {
            "text/html": [
              "<html>\n",
              "<head><meta charset=\"utf-8\" /></head>\n",
              "<body>\n",
              "    <div>            <script src=\"https://cdnjs.cloudflare.com/ajax/libs/mathjax/2.7.5/MathJax.js?config=TeX-AMS-MML_SVG\"></script><script type=\"text/javascript\">if (window.MathJax && window.MathJax.Hub && window.MathJax.Hub.Config) {window.MathJax.Hub.Config({SVG: {font: \"STIX-Web\"}});}</script>                <script type=\"text/javascript\">window.PlotlyConfig = {MathJaxConfig: 'local'};</script>\n",
              "        <script charset=\"utf-8\" src=\"https://cdn.plot.ly/plotly-2.24.1.min.js\"></script>                <div id=\"43c00546-72c3-498a-9417-97a8d6187a9f\" class=\"plotly-graph-div\" style=\"height:525px; width:100%;\"></div>            <script type=\"text/javascript\">                                    window.PLOTLYENV=window.PLOTLYENV || {};                                    if (document.getElementById(\"43c00546-72c3-498a-9417-97a8d6187a9f\")) {                    Plotly.newPlot(                        \"43c00546-72c3-498a-9417-97a8d6187a9f\",                        [{\"cliponaxis\":false,\"hovertemplate\":[\"hidden_units_0 (IntDistribution): 0.16827674832858752\\u003cextra\\u003e\\u003c\\u002fextra\\u003e\",\"hidden_layers (IntDistribution): 0.8317232516714125\\u003cextra\\u003e\\u003c\\u002fextra\\u003e\"],\"name\":\"Objective Value\",\"orientation\":\"h\",\"text\":[\"0.17\",\"0.83\"],\"textposition\":\"outside\",\"x\":[0.16827674832858752,0.8317232516714125],\"y\":[\"hidden_units_0\",\"hidden_layers\"],\"type\":\"bar\"}],                        {\"title\":{\"text\":\"Hyperparameter Importances\"},\"xaxis\":{\"title\":{\"text\":\"Hyperparameter Importance\"}},\"yaxis\":{\"title\":{\"text\":\"Hyperparameter\"}},\"template\":{\"data\":{\"histogram2dcontour\":[{\"type\":\"histogram2dcontour\",\"colorbar\":{\"outlinewidth\":0,\"ticks\":\"\"},\"colorscale\":[[0.0,\"#0d0887\"],[0.1111111111111111,\"#46039f\"],[0.2222222222222222,\"#7201a8\"],[0.3333333333333333,\"#9c179e\"],[0.4444444444444444,\"#bd3786\"],[0.5555555555555556,\"#d8576b\"],[0.6666666666666666,\"#ed7953\"],[0.7777777777777778,\"#fb9f3a\"],[0.8888888888888888,\"#fdca26\"],[1.0,\"#f0f921\"]]}],\"choropleth\":[{\"type\":\"choropleth\",\"colorbar\":{\"outlinewidth\":0,\"ticks\":\"\"}}],\"histogram2d\":[{\"type\":\"histogram2d\",\"colorbar\":{\"outlinewidth\":0,\"ticks\":\"\"},\"colorscale\":[[0.0,\"#0d0887\"],[0.1111111111111111,\"#46039f\"],[0.2222222222222222,\"#7201a8\"],[0.3333333333333333,\"#9c179e\"],[0.4444444444444444,\"#bd3786\"],[0.5555555555555556,\"#d8576b\"],[0.6666666666666666,\"#ed7953\"],[0.7777777777777778,\"#fb9f3a\"],[0.8888888888888888,\"#fdca26\"],[1.0,\"#f0f921\"]]}],\"heatmap\":[{\"type\":\"heatmap\",\"colorbar\":{\"outlinewidth\":0,\"ticks\":\"\"},\"colorscale\":[[0.0,\"#0d0887\"],[0.1111111111111111,\"#46039f\"],[0.2222222222222222,\"#7201a8\"],[0.3333333333333333,\"#9c179e\"],[0.4444444444444444,\"#bd3786\"],[0.5555555555555556,\"#d8576b\"],[0.6666666666666666,\"#ed7953\"],[0.7777777777777778,\"#fb9f3a\"],[0.8888888888888888,\"#fdca26\"],[1.0,\"#f0f921\"]]}],\"heatmapgl\":[{\"type\":\"heatmapgl\",\"colorbar\":{\"outlinewidth\":0,\"ticks\":\"\"},\"colorscale\":[[0.0,\"#0d0887\"],[0.1111111111111111,\"#46039f\"],[0.2222222222222222,\"#7201a8\"],[0.3333333333333333,\"#9c179e\"],[0.4444444444444444,\"#bd3786\"],[0.5555555555555556,\"#d8576b\"],[0.6666666666666666,\"#ed7953\"],[0.7777777777777778,\"#fb9f3a\"],[0.8888888888888888,\"#fdca26\"],[1.0,\"#f0f921\"]]}],\"contourcarpet\":[{\"type\":\"contourcarpet\",\"colorbar\":{\"outlinewidth\":0,\"ticks\":\"\"}}],\"contour\":[{\"type\":\"contour\",\"colorbar\":{\"outlinewidth\":0,\"ticks\":\"\"},\"colorscale\":[[0.0,\"#0d0887\"],[0.1111111111111111,\"#46039f\"],[0.2222222222222222,\"#7201a8\"],[0.3333333333333333,\"#9c179e\"],[0.4444444444444444,\"#bd3786\"],[0.5555555555555556,\"#d8576b\"],[0.6666666666666666,\"#ed7953\"],[0.7777777777777778,\"#fb9f3a\"],[0.8888888888888888,\"#fdca26\"],[1.0,\"#f0f921\"]]}],\"surface\":[{\"type\":\"surface\",\"colorbar\":{\"outlinewidth\":0,\"ticks\":\"\"},\"colorscale\":[[0.0,\"#0d0887\"],[0.1111111111111111,\"#46039f\"],[0.2222222222222222,\"#7201a8\"],[0.3333333333333333,\"#9c179e\"],[0.4444444444444444,\"#bd3786\"],[0.5555555555555556,\"#d8576b\"],[0.6666666666666666,\"#ed7953\"],[0.7777777777777778,\"#fb9f3a\"],[0.8888888888888888,\"#fdca26\"],[1.0,\"#f0f921\"]]}],\"mesh3d\":[{\"type\":\"mesh3d\",\"colorbar\":{\"outlinewidth\":0,\"ticks\":\"\"}}],\"scatter\":[{\"fillpattern\":{\"fillmode\":\"overlay\",\"size\":10,\"solidity\":0.2},\"type\":\"scatter\"}],\"parcoords\":[{\"type\":\"parcoords\",\"line\":{\"colorbar\":{\"outlinewidth\":0,\"ticks\":\"\"}}}],\"scatterpolargl\":[{\"type\":\"scatterpolargl\",\"marker\":{\"colorbar\":{\"outlinewidth\":0,\"ticks\":\"\"}}}],\"bar\":[{\"error_x\":{\"color\":\"#2a3f5f\"},\"error_y\":{\"color\":\"#2a3f5f\"},\"marker\":{\"line\":{\"color\":\"#E5ECF6\",\"width\":0.5},\"pattern\":{\"fillmode\":\"overlay\",\"size\":10,\"solidity\":0.2}},\"type\":\"bar\"}],\"scattergeo\":[{\"type\":\"scattergeo\",\"marker\":{\"colorbar\":{\"outlinewidth\":0,\"ticks\":\"\"}}}],\"scatterpolar\":[{\"type\":\"scatterpolar\",\"marker\":{\"colorbar\":{\"outlinewidth\":0,\"ticks\":\"\"}}}],\"histogram\":[{\"marker\":{\"pattern\":{\"fillmode\":\"overlay\",\"size\":10,\"solidity\":0.2}},\"type\":\"histogram\"}],\"scattergl\":[{\"type\":\"scattergl\",\"marker\":{\"colorbar\":{\"outlinewidth\":0,\"ticks\":\"\"}}}],\"scatter3d\":[{\"type\":\"scatter3d\",\"line\":{\"colorbar\":{\"outlinewidth\":0,\"ticks\":\"\"}},\"marker\":{\"colorbar\":{\"outlinewidth\":0,\"ticks\":\"\"}}}],\"scattermapbox\":[{\"type\":\"scattermapbox\",\"marker\":{\"colorbar\":{\"outlinewidth\":0,\"ticks\":\"\"}}}],\"scatterternary\":[{\"type\":\"scatterternary\",\"marker\":{\"colorbar\":{\"outlinewidth\":0,\"ticks\":\"\"}}}],\"scattercarpet\":[{\"type\":\"scattercarpet\",\"marker\":{\"colorbar\":{\"outlinewidth\":0,\"ticks\":\"\"}}}],\"carpet\":[{\"aaxis\":{\"endlinecolor\":\"#2a3f5f\",\"gridcolor\":\"white\",\"linecolor\":\"white\",\"minorgridcolor\":\"white\",\"startlinecolor\":\"#2a3f5f\"},\"baxis\":{\"endlinecolor\":\"#2a3f5f\",\"gridcolor\":\"white\",\"linecolor\":\"white\",\"minorgridcolor\":\"white\",\"startlinecolor\":\"#2a3f5f\"},\"type\":\"carpet\"}],\"table\":[{\"cells\":{\"fill\":{\"color\":\"#EBF0F8\"},\"line\":{\"color\":\"white\"}},\"header\":{\"fill\":{\"color\":\"#C8D4E3\"},\"line\":{\"color\":\"white\"}},\"type\":\"table\"}],\"barpolar\":[{\"marker\":{\"line\":{\"color\":\"#E5ECF6\",\"width\":0.5},\"pattern\":{\"fillmode\":\"overlay\",\"size\":10,\"solidity\":0.2}},\"type\":\"barpolar\"}],\"pie\":[{\"automargin\":true,\"type\":\"pie\"}]},\"layout\":{\"autotypenumbers\":\"strict\",\"colorway\":[\"#636efa\",\"#EF553B\",\"#00cc96\",\"#ab63fa\",\"#FFA15A\",\"#19d3f3\",\"#FF6692\",\"#B6E880\",\"#FF97FF\",\"#FECB52\"],\"font\":{\"color\":\"#2a3f5f\"},\"hovermode\":\"closest\",\"hoverlabel\":{\"align\":\"left\"},\"paper_bgcolor\":\"white\",\"plot_bgcolor\":\"#E5ECF6\",\"polar\":{\"bgcolor\":\"#E5ECF6\",\"angularaxis\":{\"gridcolor\":\"white\",\"linecolor\":\"white\",\"ticks\":\"\"},\"radialaxis\":{\"gridcolor\":\"white\",\"linecolor\":\"white\",\"ticks\":\"\"}},\"ternary\":{\"bgcolor\":\"#E5ECF6\",\"aaxis\":{\"gridcolor\":\"white\",\"linecolor\":\"white\",\"ticks\":\"\"},\"baxis\":{\"gridcolor\":\"white\",\"linecolor\":\"white\",\"ticks\":\"\"},\"caxis\":{\"gridcolor\":\"white\",\"linecolor\":\"white\",\"ticks\":\"\"}},\"coloraxis\":{\"colorbar\":{\"outlinewidth\":0,\"ticks\":\"\"}},\"colorscale\":{\"sequential\":[[0.0,\"#0d0887\"],[0.1111111111111111,\"#46039f\"],[0.2222222222222222,\"#7201a8\"],[0.3333333333333333,\"#9c179e\"],[0.4444444444444444,\"#bd3786\"],[0.5555555555555556,\"#d8576b\"],[0.6666666666666666,\"#ed7953\"],[0.7777777777777778,\"#fb9f3a\"],[0.8888888888888888,\"#fdca26\"],[1.0,\"#f0f921\"]],\"sequentialminus\":[[0.0,\"#0d0887\"],[0.1111111111111111,\"#46039f\"],[0.2222222222222222,\"#7201a8\"],[0.3333333333333333,\"#9c179e\"],[0.4444444444444444,\"#bd3786\"],[0.5555555555555556,\"#d8576b\"],[0.6666666666666666,\"#ed7953\"],[0.7777777777777778,\"#fb9f3a\"],[0.8888888888888888,\"#fdca26\"],[1.0,\"#f0f921\"]],\"diverging\":[[0,\"#8e0152\"],[0.1,\"#c51b7d\"],[0.2,\"#de77ae\"],[0.3,\"#f1b6da\"],[0.4,\"#fde0ef\"],[0.5,\"#f7f7f7\"],[0.6,\"#e6f5d0\"],[0.7,\"#b8e186\"],[0.8,\"#7fbc41\"],[0.9,\"#4d9221\"],[1,\"#276419\"]]},\"xaxis\":{\"gridcolor\":\"white\",\"linecolor\":\"white\",\"ticks\":\"\",\"title\":{\"standoff\":15},\"zerolinecolor\":\"white\",\"automargin\":true,\"zerolinewidth\":2},\"yaxis\":{\"gridcolor\":\"white\",\"linecolor\":\"white\",\"ticks\":\"\",\"title\":{\"standoff\":15},\"zerolinecolor\":\"white\",\"automargin\":true,\"zerolinewidth\":2},\"scene\":{\"xaxis\":{\"backgroundcolor\":\"#E5ECF6\",\"gridcolor\":\"white\",\"linecolor\":\"white\",\"showbackground\":true,\"ticks\":\"\",\"zerolinecolor\":\"white\",\"gridwidth\":2},\"yaxis\":{\"backgroundcolor\":\"#E5ECF6\",\"gridcolor\":\"white\",\"linecolor\":\"white\",\"showbackground\":true,\"ticks\":\"\",\"zerolinecolor\":\"white\",\"gridwidth\":2},\"zaxis\":{\"backgroundcolor\":\"#E5ECF6\",\"gridcolor\":\"white\",\"linecolor\":\"white\",\"showbackground\":true,\"ticks\":\"\",\"zerolinecolor\":\"white\",\"gridwidth\":2}},\"shapedefaults\":{\"line\":{\"color\":\"#2a3f5f\"}},\"annotationdefaults\":{\"arrowcolor\":\"#2a3f5f\",\"arrowhead\":0,\"arrowwidth\":1},\"geo\":{\"bgcolor\":\"white\",\"landcolor\":\"#E5ECF6\",\"subunitcolor\":\"white\",\"showland\":true,\"showlakes\":true,\"lakecolor\":\"white\"},\"title\":{\"x\":0.05},\"mapbox\":{\"style\":\"light\"}}}},                        {\"responsive\": true}                    ).then(function(){\n",
              "                            \n",
              "var gd = document.getElementById('43c00546-72c3-498a-9417-97a8d6187a9f');\n",
              "var x = new MutationObserver(function (mutations, observer) {{\n",
              "        var display = window.getComputedStyle(gd).display;\n",
              "        if (!display || display === 'none') {{\n",
              "            console.log([gd, 'removed!']);\n",
              "            Plotly.purge(gd);\n",
              "            observer.disconnect();\n",
              "        }}\n",
              "}});\n",
              "\n",
              "// Listen for the removal of the full notebook cells\n",
              "var notebookContainer = gd.closest('#notebook-container');\n",
              "if (notebookContainer) {{\n",
              "    x.observe(notebookContainer, {childList: true});\n",
              "}}\n",
              "\n",
              "// Listen for the clearing of the current output cell\n",
              "var outputEl = gd.closest('.output');\n",
              "if (outputEl) {{\n",
              "    x.observe(outputEl, {childList: true});\n",
              "}}\n",
              "\n",
              "                        })                };                            </script>        </div>\n",
              "</body>\n",
              "</html>"
            ]
          },
          "metadata": {}
        }
      ]
    }
  ]
}