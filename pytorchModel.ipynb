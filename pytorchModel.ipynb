{
  "cells": [
    {
      "cell_type": "markdown",
      "metadata": {
        "id": "view-in-github",
        "colab_type": "text"
      },
      "source": [
        "<a href=\"https://colab.research.google.com/github/SantiagoGomezfpv/hyperparameter/blob/main/pytorchModel.ipynb\" target=\"_parent\"><img src=\"https://colab.research.google.com/assets/colab-badge.svg\" alt=\"Open In Colab\"/></a>"
      ]
    },
    {
      "cell_type": "markdown",
      "metadata": {
        "id": "LWgo41h7koFX"
      },
      "source": [
        "# Perceptrón multicapa"
      ]
    },
    {
      "cell_type": "code",
      "execution_count": null,
      "metadata": {
        "colab": {
          "base_uri": "https://localhost:8080/"
        },
        "id": "HZn7ia9Mkm2I",
        "outputId": "009266ad-e778-4bdc-aae9-8325a2db3109"
      },
      "outputs": [
        {
          "name": "stdout",
          "output_type": "stream",
          "text": [
            "Downloading http://yann.lecun.com/exdb/mnist/train-images-idx3-ubyte.gz\n",
            "Downloading http://yann.lecun.com/exdb/mnist/train-images-idx3-ubyte.gz to ./data/MNIST/raw/train-images-idx3-ubyte.gz\n",
            "Failed to download (trying next):\n",
            "HTTP Error 503: Service Unavailable\n",
            "\n",
            "Downloading https://ossci-datasets.s3.amazonaws.com/mnist/train-images-idx3-ubyte.gz\n",
            "Downloading https://ossci-datasets.s3.amazonaws.com/mnist/train-images-idx3-ubyte.gz to ./data/MNIST/raw/train-images-idx3-ubyte.gz\n"
          ]
        },
        {
          "name": "stderr",
          "output_type": "stream",
          "text": [
            "100%|██████████| 9912422/9912422 [00:00<00:00, 33858455.14it/s]\n"
          ]
        },
        {
          "name": "stdout",
          "output_type": "stream",
          "text": [
            "Extracting ./data/MNIST/raw/train-images-idx3-ubyte.gz to ./data/MNIST/raw\n",
            "\n",
            "Downloading http://yann.lecun.com/exdb/mnist/train-labels-idx1-ubyte.gz\n",
            "Downloading http://yann.lecun.com/exdb/mnist/train-labels-idx1-ubyte.gz to ./data/MNIST/raw/train-labels-idx1-ubyte.gz\n"
          ]
        },
        {
          "name": "stderr",
          "output_type": "stream",
          "text": [
            "100%|██████████| 28881/28881 [00:00<00:00, 917722.46it/s]"
          ]
        },
        {
          "name": "stdout",
          "output_type": "stream",
          "text": [
            "Extracting ./data/MNIST/raw/train-labels-idx1-ubyte.gz to ./data/MNIST/raw\n",
            "\n",
            "Downloading http://yann.lecun.com/exdb/mnist/t10k-images-idx3-ubyte.gz\n"
          ]
        },
        {
          "name": "stderr",
          "output_type": "stream",
          "text": [
            "\n"
          ]
        },
        {
          "name": "stdout",
          "output_type": "stream",
          "text": [
            "Downloading http://yann.lecun.com/exdb/mnist/t10k-images-idx3-ubyte.gz to ./data/MNIST/raw/t10k-images-idx3-ubyte.gz\n"
          ]
        },
        {
          "name": "stderr",
          "output_type": "stream",
          "text": [
            "100%|██████████| 1648877/1648877 [00:49<00:00, 33398.40it/s]\n"
          ]
        },
        {
          "name": "stdout",
          "output_type": "stream",
          "text": [
            "Extracting ./data/MNIST/raw/t10k-images-idx3-ubyte.gz to ./data/MNIST/raw\n",
            "\n",
            "Downloading http://yann.lecun.com/exdb/mnist/t10k-labels-idx1-ubyte.gz\n",
            "Downloading http://yann.lecun.com/exdb/mnist/t10k-labels-idx1-ubyte.gz to ./data/MNIST/raw/t10k-labels-idx1-ubyte.gz\n"
          ]
        },
        {
          "name": "stderr",
          "output_type": "stream",
          "text": [
            "100%|██████████| 4542/4542 [00:00<00:00, 3823104.31it/s]\n"
          ]
        },
        {
          "name": "stdout",
          "output_type": "stream",
          "text": [
            "Extracting ./data/MNIST/raw/t10k-labels-idx1-ubyte.gz to ./data/MNIST/raw\n",
            "\n",
            "[1,   200] loss: 0.663\n",
            "[1,   400] loss: 0.318\n",
            "[1,   600] loss: 0.269\n",
            "[1,   800] loss: 0.242\n",
            "[2,   200] loss: 0.181\n",
            "[2,   400] loss: 0.166\n",
            "[2,   600] loss: 0.149\n",
            "[2,   800] loss: 0.155\n",
            "[3,   200] loss: 0.111\n",
            "[3,   400] loss: 0.121\n",
            "[3,   600] loss: 0.105\n",
            "[3,   800] loss: 0.107\n",
            "[4,   200] loss: 0.080\n",
            "[4,   400] loss: 0.083\n",
            "[4,   600] loss: 0.086\n",
            "[4,   800] loss: 0.086\n",
            "[5,   200] loss: 0.063\n",
            "[5,   400] loss: 0.066\n",
            "[5,   600] loss: 0.068\n",
            "[5,   800] loss: 0.062\n",
            "[6,   200] loss: 0.052\n",
            "[6,   400] loss: 0.053\n",
            "[6,   600] loss: 0.050\n",
            "[6,   800] loss: 0.054\n",
            "[7,   200] loss: 0.042\n",
            "[7,   400] loss: 0.044\n",
            "[7,   600] loss: 0.041\n",
            "[7,   800] loss: 0.042\n",
            "[8,   200] loss: 0.035\n",
            "[8,   400] loss: 0.031\n",
            "[8,   600] loss: 0.033\n",
            "[8,   800] loss: 0.036\n",
            "[9,   200] loss: 0.028\n",
            "[9,   400] loss: 0.026\n",
            "[9,   600] loss: 0.029\n",
            "[9,   800] loss: 0.035\n",
            "[10,   200] loss: 0.025\n",
            "[10,   400] loss: 0.023\n",
            "[10,   600] loss: 0.023\n",
            "[10,   800] loss: 0.025\n",
            "Precisión del modelo en el conjunto de test: 97 %\n"
          ]
        }
      ],
      "source": [
        "import torch\n",
        "import torch.nn as nn\n",
        "import torch.optim as optim\n",
        "from torchvision import datasets, transforms\n",
        "\n",
        "# Cargar y preparar datos MNIST\n",
        "train_dataset = datasets.MNIST(root='./data', train=True, download=True, transform=transforms.ToTensor())\n",
        "test_dataset = datasets.MNIST(root='./data', train=False, transform=transforms.ToTensor())\n",
        "\n",
        "train_loader = torch.utils.data.DataLoader(train_dataset, batch_size=64, shuffle=True)\n",
        "test_loader = torch.utils.data.DataLoader(test_dataset, batch_size=64, shuffle=False)\n",
        "\n",
        "# Definir la red neuronal fully connected\n",
        "class FullyConnectedNet(nn.Module):\n",
        "    def __init__(self):\n",
        "        super().__init__()\n",
        "        self.fc1 = nn.Linear(784, 128)\n",
        "        self.fc2 = nn.Linear(128, 10)\n",
        "\n",
        "    def forward(self, x):\n",
        "        x = x.view(-1, 784)\n",
        "        x = self.fc1(x)\n",
        "        x = F.relu(x)\n",
        "        x = self.fc2(x)\n",
        "        return x\n",
        "\n",
        "# Crear modelo y optimizador\n",
        "model = FullyConnectedNet()\n",
        "criterion = nn.CrossEntropyLoss()\n",
        "optimizer = optim.Adam(model.parameters())\n",
        "\n",
        "# Entrenar el modelo\n",
        "for epoch in range(10):\n",
        "    running_loss = 0.0\n",
        "    for i, data in enumerate(train_loader, 0):\n",
        "        inputs, labels = data\n",
        "        optimizer.zero_grad()\n",
        "        outputs = model(inputs)\n",
        "        loss = criterion(outputs, labels)\n",
        "        loss.backward()\n",
        "        optimizer.step()\n",
        "\n",
        "        running_loss += loss.item()\n",
        "        if i % 200 == 199:\n",
        "            print('[%d, %5d] loss: %.3f' % (epoch + 1, i + 1, running_loss / 200))\n",
        "            running_loss = 0.0\n",
        "\n",
        "# Evaluar el modelo\n",
        "with torch.no_grad():\n",
        "    correct = 0\n",
        "    total = 0\n",
        "    for data in test_loader:\n",
        "        images, labels = data\n",
        "        outputs = model(images)\n",
        "        _, predicted = torch.max(outputs.data, 1)\n",
        "        total += labels.size(0)\n",
        "        correct += (predicted == labels).sum().item()\n",
        "\n",
        "    print('Precisión del modelo en el conjunto de test: %d %%' % (100 * correct / total))\n"
      ]
    },
    {
      "cell_type": "markdown",
      "source": [
        "# Optuna Perceptrón multicapa"
      ],
      "metadata": {
        "id": "DX71vXJxNw-t"
      }
    },
    {
      "cell_type": "code",
      "source": [
        "!pip install optuna"
      ],
      "metadata": {
        "id": "SKDeNOzxN1LG",
        "outputId": "7379c039-49db-4e5d-dead-782fd3d5b32f",
        "colab": {
          "base_uri": "https://localhost:8080/"
        }
      },
      "execution_count": 1,
      "outputs": [
        {
          "output_type": "stream",
          "name": "stdout",
          "text": [
            "Collecting optuna\n",
            "  Downloading optuna-3.6.1-py3-none-any.whl (380 kB)\n",
            "\u001b[2K     \u001b[90m━━━━━━━━━━━━━━━━━━━━━━━━━━━━━━━━━━━━━━━━\u001b[0m \u001b[32m380.1/380.1 kB\u001b[0m \u001b[31m4.5 MB/s\u001b[0m eta \u001b[36m0:00:00\u001b[0m\n",
            "\u001b[?25hCollecting alembic>=1.5.0 (from optuna)\n",
            "  Downloading alembic-1.13.1-py3-none-any.whl (233 kB)\n",
            "\u001b[2K     \u001b[90m━━━━━━━━━━━━━━━━━━━━━━━━━━━━━━━━━━━━━━━━\u001b[0m \u001b[32m233.4/233.4 kB\u001b[0m \u001b[31m5.7 MB/s\u001b[0m eta \u001b[36m0:00:00\u001b[0m\n",
            "\u001b[?25hCollecting colorlog (from optuna)\n",
            "  Downloading colorlog-6.8.2-py3-none-any.whl (11 kB)\n",
            "Requirement already satisfied: numpy in /usr/local/lib/python3.10/dist-packages (from optuna) (1.25.2)\n",
            "Requirement already satisfied: packaging>=20.0 in /usr/local/lib/python3.10/dist-packages (from optuna) (24.0)\n",
            "Requirement already satisfied: sqlalchemy>=1.3.0 in /usr/local/lib/python3.10/dist-packages (from optuna) (2.0.30)\n",
            "Requirement already satisfied: tqdm in /usr/local/lib/python3.10/dist-packages (from optuna) (4.66.4)\n",
            "Requirement already satisfied: PyYAML in /usr/local/lib/python3.10/dist-packages (from optuna) (6.0.1)\n",
            "Collecting Mako (from alembic>=1.5.0->optuna)\n",
            "  Downloading Mako-1.3.5-py3-none-any.whl (78 kB)\n",
            "\u001b[2K     \u001b[90m━━━━━━━━━━━━━━━━━━━━━━━━━━━━━━━━━━━━━━━━\u001b[0m \u001b[32m78.6/78.6 kB\u001b[0m \u001b[31m4.0 MB/s\u001b[0m eta \u001b[36m0:00:00\u001b[0m\n",
            "\u001b[?25hRequirement already satisfied: typing-extensions>=4 in /usr/local/lib/python3.10/dist-packages (from alembic>=1.5.0->optuna) (4.11.0)\n",
            "Requirement already satisfied: greenlet!=0.4.17 in /usr/local/lib/python3.10/dist-packages (from sqlalchemy>=1.3.0->optuna) (3.0.3)\n",
            "Requirement already satisfied: MarkupSafe>=0.9.2 in /usr/local/lib/python3.10/dist-packages (from Mako->alembic>=1.5.0->optuna) (2.1.5)\n",
            "Installing collected packages: Mako, colorlog, alembic, optuna\n",
            "Successfully installed Mako-1.3.5 alembic-1.13.1 colorlog-6.8.2 optuna-3.6.1\n"
          ]
        }
      ]
    },
    {
      "cell_type": "code",
      "source": [
        "import optuna\n",
        "import torch\n",
        "import torch.nn as nn\n",
        "import torch.nn.functional as F\n",
        "import torchvision\n",
        "from torch.optim import Adam\n",
        "from torchvision import datasets, transforms\n",
        "from torch.utils.data import DataLoader\n",
        "\n",
        "# Cargar el conjunto de datos MNIST\n",
        "transform = transforms.Compose([\n",
        "    transforms.ToTensor(),  # Convertir las imágenes a tensores\n",
        "    transforms.Normalize((0.5,), (0.5,))  # Normalizar los valores de píxeles\n",
        "])\n",
        "\n",
        "trainset = torchvision.datasets.MNIST(root='./data', train=True, download=True, transform=transform)\n",
        "# Dividir el conjunto de datos de entrenamiento en entrenamiento y validación\n",
        "trainset, valset = torch.utils.data.random_split(trainset, [54000, 6000])\n",
        "trainloader = torch.utils.data.DataLoader(trainset, batch_size=64, shuffle=True)\n",
        "valloader = torch.utils.data.DataLoader(valset, batch_size=64, shuffle=True)\n",
        "\n",
        "testset = torchvision.datasets.MNIST(root='./data', train=False, download=True, transform=transform)\n",
        "testloader = torch.utils.data.DataLoader(testset, batch_size=64, shuffle=False)\n",
        "\n",
        "class MLP(nn.Module):\n",
        "    def __init__(self, input_size, hidden_units_list, output_size):\n",
        "        super(MLP, self).__init__()\n",
        "        layers = []\n",
        "        in_features = input_size\n",
        "\n",
        "        for hidden_units in hidden_units_list:\n",
        "            layers.append(nn.Linear(in_features, hidden_units))\n",
        "            layers.append(nn.ReLU())\n",
        "            in_features = hidden_units\n",
        "\n",
        "        layers.append(nn.Linear(in_features, output_size))\n",
        "        self.network = nn.Sequential(*layers)\n",
        "\n",
        "    def forward(self, x):\n",
        "        return self.network(x)\n",
        "\n",
        "def objective(trial):\n",
        "    hidden_layers = trial.suggest_int('hidden_layers', 1, 3)\n",
        "    hidden_units_list = [trial.suggest_int(f'hidden_units_{i}', 32, 256) for i in range(hidden_layers)]\n",
        "\n",
        "    model = MLP(28*28, hidden_units_list, 10).to(device)\n",
        "\n",
        "    criterion = nn.CrossEntropyLoss()\n",
        "    optimizer = Adam(model.parameters(), lr=0.001)\n",
        "\n",
        "    model.train()\n",
        "    for epoch in range(5):\n",
        "        for images, labels in trainloader:\n",
        "            images = images.view(-1, 28*28).to(device)\n",
        "            labels = labels.to(device)\n",
        "\n",
        "            optimizer.zero_grad()\n",
        "            outputs = model(images)\n",
        "            loss = criterion(outputs, labels)\n",
        "            loss.backward()\n",
        "            optimizer.step()\n",
        "\n",
        "    model.eval()\n",
        "    correct = 0\n",
        "    total = 0\n",
        "    with torch.no_grad():\n",
        "        for images, labels in valloader:\n",
        "            images = images.view(-1, 28*28).to(device)\n",
        "            labels = labels.to(device)\n",
        "            outputs = model(images)\n",
        "            _, predicted = torch.max(outputs.data, 1)\n",
        "            total += labels.size(0)\n",
        "            correct += (predicted == labels).sum().item()\n",
        "\n",
        "    accuracy = correct / total\n",
        "    return accuracy\n",
        "\n",
        "if __name__ == \"__main__\":\n",
        "    device = torch.device('cuda' if torch.cuda.is_available() else 'cpu')\n",
        "\n",
        "    study = optuna.create_study(direction='maximize')\n",
        "    study.optimize(objective, n_trials=50)\n",
        "\n",
        "    print(\"Number of finished trials: \", len(study.trials))\n",
        "    print(\"Best trial:\")\n",
        "    trial = study.best_trial\n",
        "\n",
        "    print(\"  Value: \", trial.value)\n",
        "\n",
        "    print(\"  Params: \")\n",
        "    for key, value in trial.params.items():\n",
        "        print(\"    {}: {}\".format(key, value))\n"
      ],
      "metadata": {
        "id": "8bYG9FW4O6z-",
        "outputId": "630bc5d8-06be-4160-ef46-be591e0ec40d",
        "colab": {
          "base_uri": "https://localhost:8080/"
        }
      },
      "execution_count": 2,
      "outputs": [
        {
          "output_type": "stream",
          "name": "stdout",
          "text": [
            "Downloading http://yann.lecun.com/exdb/mnist/train-images-idx3-ubyte.gz\n",
            "Failed to download (trying next):\n",
            "HTTP Error 403: Forbidden\n",
            "\n",
            "Downloading https://ossci-datasets.s3.amazonaws.com/mnist/train-images-idx3-ubyte.gz\n",
            "Downloading https://ossci-datasets.s3.amazonaws.com/mnist/train-images-idx3-ubyte.gz to ./data/MNIST/raw/train-images-idx3-ubyte.gz\n"
          ]
        },
        {
          "output_type": "stream",
          "name": "stderr",
          "text": [
            "100%|██████████| 9912422/9912422 [00:00<00:00, 18008964.37it/s]\n"
          ]
        },
        {
          "output_type": "stream",
          "name": "stdout",
          "text": [
            "Extracting ./data/MNIST/raw/train-images-idx3-ubyte.gz to ./data/MNIST/raw\n",
            "\n",
            "Downloading http://yann.lecun.com/exdb/mnist/train-labels-idx1-ubyte.gz\n",
            "Failed to download (trying next):\n",
            "HTTP Error 403: Forbidden\n",
            "\n",
            "Downloading https://ossci-datasets.s3.amazonaws.com/mnist/train-labels-idx1-ubyte.gz\n",
            "Downloading https://ossci-datasets.s3.amazonaws.com/mnist/train-labels-idx1-ubyte.gz to ./data/MNIST/raw/train-labels-idx1-ubyte.gz\n"
          ]
        },
        {
          "output_type": "stream",
          "name": "stderr",
          "text": [
            "100%|██████████| 28881/28881 [00:00<00:00, 492858.28it/s]\n"
          ]
        },
        {
          "output_type": "stream",
          "name": "stdout",
          "text": [
            "Extracting ./data/MNIST/raw/train-labels-idx1-ubyte.gz to ./data/MNIST/raw\n",
            "\n",
            "Downloading http://yann.lecun.com/exdb/mnist/t10k-images-idx3-ubyte.gz\n",
            "Failed to download (trying next):\n",
            "HTTP Error 403: Forbidden\n",
            "\n",
            "Downloading https://ossci-datasets.s3.amazonaws.com/mnist/t10k-images-idx3-ubyte.gz\n",
            "Downloading https://ossci-datasets.s3.amazonaws.com/mnist/t10k-images-idx3-ubyte.gz to ./data/MNIST/raw/t10k-images-idx3-ubyte.gz\n"
          ]
        },
        {
          "output_type": "stream",
          "name": "stderr",
          "text": [
            "100%|██████████| 1648877/1648877 [00:00<00:00, 4532416.13it/s]\n"
          ]
        },
        {
          "output_type": "stream",
          "name": "stdout",
          "text": [
            "Extracting ./data/MNIST/raw/t10k-images-idx3-ubyte.gz to ./data/MNIST/raw\n",
            "\n",
            "Downloading http://yann.lecun.com/exdb/mnist/t10k-labels-idx1-ubyte.gz\n",
            "Failed to download (trying next):\n",
            "HTTP Error 403: Forbidden\n",
            "\n",
            "Downloading https://ossci-datasets.s3.amazonaws.com/mnist/t10k-labels-idx1-ubyte.gz\n",
            "Downloading https://ossci-datasets.s3.amazonaws.com/mnist/t10k-labels-idx1-ubyte.gz to ./data/MNIST/raw/t10k-labels-idx1-ubyte.gz\n"
          ]
        },
        {
          "output_type": "stream",
          "name": "stderr",
          "text": [
            "100%|██████████| 4542/4542 [00:00<00:00, 4793791.84it/s]\n"
          ]
        },
        {
          "output_type": "stream",
          "name": "stdout",
          "text": [
            "Extracting ./data/MNIST/raw/t10k-labels-idx1-ubyte.gz to ./data/MNIST/raw\n",
            "\n"
          ]
        },
        {
          "output_type": "stream",
          "name": "stderr",
          "text": [
            "[I 2024-05-28 12:45:23,385] A new study created in memory with name: no-name-39590738-e26c-4df3-9707-777fb1290aea\n",
            "[I 2024-05-28 12:46:28,139] Trial 0 finished with value: 0.968 and parameters: {'hidden_layers': 3, 'hidden_units_0': 169, 'hidden_units_1': 123, 'hidden_units_2': 63}. Best is trial 0 with value: 0.968.\n",
            "[I 2024-05-28 12:47:34,758] Trial 1 finished with value: 0.9718333333333333 and parameters: {'hidden_layers': 3, 'hidden_units_0': 148, 'hidden_units_1': 150, 'hidden_units_2': 203}. Best is trial 1 with value: 0.9718333333333333.\n",
            "[I 2024-05-28 12:48:39,221] Trial 2 finished with value: 0.9675 and parameters: {'hidden_layers': 3, 'hidden_units_0': 239, 'hidden_units_1': 145, 'hidden_units_2': 226}. Best is trial 1 with value: 0.9718333333333333.\n",
            "[I 2024-05-28 12:49:42,436] Trial 3 finished with value: 0.9598333333333333 and parameters: {'hidden_layers': 2, 'hidden_units_0': 101, 'hidden_units_1': 198}. Best is trial 1 with value: 0.9718333333333333.\n",
            "[I 2024-05-28 12:50:46,029] Trial 4 finished with value: 0.9718333333333333 and parameters: {'hidden_layers': 2, 'hidden_units_0': 212, 'hidden_units_1': 200}. Best is trial 1 with value: 0.9718333333333333.\n",
            "[I 2024-05-28 12:51:50,438] Trial 5 finished with value: 0.9508333333333333 and parameters: {'hidden_layers': 3, 'hidden_units_0': 120, 'hidden_units_1': 68, 'hidden_units_2': 148}. Best is trial 1 with value: 0.9718333333333333.\n",
            "[I 2024-05-28 12:52:52,025] Trial 6 finished with value: 0.9471666666666667 and parameters: {'hidden_layers': 1, 'hidden_units_0': 127}. Best is trial 1 with value: 0.9718333333333333.\n",
            "[I 2024-05-28 12:53:55,045] Trial 7 finished with value: 0.95 and parameters: {'hidden_layers': 2, 'hidden_units_0': 69, 'hidden_units_1': 55}. Best is trial 1 with value: 0.9718333333333333.\n",
            "[I 2024-05-28 12:54:58,079] Trial 8 finished with value: 0.9586666666666667 and parameters: {'hidden_layers': 3, 'hidden_units_0': 38, 'hidden_units_1': 256, 'hidden_units_2': 217}. Best is trial 1 with value: 0.9718333333333333.\n",
            "[I 2024-05-28 12:56:01,964] Trial 9 finished with value: 0.9665 and parameters: {'hidden_layers': 3, 'hidden_units_0': 185, 'hidden_units_1': 77, 'hidden_units_2': 63}. Best is trial 1 with value: 0.9718333333333333.\n",
            "[I 2024-05-28 12:57:04,345] Trial 10 finished with value: 0.9603333333333334 and parameters: {'hidden_layers': 1, 'hidden_units_0': 165}. Best is trial 1 with value: 0.9718333333333333.\n",
            "[I 2024-05-28 12:58:06,826] Trial 11 finished with value: 0.9686666666666667 and parameters: {'hidden_layers': 2, 'hidden_units_0': 231, 'hidden_units_1': 190}. Best is trial 1 with value: 0.9718333333333333.\n",
            "[I 2024-05-28 12:59:09,588] Trial 12 finished with value: 0.968 and parameters: {'hidden_layers': 2, 'hidden_units_0': 207, 'hidden_units_1': 168}. Best is trial 1 with value: 0.9718333333333333.\n",
            "[I 2024-05-28 13:00:13,216] Trial 13 finished with value: 0.9673333333333334 and parameters: {'hidden_layers': 2, 'hidden_units_0': 204, 'hidden_units_1': 235}. Best is trial 1 with value: 0.9718333333333333.\n",
            "[I 2024-05-28 13:01:15,674] Trial 14 finished with value: 0.9581666666666667 and parameters: {'hidden_layers': 1, 'hidden_units_0': 255}. Best is trial 1 with value: 0.9718333333333333.\n",
            "[I 2024-05-28 13:02:18,835] Trial 15 finished with value: 0.9625 and parameters: {'hidden_layers': 2, 'hidden_units_0': 153, 'hidden_units_1': 111}. Best is trial 1 with value: 0.9718333333333333.\n",
            "[I 2024-05-28 13:03:22,052] Trial 16 finished with value: 0.9701666666666666 and parameters: {'hidden_layers': 2, 'hidden_units_0': 92, 'hidden_units_1': 212}. Best is trial 1 with value: 0.9718333333333333.\n",
            "[I 2024-05-28 13:04:27,077] Trial 17 finished with value: 0.97 and parameters: {'hidden_layers': 3, 'hidden_units_0': 198, 'hidden_units_1': 159, 'hidden_units_2': 158}. Best is trial 1 with value: 0.9718333333333333.\n",
            "[I 2024-05-28 13:05:29,483] Trial 18 finished with value: 0.9665 and parameters: {'hidden_layers': 1, 'hidden_units_0': 139}. Best is trial 1 with value: 0.9718333333333333.\n",
            "[I 2024-05-28 13:06:34,498] Trial 19 finished with value: 0.9668333333333333 and parameters: {'hidden_layers': 2, 'hidden_units_0': 180, 'hidden_units_1': 126}. Best is trial 1 with value: 0.9718333333333333.\n",
            "[I 2024-05-28 13:07:38,513] Trial 20 finished with value: 0.9655 and parameters: {'hidden_layers': 3, 'hidden_units_0': 221, 'hidden_units_1': 177, 'hidden_units_2': 256}. Best is trial 1 with value: 0.9718333333333333.\n",
            "[I 2024-05-28 13:08:42,526] Trial 21 finished with value: 0.9635 and parameters: {'hidden_layers': 2, 'hidden_units_0': 100, 'hidden_units_1': 214}. Best is trial 1 with value: 0.9718333333333333.\n",
            "[I 2024-05-28 13:09:47,712] Trial 22 finished with value: 0.9651666666666666 and parameters: {'hidden_layers': 2, 'hidden_units_0': 72, 'hidden_units_1': 218}. Best is trial 1 with value: 0.9718333333333333.\n",
            "[I 2024-05-28 13:10:55,534] Trial 23 finished with value: 0.9543333333333334 and parameters: {'hidden_layers': 2, 'hidden_units_0': 75, 'hidden_units_1': 205}. Best is trial 1 with value: 0.9718333333333333.\n",
            "[I 2024-05-28 13:12:03,377] Trial 24 finished with value: 0.9631666666666666 and parameters: {'hidden_layers': 2, 'hidden_units_0': 46, 'hidden_units_1': 252}. Best is trial 1 with value: 0.9718333333333333.\n",
            "[I 2024-05-28 13:13:10,123] Trial 25 finished with value: 0.9643333333333334 and parameters: {'hidden_layers': 1, 'hidden_units_0': 112}. Best is trial 1 with value: 0.9718333333333333.\n",
            "[I 2024-05-28 13:14:16,265] Trial 26 finished with value: 0.9698333333333333 and parameters: {'hidden_layers': 3, 'hidden_units_0': 144, 'hidden_units_1': 99, 'hidden_units_2': 184}. Best is trial 1 with value: 0.9718333333333333.\n",
            "[I 2024-05-28 13:15:20,339] Trial 27 finished with value: 0.9675 and parameters: {'hidden_layers': 2, 'hidden_units_0': 92, 'hidden_units_1': 183}. Best is trial 1 with value: 0.9718333333333333.\n",
            "[I 2024-05-28 13:16:24,029] Trial 28 finished with value: 0.9593333333333334 and parameters: {'hidden_layers': 2, 'hidden_units_0': 134, 'hidden_units_1': 232}. Best is trial 1 with value: 0.9718333333333333.\n",
            "[I 2024-05-28 13:17:29,019] Trial 29 finished with value: 0.9636666666666667 and parameters: {'hidden_layers': 3, 'hidden_units_0': 172, 'hidden_units_1': 155, 'hidden_units_2': 114}. Best is trial 1 with value: 0.9718333333333333.\n",
            "[I 2024-05-28 13:18:32,205] Trial 30 finished with value: 0.9555 and parameters: {'hidden_layers': 3, 'hidden_units_0': 55, 'hidden_units_1': 227, 'hidden_units_2': 113}. Best is trial 1 with value: 0.9718333333333333.\n",
            "[I 2024-05-28 13:19:36,685] Trial 31 finished with value: 0.9626666666666667 and parameters: {'hidden_layers': 3, 'hidden_units_0': 195, 'hidden_units_1': 161, 'hidden_units_2': 183}. Best is trial 1 with value: 0.9718333333333333.\n",
            "[I 2024-05-28 13:20:41,697] Trial 32 finished with value: 0.9688333333333333 and parameters: {'hidden_layers': 3, 'hidden_units_0': 161, 'hidden_units_1': 137, 'hidden_units_2': 163}. Best is trial 1 with value: 0.9718333333333333.\n",
            "[I 2024-05-28 13:21:46,679] Trial 33 finished with value: 0.9698333333333333 and parameters: {'hidden_layers': 3, 'hidden_units_0': 223, 'hidden_units_1': 182, 'hidden_units_2': 113}. Best is trial 1 with value: 0.9718333333333333.\n",
            "[I 2024-05-28 13:22:49,857] Trial 34 finished with value: 0.9726666666666667 and parameters: {'hidden_layers': 3, 'hidden_units_0': 250, 'hidden_units_1': 150, 'hidden_units_2': 208}. Best is trial 34 with value: 0.9726666666666667.\n",
            "[I 2024-05-28 13:23:52,432] Trial 35 finished with value: 0.9735 and parameters: {'hidden_layers': 2, 'hidden_units_0': 244, 'hidden_units_1': 135}. Best is trial 35 with value: 0.9735.\n",
            "[I 2024-05-28 13:24:56,193] Trial 36 finished with value: 0.9666666666666667 and parameters: {'hidden_layers': 3, 'hidden_units_0': 254, 'hidden_units_1': 98, 'hidden_units_2': 214}. Best is trial 35 with value: 0.9735.\n",
            "[I 2024-05-28 13:25:59,100] Trial 37 finished with value: 0.9668333333333333 and parameters: {'hidden_layers': 2, 'hidden_units_0': 243, 'hidden_units_1': 135}. Best is trial 35 with value: 0.9735.\n",
            "[I 2024-05-28 13:27:03,090] Trial 38 finished with value: 0.9518333333333333 and parameters: {'hidden_layers': 3, 'hidden_units_0': 235, 'hidden_units_1': 147, 'hidden_units_2': 243}. Best is trial 35 with value: 0.9735.\n",
            "[I 2024-05-28 13:28:07,868] Trial 39 finished with value: 0.9676666666666667 and parameters: {'hidden_layers': 3, 'hidden_units_0': 214, 'hidden_units_1': 111, 'hidden_units_2': 200}. Best is trial 35 with value: 0.9735.\n",
            "[I 2024-05-28 13:29:09,617] Trial 40 finished with value: 0.9706666666666667 and parameters: {'hidden_layers': 1, 'hidden_units_0': 242}. Best is trial 35 with value: 0.9735.\n",
            "[I 2024-05-28 13:30:11,782] Trial 41 finished with value: 0.9626666666666667 and parameters: {'hidden_layers': 1, 'hidden_units_0': 245}. Best is trial 35 with value: 0.9735.\n",
            "[I 2024-05-28 13:31:15,116] Trial 42 finished with value: 0.963 and parameters: {'hidden_layers': 1, 'hidden_units_0': 233}. Best is trial 35 with value: 0.9735.\n",
            "[I 2024-05-28 13:32:19,314] Trial 43 finished with value: 0.9685 and parameters: {'hidden_layers': 1, 'hidden_units_0': 224}. Best is trial 35 with value: 0.9735.\n",
            "[I 2024-05-28 13:33:22,991] Trial 44 finished with value: 0.9683333333333334 and parameters: {'hidden_layers': 1, 'hidden_units_0': 250}. Best is trial 35 with value: 0.9735.\n",
            "[I 2024-05-28 13:34:25,637] Trial 45 finished with value: 0.9718333333333333 and parameters: {'hidden_layers': 1, 'hidden_units_0': 239}. Best is trial 35 with value: 0.9735.\n",
            "[I 2024-05-28 13:35:29,256] Trial 46 finished with value: 0.9668333333333333 and parameters: {'hidden_layers': 3, 'hidden_units_0': 217, 'hidden_units_1': 118, 'hidden_units_2': 185}. Best is trial 35 with value: 0.9735.\n",
            "[I 2024-05-28 13:36:34,526] Trial 47 finished with value: 0.965 and parameters: {'hidden_layers': 3, 'hidden_units_0': 207, 'hidden_units_1': 147, 'hidden_units_2': 130}. Best is trial 35 with value: 0.9735.\n",
            "[I 2024-05-28 13:37:37,537] Trial 48 finished with value: 0.9595 and parameters: {'hidden_layers': 1, 'hidden_units_0': 189}. Best is trial 35 with value: 0.9735.\n",
            "[I 2024-05-28 13:38:42,298] Trial 49 finished with value: 0.9731666666666666 and parameters: {'hidden_layers': 2, 'hidden_units_0': 230, 'hidden_units_1': 196}. Best is trial 35 with value: 0.9735.\n"
          ]
        },
        {
          "output_type": "stream",
          "name": "stdout",
          "text": [
            "Number of finished trials:  50\n",
            "Best trial:\n",
            "  Value:  0.9735\n",
            "  Params: \n",
            "    hidden_layers: 2\n",
            "    hidden_units_0: 244\n",
            "    hidden_units_1: 135\n"
          ]
        }
      ]
    },
    {
      "cell_type": "markdown",
      "source": [
        "![image.png](data:image/png;base64,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)"
      ],
      "metadata": {
        "id": "o17UxxDObYYX"
      }
    },
    {
      "cell_type": "code",
      "source": [
        "import matplotlib.pyplot as plt\n",
        "best_params = study.best_params\n",
        "\n",
        "optuna.visualization.plot_optimization_history(study)"
      ],
      "metadata": {
        "id": "w1N5ehfETIAA",
        "outputId": "a8fbe0a6-5a03-46ee-f15e-1f23490b1f3d",
        "colab": {
          "base_uri": "https://localhost:8080/",
          "height": 542
        }
      },
      "execution_count": 3,
      "outputs": [
        {
          "output_type": "display_data",
          "data": {
            "text/html": [
              "<html>\n",
              "<head><meta charset=\"utf-8\" /></head>\n",
              "<body>\n",
              "    <div>            <script src=\"https://cdnjs.cloudflare.com/ajax/libs/mathjax/2.7.5/MathJax.js?config=TeX-AMS-MML_SVG\"></script><script type=\"text/javascript\">if (window.MathJax && window.MathJax.Hub && window.MathJax.Hub.Config) {window.MathJax.Hub.Config({SVG: {font: \"STIX-Web\"}});}</script>                <script type=\"text/javascript\">window.PlotlyConfig = {MathJaxConfig: 'local'};</script>\n",
              "        <script charset=\"utf-8\" src=\"https://cdn.plot.ly/plotly-2.24.1.min.js\"></script>                <div id=\"345f510f-5061-4718-927d-27aa9577c9e2\" class=\"plotly-graph-div\" style=\"height:525px; width:100%;\"></div>            <script type=\"text/javascript\">                                    window.PLOTLYENV=window.PLOTLYENV || {};                                    if (document.getElementById(\"345f510f-5061-4718-927d-27aa9577c9e2\")) {                    Plotly.newPlot(                        \"345f510f-5061-4718-927d-27aa9577c9e2\",                        [{\"mode\":\"markers\",\"name\":\"Objective Value\",\"x\":[0,1,2,3,4,5,6,7,8,9,10,11,12,13,14,15,16,17,18,19,20,21,22,23,24,25,26,27,28,29,30,31,32,33,34,35,36,37,38,39,40,41,42,43,44,45,46,47,48,49],\"y\":[0.968,0.9718333333333333,0.9675,0.9598333333333333,0.9718333333333333,0.9508333333333333,0.9471666666666667,0.95,0.9586666666666667,0.9665,0.9603333333333334,0.9686666666666667,0.968,0.9673333333333334,0.9581666666666667,0.9625,0.9701666666666666,0.97,0.9665,0.9668333333333333,0.9655,0.9635,0.9651666666666666,0.9543333333333334,0.9631666666666666,0.9643333333333334,0.9698333333333333,0.9675,0.9593333333333334,0.9636666666666667,0.9555,0.9626666666666667,0.9688333333333333,0.9698333333333333,0.9726666666666667,0.9735,0.9666666666666667,0.9668333333333333,0.9518333333333333,0.9676666666666667,0.9706666666666667,0.9626666666666667,0.963,0.9685,0.9683333333333334,0.9718333333333333,0.9668333333333333,0.965,0.9595,0.9731666666666666],\"type\":\"scatter\"},{\"mode\":\"lines\",\"name\":\"Best Value\",\"x\":[0,1,2,3,4,5,6,7,8,9,10,11,12,13,14,15,16,17,18,19,20,21,22,23,24,25,26,27,28,29,30,31,32,33,34,35,36,37,38,39,40,41,42,43,44,45,46,47,48,49],\"y\":[0.968,0.9718333333333333,0.9718333333333333,0.9718333333333333,0.9718333333333333,0.9718333333333333,0.9718333333333333,0.9718333333333333,0.9718333333333333,0.9718333333333333,0.9718333333333333,0.9718333333333333,0.9718333333333333,0.9718333333333333,0.9718333333333333,0.9718333333333333,0.9718333333333333,0.9718333333333333,0.9718333333333333,0.9718333333333333,0.9718333333333333,0.9718333333333333,0.9718333333333333,0.9718333333333333,0.9718333333333333,0.9718333333333333,0.9718333333333333,0.9718333333333333,0.9718333333333333,0.9718333333333333,0.9718333333333333,0.9718333333333333,0.9718333333333333,0.9718333333333333,0.9726666666666667,0.9735,0.9735,0.9735,0.9735,0.9735,0.9735,0.9735,0.9735,0.9735,0.9735,0.9735,0.9735,0.9735,0.9735,0.9735],\"type\":\"scatter\"},{\"marker\":{\"color\":\"#cccccc\"},\"mode\":\"markers\",\"name\":\"Infeasible Trial\",\"showlegend\":false,\"x\":[],\"y\":[],\"type\":\"scatter\"}],                        {\"title\":{\"text\":\"Optimization History Plot\"},\"xaxis\":{\"title\":{\"text\":\"Trial\"}},\"yaxis\":{\"title\":{\"text\":\"Objective Value\"}},\"template\":{\"data\":{\"histogram2dcontour\":[{\"type\":\"histogram2dcontour\",\"colorbar\":{\"outlinewidth\":0,\"ticks\":\"\"},\"colorscale\":[[0.0,\"#0d0887\"],[0.1111111111111111,\"#46039f\"],[0.2222222222222222,\"#7201a8\"],[0.3333333333333333,\"#9c179e\"],[0.4444444444444444,\"#bd3786\"],[0.5555555555555556,\"#d8576b\"],[0.6666666666666666,\"#ed7953\"],[0.7777777777777778,\"#fb9f3a\"],[0.8888888888888888,\"#fdca26\"],[1.0,\"#f0f921\"]]}],\"choropleth\":[{\"type\":\"choropleth\",\"colorbar\":{\"outlinewidth\":0,\"ticks\":\"\"}}],\"histogram2d\":[{\"type\":\"histogram2d\",\"colorbar\":{\"outlinewidth\":0,\"ticks\":\"\"},\"colorscale\":[[0.0,\"#0d0887\"],[0.1111111111111111,\"#46039f\"],[0.2222222222222222,\"#7201a8\"],[0.3333333333333333,\"#9c179e\"],[0.4444444444444444,\"#bd3786\"],[0.5555555555555556,\"#d8576b\"],[0.6666666666666666,\"#ed7953\"],[0.7777777777777778,\"#fb9f3a\"],[0.8888888888888888,\"#fdca26\"],[1.0,\"#f0f921\"]]}],\"heatmap\":[{\"type\":\"heatmap\",\"colorbar\":{\"outlinewidth\":0,\"ticks\":\"\"},\"colorscale\":[[0.0,\"#0d0887\"],[0.1111111111111111,\"#46039f\"],[0.2222222222222222,\"#7201a8\"],[0.3333333333333333,\"#9c179e\"],[0.4444444444444444,\"#bd3786\"],[0.5555555555555556,\"#d8576b\"],[0.6666666666666666,\"#ed7953\"],[0.7777777777777778,\"#fb9f3a\"],[0.8888888888888888,\"#fdca26\"],[1.0,\"#f0f921\"]]}],\"heatmapgl\":[{\"type\":\"heatmapgl\",\"colorbar\":{\"outlinewidth\":0,\"ticks\":\"\"},\"colorscale\":[[0.0,\"#0d0887\"],[0.1111111111111111,\"#46039f\"],[0.2222222222222222,\"#7201a8\"],[0.3333333333333333,\"#9c179e\"],[0.4444444444444444,\"#bd3786\"],[0.5555555555555556,\"#d8576b\"],[0.6666666666666666,\"#ed7953\"],[0.7777777777777778,\"#fb9f3a\"],[0.8888888888888888,\"#fdca26\"],[1.0,\"#f0f921\"]]}],\"contourcarpet\":[{\"type\":\"contourcarpet\",\"colorbar\":{\"outlinewidth\":0,\"ticks\":\"\"}}],\"contour\":[{\"type\":\"contour\",\"colorbar\":{\"outlinewidth\":0,\"ticks\":\"\"},\"colorscale\":[[0.0,\"#0d0887\"],[0.1111111111111111,\"#46039f\"],[0.2222222222222222,\"#7201a8\"],[0.3333333333333333,\"#9c179e\"],[0.4444444444444444,\"#bd3786\"],[0.5555555555555556,\"#d8576b\"],[0.6666666666666666,\"#ed7953\"],[0.7777777777777778,\"#fb9f3a\"],[0.8888888888888888,\"#fdca26\"],[1.0,\"#f0f921\"]]}],\"surface\":[{\"type\":\"surface\",\"colorbar\":{\"outlinewidth\":0,\"ticks\":\"\"},\"colorscale\":[[0.0,\"#0d0887\"],[0.1111111111111111,\"#46039f\"],[0.2222222222222222,\"#7201a8\"],[0.3333333333333333,\"#9c179e\"],[0.4444444444444444,\"#bd3786\"],[0.5555555555555556,\"#d8576b\"],[0.6666666666666666,\"#ed7953\"],[0.7777777777777778,\"#fb9f3a\"],[0.8888888888888888,\"#fdca26\"],[1.0,\"#f0f921\"]]}],\"mesh3d\":[{\"type\":\"mesh3d\",\"colorbar\":{\"outlinewidth\":0,\"ticks\":\"\"}}],\"scatter\":[{\"fillpattern\":{\"fillmode\":\"overlay\",\"size\":10,\"solidity\":0.2},\"type\":\"scatter\"}],\"parcoords\":[{\"type\":\"parcoords\",\"line\":{\"colorbar\":{\"outlinewidth\":0,\"ticks\":\"\"}}}],\"scatterpolargl\":[{\"type\":\"scatterpolargl\",\"marker\":{\"colorbar\":{\"outlinewidth\":0,\"ticks\":\"\"}}}],\"bar\":[{\"error_x\":{\"color\":\"#2a3f5f\"},\"error_y\":{\"color\":\"#2a3f5f\"},\"marker\":{\"line\":{\"color\":\"#E5ECF6\",\"width\":0.5},\"pattern\":{\"fillmode\":\"overlay\",\"size\":10,\"solidity\":0.2}},\"type\":\"bar\"}],\"scattergeo\":[{\"type\":\"scattergeo\",\"marker\":{\"colorbar\":{\"outlinewidth\":0,\"ticks\":\"\"}}}],\"scatterpolar\":[{\"type\":\"scatterpolar\",\"marker\":{\"colorbar\":{\"outlinewidth\":0,\"ticks\":\"\"}}}],\"histogram\":[{\"marker\":{\"pattern\":{\"fillmode\":\"overlay\",\"size\":10,\"solidity\":0.2}},\"type\":\"histogram\"}],\"scattergl\":[{\"type\":\"scattergl\",\"marker\":{\"colorbar\":{\"outlinewidth\":0,\"ticks\":\"\"}}}],\"scatter3d\":[{\"type\":\"scatter3d\",\"line\":{\"colorbar\":{\"outlinewidth\":0,\"ticks\":\"\"}},\"marker\":{\"colorbar\":{\"outlinewidth\":0,\"ticks\":\"\"}}}],\"scattermapbox\":[{\"type\":\"scattermapbox\",\"marker\":{\"colorbar\":{\"outlinewidth\":0,\"ticks\":\"\"}}}],\"scatterternary\":[{\"type\":\"scatterternary\",\"marker\":{\"colorbar\":{\"outlinewidth\":0,\"ticks\":\"\"}}}],\"scattercarpet\":[{\"type\":\"scattercarpet\",\"marker\":{\"colorbar\":{\"outlinewidth\":0,\"ticks\":\"\"}}}],\"carpet\":[{\"aaxis\":{\"endlinecolor\":\"#2a3f5f\",\"gridcolor\":\"white\",\"linecolor\":\"white\",\"minorgridcolor\":\"white\",\"startlinecolor\":\"#2a3f5f\"},\"baxis\":{\"endlinecolor\":\"#2a3f5f\",\"gridcolor\":\"white\",\"linecolor\":\"white\",\"minorgridcolor\":\"white\",\"startlinecolor\":\"#2a3f5f\"},\"type\":\"carpet\"}],\"table\":[{\"cells\":{\"fill\":{\"color\":\"#EBF0F8\"},\"line\":{\"color\":\"white\"}},\"header\":{\"fill\":{\"color\":\"#C8D4E3\"},\"line\":{\"color\":\"white\"}},\"type\":\"table\"}],\"barpolar\":[{\"marker\":{\"line\":{\"color\":\"#E5ECF6\",\"width\":0.5},\"pattern\":{\"fillmode\":\"overlay\",\"size\":10,\"solidity\":0.2}},\"type\":\"barpolar\"}],\"pie\":[{\"automargin\":true,\"type\":\"pie\"}]},\"layout\":{\"autotypenumbers\":\"strict\",\"colorway\":[\"#636efa\",\"#EF553B\",\"#00cc96\",\"#ab63fa\",\"#FFA15A\",\"#19d3f3\",\"#FF6692\",\"#B6E880\",\"#FF97FF\",\"#FECB52\"],\"font\":{\"color\":\"#2a3f5f\"},\"hovermode\":\"closest\",\"hoverlabel\":{\"align\":\"left\"},\"paper_bgcolor\":\"white\",\"plot_bgcolor\":\"#E5ECF6\",\"polar\":{\"bgcolor\":\"#E5ECF6\",\"angularaxis\":{\"gridcolor\":\"white\",\"linecolor\":\"white\",\"ticks\":\"\"},\"radialaxis\":{\"gridcolor\":\"white\",\"linecolor\":\"white\",\"ticks\":\"\"}},\"ternary\":{\"bgcolor\":\"#E5ECF6\",\"aaxis\":{\"gridcolor\":\"white\",\"linecolor\":\"white\",\"ticks\":\"\"},\"baxis\":{\"gridcolor\":\"white\",\"linecolor\":\"white\",\"ticks\":\"\"},\"caxis\":{\"gridcolor\":\"white\",\"linecolor\":\"white\",\"ticks\":\"\"}},\"coloraxis\":{\"colorbar\":{\"outlinewidth\":0,\"ticks\":\"\"}},\"colorscale\":{\"sequential\":[[0.0,\"#0d0887\"],[0.1111111111111111,\"#46039f\"],[0.2222222222222222,\"#7201a8\"],[0.3333333333333333,\"#9c179e\"],[0.4444444444444444,\"#bd3786\"],[0.5555555555555556,\"#d8576b\"],[0.6666666666666666,\"#ed7953\"],[0.7777777777777778,\"#fb9f3a\"],[0.8888888888888888,\"#fdca26\"],[1.0,\"#f0f921\"]],\"sequentialminus\":[[0.0,\"#0d0887\"],[0.1111111111111111,\"#46039f\"],[0.2222222222222222,\"#7201a8\"],[0.3333333333333333,\"#9c179e\"],[0.4444444444444444,\"#bd3786\"],[0.5555555555555556,\"#d8576b\"],[0.6666666666666666,\"#ed7953\"],[0.7777777777777778,\"#fb9f3a\"],[0.8888888888888888,\"#fdca26\"],[1.0,\"#f0f921\"]],\"diverging\":[[0,\"#8e0152\"],[0.1,\"#c51b7d\"],[0.2,\"#de77ae\"],[0.3,\"#f1b6da\"],[0.4,\"#fde0ef\"],[0.5,\"#f7f7f7\"],[0.6,\"#e6f5d0\"],[0.7,\"#b8e186\"],[0.8,\"#7fbc41\"],[0.9,\"#4d9221\"],[1,\"#276419\"]]},\"xaxis\":{\"gridcolor\":\"white\",\"linecolor\":\"white\",\"ticks\":\"\",\"title\":{\"standoff\":15},\"zerolinecolor\":\"white\",\"automargin\":true,\"zerolinewidth\":2},\"yaxis\":{\"gridcolor\":\"white\",\"linecolor\":\"white\",\"ticks\":\"\",\"title\":{\"standoff\":15},\"zerolinecolor\":\"white\",\"automargin\":true,\"zerolinewidth\":2},\"scene\":{\"xaxis\":{\"backgroundcolor\":\"#E5ECF6\",\"gridcolor\":\"white\",\"linecolor\":\"white\",\"showbackground\":true,\"ticks\":\"\",\"zerolinecolor\":\"white\",\"gridwidth\":2},\"yaxis\":{\"backgroundcolor\":\"#E5ECF6\",\"gridcolor\":\"white\",\"linecolor\":\"white\",\"showbackground\":true,\"ticks\":\"\",\"zerolinecolor\":\"white\",\"gridwidth\":2},\"zaxis\":{\"backgroundcolor\":\"#E5ECF6\",\"gridcolor\":\"white\",\"linecolor\":\"white\",\"showbackground\":true,\"ticks\":\"\",\"zerolinecolor\":\"white\",\"gridwidth\":2}},\"shapedefaults\":{\"line\":{\"color\":\"#2a3f5f\"}},\"annotationdefaults\":{\"arrowcolor\":\"#2a3f5f\",\"arrowhead\":0,\"arrowwidth\":1},\"geo\":{\"bgcolor\":\"white\",\"landcolor\":\"#E5ECF6\",\"subunitcolor\":\"white\",\"showland\":true,\"showlakes\":true,\"lakecolor\":\"white\"},\"title\":{\"x\":0.05},\"mapbox\":{\"style\":\"light\"}}}},                        {\"responsive\": true}                    ).then(function(){\n",
              "                            \n",
              "var gd = document.getElementById('345f510f-5061-4718-927d-27aa9577c9e2');\n",
              "var x = new MutationObserver(function (mutations, observer) {{\n",
              "        var display = window.getComputedStyle(gd).display;\n",
              "        if (!display || display === 'none') {{\n",
              "            console.log([gd, 'removed!']);\n",
              "            Plotly.purge(gd);\n",
              "            observer.disconnect();\n",
              "        }}\n",
              "}});\n",
              "\n",
              "// Listen for the removal of the full notebook cells\n",
              "var notebookContainer = gd.closest('#notebook-container');\n",
              "if (notebookContainer) {{\n",
              "    x.observe(notebookContainer, {childList: true});\n",
              "}}\n",
              "\n",
              "// Listen for the clearing of the current output cell\n",
              "var outputEl = gd.closest('.output');\n",
              "if (outputEl) {{\n",
              "    x.observe(outputEl, {childList: true});\n",
              "}}\n",
              "\n",
              "                        })                };                            </script>        </div>\n",
              "</body>\n",
              "</html>"
            ]
          },
          "metadata": {}
        }
      ]
    },
    {
      "cell_type": "code",
      "source": [
        "optuna.visualization.plot_parallel_coordinate(study)"
      ],
      "metadata": {
        "id": "MACDOSwpTRjc",
        "outputId": "01957d4e-cc0b-4dd6-f0fd-906eaebcfbde",
        "colab": {
          "base_uri": "https://localhost:8080/",
          "height": 542
        }
      },
      "execution_count": 4,
      "outputs": [
        {
          "output_type": "display_data",
          "data": {
            "text/html": [
              "<html>\n",
              "<head><meta charset=\"utf-8\" /></head>\n",
              "<body>\n",
              "    <div>            <script src=\"https://cdnjs.cloudflare.com/ajax/libs/mathjax/2.7.5/MathJax.js?config=TeX-AMS-MML_SVG\"></script><script type=\"text/javascript\">if (window.MathJax && window.MathJax.Hub && window.MathJax.Hub.Config) {window.MathJax.Hub.Config({SVG: {font: \"STIX-Web\"}});}</script>                <script type=\"text/javascript\">window.PlotlyConfig = {MathJaxConfig: 'local'};</script>\n",
              "        <script charset=\"utf-8\" src=\"https://cdn.plot.ly/plotly-2.24.1.min.js\"></script>                <div id=\"689ecaba-28dd-47d4-ae80-1c5f37fa4be8\" class=\"plotly-graph-div\" style=\"height:525px; width:100%;\"></div>            <script type=\"text/javascript\">                                    window.PLOTLYENV=window.PLOTLYENV || {};                                    if (document.getElementById(\"689ecaba-28dd-47d4-ae80-1c5f37fa4be8\")) {                    Plotly.newPlot(                        \"689ecaba-28dd-47d4-ae80-1c5f37fa4be8\",                        [{\"dimensions\":[{\"label\":\"Objective Value\",\"range\":[0.9508333333333333,0.9726666666666667],\"values\":[0.968,0.9718333333333333,0.9675,0.9508333333333333,0.9586666666666667,0.9665,0.97,0.9655,0.9698333333333333,0.9636666666666667,0.9555,0.9626666666666667,0.9688333333333333,0.9698333333333333,0.9726666666666667,0.9666666666666667,0.9518333333333333,0.9676666666666667,0.9668333333333333,0.965]},{\"label\":\"hidden_layers\",\"range\":[3,3],\"values\":[3,3,3,3,3,3,3,3,3,3,3,3,3,3,3,3,3,3,3,3]},{\"label\":\"hidden_units_0\",\"range\":[38,254],\"values\":[169,148,239,120,38,185,198,221,144,172,55,195,161,223,250,254,235,214,217,207]},{\"label\":\"hidden_units_1\",\"range\":[68,256],\"values\":[123,150,145,68,256,77,159,177,99,155,227,161,137,182,150,98,147,111,118,147]},{\"label\":\"hidden_units_2\",\"range\":[63,256],\"values\":[63,203,226,148,217,63,158,256,184,114,113,183,163,113,208,214,243,200,185,130]}],\"labelangle\":30,\"labelside\":\"bottom\",\"line\":{\"color\":[0.968,0.9718333333333333,0.9675,0.9508333333333333,0.9586666666666667,0.9665,0.97,0.9655,0.9698333333333333,0.9636666666666667,0.9555,0.9626666666666667,0.9688333333333333,0.9698333333333333,0.9726666666666667,0.9666666666666667,0.9518333333333333,0.9676666666666667,0.9668333333333333,0.965],\"colorbar\":{\"title\":{\"text\":\"Objective Value\"}},\"colorscale\":[[0.0,\"rgb(247,251,255)\"],[0.125,\"rgb(222,235,247)\"],[0.25,\"rgb(198,219,239)\"],[0.375,\"rgb(158,202,225)\"],[0.5,\"rgb(107,174,214)\"],[0.625,\"rgb(66,146,198)\"],[0.75,\"rgb(33,113,181)\"],[0.875,\"rgb(8,81,156)\"],[1.0,\"rgb(8,48,107)\"]],\"reversescale\":false,\"showscale\":true},\"type\":\"parcoords\"}],                        {\"title\":{\"text\":\"Parallel Coordinate Plot\"},\"template\":{\"data\":{\"histogram2dcontour\":[{\"type\":\"histogram2dcontour\",\"colorbar\":{\"outlinewidth\":0,\"ticks\":\"\"},\"colorscale\":[[0.0,\"#0d0887\"],[0.1111111111111111,\"#46039f\"],[0.2222222222222222,\"#7201a8\"],[0.3333333333333333,\"#9c179e\"],[0.4444444444444444,\"#bd3786\"],[0.5555555555555556,\"#d8576b\"],[0.6666666666666666,\"#ed7953\"],[0.7777777777777778,\"#fb9f3a\"],[0.8888888888888888,\"#fdca26\"],[1.0,\"#f0f921\"]]}],\"choropleth\":[{\"type\":\"choropleth\",\"colorbar\":{\"outlinewidth\":0,\"ticks\":\"\"}}],\"histogram2d\":[{\"type\":\"histogram2d\",\"colorbar\":{\"outlinewidth\":0,\"ticks\":\"\"},\"colorscale\":[[0.0,\"#0d0887\"],[0.1111111111111111,\"#46039f\"],[0.2222222222222222,\"#7201a8\"],[0.3333333333333333,\"#9c179e\"],[0.4444444444444444,\"#bd3786\"],[0.5555555555555556,\"#d8576b\"],[0.6666666666666666,\"#ed7953\"],[0.7777777777777778,\"#fb9f3a\"],[0.8888888888888888,\"#fdca26\"],[1.0,\"#f0f921\"]]}],\"heatmap\":[{\"type\":\"heatmap\",\"colorbar\":{\"outlinewidth\":0,\"ticks\":\"\"},\"colorscale\":[[0.0,\"#0d0887\"],[0.1111111111111111,\"#46039f\"],[0.2222222222222222,\"#7201a8\"],[0.3333333333333333,\"#9c179e\"],[0.4444444444444444,\"#bd3786\"],[0.5555555555555556,\"#d8576b\"],[0.6666666666666666,\"#ed7953\"],[0.7777777777777778,\"#fb9f3a\"],[0.8888888888888888,\"#fdca26\"],[1.0,\"#f0f921\"]]}],\"heatmapgl\":[{\"type\":\"heatmapgl\",\"colorbar\":{\"outlinewidth\":0,\"ticks\":\"\"},\"colorscale\":[[0.0,\"#0d0887\"],[0.1111111111111111,\"#46039f\"],[0.2222222222222222,\"#7201a8\"],[0.3333333333333333,\"#9c179e\"],[0.4444444444444444,\"#bd3786\"],[0.5555555555555556,\"#d8576b\"],[0.6666666666666666,\"#ed7953\"],[0.7777777777777778,\"#fb9f3a\"],[0.8888888888888888,\"#fdca26\"],[1.0,\"#f0f921\"]]}],\"contourcarpet\":[{\"type\":\"contourcarpet\",\"colorbar\":{\"outlinewidth\":0,\"ticks\":\"\"}}],\"contour\":[{\"type\":\"contour\",\"colorbar\":{\"outlinewidth\":0,\"ticks\":\"\"},\"colorscale\":[[0.0,\"#0d0887\"],[0.1111111111111111,\"#46039f\"],[0.2222222222222222,\"#7201a8\"],[0.3333333333333333,\"#9c179e\"],[0.4444444444444444,\"#bd3786\"],[0.5555555555555556,\"#d8576b\"],[0.6666666666666666,\"#ed7953\"],[0.7777777777777778,\"#fb9f3a\"],[0.8888888888888888,\"#fdca26\"],[1.0,\"#f0f921\"]]}],\"surface\":[{\"type\":\"surface\",\"colorbar\":{\"outlinewidth\":0,\"ticks\":\"\"},\"colorscale\":[[0.0,\"#0d0887\"],[0.1111111111111111,\"#46039f\"],[0.2222222222222222,\"#7201a8\"],[0.3333333333333333,\"#9c179e\"],[0.4444444444444444,\"#bd3786\"],[0.5555555555555556,\"#d8576b\"],[0.6666666666666666,\"#ed7953\"],[0.7777777777777778,\"#fb9f3a\"],[0.8888888888888888,\"#fdca26\"],[1.0,\"#f0f921\"]]}],\"mesh3d\":[{\"type\":\"mesh3d\",\"colorbar\":{\"outlinewidth\":0,\"ticks\":\"\"}}],\"scatter\":[{\"fillpattern\":{\"fillmode\":\"overlay\",\"size\":10,\"solidity\":0.2},\"type\":\"scatter\"}],\"parcoords\":[{\"type\":\"parcoords\",\"line\":{\"colorbar\":{\"outlinewidth\":0,\"ticks\":\"\"}}}],\"scatterpolargl\":[{\"type\":\"scatterpolargl\",\"marker\":{\"colorbar\":{\"outlinewidth\":0,\"ticks\":\"\"}}}],\"bar\":[{\"error_x\":{\"color\":\"#2a3f5f\"},\"error_y\":{\"color\":\"#2a3f5f\"},\"marker\":{\"line\":{\"color\":\"#E5ECF6\",\"width\":0.5},\"pattern\":{\"fillmode\":\"overlay\",\"size\":10,\"solidity\":0.2}},\"type\":\"bar\"}],\"scattergeo\":[{\"type\":\"scattergeo\",\"marker\":{\"colorbar\":{\"outlinewidth\":0,\"ticks\":\"\"}}}],\"scatterpolar\":[{\"type\":\"scatterpolar\",\"marker\":{\"colorbar\":{\"outlinewidth\":0,\"ticks\":\"\"}}}],\"histogram\":[{\"marker\":{\"pattern\":{\"fillmode\":\"overlay\",\"size\":10,\"solidity\":0.2}},\"type\":\"histogram\"}],\"scattergl\":[{\"type\":\"scattergl\",\"marker\":{\"colorbar\":{\"outlinewidth\":0,\"ticks\":\"\"}}}],\"scatter3d\":[{\"type\":\"scatter3d\",\"line\":{\"colorbar\":{\"outlinewidth\":0,\"ticks\":\"\"}},\"marker\":{\"colorbar\":{\"outlinewidth\":0,\"ticks\":\"\"}}}],\"scattermapbox\":[{\"type\":\"scattermapbox\",\"marker\":{\"colorbar\":{\"outlinewidth\":0,\"ticks\":\"\"}}}],\"scatterternary\":[{\"type\":\"scatterternary\",\"marker\":{\"colorbar\":{\"outlinewidth\":0,\"ticks\":\"\"}}}],\"scattercarpet\":[{\"type\":\"scattercarpet\",\"marker\":{\"colorbar\":{\"outlinewidth\":0,\"ticks\":\"\"}}}],\"carpet\":[{\"aaxis\":{\"endlinecolor\":\"#2a3f5f\",\"gridcolor\":\"white\",\"linecolor\":\"white\",\"minorgridcolor\":\"white\",\"startlinecolor\":\"#2a3f5f\"},\"baxis\":{\"endlinecolor\":\"#2a3f5f\",\"gridcolor\":\"white\",\"linecolor\":\"white\",\"minorgridcolor\":\"white\",\"startlinecolor\":\"#2a3f5f\"},\"type\":\"carpet\"}],\"table\":[{\"cells\":{\"fill\":{\"color\":\"#EBF0F8\"},\"line\":{\"color\":\"white\"}},\"header\":{\"fill\":{\"color\":\"#C8D4E3\"},\"line\":{\"color\":\"white\"}},\"type\":\"table\"}],\"barpolar\":[{\"marker\":{\"line\":{\"color\":\"#E5ECF6\",\"width\":0.5},\"pattern\":{\"fillmode\":\"overlay\",\"size\":10,\"solidity\":0.2}},\"type\":\"barpolar\"}],\"pie\":[{\"automargin\":true,\"type\":\"pie\"}]},\"layout\":{\"autotypenumbers\":\"strict\",\"colorway\":[\"#636efa\",\"#EF553B\",\"#00cc96\",\"#ab63fa\",\"#FFA15A\",\"#19d3f3\",\"#FF6692\",\"#B6E880\",\"#FF97FF\",\"#FECB52\"],\"font\":{\"color\":\"#2a3f5f\"},\"hovermode\":\"closest\",\"hoverlabel\":{\"align\":\"left\"},\"paper_bgcolor\":\"white\",\"plot_bgcolor\":\"#E5ECF6\",\"polar\":{\"bgcolor\":\"#E5ECF6\",\"angularaxis\":{\"gridcolor\":\"white\",\"linecolor\":\"white\",\"ticks\":\"\"},\"radialaxis\":{\"gridcolor\":\"white\",\"linecolor\":\"white\",\"ticks\":\"\"}},\"ternary\":{\"bgcolor\":\"#E5ECF6\",\"aaxis\":{\"gridcolor\":\"white\",\"linecolor\":\"white\",\"ticks\":\"\"},\"baxis\":{\"gridcolor\":\"white\",\"linecolor\":\"white\",\"ticks\":\"\"},\"caxis\":{\"gridcolor\":\"white\",\"linecolor\":\"white\",\"ticks\":\"\"}},\"coloraxis\":{\"colorbar\":{\"outlinewidth\":0,\"ticks\":\"\"}},\"colorscale\":{\"sequential\":[[0.0,\"#0d0887\"],[0.1111111111111111,\"#46039f\"],[0.2222222222222222,\"#7201a8\"],[0.3333333333333333,\"#9c179e\"],[0.4444444444444444,\"#bd3786\"],[0.5555555555555556,\"#d8576b\"],[0.6666666666666666,\"#ed7953\"],[0.7777777777777778,\"#fb9f3a\"],[0.8888888888888888,\"#fdca26\"],[1.0,\"#f0f921\"]],\"sequentialminus\":[[0.0,\"#0d0887\"],[0.1111111111111111,\"#46039f\"],[0.2222222222222222,\"#7201a8\"],[0.3333333333333333,\"#9c179e\"],[0.4444444444444444,\"#bd3786\"],[0.5555555555555556,\"#d8576b\"],[0.6666666666666666,\"#ed7953\"],[0.7777777777777778,\"#fb9f3a\"],[0.8888888888888888,\"#fdca26\"],[1.0,\"#f0f921\"]],\"diverging\":[[0,\"#8e0152\"],[0.1,\"#c51b7d\"],[0.2,\"#de77ae\"],[0.3,\"#f1b6da\"],[0.4,\"#fde0ef\"],[0.5,\"#f7f7f7\"],[0.6,\"#e6f5d0\"],[0.7,\"#b8e186\"],[0.8,\"#7fbc41\"],[0.9,\"#4d9221\"],[1,\"#276419\"]]},\"xaxis\":{\"gridcolor\":\"white\",\"linecolor\":\"white\",\"ticks\":\"\",\"title\":{\"standoff\":15},\"zerolinecolor\":\"white\",\"automargin\":true,\"zerolinewidth\":2},\"yaxis\":{\"gridcolor\":\"white\",\"linecolor\":\"white\",\"ticks\":\"\",\"title\":{\"standoff\":15},\"zerolinecolor\":\"white\",\"automargin\":true,\"zerolinewidth\":2},\"scene\":{\"xaxis\":{\"backgroundcolor\":\"#E5ECF6\",\"gridcolor\":\"white\",\"linecolor\":\"white\",\"showbackground\":true,\"ticks\":\"\",\"zerolinecolor\":\"white\",\"gridwidth\":2},\"yaxis\":{\"backgroundcolor\":\"#E5ECF6\",\"gridcolor\":\"white\",\"linecolor\":\"white\",\"showbackground\":true,\"ticks\":\"\",\"zerolinecolor\":\"white\",\"gridwidth\":2},\"zaxis\":{\"backgroundcolor\":\"#E5ECF6\",\"gridcolor\":\"white\",\"linecolor\":\"white\",\"showbackground\":true,\"ticks\":\"\",\"zerolinecolor\":\"white\",\"gridwidth\":2}},\"shapedefaults\":{\"line\":{\"color\":\"#2a3f5f\"}},\"annotationdefaults\":{\"arrowcolor\":\"#2a3f5f\",\"arrowhead\":0,\"arrowwidth\":1},\"geo\":{\"bgcolor\":\"white\",\"landcolor\":\"#E5ECF6\",\"subunitcolor\":\"white\",\"showland\":true,\"showlakes\":true,\"lakecolor\":\"white\"},\"title\":{\"x\":0.05},\"mapbox\":{\"style\":\"light\"}}}},                        {\"responsive\": true}                    ).then(function(){\n",
              "                            \n",
              "var gd = document.getElementById('689ecaba-28dd-47d4-ae80-1c5f37fa4be8');\n",
              "var x = new MutationObserver(function (mutations, observer) {{\n",
              "        var display = window.getComputedStyle(gd).display;\n",
              "        if (!display || display === 'none') {{\n",
              "            console.log([gd, 'removed!']);\n",
              "            Plotly.purge(gd);\n",
              "            observer.disconnect();\n",
              "        }}\n",
              "}});\n",
              "\n",
              "// Listen for the removal of the full notebook cells\n",
              "var notebookContainer = gd.closest('#notebook-container');\n",
              "if (notebookContainer) {{\n",
              "    x.observe(notebookContainer, {childList: true});\n",
              "}}\n",
              "\n",
              "// Listen for the clearing of the current output cell\n",
              "var outputEl = gd.closest('.output');\n",
              "if (outputEl) {{\n",
              "    x.observe(outputEl, {childList: true});\n",
              "}}\n",
              "\n",
              "                        })                };                            </script>        </div>\n",
              "</body>\n",
              "</html>"
            ]
          },
          "metadata": {}
        }
      ]
    },
    {
      "cell_type": "code",
      "source": [
        "optuna.visualization.plot_param_importances(study)"
      ],
      "metadata": {
        "id": "vkHsze2jTZ-5",
        "outputId": "679df5b3-fe66-4f58-ffe7-fff138d4bbd4",
        "colab": {
          "base_uri": "https://localhost:8080/",
          "height": 542
        }
      },
      "execution_count": 10,
      "outputs": [
        {
          "output_type": "display_data",
          "data": {
            "text/html": [
              "<html>\n",
              "<head><meta charset=\"utf-8\" /></head>\n",
              "<body>\n",
              "    <div>            <script src=\"https://cdnjs.cloudflare.com/ajax/libs/mathjax/2.7.5/MathJax.js?config=TeX-AMS-MML_SVG\"></script><script type=\"text/javascript\">if (window.MathJax && window.MathJax.Hub && window.MathJax.Hub.Config) {window.MathJax.Hub.Config({SVG: {font: \"STIX-Web\"}});}</script>                <script type=\"text/javascript\">window.PlotlyConfig = {MathJaxConfig: 'local'};</script>\n",
              "        <script charset=\"utf-8\" src=\"https://cdn.plot.ly/plotly-2.24.1.min.js\"></script>                <div id=\"5b5b34e1-8027-4453-b183-cff86896f7c5\" class=\"plotly-graph-div\" style=\"height:525px; width:100%;\"></div>            <script type=\"text/javascript\">                                    window.PLOTLYENV=window.PLOTLYENV || {};                                    if (document.getElementById(\"5b5b34e1-8027-4453-b183-cff86896f7c5\")) {                    Plotly.newPlot(                        \"5b5b34e1-8027-4453-b183-cff86896f7c5\",                        [{\"cliponaxis\":false,\"hovertemplate\":[\"hidden_layers (IntDistribution): 0.06161723655318556\\u003cextra\\u003e\\u003c\\u002fextra\\u003e\",\"hidden_units_0 (IntDistribution): 0.9383827634468145\\u003cextra\\u003e\\u003c\\u002fextra\\u003e\"],\"name\":\"Objective Value\",\"orientation\":\"h\",\"text\":[\"0.06\",\"0.94\"],\"textposition\":\"outside\",\"x\":[0.06161723655318556,0.9383827634468145],\"y\":[\"hidden_layers\",\"hidden_units_0\"],\"type\":\"bar\"}],                        {\"title\":{\"text\":\"Hyperparameter Importances\"},\"xaxis\":{\"title\":{\"text\":\"Hyperparameter Importance\"}},\"yaxis\":{\"title\":{\"text\":\"Hyperparameter\"}},\"template\":{\"data\":{\"histogram2dcontour\":[{\"type\":\"histogram2dcontour\",\"colorbar\":{\"outlinewidth\":0,\"ticks\":\"\"},\"colorscale\":[[0.0,\"#0d0887\"],[0.1111111111111111,\"#46039f\"],[0.2222222222222222,\"#7201a8\"],[0.3333333333333333,\"#9c179e\"],[0.4444444444444444,\"#bd3786\"],[0.5555555555555556,\"#d8576b\"],[0.6666666666666666,\"#ed7953\"],[0.7777777777777778,\"#fb9f3a\"],[0.8888888888888888,\"#fdca26\"],[1.0,\"#f0f921\"]]}],\"choropleth\":[{\"type\":\"choropleth\",\"colorbar\":{\"outlinewidth\":0,\"ticks\":\"\"}}],\"histogram2d\":[{\"type\":\"histogram2d\",\"colorbar\":{\"outlinewidth\":0,\"ticks\":\"\"},\"colorscale\":[[0.0,\"#0d0887\"],[0.1111111111111111,\"#46039f\"],[0.2222222222222222,\"#7201a8\"],[0.3333333333333333,\"#9c179e\"],[0.4444444444444444,\"#bd3786\"],[0.5555555555555556,\"#d8576b\"],[0.6666666666666666,\"#ed7953\"],[0.7777777777777778,\"#fb9f3a\"],[0.8888888888888888,\"#fdca26\"],[1.0,\"#f0f921\"]]}],\"heatmap\":[{\"type\":\"heatmap\",\"colorbar\":{\"outlinewidth\":0,\"ticks\":\"\"},\"colorscale\":[[0.0,\"#0d0887\"],[0.1111111111111111,\"#46039f\"],[0.2222222222222222,\"#7201a8\"],[0.3333333333333333,\"#9c179e\"],[0.4444444444444444,\"#bd3786\"],[0.5555555555555556,\"#d8576b\"],[0.6666666666666666,\"#ed7953\"],[0.7777777777777778,\"#fb9f3a\"],[0.8888888888888888,\"#fdca26\"],[1.0,\"#f0f921\"]]}],\"heatmapgl\":[{\"type\":\"heatmapgl\",\"colorbar\":{\"outlinewidth\":0,\"ticks\":\"\"},\"colorscale\":[[0.0,\"#0d0887\"],[0.1111111111111111,\"#46039f\"],[0.2222222222222222,\"#7201a8\"],[0.3333333333333333,\"#9c179e\"],[0.4444444444444444,\"#bd3786\"],[0.5555555555555556,\"#d8576b\"],[0.6666666666666666,\"#ed7953\"],[0.7777777777777778,\"#fb9f3a\"],[0.8888888888888888,\"#fdca26\"],[1.0,\"#f0f921\"]]}],\"contourcarpet\":[{\"type\":\"contourcarpet\",\"colorbar\":{\"outlinewidth\":0,\"ticks\":\"\"}}],\"contour\":[{\"type\":\"contour\",\"colorbar\":{\"outlinewidth\":0,\"ticks\":\"\"},\"colorscale\":[[0.0,\"#0d0887\"],[0.1111111111111111,\"#46039f\"],[0.2222222222222222,\"#7201a8\"],[0.3333333333333333,\"#9c179e\"],[0.4444444444444444,\"#bd3786\"],[0.5555555555555556,\"#d8576b\"],[0.6666666666666666,\"#ed7953\"],[0.7777777777777778,\"#fb9f3a\"],[0.8888888888888888,\"#fdca26\"],[1.0,\"#f0f921\"]]}],\"surface\":[{\"type\":\"surface\",\"colorbar\":{\"outlinewidth\":0,\"ticks\":\"\"},\"colorscale\":[[0.0,\"#0d0887\"],[0.1111111111111111,\"#46039f\"],[0.2222222222222222,\"#7201a8\"],[0.3333333333333333,\"#9c179e\"],[0.4444444444444444,\"#bd3786\"],[0.5555555555555556,\"#d8576b\"],[0.6666666666666666,\"#ed7953\"],[0.7777777777777778,\"#fb9f3a\"],[0.8888888888888888,\"#fdca26\"],[1.0,\"#f0f921\"]]}],\"mesh3d\":[{\"type\":\"mesh3d\",\"colorbar\":{\"outlinewidth\":0,\"ticks\":\"\"}}],\"scatter\":[{\"fillpattern\":{\"fillmode\":\"overlay\",\"size\":10,\"solidity\":0.2},\"type\":\"scatter\"}],\"parcoords\":[{\"type\":\"parcoords\",\"line\":{\"colorbar\":{\"outlinewidth\":0,\"ticks\":\"\"}}}],\"scatterpolargl\":[{\"type\":\"scatterpolargl\",\"marker\":{\"colorbar\":{\"outlinewidth\":0,\"ticks\":\"\"}}}],\"bar\":[{\"error_x\":{\"color\":\"#2a3f5f\"},\"error_y\":{\"color\":\"#2a3f5f\"},\"marker\":{\"line\":{\"color\":\"#E5ECF6\",\"width\":0.5},\"pattern\":{\"fillmode\":\"overlay\",\"size\":10,\"solidity\":0.2}},\"type\":\"bar\"}],\"scattergeo\":[{\"type\":\"scattergeo\",\"marker\":{\"colorbar\":{\"outlinewidth\":0,\"ticks\":\"\"}}}],\"scatterpolar\":[{\"type\":\"scatterpolar\",\"marker\":{\"colorbar\":{\"outlinewidth\":0,\"ticks\":\"\"}}}],\"histogram\":[{\"marker\":{\"pattern\":{\"fillmode\":\"overlay\",\"size\":10,\"solidity\":0.2}},\"type\":\"histogram\"}],\"scattergl\":[{\"type\":\"scattergl\",\"marker\":{\"colorbar\":{\"outlinewidth\":0,\"ticks\":\"\"}}}],\"scatter3d\":[{\"type\":\"scatter3d\",\"line\":{\"colorbar\":{\"outlinewidth\":0,\"ticks\":\"\"}},\"marker\":{\"colorbar\":{\"outlinewidth\":0,\"ticks\":\"\"}}}],\"scattermapbox\":[{\"type\":\"scattermapbox\",\"marker\":{\"colorbar\":{\"outlinewidth\":0,\"ticks\":\"\"}}}],\"scatterternary\":[{\"type\":\"scatterternary\",\"marker\":{\"colorbar\":{\"outlinewidth\":0,\"ticks\":\"\"}}}],\"scattercarpet\":[{\"type\":\"scattercarpet\",\"marker\":{\"colorbar\":{\"outlinewidth\":0,\"ticks\":\"\"}}}],\"carpet\":[{\"aaxis\":{\"endlinecolor\":\"#2a3f5f\",\"gridcolor\":\"white\",\"linecolor\":\"white\",\"minorgridcolor\":\"white\",\"startlinecolor\":\"#2a3f5f\"},\"baxis\":{\"endlinecolor\":\"#2a3f5f\",\"gridcolor\":\"white\",\"linecolor\":\"white\",\"minorgridcolor\":\"white\",\"startlinecolor\":\"#2a3f5f\"},\"type\":\"carpet\"}],\"table\":[{\"cells\":{\"fill\":{\"color\":\"#EBF0F8\"},\"line\":{\"color\":\"white\"}},\"header\":{\"fill\":{\"color\":\"#C8D4E3\"},\"line\":{\"color\":\"white\"}},\"type\":\"table\"}],\"barpolar\":[{\"marker\":{\"line\":{\"color\":\"#E5ECF6\",\"width\":0.5},\"pattern\":{\"fillmode\":\"overlay\",\"size\":10,\"solidity\":0.2}},\"type\":\"barpolar\"}],\"pie\":[{\"automargin\":true,\"type\":\"pie\"}]},\"layout\":{\"autotypenumbers\":\"strict\",\"colorway\":[\"#636efa\",\"#EF553B\",\"#00cc96\",\"#ab63fa\",\"#FFA15A\",\"#19d3f3\",\"#FF6692\",\"#B6E880\",\"#FF97FF\",\"#FECB52\"],\"font\":{\"color\":\"#2a3f5f\"},\"hovermode\":\"closest\",\"hoverlabel\":{\"align\":\"left\"},\"paper_bgcolor\":\"white\",\"plot_bgcolor\":\"#E5ECF6\",\"polar\":{\"bgcolor\":\"#E5ECF6\",\"angularaxis\":{\"gridcolor\":\"white\",\"linecolor\":\"white\",\"ticks\":\"\"},\"radialaxis\":{\"gridcolor\":\"white\",\"linecolor\":\"white\",\"ticks\":\"\"}},\"ternary\":{\"bgcolor\":\"#E5ECF6\",\"aaxis\":{\"gridcolor\":\"white\",\"linecolor\":\"white\",\"ticks\":\"\"},\"baxis\":{\"gridcolor\":\"white\",\"linecolor\":\"white\",\"ticks\":\"\"},\"caxis\":{\"gridcolor\":\"white\",\"linecolor\":\"white\",\"ticks\":\"\"}},\"coloraxis\":{\"colorbar\":{\"outlinewidth\":0,\"ticks\":\"\"}},\"colorscale\":{\"sequential\":[[0.0,\"#0d0887\"],[0.1111111111111111,\"#46039f\"],[0.2222222222222222,\"#7201a8\"],[0.3333333333333333,\"#9c179e\"],[0.4444444444444444,\"#bd3786\"],[0.5555555555555556,\"#d8576b\"],[0.6666666666666666,\"#ed7953\"],[0.7777777777777778,\"#fb9f3a\"],[0.8888888888888888,\"#fdca26\"],[1.0,\"#f0f921\"]],\"sequentialminus\":[[0.0,\"#0d0887\"],[0.1111111111111111,\"#46039f\"],[0.2222222222222222,\"#7201a8\"],[0.3333333333333333,\"#9c179e\"],[0.4444444444444444,\"#bd3786\"],[0.5555555555555556,\"#d8576b\"],[0.6666666666666666,\"#ed7953\"],[0.7777777777777778,\"#fb9f3a\"],[0.8888888888888888,\"#fdca26\"],[1.0,\"#f0f921\"]],\"diverging\":[[0,\"#8e0152\"],[0.1,\"#c51b7d\"],[0.2,\"#de77ae\"],[0.3,\"#f1b6da\"],[0.4,\"#fde0ef\"],[0.5,\"#f7f7f7\"],[0.6,\"#e6f5d0\"],[0.7,\"#b8e186\"],[0.8,\"#7fbc41\"],[0.9,\"#4d9221\"],[1,\"#276419\"]]},\"xaxis\":{\"gridcolor\":\"white\",\"linecolor\":\"white\",\"ticks\":\"\",\"title\":{\"standoff\":15},\"zerolinecolor\":\"white\",\"automargin\":true,\"zerolinewidth\":2},\"yaxis\":{\"gridcolor\":\"white\",\"linecolor\":\"white\",\"ticks\":\"\",\"title\":{\"standoff\":15},\"zerolinecolor\":\"white\",\"automargin\":true,\"zerolinewidth\":2},\"scene\":{\"xaxis\":{\"backgroundcolor\":\"#E5ECF6\",\"gridcolor\":\"white\",\"linecolor\":\"white\",\"showbackground\":true,\"ticks\":\"\",\"zerolinecolor\":\"white\",\"gridwidth\":2},\"yaxis\":{\"backgroundcolor\":\"#E5ECF6\",\"gridcolor\":\"white\",\"linecolor\":\"white\",\"showbackground\":true,\"ticks\":\"\",\"zerolinecolor\":\"white\",\"gridwidth\":2},\"zaxis\":{\"backgroundcolor\":\"#E5ECF6\",\"gridcolor\":\"white\",\"linecolor\":\"white\",\"showbackground\":true,\"ticks\":\"\",\"zerolinecolor\":\"white\",\"gridwidth\":2}},\"shapedefaults\":{\"line\":{\"color\":\"#2a3f5f\"}},\"annotationdefaults\":{\"arrowcolor\":\"#2a3f5f\",\"arrowhead\":0,\"arrowwidth\":1},\"geo\":{\"bgcolor\":\"white\",\"landcolor\":\"#E5ECF6\",\"subunitcolor\":\"white\",\"showland\":true,\"showlakes\":true,\"lakecolor\":\"white\"},\"title\":{\"x\":0.05},\"mapbox\":{\"style\":\"light\"}}}},                        {\"responsive\": true}                    ).then(function(){\n",
              "                            \n",
              "var gd = document.getElementById('5b5b34e1-8027-4453-b183-cff86896f7c5');\n",
              "var x = new MutationObserver(function (mutations, observer) {{\n",
              "        var display = window.getComputedStyle(gd).display;\n",
              "        if (!display || display === 'none') {{\n",
              "            console.log([gd, 'removed!']);\n",
              "            Plotly.purge(gd);\n",
              "            observer.disconnect();\n",
              "        }}\n",
              "}});\n",
              "\n",
              "// Listen for the removal of the full notebook cells\n",
              "var notebookContainer = gd.closest('#notebook-container');\n",
              "if (notebookContainer) {{\n",
              "    x.observe(notebookContainer, {childList: true});\n",
              "}}\n",
              "\n",
              "// Listen for the clearing of the current output cell\n",
              "var outputEl = gd.closest('.output');\n",
              "if (outputEl) {{\n",
              "    x.observe(outputEl, {childList: true});\n",
              "}}\n",
              "\n",
              "                        })                };                            </script>        </div>\n",
              "</body>\n",
              "</html>"
            ]
          },
          "metadata": {}
        }
      ]
    },
    {
      "cell_type": "markdown",
      "metadata": {
        "id": "eHRdE_06k_wa"
      },
      "source": [
        "# Modelo CNN\n",
        "\n"
      ]
    },
    {
      "cell_type": "code",
      "execution_count": null,
      "metadata": {
        "colab": {
          "base_uri": "https://localhost:8080/"
        },
        "id": "_w6MPqstlBKY",
        "outputId": "9e8a626a-45f8-4a1c-951c-5e4722590773"
      },
      "outputs": [
        {
          "name": "stdout",
          "output_type": "stream",
          "text": [
            "[1,   100] loss: 0.693\n",
            "[1,   200] loss: 0.179\n",
            "[1,   300] loss: 0.120\n",
            "[1,   400] loss: 0.108\n",
            "[1,   500] loss: 0.094\n",
            "[1,   600] loss: 0.087\n",
            "[1,   700] loss: 0.071\n",
            "[1,   800] loss: 0.061\n",
            "[1,   900] loss: 0.062\n",
            "[2,   100] loss: 0.062\n",
            "[2,   200] loss: 0.047\n",
            "[2,   300] loss: 0.045\n",
            "[2,   400] loss: 0.057\n",
            "[2,   500] loss: 0.044\n",
            "[2,   600] loss: 0.049\n",
            "[2,   700] loss: 0.040\n",
            "[2,   800] loss: 0.040\n",
            "[2,   900] loss: 0.041\n",
            "[3,   100] loss: 0.032\n",
            "[3,   200] loss: 0.030\n",
            "[3,   300] loss: 0.028\n",
            "[3,   400] loss: 0.035\n",
            "[3,   500] loss: 0.030\n",
            "[3,   600] loss: 0.027\n",
            "[3,   700] loss: 0.029\n",
            "[3,   800] loss: 0.035\n",
            "[3,   900] loss: 0.031\n",
            "[4,   100] loss: 0.024\n",
            "[4,   200] loss: 0.021\n",
            "[4,   300] loss: 0.018\n",
            "[4,   400] loss: 0.024\n",
            "[4,   500] loss: 0.021\n",
            "[4,   600] loss: 0.027\n",
            "[4,   700] loss: 0.021\n",
            "[4,   800] loss: 0.033\n",
            "[4,   900] loss: 0.026\n",
            "[5,   100] loss: 0.017\n",
            "[5,   200] loss: 0.018\n",
            "[5,   300] loss: 0.015\n",
            "[5,   400] loss: 0.019\n",
            "[5,   500] loss: 0.025\n",
            "[5,   600] loss: 0.023\n",
            "[5,   700] loss: 0.012\n",
            "[5,   800] loss: 0.023\n",
            "[5,   900] loss: 0.020\n",
            "Finished Training\n",
            "Accuracy on the 10000 test images: 99 %\n"
          ]
        }
      ],
      "source": [
        "import torch\n",
        "import torch.nn as nn\n",
        "import torch.optim as optim\n",
        "import torchvision\n",
        "import torchvision.transforms as transforms\n",
        "\n",
        "# Definir la arquitectura de la CNN\n",
        "class CNN(nn.Module):\n",
        "    def __init__(self):\n",
        "        super(CNN, self).__init__()\n",
        "        self.conv1 = nn.Conv2d(1, 32, 3, 1)\n",
        "        self.conv2 = nn.Conv2d(32, 64, 3, 1)\n",
        "        self.fc1 = nn.Linear(64*5*5, 128)  # Corregido el tamaño de entrada\n",
        "        self.fc2 = nn.Linear(128, 10)\n",
        "\n",
        "    def forward(self, x):\n",
        "        x = self.conv1(x)\n",
        "        x = torch.relu(x)\n",
        "        x = torch.max_pool2d(x, 2)\n",
        "        x = self.conv2(x)\n",
        "        x = torch.relu(x)\n",
        "        x = torch.max_pool2d(x, 2)\n",
        "        x = torch.flatten(x, 1)\n",
        "        x = self.fc1(x)\n",
        "        x = torch.relu(x)\n",
        "        x = self.fc2(x)\n",
        "        return x\n",
        "\n",
        "# Cargar los datos de MNIST\n",
        "transform = transforms.Compose([\n",
        "    transforms.ToTensor(),\n",
        "    transforms.Normalize((0.5,), (0.5,))\n",
        "])\n",
        "\n",
        "\n",
        "trainset = torchvision.datasets.MNIST(root='./data', train=True, download=True, transform=transform)\n",
        "trainset, valset = torch.utils.data.random_split(trainset, [54000, 6000])\n",
        "trainloader = torch.utils.data.DataLoader(trainset, batch_size=64, shuffle=True)\n",
        "valloader = torch.utils.data.DataLoader(valset, batch_size=64, shuffle=True)\n",
        "\n",
        "testset = torchvision.datasets.MNIST(root='./data', train=False, download=True, transform=transform)\n",
        "testloader = torch.utils.data.DataLoader(testset, batch_size=64, shuffle=False)\n",
        "\n",
        "# Instanciar el modelo y definir la función de pérdida y el optimizador\n",
        "model = CNN()\n",
        "criterion = nn.CrossEntropyLoss()\n",
        "optimizer = optim.Adam(model.parameters(), lr=0.001)\n",
        "\n",
        "# Entrenamiento del modelo\n",
        "num_epochs = 5\n",
        "for epoch in range(num_epochs):\n",
        "    running_loss = 0.0\n",
        "    for i, data in enumerate(trainloader, 0):\n",
        "        inputs, labels = data\n",
        "        optimizer.zero_grad()\n",
        "        outputs = model(inputs)\n",
        "        loss = criterion(outputs, labels)\n",
        "        loss.backward()\n",
        "        optimizer.step()\n",
        "\n",
        "        running_loss += loss.item()\n",
        "        if i % 100 == 99:\n",
        "            print('[%d, %5d] loss: %.3f' %\n",
        "                  (epoch + 1, i + 1, running_loss / 100))\n",
        "            running_loss = 0.0\n",
        "\n",
        "print('Finished Training')\n",
        "\n",
        "# Evaluación del modelo\n",
        "correct = 0\n",
        "total = 0\n",
        "with torch.no_grad():\n",
        "    for data in testloader:\n",
        "        images, labels = data\n",
        "        outputs = model(images)\n",
        "        _, predicted = torch.max(outputs.data, 1)\n",
        "        total += labels.size(0)\n",
        "        correct += (predicted == labels).sum().item()\n",
        "\n",
        "print('Accuracy on the 10000 test images: %d %%' % (\n",
        "    100 * correct / total))\n"
      ]
    },
    {
      "cell_type": "markdown",
      "metadata": {
        "id": "j_-EDpbmlxa4"
      },
      "source": [
        "# Optuna CNN"
      ]
    },
    {
      "cell_type": "code",
      "execution_count": null,
      "metadata": {
        "colab": {
          "base_uri": "https://localhost:8080/"
        },
        "id": "vPkwrCiQYM5M",
        "outputId": "0aceffa2-8a82-4f69-9ad0-fc49f4e749a3"
      },
      "outputs": [
        {
          "output_type": "stream",
          "name": "stdout",
          "text": [
            "Collecting optuna\n",
            "  Downloading optuna-3.6.1-py3-none-any.whl (380 kB)\n",
            "\u001b[2K     \u001b[90m━━━━━━━━━━━━━━━━━━━━━━━━━━━━━━━━━━━━━━━━\u001b[0m \u001b[32m380.1/380.1 kB\u001b[0m \u001b[31m3.7 MB/s\u001b[0m eta \u001b[36m0:00:00\u001b[0m\n",
            "\u001b[?25hCollecting alembic>=1.5.0 (from optuna)\n",
            "  Downloading alembic-1.13.1-py3-none-any.whl (233 kB)\n",
            "\u001b[2K     \u001b[90m━━━━━━━━━━━━━━━━━━━━━━━━━━━━━━━━━━━━━━━━\u001b[0m \u001b[32m233.4/233.4 kB\u001b[0m \u001b[31m7.0 MB/s\u001b[0m eta \u001b[36m0:00:00\u001b[0m\n",
            "\u001b[?25hCollecting colorlog (from optuna)\n",
            "  Downloading colorlog-6.8.2-py3-none-any.whl (11 kB)\n",
            "Requirement already satisfied: numpy in /usr/local/lib/python3.10/dist-packages (from optuna) (1.25.2)\n",
            "Requirement already satisfied: packaging>=20.0 in /usr/local/lib/python3.10/dist-packages (from optuna) (24.0)\n",
            "Requirement already satisfied: sqlalchemy>=1.3.0 in /usr/local/lib/python3.10/dist-packages (from optuna) (2.0.30)\n",
            "Requirement already satisfied: tqdm in /usr/local/lib/python3.10/dist-packages (from optuna) (4.66.4)\n",
            "Requirement already satisfied: PyYAML in /usr/local/lib/python3.10/dist-packages (from optuna) (6.0.1)\n",
            "Collecting Mako (from alembic>=1.5.0->optuna)\n",
            "  Downloading Mako-1.3.5-py3-none-any.whl (78 kB)\n",
            "\u001b[2K     \u001b[90m━━━━━━━━━━━━━━━━━━━━━━━━━━━━━━━━━━━━━━━━\u001b[0m \u001b[32m78.6/78.6 kB\u001b[0m \u001b[31m4.7 MB/s\u001b[0m eta \u001b[36m0:00:00\u001b[0m\n",
            "\u001b[?25hRequirement already satisfied: typing-extensions>=4 in /usr/local/lib/python3.10/dist-packages (from alembic>=1.5.0->optuna) (4.11.0)\n",
            "Requirement already satisfied: greenlet!=0.4.17 in /usr/local/lib/python3.10/dist-packages (from sqlalchemy>=1.3.0->optuna) (3.0.3)\n",
            "Requirement already satisfied: MarkupSafe>=0.9.2 in /usr/local/lib/python3.10/dist-packages (from Mako->alembic>=1.5.0->optuna) (2.1.5)\n",
            "Installing collected packages: Mako, colorlog, alembic, optuna\n",
            "Successfully installed Mako-1.3.5 alembic-1.13.1 colorlog-6.8.2 optuna-3.6.1\n"
          ]
        }
      ],
      "source": [
        "!pip install optuna"
      ]
    },
    {
      "cell_type": "code",
      "source": [
        "import torch\n",
        "import torch.nn as nn\n",
        "import torch.nn.functional as F\n",
        "import torch.optim as optim\n",
        "import torchvision.transforms as transforms\n",
        "import torchvision.datasets as datasets\n",
        "import optuna\n",
        "\n",
        "# Definir el dispositivo como CUDA si está disponible, de lo contrario usar CPU\n",
        "device = torch.device(\"cuda\" if torch.cuda.is_available() else \"cpu\")\n",
        "\n",
        "# Definición de la CNN\n",
        "class Net(nn.Module):\n",
        "    def __init__(self, trial):\n",
        "        tamano = 28\n",
        "        super(Net, self).__init__()\n",
        "        # Definir la arquitectura de la red basada en los hiperparámetros sugeridos\n",
        "        num_conv_layers = trial.suggest_int(\"num_conv_layers\", 2, 3)\n",
        "        num_filters = [int(trial.suggest_discrete_uniform(\"num_filter_\"+str(i), 16, 128, 16))\n",
        "                       for i in range(num_conv_layers)]\n",
        "        num_neurons = trial.suggest_int(\"num_neurons\", 10, 400, 10)\n",
        "        drop_conv2 = trial.suggest_float(\"drop_conv2\", 0.2, 0.5)\n",
        "        drop_fc1 = trial.suggest_float(\"drop_fc1\", 0.2, 0.5)\n",
        "\n",
        "        # Capas convolucionales\n",
        "        self.convs = nn.ModuleList()\n",
        "        in_channels = 1  # MNIST tiene imágenes en escala de grises, por lo tanto, 1 canal de entrada\n",
        "        for out_channels in num_filters:\n",
        "            tamano = tamano-3+2+1  # 3 es el tamaño del Kernel; 2 es dos veces padding\n",
        "            tamano = int(tamano/2)\n",
        "            self.convs.append(nn.Conv2d(in_channels, out_channels, kernel_size=3, padding=1))\n",
        "            self.convs.append(nn.ReLU())\n",
        "            self.convs.append(nn.MaxPool2d(2))\n",
        "            in_channels = out_channels\n",
        "            if len(self.convs) == 4:  # Aplicar dropout después de la segunda capa convolucional\n",
        "                self.convs.append(nn.Dropout(drop_conv2))\n",
        "\n",
        "        # Capa completamente conectada\n",
        "        self.fc1 = nn.Linear(num_filters[-1] * tamano * tamano, num_neurons)\n",
        "        self.drop_fc1 = nn.Dropout(drop_fc1)\n",
        "        self.fc2 = nn.Linear(num_neurons, 10)  # 10 clases en MNIST\n",
        "\n",
        "    def forward(self, x):\n",
        "        for layer in self.convs:\n",
        "            x = layer(x)\n",
        "        x = x.view(x.size(0), -1)  # Aplanar las características para la capa completamente conectada\n",
        "        x = F.relu(self.fc1(x))\n",
        "        x = self.drop_fc1(x)\n",
        "        x = self.fc2(x)\n",
        "        return x\n",
        "\n",
        "# Función objetivo para Optuna\n",
        "def objective(trial):\n",
        "    # Cargar datos de MNIST\n",
        "    transform = transforms.Compose([\n",
        "        transforms.ToTensor(),\n",
        "        transforms.Normalize((0.1307,), (0.3081,))\n",
        "    ])\n",
        "    trainset = datasets.MNIST(root='./data', train=True, download=True, transform=transform)\n",
        "    trainloader = torch.utils.data.DataLoader(trainset, batch_size=64, shuffle=True)\n",
        "    valloader = torch.utils.data.DataLoader(valset, batch_size=64, shuffle=True)\n",
        "\n",
        "    # Construir la red neuronal\n",
        "    model = Net(trial).to(device)\n",
        "\n",
        "    # Optimizar el tipo de optimizador y la tasa de aprendizaje\n",
        "    optimizer_name = trial.suggest_categorical('optimizer', ['Adam', 'RMSprop', 'SGD'])\n",
        "    lr = trial.suggest_loguniform('lr', 1e-5, 1e-1)\n",
        "    optimizer = getattr(optim, optimizer_name)(model.parameters(), lr=lr)\n",
        "\n",
        "    # Entrenamiento de la red\n",
        "    model.train()\n",
        "    for epoch in range(2):  # limitamos a 2 épocas para el ejemplo\n",
        "        for data, target in trainloader:\n",
        "            data, target = data.to(device), target.to(device)\n",
        "            optimizer.zero_grad()\n",
        "            output = model(data)\n",
        "            loss = F.cross_entropy(output, target)\n",
        "            loss.backward()\n",
        "            optimizer.step()\n",
        "\n",
        "    # Validación de la red\n",
        "    correct = 0\n",
        "    total = 0\n",
        "    with torch.no_grad():\n",
        "        for data, target in valloader:\n",
        "            data, target = data.to(device), target.to(device)\n",
        "            outputs = model(data)\n",
        "            _, predicted = torch.max(outputs.data, 1)\n",
        "            total += target.size(0)\n",
        "            correct += (predicted == target).sum().item()\n",
        "\n",
        "    accuracy = correct / total\n",
        "    return accuracy\n",
        "\n",
        "# Crear un estudio de Optuna y encontrar los mejores hiperparámetros\n",
        "study = optuna.create_study(direction='maximize')\n",
        "study.optimize(objective, n_trials=100)\n",
        "\n",
        "# Imprimir los mejores hiperparámetros encontrados\n",
        "print(\"Mejores hiperparámetros:\", study.best_params)\n"
      ],
      "metadata": {
        "colab": {
          "base_uri": "https://localhost:8080/"
        },
        "id": "F5NSTmuPXYrG",
        "outputId": "2ce6d226-44d1-4251-d604-d647dd4937f4"
      },
      "execution_count": null,
      "outputs": [
        {
          "output_type": "stream",
          "name": "stderr",
          "text": [
            "[I 2024-05-14 22:43:16,094] A new study created in memory with name: no-name-a0f48882-4159-4508-8ac5-52b5bc7b77ea\n",
            "<ipython-input-11-f8a144cb9353>:19: FutureWarning: suggest_discrete_uniform has been deprecated in v3.0.0. This feature will be removed in v6.0.0. See https://github.com/optuna/optuna/releases/tag/v3.0.0. Use suggest_float(..., step=...) instead.\n",
            "  num_filters = [int(trial.suggest_discrete_uniform(\"num_filter_\"+str(i), 16, 128, 16))\n",
            "<ipython-input-11-f8a144cb9353>:21: FutureWarning: suggest_int() got {'step'} as positional arguments but they were expected to be given as keyword arguments.\n",
            "  num_neurons = trial.suggest_int(\"num_neurons\", 10, 400, 10)\n",
            "<ipython-input-11-f8a144cb9353>:67: FutureWarning: suggest_loguniform has been deprecated in v3.0.0. This feature will be removed in v6.0.0. See https://github.com/optuna/optuna/releases/tag/v3.0.0. Use suggest_float(..., log=True) instead.\n",
            "  lr = trial.suggest_loguniform('lr', 1e-5, 1e-1)\n",
            "[I 2024-05-14 22:44:01,209] Trial 0 finished with value: 0.9733333333333334 and parameters: {'num_conv_layers': 3, 'num_filter_0': 96.0, 'num_filter_1': 96.0, 'num_filter_2': 48.0, 'num_neurons': 160, 'drop_conv2': 0.3523173422740216, 'drop_fc1': 0.40474443268188676, 'optimizer': 'RMSprop', 'lr': 0.0026251725618518114}. Best is trial 0 with value: 0.9733333333333334.\n",
            "[I 2024-05-14 22:44:43,605] Trial 1 finished with value: 0.98625 and parameters: {'num_conv_layers': 2, 'num_filter_0': 80.0, 'num_filter_1': 16.0, 'num_neurons': 240, 'drop_conv2': 0.3074336203925912, 'drop_fc1': 0.3497683307885896, 'optimizer': 'RMSprop', 'lr': 0.0009246856392926409}. Best is trial 1 with value: 0.98625.\n",
            "[I 2024-05-14 22:45:25,924] Trial 2 finished with value: 0.9820166666666666 and parameters: {'num_conv_layers': 2, 'num_filter_0': 48.0, 'num_filter_1': 48.0, 'num_neurons': 230, 'drop_conv2': 0.3541166719199057, 'drop_fc1': 0.40806540594041973, 'optimizer': 'RMSprop', 'lr': 0.0034062326589202434}. Best is trial 1 with value: 0.98625.\n",
            "[I 2024-05-14 22:46:10,333] Trial 3 finished with value: 0.9346166666666667 and parameters: {'num_conv_layers': 2, 'num_filter_0': 80.0, 'num_filter_1': 16.0, 'num_neurons': 250, 'drop_conv2': 0.42830729326477524, 'drop_fc1': 0.2882681278842707, 'optimizer': 'Adam', 'lr': 0.009237287326515069}. Best is trial 1 with value: 0.98625.\n",
            "[I 2024-05-14 22:46:53,509] Trial 4 finished with value: 0.9763166666666667 and parameters: {'num_conv_layers': 2, 'num_filter_0': 96.0, 'num_filter_1': 112.0, 'num_neurons': 330, 'drop_conv2': 0.22838608703098315, 'drop_fc1': 0.4156120245854975, 'optimizer': 'SGD', 'lr': 0.09775830493516027}. Best is trial 1 with value: 0.98625.\n",
            "[I 2024-05-14 22:47:38,303] Trial 5 finished with value: 0.9599166666666666 and parameters: {'num_conv_layers': 2, 'num_filter_0': 96.0, 'num_filter_1': 128.0, 'num_neurons': 160, 'drop_conv2': 0.42730987499179185, 'drop_fc1': 0.4450005301352914, 'optimizer': 'SGD', 'lr': 0.008342629485534294}. Best is trial 1 with value: 0.98625.\n",
            "[I 2024-05-14 22:48:20,749] Trial 6 finished with value: 0.92305 and parameters: {'num_conv_layers': 2, 'num_filter_0': 64.0, 'num_filter_1': 16.0, 'num_neurons': 300, 'drop_conv2': 0.21496017186800764, 'drop_fc1': 0.22791449836981534, 'optimizer': 'RMSprop', 'lr': 2.3782189587999265e-05}. Best is trial 1 with value: 0.98625.\n",
            "[I 2024-05-14 22:49:04,553] Trial 7 finished with value: 0.98275 and parameters: {'num_conv_layers': 3, 'num_filter_0': 32.0, 'num_filter_1': 32.0, 'num_filter_2': 16.0, 'num_neurons': 190, 'drop_conv2': 0.27598665107482, 'drop_fc1': 0.45662969631287353, 'optimizer': 'Adam', 'lr': 0.0017258231967056416}. Best is trial 1 with value: 0.98625.\n",
            "[I 2024-05-14 22:49:47,436] Trial 8 finished with value: 0.94505 and parameters: {'num_conv_layers': 2, 'num_filter_0': 48.0, 'num_filter_1': 16.0, 'num_neurons': 360, 'drop_conv2': 0.39125768450856535, 'drop_fc1': 0.3373473644899512, 'optimizer': 'SGD', 'lr': 0.009755496167338626}. Best is trial 1 with value: 0.98625.\n",
            "[I 2024-05-14 22:50:30,760] Trial 9 finished with value: 0.8476833333333333 and parameters: {'num_conv_layers': 3, 'num_filter_0': 16.0, 'num_filter_1': 64.0, 'num_filter_2': 112.0, 'num_neurons': 380, 'drop_conv2': 0.37078258589443147, 'drop_fc1': 0.3321382383747048, 'optimizer': 'SGD', 'lr': 0.0031283380278269244}. Best is trial 1 with value: 0.98625.\n",
            "[I 2024-05-14 22:51:15,995] Trial 10 finished with value: 0.9416 and parameters: {'num_conv_layers': 3, 'num_filter_0': 128.0, 'num_filter_1': 80.0, 'num_filter_2': 128.0, 'num_neurons': 40, 'drop_conv2': 0.48458647660500753, 'drop_fc1': 0.4985843890049769, 'optimizer': 'RMSprop', 'lr': 0.00013822650760953888}. Best is trial 1 with value: 0.98625.\n",
            "[I 2024-05-14 22:51:59,855] Trial 11 finished with value: 0.9561666666666667 and parameters: {'num_conv_layers': 3, 'num_filter_0': 16.0, 'num_filter_1': 48.0, 'num_filter_2': 16.0, 'num_neurons': 80, 'drop_conv2': 0.2822562582133571, 'drop_fc1': 0.4853851963638488, 'optimizer': 'Adam', 'lr': 0.00032110892580802715}. Best is trial 1 with value: 0.98625.\n",
            "[I 2024-05-14 22:52:43,960] Trial 12 finished with value: 0.98155 and parameters: {'num_conv_layers': 3, 'num_filter_0': 48.0, 'num_filter_1': 32.0, 'num_filter_2': 16.0, 'num_neurons': 160, 'drop_conv2': 0.28622260370303065, 'drop_fc1': 0.2804988004943966, 'optimizer': 'Adam', 'lr': 0.0005440738584004456}. Best is trial 1 with value: 0.98625.\n",
            "[I 2024-05-14 22:53:28,183] Trial 13 finished with value: 0.9613333333333334 and parameters: {'num_conv_layers': 3, 'num_filter_0': 32.0, 'num_filter_1': 48.0, 'num_filter_2': 64.0, 'num_neurons': 270, 'drop_conv2': 0.29173615619987137, 'drop_fc1': 0.3688212582275805, 'optimizer': 'Adam', 'lr': 6.448047486413718e-05}. Best is trial 1 with value: 0.98625.\n",
            "[I 2024-05-14 22:54:11,535] Trial 14 finished with value: 0.9826 and parameters: {'num_conv_layers': 2, 'num_filter_0': 128.0, 'num_filter_1': 32.0, 'num_neurons': 200, 'drop_conv2': 0.3116308122839127, 'drop_fc1': 0.3594008919048484, 'optimizer': 'RMSprop', 'lr': 0.0008818799485116657}. Best is trial 1 with value: 0.98625.\n",
            "[I 2024-05-14 22:54:57,322] Trial 15 finished with value: 0.09863333333333334 and parameters: {'num_conv_layers': 3, 'num_filter_0': 80.0, 'num_filter_1': 32.0, 'num_filter_2': 96.0, 'num_neurons': 100, 'drop_conv2': 0.24758507851366804, 'drop_fc1': 0.460541029474284, 'optimizer': 'Adam', 'lr': 0.06067356453042245}. Best is trial 1 with value: 0.98625.\n",
            "[I 2024-05-14 22:55:42,143] Trial 16 finished with value: 0.8739833333333333 and parameters: {'num_conv_layers': 3, 'num_filter_0': 64.0, 'num_filter_1': 64.0, 'num_filter_2': 48.0, 'num_neurons': 200, 'drop_conv2': 0.32037239315055344, 'drop_fc1': 0.29417596320402206, 'optimizer': 'Adam', 'lr': 1.0422464471296978e-05}. Best is trial 1 with value: 0.98625.\n",
            "[I 2024-05-14 22:56:25,740] Trial 17 finished with value: 0.9736833333333333 and parameters: {'num_conv_layers': 2, 'num_filter_0': 32.0, 'num_filter_1': 32.0, 'num_neurons': 120, 'drop_conv2': 0.25199469913343797, 'drop_fc1': 0.23296293299339804, 'optimizer': 'RMSprop', 'lr': 0.00017440390665509508}. Best is trial 1 with value: 0.98625.\n",
            "[I 2024-05-14 22:57:09,136] Trial 18 finished with value: 0.9866666666666667 and parameters: {'num_conv_layers': 2, 'num_filter_0': 32.0, 'num_filter_1': 80.0, 'num_neurons': 290, 'drop_conv2': 0.3241817059787802, 'drop_fc1': 0.37749520437750367, 'optimizer': 'Adam', 'lr': 0.0013555396296492809}. Best is trial 18 with value: 0.9866666666666667.\n",
            "[I 2024-05-14 22:57:53,722] Trial 19 finished with value: 0.10441666666666667 and parameters: {'num_conv_layers': 2, 'num_filter_0': 112.0, 'num_filter_1': 96.0, 'num_neurons': 310, 'drop_conv2': 0.40562415030382126, 'drop_fc1': 0.38094432880203194, 'optimizer': 'RMSprop', 'lr': 0.022488102209110863}. Best is trial 18 with value: 0.9866666666666667.\n",
            "[I 2024-05-14 22:58:38,067] Trial 20 finished with value: 0.9908666666666667 and parameters: {'num_conv_layers': 2, 'num_filter_0': 64.0, 'num_filter_1': 80.0, 'num_neurons': 400, 'drop_conv2': 0.3190559630418333, 'drop_fc1': 0.30832003543126124, 'optimizer': 'Adam', 'lr': 0.001036069954163064}. Best is trial 20 with value: 0.9908666666666667.\n",
            "[I 2024-05-14 22:59:23,378] Trial 21 finished with value: 0.9882166666666666 and parameters: {'num_conv_layers': 2, 'num_filter_0': 64.0, 'num_filter_1': 80.0, 'num_neurons': 350, 'drop_conv2': 0.3261296587096739, 'drop_fc1': 0.3159566977803017, 'optimizer': 'Adam', 'lr': 0.0013434184361627481}. Best is trial 20 with value: 0.9908666666666667.\n",
            "[I 2024-05-14 23:00:06,571] Trial 22 finished with value: 0.98595 and parameters: {'num_conv_layers': 2, 'num_filter_0': 64.0, 'num_filter_1': 80.0, 'num_neurons': 390, 'drop_conv2': 0.33271194671787124, 'drop_fc1': 0.3157825447907906, 'optimizer': 'Adam', 'lr': 0.0004341555367646407}. Best is trial 20 with value: 0.9908666666666667.\n",
            "[I 2024-05-14 23:00:51,222] Trial 23 finished with value: 0.9930166666666667 and parameters: {'num_conv_layers': 2, 'num_filter_0': 48.0, 'num_filter_1': 96.0, 'num_neurons': 350, 'drop_conv2': 0.3375308220167124, 'drop_fc1': 0.2633753081716679, 'optimizer': 'Adam', 'lr': 0.0012769386580309752}. Best is trial 23 with value: 0.9930166666666667.\n",
            "[I 2024-05-14 23:01:34,644] Trial 24 finished with value: 0.9837166666666667 and parameters: {'num_conv_layers': 2, 'num_filter_0': 48.0, 'num_filter_1': 96.0, 'num_neurons': 340, 'drop_conv2': 0.37167733656244517, 'drop_fc1': 0.21201150140509795, 'optimizer': 'Adam', 'lr': 0.0058989987987853945}. Best is trial 23 with value: 0.9930166666666667.\n",
            "[I 2024-05-14 23:02:19,821] Trial 25 finished with value: 0.98875 and parameters: {'num_conv_layers': 2, 'num_filter_0': 64.0, 'num_filter_1': 112.0, 'num_neurons': 390, 'drop_conv2': 0.3384303585120642, 'drop_fc1': 0.2591491154196779, 'optimizer': 'Adam', 'lr': 0.00019990669845353854}. Best is trial 23 with value: 0.9930166666666667.\n",
            "[I 2024-05-14 23:03:04,029] Trial 26 finished with value: 0.9820833333333333 and parameters: {'num_conv_layers': 2, 'num_filter_0': 48.0, 'num_filter_1': 112.0, 'num_neurons': 400, 'drop_conv2': 0.3807812426410776, 'drop_fc1': 0.2566011877021653, 'optimizer': 'Adam', 'lr': 0.0001073610383251245}. Best is trial 23 with value: 0.9930166666666667.\n",
            "[I 2024-05-14 23:03:48,931] Trial 27 finished with value: 0.9810666666666666 and parameters: {'num_conv_layers': 2, 'num_filter_0': 80.0, 'num_filter_1': 128.0, 'num_neurons': 370, 'drop_conv2': 0.34257291148299834, 'drop_fc1': 0.25746060267961335, 'optimizer': 'Adam', 'lr': 6.111238375512615e-05}. Best is trial 23 with value: 0.9930166666666667.\n",
            "[I 2024-05-14 23:04:32,652] Trial 28 finished with value: 0.98935 and parameters: {'num_conv_layers': 2, 'num_filter_0': 64.0, 'num_filter_1': 112.0, 'num_neurons': 400, 'drop_conv2': 0.2617853616776727, 'drop_fc1': 0.26066242768917414, 'optimizer': 'Adam', 'lr': 0.00026935632640827877}. Best is trial 23 with value: 0.9930166666666667.\n",
            "[I 2024-05-14 23:05:17,783] Trial 29 finished with value: 0.98925 and parameters: {'num_conv_layers': 2, 'num_filter_0': 112.0, 'num_filter_1': 96.0, 'num_neurons': 330, 'drop_conv2': 0.26000556125123264, 'drop_fc1': 0.27415200200911793, 'optimizer': 'Adam', 'lr': 0.0006520321708866462}. Best is trial 23 with value: 0.9930166666666667.\n",
            "[I 2024-05-14 23:06:02,154] Trial 30 finished with value: 0.9873 and parameters: {'num_conv_layers': 2, 'num_filter_0': 48.0, 'num_filter_1': 112.0, 'num_neurons': 400, 'drop_conv2': 0.2298895793792593, 'drop_fc1': 0.3024963332009073, 'optimizer': 'Adam', 'lr': 0.0002505704063713819}. Best is trial 23 with value: 0.9930166666666667.\n",
            "[I 2024-05-14 23:06:46,746] Trial 31 finished with value: 0.9907 and parameters: {'num_conv_layers': 2, 'num_filter_0': 112.0, 'num_filter_1': 96.0, 'num_neurons': 330, 'drop_conv2': 0.25649346862509603, 'drop_fc1': 0.262888993008361, 'optimizer': 'Adam', 'lr': 0.00046356274624138665}. Best is trial 23 with value: 0.9930166666666667.\n",
            "[I 2024-05-14 23:07:31,200] Trial 32 finished with value: 0.9781666666666666 and parameters: {'num_conv_layers': 2, 'num_filter_0': 112.0, 'num_filter_1': 96.0, 'num_neurons': 360, 'drop_conv2': 0.2979503267273793, 'drop_fc1': 0.23636102600443326, 'optimizer': 'Adam', 'lr': 0.0024435479225442262}. Best is trial 23 with value: 0.9930166666666667.\n",
            "[I 2024-05-14 23:08:15,373] Trial 33 finished with value: 0.9926166666666667 and parameters: {'num_conv_layers': 2, 'num_filter_0': 96.0, 'num_filter_1': 112.0, 'num_neurons': 320, 'drop_conv2': 0.27054300372478673, 'drop_fc1': 0.21009207258754112, 'optimizer': 'Adam', 'lr': 0.0007051237882993545}. Best is trial 23 with value: 0.9930166666666667.\n",
            "[I 2024-05-14 23:09:00,420] Trial 34 finished with value: 0.9917333333333334 and parameters: {'num_conv_layers': 2, 'num_filter_0': 96.0, 'num_filter_1': 96.0, 'num_neurons': 270, 'drop_conv2': 0.20603318580656688, 'drop_fc1': 0.20423918550450285, 'optimizer': 'Adam', 'lr': 0.001135501244251174}. Best is trial 23 with value: 0.9930166666666667.\n",
            "[I 2024-05-14 23:09:44,477] Trial 35 finished with value: 0.9914166666666666 and parameters: {'num_conv_layers': 2, 'num_filter_0': 96.0, 'num_filter_1': 64.0, 'num_neurons': 270, 'drop_conv2': 0.21020196854527523, 'drop_fc1': 0.2034476374591204, 'optimizer': 'Adam', 'lr': 0.0008118240535883424}. Best is trial 23 with value: 0.9930166666666667.\n",
            "[I 2024-05-14 23:10:28,349] Trial 36 finished with value: 0.9464166666666667 and parameters: {'num_conv_layers': 2, 'num_filter_0': 96.0, 'num_filter_1': 64.0, 'num_neurons': 240, 'drop_conv2': 0.20005435170342842, 'drop_fc1': 0.20024614979463673, 'optimizer': 'SGD', 'lr': 0.005245660908472643}. Best is trial 23 with value: 0.9930166666666667.\n",
            "[I 2024-05-14 23:11:11,834] Trial 37 finished with value: 0.9766666666666667 and parameters: {'num_conv_layers': 2, 'num_filter_0': 96.0, 'num_filter_1': 128.0, 'num_neurons': 270, 'drop_conv2': 0.23529494867780273, 'drop_fc1': 0.21738693324095298, 'optimizer': 'Adam', 'lr': 0.002853826973391873}. Best is trial 23 with value: 0.9930166666666667.\n",
            "[I 2024-05-14 23:11:56,858] Trial 38 finished with value: 0.9141833333333333 and parameters: {'num_conv_layers': 2, 'num_filter_0': 96.0, 'num_filter_1': 128.0, 'num_neurons': 270, 'drop_conv2': 0.20167719189513222, 'drop_fc1': 0.20547149643249982, 'optimizer': 'SGD', 'lr': 0.0019253553372168496}. Best is trial 23 with value: 0.9930166666666667.\n",
            "[I 2024-05-14 23:12:40,336] Trial 39 finished with value: 0.9892666666666666 and parameters: {'num_conv_layers': 2, 'num_filter_0': 80.0, 'num_filter_1': 64.0, 'num_neurons': 300, 'drop_conv2': 0.21667166963598433, 'drop_fc1': 0.23857242428195646, 'optimizer': 'Adam', 'lr': 0.0007115356980901046}. Best is trial 23 with value: 0.9930166666666667.\n",
            "[I 2024-05-14 23:13:25,799] Trial 40 finished with value: 0.9345 and parameters: {'num_conv_layers': 2, 'num_filter_0': 96.0, 'num_filter_1': 112.0, 'num_neurons': 220, 'drop_conv2': 0.21751114161666402, 'drop_fc1': 0.2222840510708488, 'optimizer': 'Adam', 'lr': 0.016197369309893482}. Best is trial 23 with value: 0.9930166666666667.\n",
            "[I 2024-05-14 23:14:10,405] Trial 41 finished with value: 0.9919 and parameters: {'num_conv_layers': 2, 'num_filter_0': 80.0, 'num_filter_1': 80.0, 'num_neurons': 320, 'drop_conv2': 0.2720842814615492, 'drop_fc1': 0.24663266172302348, 'optimizer': 'Adam', 'lr': 0.0012151180462766024}. Best is trial 23 with value: 0.9930166666666667.\n",
            "[I 2024-05-14 23:14:55,173] Trial 42 finished with value: 0.9870166666666667 and parameters: {'num_conv_layers': 2, 'num_filter_0': 80.0, 'num_filter_1': 96.0, 'num_neurons': 260, 'drop_conv2': 0.27108077329284425, 'drop_fc1': 0.24240306630162528, 'optimizer': 'Adam', 'lr': 0.001104050612989242}. Best is trial 23 with value: 0.9930166666666667.\n",
            "[I 2024-05-14 23:15:39,531] Trial 43 finished with value: 0.9670833333333333 and parameters: {'num_conv_layers': 2, 'num_filter_0': 80.0, 'num_filter_1': 80.0, 'num_neurons': 310, 'drop_conv2': 0.24004491196666888, 'drop_fc1': 0.2195163367303358, 'optimizer': 'Adam', 'lr': 0.004221915912199162}. Best is trial 23 with value: 0.9930166666666667.\n",
            "[I 2024-05-14 23:16:22,862] Trial 44 finished with value: 0.9872666666666666 and parameters: {'num_conv_layers': 2, 'num_filter_0': 96.0, 'num_filter_1': 48.0, 'num_neurons': 310, 'drop_conv2': 0.3564380495219484, 'drop_fc1': 0.20099470593253355, 'optimizer': 'Adam', 'lr': 0.0019221014219931922}. Best is trial 23 with value: 0.9930166666666667.\n",
            "[I 2024-05-14 23:17:07,736] Trial 45 finished with value: 0.77305 and parameters: {'num_conv_layers': 2, 'num_filter_0': 112.0, 'num_filter_1': 64.0, 'num_neurons': 280, 'drop_conv2': 0.49152637725457204, 'drop_fc1': 0.24499002129833594, 'optimizer': 'SGD', 'lr': 0.0004073020873777803}. Best is trial 23 with value: 0.9930166666666667.\n",
            "[I 2024-05-14 23:17:51,712] Trial 46 finished with value: 0.9899333333333333 and parameters: {'num_conv_layers': 2, 'num_filter_0': 80.0, 'num_filter_1': 80.0, 'num_neurons': 230, 'drop_conv2': 0.3020741382769065, 'drop_fc1': 0.22256070148103824, 'optimizer': 'Adam', 'lr': 0.0007650794728431314}. Best is trial 23 with value: 0.9930166666666667.\n",
            "[I 2024-05-14 23:18:35,767] Trial 47 finished with value: 0.9821333333333333 and parameters: {'num_conv_layers': 2, 'num_filter_0': 96.0, 'num_filter_1': 112.0, 'num_neurons': 250, 'drop_conv2': 0.4549645438195077, 'drop_fc1': 0.27265955635076033, 'optimizer': 'RMSprop', 'lr': 0.0017603288138507902}. Best is trial 23 with value: 0.9930166666666667.\n",
            "[I 2024-05-14 23:19:19,856] Trial 48 finished with value: 0.95375 and parameters: {'num_conv_layers': 2, 'num_filter_0': 96.0, 'num_filter_1': 96.0, 'num_neurons': 320, 'drop_conv2': 0.21460709288653615, 'drop_fc1': 0.2458942822139292, 'optimizer': 'Adam', 'lr': 0.0029714311542424743}. Best is trial 23 with value: 0.9930166666666667.\n",
            "[I 2024-05-14 23:20:04,936] Trial 49 finished with value: 0.9810833333333333 and parameters: {'num_conv_layers': 2, 'num_filter_0': 80.0, 'num_filter_1': 96.0, 'num_neurons': 180, 'drop_conv2': 0.274254623316247, 'drop_fc1': 0.21271689410718556, 'optimizer': 'Adam', 'lr': 0.00010322893294263342}. Best is trial 23 with value: 0.9930166666666667.\n",
            "[I 2024-05-14 23:20:49,025] Trial 50 finished with value: 0.74455 and parameters: {'num_conv_layers': 2, 'num_filter_0': 128.0, 'num_filter_1': 64.0, 'num_neurons': 350, 'drop_conv2': 0.24368966238355294, 'drop_fc1': 0.28616934351396833, 'optimizer': 'SGD', 'lr': 0.0003592136553423464}. Best is trial 23 with value: 0.9930166666666667.\n",
            "[I 2024-05-14 23:21:32,767] Trial 51 finished with value: 0.9934333333333333 and parameters: {'num_conv_layers': 2, 'num_filter_0': 64.0, 'num_filter_1': 80.0, 'num_neurons': 370, 'drop_conv2': 0.35625255760573926, 'drop_fc1': 0.22786095132832312, 'optimizer': 'Adam', 'lr': 0.0012065810008056934}. Best is trial 51 with value: 0.9934333333333333.\n",
            "[I 2024-05-14 23:22:17,302] Trial 52 finished with value: 0.9933333333333333 and parameters: {'num_conv_layers': 2, 'num_filter_0': 80.0, 'num_filter_1': 80.0, 'num_neurons': 370, 'drop_conv2': 0.36174751889217427, 'drop_fc1': 0.23139526419968529, 'optimizer': 'Adam', 'lr': 0.0012389371859760129}. Best is trial 51 with value: 0.9934333333333333.\n",
            "[I 2024-05-14 23:23:00,571] Trial 53 finished with value: 0.9918333333333333 and parameters: {'num_conv_layers': 2, 'num_filter_0': 80.0, 'num_filter_1': 80.0, 'num_neurons': 370, 'drop_conv2': 0.35690000241701864, 'drop_fc1': 0.22906356994314925, 'optimizer': 'Adam', 'lr': 0.001302828137976495}. Best is trial 51 with value: 0.9934333333333333.\n",
            "[I 2024-05-14 23:23:44,172] Trial 54 finished with value: 0.9905333333333334 and parameters: {'num_conv_layers': 2, 'num_filter_0': 80.0, 'num_filter_1': 80.0, 'num_neurons': 370, 'drop_conv2': 0.3564899990511904, 'drop_fc1': 0.2264480900227045, 'optimizer': 'Adam', 'lr': 0.0014593151491033814}. Best is trial 51 with value: 0.9934333333333333.\n",
            "[I 2024-05-14 23:24:28,440] Trial 55 finished with value: 0.11236666666666667 and parameters: {'num_conv_layers': 2, 'num_filter_0': 48.0, 'num_filter_1': 80.0, 'num_neurons': 370, 'drop_conv2': 0.397669979089162, 'drop_fc1': 0.42584150100250284, 'optimizer': 'RMSprop', 'lr': 0.007808157452583248}. Best is trial 51 with value: 0.9934333333333333.\n",
            "[I 2024-05-14 23:25:11,642] Trial 56 finished with value: 0.9881666666666666 and parameters: {'num_conv_layers': 2, 'num_filter_0': 64.0, 'num_filter_1': 80.0, 'num_neurons': 350, 'drop_conv2': 0.4080028357903883, 'drop_fc1': 0.24938866391039397, 'optimizer': 'Adam', 'lr': 0.0005618528800488768}. Best is trial 51 with value: 0.9934333333333333.\n",
            "[I 2024-05-14 23:25:57,389] Trial 57 finished with value: 0.9908833333333333 and parameters: {'num_conv_layers': 3, 'num_filter_0': 80.0, 'num_filter_1': 80.0, 'num_filter_2': 96.0, 'num_neurons': 380, 'drop_conv2': 0.3717512539674816, 'drop_fc1': 0.22926508605802862, 'optimizer': 'Adam', 'lr': 0.0022386317066564634}. Best is trial 51 with value: 0.9934333333333333.\n",
            "[I 2024-05-14 23:26:41,404] Trial 58 finished with value: 0.9166833333333333 and parameters: {'num_conv_layers': 2, 'num_filter_0': 64.0, 'num_filter_1': 80.0, 'num_neurons': 20, 'drop_conv2': 0.3096108589111683, 'drop_fc1': 0.27143514952160025, 'optimizer': 'Adam', 'lr': 0.003504307654506905}. Best is trial 51 with value: 0.9934333333333333.\n",
            "[I 2024-05-14 23:27:26,407] Trial 59 finished with value: 0.9914666666666667 and parameters: {'num_conv_layers': 2, 'num_filter_0': 64.0, 'num_filter_1': 96.0, 'num_neurons': 340, 'drop_conv2': 0.3454220240811089, 'drop_fc1': 0.29489451832778363, 'optimizer': 'Adam', 'lr': 0.0009797185339960755}. Best is trial 51 with value: 0.9934333333333333.\n",
            "[I 2024-05-14 23:28:09,878] Trial 60 finished with value: 0.9870666666666666 and parameters: {'num_conv_layers': 2, 'num_filter_0': 32.0, 'num_filter_1': 64.0, 'num_neurons': 290, 'drop_conv2': 0.42604973533642077, 'drop_fc1': 0.2332982964906548, 'optimizer': 'RMSprop', 'lr': 0.0014082853745534538}. Best is trial 51 with value: 0.9934333333333333.\n",
            "[I 2024-05-14 23:28:53,122] Trial 61 finished with value: 0.9916666666666667 and parameters: {'num_conv_layers': 2, 'num_filter_0': 80.0, 'num_filter_1': 96.0, 'num_neurons': 330, 'drop_conv2': 0.35983501197150697, 'drop_fc1': 0.21237112863084495, 'optimizer': 'Adam', 'lr': 0.0010983186323367646}. Best is trial 51 with value: 0.9934333333333333.\n",
            "[I 2024-05-14 23:29:36,832] Trial 62 finished with value: 0.9933166666666666 and parameters: {'num_conv_layers': 2, 'num_filter_0': 80.0, 'num_filter_1': 80.0, 'num_neurons': 360, 'drop_conv2': 0.38485592897210613, 'drop_fc1': 0.25282248466209034, 'optimizer': 'Adam', 'lr': 0.0006081239468568543}. Best is trial 51 with value: 0.9934333333333333.\n",
            "[I 2024-05-14 23:30:20,881] Trial 63 finished with value: 0.9898666666666667 and parameters: {'num_conv_layers': 2, 'num_filter_0': 64.0, 'num_filter_1': 80.0, 'num_neurons': 380, 'drop_conv2': 0.39372237720729475, 'drop_fc1': 0.24942189719598262, 'optimizer': 'Adam', 'lr': 0.0006413609525955688}. Best is trial 51 with value: 0.9934333333333333.\n",
            "[I 2024-05-14 23:31:05,385] Trial 64 finished with value: 0.9911666666666666 and parameters: {'num_conv_layers': 2, 'num_filter_0': 80.0, 'num_filter_1': 80.0, 'num_neurons': 340, 'drop_conv2': 0.37828000020404984, 'drop_fc1': 0.2651710602324929, 'optimizer': 'Adam', 'lr': 0.0005309215359132249}. Best is trial 51 with value: 0.9934333333333333.\n",
            "[I 2024-05-14 23:31:48,007] Trial 65 finished with value: 0.9876666666666667 and parameters: {'num_conv_layers': 2, 'num_filter_0': 48.0, 'num_filter_1': 64.0, 'num_neurons': 360, 'drop_conv2': 0.3629085682510309, 'drop_fc1': 0.32863736586061676, 'optimizer': 'Adam', 'lr': 0.0002890940444871955}. Best is trial 51 with value: 0.9934333333333333.\n",
            "[I 2024-05-14 23:32:32,419] Trial 66 finished with value: 0.9793833333333334 and parameters: {'num_conv_layers': 2, 'num_filter_0': 80.0, 'num_filter_1': 80.0, 'num_neurons': 380, 'drop_conv2': 0.4113705007461593, 'drop_fc1': 0.27996061602439143, 'optimizer': 'Adam', 'lr': 0.004017956488052115}. Best is trial 51 with value: 0.9934333333333333.\n",
            "[I 2024-05-14 23:33:16,987] Trial 67 finished with value: 0.9916333333333334 and parameters: {'num_conv_layers': 2, 'num_filter_0': 64.0, 'num_filter_1': 48.0, 'num_neurons': 360, 'drop_conv2': 0.3824789881310193, 'drop_fc1': 0.2524414260071527, 'optimizer': 'Adam', 'lr': 0.0008095051339316005}. Best is trial 51 with value: 0.9934333333333333.\n",
            "[I 2024-05-14 23:34:01,688] Trial 68 finished with value: 0.9881666666666666 and parameters: {'num_conv_layers': 2, 'num_filter_0': 80.0, 'num_filter_1': 96.0, 'num_neurons': 320, 'drop_conv2': 0.33633252848220835, 'drop_fc1': 0.2372712804995699, 'optimizer': 'Adam', 'lr': 0.0001880118955023105}. Best is trial 51 with value: 0.9934333333333333.\n",
            "[I 2024-05-14 23:34:46,243] Trial 69 finished with value: 0.9923333333333333 and parameters: {'num_conv_layers': 2, 'num_filter_0': 48.0, 'num_filter_1': 96.0, 'num_neurons': 390, 'drop_conv2': 0.2903051102802392, 'drop_fc1': 0.22265307025226794, 'optimizer': 'Adam', 'lr': 0.0015938740335474776}. Best is trial 51 with value: 0.9934333333333333.\n",
            "[I 2024-05-14 23:35:31,349] Trial 70 finished with value: 0.8626166666666667 and parameters: {'num_conv_layers': 3, 'num_filter_0': 32.0, 'num_filter_1': 112.0, 'num_filter_2': 80.0, 'num_neurons': 390, 'drop_conv2': 0.2869711975613376, 'drop_fc1': 0.39251085784711714, 'optimizer': 'SGD', 'lr': 0.002495423640926567}. Best is trial 51 with value: 0.9934333333333333.\n",
            "[I 2024-05-14 23:36:16,965] Trial 71 finished with value: 0.9891166666666666 and parameters: {'num_conv_layers': 2, 'num_filter_0': 48.0, 'num_filter_1': 80.0, 'num_neurons': 350, 'drop_conv2': 0.3488178760918012, 'drop_fc1': 0.22858473892998177, 'optimizer': 'Adam', 'lr': 0.0013362338051758705}. Best is trial 51 with value: 0.9934333333333333.\n",
            "[I 2024-05-14 23:37:01,373] Trial 72 finished with value: 0.9911833333333333 and parameters: {'num_conv_layers': 2, 'num_filter_0': 48.0, 'num_filter_1': 96.0, 'num_neurons': 370, 'drop_conv2': 0.3286522418879382, 'drop_fc1': 0.2132208881514574, 'optimizer': 'Adam', 'lr': 0.0017193726739835426}. Best is trial 51 with value: 0.9934333333333333.\n",
            "[I 2024-05-14 23:37:46,953] Trial 73 finished with value: 0.9908666666666667 and parameters: {'num_conv_layers': 2, 'num_filter_0': 64.0, 'num_filter_1': 80.0, 'num_neurons': 390, 'drop_conv2': 0.3848476781880569, 'drop_fc1': 0.23742546192881148, 'optimizer': 'Adam', 'lr': 0.0008933232660207832}. Best is trial 51 with value: 0.9934333333333333.\n",
            "[I 2024-05-14 23:38:30,479] Trial 74 finished with value: 0.9895 and parameters: {'num_conv_layers': 2, 'num_filter_0': 32.0, 'num_filter_1': 112.0, 'num_neurons': 330, 'drop_conv2': 0.3667041982916418, 'drop_fc1': 0.22255156445535174, 'optimizer': 'Adam', 'lr': 0.0005417501815395969}. Best is trial 51 with value: 0.9934333333333333.\n",
            "[I 2024-05-14 23:39:16,418] Trial 75 finished with value: 0.9845833333333334 and parameters: {'num_conv_layers': 2, 'num_filter_0': 64.0, 'num_filter_1': 96.0, 'num_neurons': 360, 'drop_conv2': 0.31635558802735014, 'drop_fc1': 0.26668496574321615, 'optimizer': 'Adam', 'lr': 0.0023139770279854087}. Best is trial 51 with value: 0.9934333333333333.\n",
            "[I 2024-05-14 23:39:59,634] Trial 76 finished with value: 0.9921666666666666 and parameters: {'num_conv_layers': 2, 'num_filter_0': 48.0, 'num_filter_1': 64.0, 'num_neurons': 380, 'drop_conv2': 0.2955346028663536, 'drop_fc1': 0.25190134369389533, 'optimizer': 'Adam', 'lr': 0.001533769073446408}. Best is trial 51 with value: 0.9934333333333333.\n",
            "[I 2024-05-14 23:40:43,214] Trial 77 finished with value: 0.9726 and parameters: {'num_conv_layers': 2, 'num_filter_0': 48.0, 'num_filter_1': 64.0, 'num_neurons': 130, 'drop_conv2': 0.2676213379803016, 'drop_fc1': 0.3450090459999016, 'optimizer': 'Adam', 'lr': 0.004880609014346957}. Best is trial 51 with value: 0.9934333333333333.\n",
            "[I 2024-05-14 23:41:26,722] Trial 78 finished with value: 0.9866833333333334 and parameters: {'num_conv_layers': 2, 'num_filter_0': 16.0, 'num_filter_1': 64.0, 'num_neurons': 400, 'drop_conv2': 0.29413221732325473, 'drop_fc1': 0.255996845974039, 'optimizer': 'Adam', 'lr': 0.0003888412193126381}. Best is trial 51 with value: 0.9934333333333333.\n",
            "[I 2024-05-14 23:42:09,813] Trial 79 finished with value: 0.9568666666666666 and parameters: {'num_conv_layers': 2, 'num_filter_0': 48.0, 'num_filter_1': 48.0, 'num_neurons': 340, 'drop_conv2': 0.2857003542490455, 'drop_fc1': 0.2819385130423571, 'optimizer': 'RMSprop', 'lr': 0.00681529047002368}. Best is trial 51 with value: 0.9934333333333333.\n",
            "[I 2024-05-14 23:42:54,299] Trial 80 finished with value: 0.9913833333333333 and parameters: {'num_conv_layers': 2, 'num_filter_0': 48.0, 'num_filter_1': 128.0, 'num_neurons': 320, 'drop_conv2': 0.2765906717939073, 'drop_fc1': 0.24281706533385194, 'optimizer': 'Adam', 'lr': 0.0017842695715777025}. Best is trial 51 with value: 0.9934333333333333.\n",
            "[I 2024-05-14 23:43:37,675] Trial 81 finished with value: 0.9837166666666667 and parameters: {'num_conv_layers': 2, 'num_filter_0': 80.0, 'num_filter_1': 80.0, 'num_neurons': 370, 'drop_conv2': 0.3029067151917574, 'drop_fc1': 0.23182143068210023, 'optimizer': 'Adam', 'lr': 0.0013773562872180186}. Best is trial 51 with value: 0.9934333333333333.\n",
            "[I 2024-05-14 23:44:21,067] Trial 82 finished with value: 0.9912333333333333 and parameters: {'num_conv_layers': 2, 'num_filter_0': 48.0, 'num_filter_1': 80.0, 'num_neurons': 390, 'drop_conv2': 0.2526885318433303, 'drop_fc1': 0.21713887200493545, 'optimizer': 'Adam', 'lr': 0.0010139878533995993}. Best is trial 51 with value: 0.9934333333333333.\n",
            "[I 2024-05-14 23:45:05,036] Trial 83 finished with value: 0.99055 and parameters: {'num_conv_layers': 2, 'num_filter_0': 64.0, 'num_filter_1': 64.0, 'num_neurons': 380, 'drop_conv2': 0.3379997583147486, 'drop_fc1': 0.20769891208680502, 'optimizer': 'Adam', 'lr': 0.0007605987846814765}. Best is trial 51 with value: 0.9934333333333333.\n",
            "[I 2024-05-14 23:45:49,192] Trial 84 finished with value: 0.9911666666666666 and parameters: {'num_conv_layers': 2, 'num_filter_0': 32.0, 'num_filter_1': 80.0, 'num_neurons': 350, 'drop_conv2': 0.26334038429473944, 'drop_fc1': 0.2507500701799893, 'optimizer': 'Adam', 'lr': 0.0012401644574459366}. Best is trial 51 with value: 0.9934333333333333.\n",
            "[I 2024-05-14 23:46:32,260] Trial 85 finished with value: 0.9724166666666667 and parameters: {'num_conv_layers': 2, 'num_filter_0': 80.0, 'num_filter_1': 96.0, 'num_neurons': 380, 'drop_conv2': 0.3498353352799515, 'drop_fc1': 0.22397080893576227, 'optimizer': 'Adam', 'lr': 0.003382973240219426}. Best is trial 51 with value: 0.9934333333333333.\n",
            "[I 2024-05-14 23:47:15,682] Trial 86 finished with value: 0.9901666666666666 and parameters: {'num_conv_layers': 2, 'num_filter_0': 80.0, 'num_filter_1': 64.0, 'num_neurons': 300, 'drop_conv2': 0.2786740523897626, 'drop_fc1': 0.2418758842852303, 'optimizer': 'Adam', 'lr': 0.000624037943481126}. Best is trial 51 with value: 0.9934333333333333.\n",
            "[I 2024-05-14 23:47:58,680] Trial 87 finished with value: 0.9930666666666667 and parameters: {'num_conv_layers': 2, 'num_filter_0': 96.0, 'num_filter_1': 112.0, 'num_neurons': 360, 'drop_conv2': 0.31659596003592055, 'drop_fc1': 0.2594368518583191, 'optimizer': 'Adam', 'lr': 0.00046976688480442503}. Best is trial 51 with value: 0.9934333333333333.\n",
            "[I 2024-05-14 23:48:44,354] Trial 88 finished with value: 0.7330666666666666 and parameters: {'num_conv_layers': 2, 'num_filter_0': 112.0, 'num_filter_1': 112.0, 'num_neurons': 70, 'drop_conv2': 0.31805481889166093, 'drop_fc1': 0.2943864032000125, 'optimizer': 'SGD', 'lr': 0.00046278998815701803}. Best is trial 51 with value: 0.9934333333333333.\n",
            "[I 2024-05-14 23:49:27,724] Trial 89 finished with value: 0.9833666666666666 and parameters: {'num_conv_layers': 2, 'num_filter_0': 96.0, 'num_filter_1': 128.0, 'num_neurons': 340, 'drop_conv2': 0.3102507170542512, 'drop_fc1': 0.26259722656832735, 'optimizer': 'Adam', 'lr': 0.0021236050919525187}. Best is trial 51 with value: 0.9934333333333333.\n",
            "[I 2024-05-14 23:50:12,232] Trial 90 finished with value: 0.9840666666666666 and parameters: {'num_conv_layers': 2, 'num_filter_0': 96.0, 'num_filter_1': 112.0, 'num_neurons': 360, 'drop_conv2': 0.2919824752496079, 'drop_fc1': 0.2671350695972053, 'optimizer': 'Adam', 'lr': 0.00013666103400779482}. Best is trial 51 with value: 0.9934333333333333.\n",
            "[I 2024-05-14 23:50:56,871] Trial 91 finished with value: 0.9896 and parameters: {'num_conv_layers': 2, 'num_filter_0': 96.0, 'num_filter_1': 96.0, 'num_neurons': 370, 'drop_conv2': 0.3233372842716619, 'drop_fc1': 0.2571522375862898, 'optimizer': 'Adam', 'lr': 0.0015152283769103321}. Best is trial 51 with value: 0.9934333333333333.\n",
            "[I 2024-05-14 23:51:42,310] Trial 92 finished with value: 0.9920666666666667 and parameters: {'num_conv_layers': 2, 'num_filter_0': 96.0, 'num_filter_1': 112.0, 'num_neurons': 390, 'drop_conv2': 0.3296251052605757, 'drop_fc1': 0.23082409719370478, 'optimizer': 'Adam', 'lr': 0.0008974313494260806}. Best is trial 51 with value: 0.9934333333333333.\n",
            "[I 2024-05-14 23:52:27,241] Trial 93 finished with value: 0.99045 and parameters: {'num_conv_layers': 2, 'num_filter_0': 96.0, 'num_filter_1': 112.0, 'num_neurons': 400, 'drop_conv2': 0.3031495739783936, 'drop_fc1': 0.2762155614204352, 'optimizer': 'Adam', 'lr': 0.0003311112034784937}. Best is trial 51 with value: 0.9934333333333333.\n",
            "[I 2024-05-14 23:53:11,706] Trial 94 finished with value: 0.9920333333333333 and parameters: {'num_conv_layers': 2, 'num_filter_0': 96.0, 'num_filter_1': 112.0, 'num_neurons': 350, 'drop_conv2': 0.33055028622603455, 'drop_fc1': 0.21786164875439845, 'optimizer': 'Adam', 'lr': 0.0009212916659444537}. Best is trial 51 with value: 0.9934333333333333.\n",
            "[I 2024-05-14 23:53:57,014] Trial 95 finished with value: 0.9912666666666666 and parameters: {'num_conv_layers': 2, 'num_filter_0': 112.0, 'num_filter_1': 112.0, 'num_neurons': 390, 'drop_conv2': 0.3347202061781282, 'drop_fc1': 0.21000313425758074, 'optimizer': 'Adam', 'lr': 0.0008619382170548678}. Best is trial 51 with value: 0.9934333333333333.\n",
            "[I 2024-05-14 23:54:42,155] Trial 96 finished with value: 0.9904666666666667 and parameters: {'num_conv_layers': 2, 'num_filter_0': 112.0, 'num_filter_1': 112.0, 'num_neurons': 360, 'drop_conv2': 0.32863043537413394, 'drop_fc1': 0.23520196382009467, 'optimizer': 'Adam', 'lr': 0.0006857640573977366}. Best is trial 51 with value: 0.9934333333333333.\n",
            "[I 2024-05-14 23:55:26,903] Trial 97 finished with value: 0.9902666666666666 and parameters: {'num_conv_layers': 2, 'num_filter_0': 96.0, 'num_filter_1': 128.0, 'num_neurons': 350, 'drop_conv2': 0.34079247909936533, 'drop_fc1': 0.22667779691099688, 'optimizer': 'Adam', 'lr': 0.0004708295915284474}. Best is trial 51 with value: 0.9934333333333333.\n",
            "[I 2024-05-14 23:56:12,170] Trial 98 finished with value: 0.98515 and parameters: {'num_conv_layers': 2, 'num_filter_0': 96.0, 'num_filter_1': 112.0, 'num_neurons': 390, 'drop_conv2': 0.3166045679700432, 'drop_fc1': 0.2169141774878964, 'optimizer': 'RMSprop', 'lr': 0.0009922995391000852}. Best is trial 51 with value: 0.9934333333333333.\n",
            "[I 2024-05-14 23:56:56,259] Trial 99 finished with value: 0.9902333333333333 and parameters: {'num_conv_layers': 2, 'num_filter_0': 112.0, 'num_filter_1': 112.0, 'num_neurons': 330, 'drop_conv2': 0.3741815501196719, 'drop_fc1': 0.20103061232157643, 'optimizer': 'Adam', 'lr': 0.00026236577558125013}. Best is trial 51 with value: 0.9934333333333333.\n"
          ]
        },
        {
          "output_type": "stream",
          "name": "stdout",
          "text": [
            "Mejores hiperparámetros: {'num_conv_layers': 2, 'num_filter_0': 64.0, 'num_filter_1': 80.0, 'num_neurons': 370, 'drop_conv2': 0.35625255760573926, 'drop_fc1': 0.22786095132832312, 'optimizer': 'Adam', 'lr': 0.0012065810008056934}\n"
          ]
        }
      ]
    },
    {
      "cell_type": "code",
      "source": [
        "best_params = study.best_params"
      ],
      "metadata": {
        "id": "eoyMjrp27Ca4"
      },
      "execution_count": null,
      "outputs": []
    },
    {
      "cell_type": "code",
      "source": [
        "import matplotlib.pyplot as plt\n",
        "\n",
        "optuna.visualization.plot_optimization_history(study)"
      ],
      "metadata": {
        "id": "X2iHMJze7JhQ",
        "outputId": "b7a341c5-9965-4185-8e83-34d4d6f6faea",
        "colab": {
          "base_uri": "https://localhost:8080/",
          "height": 542
        }
      },
      "execution_count": null,
      "outputs": [
        {
          "output_type": "display_data",
          "data": {
            "text/html": [
              "<html>\n",
              "<head><meta charset=\"utf-8\" /></head>\n",
              "<body>\n",
              "    <div>            <script src=\"https://cdnjs.cloudflare.com/ajax/libs/mathjax/2.7.5/MathJax.js?config=TeX-AMS-MML_SVG\"></script><script type=\"text/javascript\">if (window.MathJax && window.MathJax.Hub && window.MathJax.Hub.Config) {window.MathJax.Hub.Config({SVG: {font: \"STIX-Web\"}});}</script>                <script type=\"text/javascript\">window.PlotlyConfig = {MathJaxConfig: 'local'};</script>\n",
              "        <script charset=\"utf-8\" src=\"https://cdn.plot.ly/plotly-2.24.1.min.js\"></script>                <div id=\"a74a0946-4dba-4184-9c62-2c54879ea11d\" class=\"plotly-graph-div\" style=\"height:525px; width:100%;\"></div>            <script type=\"text/javascript\">                                    window.PLOTLYENV=window.PLOTLYENV || {};                                    if (document.getElementById(\"a74a0946-4dba-4184-9c62-2c54879ea11d\")) {                    Plotly.newPlot(                        \"a74a0946-4dba-4184-9c62-2c54879ea11d\",                        [{\"mode\":\"markers\",\"name\":\"Objective Value\",\"x\":[0,1,2,3,4,5,6,7,8,9,10,11,12,13,14,15,16,17,18,19,20,21,22,23,24,25,26,27,28,29,30,31,32,33,34,35,36,37,38,39,40,41,42,43,44,45,46,47,48,49,50,51,52,53,54,55,56,57,58,59,60,61,62,63,64,65,66,67,68,69,70,71,72,73,74,75,76,77,78,79,80,81,82,83,84,85,86,87,88,89,90,91,92,93,94,95,96,97,98,99],\"y\":[0.9733333333333334,0.98625,0.9820166666666666,0.9346166666666667,0.9763166666666667,0.9599166666666666,0.92305,0.98275,0.94505,0.8476833333333333,0.9416,0.9561666666666667,0.98155,0.9613333333333334,0.9826,0.09863333333333334,0.8739833333333333,0.9736833333333333,0.9866666666666667,0.10441666666666667,0.9908666666666667,0.9882166666666666,0.98595,0.9930166666666667,0.9837166666666667,0.98875,0.9820833333333333,0.9810666666666666,0.98935,0.98925,0.9873,0.9907,0.9781666666666666,0.9926166666666667,0.9917333333333334,0.9914166666666666,0.9464166666666667,0.9766666666666667,0.9141833333333333,0.9892666666666666,0.9345,0.9919,0.9870166666666667,0.9670833333333333,0.9872666666666666,0.77305,0.9899333333333333,0.9821333333333333,0.95375,0.9810833333333333,0.74455,0.9934333333333333,0.9933333333333333,0.9918333333333333,0.9905333333333334,0.11236666666666667,0.9881666666666666,0.9908833333333333,0.9166833333333333,0.9914666666666667,0.9870666666666666,0.9916666666666667,0.9933166666666666,0.9898666666666667,0.9911666666666666,0.9876666666666667,0.9793833333333334,0.9916333333333334,0.9881666666666666,0.9923333333333333,0.8626166666666667,0.9891166666666666,0.9911833333333333,0.9908666666666667,0.9895,0.9845833333333334,0.9921666666666666,0.9726,0.9866833333333334,0.9568666666666666,0.9913833333333333,0.9837166666666667,0.9912333333333333,0.99055,0.9911666666666666,0.9724166666666667,0.9901666666666666,0.9930666666666667,0.7330666666666666,0.9833666666666666,0.9840666666666666,0.9896,0.9920666666666667,0.99045,0.9920333333333333,0.9912666666666666,0.9904666666666667,0.9902666666666666,0.98515,0.9902333333333333],\"type\":\"scatter\"},{\"mode\":\"lines\",\"name\":\"Best Value\",\"x\":[0,1,2,3,4,5,6,7,8,9,10,11,12,13,14,15,16,17,18,19,20,21,22,23,24,25,26,27,28,29,30,31,32,33,34,35,36,37,38,39,40,41,42,43,44,45,46,47,48,49,50,51,52,53,54,55,56,57,58,59,60,61,62,63,64,65,66,67,68,69,70,71,72,73,74,75,76,77,78,79,80,81,82,83,84,85,86,87,88,89,90,91,92,93,94,95,96,97,98,99],\"y\":[0.9733333333333334,0.98625,0.98625,0.98625,0.98625,0.98625,0.98625,0.98625,0.98625,0.98625,0.98625,0.98625,0.98625,0.98625,0.98625,0.98625,0.98625,0.98625,0.9866666666666667,0.9866666666666667,0.9908666666666667,0.9908666666666667,0.9908666666666667,0.9930166666666667,0.9930166666666667,0.9930166666666667,0.9930166666666667,0.9930166666666667,0.9930166666666667,0.9930166666666667,0.9930166666666667,0.9930166666666667,0.9930166666666667,0.9930166666666667,0.9930166666666667,0.9930166666666667,0.9930166666666667,0.9930166666666667,0.9930166666666667,0.9930166666666667,0.9930166666666667,0.9930166666666667,0.9930166666666667,0.9930166666666667,0.9930166666666667,0.9930166666666667,0.9930166666666667,0.9930166666666667,0.9930166666666667,0.9930166666666667,0.9930166666666667,0.9934333333333333,0.9934333333333333,0.9934333333333333,0.9934333333333333,0.9934333333333333,0.9934333333333333,0.9934333333333333,0.9934333333333333,0.9934333333333333,0.9934333333333333,0.9934333333333333,0.9934333333333333,0.9934333333333333,0.9934333333333333,0.9934333333333333,0.9934333333333333,0.9934333333333333,0.9934333333333333,0.9934333333333333,0.9934333333333333,0.9934333333333333,0.9934333333333333,0.9934333333333333,0.9934333333333333,0.9934333333333333,0.9934333333333333,0.9934333333333333,0.9934333333333333,0.9934333333333333,0.9934333333333333,0.9934333333333333,0.9934333333333333,0.9934333333333333,0.9934333333333333,0.9934333333333333,0.9934333333333333,0.9934333333333333,0.9934333333333333,0.9934333333333333,0.9934333333333333,0.9934333333333333,0.9934333333333333,0.9934333333333333,0.9934333333333333,0.9934333333333333,0.9934333333333333,0.9934333333333333,0.9934333333333333,0.9934333333333333],\"type\":\"scatter\"},{\"marker\":{\"color\":\"#cccccc\"},\"mode\":\"markers\",\"name\":\"Infeasible Trial\",\"showlegend\":false,\"x\":[],\"y\":[],\"type\":\"scatter\"}],                        {\"title\":{\"text\":\"Optimization History Plot\"},\"xaxis\":{\"title\":{\"text\":\"Trial\"}},\"yaxis\":{\"title\":{\"text\":\"Objective Value\"}},\"template\":{\"data\":{\"histogram2dcontour\":[{\"type\":\"histogram2dcontour\",\"colorbar\":{\"outlinewidth\":0,\"ticks\":\"\"},\"colorscale\":[[0.0,\"#0d0887\"],[0.1111111111111111,\"#46039f\"],[0.2222222222222222,\"#7201a8\"],[0.3333333333333333,\"#9c179e\"],[0.4444444444444444,\"#bd3786\"],[0.5555555555555556,\"#d8576b\"],[0.6666666666666666,\"#ed7953\"],[0.7777777777777778,\"#fb9f3a\"],[0.8888888888888888,\"#fdca26\"],[1.0,\"#f0f921\"]]}],\"choropleth\":[{\"type\":\"choropleth\",\"colorbar\":{\"outlinewidth\":0,\"ticks\":\"\"}}],\"histogram2d\":[{\"type\":\"histogram2d\",\"colorbar\":{\"outlinewidth\":0,\"ticks\":\"\"},\"colorscale\":[[0.0,\"#0d0887\"],[0.1111111111111111,\"#46039f\"],[0.2222222222222222,\"#7201a8\"],[0.3333333333333333,\"#9c179e\"],[0.4444444444444444,\"#bd3786\"],[0.5555555555555556,\"#d8576b\"],[0.6666666666666666,\"#ed7953\"],[0.7777777777777778,\"#fb9f3a\"],[0.8888888888888888,\"#fdca26\"],[1.0,\"#f0f921\"]]}],\"heatmap\":[{\"type\":\"heatmap\",\"colorbar\":{\"outlinewidth\":0,\"ticks\":\"\"},\"colorscale\":[[0.0,\"#0d0887\"],[0.1111111111111111,\"#46039f\"],[0.2222222222222222,\"#7201a8\"],[0.3333333333333333,\"#9c179e\"],[0.4444444444444444,\"#bd3786\"],[0.5555555555555556,\"#d8576b\"],[0.6666666666666666,\"#ed7953\"],[0.7777777777777778,\"#fb9f3a\"],[0.8888888888888888,\"#fdca26\"],[1.0,\"#f0f921\"]]}],\"heatmapgl\":[{\"type\":\"heatmapgl\",\"colorbar\":{\"outlinewidth\":0,\"ticks\":\"\"},\"colorscale\":[[0.0,\"#0d0887\"],[0.1111111111111111,\"#46039f\"],[0.2222222222222222,\"#7201a8\"],[0.3333333333333333,\"#9c179e\"],[0.4444444444444444,\"#bd3786\"],[0.5555555555555556,\"#d8576b\"],[0.6666666666666666,\"#ed7953\"],[0.7777777777777778,\"#fb9f3a\"],[0.8888888888888888,\"#fdca26\"],[1.0,\"#f0f921\"]]}],\"contourcarpet\":[{\"type\":\"contourcarpet\",\"colorbar\":{\"outlinewidth\":0,\"ticks\":\"\"}}],\"contour\":[{\"type\":\"contour\",\"colorbar\":{\"outlinewidth\":0,\"ticks\":\"\"},\"colorscale\":[[0.0,\"#0d0887\"],[0.1111111111111111,\"#46039f\"],[0.2222222222222222,\"#7201a8\"],[0.3333333333333333,\"#9c179e\"],[0.4444444444444444,\"#bd3786\"],[0.5555555555555556,\"#d8576b\"],[0.6666666666666666,\"#ed7953\"],[0.7777777777777778,\"#fb9f3a\"],[0.8888888888888888,\"#fdca26\"],[1.0,\"#f0f921\"]]}],\"surface\":[{\"type\":\"surface\",\"colorbar\":{\"outlinewidth\":0,\"ticks\":\"\"},\"colorscale\":[[0.0,\"#0d0887\"],[0.1111111111111111,\"#46039f\"],[0.2222222222222222,\"#7201a8\"],[0.3333333333333333,\"#9c179e\"],[0.4444444444444444,\"#bd3786\"],[0.5555555555555556,\"#d8576b\"],[0.6666666666666666,\"#ed7953\"],[0.7777777777777778,\"#fb9f3a\"],[0.8888888888888888,\"#fdca26\"],[1.0,\"#f0f921\"]]}],\"mesh3d\":[{\"type\":\"mesh3d\",\"colorbar\":{\"outlinewidth\":0,\"ticks\":\"\"}}],\"scatter\":[{\"fillpattern\":{\"fillmode\":\"overlay\",\"size\":10,\"solidity\":0.2},\"type\":\"scatter\"}],\"parcoords\":[{\"type\":\"parcoords\",\"line\":{\"colorbar\":{\"outlinewidth\":0,\"ticks\":\"\"}}}],\"scatterpolargl\":[{\"type\":\"scatterpolargl\",\"marker\":{\"colorbar\":{\"outlinewidth\":0,\"ticks\":\"\"}}}],\"bar\":[{\"error_x\":{\"color\":\"#2a3f5f\"},\"error_y\":{\"color\":\"#2a3f5f\"},\"marker\":{\"line\":{\"color\":\"#E5ECF6\",\"width\":0.5},\"pattern\":{\"fillmode\":\"overlay\",\"size\":10,\"solidity\":0.2}},\"type\":\"bar\"}],\"scattergeo\":[{\"type\":\"scattergeo\",\"marker\":{\"colorbar\":{\"outlinewidth\":0,\"ticks\":\"\"}}}],\"scatterpolar\":[{\"type\":\"scatterpolar\",\"marker\":{\"colorbar\":{\"outlinewidth\":0,\"ticks\":\"\"}}}],\"histogram\":[{\"marker\":{\"pattern\":{\"fillmode\":\"overlay\",\"size\":10,\"solidity\":0.2}},\"type\":\"histogram\"}],\"scattergl\":[{\"type\":\"scattergl\",\"marker\":{\"colorbar\":{\"outlinewidth\":0,\"ticks\":\"\"}}}],\"scatter3d\":[{\"type\":\"scatter3d\",\"line\":{\"colorbar\":{\"outlinewidth\":0,\"ticks\":\"\"}},\"marker\":{\"colorbar\":{\"outlinewidth\":0,\"ticks\":\"\"}}}],\"scattermapbox\":[{\"type\":\"scattermapbox\",\"marker\":{\"colorbar\":{\"outlinewidth\":0,\"ticks\":\"\"}}}],\"scatterternary\":[{\"type\":\"scatterternary\",\"marker\":{\"colorbar\":{\"outlinewidth\":0,\"ticks\":\"\"}}}],\"scattercarpet\":[{\"type\":\"scattercarpet\",\"marker\":{\"colorbar\":{\"outlinewidth\":0,\"ticks\":\"\"}}}],\"carpet\":[{\"aaxis\":{\"endlinecolor\":\"#2a3f5f\",\"gridcolor\":\"white\",\"linecolor\":\"white\",\"minorgridcolor\":\"white\",\"startlinecolor\":\"#2a3f5f\"},\"baxis\":{\"endlinecolor\":\"#2a3f5f\",\"gridcolor\":\"white\",\"linecolor\":\"white\",\"minorgridcolor\":\"white\",\"startlinecolor\":\"#2a3f5f\"},\"type\":\"carpet\"}],\"table\":[{\"cells\":{\"fill\":{\"color\":\"#EBF0F8\"},\"line\":{\"color\":\"white\"}},\"header\":{\"fill\":{\"color\":\"#C8D4E3\"},\"line\":{\"color\":\"white\"}},\"type\":\"table\"}],\"barpolar\":[{\"marker\":{\"line\":{\"color\":\"#E5ECF6\",\"width\":0.5},\"pattern\":{\"fillmode\":\"overlay\",\"size\":10,\"solidity\":0.2}},\"type\":\"barpolar\"}],\"pie\":[{\"automargin\":true,\"type\":\"pie\"}]},\"layout\":{\"autotypenumbers\":\"strict\",\"colorway\":[\"#636efa\",\"#EF553B\",\"#00cc96\",\"#ab63fa\",\"#FFA15A\",\"#19d3f3\",\"#FF6692\",\"#B6E880\",\"#FF97FF\",\"#FECB52\"],\"font\":{\"color\":\"#2a3f5f\"},\"hovermode\":\"closest\",\"hoverlabel\":{\"align\":\"left\"},\"paper_bgcolor\":\"white\",\"plot_bgcolor\":\"#E5ECF6\",\"polar\":{\"bgcolor\":\"#E5ECF6\",\"angularaxis\":{\"gridcolor\":\"white\",\"linecolor\":\"white\",\"ticks\":\"\"},\"radialaxis\":{\"gridcolor\":\"white\",\"linecolor\":\"white\",\"ticks\":\"\"}},\"ternary\":{\"bgcolor\":\"#E5ECF6\",\"aaxis\":{\"gridcolor\":\"white\",\"linecolor\":\"white\",\"ticks\":\"\"},\"baxis\":{\"gridcolor\":\"white\",\"linecolor\":\"white\",\"ticks\":\"\"},\"caxis\":{\"gridcolor\":\"white\",\"linecolor\":\"white\",\"ticks\":\"\"}},\"coloraxis\":{\"colorbar\":{\"outlinewidth\":0,\"ticks\":\"\"}},\"colorscale\":{\"sequential\":[[0.0,\"#0d0887\"],[0.1111111111111111,\"#46039f\"],[0.2222222222222222,\"#7201a8\"],[0.3333333333333333,\"#9c179e\"],[0.4444444444444444,\"#bd3786\"],[0.5555555555555556,\"#d8576b\"],[0.6666666666666666,\"#ed7953\"],[0.7777777777777778,\"#fb9f3a\"],[0.8888888888888888,\"#fdca26\"],[1.0,\"#f0f921\"]],\"sequentialminus\":[[0.0,\"#0d0887\"],[0.1111111111111111,\"#46039f\"],[0.2222222222222222,\"#7201a8\"],[0.3333333333333333,\"#9c179e\"],[0.4444444444444444,\"#bd3786\"],[0.5555555555555556,\"#d8576b\"],[0.6666666666666666,\"#ed7953\"],[0.7777777777777778,\"#fb9f3a\"],[0.8888888888888888,\"#fdca26\"],[1.0,\"#f0f921\"]],\"diverging\":[[0,\"#8e0152\"],[0.1,\"#c51b7d\"],[0.2,\"#de77ae\"],[0.3,\"#f1b6da\"],[0.4,\"#fde0ef\"],[0.5,\"#f7f7f7\"],[0.6,\"#e6f5d0\"],[0.7,\"#b8e186\"],[0.8,\"#7fbc41\"],[0.9,\"#4d9221\"],[1,\"#276419\"]]},\"xaxis\":{\"gridcolor\":\"white\",\"linecolor\":\"white\",\"ticks\":\"\",\"title\":{\"standoff\":15},\"zerolinecolor\":\"white\",\"automargin\":true,\"zerolinewidth\":2},\"yaxis\":{\"gridcolor\":\"white\",\"linecolor\":\"white\",\"ticks\":\"\",\"title\":{\"standoff\":15},\"zerolinecolor\":\"white\",\"automargin\":true,\"zerolinewidth\":2},\"scene\":{\"xaxis\":{\"backgroundcolor\":\"#E5ECF6\",\"gridcolor\":\"white\",\"linecolor\":\"white\",\"showbackground\":true,\"ticks\":\"\",\"zerolinecolor\":\"white\",\"gridwidth\":2},\"yaxis\":{\"backgroundcolor\":\"#E5ECF6\",\"gridcolor\":\"white\",\"linecolor\":\"white\",\"showbackground\":true,\"ticks\":\"\",\"zerolinecolor\":\"white\",\"gridwidth\":2},\"zaxis\":{\"backgroundcolor\":\"#E5ECF6\",\"gridcolor\":\"white\",\"linecolor\":\"white\",\"showbackground\":true,\"ticks\":\"\",\"zerolinecolor\":\"white\",\"gridwidth\":2}},\"shapedefaults\":{\"line\":{\"color\":\"#2a3f5f\"}},\"annotationdefaults\":{\"arrowcolor\":\"#2a3f5f\",\"arrowhead\":0,\"arrowwidth\":1},\"geo\":{\"bgcolor\":\"white\",\"landcolor\":\"#E5ECF6\",\"subunitcolor\":\"white\",\"showland\":true,\"showlakes\":true,\"lakecolor\":\"white\"},\"title\":{\"x\":0.05},\"mapbox\":{\"style\":\"light\"}}}},                        {\"responsive\": true}                    ).then(function(){\n",
              "                            \n",
              "var gd = document.getElementById('a74a0946-4dba-4184-9c62-2c54879ea11d');\n",
              "var x = new MutationObserver(function (mutations, observer) {{\n",
              "        var display = window.getComputedStyle(gd).display;\n",
              "        if (!display || display === 'none') {{\n",
              "            console.log([gd, 'removed!']);\n",
              "            Plotly.purge(gd);\n",
              "            observer.disconnect();\n",
              "        }}\n",
              "}});\n",
              "\n",
              "// Listen for the removal of the full notebook cells\n",
              "var notebookContainer = gd.closest('#notebook-container');\n",
              "if (notebookContainer) {{\n",
              "    x.observe(notebookContainer, {childList: true});\n",
              "}}\n",
              "\n",
              "// Listen for the clearing of the current output cell\n",
              "var outputEl = gd.closest('.output');\n",
              "if (outputEl) {{\n",
              "    x.observe(outputEl, {childList: true});\n",
              "}}\n",
              "\n",
              "                        })                };                            </script>        </div>\n",
              "</body>\n",
              "</html>"
            ]
          },
          "metadata": {}
        }
      ]
    },
    {
      "cell_type": "code",
      "source": [
        "optuna.visualization.plot_parallel_coordinate(study)"
      ],
      "metadata": {
        "id": "rol9l2P8pZhd",
        "outputId": "f3894588-8db2-401c-91c6-d1a70d92b3b1",
        "colab": {
          "base_uri": "https://localhost:8080/",
          "height": 542
        }
      },
      "execution_count": null,
      "outputs": [
        {
          "output_type": "display_data",
          "data": {
            "text/html": [
              "<html>\n",
              "<head><meta charset=\"utf-8\" /></head>\n",
              "<body>\n",
              "    <div>            <script src=\"https://cdnjs.cloudflare.com/ajax/libs/mathjax/2.7.5/MathJax.js?config=TeX-AMS-MML_SVG\"></script><script type=\"text/javascript\">if (window.MathJax && window.MathJax.Hub && window.MathJax.Hub.Config) {window.MathJax.Hub.Config({SVG: {font: \"STIX-Web\"}});}</script>                <script type=\"text/javascript\">window.PlotlyConfig = {MathJaxConfig: 'local'};</script>\n",
              "        <script charset=\"utf-8\" src=\"https://cdn.plot.ly/plotly-2.24.1.min.js\"></script>                <div id=\"08b73124-851e-4e94-8736-bd6f51a9b9b7\" class=\"plotly-graph-div\" style=\"height:525px; width:100%;\"></div>            <script type=\"text/javascript\">                                    window.PLOTLYENV=window.PLOTLYENV || {};                                    if (document.getElementById(\"08b73124-851e-4e94-8736-bd6f51a9b9b7\")) {                    Plotly.newPlot(                        \"08b73124-851e-4e94-8736-bd6f51a9b9b7\",                        [{\"dimensions\":[{\"label\":\"Objective Value\",\"range\":[0.09863333333333334,0.9908833333333333],\"values\":[0.9733333333333334,0.98275,0.8476833333333333,0.9416,0.9561666666666667,0.98155,0.9613333333333334,0.09863333333333334,0.8739833333333333,0.9908833333333333,0.8626166666666667]},{\"label\":\"drop_conv2\",\"range\":[0.24758507851366804,0.48458647660500753],\"values\":[0.3523173422740216,0.27598665107482,0.37078258589443147,0.48458647660500753,0.2822562582133571,0.28622260370303065,0.29173615619987137,0.24758507851366804,0.32037239315055344,0.3717512539674816,0.2869711975613376]},{\"label\":\"drop_fc1\",\"range\":[0.22926508605802862,0.4985843890049769],\"values\":[0.40474443268188676,0.45662969631287353,0.3321382383747048,0.4985843890049769,0.4853851963638488,0.2804988004943966,0.3688212582275805,0.460541029474284,0.29417596320402206,0.22926508605802862,0.39251085784711714]},{\"label\":\"lr\",\"range\":[-4.982029576647428,-1.217000489802638],\"ticktext\":[\"1.04e-05\",\"0.0001\",\"0.001\",\"0.01\",\"0.0607\"],\"tickvals\":[-4.982029576647428,-4,-3,-2,-1.217000489802638],\"values\":[-2.5808421436116045,-2.7630036979766155,-2.504686326044301,-3.8594086645982477,-3.493347622258798,-3.2643421405252253,-4.190571772845102,-1.217000489802638,-4.982029576647428,-2.6500173494415926,-2.602855714850797]},{\"label\":\"num_conv_layers\",\"range\":[3,3],\"values\":[3,3,3,3,3,3,3,3,3,3,3]},{\"label\":\"num_filter_0\",\"range\":[16.0,128.0],\"values\":[96.0,32.0,16.0,128.0,16.0,48.0,32.0,80.0,64.0,80.0,32.0]},{\"label\":\"num_filter_1\",\"range\":[32.0,112.0],\"values\":[96.0,32.0,64.0,80.0,48.0,32.0,48.0,32.0,64.0,80.0,112.0]},{\"label\":\"num_filter_2\",\"range\":[16.0,128.0],\"values\":[48.0,16.0,112.0,128.0,16.0,16.0,64.0,96.0,48.0,96.0,80.0]},{\"label\":\"num_neurons\",\"range\":[40,390],\"values\":[160,190,380,40,80,160,270,100,200,380,390]},{\"label\":\"optimizer\",\"range\":[0,2],\"ticktext\":[\"RMSprop\",\"Adam\",\"SGD\"],\"tickvals\":[0,1,2],\"values\":[0,1,2,0,1,1,1,1,1,1,2]}],\"labelangle\":30,\"labelside\":\"bottom\",\"line\":{\"color\":[0.9733333333333334,0.98275,0.8476833333333333,0.9416,0.9561666666666667,0.98155,0.9613333333333334,0.09863333333333334,0.8739833333333333,0.9908833333333333,0.8626166666666667],\"colorbar\":{\"title\":{\"text\":\"Objective Value\"}},\"colorscale\":[[0.0,\"rgb(247,251,255)\"],[0.125,\"rgb(222,235,247)\"],[0.25,\"rgb(198,219,239)\"],[0.375,\"rgb(158,202,225)\"],[0.5,\"rgb(107,174,214)\"],[0.625,\"rgb(66,146,198)\"],[0.75,\"rgb(33,113,181)\"],[0.875,\"rgb(8,81,156)\"],[1.0,\"rgb(8,48,107)\"]],\"reversescale\":false,\"showscale\":true},\"type\":\"parcoords\"}],                        {\"title\":{\"text\":\"Parallel Coordinate Plot\"},\"template\":{\"data\":{\"histogram2dcontour\":[{\"type\":\"histogram2dcontour\",\"colorbar\":{\"outlinewidth\":0,\"ticks\":\"\"},\"colorscale\":[[0.0,\"#0d0887\"],[0.1111111111111111,\"#46039f\"],[0.2222222222222222,\"#7201a8\"],[0.3333333333333333,\"#9c179e\"],[0.4444444444444444,\"#bd3786\"],[0.5555555555555556,\"#d8576b\"],[0.6666666666666666,\"#ed7953\"],[0.7777777777777778,\"#fb9f3a\"],[0.8888888888888888,\"#fdca26\"],[1.0,\"#f0f921\"]]}],\"choropleth\":[{\"type\":\"choropleth\",\"colorbar\":{\"outlinewidth\":0,\"ticks\":\"\"}}],\"histogram2d\":[{\"type\":\"histogram2d\",\"colorbar\":{\"outlinewidth\":0,\"ticks\":\"\"},\"colorscale\":[[0.0,\"#0d0887\"],[0.1111111111111111,\"#46039f\"],[0.2222222222222222,\"#7201a8\"],[0.3333333333333333,\"#9c179e\"],[0.4444444444444444,\"#bd3786\"],[0.5555555555555556,\"#d8576b\"],[0.6666666666666666,\"#ed7953\"],[0.7777777777777778,\"#fb9f3a\"],[0.8888888888888888,\"#fdca26\"],[1.0,\"#f0f921\"]]}],\"heatmap\":[{\"type\":\"heatmap\",\"colorbar\":{\"outlinewidth\":0,\"ticks\":\"\"},\"colorscale\":[[0.0,\"#0d0887\"],[0.1111111111111111,\"#46039f\"],[0.2222222222222222,\"#7201a8\"],[0.3333333333333333,\"#9c179e\"],[0.4444444444444444,\"#bd3786\"],[0.5555555555555556,\"#d8576b\"],[0.6666666666666666,\"#ed7953\"],[0.7777777777777778,\"#fb9f3a\"],[0.8888888888888888,\"#fdca26\"],[1.0,\"#f0f921\"]]}],\"heatmapgl\":[{\"type\":\"heatmapgl\",\"colorbar\":{\"outlinewidth\":0,\"ticks\":\"\"},\"colorscale\":[[0.0,\"#0d0887\"],[0.1111111111111111,\"#46039f\"],[0.2222222222222222,\"#7201a8\"],[0.3333333333333333,\"#9c179e\"],[0.4444444444444444,\"#bd3786\"],[0.5555555555555556,\"#d8576b\"],[0.6666666666666666,\"#ed7953\"],[0.7777777777777778,\"#fb9f3a\"],[0.8888888888888888,\"#fdca26\"],[1.0,\"#f0f921\"]]}],\"contourcarpet\":[{\"type\":\"contourcarpet\",\"colorbar\":{\"outlinewidth\":0,\"ticks\":\"\"}}],\"contour\":[{\"type\":\"contour\",\"colorbar\":{\"outlinewidth\":0,\"ticks\":\"\"},\"colorscale\":[[0.0,\"#0d0887\"],[0.1111111111111111,\"#46039f\"],[0.2222222222222222,\"#7201a8\"],[0.3333333333333333,\"#9c179e\"],[0.4444444444444444,\"#bd3786\"],[0.5555555555555556,\"#d8576b\"],[0.6666666666666666,\"#ed7953\"],[0.7777777777777778,\"#fb9f3a\"],[0.8888888888888888,\"#fdca26\"],[1.0,\"#f0f921\"]]}],\"surface\":[{\"type\":\"surface\",\"colorbar\":{\"outlinewidth\":0,\"ticks\":\"\"},\"colorscale\":[[0.0,\"#0d0887\"],[0.1111111111111111,\"#46039f\"],[0.2222222222222222,\"#7201a8\"],[0.3333333333333333,\"#9c179e\"],[0.4444444444444444,\"#bd3786\"],[0.5555555555555556,\"#d8576b\"],[0.6666666666666666,\"#ed7953\"],[0.7777777777777778,\"#fb9f3a\"],[0.8888888888888888,\"#fdca26\"],[1.0,\"#f0f921\"]]}],\"mesh3d\":[{\"type\":\"mesh3d\",\"colorbar\":{\"outlinewidth\":0,\"ticks\":\"\"}}],\"scatter\":[{\"fillpattern\":{\"fillmode\":\"overlay\",\"size\":10,\"solidity\":0.2},\"type\":\"scatter\"}],\"parcoords\":[{\"type\":\"parcoords\",\"line\":{\"colorbar\":{\"outlinewidth\":0,\"ticks\":\"\"}}}],\"scatterpolargl\":[{\"type\":\"scatterpolargl\",\"marker\":{\"colorbar\":{\"outlinewidth\":0,\"ticks\":\"\"}}}],\"bar\":[{\"error_x\":{\"color\":\"#2a3f5f\"},\"error_y\":{\"color\":\"#2a3f5f\"},\"marker\":{\"line\":{\"color\":\"#E5ECF6\",\"width\":0.5},\"pattern\":{\"fillmode\":\"overlay\",\"size\":10,\"solidity\":0.2}},\"type\":\"bar\"}],\"scattergeo\":[{\"type\":\"scattergeo\",\"marker\":{\"colorbar\":{\"outlinewidth\":0,\"ticks\":\"\"}}}],\"scatterpolar\":[{\"type\":\"scatterpolar\",\"marker\":{\"colorbar\":{\"outlinewidth\":0,\"ticks\":\"\"}}}],\"histogram\":[{\"marker\":{\"pattern\":{\"fillmode\":\"overlay\",\"size\":10,\"solidity\":0.2}},\"type\":\"histogram\"}],\"scattergl\":[{\"type\":\"scattergl\",\"marker\":{\"colorbar\":{\"outlinewidth\":0,\"ticks\":\"\"}}}],\"scatter3d\":[{\"type\":\"scatter3d\",\"line\":{\"colorbar\":{\"outlinewidth\":0,\"ticks\":\"\"}},\"marker\":{\"colorbar\":{\"outlinewidth\":0,\"ticks\":\"\"}}}],\"scattermapbox\":[{\"type\":\"scattermapbox\",\"marker\":{\"colorbar\":{\"outlinewidth\":0,\"ticks\":\"\"}}}],\"scatterternary\":[{\"type\":\"scatterternary\",\"marker\":{\"colorbar\":{\"outlinewidth\":0,\"ticks\":\"\"}}}],\"scattercarpet\":[{\"type\":\"scattercarpet\",\"marker\":{\"colorbar\":{\"outlinewidth\":0,\"ticks\":\"\"}}}],\"carpet\":[{\"aaxis\":{\"endlinecolor\":\"#2a3f5f\",\"gridcolor\":\"white\",\"linecolor\":\"white\",\"minorgridcolor\":\"white\",\"startlinecolor\":\"#2a3f5f\"},\"baxis\":{\"endlinecolor\":\"#2a3f5f\",\"gridcolor\":\"white\",\"linecolor\":\"white\",\"minorgridcolor\":\"white\",\"startlinecolor\":\"#2a3f5f\"},\"type\":\"carpet\"}],\"table\":[{\"cells\":{\"fill\":{\"color\":\"#EBF0F8\"},\"line\":{\"color\":\"white\"}},\"header\":{\"fill\":{\"color\":\"#C8D4E3\"},\"line\":{\"color\":\"white\"}},\"type\":\"table\"}],\"barpolar\":[{\"marker\":{\"line\":{\"color\":\"#E5ECF6\",\"width\":0.5},\"pattern\":{\"fillmode\":\"overlay\",\"size\":10,\"solidity\":0.2}},\"type\":\"barpolar\"}],\"pie\":[{\"automargin\":true,\"type\":\"pie\"}]},\"layout\":{\"autotypenumbers\":\"strict\",\"colorway\":[\"#636efa\",\"#EF553B\",\"#00cc96\",\"#ab63fa\",\"#FFA15A\",\"#19d3f3\",\"#FF6692\",\"#B6E880\",\"#FF97FF\",\"#FECB52\"],\"font\":{\"color\":\"#2a3f5f\"},\"hovermode\":\"closest\",\"hoverlabel\":{\"align\":\"left\"},\"paper_bgcolor\":\"white\",\"plot_bgcolor\":\"#E5ECF6\",\"polar\":{\"bgcolor\":\"#E5ECF6\",\"angularaxis\":{\"gridcolor\":\"white\",\"linecolor\":\"white\",\"ticks\":\"\"},\"radialaxis\":{\"gridcolor\":\"white\",\"linecolor\":\"white\",\"ticks\":\"\"}},\"ternary\":{\"bgcolor\":\"#E5ECF6\",\"aaxis\":{\"gridcolor\":\"white\",\"linecolor\":\"white\",\"ticks\":\"\"},\"baxis\":{\"gridcolor\":\"white\",\"linecolor\":\"white\",\"ticks\":\"\"},\"caxis\":{\"gridcolor\":\"white\",\"linecolor\":\"white\",\"ticks\":\"\"}},\"coloraxis\":{\"colorbar\":{\"outlinewidth\":0,\"ticks\":\"\"}},\"colorscale\":{\"sequential\":[[0.0,\"#0d0887\"],[0.1111111111111111,\"#46039f\"],[0.2222222222222222,\"#7201a8\"],[0.3333333333333333,\"#9c179e\"],[0.4444444444444444,\"#bd3786\"],[0.5555555555555556,\"#d8576b\"],[0.6666666666666666,\"#ed7953\"],[0.7777777777777778,\"#fb9f3a\"],[0.8888888888888888,\"#fdca26\"],[1.0,\"#f0f921\"]],\"sequentialminus\":[[0.0,\"#0d0887\"],[0.1111111111111111,\"#46039f\"],[0.2222222222222222,\"#7201a8\"],[0.3333333333333333,\"#9c179e\"],[0.4444444444444444,\"#bd3786\"],[0.5555555555555556,\"#d8576b\"],[0.6666666666666666,\"#ed7953\"],[0.7777777777777778,\"#fb9f3a\"],[0.8888888888888888,\"#fdca26\"],[1.0,\"#f0f921\"]],\"diverging\":[[0,\"#8e0152\"],[0.1,\"#c51b7d\"],[0.2,\"#de77ae\"],[0.3,\"#f1b6da\"],[0.4,\"#fde0ef\"],[0.5,\"#f7f7f7\"],[0.6,\"#e6f5d0\"],[0.7,\"#b8e186\"],[0.8,\"#7fbc41\"],[0.9,\"#4d9221\"],[1,\"#276419\"]]},\"xaxis\":{\"gridcolor\":\"white\",\"linecolor\":\"white\",\"ticks\":\"\",\"title\":{\"standoff\":15},\"zerolinecolor\":\"white\",\"automargin\":true,\"zerolinewidth\":2},\"yaxis\":{\"gridcolor\":\"white\",\"linecolor\":\"white\",\"ticks\":\"\",\"title\":{\"standoff\":15},\"zerolinecolor\":\"white\",\"automargin\":true,\"zerolinewidth\":2},\"scene\":{\"xaxis\":{\"backgroundcolor\":\"#E5ECF6\",\"gridcolor\":\"white\",\"linecolor\":\"white\",\"showbackground\":true,\"ticks\":\"\",\"zerolinecolor\":\"white\",\"gridwidth\":2},\"yaxis\":{\"backgroundcolor\":\"#E5ECF6\",\"gridcolor\":\"white\",\"linecolor\":\"white\",\"showbackground\":true,\"ticks\":\"\",\"zerolinecolor\":\"white\",\"gridwidth\":2},\"zaxis\":{\"backgroundcolor\":\"#E5ECF6\",\"gridcolor\":\"white\",\"linecolor\":\"white\",\"showbackground\":true,\"ticks\":\"\",\"zerolinecolor\":\"white\",\"gridwidth\":2}},\"shapedefaults\":{\"line\":{\"color\":\"#2a3f5f\"}},\"annotationdefaults\":{\"arrowcolor\":\"#2a3f5f\",\"arrowhead\":0,\"arrowwidth\":1},\"geo\":{\"bgcolor\":\"white\",\"landcolor\":\"#E5ECF6\",\"subunitcolor\":\"white\",\"showland\":true,\"showlakes\":true,\"lakecolor\":\"white\"},\"title\":{\"x\":0.05},\"mapbox\":{\"style\":\"light\"}}}},                        {\"responsive\": true}                    ).then(function(){\n",
              "                            \n",
              "var gd = document.getElementById('08b73124-851e-4e94-8736-bd6f51a9b9b7');\n",
              "var x = new MutationObserver(function (mutations, observer) {{\n",
              "        var display = window.getComputedStyle(gd).display;\n",
              "        if (!display || display === 'none') {{\n",
              "            console.log([gd, 'removed!']);\n",
              "            Plotly.purge(gd);\n",
              "            observer.disconnect();\n",
              "        }}\n",
              "}});\n",
              "\n",
              "// Listen for the removal of the full notebook cells\n",
              "var notebookContainer = gd.closest('#notebook-container');\n",
              "if (notebookContainer) {{\n",
              "    x.observe(notebookContainer, {childList: true});\n",
              "}}\n",
              "\n",
              "// Listen for the clearing of the current output cell\n",
              "var outputEl = gd.closest('.output');\n",
              "if (outputEl) {{\n",
              "    x.observe(outputEl, {childList: true});\n",
              "}}\n",
              "\n",
              "                        })                };                            </script>        </div>\n",
              "</body>\n",
              "</html>"
            ]
          },
          "metadata": {}
        }
      ]
    },
    {
      "cell_type": "code",
      "source": [
        "optuna.visualization.plot_slice(study, params=['num_conv_layers', 'num_filter_0', 'num_filter_1', 'num_neurons', 'drop_conv2', 'drop_fc1', 'optimizer', 'lr'])"
      ],
      "metadata": {
        "id": "4tiEEbFHqLhC",
        "outputId": "c4939ea1-6c35-45be-dca7-7b2a77818253",
        "colab": {
          "base_uri": "https://localhost:8080/",
          "height": 562
        }
      },
      "execution_count": null,
      "outputs": [
        {
          "output_type": "display_data",
          "data": {
            "text/html": [
              "<html>\n",
              "<head><meta charset=\"utf-8\" /></head>\n",
              "<body>\n",
              "    <div>            <script src=\"https://cdnjs.cloudflare.com/ajax/libs/mathjax/2.7.5/MathJax.js?config=TeX-AMS-MML_SVG\"></script><script type=\"text/javascript\">if (window.MathJax && window.MathJax.Hub && window.MathJax.Hub.Config) {window.MathJax.Hub.Config({SVG: {font: \"STIX-Web\"}});}</script>                <script type=\"text/javascript\">window.PlotlyConfig = {MathJaxConfig: 'local'};</script>\n",
              "        <script charset=\"utf-8\" src=\"https://cdn.plot.ly/plotly-2.24.1.min.js\"></script>                <div id=\"cb3422c3-d3ed-43c4-85ed-c6dbc643e565\" class=\"plotly-graph-div\" style=\"height:525px; width:2400px;\"></div>            <script type=\"text/javascript\">                                    window.PLOTLYENV=window.PLOTLYENV || {};                                    if (document.getElementById(\"cb3422c3-d3ed-43c4-85ed-c6dbc643e565\")) {                    Plotly.newPlot(                        \"cb3422c3-d3ed-43c4-85ed-c6dbc643e565\",                        [{\"marker\":{\"color\":[0,1,2,3,4,5,6,7,8,9,10,11,12,13,14,15,16,17,18,19,20,21,22,23,24,25,26,27,28,29,30,31,32,33,34,35,36,37,38,39,40,41,42,43,44,45,46,47,48,49,50,51,52,53,54,55,56,57,58,59,60,61,62,63,64,65,66,67,68,69,70,71,72,73,74,75,76,77,78,79,80,81,82,83,84,85,86,87,88,89,90,91,92,93,94,95,96,97,98,99],\"colorbar\":{\"title\":{\"text\":\"Trial\"},\"x\":1.0,\"xpad\":40},\"colorscale\":[[0.0,\"rgb(247,251,255)\"],[0.125,\"rgb(222,235,247)\"],[0.25,\"rgb(198,219,239)\"],[0.375,\"rgb(158,202,225)\"],[0.5,\"rgb(107,174,214)\"],[0.625,\"rgb(66,146,198)\"],[0.75,\"rgb(33,113,181)\"],[0.875,\"rgb(8,81,156)\"],[1.0,\"rgb(8,48,107)\"]],\"line\":{\"color\":\"Grey\",\"width\":0.5},\"showscale\":true},\"mode\":\"markers\",\"name\":\"Feasible Trial\",\"showlegend\":false,\"x\":[0.3523173422740216,0.3074336203925912,0.3541166719199057,0.42830729326477524,0.22838608703098315,0.42730987499179185,0.21496017186800764,0.27598665107482,0.39125768450856535,0.37078258589443147,0.48458647660500753,0.2822562582133571,0.28622260370303065,0.29173615619987137,0.3116308122839127,0.24758507851366804,0.32037239315055344,0.25199469913343797,0.3241817059787802,0.40562415030382126,0.3190559630418333,0.3261296587096739,0.33271194671787124,0.3375308220167124,0.37167733656244517,0.3384303585120642,0.3807812426410776,0.34257291148299834,0.2617853616776727,0.26000556125123264,0.2298895793792593,0.25649346862509603,0.2979503267273793,0.27054300372478673,0.20603318580656688,0.21020196854527523,0.20005435170342842,0.23529494867780273,0.20167719189513222,0.21667166963598433,0.21751114161666402,0.2720842814615492,0.27108077329284425,0.24004491196666888,0.3564380495219484,0.49152637725457204,0.3020741382769065,0.4549645438195077,0.21460709288653615,0.274254623316247,0.24368966238355294,0.35625255760573926,0.36174751889217427,0.35690000241701864,0.3564899990511904,0.397669979089162,0.4080028357903883,0.3717512539674816,0.3096108589111683,0.3454220240811089,0.42604973533642077,0.35983501197150697,0.38485592897210613,0.39372237720729475,0.37828000020404984,0.3629085682510309,0.4113705007461593,0.3824789881310193,0.33633252848220835,0.2903051102802392,0.2869711975613376,0.3488178760918012,0.3286522418879382,0.3848476781880569,0.3667041982916418,0.31635558802735014,0.2955346028663536,0.2676213379803016,0.29413221732325473,0.2857003542490455,0.2765906717939073,0.3029067151917574,0.2526885318433303,0.3379997583147486,0.26334038429473944,0.3498353352799515,0.2786740523897626,0.31659596003592055,0.31805481889166093,0.3102507170542512,0.2919824752496079,0.3233372842716619,0.3296251052605757,0.3031495739783936,0.33055028622603455,0.3347202061781282,0.32863043537413394,0.34079247909936533,0.3166045679700432,0.3741815501196719],\"y\":[0.9733333333333334,0.98625,0.9820166666666666,0.9346166666666667,0.9763166666666667,0.9599166666666666,0.92305,0.98275,0.94505,0.8476833333333333,0.9416,0.9561666666666667,0.98155,0.9613333333333334,0.9826,0.09863333333333334,0.8739833333333333,0.9736833333333333,0.9866666666666667,0.10441666666666667,0.9908666666666667,0.9882166666666666,0.98595,0.9930166666666667,0.9837166666666667,0.98875,0.9820833333333333,0.9810666666666666,0.98935,0.98925,0.9873,0.9907,0.9781666666666666,0.9926166666666667,0.9917333333333334,0.9914166666666666,0.9464166666666667,0.9766666666666667,0.9141833333333333,0.9892666666666666,0.9345,0.9919,0.9870166666666667,0.9670833333333333,0.9872666666666666,0.77305,0.9899333333333333,0.9821333333333333,0.95375,0.9810833333333333,0.74455,0.9934333333333333,0.9933333333333333,0.9918333333333333,0.9905333333333334,0.11236666666666667,0.9881666666666666,0.9908833333333333,0.9166833333333333,0.9914666666666667,0.9870666666666666,0.9916666666666667,0.9933166666666666,0.9898666666666667,0.9911666666666666,0.9876666666666667,0.9793833333333334,0.9916333333333334,0.9881666666666666,0.9923333333333333,0.8626166666666667,0.9891166666666666,0.9911833333333333,0.9908666666666667,0.9895,0.9845833333333334,0.9921666666666666,0.9726,0.9866833333333334,0.9568666666666666,0.9913833333333333,0.9837166666666667,0.9912333333333333,0.99055,0.9911666666666666,0.9724166666666667,0.9901666666666666,0.9930666666666667,0.7330666666666666,0.9833666666666666,0.9840666666666666,0.9896,0.9920666666666667,0.99045,0.9920333333333333,0.9912666666666666,0.9904666666666667,0.9902666666666666,0.98515,0.9902333333333333],\"type\":\"scatter\",\"xaxis\":\"x\",\"yaxis\":\"y\"},{\"marker\":{\"color\":[0,1,2,3,4,5,6,7,8,9,10,11,12,13,14,15,16,17,18,19,20,21,22,23,24,25,26,27,28,29,30,31,32,33,34,35,36,37,38,39,40,41,42,43,44,45,46,47,48,49,50,51,52,53,54,55,56,57,58,59,60,61,62,63,64,65,66,67,68,69,70,71,72,73,74,75,76,77,78,79,80,81,82,83,84,85,86,87,88,89,90,91,92,93,94,95,96,97,98,99],\"colorbar\":{\"title\":{\"text\":\"Trial\"},\"x\":1.0,\"xpad\":40},\"colorscale\":[[0.0,\"rgb(247,251,255)\"],[0.125,\"rgb(222,235,247)\"],[0.25,\"rgb(198,219,239)\"],[0.375,\"rgb(158,202,225)\"],[0.5,\"rgb(107,174,214)\"],[0.625,\"rgb(66,146,198)\"],[0.75,\"rgb(33,113,181)\"],[0.875,\"rgb(8,81,156)\"],[1.0,\"rgb(8,48,107)\"]],\"line\":{\"color\":\"Grey\",\"width\":0.5},\"showscale\":false},\"mode\":\"markers\",\"name\":\"Feasible Trial\",\"showlegend\":false,\"x\":[0.40474443268188676,0.3497683307885896,0.40806540594041973,0.2882681278842707,0.4156120245854975,0.4450005301352914,0.22791449836981534,0.45662969631287353,0.3373473644899512,0.3321382383747048,0.4985843890049769,0.4853851963638488,0.2804988004943966,0.3688212582275805,0.3594008919048484,0.460541029474284,0.29417596320402206,0.23296293299339804,0.37749520437750367,0.38094432880203194,0.30832003543126124,0.3159566977803017,0.3157825447907906,0.2633753081716679,0.21201150140509795,0.2591491154196779,0.2566011877021653,0.25746060267961335,0.26066242768917414,0.27415200200911793,0.3024963332009073,0.262888993008361,0.23636102600443326,0.21009207258754112,0.20423918550450285,0.2034476374591204,0.20024614979463673,0.21738693324095298,0.20547149643249982,0.23857242428195646,0.2222840510708488,0.24663266172302348,0.24240306630162528,0.2195163367303358,0.20099470593253355,0.24499002129833594,0.22256070148103824,0.27265955635076033,0.2458942822139292,0.21271689410718556,0.28616934351396833,0.22786095132832312,0.23139526419968529,0.22906356994314925,0.2264480900227045,0.42584150100250284,0.24938866391039397,0.22926508605802862,0.27143514952160025,0.29489451832778363,0.2332982964906548,0.21237112863084495,0.25282248466209034,0.24942189719598262,0.2651710602324929,0.32863736586061676,0.27996061602439143,0.2524414260071527,0.2372712804995699,0.22265307025226794,0.39251085784711714,0.22858473892998177,0.2132208881514574,0.23742546192881148,0.22255156445535174,0.26668496574321615,0.25190134369389533,0.3450090459999016,0.255996845974039,0.2819385130423571,0.24281706533385194,0.23182143068210023,0.21713887200493545,0.20769891208680502,0.2507500701799893,0.22397080893576227,0.2418758842852303,0.2594368518583191,0.2943864032000125,0.26259722656832735,0.2671350695972053,0.2571522375862898,0.23082409719370478,0.2762155614204352,0.21786164875439845,0.21000313425758074,0.23520196382009467,0.22667779691099688,0.2169141774878964,0.20103061232157643],\"y\":[0.9733333333333334,0.98625,0.9820166666666666,0.9346166666666667,0.9763166666666667,0.9599166666666666,0.92305,0.98275,0.94505,0.8476833333333333,0.9416,0.9561666666666667,0.98155,0.9613333333333334,0.9826,0.09863333333333334,0.8739833333333333,0.9736833333333333,0.9866666666666667,0.10441666666666667,0.9908666666666667,0.9882166666666666,0.98595,0.9930166666666667,0.9837166666666667,0.98875,0.9820833333333333,0.9810666666666666,0.98935,0.98925,0.9873,0.9907,0.9781666666666666,0.9926166666666667,0.9917333333333334,0.9914166666666666,0.9464166666666667,0.9766666666666667,0.9141833333333333,0.9892666666666666,0.9345,0.9919,0.9870166666666667,0.9670833333333333,0.9872666666666666,0.77305,0.9899333333333333,0.9821333333333333,0.95375,0.9810833333333333,0.74455,0.9934333333333333,0.9933333333333333,0.9918333333333333,0.9905333333333334,0.11236666666666667,0.9881666666666666,0.9908833333333333,0.9166833333333333,0.9914666666666667,0.9870666666666666,0.9916666666666667,0.9933166666666666,0.9898666666666667,0.9911666666666666,0.9876666666666667,0.9793833333333334,0.9916333333333334,0.9881666666666666,0.9923333333333333,0.8626166666666667,0.9891166666666666,0.9911833333333333,0.9908666666666667,0.9895,0.9845833333333334,0.9921666666666666,0.9726,0.9866833333333334,0.9568666666666666,0.9913833333333333,0.9837166666666667,0.9912333333333333,0.99055,0.9911666666666666,0.9724166666666667,0.9901666666666666,0.9930666666666667,0.7330666666666666,0.9833666666666666,0.9840666666666666,0.9896,0.9920666666666667,0.99045,0.9920333333333333,0.9912666666666666,0.9904666666666667,0.9902666666666666,0.98515,0.9902333333333333],\"type\":\"scatter\",\"xaxis\":\"x2\",\"yaxis\":\"y2\"},{\"marker\":{\"color\":[0,1,2,3,4,5,6,7,8,9,10,11,12,13,14,15,16,17,18,19,20,21,22,23,24,25,26,27,28,29,30,31,32,33,34,35,36,37,38,39,40,41,42,43,44,45,46,47,48,49,50,51,52,53,54,55,56,57,58,59,60,61,62,63,64,65,66,67,68,69,70,71,72,73,74,75,76,77,78,79,80,81,82,83,84,85,86,87,88,89,90,91,92,93,94,95,96,97,98,99],\"colorbar\":{\"title\":{\"text\":\"Trial\"},\"x\":1.0,\"xpad\":40},\"colorscale\":[[0.0,\"rgb(247,251,255)\"],[0.125,\"rgb(222,235,247)\"],[0.25,\"rgb(198,219,239)\"],[0.375,\"rgb(158,202,225)\"],[0.5,\"rgb(107,174,214)\"],[0.625,\"rgb(66,146,198)\"],[0.75,\"rgb(33,113,181)\"],[0.875,\"rgb(8,81,156)\"],[1.0,\"rgb(8,48,107)\"]],\"line\":{\"color\":\"Grey\",\"width\":0.5},\"showscale\":false},\"mode\":\"markers\",\"name\":\"Feasible Trial\",\"showlegend\":false,\"x\":[0.0026251725618518114,0.0009246856392926409,0.0034062326589202434,0.009237287326515069,0.09775830493516027,0.008342629485534294,2.3782189587999265e-05,0.0017258231967056416,0.009755496167338626,0.0031283380278269244,0.00013822650760953888,0.00032110892580802715,0.0005440738584004456,6.448047486413718e-05,0.0008818799485116657,0.06067356453042245,1.0422464471296978e-05,0.00017440390665509508,0.0013555396296492809,0.022488102209110863,0.001036069954163064,0.0013434184361627481,0.0004341555367646407,0.0012769386580309752,0.0058989987987853945,0.00019990669845353854,0.0001073610383251245,6.111238375512615e-05,0.00026935632640827877,0.0006520321708866462,0.0002505704063713819,0.00046356274624138665,0.0024435479225442262,0.0007051237882993545,0.001135501244251174,0.0008118240535883424,0.005245660908472643,0.002853826973391873,0.0019253553372168496,0.0007115356980901046,0.016197369309893482,0.0012151180462766024,0.001104050612989242,0.004221915912199162,0.0019221014219931922,0.0004073020873777803,0.0007650794728431314,0.0017603288138507902,0.0029714311542424743,0.00010322893294263342,0.0003592136553423464,0.0012065810008056934,0.0012389371859760129,0.001302828137976495,0.0014593151491033814,0.007808157452583248,0.0005618528800488768,0.0022386317066564634,0.003504307654506905,0.0009797185339960755,0.0014082853745534538,0.0010983186323367646,0.0006081239468568543,0.0006413609525955688,0.0005309215359132249,0.0002890940444871955,0.004017956488052115,0.0008095051339316005,0.0001880118955023105,0.0015938740335474776,0.002495423640926567,0.0013362338051758705,0.0017193726739835426,0.0008933232660207832,0.0005417501815395969,0.0023139770279854087,0.001533769073446408,0.004880609014346957,0.0003888412193126381,0.00681529047002368,0.0017842695715777025,0.0013773562872180186,0.0010139878533995993,0.0007605987846814765,0.0012401644574459366,0.003382973240219426,0.000624037943481126,0.00046976688480442503,0.00046278998815701803,0.0021236050919525187,0.00013666103400779482,0.0015152283769103321,0.0008974313494260806,0.0003311112034784937,0.0009212916659444537,0.0008619382170548678,0.0006857640573977366,0.0004708295915284474,0.0009922995391000852,0.00026236577558125013],\"y\":[0.9733333333333334,0.98625,0.9820166666666666,0.9346166666666667,0.9763166666666667,0.9599166666666666,0.92305,0.98275,0.94505,0.8476833333333333,0.9416,0.9561666666666667,0.98155,0.9613333333333334,0.9826,0.09863333333333334,0.8739833333333333,0.9736833333333333,0.9866666666666667,0.10441666666666667,0.9908666666666667,0.9882166666666666,0.98595,0.9930166666666667,0.9837166666666667,0.98875,0.9820833333333333,0.9810666666666666,0.98935,0.98925,0.9873,0.9907,0.9781666666666666,0.9926166666666667,0.9917333333333334,0.9914166666666666,0.9464166666666667,0.9766666666666667,0.9141833333333333,0.9892666666666666,0.9345,0.9919,0.9870166666666667,0.9670833333333333,0.9872666666666666,0.77305,0.9899333333333333,0.9821333333333333,0.95375,0.9810833333333333,0.74455,0.9934333333333333,0.9933333333333333,0.9918333333333333,0.9905333333333334,0.11236666666666667,0.9881666666666666,0.9908833333333333,0.9166833333333333,0.9914666666666667,0.9870666666666666,0.9916666666666667,0.9933166666666666,0.9898666666666667,0.9911666666666666,0.9876666666666667,0.9793833333333334,0.9916333333333334,0.9881666666666666,0.9923333333333333,0.8626166666666667,0.9891166666666666,0.9911833333333333,0.9908666666666667,0.9895,0.9845833333333334,0.9921666666666666,0.9726,0.9866833333333334,0.9568666666666666,0.9913833333333333,0.9837166666666667,0.9912333333333333,0.99055,0.9911666666666666,0.9724166666666667,0.9901666666666666,0.9930666666666667,0.7330666666666666,0.9833666666666666,0.9840666666666666,0.9896,0.9920666666666667,0.99045,0.9920333333333333,0.9912666666666666,0.9904666666666667,0.9902666666666666,0.98515,0.9902333333333333],\"type\":\"scatter\",\"xaxis\":\"x3\",\"yaxis\":\"y3\"},{\"marker\":{\"color\":[0,1,2,3,4,5,6,7,8,9,10,11,12,13,14,15,16,17,18,19,20,21,22,23,24,25,26,27,28,29,30,31,32,33,34,35,36,37,38,39,40,41,42,43,44,45,46,47,48,49,50,51,52,53,54,55,56,57,58,59,60,61,62,63,64,65,66,67,68,69,70,71,72,73,74,75,76,77,78,79,80,81,82,83,84,85,86,87,88,89,90,91,92,93,94,95,96,97,98,99],\"colorbar\":{\"title\":{\"text\":\"Trial\"},\"x\":1.0,\"xpad\":40},\"colorscale\":[[0.0,\"rgb(247,251,255)\"],[0.125,\"rgb(222,235,247)\"],[0.25,\"rgb(198,219,239)\"],[0.375,\"rgb(158,202,225)\"],[0.5,\"rgb(107,174,214)\"],[0.625,\"rgb(66,146,198)\"],[0.75,\"rgb(33,113,181)\"],[0.875,\"rgb(8,81,156)\"],[1.0,\"rgb(8,48,107)\"]],\"line\":{\"color\":\"Grey\",\"width\":0.5},\"showscale\":false},\"mode\":\"markers\",\"name\":\"Feasible Trial\",\"showlegend\":false,\"x\":[3,2,2,2,2,2,2,3,2,3,3,3,3,3,2,3,3,2,2,2,2,2,2,2,2,2,2,2,2,2,2,2,2,2,2,2,2,2,2,2,2,2,2,2,2,2,2,2,2,2,2,2,2,2,2,2,2,3,2,2,2,2,2,2,2,2,2,2,2,2,3,2,2,2,2,2,2,2,2,2,2,2,2,2,2,2,2,2,2,2,2,2,2,2,2,2,2,2,2,2],\"y\":[0.9733333333333334,0.98625,0.9820166666666666,0.9346166666666667,0.9763166666666667,0.9599166666666666,0.92305,0.98275,0.94505,0.8476833333333333,0.9416,0.9561666666666667,0.98155,0.9613333333333334,0.9826,0.09863333333333334,0.8739833333333333,0.9736833333333333,0.9866666666666667,0.10441666666666667,0.9908666666666667,0.9882166666666666,0.98595,0.9930166666666667,0.9837166666666667,0.98875,0.9820833333333333,0.9810666666666666,0.98935,0.98925,0.9873,0.9907,0.9781666666666666,0.9926166666666667,0.9917333333333334,0.9914166666666666,0.9464166666666667,0.9766666666666667,0.9141833333333333,0.9892666666666666,0.9345,0.9919,0.9870166666666667,0.9670833333333333,0.9872666666666666,0.77305,0.9899333333333333,0.9821333333333333,0.95375,0.9810833333333333,0.74455,0.9934333333333333,0.9933333333333333,0.9918333333333333,0.9905333333333334,0.11236666666666667,0.9881666666666666,0.9908833333333333,0.9166833333333333,0.9914666666666667,0.9870666666666666,0.9916666666666667,0.9933166666666666,0.9898666666666667,0.9911666666666666,0.9876666666666667,0.9793833333333334,0.9916333333333334,0.9881666666666666,0.9923333333333333,0.8626166666666667,0.9891166666666666,0.9911833333333333,0.9908666666666667,0.9895,0.9845833333333334,0.9921666666666666,0.9726,0.9866833333333334,0.9568666666666666,0.9913833333333333,0.9837166666666667,0.9912333333333333,0.99055,0.9911666666666666,0.9724166666666667,0.9901666666666666,0.9930666666666667,0.7330666666666666,0.9833666666666666,0.9840666666666666,0.9896,0.9920666666666667,0.99045,0.9920333333333333,0.9912666666666666,0.9904666666666667,0.9902666666666666,0.98515,0.9902333333333333],\"type\":\"scatter\",\"xaxis\":\"x4\",\"yaxis\":\"y4\"},{\"marker\":{\"color\":[0,1,2,3,4,5,6,7,8,9,10,11,12,13,14,15,16,17,18,19,20,21,22,23,24,25,26,27,28,29,30,31,32,33,34,35,36,37,38,39,40,41,42,43,44,45,46,47,48,49,50,51,52,53,54,55,56,57,58,59,60,61,62,63,64,65,66,67,68,69,70,71,72,73,74,75,76,77,78,79,80,81,82,83,84,85,86,87,88,89,90,91,92,93,94,95,96,97,98,99],\"colorbar\":{\"title\":{\"text\":\"Trial\"},\"x\":1.0,\"xpad\":40},\"colorscale\":[[0.0,\"rgb(247,251,255)\"],[0.125,\"rgb(222,235,247)\"],[0.25,\"rgb(198,219,239)\"],[0.375,\"rgb(158,202,225)\"],[0.5,\"rgb(107,174,214)\"],[0.625,\"rgb(66,146,198)\"],[0.75,\"rgb(33,113,181)\"],[0.875,\"rgb(8,81,156)\"],[1.0,\"rgb(8,48,107)\"]],\"line\":{\"color\":\"Grey\",\"width\":0.5},\"showscale\":false},\"mode\":\"markers\",\"name\":\"Feasible Trial\",\"showlegend\":false,\"x\":[96.0,80.0,48.0,80.0,96.0,96.0,64.0,32.0,48.0,16.0,128.0,16.0,48.0,32.0,128.0,80.0,64.0,32.0,32.0,112.0,64.0,64.0,64.0,48.0,48.0,64.0,48.0,80.0,64.0,112.0,48.0,112.0,112.0,96.0,96.0,96.0,96.0,96.0,96.0,80.0,96.0,80.0,80.0,80.0,96.0,112.0,80.0,96.0,96.0,80.0,128.0,64.0,80.0,80.0,80.0,48.0,64.0,80.0,64.0,64.0,32.0,80.0,80.0,64.0,80.0,48.0,80.0,64.0,80.0,48.0,32.0,48.0,48.0,64.0,32.0,64.0,48.0,48.0,16.0,48.0,48.0,80.0,48.0,64.0,32.0,80.0,80.0,96.0,112.0,96.0,96.0,96.0,96.0,96.0,96.0,112.0,112.0,96.0,96.0,112.0],\"y\":[0.9733333333333334,0.98625,0.9820166666666666,0.9346166666666667,0.9763166666666667,0.9599166666666666,0.92305,0.98275,0.94505,0.8476833333333333,0.9416,0.9561666666666667,0.98155,0.9613333333333334,0.9826,0.09863333333333334,0.8739833333333333,0.9736833333333333,0.9866666666666667,0.10441666666666667,0.9908666666666667,0.9882166666666666,0.98595,0.9930166666666667,0.9837166666666667,0.98875,0.9820833333333333,0.9810666666666666,0.98935,0.98925,0.9873,0.9907,0.9781666666666666,0.9926166666666667,0.9917333333333334,0.9914166666666666,0.9464166666666667,0.9766666666666667,0.9141833333333333,0.9892666666666666,0.9345,0.9919,0.9870166666666667,0.9670833333333333,0.9872666666666666,0.77305,0.9899333333333333,0.9821333333333333,0.95375,0.9810833333333333,0.74455,0.9934333333333333,0.9933333333333333,0.9918333333333333,0.9905333333333334,0.11236666666666667,0.9881666666666666,0.9908833333333333,0.9166833333333333,0.9914666666666667,0.9870666666666666,0.9916666666666667,0.9933166666666666,0.9898666666666667,0.9911666666666666,0.9876666666666667,0.9793833333333334,0.9916333333333334,0.9881666666666666,0.9923333333333333,0.8626166666666667,0.9891166666666666,0.9911833333333333,0.9908666666666667,0.9895,0.9845833333333334,0.9921666666666666,0.9726,0.9866833333333334,0.9568666666666666,0.9913833333333333,0.9837166666666667,0.9912333333333333,0.99055,0.9911666666666666,0.9724166666666667,0.9901666666666666,0.9930666666666667,0.7330666666666666,0.9833666666666666,0.9840666666666666,0.9896,0.9920666666666667,0.99045,0.9920333333333333,0.9912666666666666,0.9904666666666667,0.9902666666666666,0.98515,0.9902333333333333],\"type\":\"scatter\",\"xaxis\":\"x5\",\"yaxis\":\"y5\"},{\"marker\":{\"color\":[0,1,2,3,4,5,6,7,8,9,10,11,12,13,14,15,16,17,18,19,20,21,22,23,24,25,26,27,28,29,30,31,32,33,34,35,36,37,38,39,40,41,42,43,44,45,46,47,48,49,50,51,52,53,54,55,56,57,58,59,60,61,62,63,64,65,66,67,68,69,70,71,72,73,74,75,76,77,78,79,80,81,82,83,84,85,86,87,88,89,90,91,92,93,94,95,96,97,98,99],\"colorbar\":{\"title\":{\"text\":\"Trial\"},\"x\":1.0,\"xpad\":40},\"colorscale\":[[0.0,\"rgb(247,251,255)\"],[0.125,\"rgb(222,235,247)\"],[0.25,\"rgb(198,219,239)\"],[0.375,\"rgb(158,202,225)\"],[0.5,\"rgb(107,174,214)\"],[0.625,\"rgb(66,146,198)\"],[0.75,\"rgb(33,113,181)\"],[0.875,\"rgb(8,81,156)\"],[1.0,\"rgb(8,48,107)\"]],\"line\":{\"color\":\"Grey\",\"width\":0.5},\"showscale\":false},\"mode\":\"markers\",\"name\":\"Feasible Trial\",\"showlegend\":false,\"x\":[96.0,16.0,48.0,16.0,112.0,128.0,16.0,32.0,16.0,64.0,80.0,48.0,32.0,48.0,32.0,32.0,64.0,32.0,80.0,96.0,80.0,80.0,80.0,96.0,96.0,112.0,112.0,128.0,112.0,96.0,112.0,96.0,96.0,112.0,96.0,64.0,64.0,128.0,128.0,64.0,112.0,80.0,96.0,80.0,48.0,64.0,80.0,112.0,96.0,96.0,64.0,80.0,80.0,80.0,80.0,80.0,80.0,80.0,80.0,96.0,64.0,96.0,80.0,80.0,80.0,64.0,80.0,48.0,96.0,96.0,112.0,80.0,96.0,80.0,112.0,96.0,64.0,64.0,64.0,48.0,128.0,80.0,80.0,64.0,80.0,96.0,64.0,112.0,112.0,128.0,112.0,96.0,112.0,112.0,112.0,112.0,112.0,128.0,112.0,112.0],\"y\":[0.9733333333333334,0.98625,0.9820166666666666,0.9346166666666667,0.9763166666666667,0.9599166666666666,0.92305,0.98275,0.94505,0.8476833333333333,0.9416,0.9561666666666667,0.98155,0.9613333333333334,0.9826,0.09863333333333334,0.8739833333333333,0.9736833333333333,0.9866666666666667,0.10441666666666667,0.9908666666666667,0.9882166666666666,0.98595,0.9930166666666667,0.9837166666666667,0.98875,0.9820833333333333,0.9810666666666666,0.98935,0.98925,0.9873,0.9907,0.9781666666666666,0.9926166666666667,0.9917333333333334,0.9914166666666666,0.9464166666666667,0.9766666666666667,0.9141833333333333,0.9892666666666666,0.9345,0.9919,0.9870166666666667,0.9670833333333333,0.9872666666666666,0.77305,0.9899333333333333,0.9821333333333333,0.95375,0.9810833333333333,0.74455,0.9934333333333333,0.9933333333333333,0.9918333333333333,0.9905333333333334,0.11236666666666667,0.9881666666666666,0.9908833333333333,0.9166833333333333,0.9914666666666667,0.9870666666666666,0.9916666666666667,0.9933166666666666,0.9898666666666667,0.9911666666666666,0.9876666666666667,0.9793833333333334,0.9916333333333334,0.9881666666666666,0.9923333333333333,0.8626166666666667,0.9891166666666666,0.9911833333333333,0.9908666666666667,0.9895,0.9845833333333334,0.9921666666666666,0.9726,0.9866833333333334,0.9568666666666666,0.9913833333333333,0.9837166666666667,0.9912333333333333,0.99055,0.9911666666666666,0.9724166666666667,0.9901666666666666,0.9930666666666667,0.7330666666666666,0.9833666666666666,0.9840666666666666,0.9896,0.9920666666666667,0.99045,0.9920333333333333,0.9912666666666666,0.9904666666666667,0.9902666666666666,0.98515,0.9902333333333333],\"type\":\"scatter\",\"xaxis\":\"x6\",\"yaxis\":\"y6\"},{\"marker\":{\"color\":[0,1,2,3,4,5,6,7,8,9,10,11,12,13,14,15,16,17,18,19,20,21,22,23,24,25,26,27,28,29,30,31,32,33,34,35,36,37,38,39,40,41,42,43,44,45,46,47,48,49,50,51,52,53,54,55,56,57,58,59,60,61,62,63,64,65,66,67,68,69,70,71,72,73,74,75,76,77,78,79,80,81,82,83,84,85,86,87,88,89,90,91,92,93,94,95,96,97,98,99],\"colorbar\":{\"title\":{\"text\":\"Trial\"},\"x\":1.0,\"xpad\":40},\"colorscale\":[[0.0,\"rgb(247,251,255)\"],[0.125,\"rgb(222,235,247)\"],[0.25,\"rgb(198,219,239)\"],[0.375,\"rgb(158,202,225)\"],[0.5,\"rgb(107,174,214)\"],[0.625,\"rgb(66,146,198)\"],[0.75,\"rgb(33,113,181)\"],[0.875,\"rgb(8,81,156)\"],[1.0,\"rgb(8,48,107)\"]],\"line\":{\"color\":\"Grey\",\"width\":0.5},\"showscale\":false},\"mode\":\"markers\",\"name\":\"Feasible Trial\",\"showlegend\":false,\"x\":[160,240,230,250,330,160,300,190,360,380,40,80,160,270,200,100,200,120,290,310,400,350,390,350,340,390,400,370,400,330,400,330,360,320,270,270,240,270,270,300,220,320,260,310,310,280,230,250,320,180,350,370,370,370,370,370,350,380,20,340,290,330,360,380,340,360,380,360,320,390,390,350,370,390,330,360,380,130,400,340,320,370,390,380,350,380,300,360,70,340,360,370,390,400,350,390,360,350,390,330],\"y\":[0.9733333333333334,0.98625,0.9820166666666666,0.9346166666666667,0.9763166666666667,0.9599166666666666,0.92305,0.98275,0.94505,0.8476833333333333,0.9416,0.9561666666666667,0.98155,0.9613333333333334,0.9826,0.09863333333333334,0.8739833333333333,0.9736833333333333,0.9866666666666667,0.10441666666666667,0.9908666666666667,0.9882166666666666,0.98595,0.9930166666666667,0.9837166666666667,0.98875,0.9820833333333333,0.9810666666666666,0.98935,0.98925,0.9873,0.9907,0.9781666666666666,0.9926166666666667,0.9917333333333334,0.9914166666666666,0.9464166666666667,0.9766666666666667,0.9141833333333333,0.9892666666666666,0.9345,0.9919,0.9870166666666667,0.9670833333333333,0.9872666666666666,0.77305,0.9899333333333333,0.9821333333333333,0.95375,0.9810833333333333,0.74455,0.9934333333333333,0.9933333333333333,0.9918333333333333,0.9905333333333334,0.11236666666666667,0.9881666666666666,0.9908833333333333,0.9166833333333333,0.9914666666666667,0.9870666666666666,0.9916666666666667,0.9933166666666666,0.9898666666666667,0.9911666666666666,0.9876666666666667,0.9793833333333334,0.9916333333333334,0.9881666666666666,0.9923333333333333,0.8626166666666667,0.9891166666666666,0.9911833333333333,0.9908666666666667,0.9895,0.9845833333333334,0.9921666666666666,0.9726,0.9866833333333334,0.9568666666666666,0.9913833333333333,0.9837166666666667,0.9912333333333333,0.99055,0.9911666666666666,0.9724166666666667,0.9901666666666666,0.9930666666666667,0.7330666666666666,0.9833666666666666,0.9840666666666666,0.9896,0.9920666666666667,0.99045,0.9920333333333333,0.9912666666666666,0.9904666666666667,0.9902666666666666,0.98515,0.9902333333333333],\"type\":\"scatter\",\"xaxis\":\"x7\",\"yaxis\":\"y7\"},{\"marker\":{\"color\":[0,1,2,3,4,5,6,7,8,9,10,11,12,13,14,15,16,17,18,19,20,21,22,23,24,25,26,27,28,29,30,31,32,33,34,35,36,37,38,39,40,41,42,43,44,45,46,47,48,49,50,51,52,53,54,55,56,57,58,59,60,61,62,63,64,65,66,67,68,69,70,71,72,73,74,75,76,77,78,79,80,81,82,83,84,85,86,87,88,89,90,91,92,93,94,95,96,97,98,99],\"colorbar\":{\"title\":{\"text\":\"Trial\"},\"x\":1.0,\"xpad\":40},\"colorscale\":[[0.0,\"rgb(247,251,255)\"],[0.125,\"rgb(222,235,247)\"],[0.25,\"rgb(198,219,239)\"],[0.375,\"rgb(158,202,225)\"],[0.5,\"rgb(107,174,214)\"],[0.625,\"rgb(66,146,198)\"],[0.75,\"rgb(33,113,181)\"],[0.875,\"rgb(8,81,156)\"],[1.0,\"rgb(8,48,107)\"]],\"line\":{\"color\":\"Grey\",\"width\":0.5},\"showscale\":false},\"mode\":\"markers\",\"name\":\"Feasible Trial\",\"showlegend\":false,\"x\":[\"RMSprop\",\"RMSprop\",\"RMSprop\",\"Adam\",\"SGD\",\"SGD\",\"RMSprop\",\"Adam\",\"SGD\",\"SGD\",\"RMSprop\",\"Adam\",\"Adam\",\"Adam\",\"RMSprop\",\"Adam\",\"Adam\",\"RMSprop\",\"Adam\",\"RMSprop\",\"Adam\",\"Adam\",\"Adam\",\"Adam\",\"Adam\",\"Adam\",\"Adam\",\"Adam\",\"Adam\",\"Adam\",\"Adam\",\"Adam\",\"Adam\",\"Adam\",\"Adam\",\"Adam\",\"SGD\",\"Adam\",\"SGD\",\"Adam\",\"Adam\",\"Adam\",\"Adam\",\"Adam\",\"Adam\",\"SGD\",\"Adam\",\"RMSprop\",\"Adam\",\"Adam\",\"SGD\",\"Adam\",\"Adam\",\"Adam\",\"Adam\",\"RMSprop\",\"Adam\",\"Adam\",\"Adam\",\"Adam\",\"RMSprop\",\"Adam\",\"Adam\",\"Adam\",\"Adam\",\"Adam\",\"Adam\",\"Adam\",\"Adam\",\"Adam\",\"SGD\",\"Adam\",\"Adam\",\"Adam\",\"Adam\",\"Adam\",\"Adam\",\"Adam\",\"Adam\",\"RMSprop\",\"Adam\",\"Adam\",\"Adam\",\"Adam\",\"Adam\",\"Adam\",\"Adam\",\"Adam\",\"SGD\",\"Adam\",\"Adam\",\"Adam\",\"Adam\",\"Adam\",\"Adam\",\"Adam\",\"Adam\",\"Adam\",\"RMSprop\",\"Adam\"],\"y\":[0.9733333333333334,0.98625,0.9820166666666666,0.9346166666666667,0.9763166666666667,0.9599166666666666,0.92305,0.98275,0.94505,0.8476833333333333,0.9416,0.9561666666666667,0.98155,0.9613333333333334,0.9826,0.09863333333333334,0.8739833333333333,0.9736833333333333,0.9866666666666667,0.10441666666666667,0.9908666666666667,0.9882166666666666,0.98595,0.9930166666666667,0.9837166666666667,0.98875,0.9820833333333333,0.9810666666666666,0.98935,0.98925,0.9873,0.9907,0.9781666666666666,0.9926166666666667,0.9917333333333334,0.9914166666666666,0.9464166666666667,0.9766666666666667,0.9141833333333333,0.9892666666666666,0.9345,0.9919,0.9870166666666667,0.9670833333333333,0.9872666666666666,0.77305,0.9899333333333333,0.9821333333333333,0.95375,0.9810833333333333,0.74455,0.9934333333333333,0.9933333333333333,0.9918333333333333,0.9905333333333334,0.11236666666666667,0.9881666666666666,0.9908833333333333,0.9166833333333333,0.9914666666666667,0.9870666666666666,0.9916666666666667,0.9933166666666666,0.9898666666666667,0.9911666666666666,0.9876666666666667,0.9793833333333334,0.9916333333333334,0.9881666666666666,0.9923333333333333,0.8626166666666667,0.9891166666666666,0.9911833333333333,0.9908666666666667,0.9895,0.9845833333333334,0.9921666666666666,0.9726,0.9866833333333334,0.9568666666666666,0.9913833333333333,0.9837166666666667,0.9912333333333333,0.99055,0.9911666666666666,0.9724166666666667,0.9901666666666666,0.9930666666666667,0.7330666666666666,0.9833666666666666,0.9840666666666666,0.9896,0.9920666666666667,0.99045,0.9920333333333333,0.9912666666666666,0.9904666666666667,0.9902666666666666,0.98515,0.9902333333333333],\"type\":\"scatter\",\"xaxis\":\"x8\",\"yaxis\":\"y8\"}],                        {\"template\":{\"data\":{\"histogram2dcontour\":[{\"type\":\"histogram2dcontour\",\"colorbar\":{\"outlinewidth\":0,\"ticks\":\"\"},\"colorscale\":[[0.0,\"#0d0887\"],[0.1111111111111111,\"#46039f\"],[0.2222222222222222,\"#7201a8\"],[0.3333333333333333,\"#9c179e\"],[0.4444444444444444,\"#bd3786\"],[0.5555555555555556,\"#d8576b\"],[0.6666666666666666,\"#ed7953\"],[0.7777777777777778,\"#fb9f3a\"],[0.8888888888888888,\"#fdca26\"],[1.0,\"#f0f921\"]]}],\"choropleth\":[{\"type\":\"choropleth\",\"colorbar\":{\"outlinewidth\":0,\"ticks\":\"\"}}],\"histogram2d\":[{\"type\":\"histogram2d\",\"colorbar\":{\"outlinewidth\":0,\"ticks\":\"\"},\"colorscale\":[[0.0,\"#0d0887\"],[0.1111111111111111,\"#46039f\"],[0.2222222222222222,\"#7201a8\"],[0.3333333333333333,\"#9c179e\"],[0.4444444444444444,\"#bd3786\"],[0.5555555555555556,\"#d8576b\"],[0.6666666666666666,\"#ed7953\"],[0.7777777777777778,\"#fb9f3a\"],[0.8888888888888888,\"#fdca26\"],[1.0,\"#f0f921\"]]}],\"heatmap\":[{\"type\":\"heatmap\",\"colorbar\":{\"outlinewidth\":0,\"ticks\":\"\"},\"colorscale\":[[0.0,\"#0d0887\"],[0.1111111111111111,\"#46039f\"],[0.2222222222222222,\"#7201a8\"],[0.3333333333333333,\"#9c179e\"],[0.4444444444444444,\"#bd3786\"],[0.5555555555555556,\"#d8576b\"],[0.6666666666666666,\"#ed7953\"],[0.7777777777777778,\"#fb9f3a\"],[0.8888888888888888,\"#fdca26\"],[1.0,\"#f0f921\"]]}],\"heatmapgl\":[{\"type\":\"heatmapgl\",\"colorbar\":{\"outlinewidth\":0,\"ticks\":\"\"},\"colorscale\":[[0.0,\"#0d0887\"],[0.1111111111111111,\"#46039f\"],[0.2222222222222222,\"#7201a8\"],[0.3333333333333333,\"#9c179e\"],[0.4444444444444444,\"#bd3786\"],[0.5555555555555556,\"#d8576b\"],[0.6666666666666666,\"#ed7953\"],[0.7777777777777778,\"#fb9f3a\"],[0.8888888888888888,\"#fdca26\"],[1.0,\"#f0f921\"]]}],\"contourcarpet\":[{\"type\":\"contourcarpet\",\"colorbar\":{\"outlinewidth\":0,\"ticks\":\"\"}}],\"contour\":[{\"type\":\"contour\",\"colorbar\":{\"outlinewidth\":0,\"ticks\":\"\"},\"colorscale\":[[0.0,\"#0d0887\"],[0.1111111111111111,\"#46039f\"],[0.2222222222222222,\"#7201a8\"],[0.3333333333333333,\"#9c179e\"],[0.4444444444444444,\"#bd3786\"],[0.5555555555555556,\"#d8576b\"],[0.6666666666666666,\"#ed7953\"],[0.7777777777777778,\"#fb9f3a\"],[0.8888888888888888,\"#fdca26\"],[1.0,\"#f0f921\"]]}],\"surface\":[{\"type\":\"surface\",\"colorbar\":{\"outlinewidth\":0,\"ticks\":\"\"},\"colorscale\":[[0.0,\"#0d0887\"],[0.1111111111111111,\"#46039f\"],[0.2222222222222222,\"#7201a8\"],[0.3333333333333333,\"#9c179e\"],[0.4444444444444444,\"#bd3786\"],[0.5555555555555556,\"#d8576b\"],[0.6666666666666666,\"#ed7953\"],[0.7777777777777778,\"#fb9f3a\"],[0.8888888888888888,\"#fdca26\"],[1.0,\"#f0f921\"]]}],\"mesh3d\":[{\"type\":\"mesh3d\",\"colorbar\":{\"outlinewidth\":0,\"ticks\":\"\"}}],\"scatter\":[{\"fillpattern\":{\"fillmode\":\"overlay\",\"size\":10,\"solidity\":0.2},\"type\":\"scatter\"}],\"parcoords\":[{\"type\":\"parcoords\",\"line\":{\"colorbar\":{\"outlinewidth\":0,\"ticks\":\"\"}}}],\"scatterpolargl\":[{\"type\":\"scatterpolargl\",\"marker\":{\"colorbar\":{\"outlinewidth\":0,\"ticks\":\"\"}}}],\"bar\":[{\"error_x\":{\"color\":\"#2a3f5f\"},\"error_y\":{\"color\":\"#2a3f5f\"},\"marker\":{\"line\":{\"color\":\"#E5ECF6\",\"width\":0.5},\"pattern\":{\"fillmode\":\"overlay\",\"size\":10,\"solidity\":0.2}},\"type\":\"bar\"}],\"scattergeo\":[{\"type\":\"scattergeo\",\"marker\":{\"colorbar\":{\"outlinewidth\":0,\"ticks\":\"\"}}}],\"scatterpolar\":[{\"type\":\"scatterpolar\",\"marker\":{\"colorbar\":{\"outlinewidth\":0,\"ticks\":\"\"}}}],\"histogram\":[{\"marker\":{\"pattern\":{\"fillmode\":\"overlay\",\"size\":10,\"solidity\":0.2}},\"type\":\"histogram\"}],\"scattergl\":[{\"type\":\"scattergl\",\"marker\":{\"colorbar\":{\"outlinewidth\":0,\"ticks\":\"\"}}}],\"scatter3d\":[{\"type\":\"scatter3d\",\"line\":{\"colorbar\":{\"outlinewidth\":0,\"ticks\":\"\"}},\"marker\":{\"colorbar\":{\"outlinewidth\":0,\"ticks\":\"\"}}}],\"scattermapbox\":[{\"type\":\"scattermapbox\",\"marker\":{\"colorbar\":{\"outlinewidth\":0,\"ticks\":\"\"}}}],\"scatterternary\":[{\"type\":\"scatterternary\",\"marker\":{\"colorbar\":{\"outlinewidth\":0,\"ticks\":\"\"}}}],\"scattercarpet\":[{\"type\":\"scattercarpet\",\"marker\":{\"colorbar\":{\"outlinewidth\":0,\"ticks\":\"\"}}}],\"carpet\":[{\"aaxis\":{\"endlinecolor\":\"#2a3f5f\",\"gridcolor\":\"white\",\"linecolor\":\"white\",\"minorgridcolor\":\"white\",\"startlinecolor\":\"#2a3f5f\"},\"baxis\":{\"endlinecolor\":\"#2a3f5f\",\"gridcolor\":\"white\",\"linecolor\":\"white\",\"minorgridcolor\":\"white\",\"startlinecolor\":\"#2a3f5f\"},\"type\":\"carpet\"}],\"table\":[{\"cells\":{\"fill\":{\"color\":\"#EBF0F8\"},\"line\":{\"color\":\"white\"}},\"header\":{\"fill\":{\"color\":\"#C8D4E3\"},\"line\":{\"color\":\"white\"}},\"type\":\"table\"}],\"barpolar\":[{\"marker\":{\"line\":{\"color\":\"#E5ECF6\",\"width\":0.5},\"pattern\":{\"fillmode\":\"overlay\",\"size\":10,\"solidity\":0.2}},\"type\":\"barpolar\"}],\"pie\":[{\"automargin\":true,\"type\":\"pie\"}]},\"layout\":{\"autotypenumbers\":\"strict\",\"colorway\":[\"#636efa\",\"#EF553B\",\"#00cc96\",\"#ab63fa\",\"#FFA15A\",\"#19d3f3\",\"#FF6692\",\"#B6E880\",\"#FF97FF\",\"#FECB52\"],\"font\":{\"color\":\"#2a3f5f\"},\"hovermode\":\"closest\",\"hoverlabel\":{\"align\":\"left\"},\"paper_bgcolor\":\"white\",\"plot_bgcolor\":\"#E5ECF6\",\"polar\":{\"bgcolor\":\"#E5ECF6\",\"angularaxis\":{\"gridcolor\":\"white\",\"linecolor\":\"white\",\"ticks\":\"\"},\"radialaxis\":{\"gridcolor\":\"white\",\"linecolor\":\"white\",\"ticks\":\"\"}},\"ternary\":{\"bgcolor\":\"#E5ECF6\",\"aaxis\":{\"gridcolor\":\"white\",\"linecolor\":\"white\",\"ticks\":\"\"},\"baxis\":{\"gridcolor\":\"white\",\"linecolor\":\"white\",\"ticks\":\"\"},\"caxis\":{\"gridcolor\":\"white\",\"linecolor\":\"white\",\"ticks\":\"\"}},\"coloraxis\":{\"colorbar\":{\"outlinewidth\":0,\"ticks\":\"\"}},\"colorscale\":{\"sequential\":[[0.0,\"#0d0887\"],[0.1111111111111111,\"#46039f\"],[0.2222222222222222,\"#7201a8\"],[0.3333333333333333,\"#9c179e\"],[0.4444444444444444,\"#bd3786\"],[0.5555555555555556,\"#d8576b\"],[0.6666666666666666,\"#ed7953\"],[0.7777777777777778,\"#fb9f3a\"],[0.8888888888888888,\"#fdca26\"],[1.0,\"#f0f921\"]],\"sequentialminus\":[[0.0,\"#0d0887\"],[0.1111111111111111,\"#46039f\"],[0.2222222222222222,\"#7201a8\"],[0.3333333333333333,\"#9c179e\"],[0.4444444444444444,\"#bd3786\"],[0.5555555555555556,\"#d8576b\"],[0.6666666666666666,\"#ed7953\"],[0.7777777777777778,\"#fb9f3a\"],[0.8888888888888888,\"#fdca26\"],[1.0,\"#f0f921\"]],\"diverging\":[[0,\"#8e0152\"],[0.1,\"#c51b7d\"],[0.2,\"#de77ae\"],[0.3,\"#f1b6da\"],[0.4,\"#fde0ef\"],[0.5,\"#f7f7f7\"],[0.6,\"#e6f5d0\"],[0.7,\"#b8e186\"],[0.8,\"#7fbc41\"],[0.9,\"#4d9221\"],[1,\"#276419\"]]},\"xaxis\":{\"gridcolor\":\"white\",\"linecolor\":\"white\",\"ticks\":\"\",\"title\":{\"standoff\":15},\"zerolinecolor\":\"white\",\"automargin\":true,\"zerolinewidth\":2},\"yaxis\":{\"gridcolor\":\"white\",\"linecolor\":\"white\",\"ticks\":\"\",\"title\":{\"standoff\":15},\"zerolinecolor\":\"white\",\"automargin\":true,\"zerolinewidth\":2},\"scene\":{\"xaxis\":{\"backgroundcolor\":\"#E5ECF6\",\"gridcolor\":\"white\",\"linecolor\":\"white\",\"showbackground\":true,\"ticks\":\"\",\"zerolinecolor\":\"white\",\"gridwidth\":2},\"yaxis\":{\"backgroundcolor\":\"#E5ECF6\",\"gridcolor\":\"white\",\"linecolor\":\"white\",\"showbackground\":true,\"ticks\":\"\",\"zerolinecolor\":\"white\",\"gridwidth\":2},\"zaxis\":{\"backgroundcolor\":\"#E5ECF6\",\"gridcolor\":\"white\",\"linecolor\":\"white\",\"showbackground\":true,\"ticks\":\"\",\"zerolinecolor\":\"white\",\"gridwidth\":2}},\"shapedefaults\":{\"line\":{\"color\":\"#2a3f5f\"}},\"annotationdefaults\":{\"arrowcolor\":\"#2a3f5f\",\"arrowhead\":0,\"arrowwidth\":1},\"geo\":{\"bgcolor\":\"white\",\"landcolor\":\"#E5ECF6\",\"subunitcolor\":\"white\",\"showland\":true,\"showlakes\":true,\"lakecolor\":\"white\"},\"title\":{\"x\":0.05},\"mapbox\":{\"style\":\"light\"}}},\"xaxis\":{\"anchor\":\"y\",\"domain\":[0.0,0.103125],\"title\":{\"text\":\"drop_conv2\"}},\"yaxis\":{\"anchor\":\"x\",\"domain\":[0.0,1.0],\"title\":{\"text\":\"Objective Value\"}},\"xaxis2\":{\"anchor\":\"y2\",\"domain\":[0.128125,0.23124999999999998],\"title\":{\"text\":\"drop_fc1\"}},\"yaxis2\":{\"anchor\":\"x2\",\"domain\":[0.0,1.0],\"matches\":\"y\",\"showticklabels\":false},\"xaxis3\":{\"anchor\":\"y3\",\"domain\":[0.25625,0.359375],\"title\":{\"text\":\"lr\"},\"type\":\"log\"},\"yaxis3\":{\"anchor\":\"x3\",\"domain\":[0.0,1.0],\"matches\":\"y\",\"showticklabels\":false},\"xaxis4\":{\"anchor\":\"y4\",\"domain\":[0.38437499999999997,0.48749999999999993],\"title\":{\"text\":\"num_conv_layers\"}},\"yaxis4\":{\"anchor\":\"x4\",\"domain\":[0.0,1.0],\"matches\":\"y\",\"showticklabels\":false},\"xaxis5\":{\"anchor\":\"y5\",\"domain\":[0.5125,0.615625],\"title\":{\"text\":\"num_filter_0\"}},\"yaxis5\":{\"anchor\":\"x5\",\"domain\":[0.0,1.0],\"matches\":\"y\",\"showticklabels\":false},\"xaxis6\":{\"anchor\":\"y6\",\"domain\":[0.640625,0.74375],\"title\":{\"text\":\"num_filter_1\"}},\"yaxis6\":{\"anchor\":\"x6\",\"domain\":[0.0,1.0],\"matches\":\"y\",\"showticklabels\":false},\"xaxis7\":{\"anchor\":\"y7\",\"domain\":[0.76875,0.8718750000000001],\"title\":{\"text\":\"num_neurons\"}},\"yaxis7\":{\"anchor\":\"x7\",\"domain\":[0.0,1.0],\"matches\":\"y\",\"showticklabels\":false},\"xaxis8\":{\"anchor\":\"y8\",\"domain\":[0.8968750000000001,1.0],\"title\":{\"text\":\"optimizer\"},\"type\":\"category\",\"categoryorder\":\"array\",\"categoryarray\":[\"Adam\",\"RMSprop\",\"SGD\"]},\"yaxis8\":{\"anchor\":\"x8\",\"domain\":[0.0,1.0],\"matches\":\"y\",\"showticklabels\":false},\"title\":{\"text\":\"Slice Plot\"},\"width\":2400},                        {\"responsive\": true}                    ).then(function(){\n",
              "                            \n",
              "var gd = document.getElementById('cb3422c3-d3ed-43c4-85ed-c6dbc643e565');\n",
              "var x = new MutationObserver(function (mutations, observer) {{\n",
              "        var display = window.getComputedStyle(gd).display;\n",
              "        if (!display || display === 'none') {{\n",
              "            console.log([gd, 'removed!']);\n",
              "            Plotly.purge(gd);\n",
              "            observer.disconnect();\n",
              "        }}\n",
              "}});\n",
              "\n",
              "// Listen for the removal of the full notebook cells\n",
              "var notebookContainer = gd.closest('#notebook-container');\n",
              "if (notebookContainer) {{\n",
              "    x.observe(notebookContainer, {childList: true});\n",
              "}}\n",
              "\n",
              "// Listen for the clearing of the current output cell\n",
              "var outputEl = gd.closest('.output');\n",
              "if (outputEl) {{\n",
              "    x.observe(outputEl, {childList: true});\n",
              "}}\n",
              "\n",
              "                        })                };                            </script>        </div>\n",
              "</body>\n",
              "</html>"
            ]
          },
          "metadata": {}
        }
      ]
    },
    {
      "cell_type": "code",
      "source": [
        "optuna.visualization.plot_param_importances(study)"
      ],
      "metadata": {
        "id": "BU-o4Unjqxze",
        "outputId": "1544630f-bea4-4ab0-b8b6-dbe16e78f041",
        "colab": {
          "base_uri": "https://localhost:8080/",
          "height": 542
        }
      },
      "execution_count": null,
      "outputs": [
        {
          "output_type": "display_data",
          "data": {
            "text/html": [
              "<html>\n",
              "<head><meta charset=\"utf-8\" /></head>\n",
              "<body>\n",
              "    <div>            <script src=\"https://cdnjs.cloudflare.com/ajax/libs/mathjax/2.7.5/MathJax.js?config=TeX-AMS-MML_SVG\"></script><script type=\"text/javascript\">if (window.MathJax && window.MathJax.Hub && window.MathJax.Hub.Config) {window.MathJax.Hub.Config({SVG: {font: \"STIX-Web\"}});}</script>                <script type=\"text/javascript\">window.PlotlyConfig = {MathJaxConfig: 'local'};</script>\n",
              "        <script charset=\"utf-8\" src=\"https://cdn.plot.ly/plotly-2.24.1.min.js\"></script>                <div id=\"f398b05a-a327-4211-8e69-65fd7b33fca1\" class=\"plotly-graph-div\" style=\"height:525px; width:100%;\"></div>            <script type=\"text/javascript\">                                    window.PLOTLYENV=window.PLOTLYENV || {};                                    if (document.getElementById(\"f398b05a-a327-4211-8e69-65fd7b33fca1\")) {                    Plotly.newPlot(                        \"f398b05a-a327-4211-8e69-65fd7b33fca1\",                        [{\"cliponaxis\":false,\"hovertemplate\":[\"num_conv_layers (IntDistribution): 0.006660100365334922\\u003cextra\\u003e\\u003c\\u002fextra\\u003e\",\"num_neurons (IntDistribution): 0.026944334429223657\\u003cextra\\u003e\\u003c\\u002fextra\\u003e\",\"num_filter_0 (FloatDistribution): 0.039126843121450636\\u003cextra\\u003e\\u003c\\u002fextra\\u003e\",\"drop_conv2 (FloatDistribution): 0.08328075014488921\\u003cextra\\u003e\\u003c\\u002fextra\\u003e\",\"num_filter_1 (FloatDistribution): 0.09230893139874265\\u003cextra\\u003e\\u003c\\u002fextra\\u003e\",\"optimizer (CategoricalDistribution): 0.14799170500648626\\u003cextra\\u003e\\u003c\\u002fextra\\u003e\",\"drop_fc1 (FloatDistribution): 0.22662063096709126\\u003cextra\\u003e\\u003c\\u002fextra\\u003e\",\"lr (FloatDistribution): 0.37706670456678143\\u003cextra\\u003e\\u003c\\u002fextra\\u003e\"],\"name\":\"Objective Value\",\"orientation\":\"h\",\"text\":[\"\\u003c0.01\",\"0.03\",\"0.04\",\"0.08\",\"0.09\",\"0.15\",\"0.23\",\"0.38\"],\"textposition\":\"outside\",\"x\":[0.006660100365334922,0.026944334429223657,0.039126843121450636,0.08328075014488921,0.09230893139874265,0.14799170500648626,0.22662063096709126,0.37706670456678143],\"y\":[\"num_conv_layers\",\"num_neurons\",\"num_filter_0\",\"drop_conv2\",\"num_filter_1\",\"optimizer\",\"drop_fc1\",\"lr\"],\"type\":\"bar\"}],                        {\"title\":{\"text\":\"Hyperparameter Importances\"},\"xaxis\":{\"title\":{\"text\":\"Hyperparameter Importance\"}},\"yaxis\":{\"title\":{\"text\":\"Hyperparameter\"}},\"template\":{\"data\":{\"histogram2dcontour\":[{\"type\":\"histogram2dcontour\",\"colorbar\":{\"outlinewidth\":0,\"ticks\":\"\"},\"colorscale\":[[0.0,\"#0d0887\"],[0.1111111111111111,\"#46039f\"],[0.2222222222222222,\"#7201a8\"],[0.3333333333333333,\"#9c179e\"],[0.4444444444444444,\"#bd3786\"],[0.5555555555555556,\"#d8576b\"],[0.6666666666666666,\"#ed7953\"],[0.7777777777777778,\"#fb9f3a\"],[0.8888888888888888,\"#fdca26\"],[1.0,\"#f0f921\"]]}],\"choropleth\":[{\"type\":\"choropleth\",\"colorbar\":{\"outlinewidth\":0,\"ticks\":\"\"}}],\"histogram2d\":[{\"type\":\"histogram2d\",\"colorbar\":{\"outlinewidth\":0,\"ticks\":\"\"},\"colorscale\":[[0.0,\"#0d0887\"],[0.1111111111111111,\"#46039f\"],[0.2222222222222222,\"#7201a8\"],[0.3333333333333333,\"#9c179e\"],[0.4444444444444444,\"#bd3786\"],[0.5555555555555556,\"#d8576b\"],[0.6666666666666666,\"#ed7953\"],[0.7777777777777778,\"#fb9f3a\"],[0.8888888888888888,\"#fdca26\"],[1.0,\"#f0f921\"]]}],\"heatmap\":[{\"type\":\"heatmap\",\"colorbar\":{\"outlinewidth\":0,\"ticks\":\"\"},\"colorscale\":[[0.0,\"#0d0887\"],[0.1111111111111111,\"#46039f\"],[0.2222222222222222,\"#7201a8\"],[0.3333333333333333,\"#9c179e\"],[0.4444444444444444,\"#bd3786\"],[0.5555555555555556,\"#d8576b\"],[0.6666666666666666,\"#ed7953\"],[0.7777777777777778,\"#fb9f3a\"],[0.8888888888888888,\"#fdca26\"],[1.0,\"#f0f921\"]]}],\"heatmapgl\":[{\"type\":\"heatmapgl\",\"colorbar\":{\"outlinewidth\":0,\"ticks\":\"\"},\"colorscale\":[[0.0,\"#0d0887\"],[0.1111111111111111,\"#46039f\"],[0.2222222222222222,\"#7201a8\"],[0.3333333333333333,\"#9c179e\"],[0.4444444444444444,\"#bd3786\"],[0.5555555555555556,\"#d8576b\"],[0.6666666666666666,\"#ed7953\"],[0.7777777777777778,\"#fb9f3a\"],[0.8888888888888888,\"#fdca26\"],[1.0,\"#f0f921\"]]}],\"contourcarpet\":[{\"type\":\"contourcarpet\",\"colorbar\":{\"outlinewidth\":0,\"ticks\":\"\"}}],\"contour\":[{\"type\":\"contour\",\"colorbar\":{\"outlinewidth\":0,\"ticks\":\"\"},\"colorscale\":[[0.0,\"#0d0887\"],[0.1111111111111111,\"#46039f\"],[0.2222222222222222,\"#7201a8\"],[0.3333333333333333,\"#9c179e\"],[0.4444444444444444,\"#bd3786\"],[0.5555555555555556,\"#d8576b\"],[0.6666666666666666,\"#ed7953\"],[0.7777777777777778,\"#fb9f3a\"],[0.8888888888888888,\"#fdca26\"],[1.0,\"#f0f921\"]]}],\"surface\":[{\"type\":\"surface\",\"colorbar\":{\"outlinewidth\":0,\"ticks\":\"\"},\"colorscale\":[[0.0,\"#0d0887\"],[0.1111111111111111,\"#46039f\"],[0.2222222222222222,\"#7201a8\"],[0.3333333333333333,\"#9c179e\"],[0.4444444444444444,\"#bd3786\"],[0.5555555555555556,\"#d8576b\"],[0.6666666666666666,\"#ed7953\"],[0.7777777777777778,\"#fb9f3a\"],[0.8888888888888888,\"#fdca26\"],[1.0,\"#f0f921\"]]}],\"mesh3d\":[{\"type\":\"mesh3d\",\"colorbar\":{\"outlinewidth\":0,\"ticks\":\"\"}}],\"scatter\":[{\"fillpattern\":{\"fillmode\":\"overlay\",\"size\":10,\"solidity\":0.2},\"type\":\"scatter\"}],\"parcoords\":[{\"type\":\"parcoords\",\"line\":{\"colorbar\":{\"outlinewidth\":0,\"ticks\":\"\"}}}],\"scatterpolargl\":[{\"type\":\"scatterpolargl\",\"marker\":{\"colorbar\":{\"outlinewidth\":0,\"ticks\":\"\"}}}],\"bar\":[{\"error_x\":{\"color\":\"#2a3f5f\"},\"error_y\":{\"color\":\"#2a3f5f\"},\"marker\":{\"line\":{\"color\":\"#E5ECF6\",\"width\":0.5},\"pattern\":{\"fillmode\":\"overlay\",\"size\":10,\"solidity\":0.2}},\"type\":\"bar\"}],\"scattergeo\":[{\"type\":\"scattergeo\",\"marker\":{\"colorbar\":{\"outlinewidth\":0,\"ticks\":\"\"}}}],\"scatterpolar\":[{\"type\":\"scatterpolar\",\"marker\":{\"colorbar\":{\"outlinewidth\":0,\"ticks\":\"\"}}}],\"histogram\":[{\"marker\":{\"pattern\":{\"fillmode\":\"overlay\",\"size\":10,\"solidity\":0.2}},\"type\":\"histogram\"}],\"scattergl\":[{\"type\":\"scattergl\",\"marker\":{\"colorbar\":{\"outlinewidth\":0,\"ticks\":\"\"}}}],\"scatter3d\":[{\"type\":\"scatter3d\",\"line\":{\"colorbar\":{\"outlinewidth\":0,\"ticks\":\"\"}},\"marker\":{\"colorbar\":{\"outlinewidth\":0,\"ticks\":\"\"}}}],\"scattermapbox\":[{\"type\":\"scattermapbox\",\"marker\":{\"colorbar\":{\"outlinewidth\":0,\"ticks\":\"\"}}}],\"scatterternary\":[{\"type\":\"scatterternary\",\"marker\":{\"colorbar\":{\"outlinewidth\":0,\"ticks\":\"\"}}}],\"scattercarpet\":[{\"type\":\"scattercarpet\",\"marker\":{\"colorbar\":{\"outlinewidth\":0,\"ticks\":\"\"}}}],\"carpet\":[{\"aaxis\":{\"endlinecolor\":\"#2a3f5f\",\"gridcolor\":\"white\",\"linecolor\":\"white\",\"minorgridcolor\":\"white\",\"startlinecolor\":\"#2a3f5f\"},\"baxis\":{\"endlinecolor\":\"#2a3f5f\",\"gridcolor\":\"white\",\"linecolor\":\"white\",\"minorgridcolor\":\"white\",\"startlinecolor\":\"#2a3f5f\"},\"type\":\"carpet\"}],\"table\":[{\"cells\":{\"fill\":{\"color\":\"#EBF0F8\"},\"line\":{\"color\":\"white\"}},\"header\":{\"fill\":{\"color\":\"#C8D4E3\"},\"line\":{\"color\":\"white\"}},\"type\":\"table\"}],\"barpolar\":[{\"marker\":{\"line\":{\"color\":\"#E5ECF6\",\"width\":0.5},\"pattern\":{\"fillmode\":\"overlay\",\"size\":10,\"solidity\":0.2}},\"type\":\"barpolar\"}],\"pie\":[{\"automargin\":true,\"type\":\"pie\"}]},\"layout\":{\"autotypenumbers\":\"strict\",\"colorway\":[\"#636efa\",\"#EF553B\",\"#00cc96\",\"#ab63fa\",\"#FFA15A\",\"#19d3f3\",\"#FF6692\",\"#B6E880\",\"#FF97FF\",\"#FECB52\"],\"font\":{\"color\":\"#2a3f5f\"},\"hovermode\":\"closest\",\"hoverlabel\":{\"align\":\"left\"},\"paper_bgcolor\":\"white\",\"plot_bgcolor\":\"#E5ECF6\",\"polar\":{\"bgcolor\":\"#E5ECF6\",\"angularaxis\":{\"gridcolor\":\"white\",\"linecolor\":\"white\",\"ticks\":\"\"},\"radialaxis\":{\"gridcolor\":\"white\",\"linecolor\":\"white\",\"ticks\":\"\"}},\"ternary\":{\"bgcolor\":\"#E5ECF6\",\"aaxis\":{\"gridcolor\":\"white\",\"linecolor\":\"white\",\"ticks\":\"\"},\"baxis\":{\"gridcolor\":\"white\",\"linecolor\":\"white\",\"ticks\":\"\"},\"caxis\":{\"gridcolor\":\"white\",\"linecolor\":\"white\",\"ticks\":\"\"}},\"coloraxis\":{\"colorbar\":{\"outlinewidth\":0,\"ticks\":\"\"}},\"colorscale\":{\"sequential\":[[0.0,\"#0d0887\"],[0.1111111111111111,\"#46039f\"],[0.2222222222222222,\"#7201a8\"],[0.3333333333333333,\"#9c179e\"],[0.4444444444444444,\"#bd3786\"],[0.5555555555555556,\"#d8576b\"],[0.6666666666666666,\"#ed7953\"],[0.7777777777777778,\"#fb9f3a\"],[0.8888888888888888,\"#fdca26\"],[1.0,\"#f0f921\"]],\"sequentialminus\":[[0.0,\"#0d0887\"],[0.1111111111111111,\"#46039f\"],[0.2222222222222222,\"#7201a8\"],[0.3333333333333333,\"#9c179e\"],[0.4444444444444444,\"#bd3786\"],[0.5555555555555556,\"#d8576b\"],[0.6666666666666666,\"#ed7953\"],[0.7777777777777778,\"#fb9f3a\"],[0.8888888888888888,\"#fdca26\"],[1.0,\"#f0f921\"]],\"diverging\":[[0,\"#8e0152\"],[0.1,\"#c51b7d\"],[0.2,\"#de77ae\"],[0.3,\"#f1b6da\"],[0.4,\"#fde0ef\"],[0.5,\"#f7f7f7\"],[0.6,\"#e6f5d0\"],[0.7,\"#b8e186\"],[0.8,\"#7fbc41\"],[0.9,\"#4d9221\"],[1,\"#276419\"]]},\"xaxis\":{\"gridcolor\":\"white\",\"linecolor\":\"white\",\"ticks\":\"\",\"title\":{\"standoff\":15},\"zerolinecolor\":\"white\",\"automargin\":true,\"zerolinewidth\":2},\"yaxis\":{\"gridcolor\":\"white\",\"linecolor\":\"white\",\"ticks\":\"\",\"title\":{\"standoff\":15},\"zerolinecolor\":\"white\",\"automargin\":true,\"zerolinewidth\":2},\"scene\":{\"xaxis\":{\"backgroundcolor\":\"#E5ECF6\",\"gridcolor\":\"white\",\"linecolor\":\"white\",\"showbackground\":true,\"ticks\":\"\",\"zerolinecolor\":\"white\",\"gridwidth\":2},\"yaxis\":{\"backgroundcolor\":\"#E5ECF6\",\"gridcolor\":\"white\",\"linecolor\":\"white\",\"showbackground\":true,\"ticks\":\"\",\"zerolinecolor\":\"white\",\"gridwidth\":2},\"zaxis\":{\"backgroundcolor\":\"#E5ECF6\",\"gridcolor\":\"white\",\"linecolor\":\"white\",\"showbackground\":true,\"ticks\":\"\",\"zerolinecolor\":\"white\",\"gridwidth\":2}},\"shapedefaults\":{\"line\":{\"color\":\"#2a3f5f\"}},\"annotationdefaults\":{\"arrowcolor\":\"#2a3f5f\",\"arrowhead\":0,\"arrowwidth\":1},\"geo\":{\"bgcolor\":\"white\",\"landcolor\":\"#E5ECF6\",\"subunitcolor\":\"white\",\"showland\":true,\"showlakes\":true,\"lakecolor\":\"white\"},\"title\":{\"x\":0.05},\"mapbox\":{\"style\":\"light\"}}}},                        {\"responsive\": true}                    ).then(function(){\n",
              "                            \n",
              "var gd = document.getElementById('f398b05a-a327-4211-8e69-65fd7b33fca1');\n",
              "var x = new MutationObserver(function (mutations, observer) {{\n",
              "        var display = window.getComputedStyle(gd).display;\n",
              "        if (!display || display === 'none') {{\n",
              "            console.log([gd, 'removed!']);\n",
              "            Plotly.purge(gd);\n",
              "            observer.disconnect();\n",
              "        }}\n",
              "}});\n",
              "\n",
              "// Listen for the removal of the full notebook cells\n",
              "var notebookContainer = gd.closest('#notebook-container');\n",
              "if (notebookContainer) {{\n",
              "    x.observe(notebookContainer, {childList: true});\n",
              "}}\n",
              "\n",
              "// Listen for the clearing of the current output cell\n",
              "var outputEl = gd.closest('.output');\n",
              "if (outputEl) {{\n",
              "    x.observe(outputEl, {childList: true});\n",
              "}}\n",
              "\n",
              "                        })                };                            </script>        </div>\n",
              "</body>\n",
              "</html>"
            ]
          },
          "metadata": {}
        }
      ]
    },
    {
      "cell_type": "code",
      "execution_count": null,
      "metadata": {
        "id": "n8X09lvPW7C0"
      },
      "outputs": [],
      "source": [
        "import torch                                        # Librería para aprendizaje profundo\n",
        "import torch.nn as nn                               # Contiene módulos para construir redes neuronales\n",
        "import torch.optim as optim                         # Contiene optimizadores para entrenar redes neuronales\n",
        "import torchvision                                  # Librería para datasets y transformaciones de visión computacional\n",
        "import torchvision.transforms as transforms         # Contiene funciones para preprocesar imágenes\n",
        "import optuna                                       # Librería para optimización hiperparámetros\n",
        "\n",
        "# Define la arquitectura de la CNN (Red Neuronal Convolucional)\n",
        "class CNN(nn.Module):\n",
        "    def __init__(self, trial):\n",
        "        super(CNN, self).__init__()\n",
        "        # Capa de convolución 1 con número de filtros variable\n",
        "        self.conv1 = nn.Conv2d(1, trial.suggest_int('n_filters1', 16, 64), kernel_size=3, stride=1)\n",
        "        # Capa de convolución 2 con número de filtros variable, dependiendo de la salida de la capa anterior\n",
        "        self.conv2 = nn.Conv2d(trial.suggest_int('n_filters1', 16, 64), trial.suggest_int('n_filters2', 32, 128), kernel_size=3, stride=1)\n",
        "        # Capa totalmente conectada (fully connected) con número de unidades variable\n",
        "        self.fc1 = nn.Linear(trial.suggest_int('n_filters2', 32, 128) * 5 * 5, trial.suggest_int('n_units', 64, 256))\n",
        "        # Capa de salida con 10 unidades para clasificar en las 10 clases de MNIST\n",
        "        self.fc2 = nn.Linear(trial.suggest_int('n_units', 64, 256), 10)\n",
        "\n",
        "    def forward(self, x):\n",
        "        # Operaciones en la propagación hacia adelante\n",
        "        x = self.conv1(x)\n",
        "        x = torch.relu(x)  # Función de activación ReLU (introducir no linealidades en los datos)\n",
        "        x = torch.max_pool2d(x, 2)  # Max pooling con tamaño de kernel 2x2\n",
        "        x = self.conv2(x)\n",
        "        x = torch.relu(x)\n",
        "        x = torch.max_pool2d(x, 2)\n",
        "        x = torch.flatten(x, 1)  # Aplanar la salida para la capa totalmente conectada\n",
        "        x = self.fc1(x)\n",
        "        x = torch.relu(x)\n",
        "        x = self.fc2(x)\n",
        "        return x\n",
        "\n",
        "# Cargar el conjunto de datos MNIST\n",
        "transform = transforms.Compose([\n",
        "    transforms.ToTensor(),  # Convertir las imágenes a tensores\n",
        "    transforms.Normalize((0.5,), (0.5,))  # Normalizar los valores de píxeles\n",
        "])\n",
        "\n",
        "trainset = torchvision.datasets.MNIST(root='./data', train=True, download=True, transform=transform)\n",
        "# Dividir el conjunto de datos de entrenamiento en entrenamiento y validación\n",
        "trainset, valset = torch.utils.data.random_split(trainset, [54000, 6000])\n",
        "trainloader = torch.utils.data.DataLoader(trainset, batch_size=64, shuffle=True)\n",
        "valloader = torch.utils.data.DataLoader(valset, batch_size=64, shuffle=True)\n",
        "\n",
        "testset = torchvision.datasets.MNIST(root='./data', train=False, download=True, transform=transform)\n",
        "testloader = torch.utils.data.DataLoader(testset, batch_size=64, shuffle=False)\n",
        "\n",
        "# Definir la función objetivo para Optuna\n",
        "def objective(trial):\n",
        "  n_estima\n",
        "\n",
        "    model = CNN(trial)\n",
        "    criterion = nn.CrossEntropyLoss()  # Función de pérdida para problemas de clasificación\n",
        "    optimizer = optim.Adam(model.parameters(), lr=trial.suggest_float('lr', 1e-5, 1e-1, log=True))  # Optimizador Adam con tasa de aprendizaje variable\n",
        "    num_epochs = 5\n",
        "\n",
        "    for epoch in range(num_epochs):\n",
        "        running_loss = 0.0\n",
        "        for i, data in enumerate(trainloader, 0):\n",
        "            inputs, labels = data\n",
        "            optimizer.zero_grad()               # Reiniciar los gradientes acumulados\n",
        "            outputs = model(inputs)             # Propagación hacia adelante\n",
        "            loss = criterion(outputs, labels)   # Calcular la pérdida\n",
        "            loss.backward()                     # Retropropagación\n",
        "            optimizer.step()                    # Actualización de los pesos\n",
        "\n",
        "            running_loss += loss.item()\n",
        "\n",
        "    # Evaluación del modelo en el conjunto de validación\n",
        "    correct = 0\n",
        "    total = 0\n",
        "    with torch.no_grad():\n",
        "        for data in valloader:\n",
        "            images, labels = data\n",
        "            outputs = model(images)\n",
        "            _, predicted = torch.max(outputs.data, 1)  # Obtener las predicciones\n",
        "            total += labels.size(0)\n",
        "            correct += (predicted == labels).sum().item()\n",
        "\n",
        "    accuracy = correct / total\n",
        "    return accuracy\n",
        "\n",
        "# Ejecutar la optimización de Optuna\n",
        "study = optuna.create_study(direction='maximize')\n",
        "study.optimize(objective, n_trials=10)\n",
        "\n",
        "print('Número de pruebas finalizadas:', len(study.trials))\n",
        "print('Mejor prueba:')\n",
        "trial = study.best_trial\n",
        "print('  Valor: {}'.format(trial.value))\n",
        "print('  Parámetros: ')\n",
        "for key, value in trial.params.items():\n",
        "    print('    {}: {}'.format(key, value))"
      ]
    },
    {
      "cell_type": "markdown",
      "metadata": {
        "id": "pTn7sbd1YHUg"
      },
      "source": [
        "# Optimizador Optuna Elena\n",
        "\n",
        "[Optuna-optimization-for-PyTorch-CNN](https://github.com/elena-ecn/optuna-optimization-for-PyTorch-CNN/blob/main/optuna_optimization.py#L179)\n",
        "\n",
        "El conjunto de datos MNIST contiene **60.000** imágenes de **entrenamiento** y **10.000** imágenes de **prueba**.\n",
        "donde cada muestra es una imagen pequeña, cuadrada, en escala de grises de **28 × 28** píxeles de\n",
        "dígitos únicos escritos a mano entre 0 y 9.\n",
        "\n",
        "Los hiperparámetros de CNN elegidos para optimizar son:\n",
        "\n",
        "\n",
        "*   Tipo de optimizador\n",
        "*   Tasa de aprendizaje\n",
        "*   Valores de abandono\n",
        "*   Número de capas convolucionales\n",
        "*   Número de filtros de capas convolucionales\n",
        "*   Número de neuronas de capas completamente conectadas.\n",
        "\n"
      ]
    },
    {
      "cell_type": "code",
      "execution_count": null,
      "metadata": {
        "id": "Q4qqlP5VYrGV"
      },
      "outputs": [],
      "source": [
        "!pip install optuna"
      ]
    },
    {
      "cell_type": "code",
      "execution_count": null,
      "metadata": {
        "id": "2G7m3pOnq8ka"
      },
      "outputs": [],
      "source": [
        "import os                               # Importa el módulo os para interactuar con el sistema operativo\n",
        "import torch                            # Importa PyTorch\n",
        "import torchvision                      # Importa torchvision para trabajar con conjuntos de datos y modelos preentrenados\n",
        "import torch.nn as nn                   # Importa el módulo nn (neural network) de PyTorch para definir redes neuronales\n",
        "import torch.nn.functional as F         # Importa funciones de activación y pérdida de PyTorch\n",
        "import torch.optim as optim             # Importa optimizadores de PyTorch\n",
        "import optuna                           # Importa Optuna para la optimización de hiperparámetros\n",
        "from optuna.trial import TrialState     # Importa TrialState para el estado de las pruebas en Optuna"
      ]
    },
    {
      "cell_type": "code",
      "execution_count": null,
      "metadata": {
        "id": "uP1oLxX3Yrsr"
      },
      "outputs": [],
      "source": [
        "class Net(nn.Module):\n",
        "    def __init__(self, trial, num_conv_layers, num_filters, num_neurons, drop_conv2, drop_fc1):\n",
        "        \"\"\"\n",
        "        Parámetros:\n",
        "            - trial (optuna.trial._trial.Trial): Prueba de Optuna\n",
        "            - num_conv_layers (int):             Número de capas convolucionales\n",
        "            - num_filters (list):                Número de filtros de las capas convolucionales\n",
        "            - num_neurons (int):                 Número de neuronas de las capas totalmente conectadas\n",
        "            - drop_conv2 (float):                Ratio de dropout para la capa convolucional 2\n",
        "            - drop_fc1 (float):                  Ratio de dropout para FC1\n",
        "        \"\"\"\n",
        "        super(Net, self).__init__()                                                     # Inicializa la clase padre\n",
        "        in_size = 28                                                                    # Tamaño de la imagen de entrada (28 píxeles)\n",
        "        kernel_size = 3                                                                 # Tamaño del filtro de convolución\n",
        "\n",
        "        # Define las capas convolucionales\n",
        "        self.convs = nn.ModuleList([nn.Conv2d(1, num_filters[0], kernel_size=(3, 3))])  # Lista con las capas convolucionales\n",
        "        out_size = in_size - kernel_size + 1                                            # Tamaño del kernel de salida\n",
        "        out_size = int(out_size / 2)                                                    # Tamaño después del max-pooling\n",
        "        for i in range(1, num_conv_layers):\n",
        "            self.convs.append(nn.Conv2d(in_channels=num_filters[i-1], out_channels=num_filters[i], kernel_size=(3, 3)))\n",
        "            out_size = out_size - kernel_size + 1                                       # Tamaño del kernel de salida\n",
        "            out_size = int(out_size/2)                                                  # Tamaño después del max-pooling\n",
        "\n",
        "        self.conv2_drop = nn.Dropout2d(p=drop_conv2)                                    # Dropout para conv2\n",
        "        self.out_feature = num_filters[num_conv_layers-1] * out_size * out_size         # Tamaño de las características aplanadas\n",
        "        self.fc1 = nn.Linear(self.out_feature, num_neurons)                             # Capa totalmente conectada 1\n",
        "        self.fc2 = nn.Linear(num_neurons, 10)                                           # Capa totalmente conectada 2\n",
        "        self.p1 = drop_fc1                                                              # Ratio de dropout para FC1\n",
        "\n",
        "        # Inicializa los pesos con la inicialización de He\n",
        "        for i in range(1, num_conv_layers):\n",
        "            nn.init.kaiming_normal_(self.convs[i].weight, nonlinearity='relu')\n",
        "            if self.convs[i].bias is not None:\n",
        "                nn.init.constant_(self.convs[i].bias, 0)\n",
        "        nn.init.kaiming_normal_(self.fc1.weight, nonlinearity='relu')\n",
        "\n",
        "    def forward(self, x):\n",
        "        \"\"\"Propagación hacia adelante.\n",
        "\n",
        "        Parámetros:\n",
        "            - x (torch.Tensor): Tensor de entrada de tamaño [N,1,28,28]\n",
        "        Devuelve:\n",
        "            - (torch.Tensor): El tensor de salida después de la propagación hacia adelante [N,10]\n",
        "        \"\"\"\n",
        "        for i, conv_i in enumerate(self.convs):  # Para cada capa convolucional\n",
        "            if i == 2:  # Añade dropout si es la capa 2\n",
        "                x = F.relu(F.max_pool2d(self.conv2_drop(conv_i(x)), 2))  # Conv_i, dropout, max-pooling, RelU\n",
        "            else:\n",
        "                x = F.relu(F.max_pool2d(conv_i(x), 2))                   # Conv_i, max-pooling, RelU\n",
        "\n",
        "        x = x.view(-1, self.out_feature)                                 # Aplana el tensor\n",
        "        x = F.relu(self.fc1(x))                                          # FC1, RelU\n",
        "        x = F.dropout(x, p=self.p1, training=self.training)              # Aplica dropout después de FC1 solo durante el entrenamiento\n",
        "        x = self.fc2(x)                                                  # FC2\n",
        "\n",
        "        return F.log_softmax(x, dim=1)                                   # log(softmax(x))\n"
      ]
    },
    {
      "cell_type": "code",
      "execution_count": null,
      "metadata": {
        "id": "5OXbprGCgjcL"
      },
      "outputs": [],
      "source": [
        "def train(network, optimizer):\n",
        "    \"\"\"\n",
        "    Entrena el modelo.\n",
        "\n",
        "    Parámetros:\n",
        "        - red (__main__.Net):                      La CNN\n",
        "        - optimizador (torch.optim.<optimizador>): El optimizador para la CNN\n",
        "    \"\"\"\n",
        "    network.train()  # Establece el módulo en modo de entrenamiento (afecta solo ciertos módulos)\n",
        "    for batch_i, (data, target) in enumerate(train_loader):  # Para cada lote\n",
        "\n",
        "        # Limita los datos de entrenamiento para una computación más rápida\n",
        "        if batch_i * batch_size_train > number_of_train_examples:\n",
        "            break\n",
        "\n",
        "        optimizer.zero_grad()                                 # Borra los gradientes\n",
        "        output = network(data.to(device))                     # Propagación hacia adelante\n",
        "        loss = F.nll_loss(output, target.to(device))          # Calcula la pérdida (negative log likelihood: −log(y))\n",
        "        loss.backward()                                       # Calcula los gradientes\n",
        "        optimizer.step()                                      # Actualiza los pesos\n"
      ]
    },
    {
      "cell_type": "code",
      "execution_count": null,
      "metadata": {
        "id": "-vFp2NDzg1fN"
      },
      "outputs": [],
      "source": [
        "def test(network):\n",
        "    \"\"\"\n",
        "    Evalúa el modelo.\n",
        "\n",
        "    Parámetros:\n",
        "        - red (__main__.Net): La CNN\n",
        "\n",
        "    Devuelve:\n",
        "        - accuracy_test (torch.Tensor): La precisión de la prueba\n",
        "    \"\"\"\n",
        "    network.eval()         # Establece el módulo en modo de evaluación (afecta solo ciertos módulos)\n",
        "    correct = 0\n",
        "    with torch.no_grad():  # Deshabilita el cálculo de gradientes (cuando estás seguro de que no llamarás a Tensor.backward())\n",
        "        for batch_i, (data, target) in enumerate(test_loader):  # Para cada lote\n",
        "\n",
        "            # Limita los datos de prueba para una computación más rápida\n",
        "            if batch_i * batch_size_test > number_of_test_examples:\n",
        "                break\n",
        "\n",
        "            output = network(data.to(device))                                     # Propagación hacia adelante\n",
        "            pred = output.data.max(1, keepdim=True)[1]                            # Encuentra el valor máximo en cada fila, devuelve los índices de los valores máximos\n",
        "            correct += pred.eq(target.to(device).data.view_as(pred)).sum()        # Calcula las predicciones correctas\n",
        "\n",
        "    accuracy_test = correct / len(test_loader.dataset)\n",
        "\n",
        "    return accuracy_test\n"
      ]
    },
    {
      "cell_type": "code",
      "execution_count": null,
      "metadata": {
        "id": "glgDHgrnAqFT"
      },
      "outputs": [],
      "source": [
        "def objective(trial):\n",
        "    \"\"\"Función objetivo a ser optimizada por Optuna.\n",
        "\n",
        "    Hiperparámetros elegidos para ser optimizados: optimizador, tasa de aprendizaje,\n",
        "    valores de dropout, número de capas convolucionales, número de filtros de las\n",
        "    capas convolucionales, número de neuronas de las capas totalmente conectadas.\n",
        "\n",
        "    Entradas:\n",
        "        - trial (optuna.trial._trial.Trial): Prueba de Optuna\n",
        "    Devuelve:\n",
        "        - accuracy (torch.Tensor): La precisión de la prueba. Parámetro a maximizar.\n",
        "    \"\"\"\n",
        "\n",
        "    # Define el rango de valores a probar para los hiperparámetros\n",
        "    num_conv_layers = trial.suggest_int(\"num_conv_layers\", 2, 3)  # Número de capas convolucionales\n",
        "    num_filters = [int(trial.suggest_discrete_uniform(\"num_filter_\"+str(i), 16, 128, 16))\n",
        "                   for i in range(num_conv_layers)]               # Número de filtros para las capas convolucionales\n",
        "    num_neurons = trial.suggest_int(\"num_neurons\", 10, 400, 10)   # Número de neuronas de la capa FC1\n",
        "    drop_conv2 = trial.suggest_float(\"drop_conv2\", 0.2, 0.5)      # Dropout para la capa convolucional 2\n",
        "    drop_fc1 = trial.suggest_float(\"drop_fc1\", 0.2, 0.5)          # Dropout para la capa FC1\n",
        "\n",
        "    # Genera el modelo\n",
        "    model = Net(trial, num_conv_layers, num_filters, num_neurons, drop_conv2,  drop_fc1).to(device)\n",
        "\n",
        "    # Genera los optimizadores\n",
        "    optimizer_name = trial.suggest_categorical(\"optimizer\", [\"Adam\", \"RMSprop\", \"SGD\"])  # Optimizadores\n",
        "    lr = trial.suggest_float(\"lr\", 1e-5, 1e-1, log=True)                                 # Tasas de aprendizaje\n",
        "    optimizer = getattr(optim, optimizer_name)(model.parameters(), lr=lr)\n",
        "\n",
        "    # Entrenamiento del modelo\n",
        "    for epoch in range(n_epochs):\n",
        "        train(model, optimizer)  # Entrena el modelo\n",
        "        accuracy = test(model)   # Evalúa el modelo\n",
        "\n",
        "        # Para la poda (detiene la prueba temprano si no es prometedora)\n",
        "        trial.report(accuracy, epoch)\n",
        "        # Maneja la poda basada en el valor intermedio.\n",
        "        if trial.should_prune():\n",
        "            raise optuna.exceptions.TrialPruned()\n",
        "\n",
        "    return accuracy"
      ]
    },
    {
      "cell_type": "code",
      "execution_count": null,
      "metadata": {
        "colab": {
          "background_save": true,
          "base_uri": "https://localhost:8080/"
        },
        "id": "oHwEWLshA2Z5",
        "outputId": "dc5f809d-f22c-4a34-cd77-67930d2af962"
      },
      "outputs": [
        {
          "name": "stdout",
          "output_type": "stream",
          "text": [
            "Downloading http://yann.lecun.com/exdb/mnist/train-images-idx3-ubyte.gz\n",
            "Failed to download (trying next):\n",
            "HTTP Error 403: Forbidden\n",
            "\n",
            "Downloading https://ossci-datasets.s3.amazonaws.com/mnist/train-images-idx3-ubyte.gz\n",
            "Downloading https://ossci-datasets.s3.amazonaws.com/mnist/train-images-idx3-ubyte.gz to /files/MNIST/raw/train-images-idx3-ubyte.gz\n"
          ]
        },
        {
          "name": "stderr",
          "output_type": "stream",
          "text": [
            "100%|██████████| 9912422/9912422 [00:01<00:00, 5444301.23it/s]\n"
          ]
        },
        {
          "name": "stdout",
          "output_type": "stream",
          "text": [
            "Extracting /files/MNIST/raw/train-images-idx3-ubyte.gz to /files/MNIST/raw\n",
            "\n",
            "Downloading http://yann.lecun.com/exdb/mnist/train-labels-idx1-ubyte.gz\n",
            "Failed to download (trying next):\n",
            "HTTP Error 403: Forbidden\n",
            "\n",
            "Downloading https://ossci-datasets.s3.amazonaws.com/mnist/train-labels-idx1-ubyte.gz\n",
            "Downloading https://ossci-datasets.s3.amazonaws.com/mnist/train-labels-idx1-ubyte.gz to /files/MNIST/raw/train-labels-idx1-ubyte.gz\n"
          ]
        },
        {
          "name": "stderr",
          "output_type": "stream",
          "text": [
            "100%|██████████| 28881/28881 [00:00<00:00, 160017.98it/s]\n"
          ]
        },
        {
          "name": "stdout",
          "output_type": "stream",
          "text": [
            "Extracting /files/MNIST/raw/train-labels-idx1-ubyte.gz to /files/MNIST/raw\n",
            "\n",
            "Downloading http://yann.lecun.com/exdb/mnist/t10k-images-idx3-ubyte.gz\n",
            "Failed to download (trying next):\n",
            "HTTP Error 403: Forbidden\n",
            "\n",
            "Downloading https://ossci-datasets.s3.amazonaws.com/mnist/t10k-images-idx3-ubyte.gz\n",
            "Downloading https://ossci-datasets.s3.amazonaws.com/mnist/t10k-images-idx3-ubyte.gz to /files/MNIST/raw/t10k-images-idx3-ubyte.gz\n"
          ]
        },
        {
          "name": "stderr",
          "output_type": "stream",
          "text": [
            "100%|██████████| 1648877/1648877 [00:04<00:00, 393172.39it/s]\n"
          ]
        },
        {
          "name": "stdout",
          "output_type": "stream",
          "text": [
            "Extracting /files/MNIST/raw/t10k-images-idx3-ubyte.gz to /files/MNIST/raw\n",
            "\n",
            "Downloading http://yann.lecun.com/exdb/mnist/t10k-labels-idx1-ubyte.gz\n",
            "Failed to download (trying next):\n",
            "HTTP Error 403: Forbidden\n",
            "\n",
            "Downloading https://ossci-datasets.s3.amazonaws.com/mnist/t10k-labels-idx1-ubyte.gz\n",
            "Downloading https://ossci-datasets.s3.amazonaws.com/mnist/t10k-labels-idx1-ubyte.gz to /files/MNIST/raw/t10k-labels-idx1-ubyte.gz\n"
          ]
        },
        {
          "name": "stderr",
          "output_type": "stream",
          "text": [
            "100%|██████████| 4542/4542 [00:00<00:00, 4292593.23it/s]\n",
            "[I 2024-05-07 17:09:26,506] A new study created in memory with name: no-name-123ea2a7-cc3a-482b-b37c-b19f3f9d1e36\n",
            "<ipython-input-7-67589e027cdb>:16: FutureWarning: suggest_discrete_uniform has been deprecated in v3.0.0. This feature will be removed in v6.0.0. See https://github.com/optuna/optuna/releases/tag/v3.0.0. Use suggest_float(..., step=...) instead.\n",
            "  num_filters = [int(trial.suggest_discrete_uniform(\"num_filter_\"+str(i), 16, 128, 16))\n",
            "<ipython-input-7-67589e027cdb>:18: FutureWarning: suggest_int() got {'step'} as positional arguments but they were expected to be given as keyword arguments.\n",
            "  num_neurons = trial.suggest_int(\"num_neurons\", 10, 400, 10)  # Número de neuronas de la capa FC1\n"
          ]
        },
        {
          "name": "stdout",
          "output_type": "stream",
          "text": [
            "Extracting /files/MNIST/raw/t10k-labels-idx1-ubyte.gz to /files/MNIST/raw\n",
            "\n"
          ]
        },
        {
          "name": "stderr",
          "output_type": "stream",
          "text": [
            "[I 2024-05-07 17:27:21,348] Trial 0 finished with value: 0.48919999599456787 and parameters: {'num_conv_layers': 2, 'num_filter_0': 128.0, 'num_filter_1': 128.0, 'num_neurons': 340, 'drop_conv2': 0.21439508970072876, 'drop_fc1': 0.409350471900658, 'optimizer': 'SGD', 'lr': 4.735407160810673e-05}. Best is trial 0 with value: 0.48919999599456787.\n",
            "[I 2024-05-07 17:37:19,810] Trial 1 finished with value: 0.595300018787384 and parameters: {'num_conv_layers': 2, 'num_filter_0': 112.0, 'num_filter_1': 48.0, 'num_neurons': 360, 'drop_conv2': 0.3637459814288115, 'drop_fc1': 0.36470795939010936, 'optimizer': 'Adam', 'lr': 0.0008584929846386581}. Best is trial 1 with value: 0.595300018787384.\n",
            "[I 2024-05-07 17:45:10,827] Trial 2 finished with value: 0.5598999857902527 and parameters: {'num_conv_layers': 3, 'num_filter_0': 80.0, 'num_filter_1': 48.0, 'num_filter_2': 112.0, 'num_neurons': 380, 'drop_conv2': 0.29614793864676914, 'drop_fc1': 0.3769548775900181, 'optimizer': 'Adam', 'lr': 1.420577204735963e-05}. Best is trial 1 with value: 0.595300018787384.\n",
            "[I 2024-05-07 17:47:49,748] Trial 3 finished with value: 0.5914999842643738 and parameters: {'num_conv_layers': 2, 'num_filter_0': 16.0, 'num_filter_1': 32.0, 'num_neurons': 290, 'drop_conv2': 0.36518923835495387, 'drop_fc1': 0.2534757834127089, 'optimizer': 'RMSprop', 'lr': 0.006895583476179975}. Best is trial 1 with value: 0.595300018787384.\n",
            "[I 2024-05-07 17:59:50,412] Trial 4 finished with value: 0.5932000279426575 and parameters: {'num_conv_layers': 2, 'num_filter_0': 128.0, 'num_filter_1': 64.0, 'num_neurons': 320, 'drop_conv2': 0.4330365829275203, 'drop_fc1': 0.27775098798956704, 'optimizer': 'RMSprop', 'lr': 7.32614777609411e-05}. Best is trial 1 with value: 0.595300018787384.\n",
            "[I 2024-05-07 18:00:24,749] Trial 5 pruned. \n",
            "[I 2024-05-07 18:01:31,341] Trial 6 pruned. \n",
            "[I 2024-05-07 18:02:49,646] Trial 7 pruned. \n",
            "[I 2024-05-07 18:03:28,431] Trial 8 pruned. \n",
            "[I 2024-05-07 18:04:19,647] Trial 9 pruned. \n",
            "[I 2024-05-07 18:16:06,705] Trial 10 finished with value: 0.5943999886512756 and parameters: {'num_conv_layers': 2, 'num_filter_0': 96.0, 'num_filter_1': 96.0, 'num_neurons': 400, 'drop_conv2': 0.4778284508913528, 'drop_fc1': 0.21227017964763953, 'optimizer': 'Adam', 'lr': 0.0006682581848924286}. Best is trial 1 with value: 0.595300018787384.\n",
            "[I 2024-05-07 18:27:55,017] Trial 11 finished with value: 0.5954999923706055 and parameters: {'num_conv_layers': 2, 'num_filter_0': 96.0, 'num_filter_1': 96.0, 'num_neurons': 400, 'drop_conv2': 0.49920681816314133, 'drop_fc1': 0.2318516934662937, 'optimizer': 'Adam', 'lr': 0.0006600398024524423}. Best is trial 11 with value: 0.5954999923706055.\n",
            "[I 2024-05-07 18:40:10,179] Trial 12 finished with value: 0.5946999788284302 and parameters: {'num_conv_layers': 2, 'num_filter_0': 112.0, 'num_filter_1': 80.0, 'num_neurons': 400, 'drop_conv2': 0.42841445462391153, 'drop_fc1': 0.22108540758700376, 'optimizer': 'Adam', 'lr': 0.0005664536093733146}. Best is trial 11 with value: 0.5954999923706055.\n",
            "[I 2024-05-07 18:46:34,514] Trial 13 finished with value: 0.5939000248908997 and parameters: {'num_conv_layers': 2, 'num_filter_0': 48.0, 'num_filter_1': 80.0, 'num_neurons': 240, 'drop_conv2': 0.4898321347980872, 'drop_fc1': 0.323228450980815, 'optimizer': 'Adam', 'lr': 0.0020965370567537197}. Best is trial 11 with value: 0.5954999923706055.\n",
            "[I 2024-05-07 18:47:42,558] Trial 14 pruned. \n",
            "[I 2024-05-07 18:58:34,476] Trial 15 finished with value: 0.5946000218391418 and parameters: {'num_conv_layers': 2, 'num_filter_0': 112.0, 'num_filter_1': 64.0, 'num_neurons': 340, 'drop_conv2': 0.2777523005114743, 'drop_fc1': 0.44620752002478015, 'optimizer': 'RMSprop', 'lr': 0.0001984886478101404}. Best is trial 11 with value: 0.5954999923706055.\n",
            "[I 2024-05-07 18:59:04,261] Trial 16 pruned. \n",
            "[I 2024-05-07 19:00:01,039] Trial 17 pruned. \n",
            "[I 2024-05-07 19:01:09,483] Trial 18 pruned. \n",
            "[I 2024-05-07 19:01:48,725] Trial 19 pruned. \n",
            "[I 2024-05-07 19:03:00,832] Trial 20 pruned. \n",
            "[I 2024-05-07 19:15:20,294] Trial 21 finished with value: 0.5950000286102295 and parameters: {'num_conv_layers': 2, 'num_filter_0': 112.0, 'num_filter_1': 80.0, 'num_neurons': 400, 'drop_conv2': 0.4482861961736407, 'drop_fc1': 0.22034278775028793, 'optimizer': 'Adam', 'lr': 0.0006796373440228386}. Best is trial 11 with value: 0.5954999923706055.\n",
            "[I 2024-05-07 19:21:12,486] Trial 22 pruned. \n",
            "[I 2024-05-07 19:22:09,946] Trial 23 pruned. \n",
            "[I 2024-05-07 19:23:52,992] Trial 24 pruned. \n",
            "[I 2024-05-07 19:29:14,211] Trial 25 pruned. \n",
            "[I 2024-05-07 19:31:07,542] Trial 26 pruned. \n",
            "[I 2024-05-07 19:31:52,399] Trial 27 pruned. \n",
            "[I 2024-05-07 19:45:00,214] Trial 28 finished with value: 0.5957000255584717 and parameters: {'num_conv_layers': 2, 'num_filter_0': 128.0, 'num_filter_1': 64.0, 'num_neurons': 400, 'drop_conv2': 0.4142984520518183, 'drop_fc1': 0.4117088919540175, 'optimizer': 'RMSprop', 'lr': 0.0002532809844335816}. Best is trial 28 with value: 0.5957000255584717.\n",
            "[I 2024-05-07 19:46:19,267] Trial 29 pruned. \n",
            "[I 2024-05-07 19:47:42,100] Trial 30 pruned. \n",
            "[I 2024-05-07 19:48:48,042] Trial 31 pruned. \n",
            "[I 2024-05-07 19:51:56,461] Trial 32 pruned. \n",
            "[I 2024-05-07 19:52:56,625] Trial 33 pruned. \n",
            "[I 2024-05-07 19:56:15,183] Trial 34 pruned. \n",
            "[I 2024-05-07 19:57:07,500] Trial 35 pruned. \n",
            "[I 2024-05-07 19:58:26,585] Trial 36 pruned. \n",
            "[I 2024-05-07 19:58:42,372] Trial 37 pruned. \n",
            "[I 2024-05-07 19:59:39,099] Trial 38 pruned. \n",
            "[I 2024-05-07 20:00:14,433] Trial 39 pruned. \n",
            "[I 2024-05-07 20:01:15,708] Trial 40 pruned. \n",
            "[I 2024-05-07 20:06:11,890] Trial 41 pruned. \n",
            "[I 2024-05-07 20:17:10,228] Trial 42 finished with value: 0.5946000218391418 and parameters: {'num_conv_layers': 2, 'num_filter_0': 112.0, 'num_filter_1': 64.0, 'num_neurons': 240, 'drop_conv2': 0.42473031112124926, 'drop_fc1': 0.24108877799453443, 'optimizer': 'Adam', 'lr': 0.00052638566713028}. Best is trial 28 with value: 0.5957000255584717.\n",
            "[I 2024-05-07 20:18:16,055] Trial 43 pruned. \n",
            "[I 2024-05-07 20:19:46,547] Trial 44 pruned. \n",
            "[I 2024-05-07 20:30:33,986] Trial 45 finished with value: 0.5931000113487244 and parameters: {'num_conv_layers': 2, 'num_filter_0': 112.0, 'num_filter_1': 64.0, 'num_neurons': 120, 'drop_conv2': 0.29714847361429947, 'drop_fc1': 0.426152512015162, 'optimizer': 'Adam', 'lr': 0.0024244686667653187}. Best is trial 28 with value: 0.5957000255584717.\n",
            "[I 2024-05-07 20:31:47,778] Trial 46 pruned. \n",
            "[I 2024-05-07 20:36:30,550] Trial 47 pruned. \n",
            "[I 2024-05-07 20:37:39,039] Trial 48 pruned. \n",
            "[I 2024-05-07 20:38:45,981] Trial 49 pruned. \n",
            "[I 2024-05-07 20:39:47,253] Trial 50 pruned. \n",
            "[I 2024-05-07 20:50:45,122] Trial 51 finished with value: 0.5946999788284302 and parameters: {'num_conv_layers': 2, 'num_filter_0': 112.0, 'num_filter_1': 64.0, 'num_neurons': 340, 'drop_conv2': 0.2653288731453715, 'drop_fc1': 0.45968073418590116, 'optimizer': 'RMSprop', 'lr': 0.0005518808437566115}. Best is trial 28 with value: 0.5957000255584717.\n",
            "[I 2024-05-07 20:52:44,770] Trial 52 pruned. \n",
            "[I 2024-05-07 20:53:48,848] Trial 53 pruned. \n",
            "[I 2024-05-07 20:56:14,974] Trial 54 pruned. \n",
            "[I 2024-05-07 20:57:29,173] Trial 55 pruned. \n",
            "[I 2024-05-07 20:58:14,315] Trial 56 pruned. \n",
            "[I 2024-05-07 21:02:10,119] Trial 57 pruned. \n",
            "[I 2024-05-07 21:07:04,306] Trial 58 pruned. \n",
            "[I 2024-05-07 21:11:20,962] Trial 59 pruned. \n",
            "[I 2024-05-07 21:11:45,334] Trial 60 pruned. \n",
            "[I 2024-05-07 21:12:50,835] Trial 61 pruned. \n",
            "[I 2024-05-07 21:13:56,922] Trial 62 pruned. \n",
            "[I 2024-05-07 21:25:09,639] Trial 63 pruned. \n",
            "[I 2024-05-07 21:38:35,151] Trial 64 finished with value: 0.5943999886512756 and parameters: {'num_conv_layers': 2, 'num_filter_0': 112.0, 'num_filter_1': 96.0, 'num_neurons': 390, 'drop_conv2': 0.3119338112008011, 'drop_fc1': 0.4293681221416072, 'optimizer': 'RMSprop', 'lr': 0.0003667203264637128}. Best is trial 28 with value: 0.5957000255584717.\n"
          ]
        }
      ],
      "source": [
        "if __name__ == '__main__':\n",
        "\n",
        "    # -------------------------------------------------------------------------\n",
        "    # Estudio de optimización para una CNN de PyTorch con Optuna\n",
        "    # -------------------------------------------------------------------------\n",
        "\n",
        "    # Usa cuda si está disponible para cálculos más rápidos\n",
        "    device = torch.device(\"cuda\" if torch.cuda.is_available() else \"cpu\")\n",
        "\n",
        "    # --- Parámetros ----------------------------------------------------------\n",
        "    n_epochs = 10                         # Número de épocas de entrenamiento\n",
        "    batch_size_train = 64                 # Tamaño del lote para datos de entrenamiento\n",
        "    batch_size_test = 1000                # Tamaño del lote para datos de prueba\n",
        "    number_of_trials = 100                # Número de pruebas de Optuna\n",
        "    limit_obs = True                      # Limitar el número de observaciones para cálculos más rápidos\n",
        "\n",
        "    # *** Nota: Para resultados más precisos, no limite las observaciones.\n",
        "    #           Sin embargo, si no se limitan, podría llevar mucho tiempo ejecutarlo.\n",
        "    #           Otra opción es limitar el número de épocas. ***\n",
        "\n",
        "    if limit_obs:                                          # Limitar el número de observaciones\n",
        "        number_of_train_examples = 500 * batch_size_train  # Máximas observaciones de entrenamiento\n",
        "        number_of_test_examples = 5 * batch_size_test      # Máximas observaciones de prueba\n",
        "    else:\n",
        "        number_of_train_examples = 60000                   # Máximas observaciones de entrenamiento\n",
        "        number_of_test_examples = 10000                    # Máximas observaciones de prueba\n",
        "    # -------------------------------------------------------------------------\n",
        "\n",
        "    # Hacer que las ejecuciones sean repetibles\n",
        "    random_seed = 1\n",
        "    torch.backends.cudnn.enabled = False  # Deshabilitar el uso de algoritmos no deterministas de cuDNN\n",
        "    torch.manual_seed(random_seed)\n",
        "\n",
        "    # Crea el directorio 'files', si no existe, para guardar el conjunto de datos\n",
        "    directory_name = 'files'\n",
        "    if not os.path.exists(directory_name):\n",
        "        os.mkdir(directory_name)\n",
        "\n",
        "    # Descarga el conjunto de datos MNIST al directorio 'files' y normalízalo\n",
        "    train_loader = torch.utils.data.DataLoader(\n",
        "        torchvision.datasets.MNIST('/files/', train=True, download=True,\n",
        "                                   transform=torchvision.transforms.Compose([\n",
        "                                       torchvision.transforms.ToTensor(),\n",
        "                                       torchvision.transforms.Normalize((0.1307,), (0.3081,))])),\n",
        "        batch_size=batch_size_train, shuffle=True)\n",
        "\n",
        "    test_loader = torch.utils.data.DataLoader(\n",
        "        torchvision.datasets.MNIST('/files/', train=False, download=True,\n",
        "                                   transform=torchvision.transforms.Compose([\n",
        "                                       torchvision.transforms.ToTensor(),\n",
        "                                       torchvision.transforms.Normalize((0.1307,), (0.3081,))])),\n",
        "        batch_size=batch_size_test, shuffle=True)\n",
        "\n",
        "    # Crea un estudio de Optuna para maximizar la precisión de prueba\n",
        "    study = optuna.create_study(direction=\"maximize\")\n",
        "    study.optimize(objective, n_trials=number_of_trials)\n"
      ]
    },
    {
      "cell_type": "code",
      "execution_count": null,
      "metadata": {
        "id": "zoxkiNqAB9fS"
      },
      "outputs": [],
      "source": [
        "# -------------------------------------------------------------------------\n",
        "# Resultados\n",
        "# -------------------------------------------------------------------------\n",
        "\n",
        "# Encuentra el número de pruebas podadas y completadas\n",
        "pruned_trials = study.get_trials(deepcopy=False, states=[TrialState.PRUNED])\n",
        "complete_trials = study.get_trials(deepcopy=False, states=[TrialState.COMPLETE])\n",
        "\n",
        "# Muestra las estadísticas del estudio\n",
        "print(\"\\nEstadísticas del estudio:\")\n",
        "print(\"  Número de pruebas finalizadas: \", len(study.trials))\n",
        "print(\"  Número de pruebas podadas: \", len(pruned_trials))\n",
        "print(\"  Número de pruebas completadas: \", len(complete_trials))\n",
        "\n",
        "trial = study.best_trial\n",
        "print(\"Mejor prueba:\")\n",
        "print(\"  Valor: \", trial.value)\n",
        "print(\"  Parámetros:\")\n",
        "for key, value in trial.params.items():\n",
        "    print(\"    {}: {}\".format(key, value))\n",
        "\n",
        "# Guarda los resultados en un archivo CSV\n",
        "df = study.trials_dataframe().drop(['datetime_start', 'datetime_complete', 'duration'], axis=1)  # Excluir columnas\n",
        "df = df.loc[df['state'] == 'COMPLETE']        # Mantener solo los resultados que no se podaron\n",
        "df = df.drop('state', axis=1)                 # Excluir columna de estado\n",
        "df = df.sort_values('value')                  # Ordenar según la precisión\n",
        "df.to_csv('optuna_results.csv', index=False)  # Guardar en archivo CSV\n",
        "\n",
        "# Muestra los resultados en un DataFrame\n",
        "print(\"\\nResultados generales (ordenados por precisión):\\n {}\".format(df))\n",
        "\n",
        "# Encuentra los hiperparámetros más importantes\n",
        "most_important_parameters = optuna.importance.get_param_importances(study, target=None)\n",
        "\n",
        "# Muestra los hiperparámetros más importantes\n",
        "print('\\nHiperparámetros más importantes:')\n",
        "for key, value in most_important_parameters.items():\n",
        "    print('  {}:{}{:.2f}%'.format(key, (15-len(key))*' ', value*100))\n"
      ]
    },
    {
      "cell_type": "code",
      "execution_count": null,
      "metadata": {
        "id": "WJ0kudGGCENj"
      },
      "outputs": [],
      "source": []
    },
    {
      "cell_type": "markdown",
      "source": [
        "# PyG (PyTorch Geometric)\n",
        "\n",
        "[Documentation](https://pytorch-geometric.readthedocs.io/en/latest/get_started/introduction.html#learning-methods-on-graphs)"
      ],
      "metadata": {
        "id": "lU7aQiLd7E-c"
      }
    },
    {
      "cell_type": "code",
      "source": [
        "# Instalar: https://gist.github.com/ameya98/b193856171d11d37ada46458f60e73e7?permalink_comment_id=3674777\n",
        "\n",
        "import torch\n",
        "\n",
        "def format_pytorch_version(version):\n",
        "  return version.split('+')[0]\n",
        "\n",
        "TORCH_version = torch.__version__\n",
        "TORCH = format_pytorch_version(TORCH_version)\n",
        "\n",
        "def format_cuda_version(version):\n",
        "  return 'cu' + version.replace('.', '')\n",
        "\n",
        "CUDA_version = torch.version.cuda\n",
        "CUDA = format_cuda_version(CUDA_version)\n",
        "\n",
        "!pip install torch-scatter     -f https://pytorch-geometric.com/whl/torch-{TORCH}+{CUDA}.html\n",
        "!pip install torch-sparse      -f https://pytorch-geometric.com/whl/torch-{TORCH}+{CUDA}.html\n",
        "!pip install torch-cluster     -f https://pytorch-geometric.com/whl/torch-{TORCH}+{CUDA}.html\n",
        "!pip install torch-spline-conv -f https://pytorch-geometric.com/whl/torch-{TORCH}+{CUDA}.html\n",
        "!pip install torch-geometric"
      ],
      "metadata": {
        "colab": {
          "base_uri": "https://localhost:8080/"
        },
        "id": "dc2K0gRf7GIT",
        "outputId": "0a0566a1-b3cd-41fe-b394-8e95e2923feb"
      },
      "execution_count": 12,
      "outputs": [
        {
          "output_type": "stream",
          "name": "stdout",
          "text": [
            "Looking in links: https://pytorch-geometric.com/whl/torch-2.3.0+cu121.html\n",
            "Collecting torch-scatter\n",
            "  Downloading https://data.pyg.org/whl/torch-2.3.0%2Bcu121/torch_scatter-2.1.2%2Bpt23cu121-cp310-cp310-linux_x86_64.whl (10.9 MB)\n",
            "\u001b[2K     \u001b[90m━━━━━━━━━━━━━━━━━━━━━━━━━━━━━━━━━━━━━━━━\u001b[0m \u001b[32m10.9/10.9 MB\u001b[0m \u001b[31m45.7 MB/s\u001b[0m eta \u001b[36m0:00:00\u001b[0m\n",
            "\u001b[?25hInstalling collected packages: torch-scatter\n",
            "Successfully installed torch-scatter-2.1.2+pt23cu121\n",
            "Looking in links: https://pytorch-geometric.com/whl/torch-2.3.0+cu121.html\n",
            "Collecting torch-sparse\n",
            "  Downloading https://data.pyg.org/whl/torch-2.3.0%2Bcu121/torch_sparse-0.6.18%2Bpt23cu121-cp310-cp310-linux_x86_64.whl (5.1 MB)\n",
            "\u001b[2K     \u001b[90m━━━━━━━━━━━━━━━━━━━━━━━━━━━━━━━━━━━━━━━━\u001b[0m \u001b[32m5.1/5.1 MB\u001b[0m \u001b[31m49.7 MB/s\u001b[0m eta \u001b[36m0:00:00\u001b[0m\n",
            "\u001b[?25hRequirement already satisfied: scipy in /usr/local/lib/python3.10/dist-packages (from torch-sparse) (1.11.4)\n",
            "Requirement already satisfied: numpy<1.28.0,>=1.21.6 in /usr/local/lib/python3.10/dist-packages (from scipy->torch-sparse) (1.25.2)\n",
            "Installing collected packages: torch-sparse\n",
            "Successfully installed torch-sparse-0.6.18+pt23cu121\n",
            "Looking in links: https://pytorch-geometric.com/whl/torch-2.3.0+cu121.html\n",
            "Collecting torch-cluster\n",
            "  Downloading https://data.pyg.org/whl/torch-2.3.0%2Bcu121/torch_cluster-1.6.3%2Bpt23cu121-cp310-cp310-linux_x86_64.whl (3.4 MB)\n",
            "\u001b[2K     \u001b[90m━━━━━━━━━━━━━━━━━━━━━━━━━━━━━━━━━━━━━━━━\u001b[0m \u001b[32m3.4/3.4 MB\u001b[0m \u001b[31m37.7 MB/s\u001b[0m eta \u001b[36m0:00:00\u001b[0m\n",
            "\u001b[?25hRequirement already satisfied: scipy in /usr/local/lib/python3.10/dist-packages (from torch-cluster) (1.11.4)\n",
            "Requirement already satisfied: numpy<1.28.0,>=1.21.6 in /usr/local/lib/python3.10/dist-packages (from scipy->torch-cluster) (1.25.2)\n",
            "Installing collected packages: torch-cluster\n",
            "Successfully installed torch-cluster-1.6.3+pt23cu121\n",
            "Looking in links: https://pytorch-geometric.com/whl/torch-2.3.0+cu121.html\n",
            "Collecting torch-spline-conv\n",
            "  Downloading https://data.pyg.org/whl/torch-2.3.0%2Bcu121/torch_spline_conv-1.2.2%2Bpt23cu121-cp310-cp310-linux_x86_64.whl (947 kB)\n",
            "\u001b[2K     \u001b[90m━━━━━━━━━━━━━━━━━━━━━━━━━━━━━━━━━━━━━━━━\u001b[0m \u001b[32m947.1/947.1 kB\u001b[0m \u001b[31m9.9 MB/s\u001b[0m eta \u001b[36m0:00:00\u001b[0m\n",
            "\u001b[?25hInstalling collected packages: torch-spline-conv\n",
            "Successfully installed torch-spline-conv-1.2.2+pt23cu121\n",
            "Collecting torch-geometric\n",
            "  Downloading torch_geometric-2.5.3-py3-none-any.whl (1.1 MB)\n",
            "\u001b[2K     \u001b[90m━━━━━━━━━━━━━━━━━━━━━━━━━━━━━━━━━━━━━━━━\u001b[0m \u001b[32m1.1/1.1 MB\u001b[0m \u001b[31m8.5 MB/s\u001b[0m eta \u001b[36m0:00:00\u001b[0m\n",
            "\u001b[?25hRequirement already satisfied: tqdm in /usr/local/lib/python3.10/dist-packages (from torch-geometric) (4.66.4)\n",
            "Requirement already satisfied: numpy in /usr/local/lib/python3.10/dist-packages (from torch-geometric) (1.25.2)\n",
            "Requirement already satisfied: scipy in /usr/local/lib/python3.10/dist-packages (from torch-geometric) (1.11.4)\n",
            "Requirement already satisfied: fsspec in /usr/local/lib/python3.10/dist-packages (from torch-geometric) (2023.6.0)\n",
            "Requirement already satisfied: jinja2 in /usr/local/lib/python3.10/dist-packages (from torch-geometric) (3.1.4)\n",
            "Requirement already satisfied: aiohttp in /usr/local/lib/python3.10/dist-packages (from torch-geometric) (3.9.5)\n",
            "Requirement already satisfied: requests in /usr/local/lib/python3.10/dist-packages (from torch-geometric) (2.31.0)\n",
            "Requirement already satisfied: pyparsing in /usr/local/lib/python3.10/dist-packages (from torch-geometric) (3.1.2)\n",
            "Requirement already satisfied: scikit-learn in /usr/local/lib/python3.10/dist-packages (from torch-geometric) (1.2.2)\n",
            "Requirement already satisfied: psutil>=5.8.0 in /usr/local/lib/python3.10/dist-packages (from torch-geometric) (5.9.5)\n",
            "Requirement already satisfied: aiosignal>=1.1.2 in /usr/local/lib/python3.10/dist-packages (from aiohttp->torch-geometric) (1.3.1)\n",
            "Requirement already satisfied: attrs>=17.3.0 in /usr/local/lib/python3.10/dist-packages (from aiohttp->torch-geometric) (23.2.0)\n",
            "Requirement already satisfied: frozenlist>=1.1.1 in /usr/local/lib/python3.10/dist-packages (from aiohttp->torch-geometric) (1.4.1)\n",
            "Requirement already satisfied: multidict<7.0,>=4.5 in /usr/local/lib/python3.10/dist-packages (from aiohttp->torch-geometric) (6.0.5)\n",
            "Requirement already satisfied: yarl<2.0,>=1.0 in /usr/local/lib/python3.10/dist-packages (from aiohttp->torch-geometric) (1.9.4)\n",
            "Requirement already satisfied: async-timeout<5.0,>=4.0 in /usr/local/lib/python3.10/dist-packages (from aiohttp->torch-geometric) (4.0.3)\n",
            "Requirement already satisfied: MarkupSafe>=2.0 in /usr/local/lib/python3.10/dist-packages (from jinja2->torch-geometric) (2.1.5)\n",
            "Requirement already satisfied: charset-normalizer<4,>=2 in /usr/local/lib/python3.10/dist-packages (from requests->torch-geometric) (3.3.2)\n",
            "Requirement already satisfied: idna<4,>=2.5 in /usr/local/lib/python3.10/dist-packages (from requests->torch-geometric) (3.7)\n",
            "Requirement already satisfied: urllib3<3,>=1.21.1 in /usr/local/lib/python3.10/dist-packages (from requests->torch-geometric) (2.0.7)\n",
            "Requirement already satisfied: certifi>=2017.4.17 in /usr/local/lib/python3.10/dist-packages (from requests->torch-geometric) (2024.2.2)\n",
            "Requirement already satisfied: joblib>=1.1.1 in /usr/local/lib/python3.10/dist-packages (from scikit-learn->torch-geometric) (1.4.2)\n",
            "Requirement already satisfied: threadpoolctl>=2.0.0 in /usr/local/lib/python3.10/dist-packages (from scikit-learn->torch-geometric) (3.5.0)\n",
            "Installing collected packages: torch-geometric\n",
            "Successfully installed torch-geometric-2.5.3\n"
          ]
        }
      ]
    },
    {
      "cell_type": "code",
      "source": [
        "from torch_geometric.datasets import Planetoid\n",
        "\n",
        "dataset = Planetoid(root='/tmp/Cora', name='Cora')"
      ],
      "metadata": {
        "id": "UwwQoQ9s8BNx",
        "colab": {
          "base_uri": "https://localhost:8080/"
        },
        "outputId": "7b209032-da6b-4e3f-fab6-4ca9d2cc593a"
      },
      "execution_count": 13,
      "outputs": [
        {
          "output_type": "stream",
          "name": "stderr",
          "text": [
            "Downloading https://github.com/kimiyoung/planetoid/raw/master/data/ind.cora.x\n",
            "Downloading https://github.com/kimiyoung/planetoid/raw/master/data/ind.cora.tx\n",
            "Downloading https://github.com/kimiyoung/planetoid/raw/master/data/ind.cora.allx\n",
            "Downloading https://github.com/kimiyoung/planetoid/raw/master/data/ind.cora.y\n",
            "Downloading https://github.com/kimiyoung/planetoid/raw/master/data/ind.cora.ty\n",
            "Downloading https://github.com/kimiyoung/planetoid/raw/master/data/ind.cora.ally\n",
            "Downloading https://github.com/kimiyoung/planetoid/raw/master/data/ind.cora.graph\n",
            "Downloading https://github.com/kimiyoung/planetoid/raw/master/data/ind.cora.test.index\n",
            "Processing...\n",
            "Done!\n"
          ]
        }
      ]
    },
    {
      "cell_type": "code",
      "source": [
        "import torch\n",
        "import torch.nn.functional as F\n",
        "from torch_geometric.nn import GCNConv\n",
        "\n",
        "class GCN(torch.nn.Module):\n",
        "    def __init__(self):\n",
        "        super().__init__()\n",
        "        # Definición de la primera capa de convolución GCN.\n",
        "        # dataset.num_node_features es el número de características en cada nodo del grafo.\n",
        "        # La primera capa convolucional transforma estas características en un espacio de características de tamaño 16.\n",
        "        self.conv1 = GCNConv(dataset.num_node_features, 16)\n",
        "        # Definición de la segunda capa de convolución GCN.\n",
        "        # La entrada son 16 características producidas por la capa anterior,\n",
        "        # y la salida es un vector de características de tamaño igual al número de clases en el dataset.\n",
        "        self.conv2 = GCNConv(16, dataset.num_classes)\n",
        "\n",
        "    def forward(self, data):\n",
        "        # Se obtienen los datos de entrada: x son las características de los nodos y edge_index es la estructura del grafo.\n",
        "        x, edge_index = data.x, data.edge_index\n",
        "\n",
        "        # Paso de la primera capa GCN.\n",
        "        x = self.conv1(x, edge_index)\n",
        "        # Aplicación de la función de activación ReLU.\n",
        "        x = F.relu(x)\n",
        "        # Aplicación de dropout para regularización.\n",
        "        x = F.dropout(x, training=self.training)\n",
        "        # Paso de la segunda capa GCN.\n",
        "        x = self.conv2(x, edge_index)\n",
        "\n",
        "        # Se aplica la función de activación log_softmax para obtener la salida del modelo.\n",
        "        # Esto proporciona la probabilidad de que cada nodo pertenezca a cada clase.\n",
        "        return F.log_softmax(x, dim=1)\n"
      ],
      "metadata": {
        "id": "tENXJgu8841w"
      },
      "execution_count": null,
      "outputs": []
    },
    {
      "cell_type": "code",
      "source": [
        "# Selecciona el dispositivo de cómputo (GPU si está disponible, de lo contrario, CPU).\n",
        "device = torch.device('cuda' if torch.cuda.is_available() else 'cpu')\n",
        "# Instancia el modelo GCN y lo mueve al dispositivo seleccionado.\n",
        "model = GCN().to(device)\n",
        "# Mueve los datos de entrada al dispositivo seleccionado.\n",
        "data = dataset[0].to(device)\n",
        "# Define el optimizador Adam para actualizar los parámetros del modelo durante el entrenamiento.\n",
        "optimizer = torch.optim.Adam(model.parameters(), lr=0.01, weight_decay=5e-4)\n",
        "\n",
        "# Indica que el modelo está en modo de entrenamiento.\n",
        "model.train()\n",
        "# Ciclo de entrenamiento que itera sobre un número fijo de épocas (en este caso, 200).\n",
        "for epoch in range(200):\n",
        "    # Reinicia los gradientes del optimizador.\n",
        "    optimizer.zero_grad()\n",
        "    # Propaga los datos de entrada a través del modelo para obtener las predicciones.\n",
        "    out = model(data)\n",
        "    # Calcula la función de pérdida NLL (negative log likelihood) para los nodos de entrenamiento.\n",
        "    loss = F.nll_loss(out[data.train_mask], data.y[data.train_mask])\n",
        "    # Retropropaga el error para calcular los gradientes.\n",
        "    loss.backward()\n",
        "    # Actualiza los parámetros del modelo utilizando el optimizador.\n",
        "    optimizer.step()\n"
      ],
      "metadata": {
        "id": "3O1mDWKG9CVY"
      },
      "execution_count": null,
      "outputs": []
    },
    {
      "cell_type": "code",
      "source": [
        "# Indica que el modelo está en modo de evaluación. Esto desactiva capas como Dropout que se usan durante el entrenamiento.\n",
        "model.eval()\n",
        "# Realiza predicciones en los datos de prueba y obtiene la clase predicha para cada nodo.\n",
        "pred = model(data).argmax(dim=1)\n",
        "# Calcula el número de predicciones correctas comparando las predicciones con las etiquetas verdaderas de los nodos de prueba.\n",
        "correct = (pred[data.test_mask] == data.y[data.test_mask]).sum()\n",
        "# Calcula la precisión dividiendo el número de predicciones correctas entre el número total de nodos de prueba.\n",
        "acc = int(correct) / int(data.test_mask.sum())\n",
        "# Imprime la precisión.\n",
        "print(f'Accuracy: {acc:.4f}')"
      ],
      "metadata": {
        "colab": {
          "base_uri": "https://localhost:8080/"
        },
        "id": "3afacdQt9EAo",
        "outputId": "f96039fd-46ae-4561-fb0c-7f7425cadbab"
      },
      "execution_count": null,
      "outputs": [
        {
          "output_type": "stream",
          "name": "stdout",
          "text": [
            "Accuracy: 0.8100\n"
          ]
        }
      ]
    },
    {
      "cell_type": "markdown",
      "source": [
        "# Optuna Graphs"
      ],
      "metadata": {
        "id": "Ds6KfI0tOQam"
      }
    },
    {
      "cell_type": "code",
      "source": [
        "!pip install optuna"
      ],
      "metadata": {
        "id": "hi53fRxsP7Em",
        "outputId": "b1835473-1103-4a25-c28d-6537b83b9751",
        "colab": {
          "base_uri": "https://localhost:8080/"
        }
      },
      "execution_count": null,
      "outputs": [
        {
          "output_type": "stream",
          "name": "stdout",
          "text": [
            "Collecting optuna\n",
            "  Downloading optuna-3.6.1-py3-none-any.whl (380 kB)\n",
            "\u001b[2K     \u001b[90m━━━━━━━━━━━━━━━━━━━━━━━━━━━━━━━━━━━━━━━━\u001b[0m \u001b[32m380.1/380.1 kB\u001b[0m \u001b[31m7.8 MB/s\u001b[0m eta \u001b[36m0:00:00\u001b[0m\n",
            "\u001b[?25hCollecting alembic>=1.5.0 (from optuna)\n",
            "  Downloading alembic-1.13.1-py3-none-any.whl (233 kB)\n",
            "\u001b[2K     \u001b[90m━━━━━━━━━━━━━━━━━━━━━━━━━━━━━━━━━━━━━━━━\u001b[0m \u001b[32m233.4/233.4 kB\u001b[0m \u001b[31m18.7 MB/s\u001b[0m eta \u001b[36m0:00:00\u001b[0m\n",
            "\u001b[?25hCollecting colorlog (from optuna)\n",
            "  Downloading colorlog-6.8.2-py3-none-any.whl (11 kB)\n",
            "Requirement already satisfied: numpy in /usr/local/lib/python3.10/dist-packages (from optuna) (1.25.2)\n",
            "Requirement already satisfied: packaging>=20.0 in /usr/local/lib/python3.10/dist-packages (from optuna) (24.0)\n",
            "Requirement already satisfied: sqlalchemy>=1.3.0 in /usr/local/lib/python3.10/dist-packages (from optuna) (2.0.30)\n",
            "Requirement already satisfied: tqdm in /usr/local/lib/python3.10/dist-packages (from optuna) (4.66.4)\n",
            "Requirement already satisfied: PyYAML in /usr/local/lib/python3.10/dist-packages (from optuna) (6.0.1)\n",
            "Collecting Mako (from alembic>=1.5.0->optuna)\n",
            "  Downloading Mako-1.3.5-py3-none-any.whl (78 kB)\n",
            "\u001b[2K     \u001b[90m━━━━━━━━━━━━━━━━━━━━━━━━━━━━━━━━━━━━━━━━\u001b[0m \u001b[32m78.6/78.6 kB\u001b[0m \u001b[31m9.6 MB/s\u001b[0m eta \u001b[36m0:00:00\u001b[0m\n",
            "\u001b[?25hRequirement already satisfied: typing-extensions>=4 in /usr/local/lib/python3.10/dist-packages (from alembic>=1.5.0->optuna) (4.11.0)\n",
            "Requirement already satisfied: greenlet!=0.4.17 in /usr/local/lib/python3.10/dist-packages (from sqlalchemy>=1.3.0->optuna) (3.0.3)\n",
            "Requirement already satisfied: MarkupSafe>=0.9.2 in /usr/local/lib/python3.10/dist-packages (from Mako->alembic>=1.5.0->optuna) (2.1.5)\n",
            "Installing collected packages: Mako, colorlog, alembic, optuna\n",
            "Successfully installed Mako-1.3.5 alembic-1.13.1 colorlog-6.8.2 optuna-3.6.1\n"
          ]
        }
      ]
    },
    {
      "cell_type": "code",
      "source": [
        "import optuna\n",
        "import torch\n",
        "import torch.nn.functional as F\n",
        "from torch_geometric.nn import GCNConv\n",
        "from torch_geometric.datasets import Planetoid\n",
        "\n",
        "# Cargar el dataset Cora\n",
        "dataset = Planetoid(root='/tmp/Cora', name='Cora')\n",
        "\n",
        "class GCN(torch.nn.Module):\n",
        "    def __init__(self, input_dim, hidden_units_list, output_dim):\n",
        "        super(GCN, self).__init__()\n",
        "        self.layers = torch.nn.ModuleList()\n",
        "        in_channels = input_dim\n",
        "\n",
        "        for hidden_units in hidden_units_list:\n",
        "            self.layers.append(GCNConv(in_channels, hidden_units))\n",
        "            in_channels = hidden_units\n",
        "\n",
        "        self.layers.append(GCNConv(in_channels, output_dim))\n",
        "\n",
        "    def forward(self, data):\n",
        "        x, edge_index = data.x, data.edge_index\n",
        "\n",
        "        for conv in self.layers[:-1]:\n",
        "            x = conv(x, edge_index)\n",
        "            x = F.relu(x)\n",
        "            x = F.dropout(x, training=self.training)\n",
        "\n",
        "        x = self.layers[-1](x, edge_index)\n",
        "        return F.log_softmax(x, dim=1)\n",
        "\n",
        "def objective(trial):\n",
        "    hidden_layers = trial.suggest_int('hidden_layers', 1, 5)\n",
        "    hidden_units_list = [trial.suggest_int(f'hidden_units_{i}', 16, 256) for i in range(hidden_layers)]\n",
        "\n",
        "    model = GCN(dataset.num_node_features, hidden_units_list, dataset.num_classes).to(device)\n",
        "    data = dataset[0].to(device)\n",
        "    optimizer = torch.optim.Adam(model.parameters(), lr=0.01, weight_decay=5e-4)\n",
        "\n",
        "    model.train()\n",
        "    for epoch in range(200):\n",
        "        optimizer.zero_grad()\n",
        "        out = model(data)\n",
        "        loss = F.nll_loss(out[data.train_mask], data.y[data.train_mask])\n",
        "        loss.backward()\n",
        "        optimizer.step()\n",
        "\n",
        "    model.eval()\n",
        "    pred = model(data).argmax(dim=1)\n",
        "    correct = (pred[data.test_mask] == data.y[data.test_mask]).sum()\n",
        "    acc = int(correct) / int(data.test_mask.sum())\n",
        "    return acc\n",
        "\n",
        "if __name__ == \"__main__\":\n",
        "    device = torch.device('cuda' if torch.cuda.is_available() else 'cpu')\n",
        "\n",
        "    study = optuna.create_study(direction='maximize')\n",
        "    study.optimize(objective, n_trials=300)\n",
        "\n",
        "    print(\"Number of finished trials: \", len(study.trials))\n",
        "    print(\"Best trial:\")\n",
        "    trial = study.best_trial\n",
        "\n",
        "    print(\"  Value: \", trial.value)\n",
        "\n",
        "    print(\"  Params: \")\n",
        "    for key, value in trial.params.items():\n",
        "        print(\"    {}: {}\".format(key, value))"
      ],
      "metadata": {
        "id": "B85EHcYqTX3b",
        "outputId": "a75a3ba6-e585-41f4-df9b-0bce36de1641",
        "colab": {
          "base_uri": "https://localhost:8080/"
        }
      },
      "execution_count": 22,
      "outputs": [
        {
          "output_type": "stream",
          "name": "stderr",
          "text": [
            "[I 2024-05-28 13:51:10,367] A new study created in memory with name: no-name-ff5b6695-57a0-47b4-9cf7-caeeb446d28a\n",
            "[I 2024-05-28 13:51:11,929] Trial 0 finished with value: 0.77 and parameters: {'hidden_layers': 5, 'hidden_units_0': 43, 'hidden_units_1': 20, 'hidden_units_2': 124, 'hidden_units_3': 35, 'hidden_units_4': 86}. Best is trial 0 with value: 0.77.\n",
            "[I 2024-05-28 13:51:12,851] Trial 1 finished with value: 0.792 and parameters: {'hidden_layers': 2, 'hidden_units_0': 135, 'hidden_units_1': 80}. Best is trial 1 with value: 0.792.\n",
            "[I 2024-05-28 13:51:13,543] Trial 2 finished with value: 0.793 and parameters: {'hidden_layers': 1, 'hidden_units_0': 32}. Best is trial 2 with value: 0.793.\n",
            "[I 2024-05-28 13:51:15,197] Trial 3 finished with value: 0.747 and parameters: {'hidden_layers': 4, 'hidden_units_0': 209, 'hidden_units_1': 204, 'hidden_units_2': 201, 'hidden_units_3': 140}. Best is trial 2 with value: 0.793.\n",
            "[I 2024-05-28 13:51:17,107] Trial 4 finished with value: 0.785 and parameters: {'hidden_layers': 4, 'hidden_units_0': 100, 'hidden_units_1': 219, 'hidden_units_2': 207, 'hidden_units_3': 187}. Best is trial 2 with value: 0.793.\n",
            "[I 2024-05-28 13:51:18,004] Trial 5 finished with value: 0.789 and parameters: {'hidden_layers': 2, 'hidden_units_0': 106, 'hidden_units_1': 64}. Best is trial 2 with value: 0.793.\n",
            "[I 2024-05-28 13:51:19,341] Trial 6 finished with value: 0.769 and parameters: {'hidden_layers': 4, 'hidden_units_0': 25, 'hidden_units_1': 27, 'hidden_units_2': 142, 'hidden_units_3': 229}. Best is trial 2 with value: 0.793.\n",
            "[I 2024-05-28 13:51:20,762] Trial 7 finished with value: 0.748 and parameters: {'hidden_layers': 4, 'hidden_units_0': 183, 'hidden_units_1': 95, 'hidden_units_2': 98, 'hidden_units_3': 41}. Best is trial 2 with value: 0.793.\n",
            "[I 2024-05-28 13:51:22,369] Trial 8 finished with value: 0.763 and parameters: {'hidden_layers': 5, 'hidden_units_0': 200, 'hidden_units_1': 186, 'hidden_units_2': 25, 'hidden_units_3': 187, 'hidden_units_4': 30}. Best is trial 2 with value: 0.793.\n",
            "[I 2024-05-28 13:51:23,734] Trial 9 finished with value: 0.764 and parameters: {'hidden_layers': 4, 'hidden_units_0': 24, 'hidden_units_1': 170, 'hidden_units_2': 66, 'hidden_units_3': 36}. Best is trial 2 with value: 0.793.\n",
            "[I 2024-05-28 13:51:24,425] Trial 10 finished with value: 0.795 and parameters: {'hidden_layers': 1, 'hidden_units_0': 69}. Best is trial 10 with value: 0.795.\n",
            "[I 2024-05-28 13:51:25,119] Trial 11 finished with value: 0.809 and parameters: {'hidden_layers': 1, 'hidden_units_0': 73}. Best is trial 11 with value: 0.809.\n",
            "[I 2024-05-28 13:51:25,811] Trial 12 finished with value: 0.804 and parameters: {'hidden_layers': 1, 'hidden_units_0': 77}. Best is trial 11 with value: 0.809.\n",
            "[I 2024-05-28 13:51:26,750] Trial 13 finished with value: 0.808 and parameters: {'hidden_layers': 2, 'hidden_units_0': 83, 'hidden_units_1': 248}. Best is trial 11 with value: 0.809.\n",
            "[I 2024-05-28 13:51:27,946] Trial 14 finished with value: 0.805 and parameters: {'hidden_layers': 2, 'hidden_units_0': 256, 'hidden_units_1': 251}. Best is trial 11 with value: 0.809.\n",
            "[I 2024-05-28 13:51:29,524] Trial 15 finished with value: 0.808 and parameters: {'hidden_layers': 3, 'hidden_units_0': 137, 'hidden_units_1': 136, 'hidden_units_2': 251}. Best is trial 11 with value: 0.809.\n",
            "[I 2024-05-28 13:51:30,552] Trial 16 finished with value: 0.777 and parameters: {'hidden_layers': 2, 'hidden_units_0': 64, 'hidden_units_1': 249}. Best is trial 11 with value: 0.809.\n",
            "[I 2024-05-28 13:51:31,696] Trial 17 finished with value: 0.779 and parameters: {'hidden_layers': 3, 'hidden_units_0': 124, 'hidden_units_1': 139, 'hidden_units_2': 25}. Best is trial 11 with value: 0.809.\n",
            "[I 2024-05-28 13:51:32,372] Trial 18 finished with value: 0.817 and parameters: {'hidden_layers': 1, 'hidden_units_0': 92}. Best is trial 18 with value: 0.817.\n",
            "[I 2024-05-28 13:51:33,093] Trial 19 finished with value: 0.798 and parameters: {'hidden_layers': 1, 'hidden_units_0': 167}. Best is trial 18 with value: 0.817.\n",
            "[I 2024-05-28 13:51:33,789] Trial 20 finished with value: 0.809 and parameters: {'hidden_layers': 1, 'hidden_units_0': 51}. Best is trial 18 with value: 0.817.\n",
            "[I 2024-05-28 13:51:34,457] Trial 21 finished with value: 0.802 and parameters: {'hidden_layers': 1, 'hidden_units_0': 57}. Best is trial 18 with value: 0.817.\n",
            "[I 2024-05-28 13:51:35,147] Trial 22 finished with value: 0.799 and parameters: {'hidden_layers': 1, 'hidden_units_0': 103}. Best is trial 18 with value: 0.817.\n",
            "[I 2024-05-28 13:51:35,853] Trial 23 finished with value: 0.803 and parameters: {'hidden_layers': 1, 'hidden_units_0': 49}. Best is trial 18 with value: 0.817.\n",
            "[I 2024-05-28 13:51:36,769] Trial 24 finished with value: 0.805 and parameters: {'hidden_layers': 2, 'hidden_units_0': 88, 'hidden_units_1': 132}. Best is trial 18 with value: 0.817.\n",
            "[I 2024-05-28 13:51:37,460] Trial 25 finished with value: 0.801 and parameters: {'hidden_layers': 1, 'hidden_units_0': 48}. Best is trial 18 with value: 0.817.\n",
            "[I 2024-05-28 13:51:38,414] Trial 26 finished with value: 0.796 and parameters: {'hidden_layers': 2, 'hidden_units_0': 150, 'hidden_units_1': 50}. Best is trial 18 with value: 0.817.\n",
            "[I 2024-05-28 13:51:39,578] Trial 27 finished with value: 0.758 and parameters: {'hidden_layers': 3, 'hidden_units_0': 114, 'hidden_units_1': 107, 'hidden_units_2': 177}. Best is trial 18 with value: 0.817.\n",
            "[I 2024-05-28 13:51:40,425] Trial 28 finished with value: 0.809 and parameters: {'hidden_layers': 1, 'hidden_units_0': 87}. Best is trial 18 with value: 0.817.\n",
            "[I 2024-05-28 13:51:41,984] Trial 29 finished with value: 0.783 and parameters: {'hidden_layers': 3, 'hidden_units_0': 38, 'hidden_units_1': 167, 'hidden_units_2': 235}. Best is trial 18 with value: 0.817.\n",
            "[I 2024-05-28 13:51:42,769] Trial 30 finished with value: 0.806 and parameters: {'hidden_layers': 1, 'hidden_units_0': 64}. Best is trial 18 with value: 0.817.\n",
            "[I 2024-05-28 13:51:43,481] Trial 31 finished with value: 0.8 and parameters: {'hidden_layers': 1, 'hidden_units_0': 86}. Best is trial 18 with value: 0.817.\n",
            "[I 2024-05-28 13:51:44,248] Trial 32 finished with value: 0.807 and parameters: {'hidden_layers': 1, 'hidden_units_0': 94}. Best is trial 18 with value: 0.817.\n",
            "[I 2024-05-28 13:51:45,180] Trial 33 finished with value: 0.792 and parameters: {'hidden_layers': 2, 'hidden_units_0': 77, 'hidden_units_1': 217}. Best is trial 18 with value: 0.817.\n",
            "[I 2024-05-28 13:51:45,876] Trial 34 finished with value: 0.82 and parameters: {'hidden_layers': 1, 'hidden_units_0': 123}. Best is trial 34 with value: 0.82.\n",
            "[I 2024-05-28 13:51:46,812] Trial 35 finished with value: 0.793 and parameters: {'hidden_layers': 2, 'hidden_units_0': 125, 'hidden_units_1': 40}. Best is trial 34 with value: 0.82.\n",
            "[I 2024-05-28 13:51:47,543] Trial 36 finished with value: 0.796 and parameters: {'hidden_layers': 1, 'hidden_units_0': 147}. Best is trial 34 with value: 0.82.\n",
            "[I 2024-05-28 13:51:48,230] Trial 37 finished with value: 0.799 and parameters: {'hidden_layers': 1, 'hidden_units_0': 109}. Best is trial 34 with value: 0.82.\n",
            "[I 2024-05-28 13:51:49,133] Trial 38 finished with value: 0.801 and parameters: {'hidden_layers': 2, 'hidden_units_0': 17, 'hidden_units_1': 114}. Best is trial 34 with value: 0.82.\n",
            "[I 2024-05-28 13:51:49,839] Trial 39 finished with value: 0.819 and parameters: {'hidden_layers': 1, 'hidden_units_0': 45}. Best is trial 34 with value: 0.82.\n",
            "[I 2024-05-28 13:51:51,511] Trial 40 finished with value: 0.761 and parameters: {'hidden_layers': 5, 'hidden_units_0': 118, 'hidden_units_1': 157, 'hidden_units_2': 73, 'hidden_units_3': 113, 'hidden_units_4': 241}. Best is trial 34 with value: 0.82.\n",
            "[I 2024-05-28 13:51:52,197] Trial 41 finished with value: 0.807 and parameters: {'hidden_layers': 1, 'hidden_units_0': 34}. Best is trial 34 with value: 0.82.\n",
            "[I 2024-05-28 13:51:53,092] Trial 42 finished with value: 0.801 and parameters: {'hidden_layers': 1, 'hidden_units_0': 51}. Best is trial 34 with value: 0.82.\n",
            "[I 2024-05-28 13:51:54,040] Trial 43 finished with value: 0.796 and parameters: {'hidden_layers': 1, 'hidden_units_0': 70}. Best is trial 34 with value: 0.82.\n",
            "[I 2024-05-28 13:51:55,223] Trial 44 finished with value: 0.768 and parameters: {'hidden_layers': 2, 'hidden_units_0': 40, 'hidden_units_1': 71}. Best is trial 34 with value: 0.82.\n",
            "[I 2024-05-28 13:51:55,969] Trial 45 finished with value: 0.801 and parameters: {'hidden_layers': 1, 'hidden_units_0': 100}. Best is trial 34 with value: 0.82.\n",
            "[I 2024-05-28 13:51:56,680] Trial 46 finished with value: 0.804 and parameters: {'hidden_layers': 1, 'hidden_units_0': 58}. Best is trial 34 with value: 0.82.\n",
            "[I 2024-05-28 13:51:57,392] Trial 47 finished with value: 0.803 and parameters: {'hidden_layers': 1, 'hidden_units_0': 26}. Best is trial 34 with value: 0.82.\n",
            "[I 2024-05-28 13:51:58,317] Trial 48 finished with value: 0.793 and parameters: {'hidden_layers': 2, 'hidden_units_0': 77, 'hidden_units_1': 198}. Best is trial 34 with value: 0.82.\n",
            "[I 2024-05-28 13:51:59,026] Trial 49 finished with value: 0.805 and parameters: {'hidden_layers': 1, 'hidden_units_0': 133}. Best is trial 34 with value: 0.82.\n",
            "[I 2024-05-28 13:51:59,981] Trial 50 finished with value: 0.824 and parameters: {'hidden_layers': 2, 'hidden_units_0': 169, 'hidden_units_1': 229}. Best is trial 50 with value: 0.824.\n",
            "[I 2024-05-28 13:52:00,956] Trial 51 finished with value: 0.793 and parameters: {'hidden_layers': 2, 'hidden_units_0': 184, 'hidden_units_1': 184}. Best is trial 50 with value: 0.824.\n",
            "[I 2024-05-28 13:52:01,712] Trial 52 finished with value: 0.815 and parameters: {'hidden_layers': 1, 'hidden_units_0': 223}. Best is trial 50 with value: 0.824.\n",
            "[I 2024-05-28 13:52:02,754] Trial 53 finished with value: 0.801 and parameters: {'hidden_layers': 2, 'hidden_units_0': 227, 'hidden_units_1': 231}. Best is trial 50 with value: 0.824.\n",
            "[I 2024-05-28 13:52:03,510] Trial 54 finished with value: 0.795 and parameters: {'hidden_layers': 1, 'hidden_units_0': 222}. Best is trial 50 with value: 0.824.\n",
            "[I 2024-05-28 13:52:04,242] Trial 55 finished with value: 0.791 and parameters: {'hidden_layers': 1, 'hidden_units_0': 176}. Best is trial 50 with value: 0.824.\n",
            "[I 2024-05-28 13:52:05,638] Trial 56 finished with value: 0.777 and parameters: {'hidden_layers': 3, 'hidden_units_0': 254, 'hidden_units_1': 16, 'hidden_units_2': 150}. Best is trial 50 with value: 0.824.\n",
            "[I 2024-05-28 13:52:06,897] Trial 57 finished with value: 0.811 and parameters: {'hidden_layers': 2, 'hidden_units_0': 207, 'hidden_units_1': 151}. Best is trial 50 with value: 0.824.\n",
            "[I 2024-05-28 13:52:08,577] Trial 58 finished with value: 0.793 and parameters: {'hidden_layers': 4, 'hidden_units_0': 203, 'hidden_units_1': 232, 'hidden_units_2': 61, 'hidden_units_3': 252}. Best is trial 50 with value: 0.824.\n",
            "[I 2024-05-28 13:52:09,588] Trial 59 finished with value: 0.806 and parameters: {'hidden_layers': 2, 'hidden_units_0': 242, 'hidden_units_1': 122}. Best is trial 50 with value: 0.824.\n",
            "[I 2024-05-28 13:52:10,821] Trial 60 finished with value: 0.778 and parameters: {'hidden_layers': 3, 'hidden_units_0': 214, 'hidden_units_1': 151, 'hidden_units_2': 113}. Best is trial 50 with value: 0.824.\n",
            "[I 2024-05-28 13:52:11,550] Trial 61 finished with value: 0.8 and parameters: {'hidden_layers': 1, 'hidden_units_0': 188}. Best is trial 50 with value: 0.824.\n",
            "[I 2024-05-28 13:52:12,286] Trial 62 finished with value: 0.814 and parameters: {'hidden_layers': 1, 'hidden_units_0': 160}. Best is trial 50 with value: 0.824.\n",
            "[I 2024-05-28 13:52:13,025] Trial 63 finished with value: 0.803 and parameters: {'hidden_layers': 1, 'hidden_units_0': 166}. Best is trial 50 with value: 0.824.\n",
            "[I 2024-05-28 13:52:14,015] Trial 64 finished with value: 0.803 and parameters: {'hidden_layers': 2, 'hidden_units_0': 158, 'hidden_units_1': 99}. Best is trial 50 with value: 0.824.\n",
            "[I 2024-05-28 13:52:14,744] Trial 65 finished with value: 0.806 and parameters: {'hidden_layers': 1, 'hidden_units_0': 144}. Best is trial 50 with value: 0.824.\n",
            "[I 2024-05-28 13:52:15,487] Trial 66 finished with value: 0.802 and parameters: {'hidden_layers': 1, 'hidden_units_0': 175}. Best is trial 50 with value: 0.824.\n",
            "[I 2024-05-28 13:52:16,492] Trial 67 finished with value: 0.819 and parameters: {'hidden_layers': 2, 'hidden_units_0': 196, 'hidden_units_1': 200}. Best is trial 50 with value: 0.824.\n",
            "[I 2024-05-28 13:52:17,265] Trial 68 finished with value: 0.811 and parameters: {'hidden_layers': 1, 'hidden_units_0': 158}. Best is trial 50 with value: 0.824.\n",
            "[I 2024-05-28 13:52:18,741] Trial 69 finished with value: 0.746 and parameters: {'hidden_layers': 3, 'hidden_units_0': 195, 'hidden_units_1': 205, 'hidden_units_2': 168}. Best is trial 50 with value: 0.824.\n",
            "[I 2024-05-28 13:52:20,607] Trial 70 finished with value: 0.759 and parameters: {'hidden_layers': 4, 'hidden_units_0': 192, 'hidden_units_1': 233, 'hidden_units_2': 214, 'hidden_units_3': 97}. Best is trial 50 with value: 0.824.\n",
            "[I 2024-05-28 13:52:21,648] Trial 71 finished with value: 0.81 and parameters: {'hidden_layers': 2, 'hidden_units_0': 232, 'hidden_units_1': 189}. Best is trial 50 with value: 0.824.\n",
            "[I 2024-05-28 13:52:22,668] Trial 72 finished with value: 0.792 and parameters: {'hidden_layers': 2, 'hidden_units_0': 211, 'hidden_units_1': 215}. Best is trial 50 with value: 0.824.\n",
            "[I 2024-05-28 13:52:23,646] Trial 73 finished with value: 0.808 and parameters: {'hidden_layers': 2, 'hidden_units_0': 175, 'hidden_units_1': 172}. Best is trial 50 with value: 0.824.\n",
            "[I 2024-05-28 13:52:24,593] Trial 74 finished with value: 0.802 and parameters: {'hidden_layers': 2, 'hidden_units_0': 136, 'hidden_units_1': 205}. Best is trial 50 with value: 0.824.\n",
            "[I 2024-05-28 13:52:25,346] Trial 75 finished with value: 0.796 and parameters: {'hidden_layers': 1, 'hidden_units_0': 201}. Best is trial 50 with value: 0.824.\n",
            "[I 2024-05-28 13:52:26,115] Trial 76 finished with value: 0.811 and parameters: {'hidden_layers': 1, 'hidden_units_0': 215}. Best is trial 50 with value: 0.824.\n",
            "[I 2024-05-28 13:52:26,864] Trial 77 finished with value: 0.81 and parameters: {'hidden_layers': 1, 'hidden_units_0': 157}. Best is trial 50 with value: 0.824.\n",
            "[I 2024-05-28 13:52:28,074] Trial 78 finished with value: 0.772 and parameters: {'hidden_layers': 3, 'hidden_units_0': 124, 'hidden_units_1': 152, 'hidden_units_2': 97}. Best is trial 50 with value: 0.824.\n",
            "[I 2024-05-28 13:52:29,108] Trial 79 finished with value: 0.804 and parameters: {'hidden_layers': 2, 'hidden_units_0': 236, 'hidden_units_1': 179}. Best is trial 50 with value: 0.824.\n",
            "[I 2024-05-28 13:52:29,877] Trial 80 finished with value: 0.812 and parameters: {'hidden_layers': 1, 'hidden_units_0': 219}. Best is trial 50 with value: 0.824.\n",
            "[I 2024-05-28 13:52:30,808] Trial 81 finished with value: 0.806 and parameters: {'hidden_layers': 1, 'hidden_units_0': 220}. Best is trial 50 with value: 0.824.\n",
            "[I 2024-05-28 13:52:31,777] Trial 82 finished with value: 0.811 and parameters: {'hidden_layers': 1, 'hidden_units_0': 199}. Best is trial 50 with value: 0.824.\n",
            "[I 2024-05-28 13:52:32,735] Trial 83 finished with value: 0.811 and parameters: {'hidden_layers': 1, 'hidden_units_0': 204}. Best is trial 50 with value: 0.824.\n",
            "[I 2024-05-28 13:52:33,460] Trial 84 finished with value: 0.807 and parameters: {'hidden_layers': 1, 'hidden_units_0': 169}. Best is trial 50 with value: 0.824.\n",
            "[I 2024-05-28 13:52:34,215] Trial 85 finished with value: 0.807 and parameters: {'hidden_layers': 1, 'hidden_units_0': 207}. Best is trial 50 with value: 0.824.\n",
            "[I 2024-05-28 13:52:34,992] Trial 86 finished with value: 0.806 and parameters: {'hidden_layers': 1, 'hidden_units_0': 245}. Best is trial 50 with value: 0.824.\n",
            "[I 2024-05-28 13:52:36,693] Trial 87 finished with value: 0.784 and parameters: {'hidden_layers': 5, 'hidden_units_0': 221, 'hidden_units_1': 195, 'hidden_units_2': 44, 'hidden_units_3': 78, 'hidden_units_4': 213}. Best is trial 50 with value: 0.824.\n",
            "[I 2024-05-28 13:52:37,715] Trial 88 finished with value: 0.8 and parameters: {'hidden_layers': 2, 'hidden_units_0': 189, 'hidden_units_1': 238}. Best is trial 50 with value: 0.824.\n",
            "[I 2024-05-28 13:52:38,446] Trial 89 finished with value: 0.802 and parameters: {'hidden_layers': 1, 'hidden_units_0': 95}. Best is trial 50 with value: 0.824.\n",
            "[I 2024-05-28 13:52:39,417] Trial 90 finished with value: 0.814 and parameters: {'hidden_layers': 2, 'hidden_units_0': 144, 'hidden_units_1': 256}. Best is trial 50 with value: 0.824.\n",
            "[I 2024-05-28 13:52:40,387] Trial 91 finished with value: 0.792 and parameters: {'hidden_layers': 2, 'hidden_units_0': 143, 'hidden_units_1': 254}. Best is trial 50 with value: 0.824.\n",
            "[I 2024-05-28 13:52:41,343] Trial 92 finished with value: 0.786 and parameters: {'hidden_layers': 2, 'hidden_units_0': 132, 'hidden_units_1': 241}. Best is trial 50 with value: 0.824.\n",
            "[I 2024-05-28 13:52:42,308] Trial 93 finished with value: 0.801 and parameters: {'hidden_layers': 2, 'hidden_units_0': 166, 'hidden_units_1': 223}. Best is trial 50 with value: 0.824.\n",
            "[I 2024-05-28 13:52:43,192] Trial 94 finished with value: 0.815 and parameters: {'hidden_layers': 1, 'hidden_units_0': 150}. Best is trial 50 with value: 0.824.\n",
            "[I 2024-05-28 13:52:44,124] Trial 95 finished with value: 0.8 and parameters: {'hidden_layers': 1, 'hidden_units_0': 156}. Best is trial 50 with value: 0.824.\n",
            "[I 2024-05-28 13:52:45,134] Trial 96 finished with value: 0.799 and parameters: {'hidden_layers': 1, 'hidden_units_0': 153}. Best is trial 50 with value: 0.824.\n",
            "[I 2024-05-28 13:52:45,871] Trial 97 finished with value: 0.803 and parameters: {'hidden_layers': 1, 'hidden_units_0': 142}. Best is trial 50 with value: 0.824.\n",
            "[I 2024-05-28 13:52:46,581] Trial 98 finished with value: 0.8 and parameters: {'hidden_layers': 1, 'hidden_units_0': 130}. Best is trial 50 with value: 0.824.\n",
            "[I 2024-05-28 13:52:47,288] Trial 99 finished with value: 0.805 and parameters: {'hidden_layers': 1, 'hidden_units_0': 113}. Best is trial 50 with value: 0.824.\n",
            "[I 2024-05-28 13:52:48,032] Trial 100 finished with value: 0.802 and parameters: {'hidden_layers': 1, 'hidden_units_0': 149}. Best is trial 50 with value: 0.824.\n",
            "[I 2024-05-28 13:52:49,054] Trial 101 finished with value: 0.803 and parameters: {'hidden_layers': 2, 'hidden_units_0': 182, 'hidden_units_1': 221}. Best is trial 50 with value: 0.824.\n",
            "[I 2024-05-28 13:52:49,783] Trial 102 finished with value: 0.807 and parameters: {'hidden_layers': 1, 'hidden_units_0': 162}. Best is trial 50 with value: 0.824.\n",
            "[I 2024-05-28 13:52:50,558] Trial 103 finished with value: 0.804 and parameters: {'hidden_layers': 1, 'hidden_units_0': 227}. Best is trial 50 with value: 0.824.\n",
            "[I 2024-05-28 13:52:51,526] Trial 104 finished with value: 0.798 and parameters: {'hidden_layers': 2, 'hidden_units_0': 140, 'hidden_units_1': 211}. Best is trial 50 with value: 0.824.\n",
            "[I 2024-05-28 13:52:52,216] Trial 105 finished with value: 0.798 and parameters: {'hidden_layers': 1, 'hidden_units_0': 117}. Best is trial 50 with value: 0.824.\n",
            "[I 2024-05-28 13:52:53,442] Trial 106 finished with value: 0.768 and parameters: {'hidden_layers': 3, 'hidden_units_0': 179, 'hidden_units_1': 241, 'hidden_units_2': 175}. Best is trial 50 with value: 0.824.\n",
            "[I 2024-05-28 13:52:54,385] Trial 107 finished with value: 0.792 and parameters: {'hidden_layers': 2, 'hidden_units_0': 125, 'hidden_units_1': 83}. Best is trial 50 with value: 0.824.\n",
            "[I 2024-05-28 13:52:55,084] Trial 108 finished with value: 0.806 and parameters: {'hidden_layers': 1, 'hidden_units_0': 106}. Best is trial 50 with value: 0.824.\n",
            "[I 2024-05-28 13:52:56,002] Trial 109 finished with value: 0.803 and parameters: {'hidden_layers': 1, 'hidden_units_0': 197}. Best is trial 50 with value: 0.824.\n",
            "[I 2024-05-28 13:52:56,938] Trial 110 finished with value: 0.81 and parameters: {'hidden_layers': 1, 'hidden_units_0': 151}. Best is trial 50 with value: 0.824.\n",
            "[I 2024-05-28 13:52:57,933] Trial 111 finished with value: 0.798 and parameters: {'hidden_layers': 1, 'hidden_units_0': 163}. Best is trial 50 with value: 0.824.\n",
            "[I 2024-05-28 13:52:58,698] Trial 112 finished with value: 0.806 and parameters: {'hidden_layers': 1, 'hidden_units_0': 216}. Best is trial 50 with value: 0.824.\n",
            "[I 2024-05-28 13:52:59,457] Trial 113 finished with value: 0.803 and parameters: {'hidden_layers': 1, 'hidden_units_0': 172}. Best is trial 50 with value: 0.824.\n",
            "[I 2024-05-28 13:53:00,217] Trial 114 finished with value: 0.809 and parameters: {'hidden_layers': 1, 'hidden_units_0': 208}. Best is trial 50 with value: 0.824.\n",
            "[I 2024-05-28 13:53:01,164] Trial 115 finished with value: 0.788 and parameters: {'hidden_layers': 2, 'hidden_units_0': 146, 'hidden_units_1': 143}. Best is trial 50 with value: 0.824.\n",
            "[I 2024-05-28 13:53:01,903] Trial 116 finished with value: 0.807 and parameters: {'hidden_layers': 1, 'hidden_units_0': 156}. Best is trial 50 with value: 0.824.\n",
            "[I 2024-05-28 13:53:02,673] Trial 117 finished with value: 0.809 and parameters: {'hidden_layers': 1, 'hidden_units_0': 226}. Best is trial 50 with value: 0.824.\n",
            "[I 2024-05-28 13:53:03,650] Trial 118 finished with value: 0.8 and parameters: {'hidden_layers': 2, 'hidden_units_0': 161, 'hidden_units_1': 255}. Best is trial 50 with value: 0.824.\n",
            "[I 2024-05-28 13:53:04,412] Trial 119 finished with value: 0.807 and parameters: {'hidden_layers': 1, 'hidden_units_0': 235}. Best is trial 50 with value: 0.824.\n",
            "[I 2024-05-28 13:53:05,360] Trial 120 finished with value: 0.782 and parameters: {'hidden_layers': 2, 'hidden_units_0': 137, 'hidden_units_1': 196}. Best is trial 50 with value: 0.824.\n",
            "[I 2024-05-28 13:53:06,105] Trial 121 finished with value: 0.801 and parameters: {'hidden_layers': 1, 'hidden_units_0': 208}. Best is trial 50 with value: 0.824.\n",
            "[I 2024-05-28 13:53:06,861] Trial 122 finished with value: 0.808 and parameters: {'hidden_layers': 1, 'hidden_units_0': 216}. Best is trial 50 with value: 0.824.\n",
            "[I 2024-05-28 13:53:07,610] Trial 123 finished with value: 0.806 and parameters: {'hidden_layers': 1, 'hidden_units_0': 213}. Best is trial 50 with value: 0.824.\n",
            "[I 2024-05-28 13:53:08,457] Trial 124 finished with value: 0.802 and parameters: {'hidden_layers': 1, 'hidden_units_0': 193}. Best is trial 50 with value: 0.824.\n",
            "[I 2024-05-28 13:53:09,338] Trial 125 finished with value: 0.81 and parameters: {'hidden_layers': 1, 'hidden_units_0': 60}. Best is trial 50 with value: 0.824.\n",
            "[I 2024-05-28 13:53:10,889] Trial 126 finished with value: 0.772 and parameters: {'hidden_layers': 3, 'hidden_units_0': 222, 'hidden_units_1': 226, 'hidden_units_2': 90}. Best is trial 50 with value: 0.824.\n",
            "[I 2024-05-28 13:53:11,613] Trial 127 finished with value: 0.807 and parameters: {'hidden_layers': 1, 'hidden_units_0': 170}. Best is trial 50 with value: 0.824.\n",
            "[I 2024-05-28 13:53:12,352] Trial 128 finished with value: 0.802 and parameters: {'hidden_layers': 1, 'hidden_units_0': 187}. Best is trial 50 with value: 0.824.\n",
            "[I 2024-05-28 13:53:13,369] Trial 129 finished with value: 0.812 and parameters: {'hidden_layers': 2, 'hidden_units_0': 230, 'hidden_units_1': 162}. Best is trial 50 with value: 0.824.\n",
            "[I 2024-05-28 13:53:14,392] Trial 130 finished with value: 0.799 and parameters: {'hidden_layers': 2, 'hidden_units_0': 237, 'hidden_units_1': 161}. Best is trial 50 with value: 0.824.\n",
            "[I 2024-05-28 13:53:15,404] Trial 131 finished with value: 0.808 and parameters: {'hidden_layers': 2, 'hidden_units_0': 226, 'hidden_units_1': 131}. Best is trial 50 with value: 0.824.\n",
            "[I 2024-05-28 13:53:16,421] Trial 132 finished with value: 0.806 and parameters: {'hidden_layers': 2, 'hidden_units_0': 245, 'hidden_units_1': 172}. Best is trial 50 with value: 0.824.\n",
            "[I 2024-05-28 13:53:17,419] Trial 133 finished with value: 0.815 and parameters: {'hidden_layers': 2, 'hidden_units_0': 218, 'hidden_units_1': 177}. Best is trial 50 with value: 0.824.\n",
            "[I 2024-05-28 13:53:18,422] Trial 134 finished with value: 0.805 and parameters: {'hidden_layers': 2, 'hidden_units_0': 232, 'hidden_units_1': 185}. Best is trial 50 with value: 0.824.\n",
            "[I 2024-05-28 13:53:19,391] Trial 135 finished with value: 0.791 and parameters: {'hidden_layers': 2, 'hidden_units_0': 149, 'hidden_units_1': 164}. Best is trial 50 with value: 0.824.\n",
            "[I 2024-05-28 13:53:20,396] Trial 136 finished with value: 0.8 and parameters: {'hidden_layers': 2, 'hidden_units_0': 220, 'hidden_units_1': 147}. Best is trial 50 with value: 0.824.\n",
            "[I 2024-05-28 13:53:21,681] Trial 137 finished with value: 0.791 and parameters: {'hidden_layers': 2, 'hidden_units_0': 240, 'hidden_units_1': 180}. Best is trial 50 with value: 0.824.\n",
            "[I 2024-05-28 13:53:23,012] Trial 138 finished with value: 0.781 and parameters: {'hidden_layers': 2, 'hidden_units_0': 27, 'hidden_units_1': 246}. Best is trial 50 with value: 0.824.\n",
            "[I 2024-05-28 13:53:24,053] Trial 139 finished with value: 0.78 and parameters: {'hidden_layers': 2, 'hidden_units_0': 83, 'hidden_units_1': 121}. Best is trial 50 with value: 0.824.\n",
            "[I 2024-05-28 13:53:25,065] Trial 140 finished with value: 0.801 and parameters: {'hidden_layers': 2, 'hidden_units_0': 205, 'hidden_units_1': 213}. Best is trial 50 with value: 0.824.\n",
            "[I 2024-05-28 13:53:25,748] Trial 141 finished with value: 0.799 and parameters: {'hidden_layers': 1, 'hidden_units_0': 17}. Best is trial 50 with value: 0.824.\n",
            "[I 2024-05-28 13:53:26,509] Trial 142 finished with value: 0.803 and parameters: {'hidden_layers': 1, 'hidden_units_0': 215}. Best is trial 50 with value: 0.824.\n",
            "[I 2024-05-28 13:53:27,280] Trial 143 finished with value: 0.811 and parameters: {'hidden_layers': 1, 'hidden_units_0': 229}. Best is trial 50 with value: 0.824.\n",
            "[I 2024-05-28 13:53:28,244] Trial 144 finished with value: 0.785 and parameters: {'hidden_layers': 2, 'hidden_units_0': 153, 'hidden_units_1': 158}. Best is trial 50 with value: 0.824.\n",
            "[I 2024-05-28 13:53:29,010] Trial 145 finished with value: 0.807 and parameters: {'hidden_layers': 1, 'hidden_units_0': 219}. Best is trial 50 with value: 0.824.\n",
            "[I 2024-05-28 13:53:29,769] Trial 146 finished with value: 0.808 and parameters: {'hidden_layers': 1, 'hidden_units_0': 211}. Best is trial 50 with value: 0.824.\n",
            "[I 2024-05-28 13:53:31,261] Trial 147 finished with value: 0.799 and parameters: {'hidden_layers': 4, 'hidden_units_0': 201, 'hidden_units_1': 174, 'hidden_units_2': 230, 'hidden_units_3': 161}. Best is trial 50 with value: 0.824.\n",
            "[I 2024-05-28 13:53:31,978] Trial 148 finished with value: 0.811 and parameters: {'hidden_layers': 1, 'hidden_units_0': 130}. Best is trial 50 with value: 0.824.\n",
            "[I 2024-05-28 13:53:33,298] Trial 149 finished with value: 0.772 and parameters: {'hidden_layers': 3, 'hidden_units_0': 159, 'hidden_units_1': 200, 'hidden_units_2': 256}. Best is trial 50 with value: 0.824.\n",
            "[I 2024-05-28 13:53:34,186] Trial 150 finished with value: 0.812 and parameters: {'hidden_layers': 1, 'hidden_units_0': 92}. Best is trial 50 with value: 0.824.\n",
            "[I 2024-05-28 13:53:35,133] Trial 151 finished with value: 0.807 and parameters: {'hidden_layers': 1, 'hidden_units_0': 94}. Best is trial 50 with value: 0.824.\n",
            "[I 2024-05-28 13:53:35,999] Trial 152 finished with value: 0.801 and parameters: {'hidden_layers': 1, 'hidden_units_0': 99}. Best is trial 50 with value: 0.824.\n",
            "[I 2024-05-28 13:53:36,711] Trial 153 finished with value: 0.812 and parameters: {'hidden_layers': 1, 'hidden_units_0': 71}. Best is trial 50 with value: 0.824.\n",
            "[I 2024-05-28 13:53:37,418] Trial 154 finished with value: 0.812 and parameters: {'hidden_layers': 1, 'hidden_units_0': 79}. Best is trial 50 with value: 0.824.\n",
            "[I 2024-05-28 13:53:38,158] Trial 155 finished with value: 0.799 and parameters: {'hidden_layers': 1, 'hidden_units_0': 71}. Best is trial 50 with value: 0.824.\n",
            "[I 2024-05-28 13:53:38,875] Trial 156 finished with value: 0.801 and parameters: {'hidden_layers': 1, 'hidden_units_0': 90}. Best is trial 50 with value: 0.824.\n",
            "[I 2024-05-28 13:53:39,569] Trial 157 finished with value: 0.803 and parameters: {'hidden_layers': 1, 'hidden_units_0': 48}. Best is trial 50 with value: 0.824.\n",
            "[I 2024-05-28 13:53:40,511] Trial 158 finished with value: 0.818 and parameters: {'hidden_layers': 2, 'hidden_units_0': 80, 'hidden_units_1': 192}. Best is trial 50 with value: 0.824.\n",
            "[I 2024-05-28 13:53:41,428] Trial 159 finished with value: 0.801 and parameters: {'hidden_layers': 2, 'hidden_units_0': 79, 'hidden_units_1': 193}. Best is trial 50 with value: 0.824.\n",
            "[I 2024-05-28 13:53:42,100] Trial 160 finished with value: 0.802 and parameters: {'hidden_layers': 1, 'hidden_units_0': 65}. Best is trial 50 with value: 0.824.\n",
            "[I 2024-05-28 13:53:43,020] Trial 161 finished with value: 0.79 and parameters: {'hidden_layers': 2, 'hidden_units_0': 82, 'hidden_units_1': 178}. Best is trial 50 with value: 0.824.\n",
            "[I 2024-05-28 13:53:43,936] Trial 162 finished with value: 0.8 and parameters: {'hidden_layers': 2, 'hidden_units_0': 75, 'hidden_units_1': 204}. Best is trial 50 with value: 0.824.\n",
            "[I 2024-05-28 13:53:44,897] Trial 163 finished with value: 0.779 and parameters: {'hidden_layers': 2, 'hidden_units_0': 86, 'hidden_units_1': 188}. Best is trial 50 with value: 0.824.\n",
            "[I 2024-05-28 13:53:45,903] Trial 164 finished with value: 0.795 and parameters: {'hidden_layers': 2, 'hidden_units_0': 65, 'hidden_units_1': 228}. Best is trial 50 with value: 0.824.\n",
            "[I 2024-05-28 13:53:47,088] Trial 165 finished with value: 0.78 and parameters: {'hidden_layers': 2, 'hidden_units_0': 43, 'hidden_units_1': 167}. Best is trial 50 with value: 0.824.\n",
            "[I 2024-05-28 13:53:48,055] Trial 166 finished with value: 0.806 and parameters: {'hidden_layers': 1, 'hidden_units_0': 89}. Best is trial 50 with value: 0.824.\n",
            "[I 2024-05-28 13:53:48,887] Trial 167 finished with value: 0.807 and parameters: {'hidden_layers': 1, 'hidden_units_0': 55}. Best is trial 50 with value: 0.824.\n",
            "[I 2024-05-28 13:53:49,572] Trial 168 finished with value: 0.811 and parameters: {'hidden_layers': 1, 'hidden_units_0': 74}. Best is trial 50 with value: 0.824.\n",
            "[I 2024-05-28 13:53:50,504] Trial 169 finished with value: 0.797 and parameters: {'hidden_layers': 2, 'hidden_units_0': 100, 'hidden_units_1': 155}. Best is trial 50 with value: 0.824.\n",
            "[I 2024-05-28 13:53:51,191] Trial 170 finished with value: 0.817 and parameters: {'hidden_layers': 1, 'hidden_units_0': 36}. Best is trial 50 with value: 0.824.\n",
            "[I 2024-05-28 13:53:51,888] Trial 171 finished with value: 0.8 and parameters: {'hidden_layers': 1, 'hidden_units_0': 35}. Best is trial 50 with value: 0.824.\n",
            "[I 2024-05-28 13:53:52,573] Trial 172 finished with value: 0.815 and parameters: {'hidden_layers': 1, 'hidden_units_0': 80}. Best is trial 50 with value: 0.824.\n",
            "[I 2024-05-28 13:53:53,339] Trial 173 finished with value: 0.812 and parameters: {'hidden_layers': 1, 'hidden_units_0': 83}. Best is trial 50 with value: 0.824.\n",
            "[I 2024-05-28 13:53:54,046] Trial 174 finished with value: 0.814 and parameters: {'hidden_layers': 1, 'hidden_units_0': 41}. Best is trial 50 with value: 0.824.\n",
            "[I 2024-05-28 13:53:54,784] Trial 175 finished with value: 0.801 and parameters: {'hidden_layers': 1, 'hidden_units_0': 45}. Best is trial 50 with value: 0.824.\n",
            "[I 2024-05-28 13:53:55,469] Trial 176 finished with value: 0.799 and parameters: {'hidden_layers': 1, 'hidden_units_0': 27}. Best is trial 50 with value: 0.824.\n",
            "[I 2024-05-28 13:53:56,229] Trial 177 finished with value: 0.815 and parameters: {'hidden_layers': 1, 'hidden_units_0': 39}. Best is trial 50 with value: 0.824.\n",
            "[I 2024-05-28 13:53:56,930] Trial 178 finished with value: 0.815 and parameters: {'hidden_layers': 1, 'hidden_units_0': 33}. Best is trial 50 with value: 0.824.\n",
            "[I 2024-05-28 13:53:57,616] Trial 179 finished with value: 0.799 and parameters: {'hidden_layers': 1, 'hidden_units_0': 28}. Best is trial 50 with value: 0.824.\n",
            "[I 2024-05-28 13:53:58,315] Trial 180 finished with value: 0.802 and parameters: {'hidden_layers': 1, 'hidden_units_0': 36}. Best is trial 50 with value: 0.824.\n",
            "[I 2024-05-28 13:53:59,185] Trial 181 finished with value: 0.812 and parameters: {'hidden_layers': 1, 'hidden_units_0': 32}. Best is trial 50 with value: 0.824.\n",
            "[I 2024-05-28 13:54:00,066] Trial 182 finished with value: 0.809 and parameters: {'hidden_layers': 1, 'hidden_units_0': 44}. Best is trial 50 with value: 0.824.\n",
            "[I 2024-05-28 13:54:01,026] Trial 183 finished with value: 0.805 and parameters: {'hidden_layers': 1, 'hidden_units_0': 35}. Best is trial 50 with value: 0.824.\n",
            "[I 2024-05-28 13:54:01,855] Trial 184 finished with value: 0.816 and parameters: {'hidden_layers': 1, 'hidden_units_0': 22}. Best is trial 50 with value: 0.824.\n",
            "[I 2024-05-28 13:54:02,547] Trial 185 finished with value: 0.795 and parameters: {'hidden_layers': 1, 'hidden_units_0': 19}. Best is trial 50 with value: 0.824.\n",
            "[I 2024-05-28 13:54:03,230] Trial 186 finished with value: 0.81 and parameters: {'hidden_layers': 1, 'hidden_units_0': 22}. Best is trial 50 with value: 0.824.\n",
            "[I 2024-05-28 13:54:03,915] Trial 187 finished with value: 0.809 and parameters: {'hidden_layers': 1, 'hidden_units_0': 30}. Best is trial 50 with value: 0.824.\n",
            "[I 2024-05-28 13:54:04,599] Trial 188 finished with value: 0.808 and parameters: {'hidden_layers': 1, 'hidden_units_0': 23}. Best is trial 50 with value: 0.824.\n",
            "[I 2024-05-28 13:54:05,297] Trial 189 finished with value: 0.807 and parameters: {'hidden_layers': 1, 'hidden_units_0': 40}. Best is trial 50 with value: 0.824.\n",
            "[I 2024-05-28 13:54:05,989] Trial 190 finished with value: 0.802 and parameters: {'hidden_layers': 1, 'hidden_units_0': 52}. Best is trial 50 with value: 0.824.\n",
            "[I 2024-05-28 13:54:06,691] Trial 191 finished with value: 0.803 and parameters: {'hidden_layers': 1, 'hidden_units_0': 30}. Best is trial 50 with value: 0.824.\n",
            "[I 2024-05-28 13:54:07,403] Trial 192 finished with value: 0.811 and parameters: {'hidden_layers': 1, 'hidden_units_0': 110}. Best is trial 50 with value: 0.824.\n",
            "[I 2024-05-28 13:54:08,135] Trial 193 finished with value: 0.801 and parameters: {'hidden_layers': 1, 'hidden_units_0': 47}. Best is trial 50 with value: 0.824.\n",
            "[I 2024-05-28 13:54:08,846] Trial 194 finished with value: 0.816 and parameters: {'hidden_layers': 1, 'hidden_units_0': 40}. Best is trial 50 with value: 0.824.\n",
            "[I 2024-05-28 13:54:09,548] Trial 195 finished with value: 0.807 and parameters: {'hidden_layers': 1, 'hidden_units_0': 38}. Best is trial 50 with value: 0.824.\n",
            "[I 2024-05-28 13:54:10,252] Trial 196 finished with value: 0.811 and parameters: {'hidden_layers': 1, 'hidden_units_0': 51}. Best is trial 50 with value: 0.824.\n",
            "[I 2024-05-28 13:54:10,948] Trial 197 finished with value: 0.812 and parameters: {'hidden_layers': 1, 'hidden_units_0': 40}. Best is trial 50 with value: 0.824.\n",
            "[I 2024-05-28 13:54:11,779] Trial 198 finished with value: 0.811 and parameters: {'hidden_layers': 1, 'hidden_units_0': 33}. Best is trial 50 with value: 0.824.\n",
            "[I 2024-05-28 13:54:12,686] Trial 199 finished with value: 0.812 and parameters: {'hidden_layers': 1, 'hidden_units_0': 140}. Best is trial 50 with value: 0.824.\n",
            "[I 2024-05-28 13:54:13,677] Trial 200 finished with value: 0.815 and parameters: {'hidden_layers': 1, 'hidden_units_0': 39}. Best is trial 50 with value: 0.824.\n",
            "[I 2024-05-28 13:54:14,484] Trial 201 finished with value: 0.798 and parameters: {'hidden_layers': 1, 'hidden_units_0': 42}. Best is trial 50 with value: 0.824.\n",
            "[I 2024-05-28 13:54:15,236] Trial 202 finished with value: 0.811 and parameters: {'hidden_layers': 1, 'hidden_units_0': 36}. Best is trial 50 with value: 0.824.\n",
            "[I 2024-05-28 13:54:15,975] Trial 203 finished with value: 0.814 and parameters: {'hidden_layers': 1, 'hidden_units_0': 146}. Best is trial 50 with value: 0.824.\n",
            "[I 2024-05-28 13:54:16,696] Trial 204 finished with value: 0.816 and parameters: {'hidden_layers': 1, 'hidden_units_0': 152}. Best is trial 50 with value: 0.824.\n",
            "[I 2024-05-28 13:54:17,410] Trial 205 finished with value: 0.81 and parameters: {'hidden_layers': 1, 'hidden_units_0': 150}. Best is trial 50 with value: 0.824.\n",
            "[I 2024-05-28 13:54:18,132] Trial 206 finished with value: 0.807 and parameters: {'hidden_layers': 1, 'hidden_units_0': 164}. Best is trial 50 with value: 0.824.\n",
            "[I 2024-05-28 13:54:18,863] Trial 207 finished with value: 0.807 and parameters: {'hidden_layers': 1, 'hidden_units_0': 153}. Best is trial 50 with value: 0.824.\n",
            "[I 2024-05-28 13:54:20,301] Trial 208 finished with value: 0.784 and parameters: {'hidden_layers': 4, 'hidden_units_0': 144, 'hidden_units_1': 210, 'hidden_units_2': 193, 'hidden_units_3': 209}. Best is trial 50 with value: 0.824.\n",
            "[I 2024-05-28 13:54:21,017] Trial 209 finished with value: 0.811 and parameters: {'hidden_layers': 1, 'hidden_units_0': 24}. Best is trial 50 with value: 0.824.\n",
            "[I 2024-05-28 13:54:21,743] Trial 210 finished with value: 0.814 and parameters: {'hidden_layers': 1, 'hidden_units_0': 146}. Best is trial 50 with value: 0.824.\n",
            "[I 2024-05-28 13:54:22,449] Trial 211 finished with value: 0.799 and parameters: {'hidden_layers': 1, 'hidden_units_0': 148}. Best is trial 50 with value: 0.824.\n",
            "[I 2024-05-28 13:54:23,167] Trial 212 finished with value: 0.816 and parameters: {'hidden_layers': 1, 'hidden_units_0': 141}. Best is trial 50 with value: 0.824.\n",
            "[I 2024-05-28 13:54:23,883] Trial 213 finished with value: 0.801 and parameters: {'hidden_layers': 1, 'hidden_units_0': 137}. Best is trial 50 with value: 0.824.\n",
            "[I 2024-05-28 13:54:24,798] Trial 214 finished with value: 0.798 and parameters: {'hidden_layers': 1, 'hidden_units_0': 132}. Best is trial 50 with value: 0.824.\n",
            "[I 2024-05-28 13:54:25,729] Trial 215 finished with value: 0.808 and parameters: {'hidden_layers': 1, 'hidden_units_0': 157}. Best is trial 50 with value: 0.824.\n",
            "[I 2024-05-28 13:54:26,681] Trial 216 finished with value: 0.798 and parameters: {'hidden_layers': 1, 'hidden_units_0': 140}. Best is trial 50 with value: 0.824.\n",
            "[I 2024-05-28 13:54:27,432] Trial 217 finished with value: 0.804 and parameters: {'hidden_layers': 1, 'hidden_units_0': 44}. Best is trial 50 with value: 0.824.\n",
            "[I 2024-05-28 13:54:28,132] Trial 218 finished with value: 0.8 and parameters: {'hidden_layers': 1, 'hidden_units_0': 54}. Best is trial 50 with value: 0.824.\n",
            "[I 2024-05-28 13:54:28,833] Trial 219 finished with value: 0.803 and parameters: {'hidden_layers': 1, 'hidden_units_0': 60}. Best is trial 50 with value: 0.824.\n",
            "[I 2024-05-28 13:54:29,540] Trial 220 finished with value: 0.804 and parameters: {'hidden_layers': 1, 'hidden_units_0': 120}. Best is trial 50 with value: 0.824.\n",
            "[I 2024-05-28 13:54:30,259] Trial 221 finished with value: 0.811 and parameters: {'hidden_layers': 1, 'hidden_units_0': 146}. Best is trial 50 with value: 0.824.\n",
            "[I 2024-05-28 13:54:30,976] Trial 222 finished with value: 0.804 and parameters: {'hidden_layers': 1, 'hidden_units_0': 144}. Best is trial 50 with value: 0.824.\n",
            "[I 2024-05-28 13:54:31,694] Trial 223 finished with value: 0.796 and parameters: {'hidden_layers': 1, 'hidden_units_0': 155}. Best is trial 50 with value: 0.824.\n",
            "[I 2024-05-28 13:54:32,377] Trial 224 finished with value: 0.814 and parameters: {'hidden_layers': 1, 'hidden_units_0': 40}. Best is trial 50 with value: 0.824.\n",
            "[I 2024-05-28 13:54:33,103] Trial 225 finished with value: 0.809 and parameters: {'hidden_layers': 1, 'hidden_units_0': 150}. Best is trial 50 with value: 0.824.\n",
            "[I 2024-05-28 13:54:33,817] Trial 226 finished with value: 0.81 and parameters: {'hidden_layers': 1, 'hidden_units_0': 139}. Best is trial 50 with value: 0.824.\n",
            "[I 2024-05-28 13:54:34,539] Trial 227 finished with value: 0.798 and parameters: {'hidden_layers': 1, 'hidden_units_0': 143}. Best is trial 50 with value: 0.824.\n",
            "[I 2024-05-28 13:54:35,263] Trial 228 finished with value: 0.811 and parameters: {'hidden_layers': 1, 'hidden_units_0': 160}. Best is trial 50 with value: 0.824.\n",
            "[I 2024-05-28 13:54:35,961] Trial 229 finished with value: 0.809 and parameters: {'hidden_layers': 1, 'hidden_units_0': 33}. Best is trial 50 with value: 0.824.\n",
            "[I 2024-05-28 13:54:37,241] Trial 230 finished with value: 0.76 and parameters: {'hidden_layers': 3, 'hidden_units_0': 16, 'hidden_units_1': 246, 'hidden_units_2': 157}. Best is trial 50 with value: 0.824.\n",
            "[I 2024-05-28 13:54:38,108] Trial 231 finished with value: 0.812 and parameters: {'hidden_layers': 1, 'hidden_units_0': 40}. Best is trial 50 with value: 0.824.\n",
            "[I 2024-05-28 13:54:39,076] Trial 232 finished with value: 0.796 and parameters: {'hidden_layers': 1, 'hidden_units_0': 46}. Best is trial 50 with value: 0.824.\n",
            "[I 2024-05-28 13:54:39,903] Trial 233 finished with value: 0.805 and parameters: {'hidden_layers': 1, 'hidden_units_0': 35}. Best is trial 50 with value: 0.824.\n",
            "[I 2024-05-28 13:54:40,600] Trial 234 finished with value: 0.813 and parameters: {'hidden_layers': 1, 'hidden_units_0': 31}. Best is trial 50 with value: 0.824.\n",
            "[I 2024-05-28 13:54:41,288] Trial 235 finished with value: 0.812 and parameters: {'hidden_layers': 1, 'hidden_units_0': 41}. Best is trial 50 with value: 0.824.\n",
            "[I 2024-05-28 13:54:41,996] Trial 236 finished with value: 0.808 and parameters: {'hidden_layers': 1, 'hidden_units_0': 49}. Best is trial 50 with value: 0.824.\n",
            "[I 2024-05-28 13:54:42,736] Trial 237 finished with value: 0.811 and parameters: {'hidden_layers': 1, 'hidden_units_0': 148}. Best is trial 50 with value: 0.824.\n",
            "[I 2024-05-28 13:54:43,465] Trial 238 finished with value: 0.8 and parameters: {'hidden_layers': 1, 'hidden_units_0': 134}. Best is trial 50 with value: 0.824.\n",
            "[I 2024-05-28 13:54:44,162] Trial 239 finished with value: 0.799 and parameters: {'hidden_layers': 1, 'hidden_units_0': 37}. Best is trial 50 with value: 0.824.\n",
            "[I 2024-05-28 13:54:44,903] Trial 240 finished with value: 0.809 and parameters: {'hidden_layers': 1, 'hidden_units_0': 153}. Best is trial 50 with value: 0.824.\n",
            "[I 2024-05-28 13:54:45,608] Trial 241 finished with value: 0.812 and parameters: {'hidden_layers': 1, 'hidden_units_0': 29}. Best is trial 50 with value: 0.824.\n",
            "[I 2024-05-28 13:54:46,319] Trial 242 finished with value: 0.804 and parameters: {'hidden_layers': 1, 'hidden_units_0': 23}. Best is trial 50 with value: 0.824.\n",
            "[I 2024-05-28 13:54:47,009] Trial 243 finished with value: 0.803 and parameters: {'hidden_layers': 1, 'hidden_units_0': 28}. Best is trial 50 with value: 0.824.\n",
            "[I 2024-05-28 13:54:47,793] Trial 244 finished with value: 0.809 and parameters: {'hidden_layers': 1, 'hidden_units_0': 38}. Best is trial 50 with value: 0.824.\n",
            "[I 2024-05-28 13:54:48,511] Trial 245 finished with value: 0.815 and parameters: {'hidden_layers': 1, 'hidden_units_0': 33}. Best is trial 50 with value: 0.824.\n",
            "[I 2024-05-28 13:54:49,201] Trial 246 finished with value: 0.796 and parameters: {'hidden_layers': 1, 'hidden_units_0': 42}. Best is trial 50 with value: 0.824.\n",
            "[I 2024-05-28 13:54:50,067] Trial 247 finished with value: 0.798 and parameters: {'hidden_layers': 1, 'hidden_units_0': 144}. Best is trial 50 with value: 0.824.\n",
            "[I 2024-05-28 13:54:50,958] Trial 248 finished with value: 0.804 and parameters: {'hidden_layers': 1, 'hidden_units_0': 126}. Best is trial 50 with value: 0.824.\n",
            "[I 2024-05-28 13:54:51,894] Trial 249 finished with value: 0.817 and parameters: {'hidden_layers': 1, 'hidden_units_0': 46}. Best is trial 50 with value: 0.824.\n",
            "[I 2024-05-28 13:54:52,714] Trial 250 finished with value: 0.806 and parameters: {'hidden_layers': 1, 'hidden_units_0': 48}. Best is trial 50 with value: 0.824.\n",
            "[I 2024-05-28 13:54:54,370] Trial 251 finished with value: 0.742 and parameters: {'hidden_layers': 5, 'hidden_units_0': 152, 'hidden_units_1': 218, 'hidden_units_2': 130, 'hidden_units_3': 83, 'hidden_units_4': 149}. Best is trial 50 with value: 0.824.\n",
            "[I 2024-05-28 13:54:55,148] Trial 252 finished with value: 0.817 and parameters: {'hidden_layers': 1, 'hidden_units_0': 171}. Best is trial 50 with value: 0.824.\n",
            "[I 2024-05-28 13:54:55,913] Trial 253 finished with value: 0.798 and parameters: {'hidden_layers': 1, 'hidden_units_0': 178}. Best is trial 50 with value: 0.824.\n",
            "[I 2024-05-28 13:54:56,651] Trial 254 finished with value: 0.804 and parameters: {'hidden_layers': 1, 'hidden_units_0': 171}. Best is trial 50 with value: 0.824.\n",
            "[I 2024-05-28 13:54:57,364] Trial 255 finished with value: 0.801 and parameters: {'hidden_layers': 1, 'hidden_units_0': 165}. Best is trial 50 with value: 0.824.\n",
            "[I 2024-05-28 13:54:58,102] Trial 256 finished with value: 0.806 and parameters: {'hidden_layers': 1, 'hidden_units_0': 184}. Best is trial 50 with value: 0.824.\n",
            "[I 2024-05-28 13:54:58,861] Trial 257 finished with value: 0.811 and parameters: {'hidden_layers': 1, 'hidden_units_0': 174}. Best is trial 50 with value: 0.824.\n",
            "[I 2024-05-28 13:54:59,595] Trial 258 finished with value: 0.81 and parameters: {'hidden_layers': 1, 'hidden_units_0': 160}. Best is trial 50 with value: 0.824.\n",
            "[I 2024-05-28 13:55:00,568] Trial 259 finished with value: 0.813 and parameters: {'hidden_layers': 2, 'hidden_units_0': 167, 'hidden_units_1': 231}. Best is trial 50 with value: 0.824.\n",
            "[I 2024-05-28 13:55:01,281] Trial 260 finished with value: 0.809 and parameters: {'hidden_layers': 1, 'hidden_units_0': 34}. Best is trial 50 with value: 0.824.\n",
            "[I 2024-05-28 13:55:02,027] Trial 261 finished with value: 0.805 and parameters: {'hidden_layers': 1, 'hidden_units_0': 58}. Best is trial 50 with value: 0.824.\n",
            "[I 2024-05-28 13:55:03,214] Trial 262 finished with value: 0.788 and parameters: {'hidden_layers': 2, 'hidden_units_0': 46, 'hidden_units_1': 237}. Best is trial 50 with value: 0.824.\n",
            "[I 2024-05-28 13:55:04,152] Trial 263 finished with value: 0.8 and parameters: {'hidden_layers': 1, 'hidden_units_0': 20}. Best is trial 50 with value: 0.824.\n",
            "[I 2024-05-28 13:55:05,106] Trial 264 finished with value: 0.803 and parameters: {'hidden_layers': 1, 'hidden_units_0': 37}. Best is trial 50 with value: 0.824.\n",
            "[I 2024-05-28 13:55:05,810] Trial 265 finished with value: 0.817 and parameters: {'hidden_layers': 1, 'hidden_units_0': 52}. Best is trial 50 with value: 0.824.\n",
            "[I 2024-05-28 13:55:06,495] Trial 266 finished with value: 0.815 and parameters: {'hidden_layers': 1, 'hidden_units_0': 50}. Best is trial 50 with value: 0.824.\n",
            "[I 2024-05-28 13:55:07,643] Trial 267 finished with value: 0.782 and parameters: {'hidden_layers': 3, 'hidden_units_0': 53, 'hidden_units_1': 51, 'hidden_units_2': 113}. Best is trial 50 with value: 0.824.\n",
            "[I 2024-05-28 13:55:08,351] Trial 268 finished with value: 0.802 and parameters: {'hidden_layers': 1, 'hidden_units_0': 56}. Best is trial 50 with value: 0.824.\n",
            "[I 2024-05-28 13:55:09,294] Trial 269 finished with value: 0.792 and parameters: {'hidden_layers': 2, 'hidden_units_0': 61, 'hidden_units_1': 248}. Best is trial 50 with value: 0.824.\n",
            "[I 2024-05-28 13:55:09,995] Trial 270 finished with value: 0.805 and parameters: {'hidden_layers': 1, 'hidden_units_0': 67}. Best is trial 50 with value: 0.824.\n",
            "[I 2024-05-28 13:55:10,702] Trial 271 finished with value: 0.816 and parameters: {'hidden_layers': 1, 'hidden_units_0': 51}. Best is trial 50 with value: 0.824.\n",
            "[I 2024-05-28 13:55:11,411] Trial 272 finished with value: 0.802 and parameters: {'hidden_layers': 1, 'hidden_units_0': 48}. Best is trial 50 with value: 0.824.\n",
            "[I 2024-05-28 13:55:12,107] Trial 273 finished with value: 0.799 and parameters: {'hidden_layers': 1, 'hidden_units_0': 55}. Best is trial 50 with value: 0.824.\n",
            "[I 2024-05-28 13:55:12,814] Trial 274 finished with value: 0.811 and parameters: {'hidden_layers': 1, 'hidden_units_0': 45}. Best is trial 50 with value: 0.824.\n",
            "[I 2024-05-28 13:55:13,521] Trial 275 finished with value: 0.811 and parameters: {'hidden_layers': 1, 'hidden_units_0': 44}. Best is trial 50 with value: 0.824.\n",
            "[I 2024-05-28 13:55:14,221] Trial 276 finished with value: 0.799 and parameters: {'hidden_layers': 1, 'hidden_units_0': 51}. Best is trial 50 with value: 0.824.\n",
            "[I 2024-05-28 13:55:14,944] Trial 277 finished with value: 0.814 and parameters: {'hidden_layers': 1, 'hidden_units_0': 51}. Best is trial 50 with value: 0.824.\n",
            "[I 2024-05-28 13:55:15,847] Trial 278 finished with value: 0.814 and parameters: {'hidden_layers': 1, 'hidden_units_0': 32}. Best is trial 50 with value: 0.824.\n",
            "[I 2024-05-28 13:55:16,791] Trial 279 finished with value: 0.796 and parameters: {'hidden_layers': 1, 'hidden_units_0': 104}. Best is trial 50 with value: 0.824.\n",
            "[I 2024-05-28 13:55:17,755] Trial 280 finished with value: 0.814 and parameters: {'hidden_layers': 1, 'hidden_units_0': 26}. Best is trial 50 with value: 0.824.\n",
            "[I 2024-05-28 13:55:18,473] Trial 281 finished with value: 0.802 and parameters: {'hidden_layers': 1, 'hidden_units_0': 49}. Best is trial 50 with value: 0.824.\n",
            "[I 2024-05-28 13:55:19,153] Trial 282 finished with value: 0.804 and parameters: {'hidden_layers': 1, 'hidden_units_0': 41}. Best is trial 50 with value: 0.824.\n",
            "[I 2024-05-28 13:55:19,876] Trial 283 finished with value: 0.803 and parameters: {'hidden_layers': 1, 'hidden_units_0': 37}. Best is trial 50 with value: 0.824.\n",
            "[I 2024-05-28 13:55:20,632] Trial 284 finished with value: 0.811 and parameters: {'hidden_layers': 1, 'hidden_units_0': 170}. Best is trial 50 with value: 0.824.\n",
            "[I 2024-05-28 13:55:21,338] Trial 285 finished with value: 0.809 and parameters: {'hidden_layers': 1, 'hidden_units_0': 44}. Best is trial 50 with value: 0.824.\n",
            "[I 2024-05-28 13:55:22,114] Trial 286 finished with value: 0.813 and parameters: {'hidden_layers': 1, 'hidden_units_0': 252}. Best is trial 50 with value: 0.824.\n",
            "[I 2024-05-28 13:55:22,810] Trial 287 finished with value: 0.816 and parameters: {'hidden_layers': 1, 'hidden_units_0': 64}. Best is trial 50 with value: 0.824.\n",
            "[I 2024-05-28 13:55:23,526] Trial 288 finished with value: 0.812 and parameters: {'hidden_layers': 1, 'hidden_units_0': 64}. Best is trial 50 with value: 0.824.\n",
            "[I 2024-05-28 13:55:24,197] Trial 289 finished with value: 0.81 and parameters: {'hidden_layers': 1, 'hidden_units_0': 59}. Best is trial 50 with value: 0.824.\n",
            "[I 2024-05-28 13:55:24,901] Trial 290 finished with value: 0.796 and parameters: {'hidden_layers': 1, 'hidden_units_0': 77}. Best is trial 50 with value: 0.824.\n",
            "[I 2024-05-28 13:55:25,648] Trial 291 finished with value: 0.8 and parameters: {'hidden_layers': 1, 'hidden_units_0': 87}. Best is trial 50 with value: 0.824.\n",
            "[I 2024-05-28 13:55:26,400] Trial 292 finished with value: 0.801 and parameters: {'hidden_layers': 1, 'hidden_units_0': 189}. Best is trial 50 with value: 0.824.\n",
            "[I 2024-05-28 13:55:27,100] Trial 293 finished with value: 0.799 and parameters: {'hidden_layers': 1, 'hidden_units_0': 68}. Best is trial 50 with value: 0.824.\n",
            "[I 2024-05-28 13:55:27,871] Trial 294 finished with value: 0.813 and parameters: {'hidden_layers': 1, 'hidden_units_0': 50}. Best is trial 50 with value: 0.824.\n",
            "[I 2024-05-28 13:55:28,788] Trial 295 finished with value: 0.798 and parameters: {'hidden_layers': 1, 'hidden_units_0': 98}. Best is trial 50 with value: 0.824.\n",
            "[I 2024-05-28 13:55:29,752] Trial 296 finished with value: 0.804 and parameters: {'hidden_layers': 1, 'hidden_units_0': 53}. Best is trial 50 with value: 0.824.\n",
            "[I 2024-05-28 13:55:31,424] Trial 297 finished with value: 0.784 and parameters: {'hidden_layers': 4, 'hidden_units_0': 196, 'hidden_units_1': 134, 'hidden_units_2': 46, 'hidden_units_3': 133}. Best is trial 50 with value: 0.824.\n",
            "[I 2024-05-28 13:55:32,110] Trial 298 finished with value: 0.818 and parameters: {'hidden_layers': 1, 'hidden_units_0': 62}. Best is trial 50 with value: 0.824.\n",
            "[I 2024-05-28 13:55:32,812] Trial 299 finished with value: 0.808 and parameters: {'hidden_layers': 1, 'hidden_units_0': 74}. Best is trial 50 with value: 0.824.\n"
          ]
        },
        {
          "output_type": "stream",
          "name": "stdout",
          "text": [
            "Number of finished trials:  300\n",
            "Best trial:\n",
            "  Value:  0.824\n",
            "  Params: \n",
            "    hidden_layers: 2\n",
            "    hidden_units_0: 169\n",
            "    hidden_units_1: 229\n"
          ]
        }
      ]
    },
    {
      "cell_type": "markdown",
      "source": [
        "![image.png](data:image/png;base64,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)"
      ],
      "metadata": {
        "id": "qP6A6dBocKlq"
      }
    },
    {
      "cell_type": "code",
      "source": [
        "import matplotlib.pyplot as plt\n",
        "best_params = study.best_params\n",
        "\n",
        "optuna.visualization.plot_optimization_history(study)"
      ],
      "metadata": {
        "id": "Mea3M_RgP0_2",
        "outputId": "1069a625-484d-4932-cb6a-f920b4cef461",
        "colab": {
          "base_uri": "https://localhost:8080/",
          "height": 542
        }
      },
      "execution_count": 23,
      "outputs": [
        {
          "output_type": "display_data",
          "data": {
            "text/html": [
              "<html>\n",
              "<head><meta charset=\"utf-8\" /></head>\n",
              "<body>\n",
              "    <div>            <script src=\"https://cdnjs.cloudflare.com/ajax/libs/mathjax/2.7.5/MathJax.js?config=TeX-AMS-MML_SVG\"></script><script type=\"text/javascript\">if (window.MathJax && window.MathJax.Hub && window.MathJax.Hub.Config) {window.MathJax.Hub.Config({SVG: {font: \"STIX-Web\"}});}</script>                <script type=\"text/javascript\">window.PlotlyConfig = {MathJaxConfig: 'local'};</script>\n",
              "        <script charset=\"utf-8\" src=\"https://cdn.plot.ly/plotly-2.24.1.min.js\"></script>                <div id=\"6d48fcc6-dbd4-4165-89d0-d376cdbc2aba\" class=\"plotly-graph-div\" style=\"height:525px; width:100%;\"></div>            <script type=\"text/javascript\">                                    window.PLOTLYENV=window.PLOTLYENV || {};                                    if (document.getElementById(\"6d48fcc6-dbd4-4165-89d0-d376cdbc2aba\")) {                    Plotly.newPlot(                        \"6d48fcc6-dbd4-4165-89d0-d376cdbc2aba\",                        [{\"mode\":\"markers\",\"name\":\"Objective Value\",\"x\":[0,1,2,3,4,5,6,7,8,9,10,11,12,13,14,15,16,17,18,19,20,21,22,23,24,25,26,27,28,29,30,31,32,33,34,35,36,37,38,39,40,41,42,43,44,45,46,47,48,49,50,51,52,53,54,55,56,57,58,59,60,61,62,63,64,65,66,67,68,69,70,71,72,73,74,75,76,77,78,79,80,81,82,83,84,85,86,87,88,89,90,91,92,93,94,95,96,97,98,99,100,101,102,103,104,105,106,107,108,109,110,111,112,113,114,115,116,117,118,119,120,121,122,123,124,125,126,127,128,129,130,131,132,133,134,135,136,137,138,139,140,141,142,143,144,145,146,147,148,149,150,151,152,153,154,155,156,157,158,159,160,161,162,163,164,165,166,167,168,169,170,171,172,173,174,175,176,177,178,179,180,181,182,183,184,185,186,187,188,189,190,191,192,193,194,195,196,197,198,199,200,201,202,203,204,205,206,207,208,209,210,211,212,213,214,215,216,217,218,219,220,221,222,223,224,225,226,227,228,229,230,231,232,233,234,235,236,237,238,239,240,241,242,243,244,245,246,247,248,249,250,251,252,253,254,255,256,257,258,259,260,261,262,263,264,265,266,267,268,269,270,271,272,273,274,275,276,277,278,279,280,281,282,283,284,285,286,287,288,289,290,291,292,293,294,295,296,297,298,299],\"y\":[0.77,0.792,0.793,0.747,0.785,0.789,0.769,0.748,0.763,0.764,0.795,0.809,0.804,0.808,0.805,0.808,0.777,0.779,0.817,0.798,0.809,0.802,0.799,0.803,0.805,0.801,0.796,0.758,0.809,0.783,0.806,0.8,0.807,0.792,0.82,0.793,0.796,0.799,0.801,0.819,0.761,0.807,0.801,0.796,0.768,0.801,0.804,0.803,0.793,0.805,0.824,0.793,0.815,0.801,0.795,0.791,0.777,0.811,0.793,0.806,0.778,0.8,0.814,0.803,0.803,0.806,0.802,0.819,0.811,0.746,0.759,0.81,0.792,0.808,0.802,0.796,0.811,0.81,0.772,0.804,0.812,0.806,0.811,0.811,0.807,0.807,0.806,0.784,0.8,0.802,0.814,0.792,0.786,0.801,0.815,0.8,0.799,0.803,0.8,0.805,0.802,0.803,0.807,0.804,0.798,0.798,0.768,0.792,0.806,0.803,0.81,0.798,0.806,0.803,0.809,0.788,0.807,0.809,0.8,0.807,0.782,0.801,0.808,0.806,0.802,0.81,0.772,0.807,0.802,0.812,0.799,0.808,0.806,0.815,0.805,0.791,0.8,0.791,0.781,0.78,0.801,0.799,0.803,0.811,0.785,0.807,0.808,0.799,0.811,0.772,0.812,0.807,0.801,0.812,0.812,0.799,0.801,0.803,0.818,0.801,0.802,0.79,0.8,0.779,0.795,0.78,0.806,0.807,0.811,0.797,0.817,0.8,0.815,0.812,0.814,0.801,0.799,0.815,0.815,0.799,0.802,0.812,0.809,0.805,0.816,0.795,0.81,0.809,0.808,0.807,0.802,0.803,0.811,0.801,0.816,0.807,0.811,0.812,0.811,0.812,0.815,0.798,0.811,0.814,0.816,0.81,0.807,0.807,0.784,0.811,0.814,0.799,0.816,0.801,0.798,0.808,0.798,0.804,0.8,0.803,0.804,0.811,0.804,0.796,0.814,0.809,0.81,0.798,0.811,0.809,0.76,0.812,0.796,0.805,0.813,0.812,0.808,0.811,0.8,0.799,0.809,0.812,0.804,0.803,0.809,0.815,0.796,0.798,0.804,0.817,0.806,0.742,0.817,0.798,0.804,0.801,0.806,0.811,0.81,0.813,0.809,0.805,0.788,0.8,0.803,0.817,0.815,0.782,0.802,0.792,0.805,0.816,0.802,0.799,0.811,0.811,0.799,0.814,0.814,0.796,0.814,0.802,0.804,0.803,0.811,0.809,0.813,0.816,0.812,0.81,0.796,0.8,0.801,0.799,0.813,0.798,0.804,0.784,0.818,0.808],\"type\":\"scatter\"},{\"mode\":\"lines\",\"name\":\"Best Value\",\"x\":[0,1,2,3,4,5,6,7,8,9,10,11,12,13,14,15,16,17,18,19,20,21,22,23,24,25,26,27,28,29,30,31,32,33,34,35,36,37,38,39,40,41,42,43,44,45,46,47,48,49,50,51,52,53,54,55,56,57,58,59,60,61,62,63,64,65,66,67,68,69,70,71,72,73,74,75,76,77,78,79,80,81,82,83,84,85,86,87,88,89,90,91,92,93,94,95,96,97,98,99,100,101,102,103,104,105,106,107,108,109,110,111,112,113,114,115,116,117,118,119,120,121,122,123,124,125,126,127,128,129,130,131,132,133,134,135,136,137,138,139,140,141,142,143,144,145,146,147,148,149,150,151,152,153,154,155,156,157,158,159,160,161,162,163,164,165,166,167,168,169,170,171,172,173,174,175,176,177,178,179,180,181,182,183,184,185,186,187,188,189,190,191,192,193,194,195,196,197,198,199,200,201,202,203,204,205,206,207,208,209,210,211,212,213,214,215,216,217,218,219,220,221,222,223,224,225,226,227,228,229,230,231,232,233,234,235,236,237,238,239,240,241,242,243,244,245,246,247,248,249,250,251,252,253,254,255,256,257,258,259,260,261,262,263,264,265,266,267,268,269,270,271,272,273,274,275,276,277,278,279,280,281,282,283,284,285,286,287,288,289,290,291,292,293,294,295,296,297,298,299],\"y\":[0.77,0.792,0.793,0.793,0.793,0.793,0.793,0.793,0.793,0.793,0.795,0.809,0.809,0.809,0.809,0.809,0.809,0.809,0.817,0.817,0.817,0.817,0.817,0.817,0.817,0.817,0.817,0.817,0.817,0.817,0.817,0.817,0.817,0.817,0.82,0.82,0.82,0.82,0.82,0.82,0.82,0.82,0.82,0.82,0.82,0.82,0.82,0.82,0.82,0.82,0.824,0.824,0.824,0.824,0.824,0.824,0.824,0.824,0.824,0.824,0.824,0.824,0.824,0.824,0.824,0.824,0.824,0.824,0.824,0.824,0.824,0.824,0.824,0.824,0.824,0.824,0.824,0.824,0.824,0.824,0.824,0.824,0.824,0.824,0.824,0.824,0.824,0.824,0.824,0.824,0.824,0.824,0.824,0.824,0.824,0.824,0.824,0.824,0.824,0.824,0.824,0.824,0.824,0.824,0.824,0.824,0.824,0.824,0.824,0.824,0.824,0.824,0.824,0.824,0.824,0.824,0.824,0.824,0.824,0.824,0.824,0.824,0.824,0.824,0.824,0.824,0.824,0.824,0.824,0.824,0.824,0.824,0.824,0.824,0.824,0.824,0.824,0.824,0.824,0.824,0.824,0.824,0.824,0.824,0.824,0.824,0.824,0.824,0.824,0.824,0.824,0.824,0.824,0.824,0.824,0.824,0.824,0.824,0.824,0.824,0.824,0.824,0.824,0.824,0.824,0.824,0.824,0.824,0.824,0.824,0.824,0.824,0.824,0.824,0.824,0.824,0.824,0.824,0.824,0.824,0.824,0.824,0.824,0.824,0.824,0.824,0.824,0.824,0.824,0.824,0.824,0.824,0.824,0.824,0.824,0.824,0.824,0.824,0.824,0.824,0.824,0.824,0.824,0.824,0.824,0.824,0.824,0.824,0.824,0.824,0.824,0.824,0.824,0.824,0.824,0.824,0.824,0.824,0.824,0.824,0.824,0.824,0.824,0.824,0.824,0.824,0.824,0.824,0.824,0.824,0.824,0.824,0.824,0.824,0.824,0.824,0.824,0.824,0.824,0.824,0.824,0.824,0.824,0.824,0.824,0.824,0.824,0.824,0.824,0.824,0.824,0.824,0.824,0.824,0.824,0.824,0.824,0.824,0.824,0.824,0.824,0.824,0.824,0.824,0.824,0.824,0.824,0.824,0.824,0.824,0.824,0.824,0.824,0.824,0.824,0.824,0.824,0.824,0.824,0.824,0.824,0.824,0.824,0.824,0.824,0.824,0.824,0.824,0.824,0.824,0.824,0.824,0.824,0.824,0.824,0.824,0.824,0.824,0.824,0.824],\"type\":\"scatter\"},{\"marker\":{\"color\":\"#cccccc\"},\"mode\":\"markers\",\"name\":\"Infeasible Trial\",\"showlegend\":false,\"x\":[],\"y\":[],\"type\":\"scatter\"}],                        {\"title\":{\"text\":\"Optimization History Plot\"},\"xaxis\":{\"title\":{\"text\":\"Trial\"}},\"yaxis\":{\"title\":{\"text\":\"Objective Value\"}},\"template\":{\"data\":{\"histogram2dcontour\":[{\"type\":\"histogram2dcontour\",\"colorbar\":{\"outlinewidth\":0,\"ticks\":\"\"},\"colorscale\":[[0.0,\"#0d0887\"],[0.1111111111111111,\"#46039f\"],[0.2222222222222222,\"#7201a8\"],[0.3333333333333333,\"#9c179e\"],[0.4444444444444444,\"#bd3786\"],[0.5555555555555556,\"#d8576b\"],[0.6666666666666666,\"#ed7953\"],[0.7777777777777778,\"#fb9f3a\"],[0.8888888888888888,\"#fdca26\"],[1.0,\"#f0f921\"]]}],\"choropleth\":[{\"type\":\"choropleth\",\"colorbar\":{\"outlinewidth\":0,\"ticks\":\"\"}}],\"histogram2d\":[{\"type\":\"histogram2d\",\"colorbar\":{\"outlinewidth\":0,\"ticks\":\"\"},\"colorscale\":[[0.0,\"#0d0887\"],[0.1111111111111111,\"#46039f\"],[0.2222222222222222,\"#7201a8\"],[0.3333333333333333,\"#9c179e\"],[0.4444444444444444,\"#bd3786\"],[0.5555555555555556,\"#d8576b\"],[0.6666666666666666,\"#ed7953\"],[0.7777777777777778,\"#fb9f3a\"],[0.8888888888888888,\"#fdca26\"],[1.0,\"#f0f921\"]]}],\"heatmap\":[{\"type\":\"heatmap\",\"colorbar\":{\"outlinewidth\":0,\"ticks\":\"\"},\"colorscale\":[[0.0,\"#0d0887\"],[0.1111111111111111,\"#46039f\"],[0.2222222222222222,\"#7201a8\"],[0.3333333333333333,\"#9c179e\"],[0.4444444444444444,\"#bd3786\"],[0.5555555555555556,\"#d8576b\"],[0.6666666666666666,\"#ed7953\"],[0.7777777777777778,\"#fb9f3a\"],[0.8888888888888888,\"#fdca26\"],[1.0,\"#f0f921\"]]}],\"heatmapgl\":[{\"type\":\"heatmapgl\",\"colorbar\":{\"outlinewidth\":0,\"ticks\":\"\"},\"colorscale\":[[0.0,\"#0d0887\"],[0.1111111111111111,\"#46039f\"],[0.2222222222222222,\"#7201a8\"],[0.3333333333333333,\"#9c179e\"],[0.4444444444444444,\"#bd3786\"],[0.5555555555555556,\"#d8576b\"],[0.6666666666666666,\"#ed7953\"],[0.7777777777777778,\"#fb9f3a\"],[0.8888888888888888,\"#fdca26\"],[1.0,\"#f0f921\"]]}],\"contourcarpet\":[{\"type\":\"contourcarpet\",\"colorbar\":{\"outlinewidth\":0,\"ticks\":\"\"}}],\"contour\":[{\"type\":\"contour\",\"colorbar\":{\"outlinewidth\":0,\"ticks\":\"\"},\"colorscale\":[[0.0,\"#0d0887\"],[0.1111111111111111,\"#46039f\"],[0.2222222222222222,\"#7201a8\"],[0.3333333333333333,\"#9c179e\"],[0.4444444444444444,\"#bd3786\"],[0.5555555555555556,\"#d8576b\"],[0.6666666666666666,\"#ed7953\"],[0.7777777777777778,\"#fb9f3a\"],[0.8888888888888888,\"#fdca26\"],[1.0,\"#f0f921\"]]}],\"surface\":[{\"type\":\"surface\",\"colorbar\":{\"outlinewidth\":0,\"ticks\":\"\"},\"colorscale\":[[0.0,\"#0d0887\"],[0.1111111111111111,\"#46039f\"],[0.2222222222222222,\"#7201a8\"],[0.3333333333333333,\"#9c179e\"],[0.4444444444444444,\"#bd3786\"],[0.5555555555555556,\"#d8576b\"],[0.6666666666666666,\"#ed7953\"],[0.7777777777777778,\"#fb9f3a\"],[0.8888888888888888,\"#fdca26\"],[1.0,\"#f0f921\"]]}],\"mesh3d\":[{\"type\":\"mesh3d\",\"colorbar\":{\"outlinewidth\":0,\"ticks\":\"\"}}],\"scatter\":[{\"fillpattern\":{\"fillmode\":\"overlay\",\"size\":10,\"solidity\":0.2},\"type\":\"scatter\"}],\"parcoords\":[{\"type\":\"parcoords\",\"line\":{\"colorbar\":{\"outlinewidth\":0,\"ticks\":\"\"}}}],\"scatterpolargl\":[{\"type\":\"scatterpolargl\",\"marker\":{\"colorbar\":{\"outlinewidth\":0,\"ticks\":\"\"}}}],\"bar\":[{\"error_x\":{\"color\":\"#2a3f5f\"},\"error_y\":{\"color\":\"#2a3f5f\"},\"marker\":{\"line\":{\"color\":\"#E5ECF6\",\"width\":0.5},\"pattern\":{\"fillmode\":\"overlay\",\"size\":10,\"solidity\":0.2}},\"type\":\"bar\"}],\"scattergeo\":[{\"type\":\"scattergeo\",\"marker\":{\"colorbar\":{\"outlinewidth\":0,\"ticks\":\"\"}}}],\"scatterpolar\":[{\"type\":\"scatterpolar\",\"marker\":{\"colorbar\":{\"outlinewidth\":0,\"ticks\":\"\"}}}],\"histogram\":[{\"marker\":{\"pattern\":{\"fillmode\":\"overlay\",\"size\":10,\"solidity\":0.2}},\"type\":\"histogram\"}],\"scattergl\":[{\"type\":\"scattergl\",\"marker\":{\"colorbar\":{\"outlinewidth\":0,\"ticks\":\"\"}}}],\"scatter3d\":[{\"type\":\"scatter3d\",\"line\":{\"colorbar\":{\"outlinewidth\":0,\"ticks\":\"\"}},\"marker\":{\"colorbar\":{\"outlinewidth\":0,\"ticks\":\"\"}}}],\"scattermapbox\":[{\"type\":\"scattermapbox\",\"marker\":{\"colorbar\":{\"outlinewidth\":0,\"ticks\":\"\"}}}],\"scatterternary\":[{\"type\":\"scatterternary\",\"marker\":{\"colorbar\":{\"outlinewidth\":0,\"ticks\":\"\"}}}],\"scattercarpet\":[{\"type\":\"scattercarpet\",\"marker\":{\"colorbar\":{\"outlinewidth\":0,\"ticks\":\"\"}}}],\"carpet\":[{\"aaxis\":{\"endlinecolor\":\"#2a3f5f\",\"gridcolor\":\"white\",\"linecolor\":\"white\",\"minorgridcolor\":\"white\",\"startlinecolor\":\"#2a3f5f\"},\"baxis\":{\"endlinecolor\":\"#2a3f5f\",\"gridcolor\":\"white\",\"linecolor\":\"white\",\"minorgridcolor\":\"white\",\"startlinecolor\":\"#2a3f5f\"},\"type\":\"carpet\"}],\"table\":[{\"cells\":{\"fill\":{\"color\":\"#EBF0F8\"},\"line\":{\"color\":\"white\"}},\"header\":{\"fill\":{\"color\":\"#C8D4E3\"},\"line\":{\"color\":\"white\"}},\"type\":\"table\"}],\"barpolar\":[{\"marker\":{\"line\":{\"color\":\"#E5ECF6\",\"width\":0.5},\"pattern\":{\"fillmode\":\"overlay\",\"size\":10,\"solidity\":0.2}},\"type\":\"barpolar\"}],\"pie\":[{\"automargin\":true,\"type\":\"pie\"}]},\"layout\":{\"autotypenumbers\":\"strict\",\"colorway\":[\"#636efa\",\"#EF553B\",\"#00cc96\",\"#ab63fa\",\"#FFA15A\",\"#19d3f3\",\"#FF6692\",\"#B6E880\",\"#FF97FF\",\"#FECB52\"],\"font\":{\"color\":\"#2a3f5f\"},\"hovermode\":\"closest\",\"hoverlabel\":{\"align\":\"left\"},\"paper_bgcolor\":\"white\",\"plot_bgcolor\":\"#E5ECF6\",\"polar\":{\"bgcolor\":\"#E5ECF6\",\"angularaxis\":{\"gridcolor\":\"white\",\"linecolor\":\"white\",\"ticks\":\"\"},\"radialaxis\":{\"gridcolor\":\"white\",\"linecolor\":\"white\",\"ticks\":\"\"}},\"ternary\":{\"bgcolor\":\"#E5ECF6\",\"aaxis\":{\"gridcolor\":\"white\",\"linecolor\":\"white\",\"ticks\":\"\"},\"baxis\":{\"gridcolor\":\"white\",\"linecolor\":\"white\",\"ticks\":\"\"},\"caxis\":{\"gridcolor\":\"white\",\"linecolor\":\"white\",\"ticks\":\"\"}},\"coloraxis\":{\"colorbar\":{\"outlinewidth\":0,\"ticks\":\"\"}},\"colorscale\":{\"sequential\":[[0.0,\"#0d0887\"],[0.1111111111111111,\"#46039f\"],[0.2222222222222222,\"#7201a8\"],[0.3333333333333333,\"#9c179e\"],[0.4444444444444444,\"#bd3786\"],[0.5555555555555556,\"#d8576b\"],[0.6666666666666666,\"#ed7953\"],[0.7777777777777778,\"#fb9f3a\"],[0.8888888888888888,\"#fdca26\"],[1.0,\"#f0f921\"]],\"sequentialminus\":[[0.0,\"#0d0887\"],[0.1111111111111111,\"#46039f\"],[0.2222222222222222,\"#7201a8\"],[0.3333333333333333,\"#9c179e\"],[0.4444444444444444,\"#bd3786\"],[0.5555555555555556,\"#d8576b\"],[0.6666666666666666,\"#ed7953\"],[0.7777777777777778,\"#fb9f3a\"],[0.8888888888888888,\"#fdca26\"],[1.0,\"#f0f921\"]],\"diverging\":[[0,\"#8e0152\"],[0.1,\"#c51b7d\"],[0.2,\"#de77ae\"],[0.3,\"#f1b6da\"],[0.4,\"#fde0ef\"],[0.5,\"#f7f7f7\"],[0.6,\"#e6f5d0\"],[0.7,\"#b8e186\"],[0.8,\"#7fbc41\"],[0.9,\"#4d9221\"],[1,\"#276419\"]]},\"xaxis\":{\"gridcolor\":\"white\",\"linecolor\":\"white\",\"ticks\":\"\",\"title\":{\"standoff\":15},\"zerolinecolor\":\"white\",\"automargin\":true,\"zerolinewidth\":2},\"yaxis\":{\"gridcolor\":\"white\",\"linecolor\":\"white\",\"ticks\":\"\",\"title\":{\"standoff\":15},\"zerolinecolor\":\"white\",\"automargin\":true,\"zerolinewidth\":2},\"scene\":{\"xaxis\":{\"backgroundcolor\":\"#E5ECF6\",\"gridcolor\":\"white\",\"linecolor\":\"white\",\"showbackground\":true,\"ticks\":\"\",\"zerolinecolor\":\"white\",\"gridwidth\":2},\"yaxis\":{\"backgroundcolor\":\"#E5ECF6\",\"gridcolor\":\"white\",\"linecolor\":\"white\",\"showbackground\":true,\"ticks\":\"\",\"zerolinecolor\":\"white\",\"gridwidth\":2},\"zaxis\":{\"backgroundcolor\":\"#E5ECF6\",\"gridcolor\":\"white\",\"linecolor\":\"white\",\"showbackground\":true,\"ticks\":\"\",\"zerolinecolor\":\"white\",\"gridwidth\":2}},\"shapedefaults\":{\"line\":{\"color\":\"#2a3f5f\"}},\"annotationdefaults\":{\"arrowcolor\":\"#2a3f5f\",\"arrowhead\":0,\"arrowwidth\":1},\"geo\":{\"bgcolor\":\"white\",\"landcolor\":\"#E5ECF6\",\"subunitcolor\":\"white\",\"showland\":true,\"showlakes\":true,\"lakecolor\":\"white\"},\"title\":{\"x\":0.05},\"mapbox\":{\"style\":\"light\"}}}},                        {\"responsive\": true}                    ).then(function(){\n",
              "                            \n",
              "var gd = document.getElementById('6d48fcc6-dbd4-4165-89d0-d376cdbc2aba');\n",
              "var x = new MutationObserver(function (mutations, observer) {{\n",
              "        var display = window.getComputedStyle(gd).display;\n",
              "        if (!display || display === 'none') {{\n",
              "            console.log([gd, 'removed!']);\n",
              "            Plotly.purge(gd);\n",
              "            observer.disconnect();\n",
              "        }}\n",
              "}});\n",
              "\n",
              "// Listen for the removal of the full notebook cells\n",
              "var notebookContainer = gd.closest('#notebook-container');\n",
              "if (notebookContainer) {{\n",
              "    x.observe(notebookContainer, {childList: true});\n",
              "}}\n",
              "\n",
              "// Listen for the clearing of the current output cell\n",
              "var outputEl = gd.closest('.output');\n",
              "if (outputEl) {{\n",
              "    x.observe(outputEl, {childList: true});\n",
              "}}\n",
              "\n",
              "                        })                };                            </script>        </div>\n",
              "</body>\n",
              "</html>"
            ]
          },
          "metadata": {}
        }
      ]
    },
    {
      "cell_type": "code",
      "source": [
        "optuna.visualization.plot_parallel_coordinate(study)"
      ],
      "metadata": {
        "id": "yR5PVC9qQLIB",
        "outputId": "fd5effec-91a0-44a0-9295-28a2351034b2",
        "colab": {
          "base_uri": "https://localhost:8080/",
          "height": 542
        }
      },
      "execution_count": 24,
      "outputs": [
        {
          "output_type": "display_data",
          "data": {
            "text/html": [
              "<html>\n",
              "<head><meta charset=\"utf-8\" /></head>\n",
              "<body>\n",
              "    <div>            <script src=\"https://cdnjs.cloudflare.com/ajax/libs/mathjax/2.7.5/MathJax.js?config=TeX-AMS-MML_SVG\"></script><script type=\"text/javascript\">if (window.MathJax && window.MathJax.Hub && window.MathJax.Hub.Config) {window.MathJax.Hub.Config({SVG: {font: \"STIX-Web\"}});}</script>                <script type=\"text/javascript\">window.PlotlyConfig = {MathJaxConfig: 'local'};</script>\n",
              "        <script charset=\"utf-8\" src=\"https://cdn.plot.ly/plotly-2.24.1.min.js\"></script>                <div id=\"678b6ffc-dc54-4c32-9495-71f447b6fc07\" class=\"plotly-graph-div\" style=\"height:525px; width:100%;\"></div>            <script type=\"text/javascript\">                                    window.PLOTLYENV=window.PLOTLYENV || {};                                    if (document.getElementById(\"678b6ffc-dc54-4c32-9495-71f447b6fc07\")) {                    Plotly.newPlot(                        \"678b6ffc-dc54-4c32-9495-71f447b6fc07\",                        [{\"dimensions\":[{\"label\":\"Objective Value\",\"range\":[0.742,0.784],\"values\":[0.77,0.763,0.761,0.784,0.742]},{\"label\":\"hidden_layers\",\"range\":[5,5],\"values\":[5,5,5,5,5]},{\"label\":\"hidden_units_0\",\"range\":[43,221],\"values\":[43,200,118,221,152]},{\"label\":\"hidden_units_1\",\"range\":[20,218],\"values\":[20,186,157,195,218]},{\"label\":\"hidden_units_2\",\"range\":[25,130],\"values\":[124,25,73,44,130]},{\"label\":\"hidden_units_3\",\"range\":[35,187],\"values\":[35,187,113,78,83]},{\"label\":\"hidden_units_4\",\"range\":[30,241],\"values\":[86,30,241,213,149]}],\"labelangle\":30,\"labelside\":\"bottom\",\"line\":{\"color\":[0.77,0.763,0.761,0.784,0.742],\"colorbar\":{\"title\":{\"text\":\"Objective Value\"}},\"colorscale\":[[0.0,\"rgb(247,251,255)\"],[0.125,\"rgb(222,235,247)\"],[0.25,\"rgb(198,219,239)\"],[0.375,\"rgb(158,202,225)\"],[0.5,\"rgb(107,174,214)\"],[0.625,\"rgb(66,146,198)\"],[0.75,\"rgb(33,113,181)\"],[0.875,\"rgb(8,81,156)\"],[1.0,\"rgb(8,48,107)\"]],\"reversescale\":false,\"showscale\":true},\"type\":\"parcoords\"}],                        {\"title\":{\"text\":\"Parallel Coordinate Plot\"},\"template\":{\"data\":{\"histogram2dcontour\":[{\"type\":\"histogram2dcontour\",\"colorbar\":{\"outlinewidth\":0,\"ticks\":\"\"},\"colorscale\":[[0.0,\"#0d0887\"],[0.1111111111111111,\"#46039f\"],[0.2222222222222222,\"#7201a8\"],[0.3333333333333333,\"#9c179e\"],[0.4444444444444444,\"#bd3786\"],[0.5555555555555556,\"#d8576b\"],[0.6666666666666666,\"#ed7953\"],[0.7777777777777778,\"#fb9f3a\"],[0.8888888888888888,\"#fdca26\"],[1.0,\"#f0f921\"]]}],\"choropleth\":[{\"type\":\"choropleth\",\"colorbar\":{\"outlinewidth\":0,\"ticks\":\"\"}}],\"histogram2d\":[{\"type\":\"histogram2d\",\"colorbar\":{\"outlinewidth\":0,\"ticks\":\"\"},\"colorscale\":[[0.0,\"#0d0887\"],[0.1111111111111111,\"#46039f\"],[0.2222222222222222,\"#7201a8\"],[0.3333333333333333,\"#9c179e\"],[0.4444444444444444,\"#bd3786\"],[0.5555555555555556,\"#d8576b\"],[0.6666666666666666,\"#ed7953\"],[0.7777777777777778,\"#fb9f3a\"],[0.8888888888888888,\"#fdca26\"],[1.0,\"#f0f921\"]]}],\"heatmap\":[{\"type\":\"heatmap\",\"colorbar\":{\"outlinewidth\":0,\"ticks\":\"\"},\"colorscale\":[[0.0,\"#0d0887\"],[0.1111111111111111,\"#46039f\"],[0.2222222222222222,\"#7201a8\"],[0.3333333333333333,\"#9c179e\"],[0.4444444444444444,\"#bd3786\"],[0.5555555555555556,\"#d8576b\"],[0.6666666666666666,\"#ed7953\"],[0.7777777777777778,\"#fb9f3a\"],[0.8888888888888888,\"#fdca26\"],[1.0,\"#f0f921\"]]}],\"heatmapgl\":[{\"type\":\"heatmapgl\",\"colorbar\":{\"outlinewidth\":0,\"ticks\":\"\"},\"colorscale\":[[0.0,\"#0d0887\"],[0.1111111111111111,\"#46039f\"],[0.2222222222222222,\"#7201a8\"],[0.3333333333333333,\"#9c179e\"],[0.4444444444444444,\"#bd3786\"],[0.5555555555555556,\"#d8576b\"],[0.6666666666666666,\"#ed7953\"],[0.7777777777777778,\"#fb9f3a\"],[0.8888888888888888,\"#fdca26\"],[1.0,\"#f0f921\"]]}],\"contourcarpet\":[{\"type\":\"contourcarpet\",\"colorbar\":{\"outlinewidth\":0,\"ticks\":\"\"}}],\"contour\":[{\"type\":\"contour\",\"colorbar\":{\"outlinewidth\":0,\"ticks\":\"\"},\"colorscale\":[[0.0,\"#0d0887\"],[0.1111111111111111,\"#46039f\"],[0.2222222222222222,\"#7201a8\"],[0.3333333333333333,\"#9c179e\"],[0.4444444444444444,\"#bd3786\"],[0.5555555555555556,\"#d8576b\"],[0.6666666666666666,\"#ed7953\"],[0.7777777777777778,\"#fb9f3a\"],[0.8888888888888888,\"#fdca26\"],[1.0,\"#f0f921\"]]}],\"surface\":[{\"type\":\"surface\",\"colorbar\":{\"outlinewidth\":0,\"ticks\":\"\"},\"colorscale\":[[0.0,\"#0d0887\"],[0.1111111111111111,\"#46039f\"],[0.2222222222222222,\"#7201a8\"],[0.3333333333333333,\"#9c179e\"],[0.4444444444444444,\"#bd3786\"],[0.5555555555555556,\"#d8576b\"],[0.6666666666666666,\"#ed7953\"],[0.7777777777777778,\"#fb9f3a\"],[0.8888888888888888,\"#fdca26\"],[1.0,\"#f0f921\"]]}],\"mesh3d\":[{\"type\":\"mesh3d\",\"colorbar\":{\"outlinewidth\":0,\"ticks\":\"\"}}],\"scatter\":[{\"fillpattern\":{\"fillmode\":\"overlay\",\"size\":10,\"solidity\":0.2},\"type\":\"scatter\"}],\"parcoords\":[{\"type\":\"parcoords\",\"line\":{\"colorbar\":{\"outlinewidth\":0,\"ticks\":\"\"}}}],\"scatterpolargl\":[{\"type\":\"scatterpolargl\",\"marker\":{\"colorbar\":{\"outlinewidth\":0,\"ticks\":\"\"}}}],\"bar\":[{\"error_x\":{\"color\":\"#2a3f5f\"},\"error_y\":{\"color\":\"#2a3f5f\"},\"marker\":{\"line\":{\"color\":\"#E5ECF6\",\"width\":0.5},\"pattern\":{\"fillmode\":\"overlay\",\"size\":10,\"solidity\":0.2}},\"type\":\"bar\"}],\"scattergeo\":[{\"type\":\"scattergeo\",\"marker\":{\"colorbar\":{\"outlinewidth\":0,\"ticks\":\"\"}}}],\"scatterpolar\":[{\"type\":\"scatterpolar\",\"marker\":{\"colorbar\":{\"outlinewidth\":0,\"ticks\":\"\"}}}],\"histogram\":[{\"marker\":{\"pattern\":{\"fillmode\":\"overlay\",\"size\":10,\"solidity\":0.2}},\"type\":\"histogram\"}],\"scattergl\":[{\"type\":\"scattergl\",\"marker\":{\"colorbar\":{\"outlinewidth\":0,\"ticks\":\"\"}}}],\"scatter3d\":[{\"type\":\"scatter3d\",\"line\":{\"colorbar\":{\"outlinewidth\":0,\"ticks\":\"\"}},\"marker\":{\"colorbar\":{\"outlinewidth\":0,\"ticks\":\"\"}}}],\"scattermapbox\":[{\"type\":\"scattermapbox\",\"marker\":{\"colorbar\":{\"outlinewidth\":0,\"ticks\":\"\"}}}],\"scatterternary\":[{\"type\":\"scatterternary\",\"marker\":{\"colorbar\":{\"outlinewidth\":0,\"ticks\":\"\"}}}],\"scattercarpet\":[{\"type\":\"scattercarpet\",\"marker\":{\"colorbar\":{\"outlinewidth\":0,\"ticks\":\"\"}}}],\"carpet\":[{\"aaxis\":{\"endlinecolor\":\"#2a3f5f\",\"gridcolor\":\"white\",\"linecolor\":\"white\",\"minorgridcolor\":\"white\",\"startlinecolor\":\"#2a3f5f\"},\"baxis\":{\"endlinecolor\":\"#2a3f5f\",\"gridcolor\":\"white\",\"linecolor\":\"white\",\"minorgridcolor\":\"white\",\"startlinecolor\":\"#2a3f5f\"},\"type\":\"carpet\"}],\"table\":[{\"cells\":{\"fill\":{\"color\":\"#EBF0F8\"},\"line\":{\"color\":\"white\"}},\"header\":{\"fill\":{\"color\":\"#C8D4E3\"},\"line\":{\"color\":\"white\"}},\"type\":\"table\"}],\"barpolar\":[{\"marker\":{\"line\":{\"color\":\"#E5ECF6\",\"width\":0.5},\"pattern\":{\"fillmode\":\"overlay\",\"size\":10,\"solidity\":0.2}},\"type\":\"barpolar\"}],\"pie\":[{\"automargin\":true,\"type\":\"pie\"}]},\"layout\":{\"autotypenumbers\":\"strict\",\"colorway\":[\"#636efa\",\"#EF553B\",\"#00cc96\",\"#ab63fa\",\"#FFA15A\",\"#19d3f3\",\"#FF6692\",\"#B6E880\",\"#FF97FF\",\"#FECB52\"],\"font\":{\"color\":\"#2a3f5f\"},\"hovermode\":\"closest\",\"hoverlabel\":{\"align\":\"left\"},\"paper_bgcolor\":\"white\",\"plot_bgcolor\":\"#E5ECF6\",\"polar\":{\"bgcolor\":\"#E5ECF6\",\"angularaxis\":{\"gridcolor\":\"white\",\"linecolor\":\"white\",\"ticks\":\"\"},\"radialaxis\":{\"gridcolor\":\"white\",\"linecolor\":\"white\",\"ticks\":\"\"}},\"ternary\":{\"bgcolor\":\"#E5ECF6\",\"aaxis\":{\"gridcolor\":\"white\",\"linecolor\":\"white\",\"ticks\":\"\"},\"baxis\":{\"gridcolor\":\"white\",\"linecolor\":\"white\",\"ticks\":\"\"},\"caxis\":{\"gridcolor\":\"white\",\"linecolor\":\"white\",\"ticks\":\"\"}},\"coloraxis\":{\"colorbar\":{\"outlinewidth\":0,\"ticks\":\"\"}},\"colorscale\":{\"sequential\":[[0.0,\"#0d0887\"],[0.1111111111111111,\"#46039f\"],[0.2222222222222222,\"#7201a8\"],[0.3333333333333333,\"#9c179e\"],[0.4444444444444444,\"#bd3786\"],[0.5555555555555556,\"#d8576b\"],[0.6666666666666666,\"#ed7953\"],[0.7777777777777778,\"#fb9f3a\"],[0.8888888888888888,\"#fdca26\"],[1.0,\"#f0f921\"]],\"sequentialminus\":[[0.0,\"#0d0887\"],[0.1111111111111111,\"#46039f\"],[0.2222222222222222,\"#7201a8\"],[0.3333333333333333,\"#9c179e\"],[0.4444444444444444,\"#bd3786\"],[0.5555555555555556,\"#d8576b\"],[0.6666666666666666,\"#ed7953\"],[0.7777777777777778,\"#fb9f3a\"],[0.8888888888888888,\"#fdca26\"],[1.0,\"#f0f921\"]],\"diverging\":[[0,\"#8e0152\"],[0.1,\"#c51b7d\"],[0.2,\"#de77ae\"],[0.3,\"#f1b6da\"],[0.4,\"#fde0ef\"],[0.5,\"#f7f7f7\"],[0.6,\"#e6f5d0\"],[0.7,\"#b8e186\"],[0.8,\"#7fbc41\"],[0.9,\"#4d9221\"],[1,\"#276419\"]]},\"xaxis\":{\"gridcolor\":\"white\",\"linecolor\":\"white\",\"ticks\":\"\",\"title\":{\"standoff\":15},\"zerolinecolor\":\"white\",\"automargin\":true,\"zerolinewidth\":2},\"yaxis\":{\"gridcolor\":\"white\",\"linecolor\":\"white\",\"ticks\":\"\",\"title\":{\"standoff\":15},\"zerolinecolor\":\"white\",\"automargin\":true,\"zerolinewidth\":2},\"scene\":{\"xaxis\":{\"backgroundcolor\":\"#E5ECF6\",\"gridcolor\":\"white\",\"linecolor\":\"white\",\"showbackground\":true,\"ticks\":\"\",\"zerolinecolor\":\"white\",\"gridwidth\":2},\"yaxis\":{\"backgroundcolor\":\"#E5ECF6\",\"gridcolor\":\"white\",\"linecolor\":\"white\",\"showbackground\":true,\"ticks\":\"\",\"zerolinecolor\":\"white\",\"gridwidth\":2},\"zaxis\":{\"backgroundcolor\":\"#E5ECF6\",\"gridcolor\":\"white\",\"linecolor\":\"white\",\"showbackground\":true,\"ticks\":\"\",\"zerolinecolor\":\"white\",\"gridwidth\":2}},\"shapedefaults\":{\"line\":{\"color\":\"#2a3f5f\"}},\"annotationdefaults\":{\"arrowcolor\":\"#2a3f5f\",\"arrowhead\":0,\"arrowwidth\":1},\"geo\":{\"bgcolor\":\"white\",\"landcolor\":\"#E5ECF6\",\"subunitcolor\":\"white\",\"showland\":true,\"showlakes\":true,\"lakecolor\":\"white\"},\"title\":{\"x\":0.05},\"mapbox\":{\"style\":\"light\"}}}},                        {\"responsive\": true}                    ).then(function(){\n",
              "                            \n",
              "var gd = document.getElementById('678b6ffc-dc54-4c32-9495-71f447b6fc07');\n",
              "var x = new MutationObserver(function (mutations, observer) {{\n",
              "        var display = window.getComputedStyle(gd).display;\n",
              "        if (!display || display === 'none') {{\n",
              "            console.log([gd, 'removed!']);\n",
              "            Plotly.purge(gd);\n",
              "            observer.disconnect();\n",
              "        }}\n",
              "}});\n",
              "\n",
              "// Listen for the removal of the full notebook cells\n",
              "var notebookContainer = gd.closest('#notebook-container');\n",
              "if (notebookContainer) {{\n",
              "    x.observe(notebookContainer, {childList: true});\n",
              "}}\n",
              "\n",
              "// Listen for the clearing of the current output cell\n",
              "var outputEl = gd.closest('.output');\n",
              "if (outputEl) {{\n",
              "    x.observe(outputEl, {childList: true});\n",
              "}}\n",
              "\n",
              "                        })                };                            </script>        </div>\n",
              "</body>\n",
              "</html>"
            ]
          },
          "metadata": {}
        }
      ]
    },
    {
      "cell_type": "code",
      "source": [
        "optuna.visualization.plot_param_importances(study)"
      ],
      "metadata": {
        "id": "ChE7ffPUQSL-",
        "outputId": "2a355a29-5dcc-4559-bde2-855c11e402ed",
        "colab": {
          "base_uri": "https://localhost:8080/",
          "height": 542
        }
      },
      "execution_count": 25,
      "outputs": [
        {
          "output_type": "display_data",
          "data": {
            "text/html": [
              "<html>\n",
              "<head><meta charset=\"utf-8\" /></head>\n",
              "<body>\n",
              "    <div>            <script src=\"https://cdnjs.cloudflare.com/ajax/libs/mathjax/2.7.5/MathJax.js?config=TeX-AMS-MML_SVG\"></script><script type=\"text/javascript\">if (window.MathJax && window.MathJax.Hub && window.MathJax.Hub.Config) {window.MathJax.Hub.Config({SVG: {font: \"STIX-Web\"}});}</script>                <script type=\"text/javascript\">window.PlotlyConfig = {MathJaxConfig: 'local'};</script>\n",
              "        <script charset=\"utf-8\" src=\"https://cdn.plot.ly/plotly-2.24.1.min.js\"></script>                <div id=\"66e9fc0a-c887-4a6c-a654-0b67a80abac5\" class=\"plotly-graph-div\" style=\"height:525px; width:100%;\"></div>            <script type=\"text/javascript\">                                    window.PLOTLYENV=window.PLOTLYENV || {};                                    if (document.getElementById(\"66e9fc0a-c887-4a6c-a654-0b67a80abac5\")) {                    Plotly.newPlot(                        \"66e9fc0a-c887-4a6c-a654-0b67a80abac5\",                        [{\"cliponaxis\":false,\"hovertemplate\":[\"hidden_units_0 (IntDistribution): 0.22934247887574288\\u003cextra\\u003e\\u003c\\u002fextra\\u003e\",\"hidden_layers (IntDistribution): 0.7706575211242571\\u003cextra\\u003e\\u003c\\u002fextra\\u003e\"],\"name\":\"Objective Value\",\"orientation\":\"h\",\"text\":[\"0.23\",\"0.77\"],\"textposition\":\"outside\",\"x\":[0.22934247887574288,0.7706575211242571],\"y\":[\"hidden_units_0\",\"hidden_layers\"],\"type\":\"bar\"}],                        {\"title\":{\"text\":\"Hyperparameter Importances\"},\"xaxis\":{\"title\":{\"text\":\"Hyperparameter Importance\"}},\"yaxis\":{\"title\":{\"text\":\"Hyperparameter\"}},\"template\":{\"data\":{\"histogram2dcontour\":[{\"type\":\"histogram2dcontour\",\"colorbar\":{\"outlinewidth\":0,\"ticks\":\"\"},\"colorscale\":[[0.0,\"#0d0887\"],[0.1111111111111111,\"#46039f\"],[0.2222222222222222,\"#7201a8\"],[0.3333333333333333,\"#9c179e\"],[0.4444444444444444,\"#bd3786\"],[0.5555555555555556,\"#d8576b\"],[0.6666666666666666,\"#ed7953\"],[0.7777777777777778,\"#fb9f3a\"],[0.8888888888888888,\"#fdca26\"],[1.0,\"#f0f921\"]]}],\"choropleth\":[{\"type\":\"choropleth\",\"colorbar\":{\"outlinewidth\":0,\"ticks\":\"\"}}],\"histogram2d\":[{\"type\":\"histogram2d\",\"colorbar\":{\"outlinewidth\":0,\"ticks\":\"\"},\"colorscale\":[[0.0,\"#0d0887\"],[0.1111111111111111,\"#46039f\"],[0.2222222222222222,\"#7201a8\"],[0.3333333333333333,\"#9c179e\"],[0.4444444444444444,\"#bd3786\"],[0.5555555555555556,\"#d8576b\"],[0.6666666666666666,\"#ed7953\"],[0.7777777777777778,\"#fb9f3a\"],[0.8888888888888888,\"#fdca26\"],[1.0,\"#f0f921\"]]}],\"heatmap\":[{\"type\":\"heatmap\",\"colorbar\":{\"outlinewidth\":0,\"ticks\":\"\"},\"colorscale\":[[0.0,\"#0d0887\"],[0.1111111111111111,\"#46039f\"],[0.2222222222222222,\"#7201a8\"],[0.3333333333333333,\"#9c179e\"],[0.4444444444444444,\"#bd3786\"],[0.5555555555555556,\"#d8576b\"],[0.6666666666666666,\"#ed7953\"],[0.7777777777777778,\"#fb9f3a\"],[0.8888888888888888,\"#fdca26\"],[1.0,\"#f0f921\"]]}],\"heatmapgl\":[{\"type\":\"heatmapgl\",\"colorbar\":{\"outlinewidth\":0,\"ticks\":\"\"},\"colorscale\":[[0.0,\"#0d0887\"],[0.1111111111111111,\"#46039f\"],[0.2222222222222222,\"#7201a8\"],[0.3333333333333333,\"#9c179e\"],[0.4444444444444444,\"#bd3786\"],[0.5555555555555556,\"#d8576b\"],[0.6666666666666666,\"#ed7953\"],[0.7777777777777778,\"#fb9f3a\"],[0.8888888888888888,\"#fdca26\"],[1.0,\"#f0f921\"]]}],\"contourcarpet\":[{\"type\":\"contourcarpet\",\"colorbar\":{\"outlinewidth\":0,\"ticks\":\"\"}}],\"contour\":[{\"type\":\"contour\",\"colorbar\":{\"outlinewidth\":0,\"ticks\":\"\"},\"colorscale\":[[0.0,\"#0d0887\"],[0.1111111111111111,\"#46039f\"],[0.2222222222222222,\"#7201a8\"],[0.3333333333333333,\"#9c179e\"],[0.4444444444444444,\"#bd3786\"],[0.5555555555555556,\"#d8576b\"],[0.6666666666666666,\"#ed7953\"],[0.7777777777777778,\"#fb9f3a\"],[0.8888888888888888,\"#fdca26\"],[1.0,\"#f0f921\"]]}],\"surface\":[{\"type\":\"surface\",\"colorbar\":{\"outlinewidth\":0,\"ticks\":\"\"},\"colorscale\":[[0.0,\"#0d0887\"],[0.1111111111111111,\"#46039f\"],[0.2222222222222222,\"#7201a8\"],[0.3333333333333333,\"#9c179e\"],[0.4444444444444444,\"#bd3786\"],[0.5555555555555556,\"#d8576b\"],[0.6666666666666666,\"#ed7953\"],[0.7777777777777778,\"#fb9f3a\"],[0.8888888888888888,\"#fdca26\"],[1.0,\"#f0f921\"]]}],\"mesh3d\":[{\"type\":\"mesh3d\",\"colorbar\":{\"outlinewidth\":0,\"ticks\":\"\"}}],\"scatter\":[{\"fillpattern\":{\"fillmode\":\"overlay\",\"size\":10,\"solidity\":0.2},\"type\":\"scatter\"}],\"parcoords\":[{\"type\":\"parcoords\",\"line\":{\"colorbar\":{\"outlinewidth\":0,\"ticks\":\"\"}}}],\"scatterpolargl\":[{\"type\":\"scatterpolargl\",\"marker\":{\"colorbar\":{\"outlinewidth\":0,\"ticks\":\"\"}}}],\"bar\":[{\"error_x\":{\"color\":\"#2a3f5f\"},\"error_y\":{\"color\":\"#2a3f5f\"},\"marker\":{\"line\":{\"color\":\"#E5ECF6\",\"width\":0.5},\"pattern\":{\"fillmode\":\"overlay\",\"size\":10,\"solidity\":0.2}},\"type\":\"bar\"}],\"scattergeo\":[{\"type\":\"scattergeo\",\"marker\":{\"colorbar\":{\"outlinewidth\":0,\"ticks\":\"\"}}}],\"scatterpolar\":[{\"type\":\"scatterpolar\",\"marker\":{\"colorbar\":{\"outlinewidth\":0,\"ticks\":\"\"}}}],\"histogram\":[{\"marker\":{\"pattern\":{\"fillmode\":\"overlay\",\"size\":10,\"solidity\":0.2}},\"type\":\"histogram\"}],\"scattergl\":[{\"type\":\"scattergl\",\"marker\":{\"colorbar\":{\"outlinewidth\":0,\"ticks\":\"\"}}}],\"scatter3d\":[{\"type\":\"scatter3d\",\"line\":{\"colorbar\":{\"outlinewidth\":0,\"ticks\":\"\"}},\"marker\":{\"colorbar\":{\"outlinewidth\":0,\"ticks\":\"\"}}}],\"scattermapbox\":[{\"type\":\"scattermapbox\",\"marker\":{\"colorbar\":{\"outlinewidth\":0,\"ticks\":\"\"}}}],\"scatterternary\":[{\"type\":\"scatterternary\",\"marker\":{\"colorbar\":{\"outlinewidth\":0,\"ticks\":\"\"}}}],\"scattercarpet\":[{\"type\":\"scattercarpet\",\"marker\":{\"colorbar\":{\"outlinewidth\":0,\"ticks\":\"\"}}}],\"carpet\":[{\"aaxis\":{\"endlinecolor\":\"#2a3f5f\",\"gridcolor\":\"white\",\"linecolor\":\"white\",\"minorgridcolor\":\"white\",\"startlinecolor\":\"#2a3f5f\"},\"baxis\":{\"endlinecolor\":\"#2a3f5f\",\"gridcolor\":\"white\",\"linecolor\":\"white\",\"minorgridcolor\":\"white\",\"startlinecolor\":\"#2a3f5f\"},\"type\":\"carpet\"}],\"table\":[{\"cells\":{\"fill\":{\"color\":\"#EBF0F8\"},\"line\":{\"color\":\"white\"}},\"header\":{\"fill\":{\"color\":\"#C8D4E3\"},\"line\":{\"color\":\"white\"}},\"type\":\"table\"}],\"barpolar\":[{\"marker\":{\"line\":{\"color\":\"#E5ECF6\",\"width\":0.5},\"pattern\":{\"fillmode\":\"overlay\",\"size\":10,\"solidity\":0.2}},\"type\":\"barpolar\"}],\"pie\":[{\"automargin\":true,\"type\":\"pie\"}]},\"layout\":{\"autotypenumbers\":\"strict\",\"colorway\":[\"#636efa\",\"#EF553B\",\"#00cc96\",\"#ab63fa\",\"#FFA15A\",\"#19d3f3\",\"#FF6692\",\"#B6E880\",\"#FF97FF\",\"#FECB52\"],\"font\":{\"color\":\"#2a3f5f\"},\"hovermode\":\"closest\",\"hoverlabel\":{\"align\":\"left\"},\"paper_bgcolor\":\"white\",\"plot_bgcolor\":\"#E5ECF6\",\"polar\":{\"bgcolor\":\"#E5ECF6\",\"angularaxis\":{\"gridcolor\":\"white\",\"linecolor\":\"white\",\"ticks\":\"\"},\"radialaxis\":{\"gridcolor\":\"white\",\"linecolor\":\"white\",\"ticks\":\"\"}},\"ternary\":{\"bgcolor\":\"#E5ECF6\",\"aaxis\":{\"gridcolor\":\"white\",\"linecolor\":\"white\",\"ticks\":\"\"},\"baxis\":{\"gridcolor\":\"white\",\"linecolor\":\"white\",\"ticks\":\"\"},\"caxis\":{\"gridcolor\":\"white\",\"linecolor\":\"white\",\"ticks\":\"\"}},\"coloraxis\":{\"colorbar\":{\"outlinewidth\":0,\"ticks\":\"\"}},\"colorscale\":{\"sequential\":[[0.0,\"#0d0887\"],[0.1111111111111111,\"#46039f\"],[0.2222222222222222,\"#7201a8\"],[0.3333333333333333,\"#9c179e\"],[0.4444444444444444,\"#bd3786\"],[0.5555555555555556,\"#d8576b\"],[0.6666666666666666,\"#ed7953\"],[0.7777777777777778,\"#fb9f3a\"],[0.8888888888888888,\"#fdca26\"],[1.0,\"#f0f921\"]],\"sequentialminus\":[[0.0,\"#0d0887\"],[0.1111111111111111,\"#46039f\"],[0.2222222222222222,\"#7201a8\"],[0.3333333333333333,\"#9c179e\"],[0.4444444444444444,\"#bd3786\"],[0.5555555555555556,\"#d8576b\"],[0.6666666666666666,\"#ed7953\"],[0.7777777777777778,\"#fb9f3a\"],[0.8888888888888888,\"#fdca26\"],[1.0,\"#f0f921\"]],\"diverging\":[[0,\"#8e0152\"],[0.1,\"#c51b7d\"],[0.2,\"#de77ae\"],[0.3,\"#f1b6da\"],[0.4,\"#fde0ef\"],[0.5,\"#f7f7f7\"],[0.6,\"#e6f5d0\"],[0.7,\"#b8e186\"],[0.8,\"#7fbc41\"],[0.9,\"#4d9221\"],[1,\"#276419\"]]},\"xaxis\":{\"gridcolor\":\"white\",\"linecolor\":\"white\",\"ticks\":\"\",\"title\":{\"standoff\":15},\"zerolinecolor\":\"white\",\"automargin\":true,\"zerolinewidth\":2},\"yaxis\":{\"gridcolor\":\"white\",\"linecolor\":\"white\",\"ticks\":\"\",\"title\":{\"standoff\":15},\"zerolinecolor\":\"white\",\"automargin\":true,\"zerolinewidth\":2},\"scene\":{\"xaxis\":{\"backgroundcolor\":\"#E5ECF6\",\"gridcolor\":\"white\",\"linecolor\":\"white\",\"showbackground\":true,\"ticks\":\"\",\"zerolinecolor\":\"white\",\"gridwidth\":2},\"yaxis\":{\"backgroundcolor\":\"#E5ECF6\",\"gridcolor\":\"white\",\"linecolor\":\"white\",\"showbackground\":true,\"ticks\":\"\",\"zerolinecolor\":\"white\",\"gridwidth\":2},\"zaxis\":{\"backgroundcolor\":\"#E5ECF6\",\"gridcolor\":\"white\",\"linecolor\":\"white\",\"showbackground\":true,\"ticks\":\"\",\"zerolinecolor\":\"white\",\"gridwidth\":2}},\"shapedefaults\":{\"line\":{\"color\":\"#2a3f5f\"}},\"annotationdefaults\":{\"arrowcolor\":\"#2a3f5f\",\"arrowhead\":0,\"arrowwidth\":1},\"geo\":{\"bgcolor\":\"white\",\"landcolor\":\"#E5ECF6\",\"subunitcolor\":\"white\",\"showland\":true,\"showlakes\":true,\"lakecolor\":\"white\"},\"title\":{\"x\":0.05},\"mapbox\":{\"style\":\"light\"}}}},                        {\"responsive\": true}                    ).then(function(){\n",
              "                            \n",
              "var gd = document.getElementById('66e9fc0a-c887-4a6c-a654-0b67a80abac5');\n",
              "var x = new MutationObserver(function (mutations, observer) {{\n",
              "        var display = window.getComputedStyle(gd).display;\n",
              "        if (!display || display === 'none') {{\n",
              "            console.log([gd, 'removed!']);\n",
              "            Plotly.purge(gd);\n",
              "            observer.disconnect();\n",
              "        }}\n",
              "}});\n",
              "\n",
              "// Listen for the removal of the full notebook cells\n",
              "var notebookContainer = gd.closest('#notebook-container');\n",
              "if (notebookContainer) {{\n",
              "    x.observe(notebookContainer, {childList: true});\n",
              "}}\n",
              "\n",
              "// Listen for the clearing of the current output cell\n",
              "var outputEl = gd.closest('.output');\n",
              "if (outputEl) {{\n",
              "    x.observe(outputEl, {childList: true});\n",
              "}}\n",
              "\n",
              "                        })                };                            </script>        </div>\n",
              "</body>\n",
              "</html>"
            ]
          },
          "metadata": {}
        }
      ]
    },
    {
      "cell_type": "code",
      "source": [],
      "metadata": {
        "id": "l-qBqDmPclQG"
      },
      "execution_count": null,
      "outputs": []
    }
  ],
  "metadata": {
    "accelerator": "GPU",
    "colab": {
      "gpuType": "T4",
      "provenance": [],
      "include_colab_link": true
    },
    "kernelspec": {
      "display_name": "Python 3",
      "name": "python3"
    },
    "language_info": {
      "name": "python"
    }
  },
  "nbformat": 4,
  "nbformat_minor": 0
}