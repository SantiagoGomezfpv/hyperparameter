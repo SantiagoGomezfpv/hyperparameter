{
  "nbformat": 4,
  "nbformat_minor": 0,
  "metadata": {
    "colab": {
      "provenance": [],
      "gpuType": "T4",
      "authorship_tag": "ABX9TyNemk3hr/QsbgApPbe5AFKO",
      "include_colab_link": true
    },
    "kernelspec": {
      "name": "python3",
      "display_name": "Python 3"
    },
    "language_info": {
      "name": "python"
    },
    "accelerator": "GPU"
  },
  "cells": [
    {
      "cell_type": "markdown",
      "metadata": {
        "id": "view-in-github",
        "colab_type": "text"
      },
      "source": [
        "<a href=\"https://colab.research.google.com/github/SantiagoGomezfpv/hyperparameter/blob/main/CNN_Optuna.ipynb\" target=\"_parent\"><img src=\"https://colab.research.google.com/assets/colab-badge.svg\" alt=\"Open In Colab\"/></a>"
      ]
    },
    {
      "cell_type": "markdown",
      "source": [
        "# Optuna CNN\n",
        "\n",
        "Este notebook de Colab está diseñado para entrenar y optimizar un modelo de red neuronal convolucional (CNN) utilizando el conjunto de datos MNIST, que contiene imágenes de dígitos escritos a mano. Usaremos la biblioteca Optuna para encontrar la mejor configuración de hiperparámetros para nuestro modelo. A continuación se explica cada parte del código.\n",
        "\n"
      ],
      "metadata": {
        "id": "J-9qn23x_3dE"
      }
    },
    {
      "cell_type": "markdown",
      "source": [
        "## Instalación de Optuna\n",
        "Primero, instalamos la biblioteca Optuna:"
      ],
      "metadata": {
        "id": "qSkUHjQ6ALXf"
      }
    },
    {
      "cell_type": "code",
      "execution_count": 1,
      "metadata": {
        "colab": {
          "base_uri": "https://localhost:8080/"
        },
        "id": "SaAiWD71-6yr",
        "outputId": "2717d220-4b90-49c5-8ac1-4676bdd0d63f"
      },
      "outputs": [
        {
          "output_type": "stream",
          "name": "stdout",
          "text": [
            "Collecting optuna\n",
            "  Downloading optuna-3.6.1-py3-none-any.whl (380 kB)\n",
            "\u001b[2K     \u001b[90m━━━━━━━━━━━━━━━━━━━━━━━━━━━━━━━━━━━━━━━━\u001b[0m \u001b[32m380.1/380.1 kB\u001b[0m \u001b[31m5.9 MB/s\u001b[0m eta \u001b[36m0:00:00\u001b[0m\n",
            "\u001b[?25hCollecting alembic>=1.5.0 (from optuna)\n",
            "  Downloading alembic-1.13.2-py3-none-any.whl (232 kB)\n",
            "\u001b[2K     \u001b[90m━━━━━━━━━━━━━━━━━━━━━━━━━━━━━━━━━━━━━━━━\u001b[0m \u001b[32m233.0/233.0 kB\u001b[0m \u001b[31m5.8 MB/s\u001b[0m eta \u001b[36m0:00:00\u001b[0m\n",
            "\u001b[?25hCollecting colorlog (from optuna)\n",
            "  Downloading colorlog-6.8.2-py3-none-any.whl (11 kB)\n",
            "Requirement already satisfied: numpy in /usr/local/lib/python3.10/dist-packages (from optuna) (1.25.2)\n",
            "Requirement already satisfied: packaging>=20.0 in /usr/local/lib/python3.10/dist-packages (from optuna) (24.1)\n",
            "Requirement already satisfied: sqlalchemy>=1.3.0 in /usr/local/lib/python3.10/dist-packages (from optuna) (2.0.31)\n",
            "Requirement already satisfied: tqdm in /usr/local/lib/python3.10/dist-packages (from optuna) (4.66.4)\n",
            "Requirement already satisfied: PyYAML in /usr/local/lib/python3.10/dist-packages (from optuna) (6.0.1)\n",
            "Collecting Mako (from alembic>=1.5.0->optuna)\n",
            "  Downloading Mako-1.3.5-py3-none-any.whl (78 kB)\n",
            "\u001b[2K     \u001b[90m━━━━━━━━━━━━━━━━━━━━━━━━━━━━━━━━━━━━━━━━\u001b[0m \u001b[32m78.6/78.6 kB\u001b[0m \u001b[31m7.7 MB/s\u001b[0m eta \u001b[36m0:00:00\u001b[0m\n",
            "\u001b[?25hRequirement already satisfied: typing-extensions>=4 in /usr/local/lib/python3.10/dist-packages (from alembic>=1.5.0->optuna) (4.12.2)\n",
            "Requirement already satisfied: greenlet!=0.4.17 in /usr/local/lib/python3.10/dist-packages (from sqlalchemy>=1.3.0->optuna) (3.0.3)\n",
            "Requirement already satisfied: MarkupSafe>=0.9.2 in /usr/local/lib/python3.10/dist-packages (from Mako->alembic>=1.5.0->optuna) (2.1.5)\n",
            "Installing collected packages: Mako, colorlog, alembic, optuna\n",
            "Successfully installed Mako-1.3.5 alembic-1.13.2 colorlog-6.8.2 optuna-3.6.1\n"
          ]
        }
      ],
      "source": [
        "!pip install optuna"
      ]
    },
    {
      "cell_type": "markdown",
      "source": [
        "## Importación de Bibliotecas\n",
        "Luego, importamos las bibliotecas necesarias:\n",
        "\n",
        "* `optuna` se utiliza para la optimización de hiperparámetros.\n",
        "* `torch` y `torchvision` son bibliotecas de PyTorch para construir y entrenar modelos de aprendizaje profundo.\n",
        "* `nn` y `nn.functional` contienen herramientas para crear redes neuronales.\n",
        "* `optim` se utiliza para los optimizadores.\n",
        "* `transforms` y `datasets` se utilizan para manejar los datos del conjunto de datos MNIST.\n"
      ],
      "metadata": {
        "id": "0LgX69hKATwP"
      }
    },
    {
      "cell_type": "code",
      "source": [
        "import torch\n",
        "import torch.nn as nn\n",
        "import torch.nn.functional as F\n",
        "import torch.optim as optim\n",
        "import torchvision\n",
        "import torchvision.transforms as transforms\n",
        "import torchvision.datasets as datasets\n",
        "import optuna"
      ],
      "metadata": {
        "id": "1V90JXP1AQmV"
      },
      "execution_count": 12,
      "outputs": []
    },
    {
      "cell_type": "markdown",
      "source": [
        "## Configuración del Dispositivo\n",
        "Definimos el dispositivo como CUDA si está disponible, de lo contrario usamos CPU."
      ],
      "metadata": {
        "id": "bJ9sKcwsAtga"
      }
    },
    {
      "cell_type": "code",
      "source": [
        "device = torch.device(\"cuda\" if torch.cuda.is_available() else \"cpu\")\n",
        "print(device)"
      ],
      "metadata": {
        "colab": {
          "base_uri": "https://localhost:8080/"
        },
        "id": "oZFp1u7sAc4o",
        "outputId": "aaa34aa6-094b-4671-869d-da915872cff3"
      },
      "execution_count": 4,
      "outputs": [
        {
          "output_type": "stream",
          "name": "stdout",
          "text": [
            "cuda\n"
          ]
        }
      ]
    },
    {
      "cell_type": "markdown",
      "source": [
        "## Cargar el Conjunto de Datos MNIST\n",
        "El conjunto de datos MNIST se compone de imágenes de dígitos escritos a mano. Convertimos las imágenes a tensores y normalizamos los valores de píxeles.\n",
        "\n",
        "* `transforms.Compose` crea una lista de transformaciones a aplicar a las imágenes.\n",
        "* `transforms.ToTensor` convierte las imágenes en tensores.\n",
        "* `transforms.Normalize` normaliza los píxeles de las imágenes."
      ],
      "metadata": {
        "id": "rvk1GbnjEXrF"
      }
    },
    {
      "cell_type": "code",
      "source": [
        "transform = transforms.Compose([\n",
        "    transforms.ToTensor(),                # Convertir las imágenes a tensores\n",
        "    transforms.Normalize((0.5,), (0.5,))  # Normalizar los valores de píxeles\n",
        "])"
      ],
      "metadata": {
        "id": "3TnbPh1yEaPF"
      },
      "execution_count": 10,
      "outputs": []
    },
    {
      "cell_type": "markdown",
      "source": [
        "## División del Conjunto de Datos\n",
        "Descargamos el conjunto de datos MNIST y lo dividimos en conjuntos de entrenamiento y validación. También cargamos el conjunto de prueba.\n",
        "\n",
        "* `datasets.MNIST` descarga el conjunto de datos MNIST.\n",
        "* `random_split` divide el conjunto de datos de entrenamiento en dos subconjuntos.\n",
        "* `DataLoader` carga los datos en mini-lotes para entrenamiento y validación."
      ],
      "metadata": {
        "id": "u0m98vQxEpoH"
      }
    },
    {
      "cell_type": "code",
      "source": [
        "trainset = torchvision.datasets.MNIST(root='./data', train=True, download=True, transform=transform)\n",
        "\n",
        "trainset, valset = torch.utils.data.random_split(trainset, [54000, 6000])\n",
        "trainloader = torch.utils.data.DataLoader(trainset, batch_size=64, shuffle=True)\n",
        "valloader = torch.utils.data.DataLoader(valset, batch_size=64, shuffle=True)\n",
        "\n",
        "testset = torchvision.datasets.MNIST(root='./data', train=False, download=True, transform=transform)\n",
        "testloader = torch.utils.data.DataLoader(testset, batch_size=64, shuffle=False)"
      ],
      "metadata": {
        "id": "OBQig8kREpWG"
      },
      "execution_count": 13,
      "outputs": []
    },
    {
      "cell_type": "markdown",
      "source": [
        "## Definición de la CNN\n",
        "Definimos la arquitectura de nuestra red neuronal convolucional (CNN) basada en los hiperparámetros sugeridos por Optuna.\n",
        "\n",
        "* `nn.Module` es la clase base para todas las redes neuronales en PyTorch.\n",
        "* `nn.Conv2d` crea una capa convolucional.\n",
        "* `nn.ReLU` aplica la función de activación ReLU.\n",
        "* `nn.MaxPool2d` aplica la operación de pooling para reducir la dimensión de las características.\n",
        "* `nn.Linear` crea una capa completamente conectada.\n",
        "* `nn.Dropout` aplica la técnica de dropout para evitar el sobreajuste.\n",
        "* `ModuleList` agrupa las capas en una lista que puede ser iterada.\n",
        "\n",
        "Optuna está optimizando los siguientes hiperparámetros de la red neuronal:\n",
        "\n",
        "* `num_conv_layers` Este parámetro define cuántas capas convolucionales tendrá la red. El número de capas puede variar entre 2 y 3.\n",
        "* `num_filters` Este parámetro define el número de filtros (o canales de salida) en cada capa convolucional. Cada capa puede tener entre 16 y 128 filtros, en incrementos de 16. Para su implementacion se utiliza una lista para almacenar el número de filtros para cada capa, que es determinado por el número de capas convolucionales (num_conv_layers).\n",
        "* `num_neurons` Este parámetro define cuántas neuronas habrá en la capa totalmente conectada (fully connected layer). El número de neuronas puede variar entre 10 y 400, en incrementos de 10.\n",
        "* `drop_conv2` Este parámetro controla la probabilidad de dropout en la segunda capa convolucional. La probabilidad de dropout puede variar entre 0.2 y 0.5.\n",
        "Dropout es una técnica de regularización que ayuda a prevenir el sobreajuste al apagar aleatoriamente algunas neuronas durante el entrenamiento.\n",
        "* `drop_fc1` Este parámetro controla la probabilidad de dropout en la capa totalmente conectada. La probabilidad de dropout puede variar entre 0.2 y 0.5.Similar al dropout en la capa convolucional, ayuda a prevenir el sobreajuste en la capa totalmente conectada.\n"
      ],
      "metadata": {
        "id": "_EGJ0W4CAymp"
      }
    },
    {
      "cell_type": "code",
      "source": [
        "class Net(nn.Module):\n",
        "    def __init__(self, trial):\n",
        "        tamano = 28\n",
        "        super(Net, self).__init__()\n",
        "        # Definir la arquitectura de la red basada en los hiperparámetros sugeridos\n",
        "        num_conv_layers = trial.suggest_int(\"num_conv_layers\", 2, 3)\n",
        "        num_filters = [int(trial.suggest_discrete_uniform(\"num_filter_\"+str(i), 16, 128, 16))\n",
        "                       for i in range(num_conv_layers)]\n",
        "        num_neurons = trial.suggest_int(\"num_neurons\", 10, 400, 10)\n",
        "        drop_conv2 = trial.suggest_float(\"drop_conv2\", 0.2, 0.5)\n",
        "        drop_fc1 = trial.suggest_float(\"drop_fc1\", 0.2, 0.5)\n",
        "\n",
        "        # Capas convolucionales\n",
        "        self.convs = nn.ModuleList()\n",
        "        in_channels = 1  # MNIST tiene imágenes en escala de grises, por lo tanto, 1 canal de entrada\n",
        "        for out_channels in num_filters:\n",
        "            tamano = tamano-3+2+1  # 3 es el tamaño del Kernel; 2 es dos veces padding\n",
        "            tamano = int(tamano/2)\n",
        "            self.convs.append(nn.Conv2d(in_channels, out_channels, kernel_size=3, padding=1))\n",
        "            self.convs.append(nn.ReLU())\n",
        "            self.convs.append(nn.MaxPool2d(2))\n",
        "            in_channels = out_channels\n",
        "            if len(self.convs) == 4:  # Aplicar dropout después de la segunda capa convolucional\n",
        "                self.convs.append(nn.Dropout(drop_conv2))\n",
        "\n",
        "        # Capa completamente conectada\n",
        "        self.fc1 = nn.Linear(num_filters[-1] * tamano * tamano, num_neurons)\n",
        "        self.drop_fc1 = nn.Dropout(drop_fc1)\n",
        "        self.fc2 = nn.Linear(num_neurons, 10)  # 10 clases en MNIST\n",
        "\n",
        "    def forward(self, x):\n",
        "        for layer in self.convs:\n",
        "            x = layer(x)\n",
        "        x = x.view(x.size(0), -1)  # Aplanar las características para la capa completamente conectada\n",
        "        x = F.relu(self.fc1(x))\n",
        "        x = self.drop_fc1(x)\n",
        "        x = self.fc2(x)\n",
        "        return x"
      ],
      "metadata": {
        "id": "l9LwPOiUAyIS"
      },
      "execution_count": 5,
      "outputs": []
    },
    {
      "cell_type": "markdown",
      "source": [
        "## Función Objetivo para Optuna\n",
        "Definimos una función objetivo para Optuna que optimizará los hiperparámetros del modelo.\n",
        "\n",
        "* `suggest_int, suggest_discrete_uniform, suggest_float, suggest_categorical, suggest_loguniform`: Optuna prueba diferentes valores de hiperparámetros.\n",
        "* `CrossEntropyLoss` se utiliza para calcular la pérdida del modelo.\n",
        "* `optimizer`: Selecciona el optimizador basado en el valor sugerido.\n",
        "* `model.train()` y `model.eval()` cambian el modo del modelo entre entrenamiento y evaluación.\n",
        "* `torch.no_grad()` desactiva el cálculo de gradientes para ahorrar memoria durante la evaluación.\n"
      ],
      "metadata": {
        "id": "AeqV6Ib7BSye"
      }
    },
    {
      "cell_type": "code",
      "source": [
        "def objective(trial):\n",
        "    # Cargar datos de MNIST\n",
        "    transform = transforms.Compose([\n",
        "        transforms.ToTensor(),\n",
        "        transforms.Normalize((0.1307,), (0.3081,))\n",
        "    ])\n",
        "    trainset = datasets.MNIST(root='./data', train=True, download=True, transform=transform)\n",
        "    trainloader = torch.utils.data.DataLoader(trainset, batch_size=64, shuffle=True)\n",
        "    valloader = torch.utils.data.DataLoader(valset, batch_size=64, shuffle=True)\n",
        "\n",
        "    # Construir la red neuronal\n",
        "    model = Net(trial).to(device)\n",
        "\n",
        "    # Optimizar el tipo de optimizador y la tasa de aprendizaje\n",
        "    optimizer_name = trial.suggest_categorical('optimizer', ['Adam', 'RMSprop', 'SGD'])\n",
        "    lr = trial.suggest_loguniform('lr', 1e-5, 1e-1)\n",
        "    optimizer = getattr(optim, optimizer_name)(model.parameters(), lr=lr)\n",
        "\n",
        "    # Entrenamiento de la red\n",
        "    model.train()\n",
        "    for epoch in range(2):  # limitamos a 2 épocas para el ejemplo\n",
        "        for data, target in trainloader:\n",
        "            data, target = data.to(device), target.to(device)\n",
        "            optimizer.zero_grad()\n",
        "            output = model(data)\n",
        "            loss = F.cross_entropy(output, target)\n",
        "            loss.backward()\n",
        "            optimizer.step()\n",
        "\n",
        "    # Validación de la red\n",
        "    correct = 0\n",
        "    total = 0\n",
        "    with torch.no_grad():\n",
        "        for data, target in valloader:\n",
        "            data, target = data.to(device), target.to(device)\n",
        "            outputs = model(data)\n",
        "            _, predicted = torch.max(outputs.data, 1)\n",
        "            total += target.size(0)\n",
        "            correct += (predicted == target).sum().item()\n",
        "\n",
        "    accuracy = correct / total\n",
        "    return accuracy"
      ],
      "metadata": {
        "id": "tLGCTEZLA-0D"
      },
      "execution_count": 6,
      "outputs": []
    },
    {
      "cell_type": "markdown",
      "source": [
        "## Ejecución de la Optimización\n",
        "Finalmente, ejecutamos la optimización de hiperparámetros con Optuna.\n",
        "\n",
        "* `optuna.create_study` crea un estudio de optimización.\n",
        "* `study.optimize` ejecuta la optimización de la función objetivo durante un número definido de pruebas.\n",
        "* Se imprimen los mejores hiperparámetros encontrados."
      ],
      "metadata": {
        "id": "4C0s9AgBE_ko"
      }
    },
    {
      "cell_type": "code",
      "source": [
        "# Crear un estudio de Optuna y encontrar los mejores hiperparámetros\n",
        "study = optuna.create_study(direction='maximize')\n",
        "study.optimize(objective, n_trials=100)\n",
        "\n",
        "# Imprimir los mejores hiperparámetros encontrados\n",
        "print(\"Mejores hiperparámetros:\", study.best_params)"
      ],
      "metadata": {
        "colab": {
          "base_uri": "https://localhost:8080/"
        },
        "id": "0cG4jE5KB5jb",
        "outputId": "9d2f8f2f-c619-4d5e-acbb-519d6e92d398"
      },
      "execution_count": 14,
      "outputs": [
        {
          "output_type": "stream",
          "name": "stderr",
          "text": [
            "[I 2024-07-10 23:56:23,965] A new study created in memory with name: no-name-fba19df7-653f-4bd7-bd5e-3bf06f865ba7\n",
            "<ipython-input-5-45b1c1c8ab40>:7: FutureWarning: suggest_discrete_uniform has been deprecated in v3.0.0. This feature will be removed in v6.0.0. See https://github.com/optuna/optuna/releases/tag/v3.0.0. Use suggest_float(..., step=...) instead.\n",
            "  num_filters = [int(trial.suggest_discrete_uniform(\"num_filter_\"+str(i), 16, 128, 16))\n",
            "<ipython-input-5-45b1c1c8ab40>:9: FutureWarning: suggest_int() got {'step'} as positional arguments but they were expected to be given as keyword arguments.\n",
            "  num_neurons = trial.suggest_int(\"num_neurons\", 10, 400, 10)\n",
            "<ipython-input-6-e72a4fdca27b>:16: FutureWarning: suggest_loguniform has been deprecated in v3.0.0. This feature will be removed in v6.0.0. See https://github.com/optuna/optuna/releases/tag/v3.0.0. Use suggest_float(..., log=True) instead.\n",
            "  lr = trial.suggest_loguniform('lr', 1e-5, 1e-1)\n",
            "[I 2024-07-10 23:56:55,318] Trial 0 finished with value: 0.8886666666666667 and parameters: {'num_conv_layers': 2, 'num_filter_0': 128.0, 'num_filter_1': 16.0, 'num_neurons': 360, 'drop_conv2': 0.22044196803445756, 'drop_fc1': 0.3665449059639442, 'optimizer': 'SGD', 'lr': 0.0032607434637603526}. Best is trial 0 with value: 0.8886666666666667.\n",
            "[I 2024-07-10 23:57:25,972] Trial 1 finished with value: 0.7881666666666667 and parameters: {'num_conv_layers': 2, 'num_filter_0': 96.0, 'num_filter_1': 16.0, 'num_neurons': 280, 'drop_conv2': 0.4355323653258738, 'drop_fc1': 0.25936704138698385, 'optimizer': 'Adam', 'lr': 0.00673918463772257}. Best is trial 0 with value: 0.8886666666666667.\n",
            "[I 2024-07-10 23:57:57,417] Trial 2 finished with value: 0.9316666666666666 and parameters: {'num_conv_layers': 3, 'num_filter_0': 32.0, 'num_filter_1': 128.0, 'num_filter_2': 32.0, 'num_neurons': 200, 'drop_conv2': 0.39411566718799707, 'drop_fc1': 0.44456922188846926, 'optimizer': 'Adam', 'lr': 0.00029017756913411025}. Best is trial 2 with value: 0.9316666666666666.\n",
            "[I 2024-07-10 23:58:28,833] Trial 3 finished with value: 0.969 and parameters: {'num_conv_layers': 2, 'num_filter_0': 64.0, 'num_filter_1': 80.0, 'num_neurons': 70, 'drop_conv2': 0.2932065771672303, 'drop_fc1': 0.31315452567216395, 'optimizer': 'RMSprop', 'lr': 0.0016462835116046164}. Best is trial 3 with value: 0.969.\n",
            "[I 2024-07-10 23:58:59,049] Trial 4 finished with value: 0.9246666666666666 and parameters: {'num_conv_layers': 3, 'num_filter_0': 112.0, 'num_filter_1': 128.0, 'num_filter_2': 128.0, 'num_neurons': 180, 'drop_conv2': 0.3671980958896731, 'drop_fc1': 0.21781727380003157, 'optimizer': 'SGD', 'lr': 0.008747172045988832}. Best is trial 3 with value: 0.969.\n",
            "[I 2024-07-10 23:59:29,835] Trial 5 finished with value: 0.10933333333333334 and parameters: {'num_conv_layers': 2, 'num_filter_0': 96.0, 'num_filter_1': 96.0, 'num_neurons': 200, 'drop_conv2': 0.28978952380338124, 'drop_fc1': 0.30165094221194927, 'optimizer': 'RMSprop', 'lr': 0.02870765878403198}. Best is trial 3 with value: 0.969.\n",
            "[I 2024-07-10 23:59:59,785] Trial 6 finished with value: 0.534 and parameters: {'num_conv_layers': 3, 'num_filter_0': 16.0, 'num_filter_1': 32.0, 'num_filter_2': 128.0, 'num_neurons': 400, 'drop_conv2': 0.2446785541340342, 'drop_fc1': 0.43499021253266545, 'optimizer': 'RMSprop', 'lr': 0.010813774404632763}. Best is trial 3 with value: 0.969.\n",
            "[I 2024-07-11 00:00:30,712] Trial 7 finished with value: 0.6113333333333333 and parameters: {'num_conv_layers': 3, 'num_filter_0': 48.0, 'num_filter_1': 48.0, 'num_filter_2': 16.0, 'num_neurons': 50, 'drop_conv2': 0.21921263035077085, 'drop_fc1': 0.21882787992629682, 'optimizer': 'Adam', 'lr': 1.1242899888661207e-05}. Best is trial 3 with value: 0.969.\n",
            "[I 2024-07-11 00:01:00,828] Trial 8 finished with value: 0.6468333333333334 and parameters: {'num_conv_layers': 3, 'num_filter_0': 48.0, 'num_filter_1': 32.0, 'num_filter_2': 80.0, 'num_neurons': 20, 'drop_conv2': 0.4878049548897594, 'drop_fc1': 0.41442209064420477, 'optimizer': 'Adam', 'lr': 0.003039412085181637}. Best is trial 3 with value: 0.969.\n",
            "[I 2024-07-11 00:01:31,823] Trial 9 finished with value: 0.10516666666666667 and parameters: {'num_conv_layers': 3, 'num_filter_0': 112.0, 'num_filter_1': 112.0, 'num_filter_2': 128.0, 'num_neurons': 20, 'drop_conv2': 0.2937238014639201, 'drop_fc1': 0.22726303427088881, 'optimizer': 'SGD', 'lr': 1.41862651960153e-05}. Best is trial 3 with value: 0.969.\n",
            "[I 2024-07-11 00:02:00,981] Trial 10 finished with value: 0.9591666666666666 and parameters: {'num_conv_layers': 2, 'num_filter_0': 64.0, 'num_filter_1': 80.0, 'num_neurons': 120, 'drop_conv2': 0.32727441580228217, 'drop_fc1': 0.334216779183412, 'optimizer': 'RMSprop', 'lr': 0.0003408011855792368}. Best is trial 3 with value: 0.969.\n",
            "[I 2024-07-11 00:02:30,492] Trial 11 finished with value: 0.9656666666666667 and parameters: {'num_conv_layers': 2, 'num_filter_0': 64.0, 'num_filter_1': 80.0, 'num_neurons': 120, 'drop_conv2': 0.31154181559000765, 'drop_fc1': 0.32858753157934817, 'optimizer': 'RMSprop', 'lr': 0.00035785107884346806}. Best is trial 3 with value: 0.969.\n",
            "[I 2024-07-11 00:02:59,833] Trial 12 finished with value: 0.848 and parameters: {'num_conv_layers': 2, 'num_filter_0': 80.0, 'num_filter_1': 64.0, 'num_neurons': 110, 'drop_conv2': 0.2887451773763094, 'drop_fc1': 0.37028576967495813, 'optimizer': 'RMSprop', 'lr': 0.00010380165550325625}. Best is trial 3 with value: 0.969.\n",
            "[I 2024-07-11 00:03:30,530] Trial 13 finished with value: 0.9751666666666666 and parameters: {'num_conv_layers': 2, 'num_filter_0': 64.0, 'num_filter_1': 80.0, 'num_neurons': 120, 'drop_conv2': 0.3321955785580303, 'drop_fc1': 0.2999058996021755, 'optimizer': 'RMSprop', 'lr': 0.0011979098286033305}. Best is trial 13 with value: 0.9751666666666666.\n",
            "[I 2024-07-11 00:04:00,018] Trial 14 finished with value: 0.9253333333333333 and parameters: {'num_conv_layers': 2, 'num_filter_0': 80.0, 'num_filter_1': 96.0, 'num_neurons': 70, 'drop_conv2': 0.3642710605098275, 'drop_fc1': 0.49469868192242705, 'optimizer': 'RMSprop', 'lr': 0.0011608659834140213}. Best is trial 13 with value: 0.9751666666666666.\n",
            "[I 2024-07-11 00:04:30,244] Trial 15 finished with value: 0.09366666666666666 and parameters: {'num_conv_layers': 2, 'num_filter_0': 48.0, 'num_filter_1': 64.0, 'num_neurons': 260, 'drop_conv2': 0.4113490945643093, 'drop_fc1': 0.2829317758026934, 'optimizer': 'RMSprop', 'lr': 0.06294931482539666}. Best is trial 13 with value: 0.9751666666666666.\n",
            "[I 2024-07-11 00:04:59,091] Trial 16 finished with value: 0.9795 and parameters: {'num_conv_layers': 2, 'num_filter_0': 16.0, 'num_filter_1': 96.0, 'num_neurons': 150, 'drop_conv2': 0.33776873824248965, 'drop_fc1': 0.26796973961541026, 'optimizer': 'RMSprop', 'lr': 0.001241353290865157}. Best is trial 16 with value: 0.9795.\n",
            "[I 2024-07-11 00:05:28,007] Trial 17 finished with value: 0.7058333333333333 and parameters: {'num_conv_layers': 2, 'num_filter_0': 16.0, 'num_filter_1': 96.0, 'num_neurons': 160, 'drop_conv2': 0.33591387281475055, 'drop_fc1': 0.26277411649060534, 'optimizer': 'RMSprop', 'lr': 5.3148992929602255e-05}. Best is trial 16 with value: 0.9795.\n",
            "[I 2024-07-11 00:05:57,521] Trial 18 finished with value: 0.9858333333333333 and parameters: {'num_conv_layers': 2, 'num_filter_0': 32.0, 'num_filter_1': 112.0, 'num_neurons': 240, 'drop_conv2': 0.26233985588398284, 'drop_fc1': 0.25794410106945853, 'optimizer': 'RMSprop', 'lr': 0.0007558329881268023}. Best is trial 18 with value: 0.9858333333333333.\n",
            "[I 2024-07-11 00:06:26,003] Trial 19 finished with value: 0.20383333333333334 and parameters: {'num_conv_layers': 2, 'num_filter_0': 32.0, 'num_filter_1': 112.0, 'num_neurons': 250, 'drop_conv2': 0.2503112693081847, 'drop_fc1': 0.2565363848968283, 'optimizer': 'SGD', 'lr': 0.00011159014738853486}. Best is trial 18 with value: 0.9858333333333333.\n",
            "[I 2024-07-11 00:06:54,452] Trial 20 finished with value: 0.985 and parameters: {'num_conv_layers': 2, 'num_filter_0': 32.0, 'num_filter_1': 112.0, 'num_neurons': 310, 'drop_conv2': 0.2549414715482915, 'drop_fc1': 0.20125638690301606, 'optimizer': 'RMSprop', 'lr': 0.000512233287809745}. Best is trial 18 with value: 0.9858333333333333.\n",
            "[I 2024-07-11 00:07:23,783] Trial 21 finished with value: 0.9845 and parameters: {'num_conv_layers': 2, 'num_filter_0': 32.0, 'num_filter_1': 112.0, 'num_neurons': 310, 'drop_conv2': 0.2608480528072308, 'drop_fc1': 0.20516838854531155, 'optimizer': 'RMSprop', 'lr': 0.00054508878787171}. Best is trial 18 with value: 0.9858333333333333.\n",
            "[I 2024-07-11 00:07:52,456] Trial 22 finished with value: 0.9633333333333334 and parameters: {'num_conv_layers': 2, 'num_filter_0': 32.0, 'num_filter_1': 112.0, 'num_neurons': 310, 'drop_conv2': 0.26058895580720076, 'drop_fc1': 0.20687171060878906, 'optimizer': 'RMSprop', 'lr': 0.00036539170253984863}. Best is trial 18 with value: 0.9858333333333333.\n",
            "[I 2024-07-11 00:08:21,710] Trial 23 finished with value: 0.9825 and parameters: {'num_conv_layers': 2, 'num_filter_0': 32.0, 'num_filter_1': 128.0, 'num_neurons': 320, 'drop_conv2': 0.20302650761692698, 'drop_fc1': 0.2403900942539336, 'optimizer': 'RMSprop', 'lr': 0.0005933873720028723}. Best is trial 18 with value: 0.9858333333333333.\n",
            "[I 2024-07-11 00:08:50,371] Trial 24 finished with value: 0.9743333333333334 and parameters: {'num_conv_layers': 2, 'num_filter_0': 48.0, 'num_filter_1': 112.0, 'num_neurons': 240, 'drop_conv2': 0.2616991404821152, 'drop_fc1': 0.2018700994004461, 'optimizer': 'RMSprop', 'lr': 0.00016629043568245844}. Best is trial 18 with value: 0.9858333333333333.\n",
            "[I 2024-07-11 00:09:18,996] Trial 25 finished with value: 0.5823333333333334 and parameters: {'num_conv_layers': 2, 'num_filter_0': 16.0, 'num_filter_1': 128.0, 'num_neurons': 340, 'drop_conv2': 0.23525443664104484, 'drop_fc1': 0.20067659802125057, 'optimizer': 'RMSprop', 'lr': 5.197735166538458e-05}. Best is trial 18 with value: 0.9858333333333333.\n",
            "[I 2024-07-11 00:09:48,256] Trial 26 finished with value: 0.9436666666666667 and parameters: {'num_conv_layers': 2, 'num_filter_0': 32.0, 'num_filter_1': 112.0, 'num_neurons': 300, 'drop_conv2': 0.27047214794678326, 'drop_fc1': 0.23711782775319867, 'optimizer': 'RMSprop', 'lr': 0.003168787132209359}. Best is trial 18 with value: 0.9858333333333333.\n",
            "[I 2024-07-11 00:10:16,953] Trial 27 finished with value: 0.9873333333333333 and parameters: {'num_conv_layers': 2, 'num_filter_0': 48.0, 'num_filter_1': 96.0, 'num_neurons': 370, 'drop_conv2': 0.22816488468519758, 'drop_fc1': 0.23997380978225652, 'optimizer': 'RMSprop', 'lr': 0.0006361358890799662}. Best is trial 27 with value: 0.9873333333333333.\n",
            "[I 2024-07-11 00:10:46,671] Trial 28 finished with value: 0.7778333333333334 and parameters: {'num_conv_layers': 2, 'num_filter_0': 48.0, 'num_filter_1': 96.0, 'num_neurons': 400, 'drop_conv2': 0.21050032523539813, 'drop_fc1': 0.2857460292805145, 'optimizer': 'Adam', 'lr': 3.663674867881006e-05}. Best is trial 27 with value: 0.9873333333333333.\n",
            "[I 2024-07-11 00:11:15,271] Trial 29 finished with value: 0.842 and parameters: {'num_conv_layers': 2, 'num_filter_0': 48.0, 'num_filter_1': 96.0, 'num_neurons': 360, 'drop_conv2': 0.23042451995217098, 'drop_fc1': 0.36636786472438554, 'optimizer': 'SGD', 'lr': 0.0024020609736187604}. Best is trial 27 with value: 0.9873333333333333.\n",
            "[I 2024-07-11 00:11:44,038] Trial 30 finished with value: 0.685 and parameters: {'num_conv_layers': 2, 'num_filter_0': 16.0, 'num_filter_1': 128.0, 'num_neurons': 370, 'drop_conv2': 0.22630094843377707, 'drop_fc1': 0.24628606597008112, 'optimizer': 'SGD', 'lr': 0.000616077888714366}. Best is trial 27 with value: 0.9873333333333333.\n",
            "[I 2024-07-11 00:12:13,489] Trial 31 finished with value: 0.9826666666666667 and parameters: {'num_conv_layers': 2, 'num_filter_0': 32.0, 'num_filter_1': 112.0, 'num_neurons': 230, 'drop_conv2': 0.2741558180088953, 'drop_fc1': 0.22918538779043585, 'optimizer': 'RMSprop', 'lr': 0.0008108087227937606}. Best is trial 27 with value: 0.9873333333333333.\n",
            "[I 2024-07-11 00:12:42,383] Trial 32 finished with value: 0.952 and parameters: {'num_conv_layers': 2, 'num_filter_0': 32.0, 'num_filter_1': 112.0, 'num_neurons': 290, 'drop_conv2': 0.2454300991175587, 'drop_fc1': 0.27339762509712096, 'optimizer': 'RMSprop', 'lr': 0.00017681118458391304}. Best is trial 27 with value: 0.9873333333333333.\n",
            "[I 2024-07-11 00:13:12,037] Trial 33 finished with value: 0.7966666666666666 and parameters: {'num_conv_layers': 2, 'num_filter_0': 32.0, 'num_filter_1': 128.0, 'num_neurons': 270, 'drop_conv2': 0.31043324972325836, 'drop_fc1': 0.2454101669951316, 'optimizer': 'RMSprop', 'lr': 0.006261199856389897}. Best is trial 27 with value: 0.9873333333333333.\n",
            "[I 2024-07-11 00:13:40,650] Trial 34 finished with value: 0.9805 and parameters: {'num_conv_layers': 2, 'num_filter_0': 48.0, 'num_filter_1': 96.0, 'num_neurons': 330, 'drop_conv2': 0.2013426240833208, 'drop_fc1': 0.22112910935189348, 'optimizer': 'RMSprop', 'lr': 0.0005986472700510815}. Best is trial 27 with value: 0.9873333333333333.\n",
            "[I 2024-07-11 00:14:09,745] Trial 35 finished with value: 0.9658333333333333 and parameters: {'num_conv_layers': 2, 'num_filter_0': 16.0, 'num_filter_1': 112.0, 'num_neurons': 350, 'drop_conv2': 0.2740958793178276, 'drop_fc1': 0.2003011207905207, 'optimizer': 'Adam', 'lr': 0.0018990575728074263}. Best is trial 27 with value: 0.9873333333333333.\n",
            "[I 2024-07-11 00:14:39,707] Trial 36 finished with value: 0.8696666666666667 and parameters: {'num_conv_layers': 2, 'num_filter_0': 32.0, 'num_filter_1': 112.0, 'num_neurons': 220, 'drop_conv2': 0.30347180944566515, 'drop_fc1': 0.25226746282148277, 'optimizer': 'RMSprop', 'lr': 0.004993405305898953}. Best is trial 27 with value: 0.9873333333333333.\n",
            "[I 2024-07-11 00:15:09,043] Trial 37 finished with value: 0.9836666666666667 and parameters: {'num_conv_layers': 3, 'num_filter_0': 64.0, 'num_filter_1': 128.0, 'num_filter_2': 64.0, 'num_neurons': 380, 'drop_conv2': 0.2495054780254361, 'drop_fc1': 0.2221526962496732, 'optimizer': 'RMSprop', 'lr': 0.00022352199160495187}. Best is trial 27 with value: 0.9873333333333333.\n",
            "[I 2024-07-11 00:15:38,609] Trial 38 finished with value: 0.9255 and parameters: {'num_conv_layers': 2, 'num_filter_0': 128.0, 'num_filter_1': 96.0, 'num_neurons': 290, 'drop_conv2': 0.4647210163726925, 'drop_fc1': 0.2850624755221146, 'optimizer': 'RMSprop', 'lr': 0.0007801619706563957}. Best is trial 27 with value: 0.9873333333333333.\n",
            "[I 2024-07-11 00:16:07,709] Trial 39 finished with value: 0.9538333333333333 and parameters: {'num_conv_layers': 2, 'num_filter_0': 48.0, 'num_filter_1': 64.0, 'num_neurons': 270, 'drop_conv2': 0.2247889445617044, 'drop_fc1': 0.31228603525371046, 'optimizer': 'Adam', 'lr': 0.0004862328090302067}. Best is trial 27 with value: 0.9873333333333333.\n",
            "[I 2024-07-11 00:16:37,343] Trial 40 finished with value: 0.9395 and parameters: {'num_conv_layers': 3, 'num_filter_0': 32.0, 'num_filter_1': 80.0, 'num_filter_2': 80.0, 'num_neurons': 380, 'drop_conv2': 0.2894927281582796, 'drop_fc1': 0.2139517066882614, 'optimizer': 'SGD', 'lr': 0.01205463894985957}. Best is trial 27 with value: 0.9873333333333333.\n",
            "[I 2024-07-11 00:17:06,418] Trial 41 finished with value: 0.967 and parameters: {'num_conv_layers': 3, 'num_filter_0': 64.0, 'num_filter_1': 128.0, 'num_filter_2': 48.0, 'num_neurons': 390, 'drop_conv2': 0.2506975866476924, 'drop_fc1': 0.23147966124981242, 'optimizer': 'RMSprop', 'lr': 0.0002226662621111353}. Best is trial 27 with value: 0.9873333333333333.\n",
            "[I 2024-07-11 00:17:35,858] Trial 42 finished with value: 0.9466666666666667 and parameters: {'num_conv_layers': 3, 'num_filter_0': 80.0, 'num_filter_1': 128.0, 'num_filter_2': 64.0, 'num_neurons': 350, 'drop_conv2': 0.23810738394821537, 'drop_fc1': 0.21845694516074093, 'optimizer': 'RMSprop', 'lr': 0.0002513407247706995}. Best is trial 27 with value: 0.9873333333333333.\n",
            "[I 2024-07-11 00:18:05,397] Trial 43 finished with value: 0.9686666666666667 and parameters: {'num_conv_layers': 3, 'num_filter_0': 64.0, 'num_filter_1': 112.0, 'num_filter_2': 96.0, 'num_neurons': 320, 'drop_conv2': 0.25900634603991823, 'drop_fc1': 0.23461453728776194, 'optimizer': 'RMSprop', 'lr': 0.0001238037428156717}. Best is trial 27 with value: 0.9873333333333333.\n",
            "[I 2024-07-11 00:18:34,438] Trial 44 finished with value: 0.9545 and parameters: {'num_conv_layers': 3, 'num_filter_0': 96.0, 'num_filter_1': 16.0, 'num_filter_2': 96.0, 'num_neurons': 370, 'drop_conv2': 0.21655681239148686, 'drop_fc1': 0.21538236339002892, 'optimizer': 'RMSprop', 'lr': 0.0004018252665615559}. Best is trial 27 with value: 0.9873333333333333.\n",
            "[I 2024-07-11 00:19:04,246] Trial 45 finished with value: 0.9421666666666667 and parameters: {'num_conv_layers': 3, 'num_filter_0': 48.0, 'num_filter_1': 128.0, 'num_filter_2': 48.0, 'num_neurons': 200, 'drop_conv2': 0.27967734188477905, 'drop_fc1': 0.2546719393163528, 'optimizer': 'RMSprop', 'lr': 0.0015440573589243975}. Best is trial 27 with value: 0.9873333333333333.\n",
            "[I 2024-07-11 00:19:33,152] Trial 46 finished with value: 0.902 and parameters: {'num_conv_layers': 3, 'num_filter_0': 48.0, 'num_filter_1': 128.0, 'num_filter_2': 16.0, 'num_neurons': 340, 'drop_conv2': 0.3925021307679231, 'drop_fc1': 0.41641007913530986, 'optimizer': 'RMSprop', 'lr': 6.903905093503454e-05}. Best is trial 27 with value: 0.9873333333333333.\n",
            "[I 2024-07-11 00:20:02,505] Trial 47 finished with value: 0.9758333333333333 and parameters: {'num_conv_layers': 2, 'num_filter_0': 64.0, 'num_filter_1': 112.0, 'num_neurons': 380, 'drop_conv2': 0.3179860396613067, 'drop_fc1': 0.22637873430493033, 'optimizer': 'Adam', 'lr': 0.0009435717373906396}. Best is trial 27 with value: 0.9873333333333333.\n",
            "[I 2024-07-11 00:20:31,005] Trial 48 finished with value: 0.7263333333333334 and parameters: {'num_conv_layers': 2, 'num_filter_0': 112.0, 'num_filter_1': 96.0, 'num_neurons': 310, 'drop_conv2': 0.29827579222471623, 'drop_fc1': 0.49524646412046225, 'optimizer': 'RMSprop', 'lr': 2.6141056842373266e-05}. Best is trial 27 with value: 0.9873333333333333.\n",
            "[I 2024-07-11 00:20:59,826] Trial 49 finished with value: 0.9833333333333333 and parameters: {'num_conv_layers': 2, 'num_filter_0': 80.0, 'num_filter_1': 80.0, 'num_neurons': 180, 'drop_conv2': 0.24002145325128157, 'drop_fc1': 0.27221167856795764, 'optimizer': 'RMSprop', 'lr': 0.00022925522532600169}. Best is trial 27 with value: 0.9873333333333333.\n",
            "[I 2024-07-11 00:21:30,233] Trial 50 finished with value: 0.7638333333333334 and parameters: {'num_conv_layers': 3, 'num_filter_0': 64.0, 'num_filter_1': 112.0, 'num_filter_2': 96.0, 'num_neurons': 400, 'drop_conv2': 0.2609230163252972, 'drop_fc1': 0.2959407962737447, 'optimizer': 'RMSprop', 'lr': 0.004224448809452364}. Best is trial 27 with value: 0.9873333333333333.\n",
            "[I 2024-07-11 00:21:58,915] Trial 51 finished with value: 0.9723333333333334 and parameters: {'num_conv_layers': 2, 'num_filter_0': 96.0, 'num_filter_1': 80.0, 'num_neurons': 180, 'drop_conv2': 0.23555318042221604, 'drop_fc1': 0.2719295354215972, 'optimizer': 'RMSprop', 'lr': 0.0002765757792001662}. Best is trial 27 with value: 0.9873333333333333.\n",
            "[I 2024-07-11 00:22:28,078] Trial 52 finished with value: 0.971 and parameters: {'num_conv_layers': 2, 'num_filter_0': 80.0, 'num_filter_1': 96.0, 'num_neurons': 180, 'drop_conv2': 0.24872322067874225, 'drop_fc1': 0.21195312817038467, 'optimizer': 'RMSprop', 'lr': 0.0004536484736136826}. Best is trial 27 with value: 0.9873333333333333.\n",
            "[I 2024-07-11 00:22:56,751] Trial 53 finished with value: 0.9626666666666667 and parameters: {'num_conv_layers': 2, 'num_filter_0': 80.0, 'num_filter_1': 64.0, 'num_neurons': 140, 'drop_conv2': 0.2824434122749844, 'drop_fc1': 0.24240514459117296, 'optimizer': 'RMSprop', 'lr': 0.0001662818173077223}. Best is trial 27 with value: 0.9873333333333333.\n",
            "[I 2024-07-11 00:23:25,600] Trial 54 finished with value: 0.9425 and parameters: {'num_conv_layers': 2, 'num_filter_0': 80.0, 'num_filter_1': 80.0, 'num_neurons': 210, 'drop_conv2': 0.2205521831352869, 'drop_fc1': 0.3442455757019282, 'optimizer': 'RMSprop', 'lr': 0.00031074427237216297}. Best is trial 27 with value: 0.9873333333333333.\n",
            "[I 2024-07-11 00:23:55,081] Trial 55 finished with value: 0.8651666666666666 and parameters: {'num_conv_layers': 2, 'num_filter_0': 64.0, 'num_filter_1': 48.0, 'num_neurons': 240, 'drop_conv2': 0.264902104238106, 'drop_fc1': 0.26747074165125756, 'optimizer': 'RMSprop', 'lr': 9.959495569042168e-05}. Best is trial 27 with value: 0.9873333333333333.\n",
            "[I 2024-07-11 00:24:23,845] Trial 56 finished with value: 0.8781666666666667 and parameters: {'num_conv_layers': 2, 'num_filter_0': 96.0, 'num_filter_1': 80.0, 'num_neurons': 260, 'drop_conv2': 0.3493219112631347, 'drop_fc1': 0.4669807161406863, 'optimizer': 'RMSprop', 'lr': 0.001787642492220048}. Best is trial 27 with value: 0.9873333333333333.\n",
            "[I 2024-07-11 00:24:53,104] Trial 57 finished with value: 0.8088333333333333 and parameters: {'num_conv_layers': 2, 'num_filter_0': 32.0, 'num_filter_1': 96.0, 'num_neurons': 160, 'drop_conv2': 0.2116251793437116, 'drop_fc1': 0.2569855851781952, 'optimizer': 'SGD', 'lr': 0.0010345918673173035}. Best is trial 27 with value: 0.9873333333333333.\n",
            "[I 2024-07-11 00:25:21,899] Trial 58 finished with value: 0.9658333333333333 and parameters: {'num_conv_layers': 2, 'num_filter_0': 48.0, 'num_filter_1': 128.0, 'num_neurons': 280, 'drop_conv2': 0.23870570924628617, 'drop_fc1': 0.2229507320754876, 'optimizer': 'RMSprop', 'lr': 0.00019225135725939156}. Best is trial 27 with value: 0.9873333333333333.\n",
            "[I 2024-07-11 00:25:50,734] Trial 59 finished with value: 0.9711666666666666 and parameters: {'num_conv_layers': 2, 'num_filter_0': 16.0, 'num_filter_1': 112.0, 'num_neurons': 90, 'drop_conv2': 0.2483680981874635, 'drop_fc1': 0.2351567860192214, 'optimizer': 'RMSprop', 'lr': 0.0006918216941293124}. Best is trial 27 with value: 0.9873333333333333.\n",
            "[I 2024-07-11 00:26:20,506] Trial 60 finished with value: 0.9383333333333334 and parameters: {'num_conv_layers': 2, 'num_filter_0': 48.0, 'num_filter_1': 96.0, 'num_neurons': 360, 'drop_conv2': 0.2558065286423282, 'drop_fc1': 0.3830689931979292, 'optimizer': 'Adam', 'lr': 0.00013259832481641936}. Best is trial 27 with value: 0.9873333333333333.\n",
            "[I 2024-07-11 00:26:49,587] Trial 61 finished with value: 0.9788333333333333 and parameters: {'num_conv_layers': 2, 'num_filter_0': 32.0, 'num_filter_1': 112.0, 'num_neurons': 230, 'drop_conv2': 0.273909649092673, 'drop_fc1': 0.22921989345373625, 'optimizer': 'RMSprop', 'lr': 0.0008484495624152714}. Best is trial 27 with value: 0.9873333333333333.\n",
            "[I 2024-07-11 00:27:18,726] Trial 62 finished with value: 0.9856666666666667 and parameters: {'num_conv_layers': 2, 'num_filter_0': 32.0, 'num_filter_1': 112.0, 'num_neurons': 180, 'drop_conv2': 0.26978988042996366, 'drop_fc1': 0.20782883335959082, 'optimizer': 'RMSprop', 'lr': 0.00047013134415332903}. Best is trial 27 with value: 0.9873333333333333.\n",
            "[I 2024-07-11 00:27:47,786] Trial 63 finished with value: 0.989 and parameters: {'num_conv_layers': 2, 'num_filter_0': 16.0, 'num_filter_1': 112.0, 'num_neurons': 180, 'drop_conv2': 0.23027913629847807, 'drop_fc1': 0.20837526972530312, 'optimizer': 'RMSprop', 'lr': 0.00048187968562599066}. Best is trial 63 with value: 0.989.\n",
            "[I 2024-07-11 00:28:16,993] Trial 64 finished with value: 0.9255 and parameters: {'num_conv_layers': 2, 'num_filter_0': 16.0, 'num_filter_1': 112.0, 'num_neurons': 190, 'drop_conv2': 0.28513000423022566, 'drop_fc1': 0.2085187823000432, 'optimizer': 'RMSprop', 'lr': 0.00047658227026698286}. Best is trial 63 with value: 0.989.\n",
            "[I 2024-07-11 00:28:46,014] Trial 65 finished with value: 0.9181666666666667 and parameters: {'num_conv_layers': 2, 'num_filter_0': 16.0, 'num_filter_1': 128.0, 'num_neurons': 160, 'drop_conv2': 0.2277098494267825, 'drop_fc1': 0.20847435510223655, 'optimizer': 'RMSprop', 'lr': 0.0013690269616339211}. Best is trial 63 with value: 0.989.\n",
            "[I 2024-07-11 00:29:14,673] Trial 66 finished with value: 0.9755 and parameters: {'num_conv_layers': 2, 'num_filter_0': 32.0, 'num_filter_1': 112.0, 'num_neurons': 140, 'drop_conv2': 0.26810756594360424, 'drop_fc1': 0.22067596197571723, 'optimizer': 'RMSprop', 'lr': 0.00035327018190155814}. Best is trial 63 with value: 0.989.\n",
            "[I 2024-07-11 00:29:43,989] Trial 67 finished with value: 0.94 and parameters: {'num_conv_layers': 2, 'num_filter_0': 16.0, 'num_filter_1': 112.0, 'num_neurons': 330, 'drop_conv2': 0.2058052280619682, 'drop_fc1': 0.24775376734779103, 'optimizer': 'RMSprop', 'lr': 0.0022541696135789037}. Best is trial 63 with value: 0.989.\n",
            "[I 2024-07-11 00:30:12,657] Trial 68 finished with value: 0.7601666666666667 and parameters: {'num_conv_layers': 2, 'num_filter_0': 32.0, 'num_filter_1': 128.0, 'num_neurons': 210, 'drop_conv2': 0.21742234441617922, 'drop_fc1': 0.20166254819961824, 'optimizer': 'SGD', 'lr': 0.0005474423973352656}. Best is trial 63 with value: 0.989.\n",
            "[I 2024-07-11 00:30:41,559] Trial 69 finished with value: 0.9771666666666666 and parameters: {'num_conv_layers': 2, 'num_filter_0': 32.0, 'num_filter_1': 112.0, 'num_neurons': 300, 'drop_conv2': 0.23026312637576224, 'drop_fc1': 0.21082432466014073, 'optimizer': 'RMSprop', 'lr': 0.000306351454382728}. Best is trial 63 with value: 0.989.\n",
            "[I 2024-07-11 00:31:10,595] Trial 70 finished with value: 0.9613333333333334 and parameters: {'num_conv_layers': 2, 'num_filter_0': 16.0, 'num_filter_1': 96.0, 'num_neurons': 380, 'drop_conv2': 0.2550383041726449, 'drop_fc1': 0.23769966131880216, 'optimizer': 'RMSprop', 'lr': 0.0011397423722992557}. Best is trial 63 with value: 0.989.\n",
            "[I 2024-07-11 00:31:39,192] Trial 71 finished with value: 0.9823333333333333 and parameters: {'num_conv_layers': 2, 'num_filter_0': 48.0, 'num_filter_1': 96.0, 'num_neurons': 170, 'drop_conv2': 0.24051547796119274, 'drop_fc1': 0.22601650458271474, 'optimizer': 'RMSprop', 'lr': 0.0006953067360141949}. Best is trial 63 with value: 0.989.\n",
            "[I 2024-07-11 00:32:08,626] Trial 72 finished with value: 0.9751666666666666 and parameters: {'num_conv_layers': 2, 'num_filter_0': 32.0, 'num_filter_1': 112.0, 'num_neurons': 200, 'drop_conv2': 0.23992967851413433, 'drop_fc1': 0.278068165941448, 'optimizer': 'RMSprop', 'lr': 0.000255672120444465}. Best is trial 63 with value: 0.989.\n",
            "[I 2024-07-11 00:32:37,634] Trial 73 finished with value: 0.8403333333333334 and parameters: {'num_conv_layers': 2, 'num_filter_0': 32.0, 'num_filter_1': 128.0, 'num_neurons': 190, 'drop_conv2': 0.2664665372931132, 'drop_fc1': 0.21661130691196612, 'optimizer': 'RMSprop', 'lr': 8.385252931407221e-05}. Best is trial 63 with value: 0.989.\n",
            "[I 2024-07-11 00:33:07,177] Trial 74 finished with value: 0.9821666666666666 and parameters: {'num_conv_layers': 2, 'num_filter_0': 16.0, 'num_filter_1': 96.0, 'num_neurons': 140, 'drop_conv2': 0.2438829663931467, 'drop_fc1': 0.26244109322223064, 'optimizer': 'RMSprop', 'lr': 0.0004113309785656236}. Best is trial 63 with value: 0.989.\n",
            "[I 2024-07-11 00:33:36,561] Trial 75 finished with value: 0.9041666666666667 and parameters: {'num_conv_layers': 2, 'num_filter_0': 32.0, 'num_filter_1': 80.0, 'num_neurons': 170, 'drop_conv2': 0.22508788408980152, 'drop_fc1': 0.2454239772885633, 'optimizer': 'RMSprop', 'lr': 0.00014822236087632288}. Best is trial 63 with value: 0.989.\n",
            "[I 2024-07-11 00:34:05,868] Trial 76 finished with value: 0.9843333333333333 and parameters: {'num_conv_layers': 2, 'num_filter_0': 80.0, 'num_filter_1': 112.0, 'num_neurons': 250, 'drop_conv2': 0.29596501891341326, 'drop_fc1': 0.20530030598144572, 'optimizer': 'RMSprop', 'lr': 0.00021930510309710536}. Best is trial 63 with value: 0.989.\n",
            "[I 2024-07-11 00:34:36,221] Trial 77 finished with value: 0.9753333333333334 and parameters: {'num_conv_layers': 2, 'num_filter_0': 48.0, 'num_filter_1': 112.0, 'num_neurons': 250, 'drop_conv2': 0.2961161382483226, 'drop_fc1': 0.20083992767145442, 'optimizer': 'Adam', 'lr': 0.0005677364907388779}. Best is trial 63 with value: 0.989.\n",
            "[I 2024-07-11 00:35:05,462] Trial 78 finished with value: 0.9026666666666666 and parameters: {'num_conv_layers': 2, 'num_filter_0': 48.0, 'num_filter_1': 112.0, 'num_neurons': 220, 'drop_conv2': 0.32029712480557737, 'drop_fc1': 0.20745312826391332, 'optimizer': 'RMSprop', 'lr': 0.00019795405978696625}. Best is trial 63 with value: 0.989.\n",
            "[I 2024-07-11 00:35:35,477] Trial 79 finished with value: 0.9853333333333333 and parameters: {'num_conv_layers': 3, 'num_filter_0': 64.0, 'num_filter_1': 128.0, 'num_filter_2': 64.0, 'num_neurons': 270, 'drop_conv2': 0.3054753153785961, 'drop_fc1': 0.21972341783616786, 'optimizer': 'RMSprop', 'lr': 0.00035385786956112125}. Best is trial 63 with value: 0.989.\n",
            "[I 2024-07-11 00:36:04,138] Trial 80 finished with value: 0.09183333333333334 and parameters: {'num_conv_layers': 2, 'num_filter_0': 32.0, 'num_filter_1': 112.0, 'num_neurons': 280, 'drop_conv2': 0.30697441639106515, 'drop_fc1': 0.21431221195636752, 'optimizer': 'RMSprop', 'lr': 0.08877862214072187}. Best is trial 63 with value: 0.989.\n",
            "[I 2024-07-11 00:36:34,687] Trial 81 finished with value: 0.9876666666666667 and parameters: {'num_conv_layers': 3, 'num_filter_0': 64.0, 'num_filter_1': 128.0, 'num_filter_2': 64.0, 'num_neurons': 260, 'drop_conv2': 0.2754476486633858, 'drop_fc1': 0.22502293088687975, 'optimizer': 'RMSprop', 'lr': 0.0003614232723929238}. Best is trial 63 with value: 0.989.\n",
            "[I 2024-07-11 00:37:03,856] Trial 82 finished with value: 0.9261666666666667 and parameters: {'num_conv_layers': 3, 'num_filter_0': 64.0, 'num_filter_1': 128.0, 'num_filter_2': 48.0, 'num_neurons': 260, 'drop_conv2': 0.27868805365727195, 'drop_fc1': 0.22948523016184316, 'optimizer': 'RMSprop', 'lr': 0.00035505680150300163}. Best is trial 63 with value: 0.989.\n",
            "[I 2024-07-11 00:37:33,659] Trial 83 finished with value: 0.9143333333333333 and parameters: {'num_conv_layers': 3, 'num_filter_0': 64.0, 'num_filter_1': 128.0, 'num_filter_2': 32.0, 'num_neurons': 240, 'drop_conv2': 0.3019206531052085, 'drop_fc1': 0.20686174812570768, 'optimizer': 'RMSprop', 'lr': 0.000848819006819906}. Best is trial 63 with value: 0.989.\n",
            "[I 2024-07-11 00:38:03,482] Trial 84 finished with value: 0.9655 and parameters: {'num_conv_layers': 3, 'num_filter_0': 80.0, 'num_filter_1': 112.0, 'num_filter_2': 64.0, 'num_neurons': 290, 'drop_conv2': 0.29093228411546723, 'drop_fc1': 0.23927150078727683, 'optimizer': 'RMSprop', 'lr': 0.0005578271756513325}. Best is trial 63 with value: 0.989.\n",
            "[I 2024-07-11 00:38:33,006] Trial 85 finished with value: 0.25766666666666665 and parameters: {'num_conv_layers': 3, 'num_filter_0': 64.0, 'num_filter_1': 128.0, 'num_filter_2': 80.0, 'num_neurons': 230, 'drop_conv2': 0.32693989629014425, 'drop_fc1': 0.22059027565259848, 'optimizer': 'SGD', 'lr': 0.0004349703421853495}. Best is trial 63 with value: 0.989.\n",
            "[I 2024-07-11 00:39:03,175] Trial 86 finished with value: 0.878 and parameters: {'num_conv_layers': 3, 'num_filter_0': 96.0, 'num_filter_1': 112.0, 'num_filter_2': 32.0, 'num_neurons': 270, 'drop_conv2': 0.3737380463351126, 'drop_fc1': 0.25203650453067755, 'optimizer': 'RMSprop', 'lr': 0.0007208613185148806}. Best is trial 63 with value: 0.989.\n",
            "[I 2024-07-11 00:39:32,027] Trial 87 finished with value: 0.9508333333333333 and parameters: {'num_conv_layers': 3, 'num_filter_0': 48.0, 'num_filter_1': 128.0, 'num_filter_2': 112.0, 'num_neurons': 250, 'drop_conv2': 0.27428019830677436, 'drop_fc1': 0.2334173793993678, 'optimizer': 'RMSprop', 'lr': 0.00029096599340369694}. Best is trial 63 with value: 0.989.\n",
            "[I 2024-07-11 00:40:01,095] Trial 88 finished with value: 0.9793333333333333 and parameters: {'num_conv_layers': 2, 'num_filter_0': 32.0, 'num_filter_1': 112.0, 'num_neurons': 300, 'drop_conv2': 0.2554615825236767, 'drop_fc1': 0.20598201476780637, 'optimizer': 'RMSprop', 'lr': 0.0009874096273598048}. Best is trial 63 with value: 0.989.\n",
            "[I 2024-07-11 00:40:29,673] Trial 89 finished with value: 0.9766666666666667 and parameters: {'num_conv_layers': 2, 'num_filter_0': 16.0, 'num_filter_1': 32.0, 'num_neurons': 220, 'drop_conv2': 0.31417254339586853, 'drop_fc1': 0.2182045516970372, 'optimizer': 'RMSprop', 'lr': 0.0004685004542715243}. Best is trial 63 with value: 0.989.\n",
            "[I 2024-07-11 00:40:59,577] Trial 90 finished with value: 0.9696666666666667 and parameters: {'num_conv_layers': 3, 'num_filter_0': 80.0, 'num_filter_1': 128.0, 'num_filter_2': 48.0, 'num_neurons': 320, 'drop_conv2': 0.28473240087872853, 'drop_fc1': 0.20055969066761906, 'optimizer': 'RMSprop', 'lr': 0.00036818341806740313}. Best is trial 63 with value: 0.989.\n",
            "[I 2024-07-11 00:41:29,463] Trial 91 finished with value: 0.958 and parameters: {'num_conv_layers': 3, 'num_filter_0': 64.0, 'num_filter_1': 128.0, 'num_filter_2': 64.0, 'num_neurons': 350, 'drop_conv2': 0.2697093852588185, 'drop_fc1': 0.2234170816956882, 'optimizer': 'RMSprop', 'lr': 0.00025165080879665825}. Best is trial 63 with value: 0.989.\n",
            "[I 2024-07-11 00:41:59,143] Trial 92 finished with value: 0.9515 and parameters: {'num_conv_layers': 3, 'num_filter_0': 64.0, 'num_filter_1': 128.0, 'num_filter_2': 64.0, 'num_neurons': 280, 'drop_conv2': 0.25782105157531965, 'drop_fc1': 0.2112844695883292, 'optimizer': 'RMSprop', 'lr': 0.00020353334339498776}. Best is trial 63 with value: 0.989.\n",
            "[I 2024-07-11 00:42:28,719] Trial 93 finished with value: 0.5795 and parameters: {'num_conv_layers': 3, 'num_filter_0': 64.0, 'num_filter_1': 112.0, 'num_filter_2': 80.0, 'num_neurons': 10, 'drop_conv2': 0.24986565447899037, 'drop_fc1': 0.22795380214725114, 'optimizer': 'RMSprop', 'lr': 0.001277504128394731}. Best is trial 63 with value: 0.989.\n",
            "[I 2024-07-11 00:42:57,799] Trial 94 finished with value: 0.9703333333333334 and parameters: {'num_conv_layers': 3, 'num_filter_0': 48.0, 'num_filter_1': 128.0, 'num_filter_2': 64.0, 'num_neurons': 270, 'drop_conv2': 0.23354391040931088, 'drop_fc1': 0.21670874127108117, 'optimizer': 'RMSprop', 'lr': 0.0005935615542691034}. Best is trial 63 with value: 0.989.\n",
            "[I 2024-07-11 00:43:27,874] Trial 95 finished with value: 0.9396666666666667 and parameters: {'num_conv_layers': 3, 'num_filter_0': 64.0, 'num_filter_1': 112.0, 'num_filter_2': 48.0, 'num_neurons': 310, 'drop_conv2': 0.26237524352067404, 'drop_fc1': 0.23935509215759193, 'optimizer': 'Adam', 'lr': 0.00015372531577534826}. Best is trial 63 with value: 0.989.\n",
            "[I 2024-07-11 00:43:58,337] Trial 96 finished with value: 0.9831666666666666 and parameters: {'num_conv_layers': 2, 'num_filter_0': 80.0, 'num_filter_1': 128.0, 'num_neurons': 260, 'drop_conv2': 0.27924341208792536, 'drop_fc1': 0.32481987407569013, 'optimizer': 'RMSprop', 'lr': 0.0003295394324943348}. Best is trial 63 with value: 0.989.\n",
            "[I 2024-07-11 00:44:30,985] Trial 97 finished with value: 0.10933333333333334 and parameters: {'num_conv_layers': 3, 'num_filter_0': 80.0, 'num_filter_1': 112.0, 'num_filter_2': 32.0, 'num_neurons': 390, 'drop_conv2': 0.4489850764771286, 'drop_fc1': 0.22314471559683513, 'optimizer': 'RMSprop', 'lr': 0.02580361644623596}. Best is trial 63 with value: 0.989.\n",
            "[I 2024-07-11 00:44:59,984] Trial 98 finished with value: 0.9738333333333333 and parameters: {'num_conv_layers': 2, 'num_filter_0': 48.0, 'num_filter_1': 128.0, 'num_neurons': 340, 'drop_conv2': 0.2934265688134227, 'drop_fc1': 0.23266125192232837, 'optimizer': 'RMSprop', 'lr': 0.0006924101017508702}. Best is trial 63 with value: 0.989.\n",
            "[I 2024-07-11 00:45:30,706] Trial 99 finished with value: 0.9825 and parameters: {'num_conv_layers': 2, 'num_filter_0': 32.0, 'num_filter_1': 96.0, 'num_neurons': 370, 'drop_conv2': 0.25186832296877837, 'drop_fc1': 0.2500021403292116, 'optimizer': 'RMSprop', 'lr': 0.0004978484987919384}. Best is trial 63 with value: 0.989.\n"
          ]
        },
        {
          "output_type": "stream",
          "name": "stdout",
          "text": [
            "Mejores hiperparámetros: {'num_conv_layers': 2, 'num_filter_0': 16.0, 'num_filter_1': 112.0, 'num_neurons': 180, 'drop_conv2': 0.23027913629847807, 'drop_fc1': 0.20837526972530312, 'optimizer': 'RMSprop', 'lr': 0.00048187968562599066}\n"
          ]
        }
      ]
    },
    {
      "cell_type": "markdown",
      "source": [
        "## Visualización de los Resultados\n",
        "Optuna proporciona herramientas de visualización para entender mejor los resultados de la optimización. Agregamos visualizaciones para ver la historia de la optimización, las coordenadas paralelas, la importancia de los parámetros, y una vista en corte.\n",
        "\n",
        "* `plot_optimization_history:` Muestra cómo ha cambiado el valor objetivo a lo largo de los ensayos.\n",
        "* `plot_parallel_coordinate:` Muestra las relaciones entre los parámetros y el valor objetivo.\n",
        "* `plot_slice:` Muestra vistas en corte de las relaciones entre los parámetros y el valor objetivo.\n",
        "* `plot_param_importances:` Muestra la importancia relativa de cada parámetro."
      ],
      "metadata": {
        "id": "-qY1etOQFMpK"
      }
    },
    {
      "cell_type": "code",
      "source": [
        "best_params = study.best_params"
      ],
      "metadata": {
        "id": "QFpqLkPpEHcT"
      },
      "execution_count": 15,
      "outputs": []
    },
    {
      "cell_type": "code",
      "source": [
        "import matplotlib.pyplot as plt\n",
        "\n",
        "optuna.visualization.plot_optimization_history(study)"
      ],
      "metadata": {
        "colab": {
          "base_uri": "https://localhost:8080/",
          "height": 542
        },
        "id": "_j27KmkVF96X",
        "outputId": "7c2e950f-88c3-4970-9318-346e237ac40f"
      },
      "execution_count": 16,
      "outputs": [
        {
          "output_type": "display_data",
          "data": {
            "text/html": [
              "<html>\n",
              "<head><meta charset=\"utf-8\" /></head>\n",
              "<body>\n",
              "    <div>            <script src=\"https://cdnjs.cloudflare.com/ajax/libs/mathjax/2.7.5/MathJax.js?config=TeX-AMS-MML_SVG\"></script><script type=\"text/javascript\">if (window.MathJax && window.MathJax.Hub && window.MathJax.Hub.Config) {window.MathJax.Hub.Config({SVG: {font: \"STIX-Web\"}});}</script>                <script type=\"text/javascript\">window.PlotlyConfig = {MathJaxConfig: 'local'};</script>\n",
              "        <script charset=\"utf-8\" src=\"https://cdn.plot.ly/plotly-2.24.1.min.js\"></script>                <div id=\"3c819e0d-0a9f-4371-8c12-202b9caea202\" class=\"plotly-graph-div\" style=\"height:525px; width:100%;\"></div>            <script type=\"text/javascript\">                                    window.PLOTLYENV=window.PLOTLYENV || {};                                    if (document.getElementById(\"3c819e0d-0a9f-4371-8c12-202b9caea202\")) {                    Plotly.newPlot(                        \"3c819e0d-0a9f-4371-8c12-202b9caea202\",                        [{\"mode\":\"markers\",\"name\":\"Objective Value\",\"x\":[0,1,2,3,4,5,6,7,8,9,10,11,12,13,14,15,16,17,18,19,20,21,22,23,24,25,26,27,28,29,30,31,32,33,34,35,36,37,38,39,40,41,42,43,44,45,46,47,48,49,50,51,52,53,54,55,56,57,58,59,60,61,62,63,64,65,66,67,68,69,70,71,72,73,74,75,76,77,78,79,80,81,82,83,84,85,86,87,88,89,90,91,92,93,94,95,96,97,98,99],\"y\":[0.8886666666666667,0.7881666666666667,0.9316666666666666,0.969,0.9246666666666666,0.10933333333333334,0.534,0.6113333333333333,0.6468333333333334,0.10516666666666667,0.9591666666666666,0.9656666666666667,0.848,0.9751666666666666,0.9253333333333333,0.09366666666666666,0.9795,0.7058333333333333,0.9858333333333333,0.20383333333333334,0.985,0.9845,0.9633333333333334,0.9825,0.9743333333333334,0.5823333333333334,0.9436666666666667,0.9873333333333333,0.7778333333333334,0.842,0.685,0.9826666666666667,0.952,0.7966666666666666,0.9805,0.9658333333333333,0.8696666666666667,0.9836666666666667,0.9255,0.9538333333333333,0.9395,0.967,0.9466666666666667,0.9686666666666667,0.9545,0.9421666666666667,0.902,0.9758333333333333,0.7263333333333334,0.9833333333333333,0.7638333333333334,0.9723333333333334,0.971,0.9626666666666667,0.9425,0.8651666666666666,0.8781666666666667,0.8088333333333333,0.9658333333333333,0.9711666666666666,0.9383333333333334,0.9788333333333333,0.9856666666666667,0.989,0.9255,0.9181666666666667,0.9755,0.94,0.7601666666666667,0.9771666666666666,0.9613333333333334,0.9823333333333333,0.9751666666666666,0.8403333333333334,0.9821666666666666,0.9041666666666667,0.9843333333333333,0.9753333333333334,0.9026666666666666,0.9853333333333333,0.09183333333333334,0.9876666666666667,0.9261666666666667,0.9143333333333333,0.9655,0.25766666666666665,0.878,0.9508333333333333,0.9793333333333333,0.9766666666666667,0.9696666666666667,0.958,0.9515,0.5795,0.9703333333333334,0.9396666666666667,0.9831666666666666,0.10933333333333334,0.9738333333333333,0.9825],\"type\":\"scatter\"},{\"mode\":\"lines\",\"name\":\"Best Value\",\"x\":[0,1,2,3,4,5,6,7,8,9,10,11,12,13,14,15,16,17,18,19,20,21,22,23,24,25,26,27,28,29,30,31,32,33,34,35,36,37,38,39,40,41,42,43,44,45,46,47,48,49,50,51,52,53,54,55,56,57,58,59,60,61,62,63,64,65,66,67,68,69,70,71,72,73,74,75,76,77,78,79,80,81,82,83,84,85,86,87,88,89,90,91,92,93,94,95,96,97,98,99],\"y\":[0.8886666666666667,0.8886666666666667,0.9316666666666666,0.969,0.969,0.969,0.969,0.969,0.969,0.969,0.969,0.969,0.969,0.9751666666666666,0.9751666666666666,0.9751666666666666,0.9795,0.9795,0.9858333333333333,0.9858333333333333,0.9858333333333333,0.9858333333333333,0.9858333333333333,0.9858333333333333,0.9858333333333333,0.9858333333333333,0.9858333333333333,0.9873333333333333,0.9873333333333333,0.9873333333333333,0.9873333333333333,0.9873333333333333,0.9873333333333333,0.9873333333333333,0.9873333333333333,0.9873333333333333,0.9873333333333333,0.9873333333333333,0.9873333333333333,0.9873333333333333,0.9873333333333333,0.9873333333333333,0.9873333333333333,0.9873333333333333,0.9873333333333333,0.9873333333333333,0.9873333333333333,0.9873333333333333,0.9873333333333333,0.9873333333333333,0.9873333333333333,0.9873333333333333,0.9873333333333333,0.9873333333333333,0.9873333333333333,0.9873333333333333,0.9873333333333333,0.9873333333333333,0.9873333333333333,0.9873333333333333,0.9873333333333333,0.9873333333333333,0.9873333333333333,0.989,0.989,0.989,0.989,0.989,0.989,0.989,0.989,0.989,0.989,0.989,0.989,0.989,0.989,0.989,0.989,0.989,0.989,0.989,0.989,0.989,0.989,0.989,0.989,0.989,0.989,0.989,0.989,0.989,0.989,0.989,0.989,0.989,0.989,0.989,0.989,0.989],\"type\":\"scatter\"},{\"marker\":{\"color\":\"#cccccc\"},\"mode\":\"markers\",\"name\":\"Infeasible Trial\",\"showlegend\":false,\"x\":[],\"y\":[],\"type\":\"scatter\"}],                        {\"title\":{\"text\":\"Optimization History Plot\"},\"xaxis\":{\"title\":{\"text\":\"Trial\"}},\"yaxis\":{\"title\":{\"text\":\"Objective Value\"}},\"template\":{\"data\":{\"histogram2dcontour\":[{\"type\":\"histogram2dcontour\",\"colorbar\":{\"outlinewidth\":0,\"ticks\":\"\"},\"colorscale\":[[0.0,\"#0d0887\"],[0.1111111111111111,\"#46039f\"],[0.2222222222222222,\"#7201a8\"],[0.3333333333333333,\"#9c179e\"],[0.4444444444444444,\"#bd3786\"],[0.5555555555555556,\"#d8576b\"],[0.6666666666666666,\"#ed7953\"],[0.7777777777777778,\"#fb9f3a\"],[0.8888888888888888,\"#fdca26\"],[1.0,\"#f0f921\"]]}],\"choropleth\":[{\"type\":\"choropleth\",\"colorbar\":{\"outlinewidth\":0,\"ticks\":\"\"}}],\"histogram2d\":[{\"type\":\"histogram2d\",\"colorbar\":{\"outlinewidth\":0,\"ticks\":\"\"},\"colorscale\":[[0.0,\"#0d0887\"],[0.1111111111111111,\"#46039f\"],[0.2222222222222222,\"#7201a8\"],[0.3333333333333333,\"#9c179e\"],[0.4444444444444444,\"#bd3786\"],[0.5555555555555556,\"#d8576b\"],[0.6666666666666666,\"#ed7953\"],[0.7777777777777778,\"#fb9f3a\"],[0.8888888888888888,\"#fdca26\"],[1.0,\"#f0f921\"]]}],\"heatmap\":[{\"type\":\"heatmap\",\"colorbar\":{\"outlinewidth\":0,\"ticks\":\"\"},\"colorscale\":[[0.0,\"#0d0887\"],[0.1111111111111111,\"#46039f\"],[0.2222222222222222,\"#7201a8\"],[0.3333333333333333,\"#9c179e\"],[0.4444444444444444,\"#bd3786\"],[0.5555555555555556,\"#d8576b\"],[0.6666666666666666,\"#ed7953\"],[0.7777777777777778,\"#fb9f3a\"],[0.8888888888888888,\"#fdca26\"],[1.0,\"#f0f921\"]]}],\"heatmapgl\":[{\"type\":\"heatmapgl\",\"colorbar\":{\"outlinewidth\":0,\"ticks\":\"\"},\"colorscale\":[[0.0,\"#0d0887\"],[0.1111111111111111,\"#46039f\"],[0.2222222222222222,\"#7201a8\"],[0.3333333333333333,\"#9c179e\"],[0.4444444444444444,\"#bd3786\"],[0.5555555555555556,\"#d8576b\"],[0.6666666666666666,\"#ed7953\"],[0.7777777777777778,\"#fb9f3a\"],[0.8888888888888888,\"#fdca26\"],[1.0,\"#f0f921\"]]}],\"contourcarpet\":[{\"type\":\"contourcarpet\",\"colorbar\":{\"outlinewidth\":0,\"ticks\":\"\"}}],\"contour\":[{\"type\":\"contour\",\"colorbar\":{\"outlinewidth\":0,\"ticks\":\"\"},\"colorscale\":[[0.0,\"#0d0887\"],[0.1111111111111111,\"#46039f\"],[0.2222222222222222,\"#7201a8\"],[0.3333333333333333,\"#9c179e\"],[0.4444444444444444,\"#bd3786\"],[0.5555555555555556,\"#d8576b\"],[0.6666666666666666,\"#ed7953\"],[0.7777777777777778,\"#fb9f3a\"],[0.8888888888888888,\"#fdca26\"],[1.0,\"#f0f921\"]]}],\"surface\":[{\"type\":\"surface\",\"colorbar\":{\"outlinewidth\":0,\"ticks\":\"\"},\"colorscale\":[[0.0,\"#0d0887\"],[0.1111111111111111,\"#46039f\"],[0.2222222222222222,\"#7201a8\"],[0.3333333333333333,\"#9c179e\"],[0.4444444444444444,\"#bd3786\"],[0.5555555555555556,\"#d8576b\"],[0.6666666666666666,\"#ed7953\"],[0.7777777777777778,\"#fb9f3a\"],[0.8888888888888888,\"#fdca26\"],[1.0,\"#f0f921\"]]}],\"mesh3d\":[{\"type\":\"mesh3d\",\"colorbar\":{\"outlinewidth\":0,\"ticks\":\"\"}}],\"scatter\":[{\"fillpattern\":{\"fillmode\":\"overlay\",\"size\":10,\"solidity\":0.2},\"type\":\"scatter\"}],\"parcoords\":[{\"type\":\"parcoords\",\"line\":{\"colorbar\":{\"outlinewidth\":0,\"ticks\":\"\"}}}],\"scatterpolargl\":[{\"type\":\"scatterpolargl\",\"marker\":{\"colorbar\":{\"outlinewidth\":0,\"ticks\":\"\"}}}],\"bar\":[{\"error_x\":{\"color\":\"#2a3f5f\"},\"error_y\":{\"color\":\"#2a3f5f\"},\"marker\":{\"line\":{\"color\":\"#E5ECF6\",\"width\":0.5},\"pattern\":{\"fillmode\":\"overlay\",\"size\":10,\"solidity\":0.2}},\"type\":\"bar\"}],\"scattergeo\":[{\"type\":\"scattergeo\",\"marker\":{\"colorbar\":{\"outlinewidth\":0,\"ticks\":\"\"}}}],\"scatterpolar\":[{\"type\":\"scatterpolar\",\"marker\":{\"colorbar\":{\"outlinewidth\":0,\"ticks\":\"\"}}}],\"histogram\":[{\"marker\":{\"pattern\":{\"fillmode\":\"overlay\",\"size\":10,\"solidity\":0.2}},\"type\":\"histogram\"}],\"scattergl\":[{\"type\":\"scattergl\",\"marker\":{\"colorbar\":{\"outlinewidth\":0,\"ticks\":\"\"}}}],\"scatter3d\":[{\"type\":\"scatter3d\",\"line\":{\"colorbar\":{\"outlinewidth\":0,\"ticks\":\"\"}},\"marker\":{\"colorbar\":{\"outlinewidth\":0,\"ticks\":\"\"}}}],\"scattermapbox\":[{\"type\":\"scattermapbox\",\"marker\":{\"colorbar\":{\"outlinewidth\":0,\"ticks\":\"\"}}}],\"scatterternary\":[{\"type\":\"scatterternary\",\"marker\":{\"colorbar\":{\"outlinewidth\":0,\"ticks\":\"\"}}}],\"scattercarpet\":[{\"type\":\"scattercarpet\",\"marker\":{\"colorbar\":{\"outlinewidth\":0,\"ticks\":\"\"}}}],\"carpet\":[{\"aaxis\":{\"endlinecolor\":\"#2a3f5f\",\"gridcolor\":\"white\",\"linecolor\":\"white\",\"minorgridcolor\":\"white\",\"startlinecolor\":\"#2a3f5f\"},\"baxis\":{\"endlinecolor\":\"#2a3f5f\",\"gridcolor\":\"white\",\"linecolor\":\"white\",\"minorgridcolor\":\"white\",\"startlinecolor\":\"#2a3f5f\"},\"type\":\"carpet\"}],\"table\":[{\"cells\":{\"fill\":{\"color\":\"#EBF0F8\"},\"line\":{\"color\":\"white\"}},\"header\":{\"fill\":{\"color\":\"#C8D4E3\"},\"line\":{\"color\":\"white\"}},\"type\":\"table\"}],\"barpolar\":[{\"marker\":{\"line\":{\"color\":\"#E5ECF6\",\"width\":0.5},\"pattern\":{\"fillmode\":\"overlay\",\"size\":10,\"solidity\":0.2}},\"type\":\"barpolar\"}],\"pie\":[{\"automargin\":true,\"type\":\"pie\"}]},\"layout\":{\"autotypenumbers\":\"strict\",\"colorway\":[\"#636efa\",\"#EF553B\",\"#00cc96\",\"#ab63fa\",\"#FFA15A\",\"#19d3f3\",\"#FF6692\",\"#B6E880\",\"#FF97FF\",\"#FECB52\"],\"font\":{\"color\":\"#2a3f5f\"},\"hovermode\":\"closest\",\"hoverlabel\":{\"align\":\"left\"},\"paper_bgcolor\":\"white\",\"plot_bgcolor\":\"#E5ECF6\",\"polar\":{\"bgcolor\":\"#E5ECF6\",\"angularaxis\":{\"gridcolor\":\"white\",\"linecolor\":\"white\",\"ticks\":\"\"},\"radialaxis\":{\"gridcolor\":\"white\",\"linecolor\":\"white\",\"ticks\":\"\"}},\"ternary\":{\"bgcolor\":\"#E5ECF6\",\"aaxis\":{\"gridcolor\":\"white\",\"linecolor\":\"white\",\"ticks\":\"\"},\"baxis\":{\"gridcolor\":\"white\",\"linecolor\":\"white\",\"ticks\":\"\"},\"caxis\":{\"gridcolor\":\"white\",\"linecolor\":\"white\",\"ticks\":\"\"}},\"coloraxis\":{\"colorbar\":{\"outlinewidth\":0,\"ticks\":\"\"}},\"colorscale\":{\"sequential\":[[0.0,\"#0d0887\"],[0.1111111111111111,\"#46039f\"],[0.2222222222222222,\"#7201a8\"],[0.3333333333333333,\"#9c179e\"],[0.4444444444444444,\"#bd3786\"],[0.5555555555555556,\"#d8576b\"],[0.6666666666666666,\"#ed7953\"],[0.7777777777777778,\"#fb9f3a\"],[0.8888888888888888,\"#fdca26\"],[1.0,\"#f0f921\"]],\"sequentialminus\":[[0.0,\"#0d0887\"],[0.1111111111111111,\"#46039f\"],[0.2222222222222222,\"#7201a8\"],[0.3333333333333333,\"#9c179e\"],[0.4444444444444444,\"#bd3786\"],[0.5555555555555556,\"#d8576b\"],[0.6666666666666666,\"#ed7953\"],[0.7777777777777778,\"#fb9f3a\"],[0.8888888888888888,\"#fdca26\"],[1.0,\"#f0f921\"]],\"diverging\":[[0,\"#8e0152\"],[0.1,\"#c51b7d\"],[0.2,\"#de77ae\"],[0.3,\"#f1b6da\"],[0.4,\"#fde0ef\"],[0.5,\"#f7f7f7\"],[0.6,\"#e6f5d0\"],[0.7,\"#b8e186\"],[0.8,\"#7fbc41\"],[0.9,\"#4d9221\"],[1,\"#276419\"]]},\"xaxis\":{\"gridcolor\":\"white\",\"linecolor\":\"white\",\"ticks\":\"\",\"title\":{\"standoff\":15},\"zerolinecolor\":\"white\",\"automargin\":true,\"zerolinewidth\":2},\"yaxis\":{\"gridcolor\":\"white\",\"linecolor\":\"white\",\"ticks\":\"\",\"title\":{\"standoff\":15},\"zerolinecolor\":\"white\",\"automargin\":true,\"zerolinewidth\":2},\"scene\":{\"xaxis\":{\"backgroundcolor\":\"#E5ECF6\",\"gridcolor\":\"white\",\"linecolor\":\"white\",\"showbackground\":true,\"ticks\":\"\",\"zerolinecolor\":\"white\",\"gridwidth\":2},\"yaxis\":{\"backgroundcolor\":\"#E5ECF6\",\"gridcolor\":\"white\",\"linecolor\":\"white\",\"showbackground\":true,\"ticks\":\"\",\"zerolinecolor\":\"white\",\"gridwidth\":2},\"zaxis\":{\"backgroundcolor\":\"#E5ECF6\",\"gridcolor\":\"white\",\"linecolor\":\"white\",\"showbackground\":true,\"ticks\":\"\",\"zerolinecolor\":\"white\",\"gridwidth\":2}},\"shapedefaults\":{\"line\":{\"color\":\"#2a3f5f\"}},\"annotationdefaults\":{\"arrowcolor\":\"#2a3f5f\",\"arrowhead\":0,\"arrowwidth\":1},\"geo\":{\"bgcolor\":\"white\",\"landcolor\":\"#E5ECF6\",\"subunitcolor\":\"white\",\"showland\":true,\"showlakes\":true,\"lakecolor\":\"white\"},\"title\":{\"x\":0.05},\"mapbox\":{\"style\":\"light\"}}}},                        {\"responsive\": true}                    ).then(function(){\n",
              "                            \n",
              "var gd = document.getElementById('3c819e0d-0a9f-4371-8c12-202b9caea202');\n",
              "var x = new MutationObserver(function (mutations, observer) {{\n",
              "        var display = window.getComputedStyle(gd).display;\n",
              "        if (!display || display === 'none') {{\n",
              "            console.log([gd, 'removed!']);\n",
              "            Plotly.purge(gd);\n",
              "            observer.disconnect();\n",
              "        }}\n",
              "}});\n",
              "\n",
              "// Listen for the removal of the full notebook cells\n",
              "var notebookContainer = gd.closest('#notebook-container');\n",
              "if (notebookContainer) {{\n",
              "    x.observe(notebookContainer, {childList: true});\n",
              "}}\n",
              "\n",
              "// Listen for the clearing of the current output cell\n",
              "var outputEl = gd.closest('.output');\n",
              "if (outputEl) {{\n",
              "    x.observe(outputEl, {childList: true});\n",
              "}}\n",
              "\n",
              "                        })                };                            </script>        </div>\n",
              "</body>\n",
              "</html>"
            ]
          },
          "metadata": {}
        }
      ]
    },
    {
      "cell_type": "code",
      "source": [
        "optuna.visualization.plot_parallel_coordinate(study)"
      ],
      "metadata": {
        "colab": {
          "base_uri": "https://localhost:8080/",
          "height": 542
        },
        "id": "wpojqkUuGDII",
        "outputId": "6b888b5c-0a2c-4c2a-dd86-8f5a8dabd325"
      },
      "execution_count": 17,
      "outputs": [
        {
          "output_type": "display_data",
          "data": {
            "text/html": [
              "<html>\n",
              "<head><meta charset=\"utf-8\" /></head>\n",
              "<body>\n",
              "    <div>            <script src=\"https://cdnjs.cloudflare.com/ajax/libs/mathjax/2.7.5/MathJax.js?config=TeX-AMS-MML_SVG\"></script><script type=\"text/javascript\">if (window.MathJax && window.MathJax.Hub && window.MathJax.Hub.Config) {window.MathJax.Hub.Config({SVG: {font: \"STIX-Web\"}});}</script>                <script type=\"text/javascript\">window.PlotlyConfig = {MathJaxConfig: 'local'};</script>\n",
              "        <script charset=\"utf-8\" src=\"https://cdn.plot.ly/plotly-2.24.1.min.js\"></script>                <div id=\"b010132b-092f-4180-b567-7c25ff00dfb1\" class=\"plotly-graph-div\" style=\"height:525px; width:100%;\"></div>            <script type=\"text/javascript\">                                    window.PLOTLYENV=window.PLOTLYENV || {};                                    if (document.getElementById(\"b010132b-092f-4180-b567-7c25ff00dfb1\")) {                    Plotly.newPlot(                        \"b010132b-092f-4180-b567-7c25ff00dfb1\",                        [{\"dimensions\":[{\"label\":\"Objective Value\",\"range\":[0.10516666666666667,0.9876666666666667],\"values\":[0.9316666666666666,0.9246666666666666,0.534,0.6113333333333333,0.6468333333333334,0.10516666666666667,0.9836666666666667,0.9395,0.967,0.9466666666666667,0.9686666666666667,0.9545,0.9421666666666667,0.902,0.7638333333333334,0.9853333333333333,0.9876666666666667,0.9261666666666667,0.9143333333333333,0.9655,0.25766666666666665,0.878,0.9508333333333333,0.9696666666666667,0.958,0.9515,0.5795,0.9703333333333334,0.9396666666666667,0.10933333333333334]},{\"label\":\"drop_conv2\",\"range\":[0.21655681239148686,0.4878049548897594],\"values\":[0.39411566718799707,0.3671980958896731,0.2446785541340342,0.21921263035077085,0.4878049548897594,0.2937238014639201,0.2495054780254361,0.2894927281582796,0.2506975866476924,0.23810738394821537,0.25900634603991823,0.21655681239148686,0.27967734188477905,0.3925021307679231,0.2609230163252972,0.3054753153785961,0.2754476486633858,0.27868805365727195,0.3019206531052085,0.29093228411546723,0.32693989629014425,0.3737380463351126,0.27428019830677436,0.28473240087872853,0.2697093852588185,0.25782105157531965,0.24986565447899037,0.23354391040931088,0.26237524352067404,0.4489850764771286]},{\"label\":\"drop_fc1\",\"range\":[0.20055969066761906,0.44456922188846926],\"values\":[0.44456922188846926,0.21781727380003157,0.43499021253266545,0.21882787992629682,0.41442209064420477,0.22726303427088881,0.2221526962496732,0.2139517066882614,0.23147966124981242,0.21845694516074093,0.23461453728776194,0.21538236339002892,0.2546719393163528,0.41641007913530986,0.2959407962737447,0.21972341783616786,0.22502293088687975,0.22948523016184316,0.20686174812570768,0.23927150078727683,0.22059027565259848,0.25203650453067755,0.2334173793993678,0.20055969066761906,0.2234170816956882,0.2112844695883292,0.22795380214725114,0.21670874127108117,0.23935509215759193,0.22314471559683513]},{\"label\":\"lr\",\"range\":[-4.9491216564528955,-1.5883194222314543],\"ticktext\":[\"1.12e-05\",\"0.0001\",\"0.001\",\"0.01\",\"0.0258\"],\"tickvals\":[-4.9491216564528955,-4,-3,-2,-1.5883194222314543],\"values\":[-3.537336161773492,-2.058132331358613,-1.966022694853338,-4.9491216564528955,-2.517210414040579,-4.84813192577259,-3.650679741602176,-1.91884579270518,-3.6523455812997807,-3.5997371369138396,-3.90726622559359,-3.3959627585204206,-2.811336570449988,-4.160905187404528,-2.3742299481650067,-3.451171141534021,-3.4419838862343606,-3.449702163547753,-3.0711849042426906,-3.2535003320421336,-3.361540353768001,-3.142148278133329,-3.5361577661348624,-3.4339357747782016,-3.599201669457737,-3.6913644332877062,-2.893637687720722,-3.2265342366197047,-3.813254606175001,-1.5883194222314543]},{\"label\":\"num_conv_layers\",\"range\":[3,3],\"values\":[3,3,3,3,3,3,3,3,3,3,3,3,3,3,3,3,3,3,3,3,3,3,3,3,3,3,3,3,3,3]},{\"label\":\"num_filter_0\",\"range\":[16.0,112.0],\"values\":[32.0,112.0,16.0,48.0,48.0,112.0,64.0,32.0,64.0,80.0,64.0,96.0,48.0,48.0,64.0,64.0,64.0,64.0,64.0,80.0,64.0,96.0,48.0,80.0,64.0,64.0,64.0,48.0,64.0,80.0]},{\"label\":\"num_filter_1\",\"range\":[16.0,128.0],\"values\":[128.0,128.0,32.0,48.0,32.0,112.0,128.0,80.0,128.0,128.0,112.0,16.0,128.0,128.0,112.0,128.0,128.0,128.0,128.0,112.0,128.0,112.0,128.0,128.0,128.0,128.0,112.0,128.0,112.0,112.0]},{\"label\":\"num_filter_2\",\"range\":[16.0,128.0],\"values\":[32.0,128.0,128.0,16.0,80.0,128.0,64.0,80.0,48.0,64.0,96.0,96.0,48.0,16.0,96.0,64.0,64.0,48.0,32.0,64.0,80.0,32.0,112.0,48.0,64.0,64.0,80.0,64.0,48.0,32.0]},{\"label\":\"num_neurons\",\"range\":[10,400],\"values\":[200,180,400,50,20,20,380,380,390,350,320,370,200,340,400,270,260,260,240,290,230,270,250,320,350,280,10,270,310,390]},{\"label\":\"optimizer\",\"range\":[0,2],\"ticktext\":[\"Adam\",\"SGD\",\"RMSprop\"],\"tickvals\":[0,1,2],\"values\":[0,1,2,0,0,1,2,1,2,2,2,2,2,2,2,2,2,2,2,2,1,2,2,2,2,2,2,2,0,2]}],\"labelangle\":30,\"labelside\":\"bottom\",\"line\":{\"color\":[0.9316666666666666,0.9246666666666666,0.534,0.6113333333333333,0.6468333333333334,0.10516666666666667,0.9836666666666667,0.9395,0.967,0.9466666666666667,0.9686666666666667,0.9545,0.9421666666666667,0.902,0.7638333333333334,0.9853333333333333,0.9876666666666667,0.9261666666666667,0.9143333333333333,0.9655,0.25766666666666665,0.878,0.9508333333333333,0.9696666666666667,0.958,0.9515,0.5795,0.9703333333333334,0.9396666666666667,0.10933333333333334],\"colorbar\":{\"title\":{\"text\":\"Objective Value\"}},\"colorscale\":[[0.0,\"rgb(247,251,255)\"],[0.125,\"rgb(222,235,247)\"],[0.25,\"rgb(198,219,239)\"],[0.375,\"rgb(158,202,225)\"],[0.5,\"rgb(107,174,214)\"],[0.625,\"rgb(66,146,198)\"],[0.75,\"rgb(33,113,181)\"],[0.875,\"rgb(8,81,156)\"],[1.0,\"rgb(8,48,107)\"]],\"reversescale\":false,\"showscale\":true},\"type\":\"parcoords\"}],                        {\"title\":{\"text\":\"Parallel Coordinate Plot\"},\"template\":{\"data\":{\"histogram2dcontour\":[{\"type\":\"histogram2dcontour\",\"colorbar\":{\"outlinewidth\":0,\"ticks\":\"\"},\"colorscale\":[[0.0,\"#0d0887\"],[0.1111111111111111,\"#46039f\"],[0.2222222222222222,\"#7201a8\"],[0.3333333333333333,\"#9c179e\"],[0.4444444444444444,\"#bd3786\"],[0.5555555555555556,\"#d8576b\"],[0.6666666666666666,\"#ed7953\"],[0.7777777777777778,\"#fb9f3a\"],[0.8888888888888888,\"#fdca26\"],[1.0,\"#f0f921\"]]}],\"choropleth\":[{\"type\":\"choropleth\",\"colorbar\":{\"outlinewidth\":0,\"ticks\":\"\"}}],\"histogram2d\":[{\"type\":\"histogram2d\",\"colorbar\":{\"outlinewidth\":0,\"ticks\":\"\"},\"colorscale\":[[0.0,\"#0d0887\"],[0.1111111111111111,\"#46039f\"],[0.2222222222222222,\"#7201a8\"],[0.3333333333333333,\"#9c179e\"],[0.4444444444444444,\"#bd3786\"],[0.5555555555555556,\"#d8576b\"],[0.6666666666666666,\"#ed7953\"],[0.7777777777777778,\"#fb9f3a\"],[0.8888888888888888,\"#fdca26\"],[1.0,\"#f0f921\"]]}],\"heatmap\":[{\"type\":\"heatmap\",\"colorbar\":{\"outlinewidth\":0,\"ticks\":\"\"},\"colorscale\":[[0.0,\"#0d0887\"],[0.1111111111111111,\"#46039f\"],[0.2222222222222222,\"#7201a8\"],[0.3333333333333333,\"#9c179e\"],[0.4444444444444444,\"#bd3786\"],[0.5555555555555556,\"#d8576b\"],[0.6666666666666666,\"#ed7953\"],[0.7777777777777778,\"#fb9f3a\"],[0.8888888888888888,\"#fdca26\"],[1.0,\"#f0f921\"]]}],\"heatmapgl\":[{\"type\":\"heatmapgl\",\"colorbar\":{\"outlinewidth\":0,\"ticks\":\"\"},\"colorscale\":[[0.0,\"#0d0887\"],[0.1111111111111111,\"#46039f\"],[0.2222222222222222,\"#7201a8\"],[0.3333333333333333,\"#9c179e\"],[0.4444444444444444,\"#bd3786\"],[0.5555555555555556,\"#d8576b\"],[0.6666666666666666,\"#ed7953\"],[0.7777777777777778,\"#fb9f3a\"],[0.8888888888888888,\"#fdca26\"],[1.0,\"#f0f921\"]]}],\"contourcarpet\":[{\"type\":\"contourcarpet\",\"colorbar\":{\"outlinewidth\":0,\"ticks\":\"\"}}],\"contour\":[{\"type\":\"contour\",\"colorbar\":{\"outlinewidth\":0,\"ticks\":\"\"},\"colorscale\":[[0.0,\"#0d0887\"],[0.1111111111111111,\"#46039f\"],[0.2222222222222222,\"#7201a8\"],[0.3333333333333333,\"#9c179e\"],[0.4444444444444444,\"#bd3786\"],[0.5555555555555556,\"#d8576b\"],[0.6666666666666666,\"#ed7953\"],[0.7777777777777778,\"#fb9f3a\"],[0.8888888888888888,\"#fdca26\"],[1.0,\"#f0f921\"]]}],\"surface\":[{\"type\":\"surface\",\"colorbar\":{\"outlinewidth\":0,\"ticks\":\"\"},\"colorscale\":[[0.0,\"#0d0887\"],[0.1111111111111111,\"#46039f\"],[0.2222222222222222,\"#7201a8\"],[0.3333333333333333,\"#9c179e\"],[0.4444444444444444,\"#bd3786\"],[0.5555555555555556,\"#d8576b\"],[0.6666666666666666,\"#ed7953\"],[0.7777777777777778,\"#fb9f3a\"],[0.8888888888888888,\"#fdca26\"],[1.0,\"#f0f921\"]]}],\"mesh3d\":[{\"type\":\"mesh3d\",\"colorbar\":{\"outlinewidth\":0,\"ticks\":\"\"}}],\"scatter\":[{\"fillpattern\":{\"fillmode\":\"overlay\",\"size\":10,\"solidity\":0.2},\"type\":\"scatter\"}],\"parcoords\":[{\"type\":\"parcoords\",\"line\":{\"colorbar\":{\"outlinewidth\":0,\"ticks\":\"\"}}}],\"scatterpolargl\":[{\"type\":\"scatterpolargl\",\"marker\":{\"colorbar\":{\"outlinewidth\":0,\"ticks\":\"\"}}}],\"bar\":[{\"error_x\":{\"color\":\"#2a3f5f\"},\"error_y\":{\"color\":\"#2a3f5f\"},\"marker\":{\"line\":{\"color\":\"#E5ECF6\",\"width\":0.5},\"pattern\":{\"fillmode\":\"overlay\",\"size\":10,\"solidity\":0.2}},\"type\":\"bar\"}],\"scattergeo\":[{\"type\":\"scattergeo\",\"marker\":{\"colorbar\":{\"outlinewidth\":0,\"ticks\":\"\"}}}],\"scatterpolar\":[{\"type\":\"scatterpolar\",\"marker\":{\"colorbar\":{\"outlinewidth\":0,\"ticks\":\"\"}}}],\"histogram\":[{\"marker\":{\"pattern\":{\"fillmode\":\"overlay\",\"size\":10,\"solidity\":0.2}},\"type\":\"histogram\"}],\"scattergl\":[{\"type\":\"scattergl\",\"marker\":{\"colorbar\":{\"outlinewidth\":0,\"ticks\":\"\"}}}],\"scatter3d\":[{\"type\":\"scatter3d\",\"line\":{\"colorbar\":{\"outlinewidth\":0,\"ticks\":\"\"}},\"marker\":{\"colorbar\":{\"outlinewidth\":0,\"ticks\":\"\"}}}],\"scattermapbox\":[{\"type\":\"scattermapbox\",\"marker\":{\"colorbar\":{\"outlinewidth\":0,\"ticks\":\"\"}}}],\"scatterternary\":[{\"type\":\"scatterternary\",\"marker\":{\"colorbar\":{\"outlinewidth\":0,\"ticks\":\"\"}}}],\"scattercarpet\":[{\"type\":\"scattercarpet\",\"marker\":{\"colorbar\":{\"outlinewidth\":0,\"ticks\":\"\"}}}],\"carpet\":[{\"aaxis\":{\"endlinecolor\":\"#2a3f5f\",\"gridcolor\":\"white\",\"linecolor\":\"white\",\"minorgridcolor\":\"white\",\"startlinecolor\":\"#2a3f5f\"},\"baxis\":{\"endlinecolor\":\"#2a3f5f\",\"gridcolor\":\"white\",\"linecolor\":\"white\",\"minorgridcolor\":\"white\",\"startlinecolor\":\"#2a3f5f\"},\"type\":\"carpet\"}],\"table\":[{\"cells\":{\"fill\":{\"color\":\"#EBF0F8\"},\"line\":{\"color\":\"white\"}},\"header\":{\"fill\":{\"color\":\"#C8D4E3\"},\"line\":{\"color\":\"white\"}},\"type\":\"table\"}],\"barpolar\":[{\"marker\":{\"line\":{\"color\":\"#E5ECF6\",\"width\":0.5},\"pattern\":{\"fillmode\":\"overlay\",\"size\":10,\"solidity\":0.2}},\"type\":\"barpolar\"}],\"pie\":[{\"automargin\":true,\"type\":\"pie\"}]},\"layout\":{\"autotypenumbers\":\"strict\",\"colorway\":[\"#636efa\",\"#EF553B\",\"#00cc96\",\"#ab63fa\",\"#FFA15A\",\"#19d3f3\",\"#FF6692\",\"#B6E880\",\"#FF97FF\",\"#FECB52\"],\"font\":{\"color\":\"#2a3f5f\"},\"hovermode\":\"closest\",\"hoverlabel\":{\"align\":\"left\"},\"paper_bgcolor\":\"white\",\"plot_bgcolor\":\"#E5ECF6\",\"polar\":{\"bgcolor\":\"#E5ECF6\",\"angularaxis\":{\"gridcolor\":\"white\",\"linecolor\":\"white\",\"ticks\":\"\"},\"radialaxis\":{\"gridcolor\":\"white\",\"linecolor\":\"white\",\"ticks\":\"\"}},\"ternary\":{\"bgcolor\":\"#E5ECF6\",\"aaxis\":{\"gridcolor\":\"white\",\"linecolor\":\"white\",\"ticks\":\"\"},\"baxis\":{\"gridcolor\":\"white\",\"linecolor\":\"white\",\"ticks\":\"\"},\"caxis\":{\"gridcolor\":\"white\",\"linecolor\":\"white\",\"ticks\":\"\"}},\"coloraxis\":{\"colorbar\":{\"outlinewidth\":0,\"ticks\":\"\"}},\"colorscale\":{\"sequential\":[[0.0,\"#0d0887\"],[0.1111111111111111,\"#46039f\"],[0.2222222222222222,\"#7201a8\"],[0.3333333333333333,\"#9c179e\"],[0.4444444444444444,\"#bd3786\"],[0.5555555555555556,\"#d8576b\"],[0.6666666666666666,\"#ed7953\"],[0.7777777777777778,\"#fb9f3a\"],[0.8888888888888888,\"#fdca26\"],[1.0,\"#f0f921\"]],\"sequentialminus\":[[0.0,\"#0d0887\"],[0.1111111111111111,\"#46039f\"],[0.2222222222222222,\"#7201a8\"],[0.3333333333333333,\"#9c179e\"],[0.4444444444444444,\"#bd3786\"],[0.5555555555555556,\"#d8576b\"],[0.6666666666666666,\"#ed7953\"],[0.7777777777777778,\"#fb9f3a\"],[0.8888888888888888,\"#fdca26\"],[1.0,\"#f0f921\"]],\"diverging\":[[0,\"#8e0152\"],[0.1,\"#c51b7d\"],[0.2,\"#de77ae\"],[0.3,\"#f1b6da\"],[0.4,\"#fde0ef\"],[0.5,\"#f7f7f7\"],[0.6,\"#e6f5d0\"],[0.7,\"#b8e186\"],[0.8,\"#7fbc41\"],[0.9,\"#4d9221\"],[1,\"#276419\"]]},\"xaxis\":{\"gridcolor\":\"white\",\"linecolor\":\"white\",\"ticks\":\"\",\"title\":{\"standoff\":15},\"zerolinecolor\":\"white\",\"automargin\":true,\"zerolinewidth\":2},\"yaxis\":{\"gridcolor\":\"white\",\"linecolor\":\"white\",\"ticks\":\"\",\"title\":{\"standoff\":15},\"zerolinecolor\":\"white\",\"automargin\":true,\"zerolinewidth\":2},\"scene\":{\"xaxis\":{\"backgroundcolor\":\"#E5ECF6\",\"gridcolor\":\"white\",\"linecolor\":\"white\",\"showbackground\":true,\"ticks\":\"\",\"zerolinecolor\":\"white\",\"gridwidth\":2},\"yaxis\":{\"backgroundcolor\":\"#E5ECF6\",\"gridcolor\":\"white\",\"linecolor\":\"white\",\"showbackground\":true,\"ticks\":\"\",\"zerolinecolor\":\"white\",\"gridwidth\":2},\"zaxis\":{\"backgroundcolor\":\"#E5ECF6\",\"gridcolor\":\"white\",\"linecolor\":\"white\",\"showbackground\":true,\"ticks\":\"\",\"zerolinecolor\":\"white\",\"gridwidth\":2}},\"shapedefaults\":{\"line\":{\"color\":\"#2a3f5f\"}},\"annotationdefaults\":{\"arrowcolor\":\"#2a3f5f\",\"arrowhead\":0,\"arrowwidth\":1},\"geo\":{\"bgcolor\":\"white\",\"landcolor\":\"#E5ECF6\",\"subunitcolor\":\"white\",\"showland\":true,\"showlakes\":true,\"lakecolor\":\"white\"},\"title\":{\"x\":0.05},\"mapbox\":{\"style\":\"light\"}}}},                        {\"responsive\": true}                    ).then(function(){\n",
              "                            \n",
              "var gd = document.getElementById('b010132b-092f-4180-b567-7c25ff00dfb1');\n",
              "var x = new MutationObserver(function (mutations, observer) {{\n",
              "        var display = window.getComputedStyle(gd).display;\n",
              "        if (!display || display === 'none') {{\n",
              "            console.log([gd, 'removed!']);\n",
              "            Plotly.purge(gd);\n",
              "            observer.disconnect();\n",
              "        }}\n",
              "}});\n",
              "\n",
              "// Listen for the removal of the full notebook cells\n",
              "var notebookContainer = gd.closest('#notebook-container');\n",
              "if (notebookContainer) {{\n",
              "    x.observe(notebookContainer, {childList: true});\n",
              "}}\n",
              "\n",
              "// Listen for the clearing of the current output cell\n",
              "var outputEl = gd.closest('.output');\n",
              "if (outputEl) {{\n",
              "    x.observe(outputEl, {childList: true});\n",
              "}}\n",
              "\n",
              "                        })                };                            </script>        </div>\n",
              "</body>\n",
              "</html>"
            ]
          },
          "metadata": {}
        }
      ]
    },
    {
      "cell_type": "code",
      "source": [
        "optuna.visualization.plot_slice(study, params=['num_conv_layers', 'num_filter_0', 'num_filter_1', 'num_neurons', 'drop_conv2', 'drop_fc1', 'optimizer', 'lr'])"
      ],
      "metadata": {
        "colab": {
          "base_uri": "https://localhost:8080/",
          "height": 562
        },
        "id": "Y_a1O4k4GrG_",
        "outputId": "db120907-73de-4a67-a36b-0e450101abac"
      },
      "execution_count": 18,
      "outputs": [
        {
          "output_type": "display_data",
          "data": {
            "text/html": [
              "<html>\n",
              "<head><meta charset=\"utf-8\" /></head>\n",
              "<body>\n",
              "    <div>            <script src=\"https://cdnjs.cloudflare.com/ajax/libs/mathjax/2.7.5/MathJax.js?config=TeX-AMS-MML_SVG\"></script><script type=\"text/javascript\">if (window.MathJax && window.MathJax.Hub && window.MathJax.Hub.Config) {window.MathJax.Hub.Config({SVG: {font: \"STIX-Web\"}});}</script>                <script type=\"text/javascript\">window.PlotlyConfig = {MathJaxConfig: 'local'};</script>\n",
              "        <script charset=\"utf-8\" src=\"https://cdn.plot.ly/plotly-2.24.1.min.js\"></script>                <div id=\"fabc6eef-38c3-481b-9189-31c8304d0fce\" class=\"plotly-graph-div\" style=\"height:525px; width:2400px;\"></div>            <script type=\"text/javascript\">                                    window.PLOTLYENV=window.PLOTLYENV || {};                                    if (document.getElementById(\"fabc6eef-38c3-481b-9189-31c8304d0fce\")) {                    Plotly.newPlot(                        \"fabc6eef-38c3-481b-9189-31c8304d0fce\",                        [{\"marker\":{\"color\":[0,1,2,3,4,5,6,7,8,9,10,11,12,13,14,15,16,17,18,19,20,21,22,23,24,25,26,27,28,29,30,31,32,33,34,35,36,37,38,39,40,41,42,43,44,45,46,47,48,49,50,51,52,53,54,55,56,57,58,59,60,61,62,63,64,65,66,67,68,69,70,71,72,73,74,75,76,77,78,79,80,81,82,83,84,85,86,87,88,89,90,91,92,93,94,95,96,97,98,99],\"colorbar\":{\"title\":{\"text\":\"Trial\"},\"x\":1.0,\"xpad\":40},\"colorscale\":[[0.0,\"rgb(247,251,255)\"],[0.125,\"rgb(222,235,247)\"],[0.25,\"rgb(198,219,239)\"],[0.375,\"rgb(158,202,225)\"],[0.5,\"rgb(107,174,214)\"],[0.625,\"rgb(66,146,198)\"],[0.75,\"rgb(33,113,181)\"],[0.875,\"rgb(8,81,156)\"],[1.0,\"rgb(8,48,107)\"]],\"line\":{\"color\":\"Grey\",\"width\":0.5},\"showscale\":true},\"mode\":\"markers\",\"name\":\"Feasible Trial\",\"showlegend\":false,\"x\":[0.22044196803445756,0.4355323653258738,0.39411566718799707,0.2932065771672303,0.3671980958896731,0.28978952380338124,0.2446785541340342,0.21921263035077085,0.4878049548897594,0.2937238014639201,0.32727441580228217,0.31154181559000765,0.2887451773763094,0.3321955785580303,0.3642710605098275,0.4113490945643093,0.33776873824248965,0.33591387281475055,0.26233985588398284,0.2503112693081847,0.2549414715482915,0.2608480528072308,0.26058895580720076,0.20302650761692698,0.2616991404821152,0.23525443664104484,0.27047214794678326,0.22816488468519758,0.21050032523539813,0.23042451995217098,0.22630094843377707,0.2741558180088953,0.2454300991175587,0.31043324972325836,0.2013426240833208,0.2740958793178276,0.30347180944566515,0.2495054780254361,0.4647210163726925,0.2247889445617044,0.2894927281582796,0.2506975866476924,0.23810738394821537,0.25900634603991823,0.21655681239148686,0.27967734188477905,0.3925021307679231,0.3179860396613067,0.29827579222471623,0.24002145325128157,0.2609230163252972,0.23555318042221604,0.24872322067874225,0.2824434122749844,0.2205521831352869,0.264902104238106,0.3493219112631347,0.2116251793437116,0.23870570924628617,0.2483680981874635,0.2558065286423282,0.273909649092673,0.26978988042996366,0.23027913629847807,0.28513000423022566,0.2277098494267825,0.26810756594360424,0.2058052280619682,0.21742234441617922,0.23026312637576224,0.2550383041726449,0.24051547796119274,0.23992967851413433,0.2664665372931132,0.2438829663931467,0.22508788408980152,0.29596501891341326,0.2961161382483226,0.32029712480557737,0.3054753153785961,0.30697441639106515,0.2754476486633858,0.27868805365727195,0.3019206531052085,0.29093228411546723,0.32693989629014425,0.3737380463351126,0.27428019830677436,0.2554615825236767,0.31417254339586853,0.28473240087872853,0.2697093852588185,0.25782105157531965,0.24986565447899037,0.23354391040931088,0.26237524352067404,0.27924341208792536,0.4489850764771286,0.2934265688134227,0.25186832296877837],\"y\":[0.8886666666666667,0.7881666666666667,0.9316666666666666,0.969,0.9246666666666666,0.10933333333333334,0.534,0.6113333333333333,0.6468333333333334,0.10516666666666667,0.9591666666666666,0.9656666666666667,0.848,0.9751666666666666,0.9253333333333333,0.09366666666666666,0.9795,0.7058333333333333,0.9858333333333333,0.20383333333333334,0.985,0.9845,0.9633333333333334,0.9825,0.9743333333333334,0.5823333333333334,0.9436666666666667,0.9873333333333333,0.7778333333333334,0.842,0.685,0.9826666666666667,0.952,0.7966666666666666,0.9805,0.9658333333333333,0.8696666666666667,0.9836666666666667,0.9255,0.9538333333333333,0.9395,0.967,0.9466666666666667,0.9686666666666667,0.9545,0.9421666666666667,0.902,0.9758333333333333,0.7263333333333334,0.9833333333333333,0.7638333333333334,0.9723333333333334,0.971,0.9626666666666667,0.9425,0.8651666666666666,0.8781666666666667,0.8088333333333333,0.9658333333333333,0.9711666666666666,0.9383333333333334,0.9788333333333333,0.9856666666666667,0.989,0.9255,0.9181666666666667,0.9755,0.94,0.7601666666666667,0.9771666666666666,0.9613333333333334,0.9823333333333333,0.9751666666666666,0.8403333333333334,0.9821666666666666,0.9041666666666667,0.9843333333333333,0.9753333333333334,0.9026666666666666,0.9853333333333333,0.09183333333333334,0.9876666666666667,0.9261666666666667,0.9143333333333333,0.9655,0.25766666666666665,0.878,0.9508333333333333,0.9793333333333333,0.9766666666666667,0.9696666666666667,0.958,0.9515,0.5795,0.9703333333333334,0.9396666666666667,0.9831666666666666,0.10933333333333334,0.9738333333333333,0.9825],\"type\":\"scatter\",\"xaxis\":\"x\",\"yaxis\":\"y\"},{\"marker\":{\"color\":[0,1,2,3,4,5,6,7,8,9,10,11,12,13,14,15,16,17,18,19,20,21,22,23,24,25,26,27,28,29,30,31,32,33,34,35,36,37,38,39,40,41,42,43,44,45,46,47,48,49,50,51,52,53,54,55,56,57,58,59,60,61,62,63,64,65,66,67,68,69,70,71,72,73,74,75,76,77,78,79,80,81,82,83,84,85,86,87,88,89,90,91,92,93,94,95,96,97,98,99],\"colorbar\":{\"title\":{\"text\":\"Trial\"},\"x\":1.0,\"xpad\":40},\"colorscale\":[[0.0,\"rgb(247,251,255)\"],[0.125,\"rgb(222,235,247)\"],[0.25,\"rgb(198,219,239)\"],[0.375,\"rgb(158,202,225)\"],[0.5,\"rgb(107,174,214)\"],[0.625,\"rgb(66,146,198)\"],[0.75,\"rgb(33,113,181)\"],[0.875,\"rgb(8,81,156)\"],[1.0,\"rgb(8,48,107)\"]],\"line\":{\"color\":\"Grey\",\"width\":0.5},\"showscale\":false},\"mode\":\"markers\",\"name\":\"Feasible Trial\",\"showlegend\":false,\"x\":[0.3665449059639442,0.25936704138698385,0.44456922188846926,0.31315452567216395,0.21781727380003157,0.30165094221194927,0.43499021253266545,0.21882787992629682,0.41442209064420477,0.22726303427088881,0.334216779183412,0.32858753157934817,0.37028576967495813,0.2999058996021755,0.49469868192242705,0.2829317758026934,0.26796973961541026,0.26277411649060534,0.25794410106945853,0.2565363848968283,0.20125638690301606,0.20516838854531155,0.20687171060878906,0.2403900942539336,0.2018700994004461,0.20067659802125057,0.23711782775319867,0.23997380978225652,0.2857460292805145,0.36636786472438554,0.24628606597008112,0.22918538779043585,0.27339762509712096,0.2454101669951316,0.22112910935189348,0.2003011207905207,0.25226746282148277,0.2221526962496732,0.2850624755221146,0.31228603525371046,0.2139517066882614,0.23147966124981242,0.21845694516074093,0.23461453728776194,0.21538236339002892,0.2546719393163528,0.41641007913530986,0.22637873430493033,0.49524646412046225,0.27221167856795764,0.2959407962737447,0.2719295354215972,0.21195312817038467,0.24240514459117296,0.3442455757019282,0.26747074165125756,0.4669807161406863,0.2569855851781952,0.2229507320754876,0.2351567860192214,0.3830689931979292,0.22921989345373625,0.20782883335959082,0.20837526972530312,0.2085187823000432,0.20847435510223655,0.22067596197571723,0.24775376734779103,0.20166254819961824,0.21082432466014073,0.23769966131880216,0.22601650458271474,0.278068165941448,0.21661130691196612,0.26244109322223064,0.2454239772885633,0.20530030598144572,0.20083992767145442,0.20745312826391332,0.21972341783616786,0.21431221195636752,0.22502293088687975,0.22948523016184316,0.20686174812570768,0.23927150078727683,0.22059027565259848,0.25203650453067755,0.2334173793993678,0.20598201476780637,0.2182045516970372,0.20055969066761906,0.2234170816956882,0.2112844695883292,0.22795380214725114,0.21670874127108117,0.23935509215759193,0.32481987407569013,0.22314471559683513,0.23266125192232837,0.2500021403292116],\"y\":[0.8886666666666667,0.7881666666666667,0.9316666666666666,0.969,0.9246666666666666,0.10933333333333334,0.534,0.6113333333333333,0.6468333333333334,0.10516666666666667,0.9591666666666666,0.9656666666666667,0.848,0.9751666666666666,0.9253333333333333,0.09366666666666666,0.9795,0.7058333333333333,0.9858333333333333,0.20383333333333334,0.985,0.9845,0.9633333333333334,0.9825,0.9743333333333334,0.5823333333333334,0.9436666666666667,0.9873333333333333,0.7778333333333334,0.842,0.685,0.9826666666666667,0.952,0.7966666666666666,0.9805,0.9658333333333333,0.8696666666666667,0.9836666666666667,0.9255,0.9538333333333333,0.9395,0.967,0.9466666666666667,0.9686666666666667,0.9545,0.9421666666666667,0.902,0.9758333333333333,0.7263333333333334,0.9833333333333333,0.7638333333333334,0.9723333333333334,0.971,0.9626666666666667,0.9425,0.8651666666666666,0.8781666666666667,0.8088333333333333,0.9658333333333333,0.9711666666666666,0.9383333333333334,0.9788333333333333,0.9856666666666667,0.989,0.9255,0.9181666666666667,0.9755,0.94,0.7601666666666667,0.9771666666666666,0.9613333333333334,0.9823333333333333,0.9751666666666666,0.8403333333333334,0.9821666666666666,0.9041666666666667,0.9843333333333333,0.9753333333333334,0.9026666666666666,0.9853333333333333,0.09183333333333334,0.9876666666666667,0.9261666666666667,0.9143333333333333,0.9655,0.25766666666666665,0.878,0.9508333333333333,0.9793333333333333,0.9766666666666667,0.9696666666666667,0.958,0.9515,0.5795,0.9703333333333334,0.9396666666666667,0.9831666666666666,0.10933333333333334,0.9738333333333333,0.9825],\"type\":\"scatter\",\"xaxis\":\"x2\",\"yaxis\":\"y2\"},{\"marker\":{\"color\":[0,1,2,3,4,5,6,7,8,9,10,11,12,13,14,15,16,17,18,19,20,21,22,23,24,25,26,27,28,29,30,31,32,33,34,35,36,37,38,39,40,41,42,43,44,45,46,47,48,49,50,51,52,53,54,55,56,57,58,59,60,61,62,63,64,65,66,67,68,69,70,71,72,73,74,75,76,77,78,79,80,81,82,83,84,85,86,87,88,89,90,91,92,93,94,95,96,97,98,99],\"colorbar\":{\"title\":{\"text\":\"Trial\"},\"x\":1.0,\"xpad\":40},\"colorscale\":[[0.0,\"rgb(247,251,255)\"],[0.125,\"rgb(222,235,247)\"],[0.25,\"rgb(198,219,239)\"],[0.375,\"rgb(158,202,225)\"],[0.5,\"rgb(107,174,214)\"],[0.625,\"rgb(66,146,198)\"],[0.75,\"rgb(33,113,181)\"],[0.875,\"rgb(8,81,156)\"],[1.0,\"rgb(8,48,107)\"]],\"line\":{\"color\":\"Grey\",\"width\":0.5},\"showscale\":false},\"mode\":\"markers\",\"name\":\"Feasible Trial\",\"showlegend\":false,\"x\":[0.0032607434637603526,0.00673918463772257,0.00029017756913411025,0.0016462835116046164,0.008747172045988832,0.02870765878403198,0.010813774404632763,1.1242899888661207e-05,0.003039412085181637,1.41862651960153e-05,0.0003408011855792368,0.00035785107884346806,0.00010380165550325625,0.0011979098286033305,0.0011608659834140213,0.06294931482539666,0.001241353290865157,5.3148992929602255e-05,0.0007558329881268023,0.00011159014738853486,0.000512233287809745,0.00054508878787171,0.00036539170253984863,0.0005933873720028723,0.00016629043568245844,5.197735166538458e-05,0.003168787132209359,0.0006361358890799662,3.663674867881006e-05,0.0024020609736187604,0.000616077888714366,0.0008108087227937606,0.00017681118458391304,0.006261199856389897,0.0005986472700510815,0.0018990575728074263,0.004993405305898953,0.00022352199160495187,0.0007801619706563957,0.0004862328090302067,0.01205463894985957,0.0002226662621111353,0.0002513407247706995,0.0001238037428156717,0.0004018252665615559,0.0015440573589243975,6.903905093503454e-05,0.0009435717373906396,2.6141056842373266e-05,0.00022925522532600169,0.004224448809452364,0.0002765757792001662,0.0004536484736136826,0.0001662818173077223,0.00031074427237216297,9.959495569042168e-05,0.001787642492220048,0.0010345918673173035,0.00019225135725939156,0.0006918216941293124,0.00013259832481641936,0.0008484495624152714,0.00047013134415332903,0.00048187968562599066,0.00047658227026698286,0.0013690269616339211,0.00035327018190155814,0.0022541696135789037,0.0005474423973352656,0.000306351454382728,0.0011397423722992557,0.0006953067360141949,0.000255672120444465,8.385252931407221e-05,0.0004113309785656236,0.00014822236087632288,0.00021930510309710536,0.0005677364907388779,0.00019795405978696625,0.00035385786956112125,0.08877862214072187,0.0003614232723929238,0.00035505680150300163,0.000848819006819906,0.0005578271756513325,0.0004349703421853495,0.0007208613185148806,0.00029096599340369694,0.0009874096273598048,0.0004685004542715243,0.00036818341806740313,0.00025165080879665825,0.00020353334339498776,0.001277504128394731,0.0005935615542691034,0.00015372531577534826,0.0003295394324943348,0.02580361644623596,0.0006924101017508702,0.0004978484987919384],\"y\":[0.8886666666666667,0.7881666666666667,0.9316666666666666,0.969,0.9246666666666666,0.10933333333333334,0.534,0.6113333333333333,0.6468333333333334,0.10516666666666667,0.9591666666666666,0.9656666666666667,0.848,0.9751666666666666,0.9253333333333333,0.09366666666666666,0.9795,0.7058333333333333,0.9858333333333333,0.20383333333333334,0.985,0.9845,0.9633333333333334,0.9825,0.9743333333333334,0.5823333333333334,0.9436666666666667,0.9873333333333333,0.7778333333333334,0.842,0.685,0.9826666666666667,0.952,0.7966666666666666,0.9805,0.9658333333333333,0.8696666666666667,0.9836666666666667,0.9255,0.9538333333333333,0.9395,0.967,0.9466666666666667,0.9686666666666667,0.9545,0.9421666666666667,0.902,0.9758333333333333,0.7263333333333334,0.9833333333333333,0.7638333333333334,0.9723333333333334,0.971,0.9626666666666667,0.9425,0.8651666666666666,0.8781666666666667,0.8088333333333333,0.9658333333333333,0.9711666666666666,0.9383333333333334,0.9788333333333333,0.9856666666666667,0.989,0.9255,0.9181666666666667,0.9755,0.94,0.7601666666666667,0.9771666666666666,0.9613333333333334,0.9823333333333333,0.9751666666666666,0.8403333333333334,0.9821666666666666,0.9041666666666667,0.9843333333333333,0.9753333333333334,0.9026666666666666,0.9853333333333333,0.09183333333333334,0.9876666666666667,0.9261666666666667,0.9143333333333333,0.9655,0.25766666666666665,0.878,0.9508333333333333,0.9793333333333333,0.9766666666666667,0.9696666666666667,0.958,0.9515,0.5795,0.9703333333333334,0.9396666666666667,0.9831666666666666,0.10933333333333334,0.9738333333333333,0.9825],\"type\":\"scatter\",\"xaxis\":\"x3\",\"yaxis\":\"y3\"},{\"marker\":{\"color\":[0,1,2,3,4,5,6,7,8,9,10,11,12,13,14,15,16,17,18,19,20,21,22,23,24,25,26,27,28,29,30,31,32,33,34,35,36,37,38,39,40,41,42,43,44,45,46,47,48,49,50,51,52,53,54,55,56,57,58,59,60,61,62,63,64,65,66,67,68,69,70,71,72,73,74,75,76,77,78,79,80,81,82,83,84,85,86,87,88,89,90,91,92,93,94,95,96,97,98,99],\"colorbar\":{\"title\":{\"text\":\"Trial\"},\"x\":1.0,\"xpad\":40},\"colorscale\":[[0.0,\"rgb(247,251,255)\"],[0.125,\"rgb(222,235,247)\"],[0.25,\"rgb(198,219,239)\"],[0.375,\"rgb(158,202,225)\"],[0.5,\"rgb(107,174,214)\"],[0.625,\"rgb(66,146,198)\"],[0.75,\"rgb(33,113,181)\"],[0.875,\"rgb(8,81,156)\"],[1.0,\"rgb(8,48,107)\"]],\"line\":{\"color\":\"Grey\",\"width\":0.5},\"showscale\":false},\"mode\":\"markers\",\"name\":\"Feasible Trial\",\"showlegend\":false,\"x\":[2,2,3,2,3,2,3,3,3,3,2,2,2,2,2,2,2,2,2,2,2,2,2,2,2,2,2,2,2,2,2,2,2,2,2,2,2,3,2,2,3,3,3,3,3,3,3,2,2,2,3,2,2,2,2,2,2,2,2,2,2,2,2,2,2,2,2,2,2,2,2,2,2,2,2,2,2,2,2,3,2,3,3,3,3,3,3,3,2,2,3,3,3,3,3,3,2,3,2,2],\"y\":[0.8886666666666667,0.7881666666666667,0.9316666666666666,0.969,0.9246666666666666,0.10933333333333334,0.534,0.6113333333333333,0.6468333333333334,0.10516666666666667,0.9591666666666666,0.9656666666666667,0.848,0.9751666666666666,0.9253333333333333,0.09366666666666666,0.9795,0.7058333333333333,0.9858333333333333,0.20383333333333334,0.985,0.9845,0.9633333333333334,0.9825,0.9743333333333334,0.5823333333333334,0.9436666666666667,0.9873333333333333,0.7778333333333334,0.842,0.685,0.9826666666666667,0.952,0.7966666666666666,0.9805,0.9658333333333333,0.8696666666666667,0.9836666666666667,0.9255,0.9538333333333333,0.9395,0.967,0.9466666666666667,0.9686666666666667,0.9545,0.9421666666666667,0.902,0.9758333333333333,0.7263333333333334,0.9833333333333333,0.7638333333333334,0.9723333333333334,0.971,0.9626666666666667,0.9425,0.8651666666666666,0.8781666666666667,0.8088333333333333,0.9658333333333333,0.9711666666666666,0.9383333333333334,0.9788333333333333,0.9856666666666667,0.989,0.9255,0.9181666666666667,0.9755,0.94,0.7601666666666667,0.9771666666666666,0.9613333333333334,0.9823333333333333,0.9751666666666666,0.8403333333333334,0.9821666666666666,0.9041666666666667,0.9843333333333333,0.9753333333333334,0.9026666666666666,0.9853333333333333,0.09183333333333334,0.9876666666666667,0.9261666666666667,0.9143333333333333,0.9655,0.25766666666666665,0.878,0.9508333333333333,0.9793333333333333,0.9766666666666667,0.9696666666666667,0.958,0.9515,0.5795,0.9703333333333334,0.9396666666666667,0.9831666666666666,0.10933333333333334,0.9738333333333333,0.9825],\"type\":\"scatter\",\"xaxis\":\"x4\",\"yaxis\":\"y4\"},{\"marker\":{\"color\":[0,1,2,3,4,5,6,7,8,9,10,11,12,13,14,15,16,17,18,19,20,21,22,23,24,25,26,27,28,29,30,31,32,33,34,35,36,37,38,39,40,41,42,43,44,45,46,47,48,49,50,51,52,53,54,55,56,57,58,59,60,61,62,63,64,65,66,67,68,69,70,71,72,73,74,75,76,77,78,79,80,81,82,83,84,85,86,87,88,89,90,91,92,93,94,95,96,97,98,99],\"colorbar\":{\"title\":{\"text\":\"Trial\"},\"x\":1.0,\"xpad\":40},\"colorscale\":[[0.0,\"rgb(247,251,255)\"],[0.125,\"rgb(222,235,247)\"],[0.25,\"rgb(198,219,239)\"],[0.375,\"rgb(158,202,225)\"],[0.5,\"rgb(107,174,214)\"],[0.625,\"rgb(66,146,198)\"],[0.75,\"rgb(33,113,181)\"],[0.875,\"rgb(8,81,156)\"],[1.0,\"rgb(8,48,107)\"]],\"line\":{\"color\":\"Grey\",\"width\":0.5},\"showscale\":false},\"mode\":\"markers\",\"name\":\"Feasible Trial\",\"showlegend\":false,\"x\":[128.0,96.0,32.0,64.0,112.0,96.0,16.0,48.0,48.0,112.0,64.0,64.0,80.0,64.0,80.0,48.0,16.0,16.0,32.0,32.0,32.0,32.0,32.0,32.0,48.0,16.0,32.0,48.0,48.0,48.0,16.0,32.0,32.0,32.0,48.0,16.0,32.0,64.0,128.0,48.0,32.0,64.0,80.0,64.0,96.0,48.0,48.0,64.0,112.0,80.0,64.0,96.0,80.0,80.0,80.0,64.0,96.0,32.0,48.0,16.0,48.0,32.0,32.0,16.0,16.0,16.0,32.0,16.0,32.0,32.0,16.0,48.0,32.0,32.0,16.0,32.0,80.0,48.0,48.0,64.0,32.0,64.0,64.0,64.0,80.0,64.0,96.0,48.0,32.0,16.0,80.0,64.0,64.0,64.0,48.0,64.0,80.0,80.0,48.0,32.0],\"y\":[0.8886666666666667,0.7881666666666667,0.9316666666666666,0.969,0.9246666666666666,0.10933333333333334,0.534,0.6113333333333333,0.6468333333333334,0.10516666666666667,0.9591666666666666,0.9656666666666667,0.848,0.9751666666666666,0.9253333333333333,0.09366666666666666,0.9795,0.7058333333333333,0.9858333333333333,0.20383333333333334,0.985,0.9845,0.9633333333333334,0.9825,0.9743333333333334,0.5823333333333334,0.9436666666666667,0.9873333333333333,0.7778333333333334,0.842,0.685,0.9826666666666667,0.952,0.7966666666666666,0.9805,0.9658333333333333,0.8696666666666667,0.9836666666666667,0.9255,0.9538333333333333,0.9395,0.967,0.9466666666666667,0.9686666666666667,0.9545,0.9421666666666667,0.902,0.9758333333333333,0.7263333333333334,0.9833333333333333,0.7638333333333334,0.9723333333333334,0.971,0.9626666666666667,0.9425,0.8651666666666666,0.8781666666666667,0.8088333333333333,0.9658333333333333,0.9711666666666666,0.9383333333333334,0.9788333333333333,0.9856666666666667,0.989,0.9255,0.9181666666666667,0.9755,0.94,0.7601666666666667,0.9771666666666666,0.9613333333333334,0.9823333333333333,0.9751666666666666,0.8403333333333334,0.9821666666666666,0.9041666666666667,0.9843333333333333,0.9753333333333334,0.9026666666666666,0.9853333333333333,0.09183333333333334,0.9876666666666667,0.9261666666666667,0.9143333333333333,0.9655,0.25766666666666665,0.878,0.9508333333333333,0.9793333333333333,0.9766666666666667,0.9696666666666667,0.958,0.9515,0.5795,0.9703333333333334,0.9396666666666667,0.9831666666666666,0.10933333333333334,0.9738333333333333,0.9825],\"type\":\"scatter\",\"xaxis\":\"x5\",\"yaxis\":\"y5\"},{\"marker\":{\"color\":[0,1,2,3,4,5,6,7,8,9,10,11,12,13,14,15,16,17,18,19,20,21,22,23,24,25,26,27,28,29,30,31,32,33,34,35,36,37,38,39,40,41,42,43,44,45,46,47,48,49,50,51,52,53,54,55,56,57,58,59,60,61,62,63,64,65,66,67,68,69,70,71,72,73,74,75,76,77,78,79,80,81,82,83,84,85,86,87,88,89,90,91,92,93,94,95,96,97,98,99],\"colorbar\":{\"title\":{\"text\":\"Trial\"},\"x\":1.0,\"xpad\":40},\"colorscale\":[[0.0,\"rgb(247,251,255)\"],[0.125,\"rgb(222,235,247)\"],[0.25,\"rgb(198,219,239)\"],[0.375,\"rgb(158,202,225)\"],[0.5,\"rgb(107,174,214)\"],[0.625,\"rgb(66,146,198)\"],[0.75,\"rgb(33,113,181)\"],[0.875,\"rgb(8,81,156)\"],[1.0,\"rgb(8,48,107)\"]],\"line\":{\"color\":\"Grey\",\"width\":0.5},\"showscale\":false},\"mode\":\"markers\",\"name\":\"Feasible Trial\",\"showlegend\":false,\"x\":[16.0,16.0,128.0,80.0,128.0,96.0,32.0,48.0,32.0,112.0,80.0,80.0,64.0,80.0,96.0,64.0,96.0,96.0,112.0,112.0,112.0,112.0,112.0,128.0,112.0,128.0,112.0,96.0,96.0,96.0,128.0,112.0,112.0,128.0,96.0,112.0,112.0,128.0,96.0,64.0,80.0,128.0,128.0,112.0,16.0,128.0,128.0,112.0,96.0,80.0,112.0,80.0,96.0,64.0,80.0,48.0,80.0,96.0,128.0,112.0,96.0,112.0,112.0,112.0,112.0,128.0,112.0,112.0,128.0,112.0,96.0,96.0,112.0,128.0,96.0,80.0,112.0,112.0,112.0,128.0,112.0,128.0,128.0,128.0,112.0,128.0,112.0,128.0,112.0,32.0,128.0,128.0,128.0,112.0,128.0,112.0,128.0,112.0,128.0,96.0],\"y\":[0.8886666666666667,0.7881666666666667,0.9316666666666666,0.969,0.9246666666666666,0.10933333333333334,0.534,0.6113333333333333,0.6468333333333334,0.10516666666666667,0.9591666666666666,0.9656666666666667,0.848,0.9751666666666666,0.9253333333333333,0.09366666666666666,0.9795,0.7058333333333333,0.9858333333333333,0.20383333333333334,0.985,0.9845,0.9633333333333334,0.9825,0.9743333333333334,0.5823333333333334,0.9436666666666667,0.9873333333333333,0.7778333333333334,0.842,0.685,0.9826666666666667,0.952,0.7966666666666666,0.9805,0.9658333333333333,0.8696666666666667,0.9836666666666667,0.9255,0.9538333333333333,0.9395,0.967,0.9466666666666667,0.9686666666666667,0.9545,0.9421666666666667,0.902,0.9758333333333333,0.7263333333333334,0.9833333333333333,0.7638333333333334,0.9723333333333334,0.971,0.9626666666666667,0.9425,0.8651666666666666,0.8781666666666667,0.8088333333333333,0.9658333333333333,0.9711666666666666,0.9383333333333334,0.9788333333333333,0.9856666666666667,0.989,0.9255,0.9181666666666667,0.9755,0.94,0.7601666666666667,0.9771666666666666,0.9613333333333334,0.9823333333333333,0.9751666666666666,0.8403333333333334,0.9821666666666666,0.9041666666666667,0.9843333333333333,0.9753333333333334,0.9026666666666666,0.9853333333333333,0.09183333333333334,0.9876666666666667,0.9261666666666667,0.9143333333333333,0.9655,0.25766666666666665,0.878,0.9508333333333333,0.9793333333333333,0.9766666666666667,0.9696666666666667,0.958,0.9515,0.5795,0.9703333333333334,0.9396666666666667,0.9831666666666666,0.10933333333333334,0.9738333333333333,0.9825],\"type\":\"scatter\",\"xaxis\":\"x6\",\"yaxis\":\"y6\"},{\"marker\":{\"color\":[0,1,2,3,4,5,6,7,8,9,10,11,12,13,14,15,16,17,18,19,20,21,22,23,24,25,26,27,28,29,30,31,32,33,34,35,36,37,38,39,40,41,42,43,44,45,46,47,48,49,50,51,52,53,54,55,56,57,58,59,60,61,62,63,64,65,66,67,68,69,70,71,72,73,74,75,76,77,78,79,80,81,82,83,84,85,86,87,88,89,90,91,92,93,94,95,96,97,98,99],\"colorbar\":{\"title\":{\"text\":\"Trial\"},\"x\":1.0,\"xpad\":40},\"colorscale\":[[0.0,\"rgb(247,251,255)\"],[0.125,\"rgb(222,235,247)\"],[0.25,\"rgb(198,219,239)\"],[0.375,\"rgb(158,202,225)\"],[0.5,\"rgb(107,174,214)\"],[0.625,\"rgb(66,146,198)\"],[0.75,\"rgb(33,113,181)\"],[0.875,\"rgb(8,81,156)\"],[1.0,\"rgb(8,48,107)\"]],\"line\":{\"color\":\"Grey\",\"width\":0.5},\"showscale\":false},\"mode\":\"markers\",\"name\":\"Feasible Trial\",\"showlegend\":false,\"x\":[360,280,200,70,180,200,400,50,20,20,120,120,110,120,70,260,150,160,240,250,310,310,310,320,240,340,300,370,400,360,370,230,290,270,330,350,220,380,290,270,380,390,350,320,370,200,340,380,310,180,400,180,180,140,210,240,260,160,280,90,360,230,180,180,190,160,140,330,210,300,380,170,200,190,140,170,250,250,220,270,280,260,260,240,290,230,270,250,300,220,320,350,280,10,270,310,260,390,340,370],\"y\":[0.8886666666666667,0.7881666666666667,0.9316666666666666,0.969,0.9246666666666666,0.10933333333333334,0.534,0.6113333333333333,0.6468333333333334,0.10516666666666667,0.9591666666666666,0.9656666666666667,0.848,0.9751666666666666,0.9253333333333333,0.09366666666666666,0.9795,0.7058333333333333,0.9858333333333333,0.20383333333333334,0.985,0.9845,0.9633333333333334,0.9825,0.9743333333333334,0.5823333333333334,0.9436666666666667,0.9873333333333333,0.7778333333333334,0.842,0.685,0.9826666666666667,0.952,0.7966666666666666,0.9805,0.9658333333333333,0.8696666666666667,0.9836666666666667,0.9255,0.9538333333333333,0.9395,0.967,0.9466666666666667,0.9686666666666667,0.9545,0.9421666666666667,0.902,0.9758333333333333,0.7263333333333334,0.9833333333333333,0.7638333333333334,0.9723333333333334,0.971,0.9626666666666667,0.9425,0.8651666666666666,0.8781666666666667,0.8088333333333333,0.9658333333333333,0.9711666666666666,0.9383333333333334,0.9788333333333333,0.9856666666666667,0.989,0.9255,0.9181666666666667,0.9755,0.94,0.7601666666666667,0.9771666666666666,0.9613333333333334,0.9823333333333333,0.9751666666666666,0.8403333333333334,0.9821666666666666,0.9041666666666667,0.9843333333333333,0.9753333333333334,0.9026666666666666,0.9853333333333333,0.09183333333333334,0.9876666666666667,0.9261666666666667,0.9143333333333333,0.9655,0.25766666666666665,0.878,0.9508333333333333,0.9793333333333333,0.9766666666666667,0.9696666666666667,0.958,0.9515,0.5795,0.9703333333333334,0.9396666666666667,0.9831666666666666,0.10933333333333334,0.9738333333333333,0.9825],\"type\":\"scatter\",\"xaxis\":\"x7\",\"yaxis\":\"y7\"},{\"marker\":{\"color\":[0,1,2,3,4,5,6,7,8,9,10,11,12,13,14,15,16,17,18,19,20,21,22,23,24,25,26,27,28,29,30,31,32,33,34,35,36,37,38,39,40,41,42,43,44,45,46,47,48,49,50,51,52,53,54,55,56,57,58,59,60,61,62,63,64,65,66,67,68,69,70,71,72,73,74,75,76,77,78,79,80,81,82,83,84,85,86,87,88,89,90,91,92,93,94,95,96,97,98,99],\"colorbar\":{\"title\":{\"text\":\"Trial\"},\"x\":1.0,\"xpad\":40},\"colorscale\":[[0.0,\"rgb(247,251,255)\"],[0.125,\"rgb(222,235,247)\"],[0.25,\"rgb(198,219,239)\"],[0.375,\"rgb(158,202,225)\"],[0.5,\"rgb(107,174,214)\"],[0.625,\"rgb(66,146,198)\"],[0.75,\"rgb(33,113,181)\"],[0.875,\"rgb(8,81,156)\"],[1.0,\"rgb(8,48,107)\"]],\"line\":{\"color\":\"Grey\",\"width\":0.5},\"showscale\":false},\"mode\":\"markers\",\"name\":\"Feasible Trial\",\"showlegend\":false,\"x\":[\"SGD\",\"Adam\",\"Adam\",\"RMSprop\",\"SGD\",\"RMSprop\",\"RMSprop\",\"Adam\",\"Adam\",\"SGD\",\"RMSprop\",\"RMSprop\",\"RMSprop\",\"RMSprop\",\"RMSprop\",\"RMSprop\",\"RMSprop\",\"RMSprop\",\"RMSprop\",\"SGD\",\"RMSprop\",\"RMSprop\",\"RMSprop\",\"RMSprop\",\"RMSprop\",\"RMSprop\",\"RMSprop\",\"RMSprop\",\"Adam\",\"SGD\",\"SGD\",\"RMSprop\",\"RMSprop\",\"RMSprop\",\"RMSprop\",\"Adam\",\"RMSprop\",\"RMSprop\",\"RMSprop\",\"Adam\",\"SGD\",\"RMSprop\",\"RMSprop\",\"RMSprop\",\"RMSprop\",\"RMSprop\",\"RMSprop\",\"Adam\",\"RMSprop\",\"RMSprop\",\"RMSprop\",\"RMSprop\",\"RMSprop\",\"RMSprop\",\"RMSprop\",\"RMSprop\",\"RMSprop\",\"SGD\",\"RMSprop\",\"RMSprop\",\"Adam\",\"RMSprop\",\"RMSprop\",\"RMSprop\",\"RMSprop\",\"RMSprop\",\"RMSprop\",\"RMSprop\",\"SGD\",\"RMSprop\",\"RMSprop\",\"RMSprop\",\"RMSprop\",\"RMSprop\",\"RMSprop\",\"RMSprop\",\"RMSprop\",\"Adam\",\"RMSprop\",\"RMSprop\",\"RMSprop\",\"RMSprop\",\"RMSprop\",\"RMSprop\",\"RMSprop\",\"SGD\",\"RMSprop\",\"RMSprop\",\"RMSprop\",\"RMSprop\",\"RMSprop\",\"RMSprop\",\"RMSprop\",\"RMSprop\",\"RMSprop\",\"Adam\",\"RMSprop\",\"RMSprop\",\"RMSprop\",\"RMSprop\"],\"y\":[0.8886666666666667,0.7881666666666667,0.9316666666666666,0.969,0.9246666666666666,0.10933333333333334,0.534,0.6113333333333333,0.6468333333333334,0.10516666666666667,0.9591666666666666,0.9656666666666667,0.848,0.9751666666666666,0.9253333333333333,0.09366666666666666,0.9795,0.7058333333333333,0.9858333333333333,0.20383333333333334,0.985,0.9845,0.9633333333333334,0.9825,0.9743333333333334,0.5823333333333334,0.9436666666666667,0.9873333333333333,0.7778333333333334,0.842,0.685,0.9826666666666667,0.952,0.7966666666666666,0.9805,0.9658333333333333,0.8696666666666667,0.9836666666666667,0.9255,0.9538333333333333,0.9395,0.967,0.9466666666666667,0.9686666666666667,0.9545,0.9421666666666667,0.902,0.9758333333333333,0.7263333333333334,0.9833333333333333,0.7638333333333334,0.9723333333333334,0.971,0.9626666666666667,0.9425,0.8651666666666666,0.8781666666666667,0.8088333333333333,0.9658333333333333,0.9711666666666666,0.9383333333333334,0.9788333333333333,0.9856666666666667,0.989,0.9255,0.9181666666666667,0.9755,0.94,0.7601666666666667,0.9771666666666666,0.9613333333333334,0.9823333333333333,0.9751666666666666,0.8403333333333334,0.9821666666666666,0.9041666666666667,0.9843333333333333,0.9753333333333334,0.9026666666666666,0.9853333333333333,0.09183333333333334,0.9876666666666667,0.9261666666666667,0.9143333333333333,0.9655,0.25766666666666665,0.878,0.9508333333333333,0.9793333333333333,0.9766666666666667,0.9696666666666667,0.958,0.9515,0.5795,0.9703333333333334,0.9396666666666667,0.9831666666666666,0.10933333333333334,0.9738333333333333,0.9825],\"type\":\"scatter\",\"xaxis\":\"x8\",\"yaxis\":\"y8\"}],                        {\"template\":{\"data\":{\"histogram2dcontour\":[{\"type\":\"histogram2dcontour\",\"colorbar\":{\"outlinewidth\":0,\"ticks\":\"\"},\"colorscale\":[[0.0,\"#0d0887\"],[0.1111111111111111,\"#46039f\"],[0.2222222222222222,\"#7201a8\"],[0.3333333333333333,\"#9c179e\"],[0.4444444444444444,\"#bd3786\"],[0.5555555555555556,\"#d8576b\"],[0.6666666666666666,\"#ed7953\"],[0.7777777777777778,\"#fb9f3a\"],[0.8888888888888888,\"#fdca26\"],[1.0,\"#f0f921\"]]}],\"choropleth\":[{\"type\":\"choropleth\",\"colorbar\":{\"outlinewidth\":0,\"ticks\":\"\"}}],\"histogram2d\":[{\"type\":\"histogram2d\",\"colorbar\":{\"outlinewidth\":0,\"ticks\":\"\"},\"colorscale\":[[0.0,\"#0d0887\"],[0.1111111111111111,\"#46039f\"],[0.2222222222222222,\"#7201a8\"],[0.3333333333333333,\"#9c179e\"],[0.4444444444444444,\"#bd3786\"],[0.5555555555555556,\"#d8576b\"],[0.6666666666666666,\"#ed7953\"],[0.7777777777777778,\"#fb9f3a\"],[0.8888888888888888,\"#fdca26\"],[1.0,\"#f0f921\"]]}],\"heatmap\":[{\"type\":\"heatmap\",\"colorbar\":{\"outlinewidth\":0,\"ticks\":\"\"},\"colorscale\":[[0.0,\"#0d0887\"],[0.1111111111111111,\"#46039f\"],[0.2222222222222222,\"#7201a8\"],[0.3333333333333333,\"#9c179e\"],[0.4444444444444444,\"#bd3786\"],[0.5555555555555556,\"#d8576b\"],[0.6666666666666666,\"#ed7953\"],[0.7777777777777778,\"#fb9f3a\"],[0.8888888888888888,\"#fdca26\"],[1.0,\"#f0f921\"]]}],\"heatmapgl\":[{\"type\":\"heatmapgl\",\"colorbar\":{\"outlinewidth\":0,\"ticks\":\"\"},\"colorscale\":[[0.0,\"#0d0887\"],[0.1111111111111111,\"#46039f\"],[0.2222222222222222,\"#7201a8\"],[0.3333333333333333,\"#9c179e\"],[0.4444444444444444,\"#bd3786\"],[0.5555555555555556,\"#d8576b\"],[0.6666666666666666,\"#ed7953\"],[0.7777777777777778,\"#fb9f3a\"],[0.8888888888888888,\"#fdca26\"],[1.0,\"#f0f921\"]]}],\"contourcarpet\":[{\"type\":\"contourcarpet\",\"colorbar\":{\"outlinewidth\":0,\"ticks\":\"\"}}],\"contour\":[{\"type\":\"contour\",\"colorbar\":{\"outlinewidth\":0,\"ticks\":\"\"},\"colorscale\":[[0.0,\"#0d0887\"],[0.1111111111111111,\"#46039f\"],[0.2222222222222222,\"#7201a8\"],[0.3333333333333333,\"#9c179e\"],[0.4444444444444444,\"#bd3786\"],[0.5555555555555556,\"#d8576b\"],[0.6666666666666666,\"#ed7953\"],[0.7777777777777778,\"#fb9f3a\"],[0.8888888888888888,\"#fdca26\"],[1.0,\"#f0f921\"]]}],\"surface\":[{\"type\":\"surface\",\"colorbar\":{\"outlinewidth\":0,\"ticks\":\"\"},\"colorscale\":[[0.0,\"#0d0887\"],[0.1111111111111111,\"#46039f\"],[0.2222222222222222,\"#7201a8\"],[0.3333333333333333,\"#9c179e\"],[0.4444444444444444,\"#bd3786\"],[0.5555555555555556,\"#d8576b\"],[0.6666666666666666,\"#ed7953\"],[0.7777777777777778,\"#fb9f3a\"],[0.8888888888888888,\"#fdca26\"],[1.0,\"#f0f921\"]]}],\"mesh3d\":[{\"type\":\"mesh3d\",\"colorbar\":{\"outlinewidth\":0,\"ticks\":\"\"}}],\"scatter\":[{\"fillpattern\":{\"fillmode\":\"overlay\",\"size\":10,\"solidity\":0.2},\"type\":\"scatter\"}],\"parcoords\":[{\"type\":\"parcoords\",\"line\":{\"colorbar\":{\"outlinewidth\":0,\"ticks\":\"\"}}}],\"scatterpolargl\":[{\"type\":\"scatterpolargl\",\"marker\":{\"colorbar\":{\"outlinewidth\":0,\"ticks\":\"\"}}}],\"bar\":[{\"error_x\":{\"color\":\"#2a3f5f\"},\"error_y\":{\"color\":\"#2a3f5f\"},\"marker\":{\"line\":{\"color\":\"#E5ECF6\",\"width\":0.5},\"pattern\":{\"fillmode\":\"overlay\",\"size\":10,\"solidity\":0.2}},\"type\":\"bar\"}],\"scattergeo\":[{\"type\":\"scattergeo\",\"marker\":{\"colorbar\":{\"outlinewidth\":0,\"ticks\":\"\"}}}],\"scatterpolar\":[{\"type\":\"scatterpolar\",\"marker\":{\"colorbar\":{\"outlinewidth\":0,\"ticks\":\"\"}}}],\"histogram\":[{\"marker\":{\"pattern\":{\"fillmode\":\"overlay\",\"size\":10,\"solidity\":0.2}},\"type\":\"histogram\"}],\"scattergl\":[{\"type\":\"scattergl\",\"marker\":{\"colorbar\":{\"outlinewidth\":0,\"ticks\":\"\"}}}],\"scatter3d\":[{\"type\":\"scatter3d\",\"line\":{\"colorbar\":{\"outlinewidth\":0,\"ticks\":\"\"}},\"marker\":{\"colorbar\":{\"outlinewidth\":0,\"ticks\":\"\"}}}],\"scattermapbox\":[{\"type\":\"scattermapbox\",\"marker\":{\"colorbar\":{\"outlinewidth\":0,\"ticks\":\"\"}}}],\"scatterternary\":[{\"type\":\"scatterternary\",\"marker\":{\"colorbar\":{\"outlinewidth\":0,\"ticks\":\"\"}}}],\"scattercarpet\":[{\"type\":\"scattercarpet\",\"marker\":{\"colorbar\":{\"outlinewidth\":0,\"ticks\":\"\"}}}],\"carpet\":[{\"aaxis\":{\"endlinecolor\":\"#2a3f5f\",\"gridcolor\":\"white\",\"linecolor\":\"white\",\"minorgridcolor\":\"white\",\"startlinecolor\":\"#2a3f5f\"},\"baxis\":{\"endlinecolor\":\"#2a3f5f\",\"gridcolor\":\"white\",\"linecolor\":\"white\",\"minorgridcolor\":\"white\",\"startlinecolor\":\"#2a3f5f\"},\"type\":\"carpet\"}],\"table\":[{\"cells\":{\"fill\":{\"color\":\"#EBF0F8\"},\"line\":{\"color\":\"white\"}},\"header\":{\"fill\":{\"color\":\"#C8D4E3\"},\"line\":{\"color\":\"white\"}},\"type\":\"table\"}],\"barpolar\":[{\"marker\":{\"line\":{\"color\":\"#E5ECF6\",\"width\":0.5},\"pattern\":{\"fillmode\":\"overlay\",\"size\":10,\"solidity\":0.2}},\"type\":\"barpolar\"}],\"pie\":[{\"automargin\":true,\"type\":\"pie\"}]},\"layout\":{\"autotypenumbers\":\"strict\",\"colorway\":[\"#636efa\",\"#EF553B\",\"#00cc96\",\"#ab63fa\",\"#FFA15A\",\"#19d3f3\",\"#FF6692\",\"#B6E880\",\"#FF97FF\",\"#FECB52\"],\"font\":{\"color\":\"#2a3f5f\"},\"hovermode\":\"closest\",\"hoverlabel\":{\"align\":\"left\"},\"paper_bgcolor\":\"white\",\"plot_bgcolor\":\"#E5ECF6\",\"polar\":{\"bgcolor\":\"#E5ECF6\",\"angularaxis\":{\"gridcolor\":\"white\",\"linecolor\":\"white\",\"ticks\":\"\"},\"radialaxis\":{\"gridcolor\":\"white\",\"linecolor\":\"white\",\"ticks\":\"\"}},\"ternary\":{\"bgcolor\":\"#E5ECF6\",\"aaxis\":{\"gridcolor\":\"white\",\"linecolor\":\"white\",\"ticks\":\"\"},\"baxis\":{\"gridcolor\":\"white\",\"linecolor\":\"white\",\"ticks\":\"\"},\"caxis\":{\"gridcolor\":\"white\",\"linecolor\":\"white\",\"ticks\":\"\"}},\"coloraxis\":{\"colorbar\":{\"outlinewidth\":0,\"ticks\":\"\"}},\"colorscale\":{\"sequential\":[[0.0,\"#0d0887\"],[0.1111111111111111,\"#46039f\"],[0.2222222222222222,\"#7201a8\"],[0.3333333333333333,\"#9c179e\"],[0.4444444444444444,\"#bd3786\"],[0.5555555555555556,\"#d8576b\"],[0.6666666666666666,\"#ed7953\"],[0.7777777777777778,\"#fb9f3a\"],[0.8888888888888888,\"#fdca26\"],[1.0,\"#f0f921\"]],\"sequentialminus\":[[0.0,\"#0d0887\"],[0.1111111111111111,\"#46039f\"],[0.2222222222222222,\"#7201a8\"],[0.3333333333333333,\"#9c179e\"],[0.4444444444444444,\"#bd3786\"],[0.5555555555555556,\"#d8576b\"],[0.6666666666666666,\"#ed7953\"],[0.7777777777777778,\"#fb9f3a\"],[0.8888888888888888,\"#fdca26\"],[1.0,\"#f0f921\"]],\"diverging\":[[0,\"#8e0152\"],[0.1,\"#c51b7d\"],[0.2,\"#de77ae\"],[0.3,\"#f1b6da\"],[0.4,\"#fde0ef\"],[0.5,\"#f7f7f7\"],[0.6,\"#e6f5d0\"],[0.7,\"#b8e186\"],[0.8,\"#7fbc41\"],[0.9,\"#4d9221\"],[1,\"#276419\"]]},\"xaxis\":{\"gridcolor\":\"white\",\"linecolor\":\"white\",\"ticks\":\"\",\"title\":{\"standoff\":15},\"zerolinecolor\":\"white\",\"automargin\":true,\"zerolinewidth\":2},\"yaxis\":{\"gridcolor\":\"white\",\"linecolor\":\"white\",\"ticks\":\"\",\"title\":{\"standoff\":15},\"zerolinecolor\":\"white\",\"automargin\":true,\"zerolinewidth\":2},\"scene\":{\"xaxis\":{\"backgroundcolor\":\"#E5ECF6\",\"gridcolor\":\"white\",\"linecolor\":\"white\",\"showbackground\":true,\"ticks\":\"\",\"zerolinecolor\":\"white\",\"gridwidth\":2},\"yaxis\":{\"backgroundcolor\":\"#E5ECF6\",\"gridcolor\":\"white\",\"linecolor\":\"white\",\"showbackground\":true,\"ticks\":\"\",\"zerolinecolor\":\"white\",\"gridwidth\":2},\"zaxis\":{\"backgroundcolor\":\"#E5ECF6\",\"gridcolor\":\"white\",\"linecolor\":\"white\",\"showbackground\":true,\"ticks\":\"\",\"zerolinecolor\":\"white\",\"gridwidth\":2}},\"shapedefaults\":{\"line\":{\"color\":\"#2a3f5f\"}},\"annotationdefaults\":{\"arrowcolor\":\"#2a3f5f\",\"arrowhead\":0,\"arrowwidth\":1},\"geo\":{\"bgcolor\":\"white\",\"landcolor\":\"#E5ECF6\",\"subunitcolor\":\"white\",\"showland\":true,\"showlakes\":true,\"lakecolor\":\"white\"},\"title\":{\"x\":0.05},\"mapbox\":{\"style\":\"light\"}}},\"xaxis\":{\"anchor\":\"y\",\"domain\":[0.0,0.103125],\"title\":{\"text\":\"drop_conv2\"}},\"yaxis\":{\"anchor\":\"x\",\"domain\":[0.0,1.0],\"title\":{\"text\":\"Objective Value\"}},\"xaxis2\":{\"anchor\":\"y2\",\"domain\":[0.128125,0.23124999999999998],\"title\":{\"text\":\"drop_fc1\"}},\"yaxis2\":{\"anchor\":\"x2\",\"domain\":[0.0,1.0],\"matches\":\"y\",\"showticklabels\":false},\"xaxis3\":{\"anchor\":\"y3\",\"domain\":[0.25625,0.359375],\"title\":{\"text\":\"lr\"},\"type\":\"log\"},\"yaxis3\":{\"anchor\":\"x3\",\"domain\":[0.0,1.0],\"matches\":\"y\",\"showticklabels\":false},\"xaxis4\":{\"anchor\":\"y4\",\"domain\":[0.38437499999999997,0.48749999999999993],\"title\":{\"text\":\"num_conv_layers\"}},\"yaxis4\":{\"anchor\":\"x4\",\"domain\":[0.0,1.0],\"matches\":\"y\",\"showticklabels\":false},\"xaxis5\":{\"anchor\":\"y5\",\"domain\":[0.5125,0.615625],\"title\":{\"text\":\"num_filter_0\"}},\"yaxis5\":{\"anchor\":\"x5\",\"domain\":[0.0,1.0],\"matches\":\"y\",\"showticklabels\":false},\"xaxis6\":{\"anchor\":\"y6\",\"domain\":[0.640625,0.74375],\"title\":{\"text\":\"num_filter_1\"}},\"yaxis6\":{\"anchor\":\"x6\",\"domain\":[0.0,1.0],\"matches\":\"y\",\"showticklabels\":false},\"xaxis7\":{\"anchor\":\"y7\",\"domain\":[0.76875,0.8718750000000001],\"title\":{\"text\":\"num_neurons\"}},\"yaxis7\":{\"anchor\":\"x7\",\"domain\":[0.0,1.0],\"matches\":\"y\",\"showticklabels\":false},\"xaxis8\":{\"anchor\":\"y8\",\"domain\":[0.8968750000000001,1.0],\"title\":{\"text\":\"optimizer\"},\"type\":\"category\",\"categoryorder\":\"array\",\"categoryarray\":[\"Adam\",\"RMSprop\",\"SGD\"]},\"yaxis8\":{\"anchor\":\"x8\",\"domain\":[0.0,1.0],\"matches\":\"y\",\"showticklabels\":false},\"title\":{\"text\":\"Slice Plot\"},\"width\":2400},                        {\"responsive\": true}                    ).then(function(){\n",
              "                            \n",
              "var gd = document.getElementById('fabc6eef-38c3-481b-9189-31c8304d0fce');\n",
              "var x = new MutationObserver(function (mutations, observer) {{\n",
              "        var display = window.getComputedStyle(gd).display;\n",
              "        if (!display || display === 'none') {{\n",
              "            console.log([gd, 'removed!']);\n",
              "            Plotly.purge(gd);\n",
              "            observer.disconnect();\n",
              "        }}\n",
              "}});\n",
              "\n",
              "// Listen for the removal of the full notebook cells\n",
              "var notebookContainer = gd.closest('#notebook-container');\n",
              "if (notebookContainer) {{\n",
              "    x.observe(notebookContainer, {childList: true});\n",
              "}}\n",
              "\n",
              "// Listen for the clearing of the current output cell\n",
              "var outputEl = gd.closest('.output');\n",
              "if (outputEl) {{\n",
              "    x.observe(outputEl, {childList: true});\n",
              "}}\n",
              "\n",
              "                        })                };                            </script>        </div>\n",
              "</body>\n",
              "</html>"
            ]
          },
          "metadata": {}
        }
      ]
    },
    {
      "cell_type": "code",
      "source": [
        "optuna.visualization.plot_param_importances(study)"
      ],
      "metadata": {
        "colab": {
          "base_uri": "https://localhost:8080/",
          "height": 542
        },
        "id": "YsyafkBBGso4",
        "outputId": "8481df60-bdd7-467a-bbea-2761cf3d54a1"
      },
      "execution_count": 19,
      "outputs": [
        {
          "output_type": "display_data",
          "data": {
            "text/html": [
              "<html>\n",
              "<head><meta charset=\"utf-8\" /></head>\n",
              "<body>\n",
              "    <div>            <script src=\"https://cdnjs.cloudflare.com/ajax/libs/mathjax/2.7.5/MathJax.js?config=TeX-AMS-MML_SVG\"></script><script type=\"text/javascript\">if (window.MathJax && window.MathJax.Hub && window.MathJax.Hub.Config) {window.MathJax.Hub.Config({SVG: {font: \"STIX-Web\"}});}</script>                <script type=\"text/javascript\">window.PlotlyConfig = {MathJaxConfig: 'local'};</script>\n",
              "        <script charset=\"utf-8\" src=\"https://cdn.plot.ly/plotly-2.24.1.min.js\"></script>                <div id=\"5047d450-2d5b-4869-a2e5-bd07b9511b79\" class=\"plotly-graph-div\" style=\"height:525px; width:100%;\"></div>            <script type=\"text/javascript\">                                    window.PLOTLYENV=window.PLOTLYENV || {};                                    if (document.getElementById(\"5047d450-2d5b-4869-a2e5-bd07b9511b79\")) {                    Plotly.newPlot(                        \"5047d450-2d5b-4869-a2e5-bd07b9511b79\",                        [{\"cliponaxis\":false,\"hovertemplate\":[\"drop_fc1 (FloatDistribution): 0.0006000963704571211\\u003cextra\\u003e\\u003c\\u002fextra\\u003e\",\"num_neurons (IntDistribution): 0.0030761695078555195\\u003cextra\\u003e\\u003c\\u002fextra\\u003e\",\"num_filter_0 (FloatDistribution): 0.0040568889663980005\\u003cextra\\u003e\\u003c\\u002fextra\\u003e\",\"num_filter_1 (FloatDistribution): 0.009226262711347367\\u003cextra\\u003e\\u003c\\u002fextra\\u003e\",\"optimizer (CategoricalDistribution): 0.009306425215996315\\u003cextra\\u003e\\u003c\\u002fextra\\u003e\",\"num_conv_layers (IntDistribution): 0.015203118397094975\\u003cextra\\u003e\\u003c\\u002fextra\\u003e\",\"drop_conv2 (FloatDistribution): 0.01760564940602378\\u003cextra\\u003e\\u003c\\u002fextra\\u003e\",\"lr (FloatDistribution): 0.9409253894248268\\u003cextra\\u003e\\u003c\\u002fextra\\u003e\"],\"name\":\"Objective Value\",\"orientation\":\"h\",\"text\":[\"\\u003c0.01\",\"\\u003c0.01\",\"\\u003c0.01\",\"\\u003c0.01\",\"\\u003c0.01\",\"0.02\",\"0.02\",\"0.94\"],\"textposition\":\"outside\",\"x\":[0.0006000963704571211,0.0030761695078555195,0.0040568889663980005,0.009226262711347367,0.009306425215996315,0.015203118397094975,0.01760564940602378,0.9409253894248268],\"y\":[\"drop_fc1\",\"num_neurons\",\"num_filter_0\",\"num_filter_1\",\"optimizer\",\"num_conv_layers\",\"drop_conv2\",\"lr\"],\"type\":\"bar\"}],                        {\"title\":{\"text\":\"Hyperparameter Importances\"},\"xaxis\":{\"title\":{\"text\":\"Hyperparameter Importance\"}},\"yaxis\":{\"title\":{\"text\":\"Hyperparameter\"}},\"template\":{\"data\":{\"histogram2dcontour\":[{\"type\":\"histogram2dcontour\",\"colorbar\":{\"outlinewidth\":0,\"ticks\":\"\"},\"colorscale\":[[0.0,\"#0d0887\"],[0.1111111111111111,\"#46039f\"],[0.2222222222222222,\"#7201a8\"],[0.3333333333333333,\"#9c179e\"],[0.4444444444444444,\"#bd3786\"],[0.5555555555555556,\"#d8576b\"],[0.6666666666666666,\"#ed7953\"],[0.7777777777777778,\"#fb9f3a\"],[0.8888888888888888,\"#fdca26\"],[1.0,\"#f0f921\"]]}],\"choropleth\":[{\"type\":\"choropleth\",\"colorbar\":{\"outlinewidth\":0,\"ticks\":\"\"}}],\"histogram2d\":[{\"type\":\"histogram2d\",\"colorbar\":{\"outlinewidth\":0,\"ticks\":\"\"},\"colorscale\":[[0.0,\"#0d0887\"],[0.1111111111111111,\"#46039f\"],[0.2222222222222222,\"#7201a8\"],[0.3333333333333333,\"#9c179e\"],[0.4444444444444444,\"#bd3786\"],[0.5555555555555556,\"#d8576b\"],[0.6666666666666666,\"#ed7953\"],[0.7777777777777778,\"#fb9f3a\"],[0.8888888888888888,\"#fdca26\"],[1.0,\"#f0f921\"]]}],\"heatmap\":[{\"type\":\"heatmap\",\"colorbar\":{\"outlinewidth\":0,\"ticks\":\"\"},\"colorscale\":[[0.0,\"#0d0887\"],[0.1111111111111111,\"#46039f\"],[0.2222222222222222,\"#7201a8\"],[0.3333333333333333,\"#9c179e\"],[0.4444444444444444,\"#bd3786\"],[0.5555555555555556,\"#d8576b\"],[0.6666666666666666,\"#ed7953\"],[0.7777777777777778,\"#fb9f3a\"],[0.8888888888888888,\"#fdca26\"],[1.0,\"#f0f921\"]]}],\"heatmapgl\":[{\"type\":\"heatmapgl\",\"colorbar\":{\"outlinewidth\":0,\"ticks\":\"\"},\"colorscale\":[[0.0,\"#0d0887\"],[0.1111111111111111,\"#46039f\"],[0.2222222222222222,\"#7201a8\"],[0.3333333333333333,\"#9c179e\"],[0.4444444444444444,\"#bd3786\"],[0.5555555555555556,\"#d8576b\"],[0.6666666666666666,\"#ed7953\"],[0.7777777777777778,\"#fb9f3a\"],[0.8888888888888888,\"#fdca26\"],[1.0,\"#f0f921\"]]}],\"contourcarpet\":[{\"type\":\"contourcarpet\",\"colorbar\":{\"outlinewidth\":0,\"ticks\":\"\"}}],\"contour\":[{\"type\":\"contour\",\"colorbar\":{\"outlinewidth\":0,\"ticks\":\"\"},\"colorscale\":[[0.0,\"#0d0887\"],[0.1111111111111111,\"#46039f\"],[0.2222222222222222,\"#7201a8\"],[0.3333333333333333,\"#9c179e\"],[0.4444444444444444,\"#bd3786\"],[0.5555555555555556,\"#d8576b\"],[0.6666666666666666,\"#ed7953\"],[0.7777777777777778,\"#fb9f3a\"],[0.8888888888888888,\"#fdca26\"],[1.0,\"#f0f921\"]]}],\"surface\":[{\"type\":\"surface\",\"colorbar\":{\"outlinewidth\":0,\"ticks\":\"\"},\"colorscale\":[[0.0,\"#0d0887\"],[0.1111111111111111,\"#46039f\"],[0.2222222222222222,\"#7201a8\"],[0.3333333333333333,\"#9c179e\"],[0.4444444444444444,\"#bd3786\"],[0.5555555555555556,\"#d8576b\"],[0.6666666666666666,\"#ed7953\"],[0.7777777777777778,\"#fb9f3a\"],[0.8888888888888888,\"#fdca26\"],[1.0,\"#f0f921\"]]}],\"mesh3d\":[{\"type\":\"mesh3d\",\"colorbar\":{\"outlinewidth\":0,\"ticks\":\"\"}}],\"scatter\":[{\"fillpattern\":{\"fillmode\":\"overlay\",\"size\":10,\"solidity\":0.2},\"type\":\"scatter\"}],\"parcoords\":[{\"type\":\"parcoords\",\"line\":{\"colorbar\":{\"outlinewidth\":0,\"ticks\":\"\"}}}],\"scatterpolargl\":[{\"type\":\"scatterpolargl\",\"marker\":{\"colorbar\":{\"outlinewidth\":0,\"ticks\":\"\"}}}],\"bar\":[{\"error_x\":{\"color\":\"#2a3f5f\"},\"error_y\":{\"color\":\"#2a3f5f\"},\"marker\":{\"line\":{\"color\":\"#E5ECF6\",\"width\":0.5},\"pattern\":{\"fillmode\":\"overlay\",\"size\":10,\"solidity\":0.2}},\"type\":\"bar\"}],\"scattergeo\":[{\"type\":\"scattergeo\",\"marker\":{\"colorbar\":{\"outlinewidth\":0,\"ticks\":\"\"}}}],\"scatterpolar\":[{\"type\":\"scatterpolar\",\"marker\":{\"colorbar\":{\"outlinewidth\":0,\"ticks\":\"\"}}}],\"histogram\":[{\"marker\":{\"pattern\":{\"fillmode\":\"overlay\",\"size\":10,\"solidity\":0.2}},\"type\":\"histogram\"}],\"scattergl\":[{\"type\":\"scattergl\",\"marker\":{\"colorbar\":{\"outlinewidth\":0,\"ticks\":\"\"}}}],\"scatter3d\":[{\"type\":\"scatter3d\",\"line\":{\"colorbar\":{\"outlinewidth\":0,\"ticks\":\"\"}},\"marker\":{\"colorbar\":{\"outlinewidth\":0,\"ticks\":\"\"}}}],\"scattermapbox\":[{\"type\":\"scattermapbox\",\"marker\":{\"colorbar\":{\"outlinewidth\":0,\"ticks\":\"\"}}}],\"scatterternary\":[{\"type\":\"scatterternary\",\"marker\":{\"colorbar\":{\"outlinewidth\":0,\"ticks\":\"\"}}}],\"scattercarpet\":[{\"type\":\"scattercarpet\",\"marker\":{\"colorbar\":{\"outlinewidth\":0,\"ticks\":\"\"}}}],\"carpet\":[{\"aaxis\":{\"endlinecolor\":\"#2a3f5f\",\"gridcolor\":\"white\",\"linecolor\":\"white\",\"minorgridcolor\":\"white\",\"startlinecolor\":\"#2a3f5f\"},\"baxis\":{\"endlinecolor\":\"#2a3f5f\",\"gridcolor\":\"white\",\"linecolor\":\"white\",\"minorgridcolor\":\"white\",\"startlinecolor\":\"#2a3f5f\"},\"type\":\"carpet\"}],\"table\":[{\"cells\":{\"fill\":{\"color\":\"#EBF0F8\"},\"line\":{\"color\":\"white\"}},\"header\":{\"fill\":{\"color\":\"#C8D4E3\"},\"line\":{\"color\":\"white\"}},\"type\":\"table\"}],\"barpolar\":[{\"marker\":{\"line\":{\"color\":\"#E5ECF6\",\"width\":0.5},\"pattern\":{\"fillmode\":\"overlay\",\"size\":10,\"solidity\":0.2}},\"type\":\"barpolar\"}],\"pie\":[{\"automargin\":true,\"type\":\"pie\"}]},\"layout\":{\"autotypenumbers\":\"strict\",\"colorway\":[\"#636efa\",\"#EF553B\",\"#00cc96\",\"#ab63fa\",\"#FFA15A\",\"#19d3f3\",\"#FF6692\",\"#B6E880\",\"#FF97FF\",\"#FECB52\"],\"font\":{\"color\":\"#2a3f5f\"},\"hovermode\":\"closest\",\"hoverlabel\":{\"align\":\"left\"},\"paper_bgcolor\":\"white\",\"plot_bgcolor\":\"#E5ECF6\",\"polar\":{\"bgcolor\":\"#E5ECF6\",\"angularaxis\":{\"gridcolor\":\"white\",\"linecolor\":\"white\",\"ticks\":\"\"},\"radialaxis\":{\"gridcolor\":\"white\",\"linecolor\":\"white\",\"ticks\":\"\"}},\"ternary\":{\"bgcolor\":\"#E5ECF6\",\"aaxis\":{\"gridcolor\":\"white\",\"linecolor\":\"white\",\"ticks\":\"\"},\"baxis\":{\"gridcolor\":\"white\",\"linecolor\":\"white\",\"ticks\":\"\"},\"caxis\":{\"gridcolor\":\"white\",\"linecolor\":\"white\",\"ticks\":\"\"}},\"coloraxis\":{\"colorbar\":{\"outlinewidth\":0,\"ticks\":\"\"}},\"colorscale\":{\"sequential\":[[0.0,\"#0d0887\"],[0.1111111111111111,\"#46039f\"],[0.2222222222222222,\"#7201a8\"],[0.3333333333333333,\"#9c179e\"],[0.4444444444444444,\"#bd3786\"],[0.5555555555555556,\"#d8576b\"],[0.6666666666666666,\"#ed7953\"],[0.7777777777777778,\"#fb9f3a\"],[0.8888888888888888,\"#fdca26\"],[1.0,\"#f0f921\"]],\"sequentialminus\":[[0.0,\"#0d0887\"],[0.1111111111111111,\"#46039f\"],[0.2222222222222222,\"#7201a8\"],[0.3333333333333333,\"#9c179e\"],[0.4444444444444444,\"#bd3786\"],[0.5555555555555556,\"#d8576b\"],[0.6666666666666666,\"#ed7953\"],[0.7777777777777778,\"#fb9f3a\"],[0.8888888888888888,\"#fdca26\"],[1.0,\"#f0f921\"]],\"diverging\":[[0,\"#8e0152\"],[0.1,\"#c51b7d\"],[0.2,\"#de77ae\"],[0.3,\"#f1b6da\"],[0.4,\"#fde0ef\"],[0.5,\"#f7f7f7\"],[0.6,\"#e6f5d0\"],[0.7,\"#b8e186\"],[0.8,\"#7fbc41\"],[0.9,\"#4d9221\"],[1,\"#276419\"]]},\"xaxis\":{\"gridcolor\":\"white\",\"linecolor\":\"white\",\"ticks\":\"\",\"title\":{\"standoff\":15},\"zerolinecolor\":\"white\",\"automargin\":true,\"zerolinewidth\":2},\"yaxis\":{\"gridcolor\":\"white\",\"linecolor\":\"white\",\"ticks\":\"\",\"title\":{\"standoff\":15},\"zerolinecolor\":\"white\",\"automargin\":true,\"zerolinewidth\":2},\"scene\":{\"xaxis\":{\"backgroundcolor\":\"#E5ECF6\",\"gridcolor\":\"white\",\"linecolor\":\"white\",\"showbackground\":true,\"ticks\":\"\",\"zerolinecolor\":\"white\",\"gridwidth\":2},\"yaxis\":{\"backgroundcolor\":\"#E5ECF6\",\"gridcolor\":\"white\",\"linecolor\":\"white\",\"showbackground\":true,\"ticks\":\"\",\"zerolinecolor\":\"white\",\"gridwidth\":2},\"zaxis\":{\"backgroundcolor\":\"#E5ECF6\",\"gridcolor\":\"white\",\"linecolor\":\"white\",\"showbackground\":true,\"ticks\":\"\",\"zerolinecolor\":\"white\",\"gridwidth\":2}},\"shapedefaults\":{\"line\":{\"color\":\"#2a3f5f\"}},\"annotationdefaults\":{\"arrowcolor\":\"#2a3f5f\",\"arrowhead\":0,\"arrowwidth\":1},\"geo\":{\"bgcolor\":\"white\",\"landcolor\":\"#E5ECF6\",\"subunitcolor\":\"white\",\"showland\":true,\"showlakes\":true,\"lakecolor\":\"white\"},\"title\":{\"x\":0.05},\"mapbox\":{\"style\":\"light\"}}}},                        {\"responsive\": true}                    ).then(function(){\n",
              "                            \n",
              "var gd = document.getElementById('5047d450-2d5b-4869-a2e5-bd07b9511b79');\n",
              "var x = new MutationObserver(function (mutations, observer) {{\n",
              "        var display = window.getComputedStyle(gd).display;\n",
              "        if (!display || display === 'none') {{\n",
              "            console.log([gd, 'removed!']);\n",
              "            Plotly.purge(gd);\n",
              "            observer.disconnect();\n",
              "        }}\n",
              "}});\n",
              "\n",
              "// Listen for the removal of the full notebook cells\n",
              "var notebookContainer = gd.closest('#notebook-container');\n",
              "if (notebookContainer) {{\n",
              "    x.observe(notebookContainer, {childList: true});\n",
              "}}\n",
              "\n",
              "// Listen for the clearing of the current output cell\n",
              "var outputEl = gd.closest('.output');\n",
              "if (outputEl) {{\n",
              "    x.observe(outputEl, {childList: true});\n",
              "}}\n",
              "\n",
              "                        })                };                            </script>        </div>\n",
              "</body>\n",
              "</html>"
            ]
          },
          "metadata": {}
        }
      ]
    }
  ]
}