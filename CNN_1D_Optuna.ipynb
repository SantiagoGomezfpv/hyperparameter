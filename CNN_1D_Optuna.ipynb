{
  "nbformat": 4,
  "nbformat_minor": 0,
  "metadata": {
    "colab": {
      "provenance": [],
      "authorship_tag": "ABX9TyMrubZ4Fc/oNtst9hQGIwUI",
      "include_colab_link": true
    },
    "kernelspec": {
      "name": "python3",
      "display_name": "Python 3"
    },
    "language_info": {
      "name": "python"
    }
  },
  "cells": [
    {
      "cell_type": "markdown",
      "metadata": {
        "id": "view-in-github",
        "colab_type": "text"
      },
      "source": [
        "<a href=\"https://colab.research.google.com/github/SantiagoGomezfpv/hyperparameter/blob/main/CNN_1D_Optuna.ipynb\" target=\"_parent\"><img src=\"https://colab.research.google.com/assets/colab-badge.svg\" alt=\"Open In Colab\"/></a>"
      ]
    },
    {
      "cell_type": "markdown",
      "source": [
        "# Optuna CNN 1D\n",
        "\n",
        "En este notebook, entrenaremos y optimizaremos una red neuronal convolucional 1D (CNN1D) para la clasificación de señales temporales utilizando el conjunto de datos **FordA**. El objetivo es encontrar la mejor configuración de hiperparámetros para maximizar la precisión del modelo mediante la biblioteca de optimización Optuna. Los hiperparámetros se ajustan a través de un proceso de búsqueda de hiperparámetros en varias configuraciones, con un enfoque en maximizar el rendimiento del modelo."
      ],
      "metadata": {
        "id": "mw5YTHUAgYI1"
      }
    },
    {
      "cell_type": "markdown",
      "source": [
        "## Primero, realizamos las instalaciones necesarias:"
      ],
      "metadata": {
        "id": "pi7iAYCEgwnn"
      }
    },
    {
      "cell_type": "code",
      "source": [
        "!pip install optuna scikit-learn xgboost matplotlib seaborn"
      ],
      "metadata": {
        "colab": {
          "base_uri": "https://localhost:8080/"
        },
        "id": "4ydZjbDEFREv",
        "outputId": "36efe7e7-8dcb-49e9-f415-514768843dfe"
      },
      "execution_count": 2,
      "outputs": [
        {
          "output_type": "stream",
          "name": "stdout",
          "text": [
            "Collecting optuna\n",
            "  Downloading optuna-4.0.0-py3-none-any.whl.metadata (16 kB)\n",
            "Requirement already satisfied: scikit-learn in /usr/local/lib/python3.10/dist-packages (1.5.2)\n",
            "Requirement already satisfied: xgboost in /usr/local/lib/python3.10/dist-packages (2.1.1)\n",
            "Requirement already satisfied: matplotlib in /usr/local/lib/python3.10/dist-packages (3.7.1)\n",
            "Requirement already satisfied: seaborn in /usr/local/lib/python3.10/dist-packages (0.13.2)\n",
            "Collecting alembic>=1.5.0 (from optuna)\n",
            "  Downloading alembic-1.13.3-py3-none-any.whl.metadata (7.4 kB)\n",
            "Collecting colorlog (from optuna)\n",
            "  Downloading colorlog-6.8.2-py3-none-any.whl.metadata (10 kB)\n",
            "Requirement already satisfied: numpy in /usr/local/lib/python3.10/dist-packages (from optuna) (1.26.4)\n",
            "Requirement already satisfied: packaging>=20.0 in /usr/local/lib/python3.10/dist-packages (from optuna) (24.1)\n",
            "Requirement already satisfied: sqlalchemy>=1.3.0 in /usr/local/lib/python3.10/dist-packages (from optuna) (2.0.35)\n",
            "Requirement already satisfied: tqdm in /usr/local/lib/python3.10/dist-packages (from optuna) (4.66.5)\n",
            "Requirement already satisfied: PyYAML in /usr/local/lib/python3.10/dist-packages (from optuna) (6.0.2)\n",
            "Requirement already satisfied: scipy>=1.6.0 in /usr/local/lib/python3.10/dist-packages (from scikit-learn) (1.13.1)\n",
            "Requirement already satisfied: joblib>=1.2.0 in /usr/local/lib/python3.10/dist-packages (from scikit-learn) (1.4.2)\n",
            "Requirement already satisfied: threadpoolctl>=3.1.0 in /usr/local/lib/python3.10/dist-packages (from scikit-learn) (3.5.0)\n",
            "Requirement already satisfied: nvidia-nccl-cu12 in /usr/local/lib/python3.10/dist-packages (from xgboost) (2.23.4)\n",
            "Requirement already satisfied: contourpy>=1.0.1 in /usr/local/lib/python3.10/dist-packages (from matplotlib) (1.3.0)\n",
            "Requirement already satisfied: cycler>=0.10 in /usr/local/lib/python3.10/dist-packages (from matplotlib) (0.12.1)\n",
            "Requirement already satisfied: fonttools>=4.22.0 in /usr/local/lib/python3.10/dist-packages (from matplotlib) (4.54.1)\n",
            "Requirement already satisfied: kiwisolver>=1.0.1 in /usr/local/lib/python3.10/dist-packages (from matplotlib) (1.4.7)\n",
            "Requirement already satisfied: pillow>=6.2.0 in /usr/local/lib/python3.10/dist-packages (from matplotlib) (10.4.0)\n",
            "Requirement already satisfied: pyparsing>=2.3.1 in /usr/local/lib/python3.10/dist-packages (from matplotlib) (3.1.4)\n",
            "Requirement already satisfied: python-dateutil>=2.7 in /usr/local/lib/python3.10/dist-packages (from matplotlib) (2.8.2)\n",
            "Requirement already satisfied: pandas>=1.2 in /usr/local/lib/python3.10/dist-packages (from seaborn) (2.2.2)\n",
            "Collecting Mako (from alembic>=1.5.0->optuna)\n",
            "  Downloading Mako-1.3.5-py3-none-any.whl.metadata (2.9 kB)\n",
            "Requirement already satisfied: typing-extensions>=4 in /usr/local/lib/python3.10/dist-packages (from alembic>=1.5.0->optuna) (4.12.2)\n",
            "Requirement already satisfied: pytz>=2020.1 in /usr/local/lib/python3.10/dist-packages (from pandas>=1.2->seaborn) (2024.2)\n",
            "Requirement already satisfied: tzdata>=2022.7 in /usr/local/lib/python3.10/dist-packages (from pandas>=1.2->seaborn) (2024.2)\n",
            "Requirement already satisfied: six>=1.5 in /usr/local/lib/python3.10/dist-packages (from python-dateutil>=2.7->matplotlib) (1.16.0)\n",
            "Requirement already satisfied: greenlet!=0.4.17 in /usr/local/lib/python3.10/dist-packages (from sqlalchemy>=1.3.0->optuna) (3.1.1)\n",
            "Requirement already satisfied: MarkupSafe>=0.9.2 in /usr/local/lib/python3.10/dist-packages (from Mako->alembic>=1.5.0->optuna) (3.0.1)\n",
            "Downloading optuna-4.0.0-py3-none-any.whl (362 kB)\n",
            "\u001b[2K   \u001b[90m━━━━━━━━━━━━━━━━━━━━━━━━━━━━━━━━━━━━━━━━\u001b[0m \u001b[32m362.8/362.8 kB\u001b[0m \u001b[31m4.2 MB/s\u001b[0m eta \u001b[36m0:00:00\u001b[0m\n",
            "\u001b[?25hDownloading alembic-1.13.3-py3-none-any.whl (233 kB)\n",
            "\u001b[2K   \u001b[90m━━━━━━━━━━━━━━━━━━━━━━━━━━━━━━━━━━━━━━━━\u001b[0m \u001b[32m233.2/233.2 kB\u001b[0m \u001b[31m14.6 MB/s\u001b[0m eta \u001b[36m0:00:00\u001b[0m\n",
            "\u001b[?25hDownloading colorlog-6.8.2-py3-none-any.whl (11 kB)\n",
            "Downloading Mako-1.3.5-py3-none-any.whl (78 kB)\n",
            "\u001b[2K   \u001b[90m━━━━━━━━━━━━━━━━━━━━━━━━━━━━━━━━━━━━━━━━\u001b[0m \u001b[32m78.6/78.6 kB\u001b[0m \u001b[31m7.0 MB/s\u001b[0m eta \u001b[36m0:00:00\u001b[0m\n",
            "\u001b[?25hInstalling collected packages: Mako, colorlog, alembic, optuna\n",
            "Successfully installed Mako-1.3.5 alembic-1.13.3 colorlog-6.8.2 optuna-4.0.0\n"
          ]
        }
      ]
    },
    {
      "cell_type": "markdown",
      "source": [
        "## Segundo, importamos las bibliotecas necesarias:"
      ],
      "metadata": {
        "id": "RiefodwOg7zY"
      }
    },
    {
      "cell_type": "code",
      "source": [
        "import optuna\n",
        "import torch\n",
        "import torch.nn as nn\n",
        "import torch.nn.functional as F\n",
        "import torch.optim as optim\n",
        "from torch.utils.data import DataLoader, TensorDataset\n",
        "from sklearn.metrics import classification_report, confusion_matrix\n",
        "import seaborn as sns\n",
        "import matplotlib.pyplot as plt\n",
        "import numpy as np\n",
        "from sklearn.model_selection import train_test_split\n",
        "from sklearn.preprocessing import StandardScaler\n",
        "import urllib.request\n",
        "import os"
      ],
      "metadata": {
        "id": "7EN0h-66g9Qg"
      },
      "execution_count": 10,
      "outputs": []
    },
    {
      "cell_type": "markdown",
      "source": [
        "## Conjunto de Datos\n",
        "El conjunto de datos **FordA** proviene del UCR Time Series Classification Archive y contiene datos de series temporales de un problema de diagnóstico de motores. Se compone de dos clases: 0 y 1, representando la condición del motor. Cada muestra es una secuencia de 500 puntos que corresponden a una señal temporal de voltaje. En este notebook, descargaremos y preprocesaremos los datos, y convertiremos las etiquetas a un formato binario (0 y 1).\n",
        "\n",
        "## Preprocesamiento de Datos:\n",
        "* **Descarga de los Datos:** Los archivos de entrenamiento y prueba se descargan desde el repositorio público.\n",
        "* **Separación de Características y Etiquetas:** Las características corresponden a los valores de la serie temporal, y las etiquetas representan la clase.\n",
        "* **Conversión de Etiquetas:** Se ajustan las etiquetas de -1 y 1 a 0 y 1, respectivamente, para una clasificación binaria.\n",
        "* **División en Entrenamiento y Validación:** Separamos el conjunto de datos de entrenamiento en dos subconjuntos: entrenamiento y validación, para evaluar el modelo.\n",
        "* **Normalización:** Se utiliza un escalador estándar para normalizar los datos, de manera que cada característica tenga media cero y desviación estándar uno.\n"
      ],
      "metadata": {
        "id": "l9JQ6XlRhE44"
      }
    },
    {
      "cell_type": "code",
      "execution_count": 5,
      "metadata": {
        "id": "9x-EsotDDfpS"
      },
      "outputs": [],
      "source": [
        "# Descargar los archivos de FordA directamente\n",
        "train_data_url = \"https://raw.githubusercontent.com/hfawaz/cd-diagram/master/FordA/FordA_TRAIN.tsv\"\n",
        "test_data_url = \"https://raw.githubusercontent.com/hfawaz/cd-diagram/master/FordA/FordA_TEST.tsv\"\n",
        "\n",
        "train_data_path = \"FordA_TRAIN.tsv\"\n",
        "test_data_path = \"FordA_TEST.tsv\"\n",
        "\n",
        "if not os.path.exists(train_data_path):\n",
        "    urllib.request.urlretrieve(train_data_url, train_data_path)\n",
        "\n",
        "if not os.path.exists(test_data_path):\n",
        "    urllib.request.urlretrieve(test_data_url, test_data_path)\n",
        "\n",
        "# Cargar los datos\n",
        "train_data = np.loadtxt(train_data_path)\n",
        "test_data = np.loadtxt(test_data_path)\n",
        "\n",
        "# Separar características y etiquetas\n",
        "X_train = train_data[:, 1:]\n",
        "y_train = train_data[:, 0].astype(int)\n",
        "X_test = test_data[:, 1:]\n",
        "y_test = test_data[:, 0].astype(int)\n",
        "\n",
        "# Convertir las etiquetas de -1 y 1 a 0 y 1 para la clasificación binaria\n",
        "y_train = np.where(y_train == -1, 0, 1)\n",
        "y_test = np.where(y_test == -1, 0, 1)\n",
        "\n",
        "# Dividir el conjunto de entrenamiento en entrenamiento y validación\n",
        "X_ai_train, X_ai_val, y_train, y_val = train_test_split(X_train, y_train, test_size=0.2, random_state=42)\n",
        "\n",
        "# Escalar los datos\n",
        "scaler = StandardScaler()\n",
        "X_ai_train = scaler.fit_transform(X_ai_train)\n",
        "X_ai_val = scaler.transform(X_ai_val)\n",
        "X_ai_test = scaler.transform(X_test)\n",
        "\n",
        "# Convertir los datos a tensores y asegurar que las etiquetas sean 1D\n",
        "X_ai_train = torch.tensor(X_ai_train, dtype=torch.float32)\n",
        "y_train = torch.tensor(y_train.squeeze(), dtype=torch.long)\n",
        "X_ai_val = torch.tensor(X_ai_val, dtype=torch.float32)\n",
        "y_val = torch.tensor(y_val.squeeze(), dtype=torch.long)\n",
        "X_ai_test = torch.tensor(X_ai_test, dtype=torch.float32)\n",
        "y_test = torch.tensor(y_test.squeeze(), dtype=torch.long)\n",
        "\n",
        "# Definir el dispositivo como CUDA si está disponible, de lo contrario usar CPU\n",
        "device = torch.device(\"cuda\" if torch.cuda.is_available() else \"cpu\")"
      ]
    },
    {
      "cell_type": "markdown",
      "source": [
        "## Arquitectura del Modelo CNN1D\n",
        "La red se define de manera flexible para adaptarse a las configuraciones propuestas por Optuna:\n",
        "\n",
        "* **Número de Capas Convolucionales (num_conv_layers):** Se optimiza entre 2 y 4 capas.\n",
        "* **Número de Filtros (num_filter_i):** El número de filtros de cada capa se optimiza en un rango de 16 a 512 en pasos de 16.\n",
        "* **Neuronas en la Capa Oculta (num_neurons):** Número de neuronas en la capa densa intermedia, optimizado en un rango de 10 a 400 en pasos de 10.\n",
        "* **Dropout en la Segunda Capa Convolucional (drop_conv2):** Valor de dropout para evitar sobreajuste, optimizado entre 0.2 y 0.5.\n",
        "* **Dropout en la Capa Oculta (drop_fc1):** Dropout aplicado a la capa totalmente conectada, con un rango de 0.2 a 0.5.\n",
        "\n",
        "## Optimización de Hiperparámetros con Optuna\n",
        "Para encontrar la mejor configuración, Optuna optimiza los siguientes hiperparámetros:\n",
        "\n",
        "* **Optimizador (optimizer):** Se elige entre Adam, RMSprop y SGD.\n",
        "* **Tasa de Aprendizaje (lr):** Se ajusta en un rango logarítmico de 0.001 a 0.1.\n",
        "* **Número de Capas Convolucionales (num_conv_layers):** De 2 a 4 capas.\n",
        "* **Número de Filtros en Cada Capa (num_filter_i):** Rango de 16 a 512 con incrementos de 16.\n",
        "* **Número de Neuronas en la Capa Oculta (num_neurons):** Rango de 10 a 400 en incrementos de 10.\n",
        "* **Dropout en la Segunda Capa Convolucional (drop_conv2) y la Capa Oculta (drop_fc1):** Rango de 0.2 a 0.5.\n",
        "\n",
        "El objetivo de la optimización es maximizar la precisión de clasificación en el conjunto de validación.\n",
        "\n",
        "## Evaluación del Modelo\n",
        "Después de optimizar el modelo, se entrena con los mejores hiperparámetros en el conjunto de entrenamiento completo y se evalúa tanto en el conjunto de validación como en el de prueba. Las métricas de evaluación incluyen:\n",
        "\n",
        "Reporte de Clasificación: Precisión, recall y F1-score para cada clase.\n",
        "Matriz de Confusión: Visualización de los errores de clasificación.\n"
      ],
      "metadata": {
        "id": "Z88Ew-xgh7hf"
      }
    },
    {
      "cell_type": "code",
      "source": [
        "# Definición de la CNN 1D\n",
        "class Net(nn.Module):\n",
        "    def __init__(self, trial, input_length):\n",
        "        super(Net, self).__init__()\n",
        "        num_conv_layers = trial.suggest_int(\"num_conv_layers\", 2, 4)\n",
        "        num_filters = [int(trial.suggest_discrete_uniform(\"num_filter_\" + str(i), 16, 512, 16))\n",
        "                       for i in range(num_conv_layers)]\n",
        "        num_neurons = trial.suggest_int(\"num_neurons\", 10, 400, 10)\n",
        "        drop_conv2 = trial.suggest_float(\"drop_conv2\", 0.2, 0.5)\n",
        "        drop_fc1 = trial.suggest_float(\"drop_fc1\", 0.2, 0.5)\n",
        "\n",
        "        self.convs = nn.ModuleList()\n",
        "        in_channels = 1\n",
        "        self.pool = nn.MaxPool1d(2)\n",
        "\n",
        "        for i, out_channels in enumerate(num_filters):\n",
        "            self.convs.append(nn.Conv1d(in_channels, out_channels, kernel_size=3, padding=1))\n",
        "            self.convs.append(nn.ReLU())\n",
        "            self.convs.append(self.pool)\n",
        "            in_channels = out_channels\n",
        "            if i == 1:  # Aplicar dropout después de la segunda capa convolucional\n",
        "                self.convs.append(nn.Dropout(drop_conv2))\n",
        "\n",
        "        # Calcular la longitud de la secuencia después de las capas convolucionales y de pooling\n",
        "        conv_output_size = input_length\n",
        "        for _ in range(num_conv_layers):\n",
        "            conv_output_size = (conv_output_size - 3 + 2 * 1) // 1 + 1\n",
        "            conv_output_size = int(conv_output_size / 2)\n",
        "\n",
        "        self.fc1 = nn.Linear(num_filters[-1] * conv_output_size, num_neurons)\n",
        "        self.drop_fc1 = nn.Dropout(drop_fc1)\n",
        "        self.fc2 = nn.Linear(num_neurons, 10)\n",
        "\n",
        "    def forward(self, x):\n",
        "        x = x.unsqueeze(1)\n",
        "        for layer in self.convs:\n",
        "            x = layer(x)\n",
        "        x = x.view(x.size(0), -1)\n",
        "        x = F.relu(self.fc1(x))\n",
        "        x = self.drop_fc1(x)\n",
        "        x = self.fc2(x)\n",
        "        return x\n",
        "\n",
        "# Función objetivo para Optuna\n",
        "def objective(trial):\n",
        "    # Crear datasets y dataloaders\n",
        "    train_dataset = TensorDataset(X_ai_train, y_train)\n",
        "    val_dataset = TensorDataset(X_ai_val, y_val)\n",
        "    test_dataset = TensorDataset(X_ai_test, y_test)\n",
        "\n",
        "    train_loader = DataLoader(train_dataset, batch_size=64, shuffle=True)\n",
        "    val_loader = DataLoader(val_dataset, batch_size=64, shuffle=True)\n",
        "    test_loader = DataLoader(test_dataset, batch_size=64, shuffle=False)\n",
        "\n",
        "    input_length = X_ai_train.shape[1]\n",
        "    model = Net(trial, input_length).to(device)\n",
        "\n",
        "    optimizer_name = trial.suggest_categorical('optimizer', ['Adam', 'RMSprop', 'SGD'])\n",
        "    lr = trial.suggest_loguniform('lr', 1e-3, 1e-1)\n",
        "    optimizer = getattr(optim, optimizer_name)(model.parameters(), lr=lr)\n",
        "\n",
        "    # Entrenamiento de la red\n",
        "    model.train()\n",
        "    for epoch in range(2):\n",
        "        for data, target in train_loader:\n",
        "            data, target = data.to(device), target.to(device)\n",
        "            optimizer.zero_grad()\n",
        "            output = model(data)\n",
        "            loss = F.cross_entropy(output, target)\n",
        "            loss.backward()\n",
        "            optimizer.step()\n",
        "\n",
        "    # Validación de la red\n",
        "    correct = 0\n",
        "    total = 0\n",
        "    with torch.no_grad():\n",
        "        for data, target in val_loader:\n",
        "            data, target = data.to(device), target.to(device)\n",
        "            outputs = model(data)\n",
        "            _, predicted = torch.max(outputs.data, 1)\n",
        "            total += target.size(0)\n",
        "            correct += (predicted == target).sum().item()\n",
        "\n",
        "    accuracy = correct / total\n",
        "    return accuracy\n",
        "\n",
        "# Crear un estudio de Optuna y encontrar los mejores hiperparámetros\n",
        "study = optuna.create_study(direction='maximize')\n",
        "study.optimize(objective, n_trials=50)\n",
        "\n",
        "# Imprimir los mejores hiperparámetros encontrados\n",
        "print(\"Mejores hiperparámetros:\", study.best_params)\n",
        "\n",
        "# Evaluar el modelo\n",
        "def evaluate_model(model, dataloader, y_true):\n",
        "    model.eval()\n",
        "    y_pred = []\n",
        "    with torch.no_grad():\n",
        "        for data in dataloader:\n",
        "            images, labels = data\n",
        "            images = images.to(device)\n",
        "            outputs = model(images)\n",
        "            _, predicted = torch.max(outputs.data, 1)\n",
        "            y_pred.extend(predicted.cpu().numpy())\n",
        "    y_pred = np.array(y_pred)\n",
        "    print(classification_report(y_true, y_pred))\n",
        "    conf_matrix = confusion_matrix(y_true, y_pred)\n",
        "    sns.heatmap(conf_matrix, annot=True, fmt='d', cmap='Blues')\n",
        "    plt.show()\n",
        "\n",
        "# Entrenar el mejor modelo en el conjunto de entrenamiento completo\n",
        "best_trial = study.best_trial\n",
        "input_length = X_ai_train.shape[1]\n",
        "best_model = Net(best_trial, input_length).to(device)\n",
        "optimizer_name = best_trial.params['optimizer']\n",
        "lr = best_trial.params['lr']\n",
        "optimizer = getattr(optim, optimizer_name)(best_model.parameters(), lr=lr)\n",
        "\n",
        "# Crear dataloaders completos\n",
        "train_loader = DataLoader(TensorDataset(X_ai_train, y_train), batch_size=64, shuffle=True)\n",
        "val_loader = DataLoader(TensorDataset(X_ai_val, y_val), batch_size=64, shuffle=False)\n",
        "test_loader = DataLoader(TensorDataset(X_ai_test, y_test), batch_size=64, shuffle=False)\n",
        "\n",
        "# Entrenar el modelo con los mejores hiperparámetros\n",
        "best_model.train()\n",
        "for epoch in range(5):\n",
        "    for data, target in train_loader:\n",
        "        data, target = data.to(device), target.to(device)\n",
        "        optimizer.zero_grad()\n",
        "        output = best_model(data)\n",
        "        loss = F.cross_entropy(output, target)\n",
        "        loss.backward()\n",
        "        optimizer.step()\n",
        "\n",
        "# Evaluación en conjunto de validación\n",
        "print(\"Validation Classification Report:\")\n",
        "evaluate_model(best_model, val_loader, y_val)\n",
        "\n",
        "# Evaluación en conjunto de prueba\n",
        "print(\"Test Classification Report:\")\n",
        "evaluate_model(best_model, test_loader, y_test)"
      ],
      "metadata": {
        "colab": {
          "base_uri": "https://localhost:8080/",
          "height": 1000
        },
        "id": "CBkOkENmFLIe",
        "outputId": "0ba61c4f-afe3-47e7-e934-4e4e312ebc1b"
      },
      "execution_count": 6,
      "outputs": [
        {
          "output_type": "stream",
          "name": "stderr",
          "text": [
            "[I 2024-10-14 17:35:24,657] A new study created in memory with name: no-name-bfb34d86-0bbb-4bce-b477-6d2ccc1b801d\n",
            "<ipython-input-6-7c15f5e26bb8>:6: FutureWarning: suggest_discrete_uniform has been deprecated in v3.0.0. This feature will be removed in v6.0.0. See https://github.com/optuna/optuna/releases/tag/v3.0.0. Use suggest_float(..., step=...) instead.\n",
            "  num_filters = [int(trial.suggest_discrete_uniform(\"num_filter_\" + str(i), 16, 512, 16))\n",
            "<ipython-input-6-7c15f5e26bb8>:8: FutureWarning: suggest_int() got {'step'} as positional arguments but they were expected to be given as keyword arguments.\n",
            "  num_neurons = trial.suggest_int(\"num_neurons\", 10, 400, 10)\n",
            "<ipython-input-6-7c15f5e26bb8>:59: FutureWarning: suggest_loguniform has been deprecated in v3.0.0. This feature will be removed in v6.0.0. See https://github.com/optuna/optuna/releases/tag/v3.0.0. Use suggest_float(..., log=True) instead.\n",
            "  lr = trial.suggest_loguniform('lr', 1e-3, 1e-1)\n",
            "[I 2024-10-14 17:36:42,223] Trial 0 finished with value: 0.5117891816920943 and parameters: {'num_conv_layers': 3, 'num_filter_0': 64.0, 'num_filter_1': 272.0, 'num_filter_2': 464.0, 'num_neurons': 290, 'drop_conv2': 0.3160252176998691, 'drop_fc1': 0.34064684572466664, 'optimizer': 'RMSprop', 'lr': 0.020426679072202532}. Best is trial 0 with value: 0.5117891816920943.\n",
            "<ipython-input-6-7c15f5e26bb8>:6: FutureWarning: suggest_discrete_uniform has been deprecated in v3.0.0. This feature will be removed in v6.0.0. See https://github.com/optuna/optuna/releases/tag/v3.0.0. Use suggest_float(..., step=...) instead.\n",
            "  num_filters = [int(trial.suggest_discrete_uniform(\"num_filter_\" + str(i), 16, 512, 16))\n",
            "<ipython-input-6-7c15f5e26bb8>:8: FutureWarning: suggest_int() got {'step'} as positional arguments but they were expected to be given as keyword arguments.\n",
            "  num_neurons = trial.suggest_int(\"num_neurons\", 10, 400, 10)\n",
            "<ipython-input-6-7c15f5e26bb8>:59: FutureWarning: suggest_loguniform has been deprecated in v3.0.0. This feature will be removed in v6.0.0. See https://github.com/optuna/optuna/releases/tag/v3.0.0. Use suggest_float(..., log=True) instead.\n",
            "  lr = trial.suggest_loguniform('lr', 1e-3, 1e-1)\n",
            "[I 2024-10-14 17:37:38,564] Trial 1 finished with value: 0.4854368932038835 and parameters: {'num_conv_layers': 2, 'num_filter_0': 272.0, 'num_filter_1': 176.0, 'num_neurons': 170, 'drop_conv2': 0.40158597961459075, 'drop_fc1': 0.26575172458888385, 'optimizer': 'RMSprop', 'lr': 0.010791965477890717}. Best is trial 0 with value: 0.5117891816920943.\n",
            "[I 2024-10-14 17:41:38,085] Trial 2 finished with value: 0.5228848821081831 and parameters: {'num_conv_layers': 4, 'num_filter_0': 496.0, 'num_filter_1': 464.0, 'num_filter_2': 304.0, 'num_filter_3': 336.0, 'num_neurons': 280, 'drop_conv2': 0.32266009669118845, 'drop_fc1': 0.4707713223361541, 'optimizer': 'Adam', 'lr': 0.0016430846144135692}. Best is trial 2 with value: 0.5228848821081831.\n",
            "[I 2024-10-14 17:42:34,274] Trial 3 finished with value: 0.4868238557558946 and parameters: {'num_conv_layers': 2, 'num_filter_0': 352.0, 'num_filter_1': 176.0, 'num_neurons': 100, 'drop_conv2': 0.31581316026782885, 'drop_fc1': 0.37702729388366985, 'optimizer': 'SGD', 'lr': 0.0011902314061214075}. Best is trial 2 with value: 0.5228848821081831.\n",
            "[I 2024-10-14 17:43:34,230] Trial 4 finished with value: 0.5048543689320388 and parameters: {'num_conv_layers': 3, 'num_filter_0': 288.0, 'num_filter_1': 256.0, 'num_filter_2': 16.0, 'num_neurons': 160, 'drop_conv2': 0.255326989808484, 'drop_fc1': 0.449015675104702, 'optimizer': 'RMSprop', 'lr': 0.0022033330293411767}. Best is trial 2 with value: 0.5228848821081831.\n",
            "[I 2024-10-14 17:44:09,307] Trial 5 finished with value: 0.49791955617198336 and parameters: {'num_conv_layers': 4, 'num_filter_0': 32.0, 'num_filter_1': 32.0, 'num_filter_2': 304.0, 'num_filter_3': 416.0, 'num_neurons': 230, 'drop_conv2': 0.47749787681767275, 'drop_fc1': 0.44858445577021133, 'optimizer': 'RMSprop', 'lr': 0.07117255312120932}. Best is trial 2 with value: 0.5228848821081831.\n",
            "[I 2024-10-14 17:45:34,293] Trial 6 finished with value: 0.5284327323162274 and parameters: {'num_conv_layers': 4, 'num_filter_0': 288.0, 'num_filter_1': 304.0, 'num_filter_2': 176.0, 'num_filter_3': 80.0, 'num_neurons': 130, 'drop_conv2': 0.28570757102781874, 'drop_fc1': 0.2971561446713406, 'optimizer': 'Adam', 'lr': 0.0046061428393493024}. Best is trial 6 with value: 0.5284327323162274.\n",
            "[I 2024-10-14 17:47:45,145] Trial 7 finished with value: 0.4895977808599168 and parameters: {'num_conv_layers': 4, 'num_filter_0': 288.0, 'num_filter_1': 464.0, 'num_filter_2': 160.0, 'num_filter_3': 256.0, 'num_neurons': 130, 'drop_conv2': 0.21556326143091933, 'drop_fc1': 0.26632026486119076, 'optimizer': 'Adam', 'lr': 0.013908892941294541}. Best is trial 6 with value: 0.5284327323162274.\n",
            "[I 2024-10-14 17:48:30,933] Trial 8 finished with value: 0.5048543689320388 and parameters: {'num_conv_layers': 2, 'num_filter_0': 96.0, 'num_filter_1': 304.0, 'num_neurons': 310, 'drop_conv2': 0.3467319562444945, 'drop_fc1': 0.38778959244583816, 'optimizer': 'RMSprop', 'lr': 0.0319638262518997}. Best is trial 6 with value: 0.5284327323162274.\n",
            "[I 2024-10-14 17:48:42,596] Trial 9 finished with value: 0.5173370319001387 and parameters: {'num_conv_layers': 2, 'num_filter_0': 32.0, 'num_filter_1': 112.0, 'num_neurons': 390, 'drop_conv2': 0.3037006725704413, 'drop_fc1': 0.4465451277543031, 'optimizer': 'SGD', 'lr': 0.002049229901597062}. Best is trial 6 with value: 0.5284327323162274.\n",
            "[I 2024-10-14 17:51:15,563] Trial 10 finished with value: 0.4854368932038835 and parameters: {'num_conv_layers': 4, 'num_filter_0': 432.0, 'num_filter_1': 368.0, 'num_filter_2': 128.0, 'num_filter_3': 32.0, 'num_neurons': 10, 'drop_conv2': 0.4022299905904584, 'drop_fc1': 0.2275932589033962, 'optimizer': 'Adam', 'lr': 0.0057688951776079045}. Best is trial 6 with value: 0.5284327323162274.\n",
            "[I 2024-10-14 17:55:15,428] Trial 11 finished with value: 0.5131761442441054 and parameters: {'num_conv_layers': 4, 'num_filter_0': 480.0, 'num_filter_1': 496.0, 'num_filter_2': 320.0, 'num_filter_3': 240.0, 'num_neurons': 240, 'drop_conv2': 0.2556198063178135, 'drop_fc1': 0.31543700389509133, 'optimizer': 'Adam', 'lr': 0.004714720162549244}. Best is trial 6 with value: 0.5284327323162274.\n",
            "[I 2024-10-14 17:56:39,247] Trial 12 finished with value: 0.4895977808599168 and parameters: {'num_conv_layers': 3, 'num_filter_0': 192.0, 'num_filter_1': 400.0, 'num_filter_2': 208.0, 'num_neurons': 60, 'drop_conv2': 0.3852524880056552, 'drop_fc1': 0.4819333528877349, 'optimizer': 'Adam', 'lr': 0.003911415310222441}. Best is trial 6 with value: 0.5284327323162274.\n",
            "[I 2024-10-14 17:59:43,371] Trial 13 finished with value: 0.5866851595006934 and parameters: {'num_conv_layers': 4, 'num_filter_0': 400.0, 'num_filter_1': 416.0, 'num_filter_2': 384.0, 'num_filter_3': 80.0, 'num_neurons': 360, 'drop_conv2': 0.2638497612704053, 'drop_fc1': 0.31049068448134515, 'optimizer': 'Adam', 'lr': 0.0010118937868334168}. Best is trial 13 with value: 0.5866851595006934.\n",
            "[I 2024-10-14 18:02:20,753] Trial 14 finished with value: 0.5256588072122053 and parameters: {'num_conv_layers': 4, 'num_filter_0': 384.0, 'num_filter_1': 352.0, 'num_filter_2': 480.0, 'num_filter_3': 48.0, 'num_neurons': 390, 'drop_conv2': 0.25269471701548585, 'drop_fc1': 0.3033176798216675, 'optimizer': 'Adam', 'lr': 0.0033198204446252062}. Best is trial 13 with value: 0.5866851595006934.\n",
            "[I 2024-10-14 18:04:28,675] Trial 15 finished with value: 0.6740638002773925 and parameters: {'num_conv_layers': 3, 'num_filter_0': 192.0, 'num_filter_1': 416.0, 'num_filter_2': 400.0, 'num_neurons': 350, 'drop_conv2': 0.20090088825764968, 'drop_fc1': 0.20260109282732963, 'optimizer': 'Adam', 'lr': 0.0011225922970406006}. Best is trial 15 with value: 0.6740638002773925.\n",
            "[I 2024-10-14 18:06:21,963] Trial 16 finished with value: 0.4882108183079057 and parameters: {'num_conv_layers': 3, 'num_filter_0': 144.0, 'num_filter_1': 432.0, 'num_filter_2': 400.0, 'num_neurons': 350, 'drop_conv2': 0.21046493191705887, 'drop_fc1': 0.20205691717918606, 'optimizer': 'SGD', 'lr': 0.0010268038621727082}. Best is trial 15 with value: 0.6740638002773925.\n",
            "[I 2024-10-14 18:08:54,029] Trial 17 finished with value: 0.694868238557559 and parameters: {'num_conv_layers': 3, 'num_filter_0': 192.0, 'num_filter_1': 512.0, 'num_filter_2': 400.0, 'num_neurons': 360, 'drop_conv2': 0.2018908910056164, 'drop_fc1': 0.24874327151520018, 'optimizer': 'Adam', 'lr': 0.0010630911095044675}. Best is trial 17 with value: 0.694868238557559.\n",
            "[I 2024-10-14 18:11:46,925] Trial 18 finished with value: 0.5104022191400832 and parameters: {'num_conv_layers': 3, 'num_filter_0': 192.0, 'num_filter_1': 512.0, 'num_filter_2': 400.0, 'num_neurons': 330, 'drop_conv2': 0.2144201921947288, 'drop_fc1': 0.23913284617549335, 'optimizer': 'Adam', 'lr': 0.007221469127152919}. Best is trial 17 with value: 0.694868238557559.\n",
            "[I 2024-10-14 18:14:40,246] Trial 19 finished with value: 0.6768377253814147 and parameters: {'num_conv_layers': 3, 'num_filter_0': 192.0, 'num_filter_1': 512.0, 'num_filter_2': 512.0, 'num_neurons': 260, 'drop_conv2': 0.47969263897843284, 'drop_fc1': 0.20214399542095202, 'optimizer': 'Adam', 'lr': 0.0028973812348919727}. Best is trial 17 with value: 0.694868238557559.\n",
            "[I 2024-10-14 18:17:02,927] Trial 20 finished with value: 0.5423023578363384 and parameters: {'num_conv_layers': 3, 'num_filter_0': 128.0, 'num_filter_1': 512.0, 'num_filter_2': 512.0, 'num_neurons': 260, 'drop_conv2': 0.49574852615996756, 'drop_fc1': 0.2556491993143284, 'optimizer': 'SGD', 'lr': 0.0029180744818246905}. Best is trial 17 with value: 0.694868238557559.\n",
            "[I 2024-10-14 18:19:39,524] Trial 21 finished with value: 0.680998613037448 and parameters: {'num_conv_layers': 3, 'num_filter_0': 224.0, 'num_filter_1': 464.0, 'num_filter_2': 432.0, 'num_neurons': 400, 'drop_conv2': 0.45342269352119485, 'drop_fc1': 0.21007365030998448, 'optimizer': 'Adam', 'lr': 0.001752304001083446}. Best is trial 17 with value: 0.694868238557559.\n",
            "[I 2024-10-14 18:22:17,815] Trial 22 finished with value: 0.49653259361997226 and parameters: {'num_conv_layers': 3, 'num_filter_0': 224.0, 'num_filter_1': 464.0, 'num_filter_2': 448.0, 'num_neurons': 400, 'drop_conv2': 0.4495065270809783, 'drop_fc1': 0.22372450115527848, 'optimizer': 'Adam', 'lr': 0.0021201915808007742}. Best is trial 17 with value: 0.694868238557559.\n",
            "[I 2024-10-14 18:25:22,245] Trial 23 finished with value: 0.7128987517337032 and parameters: {'num_conv_layers': 3, 'num_filter_0': 240.0, 'num_filter_1': 512.0, 'num_filter_2': 512.0, 'num_neurons': 310, 'drop_conv2': 0.4467297041876408, 'drop_fc1': 0.2752556794394702, 'optimizer': 'Adam', 'lr': 0.0016056510617866715}. Best is trial 23 with value: 0.7128987517337032.\n",
            "[I 2024-10-14 18:28:20,064] Trial 24 finished with value: 0.6338418862690708 and parameters: {'num_conv_layers': 3, 'num_filter_0': 336.0, 'num_filter_1': 464.0, 'num_filter_2': 352.0, 'num_neurons': 320, 'drop_conv2': 0.43417433559400365, 'drop_fc1': 0.2855921946784169, 'optimizer': 'Adam', 'lr': 0.0016034348356519699}. Best is trial 23 with value: 0.7128987517337032.\n",
            "[I 2024-10-14 18:30:39,039] Trial 25 finished with value: 0.7004160887656034 and parameters: {'num_conv_layers': 3, 'num_filter_0': 240.0, 'num_filter_1': 368.0, 'num_filter_2': 448.0, 'num_neurons': 370, 'drop_conv2': 0.4397536621048026, 'drop_fc1': 0.2456982242737973, 'optimizer': 'Adam', 'lr': 0.0015662252490042062}. Best is trial 23 with value: 0.7128987517337032.\n",
            "[I 2024-10-14 18:32:21,559] Trial 26 finished with value: 0.5575589459084604 and parameters: {'num_conv_layers': 2, 'num_filter_0': 240.0, 'num_filter_1': 368.0, 'num_neurons': 360, 'drop_conv2': 0.3669964606669339, 'drop_fc1': 0.25082422650570857, 'optimizer': 'Adam', 'lr': 0.007108922211249267}. Best is trial 23 with value: 0.7128987517337032.\n",
            "[I 2024-10-14 18:33:52,632] Trial 27 finished with value: 0.6158113730929264 and parameters: {'num_conv_layers': 3, 'num_filter_0': 128.0, 'num_filter_1': 320.0, 'num_filter_2': 512.0, 'num_neurons': 200, 'drop_conv2': 0.42065847300508263, 'drop_fc1': 0.34124035066141967, 'optimizer': 'Adam', 'lr': 0.0014355510867688323}. Best is trial 23 with value: 0.7128987517337032.\n",
            "[I 2024-10-14 18:35:01,262] Trial 28 finished with value: 0.4826629680998613 and parameters: {'num_conv_layers': 2, 'num_filter_0': 320.0, 'num_filter_1': 224.0, 'num_neurons': 300, 'drop_conv2': 0.37315859600498363, 'drop_fc1': 0.277636246218453, 'optimizer': 'SGD', 'lr': 0.09664768476659875}. Best is trial 23 with value: 0.7128987517337032.\n",
            "[I 2024-10-14 18:37:04,768] Trial 29 finished with value: 0.521497919556172 and parameters: {'num_conv_layers': 3, 'num_filter_0': 160.0, 'num_filter_1': 400.0, 'num_filter_2': 464.0, 'num_neurons': 330, 'drop_conv2': 0.3473401541633513, 'drop_fc1': 0.363603894194001, 'optimizer': 'Adam', 'lr': 0.002601674235280562}. Best is trial 23 with value: 0.7128987517337032.\n",
            "[I 2024-10-14 18:38:02,001] Trial 30 finished with value: 0.49653259361997226 and parameters: {'num_conv_layers': 3, 'num_filter_0': 80.0, 'num_filter_1': 336.0, 'num_filter_2': 256.0, 'num_neurons': 280, 'drop_conv2': 0.45972623322512973, 'drop_fc1': 0.3279064857782218, 'optimizer': 'RMSprop', 'lr': 0.030362910097233516}. Best is trial 23 with value: 0.7128987517337032.\n",
            "[I 2024-10-14 18:40:31,389] Trial 31 finished with value: 0.7031900138696255 and parameters: {'num_conv_layers': 3, 'num_filter_0': 224.0, 'num_filter_1': 448.0, 'num_filter_2': 432.0, 'num_neurons': 380, 'drop_conv2': 0.42490952060537235, 'drop_fc1': 0.22827064222919763, 'optimizer': 'Adam', 'lr': 0.001583106455638051}. Best is trial 23 with value: 0.7128987517337032.\n",
            "[I 2024-10-14 18:42:57,647] Trial 32 finished with value: 0.7226074895977809 and parameters: {'num_conv_layers': 3, 'num_filter_0': 224.0, 'num_filter_1': 432.0, 'num_filter_2': 432.0, 'num_neurons': 360, 'drop_conv2': 0.4228103332836825, 'drop_fc1': 0.23718161570173693, 'optimizer': 'Adam', 'lr': 0.0013159323210891107}. Best is trial 32 with value: 0.7226074895977809.\n",
            "[I 2024-10-14 18:45:35,448] Trial 33 finished with value: 0.6962552011095701 and parameters: {'num_conv_layers': 3, 'num_filter_0': 256.0, 'num_filter_1': 432.0, 'num_filter_2': 432.0, 'num_neurons': 380, 'drop_conv2': 0.4178429124945487, 'drop_fc1': 0.2278129995133218, 'optimizer': 'Adam', 'lr': 0.00146816907779489}. Best is trial 32 with value: 0.7226074895977809.\n",
            "[I 2024-10-14 18:47:41,901] Trial 34 finished with value: 0.5381414701803051 and parameters: {'num_conv_layers': 3, 'num_filter_0': 256.0, 'num_filter_1': 384.0, 'num_filter_2': 352.0, 'num_neurons': 330, 'drop_conv2': 0.43607767029421923, 'drop_fc1': 0.2355792002876418, 'optimizer': 'Adam', 'lr': 0.00217587952532898}. Best is trial 32 with value: 0.7226074895977809.\n",
            "[I 2024-10-14 18:50:58,892] Trial 35 finished with value: 0.694868238557559 and parameters: {'num_conv_layers': 3, 'num_filter_0': 320.0, 'num_filter_1': 432.0, 'num_filter_2': 480.0, 'num_neurons': 370, 'drop_conv2': 0.4018133338142566, 'drop_fc1': 0.271884500240047, 'optimizer': 'Adam', 'lr': 0.0014758856002881839}. Best is trial 32 with value: 0.7226074895977809.\n",
            "[I 2024-10-14 18:52:03,005] Trial 36 finished with value: 0.49791955617198336 and parameters: {'num_conv_layers': 2, 'num_filter_0': 224.0, 'num_filter_1': 272.0, 'num_neurons': 290, 'drop_conv2': 0.4229866427743926, 'drop_fc1': 0.28623464192243225, 'optimizer': 'RMSprop', 'lr': 0.013064156033899056}. Best is trial 32 with value: 0.7226074895977809.\n",
            "[I 2024-10-14 18:55:20,617] Trial 37 finished with value: 0.4882108183079057 and parameters: {'num_conv_layers': 3, 'num_filter_0': 288.0, 'num_filter_1': 480.0, 'num_filter_2': 464.0, 'num_neurons': 330, 'drop_conv2': 0.4792777879505894, 'drop_fc1': 0.2607189875045761, 'optimizer': 'Adam', 'lr': 0.0036520692358792814}. Best is trial 32 with value: 0.7226074895977809.\n",
            "[I 2024-10-14 18:56:55,887] Trial 38 finished with value: 0.7115117891816921 and parameters: {'num_conv_layers': 3, 'num_filter_0': 256.0, 'num_filter_1': 240.0, 'num_filter_2': 432.0, 'num_neurons': 210, 'drop_conv2': 0.4999570443098192, 'drop_fc1': 0.21604873741299252, 'optimizer': 'Adam', 'lr': 0.0013035495648272388}. Best is trial 32 with value: 0.7226074895977809.\n",
            "[I 2024-10-14 18:57:33,973] Trial 39 finished with value: 0.5423023578363384 and parameters: {'num_conv_layers': 2, 'num_filter_0': 160.0, 'num_filter_1': 208.0, 'num_neurons': 220, 'drop_conv2': 0.4660676058226258, 'drop_fc1': 0.3965927719855577, 'optimizer': 'RMSprop', 'lr': 0.0024540978201634607}. Best is trial 32 with value: 0.7226074895977809.\n",
            "[I 2024-10-14 18:58:52,368] Trial 40 finished with value: 0.5145631067961165 and parameters: {'num_conv_layers': 3, 'num_filter_0': 304.0, 'num_filter_1': 128.0, 'num_filter_2': 368.0, 'num_neurons': 170, 'drop_conv2': 0.4982875008704711, 'drop_fc1': 0.21333891628784912, 'optimizer': 'SGD', 'lr': 0.0012889968436855881}. Best is trial 32 with value: 0.7226074895977809.\n",
            "[I 2024-10-14 19:00:42,984] Trial 41 finished with value: 0.6934812760055479 and parameters: {'num_conv_layers': 3, 'num_filter_0': 256.0, 'num_filter_1': 288.0, 'num_filter_2': 432.0, 'num_neurons': 270, 'drop_conv2': 0.43957132663883075, 'drop_fc1': 0.24304131263660295, 'optimizer': 'Adam', 'lr': 0.001793507589127197}. Best is trial 32 with value: 0.7226074895977809.\n",
            "[I 2024-10-14 19:02:24,791] Trial 42 finished with value: 0.7406380027739251 and parameters: {'num_conv_layers': 3, 'num_filter_0': 272.0, 'num_filter_1': 224.0, 'num_filter_2': 480.0, 'num_neurons': 200, 'drop_conv2': 0.39375541418703225, 'drop_fc1': 0.22425882975251277, 'optimizer': 'Adam', 'lr': 0.001844831353206903}. Best is trial 42 with value: 0.7406380027739251.\n",
            "[I 2024-10-14 19:04:42,549] Trial 43 finished with value: 0.7253814147018031 and parameters: {'num_conv_layers': 3, 'num_filter_0': 368.0, 'num_filter_1': 240.0, 'num_filter_2': 496.0, 'num_neurons': 190, 'drop_conv2': 0.3879984931077539, 'drop_fc1': 0.21852264972600471, 'optimizer': 'Adam', 'lr': 0.0019276337868968417}. Best is trial 42 with value: 0.7406380027739251.\n",
            "[I 2024-10-14 19:07:00,798] Trial 44 finished with value: 0.6837725381414702 and parameters: {'num_conv_layers': 3, 'num_filter_0': 368.0, 'num_filter_1': 240.0, 'num_filter_2': 496.0, 'num_neurons': 190, 'drop_conv2': 0.3846159932005534, 'drop_fc1': 0.2207144614034486, 'optimizer': 'Adam', 'lr': 0.0012686881832473756}. Best is trial 42 with value: 0.7406380027739251.\n",
            "[I 2024-10-14 19:09:41,609] Trial 45 finished with value: 0.521497919556172 and parameters: {'num_conv_layers': 4, 'num_filter_0': 464.0, 'num_filter_1': 176.0, 'num_filter_2': 480.0, 'num_filter_3': 496.0, 'num_neurons': 140, 'drop_conv2': 0.3613170858325425, 'drop_fc1': 0.26503812474321253, 'optimizer': 'Adam', 'lr': 0.0019556702248428657}. Best is trial 42 with value: 0.7406380027739251.\n",
            "[I 2024-10-14 19:11:49,568] Trial 46 finished with value: 0.5589459084604715 and parameters: {'num_conv_layers': 3, 'num_filter_0': 512.0, 'num_filter_1': 144.0, 'num_filter_2': 512.0, 'num_neurons': 180, 'drop_conv2': 0.32975624874375975, 'drop_fc1': 0.21595685028383707, 'optimizer': 'Adam', 'lr': 0.004940884654886123}. Best is trial 42 with value: 0.7406380027739251.\n",
            "[I 2024-10-14 19:13:19,487] Trial 47 finished with value: 0.5187239944521498 and parameters: {'num_conv_layers': 3, 'num_filter_0': 432.0, 'num_filter_1': 208.0, 'num_filter_2': 32.0, 'num_neurons': 220, 'drop_conv2': 0.39068100249475607, 'drop_fc1': 0.41176310311127623, 'optimizer': 'RMSprop', 'lr': 0.002603419994695163}. Best is trial 42 with value: 0.7406380027739251.\n",
            "[I 2024-10-14 19:14:51,962] Trial 48 finished with value: 0.5145631067961165 and parameters: {'num_conv_layers': 4, 'num_filter_0': 288.0, 'num_filter_1': 256.0, 'num_filter_2': 288.0, 'num_filter_3': 176.0, 'num_neurons': 100, 'drop_conv2': 0.4096349237362999, 'drop_fc1': 0.28820489181337217, 'optimizer': 'Adam', 'lr': 0.0037340836334108034}. Best is trial 42 with value: 0.7406380027739251.\n",
            "[I 2024-10-14 19:16:01,300] Trial 49 finished with value: 0.47156726768377255 and parameters: {'num_conv_layers': 3, 'num_filter_0': 352.0, 'num_filter_1': 64.0, 'num_filter_2': 480.0, 'num_neurons': 240, 'drop_conv2': 0.39446062388684355, 'drop_fc1': 0.2356471177734429, 'optimizer': 'Adam', 'lr': 0.022014544351860524}. Best is trial 42 with value: 0.7406380027739251.\n"
          ]
        },
        {
          "output_type": "stream",
          "name": "stdout",
          "text": [
            "Mejores hiperparámetros: {'num_conv_layers': 3, 'num_filter_0': 272.0, 'num_filter_1': 224.0, 'num_filter_2': 480.0, 'num_neurons': 200, 'drop_conv2': 0.39375541418703225, 'drop_fc1': 0.22425882975251277, 'optimizer': 'Adam', 'lr': 0.001844831353206903}\n",
            "Validation Classification Report:\n",
            "              precision    recall  f1-score   support\n",
            "\n",
            "           0       0.53      0.90      0.67       373\n",
            "           1       0.60      0.16      0.25       348\n",
            "\n",
            "    accuracy                           0.54       721\n",
            "   macro avg       0.57      0.53      0.46       721\n",
            "weighted avg       0.56      0.54      0.47       721\n",
            "\n"
          ]
        },
        {
          "output_type": "display_data",
          "data": {
            "text/plain": [
              "<Figure size 640x480 with 2 Axes>"
            ],
            "image/png": "[encoded data removed]"
          },
          "metadata": {}
        },
        {
          "output_type": "stream",
          "name": "stdout",
          "text": [
            "Test Classification Report:\n",
            "              precision    recall  f1-score   support\n",
            "\n",
            "           0       0.54      0.91      0.68       681\n",
            "           1       0.66      0.19      0.30       639\n",
            "\n",
            "    accuracy                           0.56      1320\n",
            "   macro avg       0.60      0.55      0.49      1320\n",
            "weighted avg       0.60      0.56      0.49      1320\n",
            "\n"
          ]
        },
        {
          "output_type": "display_data",
          "data": {
            "text/plain": [
              "<Figure size 640x480 with 2 Axes>"
            ],
            "image/png": "[encoded data removed]"
          },
          "metadata": {}
        }
      ]
    },
    {
      "cell_type": "markdown",
      "source": [
        "# Visualización de los Resultados\n",
        "Optuna proporciona herramientas de visualización para entender mejor los resultados de la optimización. Agregamos visualizaciones para ver la historia de la optimización, las coordenadas paralelas y la importancia de los parámetros.\n",
        "\n",
        "* **plot_optimization_history:** Muestra cómo ha cambiado el valor objetivo a lo largo de los ensayos.\n",
        "* **plot_parallel_coordinate:** Muestra las relaciones entre los parámetros y el valor objetivo.\n",
        "* **plot_param_importances:** Muestra la importancia relativa de cada parámetro."
      ],
      "metadata": {
        "id": "gbSpj4_mi924"
      }
    },
    {
      "cell_type": "code",
      "source": [
        "optuna.visualization.plot_parallel_coordinate(study)"
      ],
      "metadata": {
        "colab": {
          "base_uri": "https://localhost:8080/",
          "height": 542
        },
        "id": "yLpi3utiOfbU",
        "outputId": "1864a957-b583-47d2-b34f-abb57af62062"
      },
      "execution_count": 8,
      "outputs": [
        {
          "output_type": "display_data",
          "data": {
            "text/html": [
              "<html>\n",
              "<head><meta charset=\"utf-8\" /></head>\n",
              "<body>\n",
              "    <div>            <script src=\"https://cdnjs.cloudflare.com/ajax/libs/mathjax/2.7.5/MathJax.js?config=TeX-AMS-MML_SVG\"></script><script type=\"text/javascript\">if (window.MathJax && window.MathJax.Hub && window.MathJax.Hub.Config) {window.MathJax.Hub.Config({SVG: {font: \"STIX-Web\"}});}</script>                <script type=\"text/javascript\">window.PlotlyConfig = {MathJaxConfig: 'local'};</script>\n",
              "        <script charset=\"utf-8\" src=\"https://cdn.plot.ly/plotly-2.35.2.min.js\"></script>                <div id=\"eb9a799e-d5a9-462e-9d0a-0e9149ce0926\" class=\"plotly-graph-div\" style=\"height:525px; width:100%;\"></div>            <script type=\"text/javascript\">                                    window.PLOTLYENV=window.PLOTLYENV || {};                                    if (document.getElementById(\"eb9a799e-d5a9-462e-9d0a-0e9149ce0926\")) {                    Plotly.newPlot(                        \"eb9a799e-d5a9-462e-9d0a-0e9149ce0926\",                        [{\"dimensions\":[{\"label\":\"Objective Value\",\"range\":[0.4854368932038835,0.5866851595006934],\"values\":[0.5228848821081831,0.49791955617198336,0.5284327323162274,0.4895977808599168,0.4854368932038835,0.5131761442441054,0.5866851595006934,0.5256588072122053,0.521497919556172,0.5145631067961165]},{\"label\":\"drop_conv2\",\"range\":[0.21556326143091933,0.47749787681767275],\"values\":[0.32266009669118845,0.47749787681767275,0.28570757102781874,0.21556326143091933,0.4022299905904584,0.2556198063178135,0.2638497612704053,0.25269471701548585,0.3613170858325425,0.4096349237362999]},{\"label\":\"drop_fc1\",\"range\":[0.2275932589033962,0.4707713223361541],\"values\":[0.4707713223361541,0.44858445577021133,0.2971561446713406,0.26632026486119076,0.2275932589033962,0.31543700389509133,0.31049068448134515,0.3033176798216675,0.26503812474321253,0.28820489181337217]},{\"label\":\"lr\",\"range\":[-2.9948650707106106,-1.1476874547637042],\"ticktext\":[\"0.00101\",\"0.01\",\"0.0712\"],\"tickvals\":[-2.9948650707106106,-2,-1.1476874547637042],\"values\":[-2.7843400709978745,-1.1476874547637042,-2.336662598421434,-1.85670743568878,-2.2389073522188476,-2.32654407927179,-2.9948650707106106,-2.4788854048553723,-2.7087043763406156,-2.427815959251949]},{\"label\":\"num_conv_layers\",\"range\":[4,4],\"values\":[4,4,4,4,4,4,4,4,4,4]},{\"label\":\"num_filter_0\",\"range\":[32.0,496.0],\"values\":[496.0,32.0,288.0,288.0,432.0,480.0,400.0,384.0,464.0,288.0]},{\"label\":\"num_filter_1\",\"range\":[32.0,496.0],\"values\":[464.0,32.0,304.0,464.0,368.0,496.0,416.0,352.0,176.0,256.0]},{\"label\":\"num_filter_2\",\"range\":[128.0,480.0],\"values\":[304.0,304.0,176.0,160.0,128.0,320.0,384.0,480.0,480.0,288.0]},{\"label\":\"num_filter_3\",\"range\":[32.0,496.0],\"values\":[336.0,416.0,80.0,256.0,32.0,240.0,80.0,48.0,496.0,176.0]},{\"label\":\"num_neurons\",\"range\":[10,390],\"values\":[280,230,130,130,10,240,360,390,140,100]},{\"label\":\"optimizer\",\"range\":[0,1],\"ticktext\":[\"Adam\",\"RMSprop\"],\"tickvals\":[0,1],\"values\":[0,1,0,0,0,0,0,0,0,0]}],\"labelangle\":30,\"labelside\":\"bottom\",\"line\":{\"color\":[0.5228848821081831,0.49791955617198336,0.5284327323162274,0.4895977808599168,0.4854368932038835,0.5131761442441054,0.5866851595006934,0.5256588072122053,0.521497919556172,0.5145631067961165],\"colorbar\":{\"title\":{\"text\":\"Objective Value\"}},\"colorscale\":[[0.0,\"rgb(247,251,255)\"],[0.125,\"rgb(222,235,247)\"],[0.25,\"rgb(198,219,239)\"],[0.375,\"rgb(158,202,225)\"],[0.5,\"rgb(107,174,214)\"],[0.625,\"rgb(66,146,198)\"],[0.75,\"rgb(33,113,181)\"],[0.875,\"rgb(8,81,156)\"],[1.0,\"rgb(8,48,107)\"]],\"reversescale\":false,\"showscale\":true},\"type\":\"parcoords\"}],                        {\"title\":{\"text\":\"Parallel Coordinate Plot\"},\"template\":{\"data\":{\"histogram2dcontour\":[{\"type\":\"histogram2dcontour\",\"colorbar\":{\"outlinewidth\":0,\"ticks\":\"\"},\"colorscale\":[[0.0,\"#0d0887\"],[0.1111111111111111,\"#46039f\"],[0.2222222222222222,\"#7201a8\"],[0.3333333333333333,\"#9c179e\"],[0.4444444444444444,\"#bd3786\"],[0.5555555555555556,\"#d8576b\"],[0.6666666666666666,\"#ed7953\"],[0.7777777777777778,\"#fb9f3a\"],[0.8888888888888888,\"#fdca26\"],[1.0,\"#f0f921\"]]}],\"choropleth\":[{\"type\":\"choropleth\",\"colorbar\":{\"outlinewidth\":0,\"ticks\":\"\"}}],\"histogram2d\":[{\"type\":\"histogram2d\",\"colorbar\":{\"outlinewidth\":0,\"ticks\":\"\"},\"colorscale\":[[0.0,\"#0d0887\"],[0.1111111111111111,\"#46039f\"],[0.2222222222222222,\"#7201a8\"],[0.3333333333333333,\"#9c179e\"],[0.4444444444444444,\"#bd3786\"],[0.5555555555555556,\"#d8576b\"],[0.6666666666666666,\"#ed7953\"],[0.7777777777777778,\"#fb9f3a\"],[0.8888888888888888,\"#fdca26\"],[1.0,\"#f0f921\"]]}],\"heatmap\":[{\"type\":\"heatmap\",\"colorbar\":{\"outlinewidth\":0,\"ticks\":\"\"},\"colorscale\":[[0.0,\"#0d0887\"],[0.1111111111111111,\"#46039f\"],[0.2222222222222222,\"#7201a8\"],[0.3333333333333333,\"#9c179e\"],[0.4444444444444444,\"#bd3786\"],[0.5555555555555556,\"#d8576b\"],[0.6666666666666666,\"#ed7953\"],[0.7777777777777778,\"#fb9f3a\"],[0.8888888888888888,\"#fdca26\"],[1.0,\"#f0f921\"]]}],\"heatmapgl\":[{\"type\":\"heatmapgl\",\"colorbar\":{\"outlinewidth\":0,\"ticks\":\"\"},\"colorscale\":[[0.0,\"#0d0887\"],[0.1111111111111111,\"#46039f\"],[0.2222222222222222,\"#7201a8\"],[0.3333333333333333,\"#9c179e\"],[0.4444444444444444,\"#bd3786\"],[0.5555555555555556,\"#d8576b\"],[0.6666666666666666,\"#ed7953\"],[0.7777777777777778,\"#fb9f3a\"],[0.8888888888888888,\"#fdca26\"],[1.0,\"#f0f921\"]]}],\"contourcarpet\":[{\"type\":\"contourcarpet\",\"colorbar\":{\"outlinewidth\":0,\"ticks\":\"\"}}],\"contour\":[{\"type\":\"contour\",\"colorbar\":{\"outlinewidth\":0,\"ticks\":\"\"},\"colorscale\":[[0.0,\"#0d0887\"],[0.1111111111111111,\"#46039f\"],[0.2222222222222222,\"#7201a8\"],[0.3333333333333333,\"#9c179e\"],[0.4444444444444444,\"#bd3786\"],[0.5555555555555556,\"#d8576b\"],[0.6666666666666666,\"#ed7953\"],[0.7777777777777778,\"#fb9f3a\"],[0.8888888888888888,\"#fdca26\"],[1.0,\"#f0f921\"]]}],\"surface\":[{\"type\":\"surface\",\"colorbar\":{\"outlinewidth\":0,\"ticks\":\"\"},\"colorscale\":[[0.0,\"#0d0887\"],[0.1111111111111111,\"#46039f\"],[0.2222222222222222,\"#7201a8\"],[0.3333333333333333,\"#9c179e\"],[0.4444444444444444,\"#bd3786\"],[0.5555555555555556,\"#d8576b\"],[0.6666666666666666,\"#ed7953\"],[0.7777777777777778,\"#fb9f3a\"],[0.8888888888888888,\"#fdca26\"],[1.0,\"#f0f921\"]]}],\"mesh3d\":[{\"type\":\"mesh3d\",\"colorbar\":{\"outlinewidth\":0,\"ticks\":\"\"}}],\"scatter\":[{\"fillpattern\":{\"fillmode\":\"overlay\",\"size\":10,\"solidity\":0.2},\"type\":\"scatter\"}],\"parcoords\":[{\"type\":\"parcoords\",\"line\":{\"colorbar\":{\"outlinewidth\":0,\"ticks\":\"\"}}}],\"scatterpolargl\":[{\"type\":\"scatterpolargl\",\"marker\":{\"colorbar\":{\"outlinewidth\":0,\"ticks\":\"\"}}}],\"bar\":[{\"error_x\":{\"color\":\"#2a3f5f\"},\"error_y\":{\"color\":\"#2a3f5f\"},\"marker\":{\"line\":{\"color\":\"#E5ECF6\",\"width\":0.5},\"pattern\":{\"fillmode\":\"overlay\",\"size\":10,\"solidity\":0.2}},\"type\":\"bar\"}],\"scattergeo\":[{\"type\":\"scattergeo\",\"marker\":{\"colorbar\":{\"outlinewidth\":0,\"ticks\":\"\"}}}],\"scatterpolar\":[{\"type\":\"scatterpolar\",\"marker\":{\"colorbar\":{\"outlinewidth\":0,\"ticks\":\"\"}}}],\"histogram\":[{\"marker\":{\"pattern\":{\"fillmode\":\"overlay\",\"size\":10,\"solidity\":0.2}},\"type\":\"histogram\"}],\"scattergl\":[{\"type\":\"scattergl\",\"marker\":{\"colorbar\":{\"outlinewidth\":0,\"ticks\":\"\"}}}],\"scatter3d\":[{\"type\":\"scatter3d\",\"line\":{\"colorbar\":{\"outlinewidth\":0,\"ticks\":\"\"}},\"marker\":{\"colorbar\":{\"outlinewidth\":0,\"ticks\":\"\"}}}],\"scattermapbox\":[{\"type\":\"scattermapbox\",\"marker\":{\"colorbar\":{\"outlinewidth\":0,\"ticks\":\"\"}}}],\"scatterternary\":[{\"type\":\"scatterternary\",\"marker\":{\"colorbar\":{\"outlinewidth\":0,\"ticks\":\"\"}}}],\"scattercarpet\":[{\"type\":\"scattercarpet\",\"marker\":{\"colorbar\":{\"outlinewidth\":0,\"ticks\":\"\"}}}],\"carpet\":[{\"aaxis\":{\"endlinecolor\":\"#2a3f5f\",\"gridcolor\":\"white\",\"linecolor\":\"white\",\"minorgridcolor\":\"white\",\"startlinecolor\":\"#2a3f5f\"},\"baxis\":{\"endlinecolor\":\"#2a3f5f\",\"gridcolor\":\"white\",\"linecolor\":\"white\",\"minorgridcolor\":\"white\",\"startlinecolor\":\"#2a3f5f\"},\"type\":\"carpet\"}],\"table\":[{\"cells\":{\"fill\":{\"color\":\"#EBF0F8\"},\"line\":{\"color\":\"white\"}},\"header\":{\"fill\":{\"color\":\"#C8D4E3\"},\"line\":{\"color\":\"white\"}},\"type\":\"table\"}],\"barpolar\":[{\"marker\":{\"line\":{\"color\":\"#E5ECF6\",\"width\":0.5},\"pattern\":{\"fillmode\":\"overlay\",\"size\":10,\"solidity\":0.2}},\"type\":\"barpolar\"}],\"pie\":[{\"automargin\":true,\"type\":\"pie\"}]},\"layout\":{\"autotypenumbers\":\"strict\",\"colorway\":[\"#636efa\",\"#EF553B\",\"#00cc96\",\"#ab63fa\",\"#FFA15A\",\"#19d3f3\",\"#FF6692\",\"#B6E880\",\"#FF97FF\",\"#FECB52\"],\"font\":{\"color\":\"#2a3f5f\"},\"hovermode\":\"closest\",\"hoverlabel\":{\"align\":\"left\"},\"paper_bgcolor\":\"white\",\"plot_bgcolor\":\"#E5ECF6\",\"polar\":{\"bgcolor\":\"#E5ECF6\",\"angularaxis\":{\"gridcolor\":\"white\",\"linecolor\":\"white\",\"ticks\":\"\"},\"radialaxis\":{\"gridcolor\":\"white\",\"linecolor\":\"white\",\"ticks\":\"\"}},\"ternary\":{\"bgcolor\":\"#E5ECF6\",\"aaxis\":{\"gridcolor\":\"white\",\"linecolor\":\"white\",\"ticks\":\"\"},\"baxis\":{\"gridcolor\":\"white\",\"linecolor\":\"white\",\"ticks\":\"\"},\"caxis\":{\"gridcolor\":\"white\",\"linecolor\":\"white\",\"ticks\":\"\"}},\"coloraxis\":{\"colorbar\":{\"outlinewidth\":0,\"ticks\":\"\"}},\"colorscale\":{\"sequential\":[[0.0,\"#0d0887\"],[0.1111111111111111,\"#46039f\"],[0.2222222222222222,\"#7201a8\"],[0.3333333333333333,\"#9c179e\"],[0.4444444444444444,\"#bd3786\"],[0.5555555555555556,\"#d8576b\"],[0.6666666666666666,\"#ed7953\"],[0.7777777777777778,\"#fb9f3a\"],[0.8888888888888888,\"#fdca26\"],[1.0,\"#f0f921\"]],\"sequentialminus\":[[0.0,\"#0d0887\"],[0.1111111111111111,\"#46039f\"],[0.2222222222222222,\"#7201a8\"],[0.3333333333333333,\"#9c179e\"],[0.4444444444444444,\"#bd3786\"],[0.5555555555555556,\"#d8576b\"],[0.6666666666666666,\"#ed7953\"],[0.7777777777777778,\"#fb9f3a\"],[0.8888888888888888,\"#fdca26\"],[1.0,\"#f0f921\"]],\"diverging\":[[0,\"#8e0152\"],[0.1,\"#c51b7d\"],[0.2,\"#de77ae\"],[0.3,\"#f1b6da\"],[0.4,\"#fde0ef\"],[0.5,\"#f7f7f7\"],[0.6,\"#e6f5d0\"],[0.7,\"#b8e186\"],[0.8,\"#7fbc41\"],[0.9,\"#4d9221\"],[1,\"#276419\"]]},\"xaxis\":{\"gridcolor\":\"white\",\"linecolor\":\"white\",\"ticks\":\"\",\"title\":{\"standoff\":15},\"zerolinecolor\":\"white\",\"automargin\":true,\"zerolinewidth\":2},\"yaxis\":{\"gridcolor\":\"white\",\"linecolor\":\"white\",\"ticks\":\"\",\"title\":{\"standoff\":15},\"zerolinecolor\":\"white\",\"automargin\":true,\"zerolinewidth\":2},\"scene\":{\"xaxis\":{\"backgroundcolor\":\"#E5ECF6\",\"gridcolor\":\"white\",\"linecolor\":\"white\",\"showbackground\":true,\"ticks\":\"\",\"zerolinecolor\":\"white\",\"gridwidth\":2},\"yaxis\":{\"backgroundcolor\":\"#E5ECF6\",\"gridcolor\":\"white\",\"linecolor\":\"white\",\"showbackground\":true,\"ticks\":\"\",\"zerolinecolor\":\"white\",\"gridwidth\":2},\"zaxis\":{\"backgroundcolor\":\"#E5ECF6\",\"gridcolor\":\"white\",\"linecolor\":\"white\",\"showbackground\":true,\"ticks\":\"\",\"zerolinecolor\":\"white\",\"gridwidth\":2}},\"shapedefaults\":{\"line\":{\"color\":\"#2a3f5f\"}},\"annotationdefaults\":{\"arrowcolor\":\"#2a3f5f\",\"arrowhead\":0,\"arrowwidth\":1},\"geo\":{\"bgcolor\":\"white\",\"landcolor\":\"#E5ECF6\",\"subunitcolor\":\"white\",\"showland\":true,\"showlakes\":true,\"lakecolor\":\"white\"},\"title\":{\"x\":0.05},\"mapbox\":{\"style\":\"light\"}}}},                        {\"responsive\": true}                    ).then(function(){\n",
              "                            \n",
              "var gd = document.getElementById('eb9a799e-d5a9-462e-9d0a-0e9149ce0926');\n",
              "var x = new MutationObserver(function (mutations, observer) {{\n",
              "        var display = window.getComputedStyle(gd).display;\n",
              "        if (!display || display === 'none') {{\n",
              "            console.log([gd, 'removed!']);\n",
              "            Plotly.purge(gd);\n",
              "            observer.disconnect();\n",
              "        }}\n",
              "}});\n",
              "\n",
              "// Listen for the removal of the full notebook cells\n",
              "var notebookContainer = gd.closest('#notebook-container');\n",
              "if (notebookContainer) {{\n",
              "    x.observe(notebookContainer, {childList: true});\n",
              "}}\n",
              "\n",
              "// Listen for the clearing of the current output cell\n",
              "var outputEl = gd.closest('.output');\n",
              "if (outputEl) {{\n",
              "    x.observe(outputEl, {childList: true});\n",
              "}}\n",
              "\n",
              "                        })                };                            </script>        </div>\n",
              "</body>\n",
              "</html>"
            ]
          },
          "metadata": {}
        }
      ]
    },
    {
      "cell_type": "code",
      "source": [
        "optuna.visualization.plot_param_importances(study)"
      ],
      "metadata": {
        "colab": {
          "base_uri": "https://localhost:8080/",
          "height": 542
        },
        "id": "teED540wOfK0",
        "outputId": "7f302047-e067-4902-dbfa-1f4c7df3eae9"
      },
      "execution_count": 9,
      "outputs": [
        {
          "output_type": "display_data",
          "data": {
            "text/html": [
              "<html>\n",
              "<head><meta charset=\"utf-8\" /></head>\n",
              "<body>\n",
              "    <div>            <script src=\"https://cdnjs.cloudflare.com/ajax/libs/mathjax/2.7.5/MathJax.js?config=TeX-AMS-MML_SVG\"></script><script type=\"text/javascript\">if (window.MathJax && window.MathJax.Hub && window.MathJax.Hub.Config) {window.MathJax.Hub.Config({SVG: {font: \"STIX-Web\"}});}</script>                <script type=\"text/javascript\">window.PlotlyConfig = {MathJaxConfig: 'local'};</script>\n",
              "        <script charset=\"utf-8\" src=\"https://cdn.plot.ly/plotly-2.35.2.min.js\"></script>                <div id=\"5137333d-073c-4d46-8ec1-44006fd98c7c\" class=\"plotly-graph-div\" style=\"height:525px; width:100%;\"></div>            <script type=\"text/javascript\">                                    window.PLOTLYENV=window.PLOTLYENV || {};                                    if (document.getElementById(\"5137333d-073c-4d46-8ec1-44006fd98c7c\")) {                    Plotly.newPlot(                        \"5137333d-073c-4d46-8ec1-44006fd98c7c\",                        [{\"cliponaxis\":false,\"hovertemplate\":[\"num_conv_layers (IntDistribution): 0.0009341940047568038\\u003cextra\\u003e\\u003c\\u002fextra\\u003e\",\"optimizer (CategoricalDistribution): 0.00781146402504466\\u003cextra\\u003e\\u003c\\u002fextra\\u003e\",\"num_filter_1 (FloatDistribution): 0.03379643389339459\\u003cextra\\u003e\\u003c\\u002fextra\\u003e\",\"num_neurons (IntDistribution): 0.058799448239938726\\u003cextra\\u003e\\u003c\\u002fextra\\u003e\",\"num_filter_0 (FloatDistribution): 0.09029489493767187\\u003cextra\\u003e\\u003c\\u002fextra\\u003e\",\"drop_conv2 (FloatDistribution): 0.12476529648934308\\u003cextra\\u003e\\u003c\\u002fextra\\u003e\",\"lr (FloatDistribution): 0.17987115420406682\\u003cextra\\u003e\\u003c\\u002fextra\\u003e\",\"drop_fc1 (FloatDistribution): 0.5037271142057835\\u003cextra\\u003e\\u003c\\u002fextra\\u003e\"],\"name\":\"Objective Value\",\"orientation\":\"h\",\"text\":[\"\\u003c0.01\",\"\\u003c0.01\",\"0.03\",\"0.06\",\"0.09\",\"0.12\",\"0.18\",\"0.50\"],\"textposition\":\"outside\",\"x\":[0.0009341940047568038,0.00781146402504466,0.03379643389339459,0.058799448239938726,0.09029489493767187,0.12476529648934308,0.17987115420406682,0.5037271142057835],\"y\":[\"num_conv_layers\",\"optimizer\",\"num_filter_1\",\"num_neurons\",\"num_filter_0\",\"drop_conv2\",\"lr\",\"drop_fc1\"],\"type\":\"bar\"}],                        {\"title\":{\"text\":\"Hyperparameter Importances\"},\"xaxis\":{\"title\":{\"text\":\"Hyperparameter Importance\"}},\"yaxis\":{\"title\":{\"text\":\"Hyperparameter\"}},\"template\":{\"data\":{\"histogram2dcontour\":[{\"type\":\"histogram2dcontour\",\"colorbar\":{\"outlinewidth\":0,\"ticks\":\"\"},\"colorscale\":[[0.0,\"#0d0887\"],[0.1111111111111111,\"#46039f\"],[0.2222222222222222,\"#7201a8\"],[0.3333333333333333,\"#9c179e\"],[0.4444444444444444,\"#bd3786\"],[0.5555555555555556,\"#d8576b\"],[0.6666666666666666,\"#ed7953\"],[0.7777777777777778,\"#fb9f3a\"],[0.8888888888888888,\"#fdca26\"],[1.0,\"#f0f921\"]]}],\"choropleth\":[{\"type\":\"choropleth\",\"colorbar\":{\"outlinewidth\":0,\"ticks\":\"\"}}],\"histogram2d\":[{\"type\":\"histogram2d\",\"colorbar\":{\"outlinewidth\":0,\"ticks\":\"\"},\"colorscale\":[[0.0,\"#0d0887\"],[0.1111111111111111,\"#46039f\"],[0.2222222222222222,\"#7201a8\"],[0.3333333333333333,\"#9c179e\"],[0.4444444444444444,\"#bd3786\"],[0.5555555555555556,\"#d8576b\"],[0.6666666666666666,\"#ed7953\"],[0.7777777777777778,\"#fb9f3a\"],[0.8888888888888888,\"#fdca26\"],[1.0,\"#f0f921\"]]}],\"heatmap\":[{\"type\":\"heatmap\",\"colorbar\":{\"outlinewidth\":0,\"ticks\":\"\"},\"colorscale\":[[0.0,\"#0d0887\"],[0.1111111111111111,\"#46039f\"],[0.2222222222222222,\"#7201a8\"],[0.3333333333333333,\"#9c179e\"],[0.4444444444444444,\"#bd3786\"],[0.5555555555555556,\"#d8576b\"],[0.6666666666666666,\"#ed7953\"],[0.7777777777777778,\"#fb9f3a\"],[0.8888888888888888,\"#fdca26\"],[1.0,\"#f0f921\"]]}],\"heatmapgl\":[{\"type\":\"heatmapgl\",\"colorbar\":{\"outlinewidth\":0,\"ticks\":\"\"},\"colorscale\":[[0.0,\"#0d0887\"],[0.1111111111111111,\"#46039f\"],[0.2222222222222222,\"#7201a8\"],[0.3333333333333333,\"#9c179e\"],[0.4444444444444444,\"#bd3786\"],[0.5555555555555556,\"#d8576b\"],[0.6666666666666666,\"#ed7953\"],[0.7777777777777778,\"#fb9f3a\"],[0.8888888888888888,\"#fdca26\"],[1.0,\"#f0f921\"]]}],\"contourcarpet\":[{\"type\":\"contourcarpet\",\"colorbar\":{\"outlinewidth\":0,\"ticks\":\"\"}}],\"contour\":[{\"type\":\"contour\",\"colorbar\":{\"outlinewidth\":0,\"ticks\":\"\"},\"colorscale\":[[0.0,\"#0d0887\"],[0.1111111111111111,\"#46039f\"],[0.2222222222222222,\"#7201a8\"],[0.3333333333333333,\"#9c179e\"],[0.4444444444444444,\"#bd3786\"],[0.5555555555555556,\"#d8576b\"],[0.6666666666666666,\"#ed7953\"],[0.7777777777777778,\"#fb9f3a\"],[0.8888888888888888,\"#fdca26\"],[1.0,\"#f0f921\"]]}],\"surface\":[{\"type\":\"surface\",\"colorbar\":{\"outlinewidth\":0,\"ticks\":\"\"},\"colorscale\":[[0.0,\"#0d0887\"],[0.1111111111111111,\"#46039f\"],[0.2222222222222222,\"#7201a8\"],[0.3333333333333333,\"#9c179e\"],[0.4444444444444444,\"#bd3786\"],[0.5555555555555556,\"#d8576b\"],[0.6666666666666666,\"#ed7953\"],[0.7777777777777778,\"#fb9f3a\"],[0.8888888888888888,\"#fdca26\"],[1.0,\"#f0f921\"]]}],\"mesh3d\":[{\"type\":\"mesh3d\",\"colorbar\":{\"outlinewidth\":0,\"ticks\":\"\"}}],\"scatter\":[{\"fillpattern\":{\"fillmode\":\"overlay\",\"size\":10,\"solidity\":0.2},\"type\":\"scatter\"}],\"parcoords\":[{\"type\":\"parcoords\",\"line\":{\"colorbar\":{\"outlinewidth\":0,\"ticks\":\"\"}}}],\"scatterpolargl\":[{\"type\":\"scatterpolargl\",\"marker\":{\"colorbar\":{\"outlinewidth\":0,\"ticks\":\"\"}}}],\"bar\":[{\"error_x\":{\"color\":\"#2a3f5f\"},\"error_y\":{\"color\":\"#2a3f5f\"},\"marker\":{\"line\":{\"color\":\"#E5ECF6\",\"width\":0.5},\"pattern\":{\"fillmode\":\"overlay\",\"size\":10,\"solidity\":0.2}},\"type\":\"bar\"}],\"scattergeo\":[{\"type\":\"scattergeo\",\"marker\":{\"colorbar\":{\"outlinewidth\":0,\"ticks\":\"\"}}}],\"scatterpolar\":[{\"type\":\"scatterpolar\",\"marker\":{\"colorbar\":{\"outlinewidth\":0,\"ticks\":\"\"}}}],\"histogram\":[{\"marker\":{\"pattern\":{\"fillmode\":\"overlay\",\"size\":10,\"solidity\":0.2}},\"type\":\"histogram\"}],\"scattergl\":[{\"type\":\"scattergl\",\"marker\":{\"colorbar\":{\"outlinewidth\":0,\"ticks\":\"\"}}}],\"scatter3d\":[{\"type\":\"scatter3d\",\"line\":{\"colorbar\":{\"outlinewidth\":0,\"ticks\":\"\"}},\"marker\":{\"colorbar\":{\"outlinewidth\":0,\"ticks\":\"\"}}}],\"scattermapbox\":[{\"type\":\"scattermapbox\",\"marker\":{\"colorbar\":{\"outlinewidth\":0,\"ticks\":\"\"}}}],\"scatterternary\":[{\"type\":\"scatterternary\",\"marker\":{\"colorbar\":{\"outlinewidth\":0,\"ticks\":\"\"}}}],\"scattercarpet\":[{\"type\":\"scattercarpet\",\"marker\":{\"colorbar\":{\"outlinewidth\":0,\"ticks\":\"\"}}}],\"carpet\":[{\"aaxis\":{\"endlinecolor\":\"#2a3f5f\",\"gridcolor\":\"white\",\"linecolor\":\"white\",\"minorgridcolor\":\"white\",\"startlinecolor\":\"#2a3f5f\"},\"baxis\":{\"endlinecolor\":\"#2a3f5f\",\"gridcolor\":\"white\",\"linecolor\":\"white\",\"minorgridcolor\":\"white\",\"startlinecolor\":\"#2a3f5f\"},\"type\":\"carpet\"}],\"table\":[{\"cells\":{\"fill\":{\"color\":\"#EBF0F8\"},\"line\":{\"color\":\"white\"}},\"header\":{\"fill\":{\"color\":\"#C8D4E3\"},\"line\":{\"color\":\"white\"}},\"type\":\"table\"}],\"barpolar\":[{\"marker\":{\"line\":{\"color\":\"#E5ECF6\",\"width\":0.5},\"pattern\":{\"fillmode\":\"overlay\",\"size\":10,\"solidity\":0.2}},\"type\":\"barpolar\"}],\"pie\":[{\"automargin\":true,\"type\":\"pie\"}]},\"layout\":{\"autotypenumbers\":\"strict\",\"colorway\":[\"#636efa\",\"#EF553B\",\"#00cc96\",\"#ab63fa\",\"#FFA15A\",\"#19d3f3\",\"#FF6692\",\"#B6E880\",\"#FF97FF\",\"#FECB52\"],\"font\":{\"color\":\"#2a3f5f\"},\"hovermode\":\"closest\",\"hoverlabel\":{\"align\":\"left\"},\"paper_bgcolor\":\"white\",\"plot_bgcolor\":\"#E5ECF6\",\"polar\":{\"bgcolor\":\"#E5ECF6\",\"angularaxis\":{\"gridcolor\":\"white\",\"linecolor\":\"white\",\"ticks\":\"\"},\"radialaxis\":{\"gridcolor\":\"white\",\"linecolor\":\"white\",\"ticks\":\"\"}},\"ternary\":{\"bgcolor\":\"#E5ECF6\",\"aaxis\":{\"gridcolor\":\"white\",\"linecolor\":\"white\",\"ticks\":\"\"},\"baxis\":{\"gridcolor\":\"white\",\"linecolor\":\"white\",\"ticks\":\"\"},\"caxis\":{\"gridcolor\":\"white\",\"linecolor\":\"white\",\"ticks\":\"\"}},\"coloraxis\":{\"colorbar\":{\"outlinewidth\":0,\"ticks\":\"\"}},\"colorscale\":{\"sequential\":[[0.0,\"#0d0887\"],[0.1111111111111111,\"#46039f\"],[0.2222222222222222,\"#7201a8\"],[0.3333333333333333,\"#9c179e\"],[0.4444444444444444,\"#bd3786\"],[0.5555555555555556,\"#d8576b\"],[0.6666666666666666,\"#ed7953\"],[0.7777777777777778,\"#fb9f3a\"],[0.8888888888888888,\"#fdca26\"],[1.0,\"#f0f921\"]],\"sequentialminus\":[[0.0,\"#0d0887\"],[0.1111111111111111,\"#46039f\"],[0.2222222222222222,\"#7201a8\"],[0.3333333333333333,\"#9c179e\"],[0.4444444444444444,\"#bd3786\"],[0.5555555555555556,\"#d8576b\"],[0.6666666666666666,\"#ed7953\"],[0.7777777777777778,\"#fb9f3a\"],[0.8888888888888888,\"#fdca26\"],[1.0,\"#f0f921\"]],\"diverging\":[[0,\"#8e0152\"],[0.1,\"#c51b7d\"],[0.2,\"#de77ae\"],[0.3,\"#f1b6da\"],[0.4,\"#fde0ef\"],[0.5,\"#f7f7f7\"],[0.6,\"#e6f5d0\"],[0.7,\"#b8e186\"],[0.8,\"#7fbc41\"],[0.9,\"#4d9221\"],[1,\"#276419\"]]},\"xaxis\":{\"gridcolor\":\"white\",\"linecolor\":\"white\",\"ticks\":\"\",\"title\":{\"standoff\":15},\"zerolinecolor\":\"white\",\"automargin\":true,\"zerolinewidth\":2},\"yaxis\":{\"gridcolor\":\"white\",\"linecolor\":\"white\",\"ticks\":\"\",\"title\":{\"standoff\":15},\"zerolinecolor\":\"white\",\"automargin\":true,\"zerolinewidth\":2},\"scene\":{\"xaxis\":{\"backgroundcolor\":\"#E5ECF6\",\"gridcolor\":\"white\",\"linecolor\":\"white\",\"showbackground\":true,\"ticks\":\"\",\"zerolinecolor\":\"white\",\"gridwidth\":2},\"yaxis\":{\"backgroundcolor\":\"#E5ECF6\",\"gridcolor\":\"white\",\"linecolor\":\"white\",\"showbackground\":true,\"ticks\":\"\",\"zerolinecolor\":\"white\",\"gridwidth\":2},\"zaxis\":{\"backgroundcolor\":\"#E5ECF6\",\"gridcolor\":\"white\",\"linecolor\":\"white\",\"showbackground\":true,\"ticks\":\"\",\"zerolinecolor\":\"white\",\"gridwidth\":2}},\"shapedefaults\":{\"line\":{\"color\":\"#2a3f5f\"}},\"annotationdefaults\":{\"arrowcolor\":\"#2a3f5f\",\"arrowhead\":0,\"arrowwidth\":1},\"geo\":{\"bgcolor\":\"white\",\"landcolor\":\"#E5ECF6\",\"subunitcolor\":\"white\",\"showland\":true,\"showlakes\":true,\"lakecolor\":\"white\"},\"title\":{\"x\":0.05},\"mapbox\":{\"style\":\"light\"}}}},                        {\"responsive\": true}                    ).then(function(){\n",
              "                            \n",
              "var gd = document.getElementById('5137333d-073c-4d46-8ec1-44006fd98c7c');\n",
              "var x = new MutationObserver(function (mutations, observer) {{\n",
              "        var display = window.getComputedStyle(gd).display;\n",
              "        if (!display || display === 'none') {{\n",
              "            console.log([gd, 'removed!']);\n",
              "            Plotly.purge(gd);\n",
              "            observer.disconnect();\n",
              "        }}\n",
              "}});\n",
              "\n",
              "// Listen for the removal of the full notebook cells\n",
              "var notebookContainer = gd.closest('#notebook-container');\n",
              "if (notebookContainer) {{\n",
              "    x.observe(notebookContainer, {childList: true});\n",
              "}}\n",
              "\n",
              "// Listen for the clearing of the current output cell\n",
              "var outputEl = gd.closest('.output');\n",
              "if (outputEl) {{\n",
              "    x.observe(outputEl, {childList: true});\n",
              "}}\n",
              "\n",
              "                        })                };                            </script>        </div>\n",
              "</body>\n",
              "</html>"
            ]
          },
          "metadata": {}
        }
      ]
    }
  ]
}