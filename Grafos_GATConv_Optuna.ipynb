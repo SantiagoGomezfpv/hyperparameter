{
  "nbformat": 4,
  "nbformat_minor": 0,
  "metadata": {
    "colab": {
      "provenance": [],
      "authorship_tag": "ABX9TyOlIzY7nSCbOPZivMxLIxMS",
      "include_colab_link": true
    },
    "kernelspec": {
      "name": "python3",
      "display_name": "Python 3"
    },
    "language_info": {
      "name": "python"
    }
  },
  "cells": [
    {
      "cell_type": "markdown",
      "metadata": {
        "id": "view-in-github",
        "colab_type": "text"
      },
      "source": [
        "<a href=\"https://colab.research.google.com/github/SantiagoGomezfpv/hyperparameter/blob/main/Grafos_GATConv_Optuna.ipynb\" target=\"_parent\"><img src=\"https://colab.research.google.com/assets/colab-badge.svg\" alt=\"Open In Colab\"/></a>"
      ]
    },
    {
      "cell_type": "code",
      "execution_count": null,
      "metadata": {
        "colab": {
          "base_uri": "https://localhost:8080/"
        },
        "id": "J6fZa0aXoETv",
        "outputId": "e046e0f4-1e6a-4b23-f3d1-1bf59275dbfb"
      },
      "outputs": [
        {
          "output_type": "stream",
          "name": "stdout",
          "text": [
            "Requirement already satisfied: torch in /usr/local/lib/python3.10/dist-packages (2.5.1+cu121)\n",
            "Collecting torch_geometric\n",
            "  Downloading torch_geometric-2.6.1-py3-none-any.whl.metadata (63 kB)\n",
            "\u001b[2K     \u001b[90m━━━━━━━━━━━━━━━━━━━━━━━━━━━━━━━━━━━━━━━━\u001b[0m \u001b[32m63.1/63.1 kB\u001b[0m \u001b[31m2.2 MB/s\u001b[0m eta \u001b[36m0:00:00\u001b[0m\n",
            "\u001b[?25hCollecting optuna\n",
            "  Downloading optuna-4.1.0-py3-none-any.whl.metadata (16 kB)\n",
            "Requirement already satisfied: filelock in /usr/local/lib/python3.10/dist-packages (from torch) (3.16.1)\n",
            "Requirement already satisfied: typing-extensions>=4.8.0 in /usr/local/lib/python3.10/dist-packages (from torch) (4.12.2)\n",
            "Requirement already satisfied: networkx in /usr/local/lib/python3.10/dist-packages (from torch) (3.4.2)\n",
            "Requirement already satisfied: jinja2 in /usr/local/lib/python3.10/dist-packages (from torch) (3.1.4)\n",
            "Requirement already satisfied: fsspec in /usr/local/lib/python3.10/dist-packages (from torch) (2024.10.0)\n",
            "Requirement already satisfied: sympy==1.13.1 in /usr/local/lib/python3.10/dist-packages (from torch) (1.13.1)\n",
            "Requirement already satisfied: mpmath<1.4,>=1.1.0 in /usr/local/lib/python3.10/dist-packages (from sympy==1.13.1->torch) (1.3.0)\n",
            "Requirement already satisfied: aiohttp in /usr/local/lib/python3.10/dist-packages (from torch_geometric) (3.11.2)\n",
            "Requirement already satisfied: numpy in /usr/local/lib/python3.10/dist-packages (from torch_geometric) (1.26.4)\n",
            "Requirement already satisfied: psutil>=5.8.0 in /usr/local/lib/python3.10/dist-packages (from torch_geometric) (5.9.5)\n",
            "Requirement already satisfied: pyparsing in /usr/local/lib/python3.10/dist-packages (from torch_geometric) (3.2.0)\n",
            "Requirement already satisfied: requests in /usr/local/lib/python3.10/dist-packages (from torch_geometric) (2.32.3)\n",
            "Requirement already satisfied: tqdm in /usr/local/lib/python3.10/dist-packages (from torch_geometric) (4.66.6)\n",
            "Collecting alembic>=1.5.0 (from optuna)\n",
            "  Downloading alembic-1.14.0-py3-none-any.whl.metadata (7.4 kB)\n",
            "Collecting colorlog (from optuna)\n",
            "  Downloading colorlog-6.9.0-py3-none-any.whl.metadata (10 kB)\n",
            "Requirement already satisfied: packaging>=20.0 in /usr/local/lib/python3.10/dist-packages (from optuna) (24.2)\n",
            "Requirement already satisfied: sqlalchemy>=1.4.2 in /usr/local/lib/python3.10/dist-packages (from optuna) (2.0.36)\n",
            "Requirement already satisfied: PyYAML in /usr/local/lib/python3.10/dist-packages (from optuna) (6.0.2)\n",
            "Collecting Mako (from alembic>=1.5.0->optuna)\n",
            "  Downloading Mako-1.3.6-py3-none-any.whl.metadata (2.9 kB)\n",
            "Requirement already satisfied: greenlet!=0.4.17 in /usr/local/lib/python3.10/dist-packages (from sqlalchemy>=1.4.2->optuna) (3.1.1)\n",
            "Requirement already satisfied: aiohappyeyeballs>=2.3.0 in /usr/local/lib/python3.10/dist-packages (from aiohttp->torch_geometric) (2.4.3)\n",
            "Requirement already satisfied: aiosignal>=1.1.2 in /usr/local/lib/python3.10/dist-packages (from aiohttp->torch_geometric) (1.3.1)\n",
            "Requirement already satisfied: attrs>=17.3.0 in /usr/local/lib/python3.10/dist-packages (from aiohttp->torch_geometric) (24.2.0)\n",
            "Requirement already satisfied: frozenlist>=1.1.1 in /usr/local/lib/python3.10/dist-packages (from aiohttp->torch_geometric) (1.5.0)\n",
            "Requirement already satisfied: multidict<7.0,>=4.5 in /usr/local/lib/python3.10/dist-packages (from aiohttp->torch_geometric) (6.1.0)\n",
            "Requirement already satisfied: propcache>=0.2.0 in /usr/local/lib/python3.10/dist-packages (from aiohttp->torch_geometric) (0.2.0)\n",
            "Requirement already satisfied: yarl<2.0,>=1.17.0 in /usr/local/lib/python3.10/dist-packages (from aiohttp->torch_geometric) (1.17.2)\n",
            "Requirement already satisfied: async-timeout<6.0,>=4.0 in /usr/local/lib/python3.10/dist-packages (from aiohttp->torch_geometric) (4.0.3)\n",
            "Requirement already satisfied: MarkupSafe>=2.0 in /usr/local/lib/python3.10/dist-packages (from jinja2->torch) (3.0.2)\n",
            "Requirement already satisfied: charset-normalizer<4,>=2 in /usr/local/lib/python3.10/dist-packages (from requests->torch_geometric) (3.4.0)\n",
            "Requirement already satisfied: idna<4,>=2.5 in /usr/local/lib/python3.10/dist-packages (from requests->torch_geometric) (3.10)\n",
            "Requirement already satisfied: urllib3<3,>=1.21.1 in /usr/local/lib/python3.10/dist-packages (from requests->torch_geometric) (2.2.3)\n",
            "Requirement already satisfied: certifi>=2017.4.17 in /usr/local/lib/python3.10/dist-packages (from requests->torch_geometric) (2024.8.30)\n",
            "Downloading torch_geometric-2.6.1-py3-none-any.whl (1.1 MB)\n",
            "\u001b[2K   \u001b[90m━━━━━━━━━━━━━━━━━━━━━━━━━━━━━━━━━━━━━━━━\u001b[0m \u001b[32m1.1/1.1 MB\u001b[0m \u001b[31m25.8 MB/s\u001b[0m eta \u001b[36m0:00:00\u001b[0m\n",
            "\u001b[?25hDownloading optuna-4.1.0-py3-none-any.whl (364 kB)\n",
            "\u001b[2K   \u001b[90m━━━━━━━━━━━━━━━━━━━━━━━━━━━━━━━━━━━━━━━━\u001b[0m \u001b[32m364.4/364.4 kB\u001b[0m \u001b[31m14.9 MB/s\u001b[0m eta \u001b[36m0:00:00\u001b[0m\n",
            "\u001b[?25hDownloading alembic-1.14.0-py3-none-any.whl (233 kB)\n",
            "\u001b[2K   \u001b[90m━━━━━━━━━━━━━━━━━━━━━━━━━━━━━━━━━━━━━━━━\u001b[0m \u001b[32m233.5/233.5 kB\u001b[0m \u001b[31m13.0 MB/s\u001b[0m eta \u001b[36m0:00:00\u001b[0m\n",
            "\u001b[?25hDownloading colorlog-6.9.0-py3-none-any.whl (11 kB)\n",
            "Downloading Mako-1.3.6-py3-none-any.whl (78 kB)\n",
            "\u001b[2K   \u001b[90m━━━━━━━━━━━━━━━━━━━━━━━━━━━━━━━━━━━━━━━━\u001b[0m \u001b[32m78.6/78.6 kB\u001b[0m \u001b[31m2.2 MB/s\u001b[0m eta \u001b[36m0:00:00\u001b[0m\n",
            "\u001b[?25hInstalling collected packages: Mako, colorlog, alembic, optuna, torch_geometric\n",
            "Successfully installed Mako-1.3.6 alembic-1.14.0 colorlog-6.9.0 optuna-4.1.0 torch_geometric-2.6.1\n"
          ]
        }
      ],
      "source": [
        "# Asegúrate de tener PyTorch Geometric y Optuna instalados en Colab.\n",
        "!pip install torch torch_geometric optuna"
      ]
    },
    {
      "cell_type": "code",
      "source": [
        "import torch\n",
        "import torch.nn.functional as F\n",
        "from torch_geometric.nn import GATConv\n",
        "from torch_geometric.datasets import Planetoid\n",
        "import optuna\n",
        "import matplotlib.pyplot as plt"
      ],
      "metadata": {
        "id": "fimraJs4tGbR"
      },
      "execution_count": null,
      "outputs": []
    },
    {
      "cell_type": "code",
      "source": [
        "# Cargar el conjunto de datos de ejemplo (Cora)\n",
        "dataset = Planetoid(root='data/Cora', name='Cora')\n",
        "data = dataset[0]"
      ],
      "metadata": {
        "colab": {
          "base_uri": "https://localhost:8080/"
        },
        "id": "kAuAjpT9tu2W",
        "outputId": "54e5afc9-890b-4341-dcba-e0795934b5ad"
      },
      "execution_count": null,
      "outputs": [
        {
          "output_type": "stream",
          "name": "stderr",
          "text": [
            "Downloading https://github.com/kimiyoung/planetoid/raw/master/data/ind.cora.x\n",
            "Downloading https://github.com/kimiyoung/planetoid/raw/master/data/ind.cora.tx\n",
            "Downloading https://github.com/kimiyoung/planetoid/raw/master/data/ind.cora.allx\n",
            "Downloading https://github.com/kimiyoung/planetoid/raw/master/data/ind.cora.y\n",
            "Downloading https://github.com/kimiyoung/planetoid/raw/master/data/ind.cora.ty\n",
            "Downloading https://github.com/kimiyoung/planetoid/raw/master/data/ind.cora.ally\n",
            "Downloading https://github.com/kimiyoung/planetoid/raw/master/data/ind.cora.graph\n",
            "Downloading https://github.com/kimiyoung/planetoid/raw/master/data/ind.cora.test.index\n",
            "Processing...\n",
            "Done!\n"
          ]
        }
      ]
    },
    {
      "cell_type": "markdown",
      "source": [
        "# **Definir el Modelo de GAT Conv**"
      ],
      "metadata": {
        "id": "i3lKscQUt0d9"
      }
    },
    {
      "cell_type": "code",
      "source": [
        "class GAT(torch.nn.Module):\n",
        "    def __init__(self, in_channels, out_channels, heads, concat, negative_slope, dropout, add_self_loops, edge_dim, fill_value, bias, residual):\n",
        "        super(GAT, self).__init__()\n",
        "        self.conv1 = GATConv(\n",
        "            in_channels=in_channels,\n",
        "            out_channels=out_channels,\n",
        "            heads=heads,\n",
        "            concat=concat,\n",
        "            negative_slope=negative_slope,\n",
        "            dropout=dropout,\n",
        "            add_self_loops=add_self_loops,\n",
        "            edge_dim=edge_dim,\n",
        "            fill_value=fill_value,\n",
        "            bias=bias,\n",
        "            residual=residual\n",
        "        )\n",
        "\n",
        "        self.in_Channels_2 = (out_channels * heads if concat == True else out_channels)\n",
        "\n",
        "        # Asegurar que conv2 tenga la dimensión correcta basada en la salida de conv1\n",
        "        self.conv2 = GATConv(\n",
        "            in_channels = self.in_Channels_2,\n",
        "            out_channels = dataset.num_classes,\n",
        "            heads=1,\n",
        "            concat=False,\n",
        "            dropout=dropout\n",
        "        )\n",
        "\n",
        "    def forward(self, x, edge_index):\n",
        "        x = self.conv1(x, edge_index)\n",
        "        x = F.elu(x)\n",
        "        x = F.dropout(x, training=self.training)\n",
        "        x = self.conv2(x, edge_index)\n",
        "        return F.log_softmax(x, dim=1)"
      ],
      "metadata": {
        "id": "CRL1IVH_t-P2"
      },
      "execution_count": null,
      "outputs": []
    },
    {
      "cell_type": "markdown",
      "source": [
        "# **Definir la Función de Entrenamiento**"
      ],
      "metadata": {
        "id": "uaFQ-5o8uA-I"
      }
    },
    {
      "cell_type": "code",
      "source": [
        "def train(model, data, optimizer):\n",
        "    model.train()\n",
        "    optimizer.zero_grad()\n",
        "    output = model(data.x, data.edge_index)\n",
        "    loss = F.nll_loss(output[data.train_mask], data.y[data.train_mask])  # Ajusta la pérdida según tu problema\n",
        "    loss.backward()\n",
        "    optimizer.step()\n",
        "    return loss.item()"
      ],
      "metadata": {
        "id": "MW_08DNG1v6K"
      },
      "execution_count": null,
      "outputs": []
    },
    {
      "cell_type": "markdown",
      "source": [
        "# **Definir la Función de Evaluación**"
      ],
      "metadata": {
        "id": "rgyUdsxF11vT"
      }
    },
    {
      "cell_type": "code",
      "source": [
        "def test(model, data):\n",
        "    model.eval()\n",
        "    with torch.no_grad():\n",
        "        output = model(data.x, data.edge_index)\n",
        "        pred = output.argmax(dim=1)\n",
        "        correct = (pred[data.test_mask] == data.y[data.test_mask]).sum().item()\n",
        "        accuracy = correct / data.test_mask.sum().item()\n",
        "    return accuracy"
      ],
      "metadata": {
        "id": "jKocVGXl1zNR"
      },
      "execution_count": null,
      "outputs": []
    },
    {
      "cell_type": "markdown",
      "source": [
        "# **Configurar la Función de Objetivo de Optuna**"
      ],
      "metadata": {
        "id": "wHSVLByV18vT"
      }
    },
    {
      "cell_type": "code",
      "source": [
        "def objective(trial):\n",
        "    try:\n",
        "        # Hiperparámetros de GATConv a optimizar\n",
        "        in_channels = dataset.num_features\n",
        "        out_channels = trial.suggest_int(\"out_channels\", 4, 32)\n",
        "        heads = trial.suggest_int(\"heads\", 1, 4)\n",
        "        concat = trial.suggest_categorical(\"concat\", [True, False])\n",
        "        negative_slope = trial.suggest_float(\"negative_slope\", 0.1, 0.3)\n",
        "        dropout = trial.suggest_float(\"dropout\", 0.0, 0.6)\n",
        "        add_self_loops = trial.suggest_categorical(\"add_self_loops\", [True, False])\n",
        "        bias = trial.suggest_categorical(\"bias\", [True, False])\n",
        "        residual = trial.suggest_categorical(\"residual\", [True, False])\n",
        "        edge_dim = None\n",
        "        fill_value = 'mean'\n",
        "\n",
        "        # Crear el modelo con los hiperparámetros elegidos\n",
        "        model = GAT(\n",
        "            in_channels=in_channels,\n",
        "            out_channels=out_channels,\n",
        "            heads=heads,\n",
        "            concat=concat,\n",
        "            negative_slope=negative_slope,\n",
        "            dropout=dropout,\n",
        "            add_self_loops=add_self_loops,\n",
        "            edge_dim=edge_dim,\n",
        "            fill_value=fill_value,\n",
        "            bias=bias,\n",
        "            residual=residual\n",
        "        )\n",
        "\n",
        "        # Configurar el optimizador\n",
        "        learning_rate = trial.suggest_float(\"lr\", 1e-4, 1e-2, log=True)\n",
        "        optimizer = torch.optim.Adam(model.parameters(), lr=learning_rate)\n",
        "\n",
        "        # Entrenamiento y evaluación del modelo\n",
        "        for epoch in range(100):\n",
        "            train(model, data, optimizer)\n",
        "\n",
        "        # Evaluar precisión en el conjunto de prueba\n",
        "        accuracy = test(model, data)\n",
        "        return accuracy\n",
        "\n",
        "    except RuntimeError as e:\n",
        "        # Si hay un error de dimensión, se registra el fallo y se devuelve None\n",
        "        print(f\"Trial fallido con error: {e}\")\n",
        "        return None"
      ],
      "metadata": {
        "id": "MnfnjejB14-y"
      },
      "execution_count": null,
      "outputs": []
    },
    {
      "cell_type": "markdown",
      "source": [
        "# **Ejecutar la Optimización de Hiperparámetros**"
      ],
      "metadata": {
        "id": "8xiMfvr42D-V"
      }
    },
    {
      "cell_type": "code",
      "source": [
        "study = optuna.create_study(direction=\"maximize\")\n",
        "study.optimize(objective, n_trials=50)\n",
        "\n",
        "# Imprimir los mejores hiperparámetros encontrados\n",
        "print(\"Mejores hiperparámetros:\", study.best_params)\n",
        "print(\"Mejor precisión:\", study.best_value)"
      ],
      "metadata": {
        "colab": {
          "base_uri": "https://localhost:8080/"
        },
        "id": "CjMbBtN72Btz",
        "outputId": "4524700e-3f6e-496e-b23f-7e5d9d36cb22"
      },
      "execution_count": null,
      "outputs": [
        {
          "output_type": "stream",
          "name": "stderr",
          "text": [
            "[I 2024-11-21 20:38:00,172] A new study created in memory with name: no-name-cfd2e882-d9a2-49de-9c33-9830d65d1778\n",
            "[I 2024-11-21 20:38:07,398] Trial 0 finished with value: 0.784 and parameters: {'out_channels': 32, 'heads': 3, 'concat': True, 'negative_slope': 0.2733480465112832, 'dropout': 0.3888072084955692, 'add_self_loops': True, 'bias': True, 'residual': False, 'lr': 0.0037861900323756053}. Best is trial 0 with value: 0.784.\n",
            "[I 2024-11-21 20:38:10,367] Trial 1 finished with value: 0.8 and parameters: {'out_channels': 14, 'heads': 1, 'concat': True, 'negative_slope': 0.26433166381994067, 'dropout': 0.2849413388529044, 'add_self_loops': True, 'bias': True, 'residual': False, 'lr': 0.003102393459560976}. Best is trial 1 with value: 0.8.\n",
            "[I 2024-11-21 20:38:13,313] Trial 2 finished with value: 0.786 and parameters: {'out_channels': 9, 'heads': 2, 'concat': True, 'negative_slope': 0.17483803392578895, 'dropout': 0.5385143326214786, 'add_self_loops': False, 'bias': False, 'residual': False, 'lr': 0.009392160563611156}. Best is trial 1 with value: 0.8.\n",
            "[I 2024-11-21 20:38:19,613] Trial 3 finished with value: 0.787 and parameters: {'out_channels': 7, 'heads': 4, 'concat': True, 'negative_slope': 0.23383471787012872, 'dropout': 0.18555079306410394, 'add_self_loops': True, 'bias': True, 'residual': True, 'lr': 0.0008292317116781682}. Best is trial 1 with value: 0.8.\n",
            "[I 2024-11-21 20:38:24,054] Trial 4 finished with value: 0.785 and parameters: {'out_channels': 14, 'heads': 4, 'concat': True, 'negative_slope': 0.20693358399088396, 'dropout': 0.08190473249708731, 'add_self_loops': True, 'bias': True, 'residual': False, 'lr': 0.0018192883482556332}. Best is trial 1 with value: 0.8.\n",
            "[I 2024-11-21 20:38:31,574] Trial 5 finished with value: 0.807 and parameters: {'out_channels': 26, 'heads': 4, 'concat': True, 'negative_slope': 0.16533868404624108, 'dropout': 0.31842704964476815, 'add_self_loops': True, 'bias': False, 'residual': False, 'lr': 0.0005446414302866644}. Best is trial 5 with value: 0.807.\n",
            "[I 2024-11-21 20:38:34,990] Trial 6 finished with value: 0.639 and parameters: {'out_channels': 4, 'heads': 2, 'concat': True, 'negative_slope': 0.10997300272160385, 'dropout': 0.01710764055548375, 'add_self_loops': True, 'bias': False, 'residual': True, 'lr': 0.0002172595520295498}. Best is trial 5 with value: 0.807.\n",
            "[I 2024-11-21 20:38:39,106] Trial 7 finished with value: 0.745 and parameters: {'out_channels': 32, 'heads': 1, 'concat': True, 'negative_slope': 0.21516977293627237, 'dropout': 0.15740273269173527, 'add_self_loops': False, 'bias': False, 'residual': True, 'lr': 0.0002495222532844618}. Best is trial 5 with value: 0.807.\n",
            "[I 2024-11-21 20:38:42,857] Trial 8 finished with value: 0.746 and parameters: {'out_channels': 5, 'heads': 1, 'concat': True, 'negative_slope': 0.2895849039244871, 'dropout': 0.4143323663117332, 'add_self_loops': False, 'bias': True, 'residual': True, 'lr': 0.003558867712185463}. Best is trial 5 with value: 0.807.\n",
            "[I 2024-11-21 20:38:47,866] Trial 9 finished with value: 0.764 and parameters: {'out_channels': 32, 'heads': 1, 'concat': True, 'negative_slope': 0.25262193091858287, 'dropout': 0.14522125222935053, 'add_self_loops': False, 'bias': True, 'residual': True, 'lr': 0.00037380193252461546}. Best is trial 5 with value: 0.807.\n",
            "[I 2024-11-21 20:38:53,231] Trial 10 finished with value: 0.796 and parameters: {'out_channels': 24, 'heads': 3, 'concat': False, 'negative_slope': 0.15685104559561155, 'dropout': 0.5209797345464797, 'add_self_loops': True, 'bias': False, 'residual': False, 'lr': 0.0006507926035466461}. Best is trial 5 with value: 0.807.\n",
            "[I 2024-11-21 20:38:59,198] Trial 11 finished with value: 0.78 and parameters: {'out_channels': 22, 'heads': 3, 'concat': False, 'negative_slope': 0.14954257177071203, 'dropout': 0.29807860322958524, 'add_self_loops': True, 'bias': False, 'residual': False, 'lr': 0.0018172736061711876}. Best is trial 5 with value: 0.807.\n",
            "[I 2024-11-21 20:39:02,691] Trial 12 finished with value: 0.676 and parameters: {'out_channels': 17, 'heads': 2, 'concat': False, 'negative_slope': 0.11598070328829577, 'dropout': 0.2848950310366881, 'add_self_loops': True, 'bias': True, 'residual': False, 'lr': 0.00010803239412428881}. Best is trial 5 with value: 0.807.\n",
            "[I 2024-11-21 20:39:10,294] Trial 13 finished with value: 0.789 and parameters: {'out_channels': 25, 'heads': 4, 'concat': True, 'negative_slope': 0.18527597213797345, 'dropout': 0.39856112446931874, 'add_self_loops': True, 'bias': False, 'residual': False, 'lr': 0.0015594194420141606}. Best is trial 5 with value: 0.807.\n",
            "[I 2024-11-21 20:39:13,642] Trial 14 finished with value: 0.793 and parameters: {'out_channels': 12, 'heads': 2, 'concat': False, 'negative_slope': 0.25241635885293773, 'dropout': 0.23276436205282736, 'add_self_loops': True, 'bias': True, 'residual': False, 'lr': 0.004600006190680033}. Best is trial 5 with value: 0.807.\n",
            "[I 2024-11-21 20:39:18,273] Trial 15 finished with value: 0.798 and parameters: {'out_channels': 20, 'heads': 3, 'concat': True, 'negative_slope': 0.2991822234289862, 'dropout': 0.35915955750117556, 'add_self_loops': True, 'bias': False, 'residual': False, 'lr': 0.0005016708201667274}. Best is trial 5 with value: 0.807.\n",
            "[I 2024-11-21 20:39:22,811] Trial 16 finished with value: 0.797 and parameters: {'out_channels': 27, 'heads': 1, 'concat': True, 'negative_slope': 0.1426504737698519, 'dropout': 0.4744623193416223, 'add_self_loops': True, 'bias': False, 'residual': False, 'lr': 0.0011665745935493833}. Best is trial 5 with value: 0.807.\n",
            "[I 2024-11-21 20:39:28,863] Trial 17 finished with value: 0.794 and parameters: {'out_channels': 17, 'heads': 4, 'concat': True, 'negative_slope': 0.23203731423599946, 'dropout': 0.2524338183606819, 'add_self_loops': True, 'bias': True, 'residual': False, 'lr': 0.009648409433446952}. Best is trial 5 with value: 0.807.\n",
            "[I 2024-11-21 20:39:34,231] Trial 18 finished with value: 0.774 and parameters: {'out_channels': 28, 'heads': 3, 'concat': False, 'negative_slope': 0.18035633836375758, 'dropout': 0.5908838802797486, 'add_self_loops': False, 'bias': True, 'residual': False, 'lr': 0.0028903566495744933}. Best is trial 5 with value: 0.807.\n",
            "[I 2024-11-21 20:39:38,559] Trial 19 finished with value: 0.81 and parameters: {'out_channels': 13, 'heads': 2, 'concat': True, 'negative_slope': 0.12806562874327224, 'dropout': 0.3637153302259624, 'add_self_loops': True, 'bias': False, 'residual': False, 'lr': 0.005661338797450084}. Best is trial 19 with value: 0.81.\n",
            "[I 2024-11-21 20:39:41,766] Trial 20 finished with value: 0.792 and parameters: {'out_channels': 10, 'heads': 2, 'concat': True, 'negative_slope': 0.13525368030858648, 'dropout': 0.3508577992718773, 'add_self_loops': True, 'bias': False, 'residual': False, 'lr': 0.00554547069153893}. Best is trial 19 with value: 0.81.\n",
            "[I 2024-11-21 20:39:44,670] Trial 21 finished with value: 0.791 and parameters: {'out_channels': 14, 'heads': 1, 'concat': True, 'negative_slope': 0.12506701393244685, 'dropout': 0.3299254737953237, 'add_self_loops': True, 'bias': False, 'residual': False, 'lr': 0.0065025012315302845}. Best is trial 19 with value: 0.81.\n",
            "[I 2024-11-21 20:39:48,086] Trial 22 finished with value: 0.758 and parameters: {'out_channels': 15, 'heads': 2, 'concat': True, 'negative_slope': 0.16790329328103998, 'dropout': 0.45022544440678125, 'add_self_loops': True, 'bias': False, 'residual': False, 'lr': 0.0024604511862269265}. Best is trial 19 with value: 0.81.\n",
            "[I 2024-11-21 20:39:52,269] Trial 23 finished with value: 0.771 and parameters: {'out_channels': 20, 'heads': 1, 'concat': True, 'negative_slope': 0.19399403299337553, 'dropout': 0.21829396176947202, 'add_self_loops': True, 'bias': False, 'residual': False, 'lr': 0.0010668949256859954}. Best is trial 19 with value: 0.81.\n",
            "[I 2024-11-21 20:39:55,422] Trial 24 finished with value: 0.79 and parameters: {'out_channels': 11, 'heads': 2, 'concat': True, 'negative_slope': 0.10329763689151174, 'dropout': 0.2816430963643884, 'add_self_loops': True, 'bias': False, 'residual': False, 'lr': 0.006884206189213064}. Best is trial 19 with value: 0.81.\n",
            "[I 2024-11-21 20:39:59,666] Trial 25 finished with value: 0.771 and parameters: {'out_channels': 18, 'heads': 3, 'concat': True, 'negative_slope': 0.16143938196796034, 'dropout': 0.33920621084974245, 'add_self_loops': True, 'bias': False, 'residual': False, 'lr': 0.000376847193898735}. Best is trial 19 with value: 0.81.\n",
            "[I 2024-11-21 20:40:03,208] Trial 26 finished with value: 0.737 and parameters: {'out_channels': 8, 'heads': 1, 'concat': False, 'negative_slope': 0.13292123513230797, 'dropout': 0.4515633192447043, 'add_self_loops': False, 'bias': True, 'residual': True, 'lr': 0.002534071678416237}. Best is trial 19 with value: 0.81.\n",
            "[I 2024-11-21 20:40:08,036] Trial 27 finished with value: 0.792 and parameters: {'out_channels': 13, 'heads': 4, 'concat': True, 'negative_slope': 0.2240084178420969, 'dropout': 0.316741492460511, 'add_self_loops': True, 'bias': False, 'residual': False, 'lr': 0.0007884583318979979}. Best is trial 19 with value: 0.81.\n",
            "[I 2024-11-21 20:40:11,395] Trial 28 finished with value: 0.697 and parameters: {'out_channels': 20, 'heads': 2, 'concat': True, 'negative_slope': 0.2538577016640433, 'dropout': 0.10535137822609703, 'add_self_loops': True, 'bias': True, 'residual': False, 'lr': 0.00010188531582235674}. Best is trial 19 with value: 0.81.\n",
            "[I 2024-11-21 20:40:15,627] Trial 29 finished with value: 0.786 and parameters: {'out_channels': 16, 'heads': 3, 'concat': True, 'negative_slope': 0.1947826949238728, 'dropout': 0.3787867710526421, 'add_self_loops': True, 'bias': True, 'residual': False, 'lr': 0.0041185067179136045}. Best is trial 19 with value: 0.81.\n",
            "[I 2024-11-21 20:40:19,718] Trial 30 finished with value: 0.794 and parameters: {'out_channels': 29, 'heads': 1, 'concat': True, 'negative_slope': 0.27176307048350756, 'dropout': 0.20718048240749576, 'add_self_loops': True, 'bias': False, 'residual': False, 'lr': 0.0013428773568462022}. Best is trial 19 with value: 0.81.\n",
            "[I 2024-11-21 20:40:24,726] Trial 31 finished with value: 0.771 and parameters: {'out_channels': 22, 'heads': 3, 'concat': True, 'negative_slope': 0.2994650817079709, 'dropout': 0.3775287827380835, 'add_self_loops': True, 'bias': False, 'residual': False, 'lr': 0.0005173731355320035}. Best is trial 19 with value: 0.81.\n",
            "[I 2024-11-21 20:40:30,312] Trial 32 finished with value: 0.796 and parameters: {'out_channels': 20, 'heads': 3, 'concat': True, 'negative_slope': 0.2820529028897806, 'dropout': 0.2609419263827542, 'add_self_loops': True, 'bias': False, 'residual': False, 'lr': 0.000441960573459415}. Best is trial 19 with value: 0.81.\n",
            "[I 2024-11-21 20:40:36,697] Trial 33 finished with value: 0.792 and parameters: {'out_channels': 22, 'heads': 4, 'concat': True, 'negative_slope': 0.26759821236422354, 'dropout': 0.41606633160559264, 'add_self_loops': True, 'bias': False, 'residual': False, 'lr': 0.0002472551196554971}. Best is trial 19 with value: 0.81.\n",
            "[I 2024-11-21 20:40:44,520] Trial 34 finished with value: 0.778 and parameters: {'out_channels': 25, 'heads': 4, 'concat': True, 'negative_slope': 0.29996825929574095, 'dropout': 0.35766261218510315, 'add_self_loops': True, 'bias': False, 'residual': False, 'lr': 0.0006992079834689639}. Best is trial 19 with value: 0.81.\n",
            "[I 2024-11-21 20:40:49,167] Trial 35 finished with value: 0.779 and parameters: {'out_channels': 19, 'heads': 3, 'concat': True, 'negative_slope': 0.264330370114212, 'dropout': 0.5065482663018656, 'add_self_loops': True, 'bias': False, 'residual': False, 'lr': 0.00030968319562974536}. Best is trial 19 with value: 0.81.\n",
            "[I 2024-11-21 20:40:53,304] Trial 36 finished with value: 0.695 and parameters: {'out_channels': 12, 'heads': 2, 'concat': True, 'negative_slope': 0.28090678094662164, 'dropout': 0.29720647873421435, 'add_self_loops': False, 'bias': False, 'residual': True, 'lr': 0.0001589842127597717}. Best is trial 19 with value: 0.81.\n",
            "[I 2024-11-21 20:40:57,665] Trial 37 finished with value: 0.794 and parameters: {'out_channels': 6, 'heads': 4, 'concat': True, 'negative_slope': 0.16992935682533591, 'dropout': 0.4193779953829101, 'add_self_loops': True, 'bias': True, 'residual': False, 'lr': 0.0005782902174525591}. Best is trial 19 with value: 0.81.\n",
            "[I 2024-11-21 20:41:01,902] Trial 38 finished with value: 0.779 and parameters: {'out_channels': 9, 'heads': 2, 'concat': True, 'negative_slope': 0.20967030978167395, 'dropout': 0.18627745648416444, 'add_self_loops': False, 'bias': False, 'residual': True, 'lr': 0.0010098024538585475}. Best is trial 19 with value: 0.81.\n",
            "[I 2024-11-21 20:41:08,524] Trial 39 finished with value: 0.779 and parameters: {'out_channels': 30, 'heads': 3, 'concat': True, 'negative_slope': 0.24300704123828298, 'dropout': 0.32428601529480394, 'add_self_loops': True, 'bias': True, 'residual': False, 'lr': 0.003429813462565587}. Best is trial 19 with value: 0.81.\n",
            "[I 2024-11-21 20:41:14,483] Trial 40 finished with value: 0.797 and parameters: {'out_channels': 14, 'heads': 4, 'concat': False, 'negative_slope': 0.2875563348834115, 'dropout': 0.2582038620635879, 'add_self_loops': True, 'bias': False, 'residual': True, 'lr': 0.007463461966533758}. Best is trial 19 with value: 0.81.\n",
            "[I 2024-11-21 20:41:17,575] Trial 41 finished with value: 0.777 and parameters: {'out_channels': 27, 'heads': 1, 'concat': True, 'negative_slope': 0.13796159825259294, 'dropout': 0.5639500647310094, 'add_self_loops': True, 'bias': False, 'residual': False, 'lr': 0.0012533153524203642}. Best is trial 19 with value: 0.81.\n",
            "[I 2024-11-21 20:41:21,186] Trial 42 finished with value: 0.774 and parameters: {'out_channels': 26, 'heads': 1, 'concat': True, 'negative_slope': 0.14736052923021462, 'dropout': 0.46486254598723986, 'add_self_loops': True, 'bias': False, 'residual': False, 'lr': 0.0008617896942107101}. Best is trial 19 with value: 0.81.\n",
            "[I 2024-11-21 20:41:25,139] Trial 43 finished with value: 0.796 and parameters: {'out_channels': 30, 'heads': 1, 'concat': True, 'negative_slope': 0.120811384017537, 'dropout': 0.48310113681760153, 'add_self_loops': True, 'bias': False, 'residual': False, 'lr': 0.0019124302400628887}. Best is trial 19 with value: 0.81.\n",
            "[I 2024-11-21 20:41:27,992] Trial 44 finished with value: 0.794 and parameters: {'out_channels': 24, 'heads': 1, 'concat': True, 'negative_slope': 0.1451893068211037, 'dropout': 0.3696491315724892, 'add_self_loops': True, 'bias': False, 'residual': False, 'lr': 0.005167290627539658}. Best is trial 19 with value: 0.81.\n",
            "[I 2024-11-21 20:41:30,440] Trial 45 finished with value: 0.742 and parameters: {'out_channels': 16, 'heads': 1, 'concat': True, 'negative_slope': 0.15979219269478034, 'dropout': 0.42752473941082997, 'add_self_loops': True, 'bias': False, 'residual': False, 'lr': 0.0005037265697947479}. Best is trial 19 with value: 0.81.\n",
            "[I 2024-11-21 20:41:35,485] Trial 46 finished with value: 0.779 and parameters: {'out_channels': 32, 'heads': 2, 'concat': True, 'negative_slope': 0.11504113126469735, 'dropout': 0.39740243234413325, 'add_self_loops': False, 'bias': True, 'residual': False, 'lr': 0.00035629763189396076}. Best is trial 19 with value: 0.81.\n",
            "[I 2024-11-21 20:41:38,776] Trial 47 finished with value: 0.661 and parameters: {'out_channels': 27, 'heads': 1, 'concat': False, 'negative_slope': 0.10009883139197615, 'dropout': 0.49790391512445586, 'add_self_loops': True, 'bias': False, 'residual': False, 'lr': 0.00017207275469119786}. Best is trial 19 with value: 0.81.\n",
            "[I 2024-11-21 20:41:45,392] Trial 48 finished with value: 0.814 and parameters: {'out_channels': 30, 'heads': 2, 'concat': True, 'negative_slope': 0.12750270165229513, 'dropout': 0.5304567629726675, 'add_self_loops': True, 'bias': True, 'residual': True, 'lr': 0.001943496468471772}. Best is trial 48 with value: 0.814.\n",
            "[I 2024-11-21 20:41:53,259] Trial 49 finished with value: 0.795 and parameters: {'out_channels': 30, 'heads': 2, 'concat': True, 'negative_slope': 0.17952952038903353, 'dropout': 0.5449732068917121, 'add_self_loops': True, 'bias': True, 'residual': True, 'lr': 0.002245232779682478}. Best is trial 48 with value: 0.814.\n"
          ]
        },
        {
          "output_type": "stream",
          "name": "stdout",
          "text": [
            "Mejores hiperparámetros: {'out_channels': 30, 'heads': 2, 'concat': True, 'negative_slope': 0.12750270165229513, 'dropout': 0.5304567629726675, 'add_self_loops': True, 'bias': True, 'residual': True, 'lr': 0.001943496468471772}\n",
            "Mejor precisión: 0.814\n"
          ]
        }
      ]
    },
    {
      "cell_type": "code",
      "source": [
        "best_params = study.best_params\n",
        "model = GAT(dataset.num_features, dataset.num_classes, heads=best_params[\"heads\"], dropout=best_params[\"dropout\"])\n",
        "optimizer = torch.optim.Adam(model.parameters(), lr=best_params[\"lr\"])\n",
        "\n",
        "for epoch in range(100):\n",
        "    loss = train(model, data, optimizer)\n",
        "\n",
        "accuracy = test(model, data)\n",
        "print(f\"Precisión final en el conjunto de prueba: {accuracy:.4f}\")"
      ],
      "metadata": {
        "colab": {
          "base_uri": "https://localhost:8080/",
          "height": 211
        },
        "id": "6dqV3Djn2Hk0",
        "outputId": "4ffdb620-6d58-4c0d-b2ae-e459fa567377"
      },
      "execution_count": null,
      "outputs": [
        {
          "output_type": "error",
          "ename": "TypeError",
          "evalue": "GAT.__init__() missing 7 required positional arguments: 'concat', 'negative_slope', 'add_self_loops', 'edge_dim', 'fill_value', 'bias', and 'residual'",
          "traceback": [
            "\u001b[0;31m---------------------------------------------------------------------------\u001b[0m",
            "\u001b[0;31mTypeError\u001b[0m                                 Traceback (most recent call last)",
            "\u001b[0;32m<ipython-input-28-334ea4c7a9b4>\u001b[0m in \u001b[0;36m<cell line: 2>\u001b[0;34m()\u001b[0m\n\u001b[1;32m      1\u001b[0m \u001b[0mbest_params\u001b[0m \u001b[0;34m=\u001b[0m \u001b[0mstudy\u001b[0m\u001b[0;34m.\u001b[0m\u001b[0mbest_params\u001b[0m\u001b[0;34m\u001b[0m\u001b[0;34m\u001b[0m\u001b[0m\n\u001b[0;32m----> 2\u001b[0;31m \u001b[0mmodel\u001b[0m \u001b[0;34m=\u001b[0m \u001b[0mGAT\u001b[0m\u001b[0;34m(\u001b[0m\u001b[0mdataset\u001b[0m\u001b[0;34m.\u001b[0m\u001b[0mnum_features\u001b[0m\u001b[0;34m,\u001b[0m \u001b[0mdataset\u001b[0m\u001b[0;34m.\u001b[0m\u001b[0mnum_classes\u001b[0m\u001b[0;34m,\u001b[0m \u001b[0mheads\u001b[0m\u001b[0;34m=\u001b[0m\u001b[0mbest_params\u001b[0m\u001b[0;34m[\u001b[0m\u001b[0;34m\"heads\"\u001b[0m\u001b[0;34m]\u001b[0m\u001b[0;34m,\u001b[0m \u001b[0mdropout\u001b[0m\u001b[0;34m=\u001b[0m\u001b[0mbest_params\u001b[0m\u001b[0;34m[\u001b[0m\u001b[0;34m\"dropout\"\u001b[0m\u001b[0;34m]\u001b[0m\u001b[0;34m)\u001b[0m\u001b[0;34m\u001b[0m\u001b[0;34m\u001b[0m\u001b[0m\n\u001b[0m\u001b[1;32m      3\u001b[0m \u001b[0moptimizer\u001b[0m \u001b[0;34m=\u001b[0m \u001b[0mtorch\u001b[0m\u001b[0;34m.\u001b[0m\u001b[0moptim\u001b[0m\u001b[0;34m.\u001b[0m\u001b[0mAdam\u001b[0m\u001b[0;34m(\u001b[0m\u001b[0mmodel\u001b[0m\u001b[0;34m.\u001b[0m\u001b[0mparameters\u001b[0m\u001b[0;34m(\u001b[0m\u001b[0;34m)\u001b[0m\u001b[0;34m,\u001b[0m \u001b[0mlr\u001b[0m\u001b[0;34m=\u001b[0m\u001b[0mbest_params\u001b[0m\u001b[0;34m[\u001b[0m\u001b[0;34m\"lr\"\u001b[0m\u001b[0;34m]\u001b[0m\u001b[0;34m)\u001b[0m\u001b[0;34m\u001b[0m\u001b[0;34m\u001b[0m\u001b[0m\n\u001b[1;32m      4\u001b[0m \u001b[0;34m\u001b[0m\u001b[0m\n\u001b[1;32m      5\u001b[0m \u001b[0;32mfor\u001b[0m \u001b[0mepoch\u001b[0m \u001b[0;32min\u001b[0m \u001b[0mrange\u001b[0m\u001b[0;34m(\u001b[0m\u001b[0;36m100\u001b[0m\u001b[0;34m)\u001b[0m\u001b[0;34m:\u001b[0m\u001b[0;34m\u001b[0m\u001b[0;34m\u001b[0m\u001b[0m\n",
            "\u001b[0;31mTypeError\u001b[0m: GAT.__init__() missing 7 required positional arguments: 'concat', 'negative_slope', 'add_self_loops', 'edge_dim', 'fill_value', 'bias', and 'residual'"
          ]
        }
      ]
    },
    {
      "cell_type": "code",
      "source": [
        "# Gráfico de historia de la optimización\n",
        "optuna.visualization.plot_optimization_history(study).show()\n",
        "\n",
        "# Gráfico de importancia de los hiperparámetros\n",
        "optuna.visualization.plot_param_importances(study).show()"
      ],
      "metadata": {
        "id": "fPR8E34k5E8H"
      },
      "execution_count": null,
      "outputs": []
    }
  ]
}